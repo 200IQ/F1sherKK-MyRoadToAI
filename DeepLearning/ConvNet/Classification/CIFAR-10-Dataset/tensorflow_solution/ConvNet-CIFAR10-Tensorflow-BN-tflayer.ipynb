{
 "cells": [
  {
   "cell_type": "code",
   "execution_count": 1,
   "metadata": {
    "collapsed": true
   },
   "outputs": [],
   "source": [
    "import os\n",
    "import tarfile\n",
    "import numpy as np\n",
    "import pickle\n",
    "import random\n",
    "import matplotlib.pyplot as plt\n",
    "import matplotlib.patches as mpatches\n",
    "import tensorflow as tf\n",
    "from urllib.request import urlretrieve\n",
    "from tqdm import tqdm"
   ]
  },
  {
   "cell_type": "code",
   "execution_count": 2,
   "metadata": {
    "collapsed": true
   },
   "outputs": [],
   "source": [
    "%matplotlib inline"
   ]
  },
  {
   "cell_type": "markdown",
   "metadata": {},
   "source": [
    "#### Dataset info"
   ]
  },
  {
   "cell_type": "markdown",
   "metadata": {},
   "source": [
    "CIFAR-10 is a dataset of 60 000 32x32 colour images, collected by Alex Krizhevsky, Vinod Nair, and Geoffrey Hinton. There are 10 different classes with 6000 images per class:\n",
    "\n",
    "- airplane\n",
    "- automobile\n",
    "- bird\n",
    "- cat\n",
    "- deer\n",
    "- dog\n",
    "- frog\n",
    "- horse\n",
    "- ship\n",
    "- truck\n",
    "\n",
    "Dataset is divided into 5 batches with the following naming convention 'data_batch_1', 'data_batch_2' and so on..."
   ]
  },
  {
   "cell_type": "code",
   "execution_count": 3,
   "metadata": {
    "collapsed": true
   },
   "outputs": [],
   "source": [
    "#: https://www.cs.toronto.edu/~kriz/cifar.html\n",
    "DATA_URL = \"https://www.cs.toronto.edu/~kriz/cifar-10-python.tar.gz\"\n",
    "TARG_TZ_FILEPATH = \"./cifar-10-python.tar.gz\"\n",
    "CIFAR10_FILES_FOLDER = './cifar-10-batches-py/'\n",
    "\n",
    "TRAIN_BATCH_FILES = [\n",
    "    \"data_batch_1\",\n",
    "    \"data_batch_2\",\n",
    "    \"data_batch_3\",\n",
    "    \"data_batch_4\",\n",
    "    \"data_batch_5\"\n",
    "]\n",
    "\n",
    "TEST_BATCH_FILE = \"test_batch\"\n",
    "\n",
    "LABELS = ['airplane', 'automobile', 'bird', 'cat', 'deer', 'dog', 'frog', 'horse', 'ship', 'truck']\n",
    "NUM_CLASSES = 10\n",
    "\n",
    "MAX_PIXEL_VALUE = 255\n",
    "IMAGE_WIDTH = 32\n",
    "IMAGE_HEIGHT = 32\n",
    "CHANNELS = 3\n",
    "\n",
    "DATA_I = 0\n",
    "LABELS_I = 1"
   ]
  },
  {
   "cell_type": "markdown",
   "metadata": {},
   "source": [
    "#### Download dataset"
   ]
  },
  {
   "cell_type": "code",
   "execution_count": 4,
   "metadata": {
    "collapsed": true
   },
   "outputs": [],
   "source": [
    "class DLProgress(tqdm):\n",
    "    last_block = 0\n",
    "\n",
    "    def hook(self, block_num=1, block_size=1, total_size=None):\n",
    "        self.total = total_size\n",
    "        self.update((block_num - self.last_block) * block_size)\n",
    "        self.last_block = block_num\n",
    "\n",
    "if not os.path.isfile(TARG_TZ_FILEPATH):\n",
    "    with DLProgress(unit=\"B\", unit_scale=True, miniters=1, desc=\"CIFAR-10\") as pbar:\n",
    "        urlretrieve(DATA_URL, TARG_TZ_FILEPATH, pbar.hook)"
   ]
  },
  {
   "cell_type": "markdown",
   "metadata": {},
   "source": [
    "#### Exctracting data"
   ]
  },
  {
   "cell_type": "markdown",
   "metadata": {},
   "source": [
    "- Unpacking"
   ]
  },
  {
   "cell_type": "code",
   "execution_count": 5,
   "metadata": {
    "collapsed": true
   },
   "outputs": [],
   "source": [
    "if not os.path.isdir(CIFAR10_FILES_FOLDER):\n",
    "    with tarfile.open(TARG_TZ_FILEPATH) as tar:\n",
    "        tar.extractall()\n",
    "        tar.close()"
   ]
  },
  {
   "cell_type": "markdown",
   "metadata": {},
   "source": [
    "- Loading train batches"
   ]
  },
  {
   "cell_type": "code",
   "execution_count": 6,
   "metadata": {
    "collapsed": true
   },
   "outputs": [],
   "source": [
    "train_batches = list()\n",
    "\n",
    "for batch_file in TRAIN_BATCH_FILES: \n",
    "    with open(CIFAR10_FILES_FOLDER + batch_file, mode='rb') as file:\n",
    "        batch = pickle.load(file, encoding='latin1')\n",
    "        \n",
    "        # array of 10000 * 1 length\n",
    "        labels = batch['labels']\n",
    "        \n",
    "        # all channels in single 10000 * 3072 length array\n",
    "        batch_data = batch['data']\n",
    "        \n",
    "        # reshaping to 10000 * 3 * 32 * 32\n",
    "        data = batch_data.reshape((len(batch_data), CHANNELS, IMAGE_WIDTH, IMAGE_HEIGHT))\n",
    "        \n",
    "        # fix indexing\n",
    "        data = data.transpose(0, 2, 3, 1)\n",
    "  \n",
    "        train_batches.append((data, labels))"
   ]
  },
  {
   "cell_type": "markdown",
   "metadata": {},
   "source": [
    "- Load test batch"
   ]
  },
  {
   "cell_type": "code",
   "execution_count": 7,
   "metadata": {
    "collapsed": true
   },
   "outputs": [],
   "source": [
    "test_batch = None\n",
    "\n",
    "with open(CIFAR10_FILES_FOLDER + TEST_BATCH_FILE, mode='rb') as file:\n",
    "        batch = pickle.load(file, encoding='latin1')\n",
    "        \n",
    "        # array of 10000 * 1 length\n",
    "        labels = batch['labels']\n",
    "        \n",
    "         # all channels in single 10000 * 3072 length array\n",
    "        batch_data = batch['data']\n",
    "        \n",
    "        # reshaping to 10000 * 3 * 32 * 32\n",
    "        data = batch_data.reshape((len(batch_data), CHANNELS, IMAGE_WIDTH, IMAGE_HEIGHT))\n",
    "        \n",
    "        # fix indexing\n",
    "        data = data.transpose(0, 2, 3, 1)\n",
    "        \n",
    "        test_batch = (data, labels)"
   ]
  },
  {
   "cell_type": "markdown",
   "metadata": {},
   "source": [
    "#### Present extracted dataset"
   ]
  },
  {
   "cell_type": "code",
   "execution_count": 8,
   "metadata": {
    "collapsed": true
   },
   "outputs": [],
   "source": [
    "def present_batch(batch, batch_index):\n",
    "    features, labels = batch \n",
    "    print(\"Batch no.\" + str(batch_index))\n",
    "    print(\"    - Samples in batch: \" + str(len(features)))\n",
    "    print(\"    - Labels num: \" + str(dict(zip(*np.unique(labels, return_counts=True)))))\n",
    "    \n",
    "def present_sample(batch, sample_id):\n",
    "    features, labels = batch \n",
    "    \n",
    "    sample_image = features[sample_id]\n",
    "    sample_label = labels[sample_id]\n",
    "    \n",
    "    print(\"Sample no.\" + str(sample_id))\n",
    "    print(\"    - Min Value: {} Max Value: {}\".format(sample_image.min(), sample_image.max()))\n",
    "    print(\"    - Shape: {}\".format(sample_image.shape))\n",
    "    print(\"    - Label - Label Id: {} Name: {}\".format(sample_label, LABELS[sample_label]))\n",
    "    \n",
    "    plt.axis('off')\n",
    "    plt.imshow(sample_image)"
   ]
  },
  {
   "cell_type": "code",
   "execution_count": 9,
   "metadata": {
    "scrolled": true
   },
   "outputs": [
    {
     "name": "stdout",
     "output_type": "stream",
     "text": [
      "Batch no.0\n",
      "    - Samples in batch: 10000\n",
      "    - Labels num: {0: 1005, 1: 974, 2: 1032, 3: 1016, 4: 999, 5: 937, 6: 1030, 7: 1001, 8: 1025, 9: 981}\n",
      "Batch no.1\n",
      "    - Samples in batch: 10000\n",
      "    - Labels num: {0: 984, 1: 1007, 2: 1010, 3: 995, 4: 1010, 5: 988, 6: 1008, 7: 1026, 8: 987, 9: 985}\n",
      "Batch no.2\n",
      "    - Samples in batch: 10000\n",
      "    - Labels num: {0: 994, 1: 1042, 2: 965, 3: 997, 4: 990, 5: 1029, 6: 978, 7: 1015, 8: 961, 9: 1029}\n",
      "Batch no.3\n",
      "    - Samples in batch: 10000\n",
      "    - Labels num: {0: 1003, 1: 963, 2: 1041, 3: 976, 4: 1004, 5: 1021, 6: 1004, 7: 981, 8: 1024, 9: 983}\n",
      "Batch no.4\n",
      "    - Samples in batch: 10000\n",
      "    - Labels num: {0: 1014, 1: 1014, 2: 952, 3: 1016, 4: 997, 5: 1025, 6: 980, 7: 977, 8: 1003, 9: 1022}\n"
     ]
    }
   ],
   "source": [
    "for index, batch in enumerate(train_batches):\n",
    "    present_batch(batch, index)"
   ]
  },
  {
   "cell_type": "code",
   "execution_count": 10,
   "metadata": {},
   "outputs": [
    {
     "name": "stdout",
     "output_type": "stream",
     "text": [
      "Sample no.7164\n",
      "    - Min Value: 26 Max Value: 246\n",
      "    - Shape: (32, 32, 3)\n",
      "    - Label - Label Id: 5 Name: dog\n"
     ]
    },
    {
     "data": {
      "image/png": "[encoded data removed]",
      "text/plain": [
       "<matplotlib.figure.Figure at 0x11b8c05c0>"
      ]
     },
     "metadata": {},
     "output_type": "display_data"
    }
   ],
   "source": [
    "present_sample(train_batches[0], 7164)"
   ]
  },
  {
   "cell_type": "markdown",
   "metadata": {},
   "source": [
    "#### Split data into train, val , test sets"
   ]
  },
  {
   "cell_type": "markdown",
   "metadata": {},
   "source": [
    "- data is already shuffled"
   ]
  },
  {
   "cell_type": "markdown",
   "metadata": {},
   "source": [
    "- concat all batches together"
   ]
  },
  {
   "cell_type": "code",
   "execution_count": 11,
   "metadata": {
    "collapsed": true
   },
   "outputs": [],
   "source": [
    "train_data = list()\n",
    "train_labels = list()\n",
    "for batch in train_batches:\n",
    "    for data, label in zip(batch[DATA_I], batch[LABELS_I]):\n",
    "        train_data.append(data)\n",
    "        train_labels.append(label)\n",
    "assert len(train_data) == len(train_labels)\n",
    "        \n",
    "test_data = list()\n",
    "test_labels = list()\n",
    "for data, label in zip(test_batch[DATA_I], test_batch[LABELS_I]):\n",
    "    test_data.append(data)\n",
    "    test_labels.append(label)\n",
    "assert len(test_data) == len(test_labels)"
   ]
  },
  {
   "cell_type": "markdown",
   "metadata": {},
   "source": [
    "- split data"
   ]
  },
  {
   "cell_type": "code",
   "execution_count": 12,
   "metadata": {
    "collapsed": true
   },
   "outputs": [],
   "source": [
    "split_ratio = 0.2\n",
    "split_index = int(len(train_data) * split_ratio)\n",
    "\n",
    "val_data = train_data[:split_index]\n",
    "val_labels = train_labels[:split_index]\n",
    "\n",
    "train_data = train_data[split_index:]\n",
    "train_labels = train_labels[split_index:]"
   ]
  },
  {
   "cell_type": "code",
   "execution_count": 13,
   "metadata": {},
   "outputs": [
    {
     "name": "stdout",
     "output_type": "stream",
     "text": [
      "Train samples: 40000\n",
      "Validation samples: 10000\n",
      "Test samples: 10000\n"
     ]
    }
   ],
   "source": [
    "print(\"Train samples: \" + str(len(train_data)))\n",
    "print(\"Validation samples: \" + str(len(val_data)))\n",
    "print(\"Test samples: \" + str(len(test_data)))"
   ]
  },
  {
   "cell_type": "markdown",
   "metadata": {},
   "source": [
    "#### Preprocess data"
   ]
  },
  {
   "cell_type": "code",
   "execution_count": 14,
   "metadata": {
    "collapsed": true
   },
   "outputs": [],
   "source": [
    "def normalize(data):\n",
    "    return data / MAX_PIXEL_VALUE\n",
    "\n",
    "def ohe_label(label):\n",
    "    labels_num = len(LABELS)\n",
    "  \n",
    "    encoding_array = np.zeros([labels_num])  \n",
    "    encoding_array[label] = 1\n",
    "        \n",
    "    return encoding_array"
   ]
  },
  {
   "cell_type": "code",
   "execution_count": 15,
   "metadata": {
    "collapsed": true
   },
   "outputs": [],
   "source": [
    "train_data_norm = [normalize(data) for data in train_data]\n",
    "train_labels_ohe = [ohe_label(label) for label in train_labels]\n",
    "\n",
    "val_data_norm = [normalize(data) for data in val_data]\n",
    "val_labels_ohe = [ohe_label(label) for label in val_labels]\n",
    "\n",
    "test_data_norm = [normalize(data) for data in test_data]\n",
    "test_labels_ohe = [ohe_label(label) for label in test_labels]"
   ]
  },
  {
   "cell_type": "code",
   "execution_count": 16,
   "metadata": {},
   "outputs": [
    {
     "name": "stdout",
     "output_type": "stream",
     "text": [
      "Sample no.7124\n",
      "    - Min Value: 0.00784313725490196 Max Value: 0.9137254901960784\n",
      "    - Label: [ 0.  0.  0.  1.  0.  0.  0.  0.  0.  0.]\n"
     ]
    }
   ],
   "source": [
    "sample_to_inspect = 7124\n",
    "sample = train_data_norm[sample_to_inspect]\n",
    "label = train_labels_ohe[sample_to_inspect]\n",
    "print(\"Sample no.\" + str(sample_to_inspect))\n",
    "print(\"    - Min Value: {} Max Value: {}\".format(sample.min(), sample.max()))\n",
    "print(\"    - Label: \" + str(label))"
   ]
  },
  {
   "cell_type": "markdown",
   "metadata": {},
   "source": [
    "#### Building ConvNet - parts"
   ]
  },
  {
   "cell_type": "code",
   "execution_count": 17,
   "metadata": {
    "collapsed": true
   },
   "outputs": [],
   "source": [
    "def conv_net_image_input(image_width, image_height, channels):\n",
    "    return tf.placeholder(tf.float32, shape=[None, image_width, image_height, channels], name='inputs')"
   ]
  },
  {
   "cell_type": "code",
   "execution_count": 18,
   "metadata": {
    "collapsed": true
   },
   "outputs": [],
   "source": [
    "def conv_net_label_input(n_classes):\n",
    "    return tf.placeholder(tf.float32, shape=[None, n_classes], name='labels')"
   ]
  },
  {
   "cell_type": "code",
   "execution_count": 19,
   "metadata": {
    "collapsed": true
   },
   "outputs": [],
   "source": [
    "def conv_net_keep_prob_input():\n",
    "    return tf.placeholder(tf.float32, name=\"keep_prob\")"
   ]
  },
  {
   "cell_type": "code",
   "execution_count": 20,
   "metadata": {
    "collapsed": true
   },
   "outputs": [],
   "source": [
    "def conv_net_is_training_placeholder():\n",
    "    return tf.placeholder(tf.bool)"
   ]
  },
  {
   "cell_type": "code",
   "execution_count": 21,
   "metadata": {},
   "outputs": [],
   "source": [
    "def conv_net(inputs, keep_prob, is_training):   \n",
    "    \n",
    "    # Conv Layer - 1, Input 32x32x3 -> BatchNorm -> eLU -> MaxPooling -> Output 16x16x32\n",
    "    conv1_layer = tf.layers.conv2d(inputs=inputs, filters=32, kernel_size=3, strides=1, \n",
    "                                   padding=\"SAME\", activation=None,\n",
    "                                   kernel_initializer=tf.contrib.layers.xavier_initializer_conv2d())\n",
    "    conv1_layer_norm = tf.layers.batch_normalization(conv1_layer, training=is_training)\n",
    "    conv1_layer_activated = tf.nn.elu(conv1_layer_norm)\n",
    "    conv1_layer_mpool = tf.layers.max_pooling2d(conv1_layer_activated, pool_size=2, strides=2)\n",
    "    \n",
    "    # Conv Layer - 2, Input 16x16x16 -> BatchNorm -> eLU -> MaxPooling -> Output 8x8x32\n",
    "    conv2_layer = tf.layers.conv2d(inputs=conv1_layer_mpool, filters=48, kernel_size=3, strides=1, \n",
    "                                   padding=\"SAME\", activation=None, \n",
    "                                   kernel_initializer=tf.contrib.layers.xavier_initializer_conv2d())\n",
    "    conv2_layer_norm = tf.layers.batch_normalization(conv2_layer, training=is_training)\n",
    "    conv2_layer_activated = tf.nn.elu(conv2_layer_norm)\n",
    "    conv2_layer_mpool = tf.layers.max_pooling2d(conv2_layer_activated, pool_size=2, strides=2)\n",
    "\n",
    "    # Conv Layer - 3, Input 8x8x32 -> BatchNorm -> eLU -> MaxPooling -> Output 4x4x64\n",
    "    conv3_layer = tf.layers.conv2d(inputs=conv2_layer_mpool, filters=64, kernel_size=3, strides=1,\n",
    "                                   padding=\"SAME\", activation=None,\n",
    "                                   kernel_initializer=tf.contrib.layers.xavier_initializer_conv2d())\n",
    "    conv3_layer_norm = tf.layers.batch_normalization(conv3_layer, training=is_training)\n",
    "    conv3_layer_activated = tf.nn.elu(conv3_layer_norm)\n",
    "    conv3_layer_mpool = tf.layers.max_pooling2d(conv3_layer_activated, pool_size=2, strides=2)\n",
    "    \n",
    "    # Conv Layer Flattened\n",
    "    conv_output_shape = conv3_layer_mpool.get_shape().as_list()\n",
    "    flatten=tf.reshape(conv3_layer_mpool,\n",
    "                       [-1, conv_output_shape[1] * conv_output_shape[2] * conv_output_shape[3]])\n",
    "    \n",
    "    # Dense Layer - 1, Size 256 -> Dropout\n",
    "    dense1_layer = tf.layers.dense(inputs=flatten, units=256, activation=None,\n",
    "                                   kernel_initializer=tf.contrib.layers.xavier_initializer())\n",
    "    dense1_layer_norm = tf.layers.batch_normalization(dense1_layer, training=is_training)\n",
    "    dense1_layer_activated = tf.nn.elu(dense1_layer_norm)\n",
    "    dense1_layer_dropout = tf.layers.dropout(dense1_layer_activated, rate=keep_prob)\n",
    "    \n",
    "    # Dense Layer - 2, Size 128 -> Dropout\n",
    "    dense2_layer = tf.layers.dense(inputs=dense1_layer_dropout, units=128, activation=None,\n",
    "                                   kernel_initializer=tf.contrib.layers.xavier_initializer())\n",
    "    dense2_layer_norm = tf.layers.batch_normalization(dense2_layer, training=is_training)\n",
    "    dense2_layer_activated = tf.nn.elu(dense2_layer_norm)\n",
    "    dense2_layer_dropout = tf.layers.dropout(dense2_layer_activated, rate=keep_prob)\n",
    "    \n",
    "    # Output Layer \n",
    "    output = tf.layers.dense(inputs=dense2_layer_dropout, units=NUM_CLASSES, activation=None,\n",
    "                             kernel_initializer=tf.contrib.layers.xavier_initializer())\n",
    "    return output"
   ]
  },
  {
   "cell_type": "markdown",
   "metadata": {},
   "source": [
    "#### Batch utils"
   ]
  },
  {
   "cell_type": "code",
   "execution_count": 22,
   "metadata": {
    "collapsed": true
   },
   "outputs": [],
   "source": [
    "def prepare_mini_batches(data, labels, batch_size):\n",
    "    assert len(data) == len(labels)\n",
    "    \n",
    "    all_batches = list()\n",
    "    for i in range(0, len(data)):\n",
    "        all_batches.append((data[i], labels[i]))\n",
    "    random.shuffle(all_batches)\n",
    "        \n",
    "    mini_batches = list()\n",
    "    while len(all_batches) >= batch_size:\n",
    "        \n",
    "        data_batch = list()\n",
    "        labels_batch = list()\n",
    "        for j in range(0, batch_size):\n",
    "            data, labels = all_batches.pop()\n",
    "            data_batch.append(data)\n",
    "            labels_batch.append(labels)\n",
    "            \n",
    "        mini_batches.append((np.array(data_batch), np.array(labels_batch)))\n",
    "    \n",
    "    return mini_batches"
   ]
  },
  {
   "cell_type": "markdown",
   "metadata": {},
   "source": [
    "#### Building ConvNet - assemble"
   ]
  },
  {
   "cell_type": "markdown",
   "metadata": {},
   "source": [
    "- Reset Tensorflow graph"
   ]
  },
  {
   "cell_type": "code",
   "execution_count": 23,
   "metadata": {
    "collapsed": true
   },
   "outputs": [],
   "source": [
    "tf.reset_default_graph()"
   ]
  },
  {
   "cell_type": "markdown",
   "metadata": {},
   "source": [
    "- Assemble model"
   ]
  },
  {
   "cell_type": "code",
   "execution_count": 24,
   "metadata": {
    "scrolled": false
   },
   "outputs": [],
   "source": [
    "inputs = conv_net_image_input(IMAGE_WIDTH, IMAGE_HEIGHT, CHANNELS)\n",
    "targets = conv_net_label_input(NUM_CLASSES)\n",
    "keep_prob = conv_net_keep_prob_input()\n",
    "is_training = conv_net_is_training_placeholder()\n",
    "\n",
    "model = conv_net(inputs, keep_prob, is_training)"
   ]
  },
  {
   "cell_type": "markdown",
   "metadata": {},
   "source": [
    "- Cost function, training optimizer, correct predictions, accuracy"
   ]
  },
  {
   "cell_type": "code",
   "execution_count": 25,
   "metadata": {
    "collapsed": true
   },
   "outputs": [],
   "source": [
    "cost = tf.reduce_mean(tf.nn.softmax_cross_entropy_with_logits(logits=model, labels=targets))\n",
    "\n",
    "with tf.control_dependencies(tf.get_collection(tf.GraphKeys.UPDATE_OPS)):\n",
    "    optimizer = tf.train.AdamOptimizer(0.0005).minimize(cost)\n",
    "\n",
    "correct_pred = tf.equal(tf.argmax(model, 1), tf.argmax(targets, 1))\n",
    "accuracy = tf.reduce_mean(tf.cast(correct_pred, tf.float32), name='accuracy')"
   ]
  },
  {
   "cell_type": "markdown",
   "metadata": {},
   "source": [
    "#### Hyperparameters"
   ]
  },
  {
   "cell_type": "code",
   "execution_count": 26,
   "metadata": {
    "collapsed": true
   },
   "outputs": [],
   "source": [
    "epochs = 150\n",
    "keep_probability = 0.75\n",
    "batch_size = 64"
   ]
  },
  {
   "cell_type": "markdown",
   "metadata": {},
   "source": [
    "#### Training cycle"
   ]
  },
  {
   "cell_type": "code",
   "execution_count": 27,
   "metadata": {
    "collapsed": true
   },
   "outputs": [],
   "source": [
    "session = tf.Session()"
   ]
  },
  {
   "cell_type": "code",
   "execution_count": 28,
   "metadata": {
    "scrolled": false
   },
   "outputs": [
    {
     "name": "stdout",
     "output_type": "stream",
     "text": [
      "Epoch 1, Batch 50:  Train cost =  2.5723, Train acc =  0.1406 Val cost =  2.6488, Val acc =  0.1032\n",
      "Epoch 1, Batch 100:  Train cost =  2.8252, Train acc =  0.0938 Val cost =  2.7816, Val acc =  0.1035\n",
      "Epoch 1, Batch 150:  Train cost =  3.2579, Train acc =  0.1094 Val cost =  3.2546, Val acc =  0.1033\n",
      "Epoch 1, Batch 200:  Train cost =  2.8946, Train acc =  0.1094 Val cost =  2.7465, Val acc =  0.1181\n",
      "Epoch 1, Batch 250:  Train cost =  2.9039, Train acc =  0.1719 Val cost =  2.4951, Val acc =  0.1666\n",
      "Epoch 1, Batch 300:  Train cost =  2.2748, Train acc =  0.1562 Val cost =  2.5730, Val acc =  0.2186\n",
      "Epoch 1, Batch 350:  Train cost =  2.4752, Train acc =  0.2656 Val cost =  2.2438, Val acc =  0.2580\n",
      "Epoch 1, Batch 400:  Train cost =  1.5960, Train acc =  0.4219 Val cost =  1.7837, Val acc =  0.3772\n",
      "Epoch 1, Batch 450:  Train cost =  1.3865, Train acc =  0.4531 Val cost =  1.5101, Val acc =  0.4613\n",
      "Epoch 1, Batch 500:  Train cost =  1.5390, Train acc =  0.3906 Val cost =  1.5252, Val acc =  0.4730\n",
      "Epoch 1, Batch 550:  Train cost =  1.5089, Train acc =  0.4844 Val cost =  1.3432, Val acc =  0.5274\n",
      "Epoch 1, Batch 600:  Train cost =  1.7023, Train acc =  0.4688 Val cost =  1.3549, Val acc =  0.5387\n",
      "Epoch 2, Batch 650:  Train cost =  1.1659, Train acc =  0.5156 Val cost =  1.2643, Val acc =  0.5465\n",
      "Epoch 2, Batch 700:  Train cost =  0.9612, Train acc =  0.6094 Val cost =  1.1894, Val acc =  0.5771\n",
      "Epoch 2, Batch 750:  Train cost =  0.8375, Train acc =  0.6562 Val cost =  1.1379, Val acc =  0.5911\n",
      "Epoch 2, Batch 800:  Train cost =  0.6936, Train acc =  0.7969 Val cost =  1.0038, Val acc =  0.6488\n",
      "Epoch 2, Batch 850:  Train cost =  1.1220, Train acc =  0.5312 Val cost =  1.0464, Val acc =  0.6316\n",
      "Epoch 2, Batch 900:  Train cost =  0.7362, Train acc =  0.7812 Val cost =  1.0499, Val acc =  0.6281\n",
      "Epoch 2, Batch 950:  Train cost =  0.9047, Train acc =  0.6875 Val cost =  1.1657, Val acc =  0.5944\n",
      "Epoch 2, Batch 1000:  Train cost =  1.0204, Train acc =  0.5938 Val cost =  1.0402, Val acc =  0.6358\n",
      "Epoch 2, Batch 1050:  Train cost =  0.8901, Train acc =  0.6406 Val cost =  0.9606, Val acc =  0.6598\n",
      "Epoch 2, Batch 1100:  Train cost =  0.7762, Train acc =  0.7031 Val cost =  1.0226, Val acc =  0.6325\n",
      "Epoch 2, Batch 1150:  Train cost =  1.0783, Train acc =  0.7031 Val cost =  0.9935, Val acc =  0.6509\n",
      "Epoch 2, Batch 1200:  Train cost =  0.9334, Train acc =  0.6719 Val cost =  0.9907, Val acc =  0.6528\n",
      "Epoch 2, Batch 1250:  Train cost =  1.0483, Train acc =  0.6562 Val cost =  1.1481, Val acc =  0.6090\n",
      "Epoch 3, Batch 1300:  Train cost =  0.7862, Train acc =  0.7656 Val cost =  1.0191, Val acc =  0.6460\n",
      "Epoch 3, Batch 1350:  Train cost =  0.7691, Train acc =  0.7031 Val cost =  1.0455, Val acc =  0.6420\n",
      "Epoch 3, Batch 1400:  Train cost =  1.2313, Train acc =  0.5312 Val cost =  1.4634, Val acc =  0.5264\n",
      "Epoch 3, Batch 1450:  Train cost =  0.9972, Train acc =  0.5781 Val cost =  1.0406, Val acc =  0.6409\n",
      "Epoch 3, Batch 1500:  Train cost =  0.8478, Train acc =  0.7031 Val cost =  0.9852, Val acc =  0.6574\n",
      "Epoch 3, Batch 1550:  Train cost =  0.7791, Train acc =  0.6875 Val cost =  1.0365, Val acc =  0.6339\n",
      "Epoch 3, Batch 1600:  Train cost =  1.0441, Train acc =  0.5938 Val cost =  1.1653, Val acc =  0.6180\n",
      "Epoch 3, Batch 1650:  Train cost =  1.2181, Train acc =  0.6094 Val cost =  1.2674, Val acc =  0.5654\n",
      "Epoch 3, Batch 1700:  Train cost =  0.7247, Train acc =  0.7500 Val cost =  0.9566, Val acc =  0.6668\n",
      "Epoch 3, Batch 1750:  Train cost =  0.8603, Train acc =  0.7031 Val cost =  0.9110, Val acc =  0.6822\n",
      "Epoch 3, Batch 1800:  Train cost =  0.7582, Train acc =  0.7344 Val cost =  0.9140, Val acc =  0.6764\n",
      "Epoch 3, Batch 1850:  Train cost =  0.9948, Train acc =  0.6562 Val cost =  1.1304, Val acc =  0.6220\n",
      "Epoch 4, Batch 1900:  Train cost =  0.6625, Train acc =  0.7500 Val cost =  0.9298, Val acc =  0.6761\n",
      "Epoch 4, Batch 1950:  Train cost =  0.8070, Train acc =  0.6562 Val cost =  1.1099, Val acc =  0.6154\n",
      "Epoch 4, Batch 2000:  Train cost =  0.9977, Train acc =  0.6719 Val cost =  1.1924, Val acc =  0.6087\n",
      "Epoch 4, Batch 2050:  Train cost =  0.7923, Train acc =  0.7656 Val cost =  0.9985, Val acc =  0.6564\n",
      "Epoch 4, Batch 2100:  Train cost =  0.7636, Train acc =  0.8125 Val cost =  1.0482, Val acc =  0.6458\n",
      "Epoch 4, Batch 2150:  Train cost =  0.9392, Train acc =  0.7344 Val cost =  1.2701, Val acc =  0.5999\n",
      "Epoch 4, Batch 2200:  Train cost =  1.2059, Train acc =  0.6094 Val cost =  1.1531, Val acc =  0.6228\n",
      "Epoch 4, Batch 2250:  Train cost =  1.0777, Train acc =  0.6406 Val cost =  0.9767, Val acc =  0.6633\n",
      "Epoch 4, Batch 2300:  Train cost =  0.5985, Train acc =  0.7812 Val cost =  0.9368, Val acc =  0.6749\n",
      "Epoch 4, Batch 2350:  Train cost =  0.5738, Train acc =  0.7812 Val cost =  0.9483, Val acc =  0.6764\n",
      "Epoch 4, Batch 2400:  Train cost =  0.9572, Train acc =  0.6562 Val cost =  0.9552, Val acc =  0.6724\n",
      "Epoch 4, Batch 2450:  Train cost =  0.8036, Train acc =  0.7031 Val cost =  0.9158, Val acc =  0.6822\n",
      "Epoch 4, Batch 2500:  Train cost =  0.7790, Train acc =  0.7031 Val cost =  0.9098, Val acc =  0.6857\n",
      "Epoch 5, Batch 2550:  Train cost =  0.6440, Train acc =  0.8125 Val cost =  0.9014, Val acc =  0.6872\n",
      "Epoch 5, Batch 2600:  Train cost =  0.7044, Train acc =  0.7500 Val cost =  0.8724, Val acc =  0.6924\n",
      "Epoch 5, Batch 2650:  Train cost =  0.6876, Train acc =  0.7031 Val cost =  1.0266, Val acc =  0.6550\n",
      "Epoch 5, Batch 2700:  Train cost =  0.6657, Train acc =  0.7656 Val cost =  0.8933, Val acc =  0.6942\n",
      "Epoch 5, Batch 2750:  Train cost =  0.7242, Train acc =  0.6875 Val cost =  0.9033, Val acc =  0.6888\n",
      "Epoch 5, Batch 2800:  Train cost =  0.5432, Train acc =  0.7969 Val cost =  0.8859, Val acc =  0.6912\n",
      "Epoch 5, Batch 2850:  Train cost =  0.5506, Train acc =  0.7812 Val cost =  0.9029, Val acc =  0.6867\n",
      "Epoch 5, Batch 2900:  Train cost =  0.8618, Train acc =  0.7344 Val cost =  0.9106, Val acc =  0.6881\n",
      "Epoch 5, Batch 2950:  Train cost =  0.6103, Train acc =  0.8281 Val cost =  0.8925, Val acc =  0.6938\n",
      "Epoch 5, Batch 3000:  Train cost =  0.6686, Train acc =  0.7812 Val cost =  0.8368, Val acc =  0.7079\n",
      "Epoch 5, Batch 3050:  Train cost =  0.8168, Train acc =  0.7031 Val cost =  0.9622, Val acc =  0.6756\n",
      "Epoch 5, Batch 3100:  Train cost =  0.9276, Train acc =  0.7344 Val cost =  1.0752, Val acc =  0.6487\n",
      "Epoch 6, Batch 3150:  Train cost =  0.4851, Train acc =  0.8125 Val cost =  0.9547, Val acc =  0.6828\n",
      "Epoch 6, Batch 3200:  Train cost =  0.3381, Train acc =  0.9375 Val cost =  0.9083, Val acc =  0.6855\n",
      "Epoch 6, Batch 3250:  Train cost =  0.5459, Train acc =  0.8281 Val cost =  0.8996, Val acc =  0.6974\n",
      "Epoch 6, Batch 3300:  Train cost =  0.5689, Train acc =  0.8125 Val cost =  0.8631, Val acc =  0.7073\n",
      "Epoch 6, Batch 3350:  Train cost =  0.5542, Train acc =  0.8594 Val cost =  0.9514, Val acc =  0.6758\n",
      "Epoch 6, Batch 3400:  Train cost =  0.6445, Train acc =  0.7969 Val cost =  0.9145, Val acc =  0.6951\n",
      "Epoch 6, Batch 3450:  Train cost =  0.5831, Train acc =  0.7812 Val cost =  0.9048, Val acc =  0.6988\n",
      "Epoch 6, Batch 3500:  Train cost =  0.8262, Train acc =  0.7500 Val cost =  0.9689, Val acc =  0.6778\n",
      "Epoch 6, Batch 3550:  Train cost =  0.6045, Train acc =  0.7344 Val cost =  0.8966, Val acc =  0.6951\n",
      "Epoch 6, Batch 3600:  Train cost =  0.9545, Train acc =  0.7031 Val cost =  0.9801, Val acc =  0.6741\n",
      "Epoch 6, Batch 3650:  Train cost =  0.4666, Train acc =  0.8281 Val cost =  0.9947, Val acc =  0.6654\n",
      "Epoch 6, Batch 3700:  Train cost =  0.7505, Train acc =  0.7500 Val cost =  0.8574, Val acc =  0.7055\n",
      "Epoch 6, Batch 3750:  Train cost =  0.7404, Train acc =  0.7500 Val cost =  0.9534, Val acc =  0.6880\n",
      "Epoch 7, Batch 3800:  Train cost =  0.4267, Train acc =  0.8906 Val cost =  0.8911, Val acc =  0.7044\n",
      "Epoch 7, Batch 3850:  Train cost =  0.5317, Train acc =  0.8125 Val cost =  0.8908, Val acc =  0.6939\n",
      "Epoch 7, Batch 3900:  Train cost =  0.4289, Train acc =  0.7969 Val cost =  0.8637, Val acc =  0.7029\n",
      "Epoch 7, Batch 3950:  Train cost =  0.3225, Train acc =  0.8906 Val cost =  0.9375, Val acc =  0.6891\n",
      "Epoch 7, Batch 4000:  Train cost =  0.6059, Train acc =  0.7969 Val cost =  0.8961, Val acc =  0.7056\n",
      "Epoch 7, Batch 4050:  Train cost =  0.4756, Train acc =  0.8594 Val cost =  1.0085, Val acc =  0.6807\n"
     ]
    },
    {
     "name": "stdout",
     "output_type": "stream",
     "text": [
      "Epoch 7, Batch 4100:  Train cost =  0.5680, Train acc =  0.8281 Val cost =  1.0766, Val acc =  0.6537\n",
      "Epoch 7, Batch 4150:  Train cost =  0.8754, Train acc =  0.7344 Val cost =  1.0662, Val acc =  0.6646\n",
      "Epoch 7, Batch 4200:  Train cost =  0.7521, Train acc =  0.8125 Val cost =  0.8857, Val acc =  0.7046\n",
      "Epoch 7, Batch 4250:  Train cost =  0.4648, Train acc =  0.8438 Val cost =  0.9162, Val acc =  0.6954\n",
      "Epoch 7, Batch 4300:  Train cost =  0.3316, Train acc =  0.8750 Val cost =  0.8356, Val acc =  0.7181\n",
      "Epoch 7, Batch 4350:  Train cost =  0.6753, Train acc =  0.7656 Val cost =  0.9820, Val acc =  0.6829\n",
      "Epoch 8, Batch 4400:  Train cost =  0.5439, Train acc =  0.7812 Val cost =  0.9313, Val acc =  0.6953\n",
      "Epoch 8, Batch 4450:  Train cost =  0.4033, Train acc =  0.9062 Val cost =  0.8398, Val acc =  0.7175\n",
      "Epoch 8, Batch 4500:  Train cost =  0.4370, Train acc =  0.8594 Val cost =  0.9835, Val acc =  0.6876\n",
      "Epoch 8, Batch 4550:  Train cost =  0.3958, Train acc =  0.8281 Val cost =  0.9688, Val acc =  0.6937\n",
      "Epoch 8, Batch 4600:  Train cost =  0.3920, Train acc =  0.8906 Val cost =  0.8928, Val acc =  0.7117\n",
      "Epoch 8, Batch 4650:  Train cost =  0.3762, Train acc =  0.8438 Val cost =  0.9413, Val acc =  0.6930\n",
      "Epoch 8, Batch 4700:  Train cost =  0.3226, Train acc =  0.8594 Val cost =  0.9337, Val acc =  0.6993\n",
      "Epoch 8, Batch 4750:  Train cost =  0.4834, Train acc =  0.7812 Val cost =  0.9017, Val acc =  0.7083\n",
      "Epoch 8, Batch 4800:  Train cost =  0.5691, Train acc =  0.7656 Val cost =  1.1347, Val acc =  0.6679\n",
      "Epoch 8, Batch 4850:  Train cost =  0.4770, Train acc =  0.8125 Val cost =  0.9438, Val acc =  0.7008\n",
      "Epoch 8, Batch 4900:  Train cost =  0.5884, Train acc =  0.7812 Val cost =  0.9597, Val acc =  0.6889\n",
      "Epoch 8, Batch 4950:  Train cost =  0.5151, Train acc =  0.8125 Val cost =  0.9101, Val acc =  0.7071\n",
      "Epoch 8, Batch 5000:  Train cost =  0.7321, Train acc =  0.7188 Val cost =  1.0719, Val acc =  0.6736\n",
      "Epoch 9, Batch 5050:  Train cost =  0.2376, Train acc =  0.9531 Val cost =  0.8517, Val acc =  0.7236\n",
      "Epoch 9, Batch 5100:  Train cost =  0.3538, Train acc =  0.8281 Val cost =  0.8337, Val acc =  0.7272\n",
      "Epoch 9, Batch 5150:  Train cost =  0.4643, Train acc =  0.8281 Val cost =  0.9605, Val acc =  0.7030\n",
      "Epoch 9, Batch 5200:  Train cost =  0.3481, Train acc =  0.8906 Val cost =  0.8678, Val acc =  0.7193\n",
      "Epoch 9, Batch 5250:  Train cost =  0.4835, Train acc =  0.8594 Val cost =  0.8927, Val acc =  0.7184\n",
      "Epoch 9, Batch 5300:  Train cost =  0.3550, Train acc =  0.8906 Val cost =  0.9539, Val acc =  0.7114\n",
      "Epoch 9, Batch 5350:  Train cost =  0.4436, Train acc =  0.8281 Val cost =  0.9511, Val acc =  0.7006\n",
      "Epoch 9, Batch 5400:  Train cost =  0.5215, Train acc =  0.7969 Val cost =  1.0156, Val acc =  0.6933\n",
      "Epoch 9, Batch 5450:  Train cost =  0.2263, Train acc =  0.9062 Val cost =  0.9032, Val acc =  0.7164\n",
      "Epoch 9, Batch 5500:  Train cost =  0.3343, Train acc =  0.9062 Val cost =  0.9292, Val acc =  0.7059\n",
      "Epoch 9, Batch 5550:  Train cost =  0.5214, Train acc =  0.8438 Val cost =  0.9894, Val acc =  0.6944\n",
      "Epoch 9, Batch 5600:  Train cost =  0.3343, Train acc =  0.8750 Val cost =  0.9213, Val acc =  0.7161\n",
      "Epoch 10, Batch 5650:  Train cost =  0.2295, Train acc =  0.9531 Val cost =  0.8810, Val acc =  0.7190\n",
      "Epoch 10, Batch 5700:  Train cost =  0.2878, Train acc =  0.9219 Val cost =  0.9374, Val acc =  0.7073\n",
      "Epoch 10, Batch 5750:  Train cost =  0.3677, Train acc =  0.8594 Val cost =  0.9490, Val acc =  0.7025\n",
      "Epoch 10, Batch 5800:  Train cost =  0.6413, Train acc =  0.7188 Val cost =  1.2675, Val acc =  0.6458\n",
      "Epoch 10, Batch 5850:  Train cost =  0.3281, Train acc =  0.8750 Val cost =  1.0408, Val acc =  0.6862\n",
      "Epoch 10, Batch 5900:  Train cost =  0.2233, Train acc =  0.9375 Val cost =  0.8684, Val acc =  0.7259\n",
      "Epoch 10, Batch 5950:  Train cost =  0.7220, Train acc =  0.7656 Val cost =  1.1271, Val acc =  0.6817\n",
      "Epoch 10, Batch 6000:  Train cost =  0.3848, Train acc =  0.8594 Val cost =  1.1402, Val acc =  0.6706\n",
      "Epoch 10, Batch 6050:  Train cost =  0.4928, Train acc =  0.8281 Val cost =  1.0730, Val acc =  0.6778\n",
      "Epoch 10, Batch 6100:  Train cost =  0.4434, Train acc =  0.8594 Val cost =  0.9585, Val acc =  0.7074\n",
      "Epoch 10, Batch 6150:  Train cost =  0.3424, Train acc =  0.8750 Val cost =  0.9500, Val acc =  0.7093\n",
      "Epoch 10, Batch 6200:  Train cost =  0.5130, Train acc =  0.8281 Val cost =  0.9321, Val acc =  0.7175\n",
      "Epoch 10, Batch 6250:  Train cost =  0.6194, Train acc =  0.7656 Val cost =  0.9518, Val acc =  0.7140\n",
      "Epoch 11, Batch 6300:  Train cost =  0.1901, Train acc =  0.9531 Val cost =  0.9002, Val acc =  0.7251\n",
      "Epoch 11, Batch 6350:  Train cost =  0.1820, Train acc =  0.9688 Val cost =  0.9022, Val acc =  0.7221\n",
      "Epoch 11, Batch 6400:  Train cost =  0.2718, Train acc =  0.9688 Val cost =  0.9481, Val acc =  0.7108\n",
      "Epoch 11, Batch 6450:  Train cost =  0.5683, Train acc =  0.7969 Val cost =  1.0554, Val acc =  0.6877\n",
      "Epoch 11, Batch 6500:  Train cost =  0.2611, Train acc =  0.9375 Val cost =  0.9440, Val acc =  0.7189\n",
      "Epoch 11, Batch 6550:  Train cost =  0.2137, Train acc =  0.8906 Val cost =  0.9516, Val acc =  0.7156\n",
      "Epoch 11, Batch 6600:  Train cost =  0.3125, Train acc =  0.8594 Val cost =  1.0016, Val acc =  0.7044\n",
      "Epoch 11, Batch 6650:  Train cost =  0.2030, Train acc =  0.9375 Val cost =  0.9642, Val acc =  0.7164\n",
      "Epoch 11, Batch 6700:  Train cost =  0.6026, Train acc =  0.7969 Val cost =  1.1489, Val acc =  0.6772\n",
      "Epoch 11, Batch 6750:  Train cost =  0.3398, Train acc =  0.8281 Val cost =  1.1031, Val acc =  0.6919\n",
      "Epoch 11, Batch 6800:  Train cost =  0.2797, Train acc =  0.8750 Val cost =  0.9331, Val acc =  0.7198\n",
      "Epoch 11, Batch 6850:  Train cost =  0.2233, Train acc =  0.9062 Val cost =  0.9631, Val acc =  0.7117\n",
      "Epoch 12, Batch 6900:  Train cost =  0.2129, Train acc =  0.9062 Val cost =  0.9534, Val acc =  0.7134\n",
      "Epoch 12, Batch 6950:  Train cost =  0.1310, Train acc =  0.9688 Val cost =  0.8993, Val acc =  0.7370\n",
      "Epoch 12, Batch 7000:  Train cost =  0.2266, Train acc =  0.9219 Val cost =  0.9793, Val acc =  0.7180\n",
      "Epoch 12, Batch 7050:  Train cost =  0.1600, Train acc =  0.9531 Val cost =  0.9044, Val acc =  0.7259\n",
      "Epoch 12, Batch 7100:  Train cost =  0.2371, Train acc =  0.9219 Val cost =  0.9702, Val acc =  0.7206\n",
      "Epoch 12, Batch 7150:  Train cost =  0.1626, Train acc =  0.9688 Val cost =  1.0248, Val acc =  0.7025\n",
      "Epoch 12, Batch 7200:  Train cost =  0.2067, Train acc =  0.9375 Val cost =  0.9836, Val acc =  0.7155\n",
      "Epoch 12, Batch 7250:  Train cost =  0.4014, Train acc =  0.8750 Val cost =  1.0674, Val acc =  0.6986\n",
      "Epoch 12, Batch 7300:  Train cost =  0.3484, Train acc =  0.8906 Val cost =  1.0840, Val acc =  0.6982\n",
      "Epoch 12, Batch 7350:  Train cost =  0.3412, Train acc =  0.8438 Val cost =  1.4247, Val acc =  0.6410\n",
      "Epoch 12, Batch 7400:  Train cost =  0.5311, Train acc =  0.8125 Val cost =  0.9798, Val acc =  0.7162\n",
      "Epoch 12, Batch 7450:  Train cost =  0.7279, Train acc =  0.7656 Val cost =  1.2814, Val acc =  0.6747\n",
      "Epoch 12, Batch 7500:  Train cost =  0.3802, Train acc =  0.8438 Val cost =  1.1289, Val acc =  0.6979\n",
      "Epoch 13, Batch 7550:  Train cost =  0.1388, Train acc =  0.9531 Val cost =  0.9231, Val acc =  0.7311\n",
      "Epoch 13, Batch 7600:  Train cost =  0.2534, Train acc =  0.9062 Val cost =  0.9773, Val acc =  0.7248\n",
      "Epoch 13, Batch 7650:  Train cost =  0.2412, Train acc =  0.9062 Val cost =  0.9758, Val acc =  0.7179\n",
      "Epoch 13, Batch 7700:  Train cost =  0.2225, Train acc =  0.9062 Val cost =  1.0430, Val acc =  0.7124\n",
      "Epoch 13, Batch 7750:  Train cost =  0.2669, Train acc =  0.9062 Val cost =  1.0154, Val acc =  0.7223\n",
      "Epoch 13, Batch 7800:  Train cost =  0.2271, Train acc =  0.9062 Val cost =  1.0519, Val acc =  0.7080\n",
      "Epoch 13, Batch 7850:  Train cost =  0.2083, Train acc =  0.9219 Val cost =  1.0163, Val acc =  0.7181\n",
      "Epoch 13, Batch 7900:  Train cost =  0.2094, Train acc =  0.9219 Val cost =  1.0103, Val acc =  0.7157\n",
      "Epoch 13, Batch 7950:  Train cost =  0.3858, Train acc =  0.8281 Val cost =  1.1678, Val acc =  0.6906\n",
      "Epoch 13, Batch 8000:  Train cost =  0.6456, Train acc =  0.8125 Val cost =  1.0898, Val acc =  0.7034\n",
      "Epoch 13, Batch 8050:  Train cost =  0.2219, Train acc =  0.9375 Val cost =  1.0712, Val acc =  0.7072\n"
     ]
    },
    {
     "name": "stdout",
     "output_type": "stream",
     "text": [
      "Epoch 13, Batch 8100:  Train cost =  0.4101, Train acc =  0.8438 Val cost =  1.0187, Val acc =  0.7115\n",
      "Epoch 14, Batch 8150:  Train cost =  0.2551, Train acc =  0.8906 Val cost =  1.1890, Val acc =  0.6881\n",
      "Epoch 14, Batch 8200:  Train cost =  0.2003, Train acc =  0.9375 Val cost =  1.0479, Val acc =  0.7119\n",
      "Epoch 14, Batch 8250:  Train cost =  0.1435, Train acc =  0.9688 Val cost =  0.9826, Val acc =  0.7276\n",
      "Epoch 14, Batch 8300:  Train cost =  0.0987, Train acc =  0.9844 Val cost =  1.0070, Val acc =  0.7243\n",
      "Epoch 14, Batch 8350:  Train cost =  0.3307, Train acc =  0.8594 Val cost =  1.1218, Val acc =  0.6994\n",
      "Epoch 14, Batch 8400:  Train cost =  0.1724, Train acc =  0.9219 Val cost =  1.0560, Val acc =  0.7181\n",
      "Epoch 14, Batch 8450:  Train cost =  0.3577, Train acc =  0.9062 Val cost =  1.1498, Val acc =  0.7024\n",
      "Epoch 14, Batch 8500:  Train cost =  0.1710, Train acc =  0.9375 Val cost =  1.0784, Val acc =  0.7109\n",
      "Epoch 14, Batch 8550:  Train cost =  0.1518, Train acc =  0.9219 Val cost =  1.0247, Val acc =  0.7214\n",
      "Epoch 14, Batch 8600:  Train cost =  0.0992, Train acc =  0.9688 Val cost =  1.1154, Val acc =  0.7136\n",
      "Epoch 14, Batch 8650:  Train cost =  0.2822, Train acc =  0.8438 Val cost =  1.2488, Val acc =  0.6932\n",
      "Epoch 14, Batch 8700:  Train cost =  0.1755, Train acc =  0.9219 Val cost =  1.1290, Val acc =  0.7072\n",
      "Epoch 14, Batch 8750:  Train cost =  0.2062, Train acc =  0.9375 Val cost =  1.0812, Val acc =  0.7025\n",
      "Epoch 15, Batch 8800:  Train cost =  0.1590, Train acc =  0.9375 Val cost =  1.1061, Val acc =  0.7098\n",
      "Epoch 15, Batch 8850:  Train cost =  0.1234, Train acc =  0.9844 Val cost =  1.0250, Val acc =  0.7208\n",
      "Epoch 15, Batch 8900:  Train cost =  0.3528, Train acc =  0.8594 Val cost =  1.1067, Val acc =  0.7147\n",
      "Epoch 15, Batch 8950:  Train cost =  0.1704, Train acc =  0.9531 Val cost =  1.1440, Val acc =  0.7036\n",
      "Epoch 15, Batch 9000:  Train cost =  0.2389, Train acc =  0.9219 Val cost =  1.0456, Val acc =  0.7316\n",
      "Epoch 15, Batch 9050:  Train cost =  0.3866, Train acc =  0.8438 Val cost =  1.3929, Val acc =  0.6732\n",
      "Epoch 15, Batch 9100:  Train cost =  0.0841, Train acc =  0.9844 Val cost =  1.1209, Val acc =  0.7153\n",
      "Epoch 15, Batch 9150:  Train cost =  0.1474, Train acc =  0.9688 Val cost =  1.0418, Val acc =  0.7295\n",
      "Epoch 15, Batch 9200:  Train cost =  0.1892, Train acc =  0.9219 Val cost =  1.1103, Val acc =  0.7125\n",
      "Epoch 15, Batch 9250:  Train cost =  0.3916, Train acc =  0.8438 Val cost =  1.1944, Val acc =  0.7048\n",
      "Epoch 15, Batch 9300:  Train cost =  0.0683, Train acc =  0.9844 Val cost =  1.0635, Val acc =  0.7190\n",
      "Epoch 15, Batch 9350:  Train cost =  0.1749, Train acc =  0.9219 Val cost =  1.0353, Val acc =  0.7282\n",
      "Epoch 16, Batch 9400:  Train cost =  0.1121, Train acc =  0.9688 Val cost =  1.0895, Val acc =  0.7156\n",
      "Epoch 16, Batch 9450:  Train cost =  0.1591, Train acc =  0.9375 Val cost =  1.0566, Val acc =  0.7291\n",
      "Epoch 16, Batch 9500:  Train cost =  0.1100, Train acc =  0.9531 Val cost =  1.0821, Val acc =  0.7257\n",
      "Epoch 16, Batch 9550:  Train cost =  0.0858, Train acc =  0.9688 Val cost =  1.0808, Val acc =  0.7292\n",
      "Epoch 16, Batch 9600:  Train cost =  0.0872, Train acc =  1.0000 Val cost =  1.1342, Val acc =  0.7155\n",
      "Epoch 16, Batch 9650:  Train cost =  0.0985, Train acc =  0.9688 Val cost =  1.0862, Val acc =  0.7264\n",
      "Epoch 16, Batch 9700:  Train cost =  0.0837, Train acc =  0.9844 Val cost =  1.1239, Val acc =  0.7116\n",
      "Epoch 16, Batch 9750:  Train cost =  0.2319, Train acc =  0.9062 Val cost =  1.1963, Val acc =  0.7119\n",
      "Epoch 16, Batch 9800:  Train cost =  0.0913, Train acc =  0.9844 Val cost =  1.0853, Val acc =  0.7218\n",
      "Epoch 16, Batch 9850:  Train cost =  0.1658, Train acc =  0.9531 Val cost =  1.1868, Val acc =  0.7060\n",
      "Epoch 16, Batch 9900:  Train cost =  0.3071, Train acc =  0.9062 Val cost =  1.3202, Val acc =  0.6947\n",
      "Epoch 16, Batch 9950:  Train cost =  0.1697, Train acc =  0.9219 Val cost =  1.1178, Val acc =  0.7233\n",
      "Epoch 16, Batch 10000:  Train cost =  0.1805, Train acc =  0.9375 Val cost =  1.2382, Val acc =  0.7106\n",
      "Epoch 17, Batch 10050:  Train cost =  0.0794, Train acc =  1.0000 Val cost =  1.1703, Val acc =  0.7109\n",
      "Epoch 17, Batch 10100:  Train cost =  0.0447, Train acc =  1.0000 Val cost =  1.1210, Val acc =  0.7197\n",
      "Epoch 17, Batch 10150:  Train cost =  0.1350, Train acc =  0.9531 Val cost =  1.0684, Val acc =  0.7293\n",
      "Epoch 17, Batch 10200:  Train cost =  0.1418, Train acc =  0.9219 Val cost =  1.1716, Val acc =  0.7214\n",
      "Epoch 17, Batch 10250:  Train cost =  0.2540, Train acc =  0.9219 Val cost =  1.5106, Val acc =  0.6661\n",
      "Epoch 17, Batch 10300:  Train cost =  0.2161, Train acc =  0.8906 Val cost =  1.0906, Val acc =  0.7281\n",
      "Epoch 17, Batch 10350:  Train cost =  0.1423, Train acc =  0.9375 Val cost =  1.1762, Val acc =  0.7191\n",
      "Epoch 17, Batch 10400:  Train cost =  0.0591, Train acc =  1.0000 Val cost =  1.2252, Val acc =  0.7131\n",
      "Epoch 17, Batch 10450:  Train cost =  0.0328, Train acc =  1.0000 Val cost =  1.2258, Val acc =  0.7136\n",
      "Epoch 17, Batch 10500:  Train cost =  0.2561, Train acc =  0.9375 Val cost =  1.2029, Val acc =  0.7101\n",
      "Epoch 17, Batch 10550:  Train cost =  0.2663, Train acc =  0.8906 Val cost =  1.3848, Val acc =  0.6823\n",
      "Epoch 17, Batch 10600:  Train cost =  0.0947, Train acc =  0.9531 Val cost =  1.1195, Val acc =  0.7239\n",
      "Epoch 18, Batch 10650:  Train cost =  0.1619, Train acc =  0.9219 Val cost =  1.1549, Val acc =  0.7223\n",
      "Epoch 18, Batch 10700:  Train cost =  0.1129, Train acc =  0.9375 Val cost =  1.2231, Val acc =  0.7106\n",
      "Epoch 18, Batch 10750:  Train cost =  0.0756, Train acc =  0.9688 Val cost =  1.1225, Val acc =  0.7256\n",
      "Epoch 18, Batch 10800:  Train cost =  0.1939, Train acc =  0.9375 Val cost =  1.1549, Val acc =  0.7237\n",
      "Epoch 18, Batch 10850:  Train cost =  0.1096, Train acc =  0.9844 Val cost =  1.2824, Val acc =  0.7026\n",
      "Epoch 18, Batch 10900:  Train cost =  0.1573, Train acc =  0.9219 Val cost =  1.1998, Val acc =  0.7066\n",
      "Epoch 18, Batch 10950:  Train cost =  0.2027, Train acc =  0.9375 Val cost =  1.4623, Val acc =  0.6750\n",
      "Epoch 18, Batch 11000:  Train cost =  0.0435, Train acc =  1.0000 Val cost =  1.1905, Val acc =  0.7208\n",
      "Epoch 18, Batch 11050:  Train cost =  0.1020, Train acc =  0.9688 Val cost =  1.1708, Val acc =  0.7236\n",
      "Epoch 18, Batch 11100:  Train cost =  0.0908, Train acc =  0.9844 Val cost =  1.2706, Val acc =  0.7075\n",
      "Epoch 18, Batch 11150:  Train cost =  0.0786, Train acc =  0.9844 Val cost =  1.2384, Val acc =  0.7069\n",
      "Epoch 18, Batch 11200:  Train cost =  0.3397, Train acc =  0.8594 Val cost =  1.3850, Val acc =  0.6946\n",
      "Epoch 18, Batch 11250:  Train cost =  0.0825, Train acc =  0.9844 Val cost =  1.1424, Val acc =  0.7237\n",
      "Epoch 19, Batch 11300:  Train cost =  0.0769, Train acc =  0.9844 Val cost =  1.3560, Val acc =  0.7026\n",
      "Epoch 19, Batch 11350:  Train cost =  0.1602, Train acc =  0.9688 Val cost =  1.3541, Val acc =  0.7013\n",
      "Epoch 19, Batch 11400:  Train cost =  0.0892, Train acc =  0.9844 Val cost =  1.1905, Val acc =  0.7252\n",
      "Epoch 19, Batch 11450:  Train cost =  0.0609, Train acc =  1.0000 Val cost =  1.2141, Val acc =  0.7200\n",
      "Epoch 19, Batch 11500:  Train cost =  0.0387, Train acc =  1.0000 Val cost =  1.2088, Val acc =  0.7209\n",
      "Epoch 19, Batch 11550:  Train cost =  0.0509, Train acc =  0.9844 Val cost =  1.1303, Val acc =  0.7340\n",
      "Epoch 19, Batch 11600:  Train cost =  0.2099, Train acc =  0.8906 Val cost =  1.3109, Val acc =  0.7070\n",
      "Epoch 19, Batch 11650:  Train cost =  0.3208, Train acc =  0.9062 Val cost =  1.4121, Val acc =  0.6926\n",
      "Epoch 19, Batch 11700:  Train cost =  0.1720, Train acc =  0.9375 Val cost =  1.2139, Val acc =  0.7145\n",
      "Epoch 19, Batch 11750:  Train cost =  0.4417, Train acc =  0.8594 Val cost =  1.6253, Val acc =  0.6518\n",
      "Epoch 19, Batch 11800:  Train cost =  0.1162, Train acc =  0.9688 Val cost =  1.3350, Val acc =  0.6991\n",
      "Epoch 19, Batch 11850:  Train cost =  0.0683, Train acc =  0.9688 Val cost =  1.2612, Val acc =  0.7094\n",
      "Epoch 20, Batch 11900:  Train cost =  0.0706, Train acc =  0.9688 Val cost =  1.2547, Val acc =  0.7171\n",
      "Epoch 20, Batch 11950:  Train cost =  0.0980, Train acc =  0.9688 Val cost =  1.2083, Val acc =  0.7197\n",
      "Epoch 20, Batch 12000:  Train cost =  0.1521, Train acc =  0.9375 Val cost =  1.2243, Val acc =  0.7151\n",
      "Epoch 20, Batch 12050:  Train cost =  0.0978, Train acc =  0.9688 Val cost =  1.2443, Val acc =  0.7140\n"
     ]
    },
    {
     "name": "stdout",
     "output_type": "stream",
     "text": [
      "Epoch 20, Batch 12100:  Train cost =  0.0961, Train acc =  0.9844 Val cost =  1.2725, Val acc =  0.7084\n",
      "Epoch 20, Batch 12150:  Train cost =  0.1909, Train acc =  0.9531 Val cost =  1.3671, Val acc =  0.6971\n",
      "Epoch 20, Batch 12200:  Train cost =  0.0605, Train acc =  0.9688 Val cost =  1.3230, Val acc =  0.7177\n",
      "Epoch 20, Batch 12250:  Train cost =  0.0739, Train acc =  0.9688 Val cost =  1.2736, Val acc =  0.7160\n",
      "Epoch 20, Batch 12300:  Train cost =  0.0645, Train acc =  0.9688 Val cost =  1.2730, Val acc =  0.7190\n",
      "Epoch 20, Batch 12350:  Train cost =  0.2186, Train acc =  0.9219 Val cost =  1.4747, Val acc =  0.6870\n",
      "Epoch 20, Batch 12400:  Train cost =  0.2902, Train acc =  0.9062 Val cost =  1.6086, Val acc =  0.6757\n",
      "Epoch 20, Batch 12450:  Train cost =  0.5158, Train acc =  0.7969 Val cost =  1.8398, Val acc =  0.6437\n",
      "Epoch 20, Batch 12500:  Train cost =  0.1140, Train acc =  0.9531 Val cost =  1.3946, Val acc =  0.6996\n",
      "Epoch 21, Batch 12550:  Train cost =  0.1477, Train acc =  0.9375 Val cost =  1.3120, Val acc =  0.7125\n",
      "Epoch 21, Batch 12600:  Train cost =  0.0764, Train acc =  0.9688 Val cost =  1.2458, Val acc =  0.7188\n",
      "Epoch 21, Batch 12650:  Train cost =  0.1032, Train acc =  0.9531 Val cost =  1.2105, Val acc =  0.7283\n",
      "Epoch 21, Batch 12700:  Train cost =  0.0678, Train acc =  1.0000 Val cost =  1.2312, Val acc =  0.7232\n",
      "Epoch 21, Batch 12750:  Train cost =  0.1120, Train acc =  0.9688 Val cost =  1.2464, Val acc =  0.7240\n",
      "Epoch 21, Batch 12800:  Train cost =  0.0413, Train acc =  0.9688 Val cost =  1.2819, Val acc =  0.7235\n",
      "Epoch 21, Batch 12850:  Train cost =  0.1137, Train acc =  0.9688 Val cost =  1.3282, Val acc =  0.7149\n",
      "Epoch 21, Batch 12900:  Train cost =  0.0729, Train acc =  0.9688 Val cost =  1.3236, Val acc =  0.7095\n",
      "Epoch 21, Batch 12950:  Train cost =  0.1025, Train acc =  0.9688 Val cost =  1.2924, Val acc =  0.7104\n",
      "Epoch 21, Batch 13000:  Train cost =  0.0910, Train acc =  0.9844 Val cost =  1.3003, Val acc =  0.7164\n",
      "Epoch 21, Batch 13050:  Train cost =  0.1806, Train acc =  0.9219 Val cost =  1.3253, Val acc =  0.7158\n",
      "Epoch 21, Batch 13100:  Train cost =  0.0732, Train acc =  0.9531 Val cost =  1.3522, Val acc =  0.7123\n",
      "Epoch 22, Batch 13150:  Train cost =  0.1573, Train acc =  0.9375 Val cost =  1.4020, Val acc =  0.7024\n",
      "Epoch 22, Batch 13200:  Train cost =  0.0458, Train acc =  0.9844 Val cost =  1.2455, Val acc =  0.7228\n",
      "Epoch 22, Batch 13250:  Train cost =  0.1897, Train acc =  0.9219 Val cost =  1.5600, Val acc =  0.6875\n",
      "Epoch 22, Batch 13300:  Train cost =  0.0678, Train acc =  0.9844 Val cost =  1.2601, Val acc =  0.7277\n",
      "Epoch 22, Batch 13350:  Train cost =  0.2195, Train acc =  0.9219 Val cost =  1.5061, Val acc =  0.6889\n",
      "Epoch 22, Batch 13400:  Train cost =  0.0276, Train acc =  1.0000 Val cost =  1.4191, Val acc =  0.7035\n",
      "Epoch 22, Batch 13450:  Train cost =  0.1775, Train acc =  0.9219 Val cost =  1.5993, Val acc =  0.6827\n",
      "Epoch 22, Batch 13500:  Train cost =  0.0781, Train acc =  0.9688 Val cost =  1.4174, Val acc =  0.7069\n",
      "Epoch 22, Batch 13550:  Train cost =  0.0844, Train acc =  0.9844 Val cost =  1.3363, Val acc =  0.7125\n",
      "Epoch 22, Batch 13600:  Train cost =  0.1912, Train acc =  0.9219 Val cost =  1.6562, Val acc =  0.6774\n",
      "Epoch 22, Batch 13650:  Train cost =  0.1848, Train acc =  0.9219 Val cost =  1.4310, Val acc =  0.6930\n",
      "Epoch 22, Batch 13700:  Train cost =  0.0619, Train acc =  0.9844 Val cost =  1.3046, Val acc =  0.7158\n",
      "Epoch 22, Batch 13750:  Train cost =  0.0548, Train acc =  0.9844 Val cost =  1.2659, Val acc =  0.7239\n",
      "Epoch 23, Batch 13800:  Train cost =  0.0978, Train acc =  0.9531 Val cost =  1.2864, Val acc =  0.7206\n",
      "Epoch 23, Batch 13850:  Train cost =  0.0756, Train acc =  0.9688 Val cost =  1.3107, Val acc =  0.7186\n",
      "Epoch 23, Batch 13900:  Train cost =  0.0356, Train acc =  0.9844 Val cost =  1.3673, Val acc =  0.7148\n",
      "Epoch 23, Batch 13950:  Train cost =  0.1808, Train acc =  0.9219 Val cost =  1.3988, Val acc =  0.7118\n",
      "Epoch 23, Batch 14000:  Train cost =  0.0914, Train acc =  0.9688 Val cost =  1.5972, Val acc =  0.6783\n",
      "Epoch 23, Batch 14050:  Train cost =  0.2057, Train acc =  0.8906 Val cost =  1.4688, Val acc =  0.6998\n",
      "Epoch 23, Batch 14100:  Train cost =  0.1427, Train acc =  0.9219 Val cost =  1.5424, Val acc =  0.6950\n",
      "Epoch 23, Batch 14150:  Train cost =  0.0298, Train acc =  1.0000 Val cost =  1.2877, Val acc =  0.7266\n",
      "Epoch 23, Batch 14200:  Train cost =  0.0849, Train acc =  0.9844 Val cost =  1.2760, Val acc =  0.7285\n",
      "Epoch 23, Batch 14250:  Train cost =  0.1965, Train acc =  0.9375 Val cost =  1.3422, Val acc =  0.7204\n",
      "Epoch 23, Batch 14300:  Train cost =  0.1273, Train acc =  0.9531 Val cost =  1.3229, Val acc =  0.7174\n",
      "Epoch 23, Batch 14350:  Train cost =  0.0595, Train acc =  0.9688 Val cost =  1.3587, Val acc =  0.7105\n",
      "Epoch 24, Batch 14400:  Train cost =  0.1074, Train acc =  0.9531 Val cost =  1.4460, Val acc =  0.6988\n",
      "Epoch 24, Batch 14450:  Train cost =  0.0434, Train acc =  0.9844 Val cost =  1.3769, Val acc =  0.7212\n",
      "Epoch 24, Batch 14500:  Train cost =  0.1075, Train acc =  0.9531 Val cost =  1.3558, Val acc =  0.7160\n",
      "Epoch 24, Batch 14550:  Train cost =  0.1689, Train acc =  0.9375 Val cost =  1.4602, Val acc =  0.7055\n",
      "Epoch 24, Batch 14600:  Train cost =  0.2114, Train acc =  0.9062 Val cost =  1.5611, Val acc =  0.6890\n",
      "Epoch 24, Batch 14650:  Train cost =  0.0422, Train acc =  0.9844 Val cost =  1.4028, Val acc =  0.7088\n",
      "Epoch 24, Batch 14700:  Train cost =  0.0217, Train acc =  1.0000 Val cost =  1.2967, Val acc =  0.7256\n",
      "Epoch 24, Batch 14750:  Train cost =  0.0701, Train acc =  0.9688 Val cost =  1.3530, Val acc =  0.7089\n",
      "Epoch 24, Batch 14800:  Train cost =  0.1437, Train acc =  0.9531 Val cost =  1.3955, Val acc =  0.7108\n",
      "Epoch 24, Batch 14850:  Train cost =  0.2153, Train acc =  0.9219 Val cost =  1.5453, Val acc =  0.6968\n",
      "Epoch 24, Batch 14900:  Train cost =  0.0580, Train acc =  1.0000 Val cost =  1.2875, Val acc =  0.7262\n",
      "Epoch 24, Batch 14950:  Train cost =  0.0843, Train acc =  0.9531 Val cost =  1.3664, Val acc =  0.7185\n",
      "Epoch 24, Batch 15000:  Train cost =  0.2451, Train acc =  0.8906 Val cost =  1.5018, Val acc =  0.7008\n",
      "Epoch 25, Batch 15050:  Train cost =  0.0949, Train acc =  0.9531 Val cost =  1.3327, Val acc =  0.7169\n",
      "Epoch 25, Batch 15100:  Train cost =  0.0599, Train acc =  0.9844 Val cost =  1.3367, Val acc =  0.7176\n",
      "Epoch 25, Batch 15150:  Train cost =  0.1026, Train acc =  0.9688 Val cost =  1.2991, Val acc =  0.7223\n",
      "Epoch 25, Batch 15200:  Train cost =  0.0719, Train acc =  0.9844 Val cost =  1.3407, Val acc =  0.7179\n",
      "Epoch 25, Batch 15250:  Train cost =  0.0304, Train acc =  1.0000 Val cost =  1.3372, Val acc =  0.7162\n",
      "Epoch 25, Batch 15300:  Train cost =  0.0760, Train acc =  0.9688 Val cost =  1.4086, Val acc =  0.7116\n",
      "Epoch 25, Batch 15350:  Train cost =  0.0443, Train acc =  0.9844 Val cost =  1.3783, Val acc =  0.7209\n",
      "Epoch 25, Batch 15400:  Train cost =  0.4256, Train acc =  0.8594 Val cost =  1.6977, Val acc =  0.6753\n",
      "Epoch 25, Batch 15450:  Train cost =  0.0568, Train acc =  0.9688 Val cost =  1.4122, Val acc =  0.7072\n",
      "Epoch 25, Batch 15500:  Train cost =  0.1622, Train acc =  0.9375 Val cost =  1.4105, Val acc =  0.7124\n",
      "Epoch 25, Batch 15550:  Train cost =  0.1525, Train acc =  0.9219 Val cost =  1.5134, Val acc =  0.7032\n",
      "Epoch 25, Batch 15600:  Train cost =  0.2720, Train acc =  0.8906 Val cost =  1.8642, Val acc =  0.6656\n",
      "Epoch 26, Batch 15650:  Train cost =  0.1191, Train acc =  0.9688 Val cost =  1.4544, Val acc =  0.7105\n",
      "Epoch 26, Batch 15700:  Train cost =  0.1137, Train acc =  0.9688 Val cost =  1.3582, Val acc =  0.7179\n",
      "Epoch 26, Batch 15750:  Train cost =  0.0860, Train acc =  0.9688 Val cost =  1.2888, Val acc =  0.7320\n",
      "Epoch 26, Batch 15800:  Train cost =  0.0590, Train acc =  0.9844 Val cost =  1.3300, Val acc =  0.7234\n",
      "Epoch 26, Batch 15850:  Train cost =  0.1003, Train acc =  0.9531 Val cost =  1.4034, Val acc =  0.7082\n",
      "Epoch 26, Batch 15900:  Train cost =  0.0535, Train acc =  0.9844 Val cost =  1.3828, Val acc =  0.7259\n",
      "Epoch 26, Batch 15950:  Train cost =  0.1720, Train acc =  0.9375 Val cost =  1.4540, Val acc =  0.7101\n",
      "Epoch 26, Batch 16000:  Train cost =  0.1197, Train acc =  0.9375 Val cost =  1.5365, Val acc =  0.6991\n"
     ]
    },
    {
     "name": "stdout",
     "output_type": "stream",
     "text": [
      "Epoch 26, Batch 16050:  Train cost =  0.0339, Train acc =  1.0000 Val cost =  1.3406, Val acc =  0.7268\n",
      "Epoch 26, Batch 16100:  Train cost =  0.0660, Train acc =  0.9688 Val cost =  1.3506, Val acc =  0.7178\n",
      "Epoch 26, Batch 16150:  Train cost =  0.0183, Train acc =  1.0000 Val cost =  1.3206, Val acc =  0.7275\n",
      "Epoch 26, Batch 16200:  Train cost =  0.0260, Train acc =  1.0000 Val cost =  1.3341, Val acc =  0.7271\n",
      "Epoch 26, Batch 16250:  Train cost =  0.1872, Train acc =  0.9375 Val cost =  1.6410, Val acc =  0.6950\n",
      "Epoch 27, Batch 16300:  Train cost =  0.0530, Train acc =  0.9844 Val cost =  1.4497, Val acc =  0.7094\n",
      "Epoch 27, Batch 16350:  Train cost =  0.1951, Train acc =  0.9062 Val cost =  1.5773, Val acc =  0.7020\n",
      "Epoch 27, Batch 16400:  Train cost =  0.0177, Train acc =  1.0000 Val cost =  1.3761, Val acc =  0.7201\n",
      "Epoch 27, Batch 16450:  Train cost =  0.0294, Train acc =  1.0000 Val cost =  1.3456, Val acc =  0.7264\n",
      "Epoch 27, Batch 16500:  Train cost =  0.0679, Train acc =  0.9688 Val cost =  1.4657, Val acc =  0.7150\n",
      "Epoch 27, Batch 16550:  Train cost =  0.0309, Train acc =  0.9844 Val cost =  1.3610, Val acc =  0.7206\n",
      "Epoch 27, Batch 16600:  Train cost =  0.0594, Train acc =  0.9844 Val cost =  1.5000, Val acc =  0.7016\n",
      "Epoch 27, Batch 16650:  Train cost =  0.2035, Train acc =  0.9375 Val cost =  1.8113, Val acc =  0.6765\n",
      "Epoch 27, Batch 16700:  Train cost =  0.0629, Train acc =  0.9688 Val cost =  1.3211, Val acc =  0.7220\n",
      "Epoch 27, Batch 16750:  Train cost =  0.0683, Train acc =  0.9844 Val cost =  1.3775, Val acc =  0.7253\n",
      "Epoch 27, Batch 16800:  Train cost =  0.0289, Train acc =  1.0000 Val cost =  1.4618, Val acc =  0.7118\n",
      "Epoch 27, Batch 16850:  Train cost =  0.0332, Train acc =  1.0000 Val cost =  1.3725, Val acc =  0.7279\n",
      "Epoch 28, Batch 16900:  Train cost =  0.0328, Train acc =  1.0000 Val cost =  1.3861, Val acc =  0.7189\n",
      "Epoch 28, Batch 16950:  Train cost =  0.0564, Train acc =  0.9844 Val cost =  1.4844, Val acc =  0.7057\n",
      "Epoch 28, Batch 17000:  Train cost =  0.0705, Train acc =  0.9688 Val cost =  1.3418, Val acc =  0.7300\n",
      "Epoch 28, Batch 17050:  Train cost =  0.0424, Train acc =  1.0000 Val cost =  1.3627, Val acc =  0.7262\n",
      "Epoch 28, Batch 17100:  Train cost =  0.0969, Train acc =  0.9531 Val cost =  1.5268, Val acc =  0.7019\n",
      "Epoch 28, Batch 17150:  Train cost =  0.1251, Train acc =  0.9375 Val cost =  1.4767, Val acc =  0.7161\n",
      "Epoch 28, Batch 17200:  Train cost =  0.0428, Train acc =  0.9844 Val cost =  1.3387, Val acc =  0.7282\n",
      "Epoch 28, Batch 17250:  Train cost =  0.3765, Train acc =  0.8594 Val cost =  1.6835, Val acc =  0.6953\n",
      "Epoch 28, Batch 17300:  Train cost =  0.0718, Train acc =  0.9844 Val cost =  1.4672, Val acc =  0.7085\n",
      "Epoch 28, Batch 17350:  Train cost =  0.0585, Train acc =  0.9844 Val cost =  1.4163, Val acc =  0.7187\n",
      "Epoch 28, Batch 17400:  Train cost =  0.0484, Train acc =  0.9844 Val cost =  1.3838, Val acc =  0.7283\n",
      "Epoch 28, Batch 17450:  Train cost =  0.0394, Train acc =  0.9844 Val cost =  1.5106, Val acc =  0.7134\n",
      "Epoch 28, Batch 17500:  Train cost =  0.0800, Train acc =  0.9531 Val cost =  1.4129, Val acc =  0.7156\n",
      "Epoch 29, Batch 17550:  Train cost =  0.0210, Train acc =  1.0000 Val cost =  1.3780, Val acc =  0.7193\n",
      "Epoch 29, Batch 17600:  Train cost =  0.0358, Train acc =  1.0000 Val cost =  1.5150, Val acc =  0.7137\n",
      "Epoch 29, Batch 17650:  Train cost =  0.0300, Train acc =  1.0000 Val cost =  1.3611, Val acc =  0.7252\n",
      "Epoch 29, Batch 17700:  Train cost =  0.0463, Train acc =  1.0000 Val cost =  1.4863, Val acc =  0.7109\n",
      "Epoch 29, Batch 17750:  Train cost =  0.0352, Train acc =  0.9844 Val cost =  1.3120, Val acc =  0.7370\n",
      "Epoch 29, Batch 17800:  Train cost =  0.1392, Train acc =  0.9375 Val cost =  1.4596, Val acc =  0.7057\n",
      "Epoch 29, Batch 17850:  Train cost =  0.0381, Train acc =  1.0000 Val cost =  1.4325, Val acc =  0.7248\n",
      "Epoch 29, Batch 17900:  Train cost =  0.0361, Train acc =  1.0000 Val cost =  1.3616, Val acc =  0.7316\n",
      "Epoch 29, Batch 17950:  Train cost =  0.0713, Train acc =  0.9688 Val cost =  1.5602, Val acc =  0.7108\n",
      "Epoch 29, Batch 18000:  Train cost =  0.0586, Train acc =  0.9844 Val cost =  1.4083, Val acc =  0.7207\n",
      "Epoch 29, Batch 18050:  Train cost =  0.3130, Train acc =  0.8906 Val cost =  1.9753, Val acc =  0.6620\n",
      "Epoch 29, Batch 18100:  Train cost =  0.0837, Train acc =  0.9688 Val cost =  1.4383, Val acc =  0.7132\n",
      "Epoch 30, Batch 18150:  Train cost =  0.0267, Train acc =  1.0000 Val cost =  1.3640, Val acc =  0.7236\n",
      "Epoch 30, Batch 18200:  Train cost =  0.0136, Train acc =  1.0000 Val cost =  1.3912, Val acc =  0.7270\n",
      "Epoch 30, Batch 18250:  Train cost =  0.0660, Train acc =  0.9844 Val cost =  1.3656, Val acc =  0.7241\n",
      "Epoch 30, Batch 18300:  Train cost =  0.1198, Train acc =  0.9844 Val cost =  1.4007, Val acc =  0.7146\n",
      "Epoch 30, Batch 18350:  Train cost =  0.0249, Train acc =  1.0000 Val cost =  1.3490, Val acc =  0.7312\n",
      "Epoch 30, Batch 18400:  Train cost =  0.1281, Train acc =  0.9688 Val cost =  1.4040, Val acc =  0.7291\n",
      "Epoch 30, Batch 18450:  Train cost =  0.0318, Train acc =  1.0000 Val cost =  1.4226, Val acc =  0.7197\n",
      "Epoch 30, Batch 18500:  Train cost =  0.0518, Train acc =  0.9844 Val cost =  1.4758, Val acc =  0.7206\n",
      "Epoch 30, Batch 18550:  Train cost =  0.0060, Train acc =  1.0000 Val cost =  1.3780, Val acc =  0.7291\n",
      "Epoch 30, Batch 18600:  Train cost =  0.0681, Train acc =  0.9688 Val cost =  1.6904, Val acc =  0.6905\n",
      "Epoch 30, Batch 18650:  Train cost =  0.0594, Train acc =  0.9531 Val cost =  1.5506, Val acc =  0.7015\n",
      "Epoch 30, Batch 18700:  Train cost =  0.0359, Train acc =  0.9844 Val cost =  1.3857, Val acc =  0.7309\n",
      "Epoch 30, Batch 18750:  Train cost =  0.3060, Train acc =  0.9375 Val cost =  1.8736, Val acc =  0.6737\n",
      "Epoch 31, Batch 18800:  Train cost =  0.0347, Train acc =  0.9844 Val cost =  1.5385, Val acc =  0.7164\n",
      "Epoch 31, Batch 18850:  Train cost =  0.0138, Train acc =  1.0000 Val cost =  1.3876, Val acc =  0.7228\n",
      "Epoch 31, Batch 18900:  Train cost =  0.0252, Train acc =  1.0000 Val cost =  1.4154, Val acc =  0.7209\n",
      "Epoch 31, Batch 18950:  Train cost =  0.0723, Train acc =  0.9688 Val cost =  1.4370, Val acc =  0.7231\n",
      "Epoch 31, Batch 19000:  Train cost =  0.0742, Train acc =  0.9844 Val cost =  1.5573, Val acc =  0.7086\n",
      "Epoch 31, Batch 19050:  Train cost =  0.0376, Train acc =  1.0000 Val cost =  1.3767, Val acc =  0.7333\n",
      "Epoch 31, Batch 19100:  Train cost =  0.1244, Train acc =  0.9531 Val cost =  1.6614, Val acc =  0.7153\n",
      "Epoch 31, Batch 19150:  Train cost =  0.0704, Train acc =  0.9844 Val cost =  1.4810, Val acc =  0.7152\n",
      "Epoch 31, Batch 19200:  Train cost =  0.0488, Train acc =  0.9844 Val cost =  1.4407, Val acc =  0.7278\n",
      "Epoch 31, Batch 19250:  Train cost =  0.0338, Train acc =  1.0000 Val cost =  1.4360, Val acc =  0.7209\n",
      "Epoch 31, Batch 19300:  Train cost =  0.0400, Train acc =  1.0000 Val cost =  1.4712, Val acc =  0.7237\n",
      "Epoch 31, Batch 19350:  Train cost =  0.0279, Train acc =  0.9844 Val cost =  1.5615, Val acc =  0.7063\n",
      "Epoch 32, Batch 19400:  Train cost =  0.0407, Train acc =  1.0000 Val cost =  1.5889, Val acc =  0.7120\n",
      "Epoch 32, Batch 19450:  Train cost =  0.0494, Train acc =  0.9844 Val cost =  1.3816, Val acc =  0.7303\n",
      "Epoch 32, Batch 19500:  Train cost =  0.0198, Train acc =  1.0000 Val cost =  1.3491, Val acc =  0.7337\n",
      "Epoch 32, Batch 19550:  Train cost =  0.0096, Train acc =  1.0000 Val cost =  1.3389, Val acc =  0.7357\n",
      "Epoch 32, Batch 19600:  Train cost =  0.0858, Train acc =  0.9375 Val cost =  1.4841, Val acc =  0.7217\n",
      "Epoch 32, Batch 19650:  Train cost =  0.4311, Train acc =  0.9219 Val cost =  1.7766, Val acc =  0.7003\n",
      "Epoch 32, Batch 19700:  Train cost =  0.1100, Train acc =  0.9688 Val cost =  1.5475, Val acc =  0.7131\n",
      "Epoch 32, Batch 19750:  Train cost =  0.0850, Train acc =  0.9531 Val cost =  1.4538, Val acc =  0.7250\n",
      "Epoch 32, Batch 19800:  Train cost =  0.1584, Train acc =  0.9531 Val cost =  1.6844, Val acc =  0.6949\n",
      "Epoch 32, Batch 19850:  Train cost =  0.0443, Train acc =  0.9688 Val cost =  1.4957, Val acc =  0.7235\n",
      "Epoch 32, Batch 19900:  Train cost =  0.0621, Train acc =  0.9844 Val cost =  1.5506, Val acc =  0.7089\n",
      "Epoch 32, Batch 19950:  Train cost =  0.1099, Train acc =  0.9531 Val cost =  1.5197, Val acc =  0.7142\n"
     ]
    },
    {
     "name": "stdout",
     "output_type": "stream",
     "text": [
      "Epoch 32, Batch 20000:  Train cost =  0.0804, Train acc =  0.9688 Val cost =  1.8407, Val acc =  0.6755\n",
      "Epoch 33, Batch 20050:  Train cost =  0.0375, Train acc =  1.0000 Val cost =  1.5077, Val acc =  0.7236\n",
      "Epoch 33, Batch 20100:  Train cost =  0.2747, Train acc =  0.9062 Val cost =  1.6838, Val acc =  0.7033\n",
      "Epoch 33, Batch 20150:  Train cost =  0.0225, Train acc =  0.9844 Val cost =  1.4937, Val acc =  0.7202\n",
      "Epoch 33, Batch 20200:  Train cost =  0.0206, Train acc =  1.0000 Val cost =  1.4199, Val acc =  0.7253\n",
      "Epoch 33, Batch 20250:  Train cost =  0.0245, Train acc =  1.0000 Val cost =  1.4588, Val acc =  0.7258\n",
      "Epoch 33, Batch 20300:  Train cost =  0.0328, Train acc =  1.0000 Val cost =  1.3924, Val acc =  0.7333\n",
      "Epoch 33, Batch 20350:  Train cost =  0.0660, Train acc =  1.0000 Val cost =  1.5536, Val acc =  0.7145\n",
      "Epoch 33, Batch 20400:  Train cost =  0.0095, Train acc =  1.0000 Val cost =  1.5985, Val acc =  0.7114\n",
      "Epoch 33, Batch 20450:  Train cost =  0.0296, Train acc =  1.0000 Val cost =  1.4922, Val acc =  0.7227\n",
      "Epoch 33, Batch 20500:  Train cost =  0.1508, Train acc =  0.9688 Val cost =  1.7534, Val acc =  0.6969\n",
      "Epoch 33, Batch 20550:  Train cost =  0.0363, Train acc =  1.0000 Val cost =  1.4974, Val acc =  0.7257\n",
      "Epoch 33, Batch 20600:  Train cost =  0.0561, Train acc =  0.9688 Val cost =  1.4041, Val acc =  0.7335\n",
      "Epoch 34, Batch 20650:  Train cost =  0.0257, Train acc =  1.0000 Val cost =  1.5596, Val acc =  0.7112\n",
      "Epoch 34, Batch 20700:  Train cost =  0.0701, Train acc =  0.9844 Val cost =  1.5283, Val acc =  0.7130\n",
      "Epoch 34, Batch 20750:  Train cost =  0.1932, Train acc =  0.9062 Val cost =  1.7672, Val acc =  0.6835\n",
      "Epoch 34, Batch 20800:  Train cost =  0.0292, Train acc =  1.0000 Val cost =  1.4320, Val acc =  0.7319\n",
      "Epoch 34, Batch 20850:  Train cost =  0.0373, Train acc =  0.9844 Val cost =  1.4440, Val acc =  0.7287\n",
      "Epoch 34, Batch 20900:  Train cost =  0.0237, Train acc =  1.0000 Val cost =  1.5198, Val acc =  0.7107\n",
      "Epoch 34, Batch 20950:  Train cost =  0.0163, Train acc =  1.0000 Val cost =  1.4288, Val acc =  0.7313\n",
      "Epoch 34, Batch 21000:  Train cost =  0.0456, Train acc =  0.9844 Val cost =  1.4058, Val acc =  0.7285\n",
      "Epoch 34, Batch 21050:  Train cost =  0.0238, Train acc =  1.0000 Val cost =  1.5551, Val acc =  0.7175\n",
      "Epoch 34, Batch 21100:  Train cost =  0.0157, Train acc =  1.0000 Val cost =  1.5856, Val acc =  0.7162\n",
      "Epoch 34, Batch 21150:  Train cost =  0.0408, Train acc =  0.9844 Val cost =  1.5073, Val acc =  0.7210\n",
      "Epoch 34, Batch 21200:  Train cost =  0.0662, Train acc =  0.9688 Val cost =  1.5002, Val acc =  0.7244\n",
      "Epoch 34, Batch 21250:  Train cost =  0.0212, Train acc =  1.0000 Val cost =  1.5745, Val acc =  0.7157\n",
      "Epoch 35, Batch 21300:  Train cost =  0.0130, Train acc =  1.0000 Val cost =  1.5040, Val acc =  0.7222\n",
      "Epoch 35, Batch 21350:  Train cost =  0.0995, Train acc =  0.9844 Val cost =  1.7038, Val acc =  0.7053\n",
      "Epoch 35, Batch 21400:  Train cost =  0.0551, Train acc =  0.9844 Val cost =  1.4767, Val acc =  0.7220\n",
      "Epoch 35, Batch 21450:  Train cost =  0.0225, Train acc =  1.0000 Val cost =  1.4692, Val acc =  0.7217\n",
      "Epoch 35, Batch 21500:  Train cost =  0.0207, Train acc =  1.0000 Val cost =  1.4537, Val acc =  0.7268\n",
      "Epoch 35, Batch 21550:  Train cost =  0.0952, Train acc =  0.9375 Val cost =  1.5515, Val acc =  0.7185\n",
      "Epoch 35, Batch 21600:  Train cost =  0.0840, Train acc =  0.9844 Val cost =  1.6268, Val acc =  0.7014\n",
      "Epoch 35, Batch 21650:  Train cost =  0.0632, Train acc =  0.9688 Val cost =  1.5268, Val acc =  0.7181\n",
      "Epoch 35, Batch 21700:  Train cost =  0.0497, Train acc =  0.9844 Val cost =  1.5241, Val acc =  0.7150\n",
      "Epoch 35, Batch 21750:  Train cost =  0.1328, Train acc =  0.9688 Val cost =  1.7153, Val acc =  0.7014\n",
      "Epoch 35, Batch 21800:  Train cost =  0.0519, Train acc =  0.9844 Val cost =  1.6051, Val acc =  0.7096\n",
      "Epoch 35, Batch 21850:  Train cost =  0.0126, Train acc =  1.0000 Val cost =  1.4127, Val acc =  0.7312\n",
      "Epoch 36, Batch 21900:  Train cost =  0.0178, Train acc =  1.0000 Val cost =  1.4897, Val acc =  0.7207\n",
      "Epoch 36, Batch 21950:  Train cost =  0.0119, Train acc =  1.0000 Val cost =  1.4606, Val acc =  0.7279\n",
      "Epoch 36, Batch 22000:  Train cost =  0.0339, Train acc =  1.0000 Val cost =  1.5363, Val acc =  0.7181\n",
      "Epoch 36, Batch 22050:  Train cost =  0.1945, Train acc =  0.9219 Val cost =  1.6454, Val acc =  0.7043\n",
      "Epoch 36, Batch 22100:  Train cost =  0.0351, Train acc =  1.0000 Val cost =  1.5435, Val acc =  0.7231\n",
      "Epoch 36, Batch 22150:  Train cost =  0.0519, Train acc =  0.9844 Val cost =  1.5607, Val acc =  0.7124\n",
      "Epoch 36, Batch 22200:  Train cost =  0.0850, Train acc =  0.9688 Val cost =  1.6101, Val acc =  0.7152\n",
      "Epoch 36, Batch 22250:  Train cost =  0.4212, Train acc =  0.8750 Val cost =  1.7252, Val acc =  0.7026\n",
      "Epoch 36, Batch 22300:  Train cost =  0.0721, Train acc =  0.9688 Val cost =  1.5550, Val acc =  0.7220\n",
      "Epoch 36, Batch 22350:  Train cost =  0.1397, Train acc =  0.9531 Val cost =  1.6668, Val acc =  0.7094\n",
      "Epoch 36, Batch 22400:  Train cost =  0.0475, Train acc =  0.9844 Val cost =  1.6598, Val acc =  0.7079\n",
      "Epoch 36, Batch 22450:  Train cost =  0.0290, Train acc =  1.0000 Val cost =  1.5578, Val acc =  0.7164\n",
      "Epoch 36, Batch 22500:  Train cost =  0.1107, Train acc =  0.9688 Val cost =  1.6163, Val acc =  0.7182\n",
      "Epoch 37, Batch 22550:  Train cost =  0.0462, Train acc =  0.9844 Val cost =  1.4823, Val acc =  0.7222\n",
      "Epoch 37, Batch 22600:  Train cost =  0.1063, Train acc =  0.9688 Val cost =  1.5908, Val acc =  0.7095\n",
      "Epoch 37, Batch 22650:  Train cost =  0.0158, Train acc =  1.0000 Val cost =  1.5218, Val acc =  0.7249\n",
      "Epoch 37, Batch 22700:  Train cost =  0.0636, Train acc =  0.9688 Val cost =  1.5234, Val acc =  0.7315\n",
      "Epoch 37, Batch 22750:  Train cost =  0.0336, Train acc =  0.9844 Val cost =  1.5170, Val acc =  0.7254\n",
      "Epoch 37, Batch 22800:  Train cost =  0.0457, Train acc =  1.0000 Val cost =  1.6219, Val acc =  0.7158\n",
      "Epoch 37, Batch 22850:  Train cost =  0.0113, Train acc =  1.0000 Val cost =  1.4751, Val acc =  0.7220\n",
      "Epoch 37, Batch 22900:  Train cost =  0.0486, Train acc =  0.9844 Val cost =  1.5144, Val acc =  0.7275\n",
      "Epoch 37, Batch 22950:  Train cost =  0.0100, Train acc =  1.0000 Val cost =  1.5747, Val acc =  0.7214\n",
      "Epoch 37, Batch 23000:  Train cost =  0.0412, Train acc =  0.9844 Val cost =  1.4977, Val acc =  0.7310\n",
      "Epoch 37, Batch 23050:  Train cost =  0.0790, Train acc =  0.9844 Val cost =  1.6086, Val acc =  0.7223\n",
      "Epoch 37, Batch 23100:  Train cost =  0.3488, Train acc =  0.9062 Val cost =  1.9454, Val acc =  0.6686\n",
      "Epoch 38, Batch 23150:  Train cost =  0.0217, Train acc =  1.0000 Val cost =  1.6221, Val acc =  0.7192\n",
      "Epoch 38, Batch 23200:  Train cost =  0.0906, Train acc =  0.9688 Val cost =  1.5970, Val acc =  0.7165\n",
      "Epoch 38, Batch 23250:  Train cost =  0.0371, Train acc =  0.9844 Val cost =  1.5064, Val acc =  0.7298\n",
      "Epoch 38, Batch 23300:  Train cost =  0.0246, Train acc =  0.9844 Val cost =  1.5339, Val acc =  0.7118\n",
      "Epoch 38, Batch 23350:  Train cost =  0.0350, Train acc =  1.0000 Val cost =  1.6326, Val acc =  0.7123\n",
      "Epoch 38, Batch 23400:  Train cost =  0.0141, Train acc =  1.0000 Val cost =  1.5804, Val acc =  0.7181\n",
      "Epoch 38, Batch 23450:  Train cost =  0.1193, Train acc =  0.9531 Val cost =  1.7417, Val acc =  0.7010\n",
      "Epoch 38, Batch 23500:  Train cost =  0.0295, Train acc =  0.9844 Val cost =  1.5286, Val acc =  0.7275\n",
      "Epoch 38, Batch 23550:  Train cost =  0.0662, Train acc =  0.9531 Val cost =  1.5664, Val acc =  0.7172\n",
      "Epoch 38, Batch 23600:  Train cost =  0.0072, Train acc =  1.0000 Val cost =  1.5336, Val acc =  0.7300\n",
      "Epoch 38, Batch 23650:  Train cost =  0.0652, Train acc =  0.9844 Val cost =  1.6650, Val acc =  0.7099\n",
      "Epoch 38, Batch 23700:  Train cost =  0.0480, Train acc =  0.9844 Val cost =  1.5712, Val acc =  0.7155\n",
      "Epoch 38, Batch 23750:  Train cost =  0.0551, Train acc =  0.9688 Val cost =  1.5122, Val acc =  0.7198\n",
      "Epoch 39, Batch 23800:  Train cost =  0.0222, Train acc =  1.0000 Val cost =  1.4856, Val acc =  0.7257\n",
      "Epoch 39, Batch 23850:  Train cost =  0.0230, Train acc =  1.0000 Val cost =  1.5429, Val acc =  0.7233\n",
      "Epoch 39, Batch 23900:  Train cost =  0.0917, Train acc =  0.9688 Val cost =  1.7524, Val acc =  0.7000\n"
     ]
    },
    {
     "name": "stdout",
     "output_type": "stream",
     "text": [
      "Epoch 39, Batch 23950:  Train cost =  0.0748, Train acc =  0.9844 Val cost =  1.6693, Val acc =  0.7103\n",
      "Epoch 39, Batch 24000:  Train cost =  0.0207, Train acc =  1.0000 Val cost =  1.6025, Val acc =  0.7170\n",
      "Epoch 39, Batch 24050:  Train cost =  0.0861, Train acc =  0.9531 Val cost =  1.5340, Val acc =  0.7177\n",
      "Epoch 39, Batch 24100:  Train cost =  0.0228, Train acc =  1.0000 Val cost =  1.5668, Val acc =  0.7237\n",
      "Epoch 39, Batch 24150:  Train cost =  0.0283, Train acc =  0.9844 Val cost =  1.5579, Val acc =  0.7267\n",
      "Epoch 39, Batch 24200:  Train cost =  0.1100, Train acc =  0.9531 Val cost =  1.6630, Val acc =  0.7135\n",
      "Epoch 39, Batch 24250:  Train cost =  0.2372, Train acc =  0.9219 Val cost =  1.7857, Val acc =  0.6882\n",
      "Epoch 39, Batch 24300:  Train cost =  0.2114, Train acc =  0.9375 Val cost =  1.7078, Val acc =  0.7179\n",
      "Epoch 39, Batch 24350:  Train cost =  0.0834, Train acc =  0.9531 Val cost =  1.9017, Val acc =  0.6911\n",
      "Epoch 40, Batch 24400:  Train cost =  0.0152, Train acc =  1.0000 Val cost =  1.6413, Val acc =  0.7119\n",
      "Epoch 40, Batch 24450:  Train cost =  0.0116, Train acc =  1.0000 Val cost =  1.6291, Val acc =  0.7156\n",
      "Epoch 40, Batch 24500:  Train cost =  0.0544, Train acc =  0.9531 Val cost =  1.5517, Val acc =  0.7219\n",
      "Epoch 40, Batch 24550:  Train cost =  0.0318, Train acc =  1.0000 Val cost =  1.5877, Val acc =  0.7157\n",
      "Epoch 40, Batch 24600:  Train cost =  0.2906, Train acc =  0.8750 Val cost =  1.9097, Val acc =  0.6910\n",
      "Epoch 40, Batch 24650:  Train cost =  0.0420, Train acc =  0.9844 Val cost =  1.6401, Val acc =  0.7136\n",
      "Epoch 40, Batch 24700:  Train cost =  0.0366, Train acc =  0.9844 Val cost =  1.5376, Val acc =  0.7294\n",
      "Epoch 40, Batch 24750:  Train cost =  0.0785, Train acc =  0.9688 Val cost =  1.6499, Val acc =  0.7106\n",
      "Epoch 40, Batch 24800:  Train cost =  0.0336, Train acc =  1.0000 Val cost =  1.5283, Val acc =  0.7273\n",
      "Epoch 40, Batch 24850:  Train cost =  0.2344, Train acc =  0.9219 Val cost =  1.8049, Val acc =  0.6962\n",
      "Epoch 40, Batch 24900:  Train cost =  0.1072, Train acc =  0.9531 Val cost =  1.6145, Val acc =  0.7188\n",
      "Epoch 40, Batch 24950:  Train cost =  0.1691, Train acc =  0.9375 Val cost =  1.7129, Val acc =  0.7085\n",
      "Epoch 40, Batch 25000:  Train cost =  0.0373, Train acc =  0.9844 Val cost =  1.6034, Val acc =  0.7209\n",
      "Epoch 41, Batch 25050:  Train cost =  0.0144, Train acc =  1.0000 Val cost =  1.5322, Val acc =  0.7260\n",
      "Epoch 41, Batch 25100:  Train cost =  0.0312, Train acc =  1.0000 Val cost =  1.5543, Val acc =  0.7179\n",
      "Epoch 41, Batch 25150:  Train cost =  0.0109, Train acc =  1.0000 Val cost =  1.5810, Val acc =  0.7306\n",
      "Epoch 41, Batch 25200:  Train cost =  0.0374, Train acc =  0.9844 Val cost =  1.6227, Val acc =  0.7223\n",
      "Epoch 41, Batch 25250:  Train cost =  0.0059, Train acc =  1.0000 Val cost =  1.5048, Val acc =  0.7341\n",
      "Epoch 41, Batch 25300:  Train cost =  0.0391, Train acc =  0.9844 Val cost =  1.5830, Val acc =  0.7216\n",
      "Epoch 41, Batch 25350:  Train cost =  0.0126, Train acc =  1.0000 Val cost =  1.6397, Val acc =  0.7164\n",
      "Epoch 41, Batch 25400:  Train cost =  0.0291, Train acc =  0.9844 Val cost =  1.4826, Val acc =  0.7307\n",
      "Epoch 41, Batch 25450:  Train cost =  0.0059, Train acc =  1.0000 Val cost =  1.5162, Val acc =  0.7280\n",
      "Epoch 41, Batch 25500:  Train cost =  0.0109, Train acc =  1.0000 Val cost =  1.6010, Val acc =  0.7268\n",
      "Epoch 41, Batch 25550:  Train cost =  0.1212, Train acc =  0.9531 Val cost =  1.7350, Val acc =  0.7042\n",
      "Epoch 41, Batch 25600:  Train cost =  0.0158, Train acc =  1.0000 Val cost =  1.5910, Val acc =  0.7212\n",
      "Epoch 42, Batch 25650:  Train cost =  0.0119, Train acc =  1.0000 Val cost =  1.5781, Val acc =  0.7219\n",
      "Epoch 42, Batch 25700:  Train cost =  0.0623, Train acc =  0.9688 Val cost =  1.7832, Val acc =  0.6941\n",
      "Epoch 42, Batch 25750:  Train cost =  0.0386, Train acc =  0.9844 Val cost =  1.6092, Val acc =  0.7215\n",
      "Epoch 42, Batch 25800:  Train cost =  0.0034, Train acc =  1.0000 Val cost =  1.5325, Val acc =  0.7270\n",
      "Epoch 42, Batch 25850:  Train cost =  0.0393, Train acc =  0.9844 Val cost =  1.6949, Val acc =  0.7169\n",
      "Epoch 42, Batch 25900:  Train cost =  0.0436, Train acc =  0.9688 Val cost =  1.6367, Val acc =  0.7274\n",
      "Epoch 42, Batch 25950:  Train cost =  0.0377, Train acc =  1.0000 Val cost =  1.5540, Val acc =  0.7349\n",
      "Epoch 42, Batch 26000:  Train cost =  0.0531, Train acc =  0.9688 Val cost =  1.6000, Val acc =  0.7274\n",
      "Epoch 42, Batch 26050:  Train cost =  0.1002, Train acc =  0.9688 Val cost =  1.6338, Val acc =  0.7185\n",
      "Epoch 42, Batch 26100:  Train cost =  0.1068, Train acc =  0.9844 Val cost =  1.8856, Val acc =  0.6941\n",
      "Epoch 42, Batch 26150:  Train cost =  0.0737, Train acc =  0.9688 Val cost =  1.6126, Val acc =  0.7268\n",
      "Epoch 42, Batch 26200:  Train cost =  0.0796, Train acc =  0.9688 Val cost =  1.6345, Val acc =  0.7273\n",
      "Epoch 42, Batch 26250:  Train cost =  0.0290, Train acc =  1.0000 Val cost =  1.6103, Val acc =  0.7220\n",
      "Epoch 43, Batch 26300:  Train cost =  0.0151, Train acc =  1.0000 Val cost =  1.5270, Val acc =  0.7371\n",
      "Epoch 43, Batch 26350:  Train cost =  0.0121, Train acc =  1.0000 Val cost =  1.5404, Val acc =  0.7336\n",
      "Epoch 43, Batch 26400:  Train cost =  0.0400, Train acc =  0.9688 Val cost =  1.5164, Val acc =  0.7326\n",
      "Epoch 43, Batch 26450:  Train cost =  0.0166, Train acc =  1.0000 Val cost =  1.6005, Val acc =  0.7212\n",
      "Epoch 43, Batch 26500:  Train cost =  0.0080, Train acc =  1.0000 Val cost =  1.5405, Val acc =  0.7331\n",
      "Epoch 43, Batch 26550:  Train cost =  0.0042, Train acc =  1.0000 Val cost =  1.5119, Val acc =  0.7340\n",
      "Epoch 43, Batch 26600:  Train cost =  0.0963, Train acc =  0.9844 Val cost =  1.6457, Val acc =  0.7159\n",
      "Epoch 43, Batch 26650:  Train cost =  0.0305, Train acc =  1.0000 Val cost =  1.4987, Val acc =  0.7386\n",
      "Epoch 43, Batch 26700:  Train cost =  0.0091, Train acc =  1.0000 Val cost =  1.5835, Val acc =  0.7233\n",
      "Epoch 43, Batch 26750:  Train cost =  0.0278, Train acc =  0.9844 Val cost =  1.5272, Val acc =  0.7290\n",
      "Epoch 43, Batch 26800:  Train cost =  0.1647, Train acc =  0.9531 Val cost =  1.6266, Val acc =  0.7127\n",
      "Epoch 43, Batch 26850:  Train cost =  0.0087, Train acc =  1.0000 Val cost =  1.5625, Val acc =  0.7229\n",
      "Epoch 44, Batch 26900:  Train cost =  0.0173, Train acc =  1.0000 Val cost =  1.5496, Val acc =  0.7329\n",
      "Epoch 44, Batch 26950:  Train cost =  0.0081, Train acc =  1.0000 Val cost =  1.5643, Val acc =  0.7269\n",
      "Epoch 44, Batch 27000:  Train cost =  0.0494, Train acc =  0.9844 Val cost =  1.5609, Val acc =  0.7237\n",
      "Epoch 44, Batch 27050:  Train cost =  0.0409, Train acc =  0.9844 Val cost =  1.5599, Val acc =  0.7318\n",
      "Epoch 44, Batch 27100:  Train cost =  0.0032, Train acc =  1.0000 Val cost =  1.5254, Val acc =  0.7325\n",
      "Epoch 44, Batch 27150:  Train cost =  0.0759, Train acc =  0.9844 Val cost =  1.6038, Val acc =  0.7266\n",
      "Epoch 44, Batch 27200:  Train cost =  0.0776, Train acc =  0.9844 Val cost =  1.5770, Val acc =  0.7189\n",
      "Epoch 44, Batch 27250:  Train cost =  0.0453, Train acc =  1.0000 Val cost =  1.6459, Val acc =  0.7211\n",
      "Epoch 44, Batch 27300:  Train cost =  0.0492, Train acc =  0.9688 Val cost =  1.6852, Val acc =  0.7213\n",
      "Epoch 44, Batch 27350:  Train cost =  0.0076, Train acc =  1.0000 Val cost =  1.5532, Val acc =  0.7306\n",
      "Epoch 44, Batch 27400:  Train cost =  0.0492, Train acc =  0.9688 Val cost =  1.7290, Val acc =  0.7083\n",
      "Epoch 44, Batch 27450:  Train cost =  0.0760, Train acc =  0.9688 Val cost =  1.6459, Val acc =  0.7251\n",
      "Epoch 44, Batch 27500:  Train cost =  0.0351, Train acc =  0.9844 Val cost =  1.6897, Val acc =  0.7106\n",
      "Epoch 45, Batch 27550:  Train cost =  0.0149, Train acc =  1.0000 Val cost =  1.5142, Val acc =  0.7325\n",
      "Epoch 45, Batch 27600:  Train cost =  0.0317, Train acc =  0.9844 Val cost =  1.5980, Val acc =  0.7239\n",
      "Epoch 45, Batch 27650:  Train cost =  0.0632, Train acc =  0.9688 Val cost =  1.5504, Val acc =  0.7293\n",
      "Epoch 45, Batch 27700:  Train cost =  0.0133, Train acc =  1.0000 Val cost =  1.5001, Val acc =  0.7305\n",
      "Epoch 45, Batch 27750:  Train cost =  0.0330, Train acc =  0.9844 Val cost =  1.5083, Val acc =  0.7319\n",
      "Epoch 45, Batch 27800:  Train cost =  0.0093, Train acc =  1.0000 Val cost =  1.5461, Val acc =  0.7277\n",
      "Epoch 45, Batch 27850:  Train cost =  0.0237, Train acc =  1.0000 Val cost =  1.6337, Val acc =  0.7217\n"
     ]
    },
    {
     "name": "stdout",
     "output_type": "stream",
     "text": [
      "Epoch 45, Batch 27900:  Train cost =  0.0045, Train acc =  1.0000 Val cost =  1.5138, Val acc =  0.7318\n",
      "Epoch 45, Batch 27950:  Train cost =  0.0198, Train acc =  0.9844 Val cost =  1.5989, Val acc =  0.7268\n",
      "Epoch 45, Batch 28000:  Train cost =  0.0282, Train acc =  0.9844 Val cost =  1.5663, Val acc =  0.7298\n",
      "Epoch 45, Batch 28050:  Train cost =  0.0855, Train acc =  0.9688 Val cost =  1.6063, Val acc =  0.7176\n",
      "Epoch 45, Batch 28100:  Train cost =  0.0209, Train acc =  1.0000 Val cost =  1.6857, Val acc =  0.7125\n",
      "Epoch 46, Batch 28150:  Train cost =  0.2812, Train acc =  0.9375 Val cost =  1.6339, Val acc =  0.7253\n",
      "Epoch 46, Batch 28200:  Train cost =  0.1955, Train acc =  0.9531 Val cost =  1.6801, Val acc =  0.7151\n",
      "Epoch 46, Batch 28250:  Train cost =  0.0225, Train acc =  1.0000 Val cost =  1.5675, Val acc =  0.7331\n",
      "Epoch 46, Batch 28300:  Train cost =  0.0447, Train acc =  1.0000 Val cost =  1.6871, Val acc =  0.7239\n",
      "Epoch 46, Batch 28350:  Train cost =  0.0059, Train acc =  1.0000 Val cost =  1.5188, Val acc =  0.7247\n",
      "Epoch 46, Batch 28400:  Train cost =  0.0215, Train acc =  0.9844 Val cost =  1.6063, Val acc =  0.7296\n",
      "Epoch 46, Batch 28450:  Train cost =  0.0022, Train acc =  1.0000 Val cost =  1.5430, Val acc =  0.7270\n",
      "Epoch 46, Batch 28500:  Train cost =  0.0441, Train acc =  0.9688 Val cost =  1.7377, Val acc =  0.7085\n",
      "Epoch 46, Batch 28550:  Train cost =  0.0575, Train acc =  0.9844 Val cost =  1.7912, Val acc =  0.7011\n",
      "Epoch 46, Batch 28600:  Train cost =  0.0729, Train acc =  0.9844 Val cost =  2.0191, Val acc =  0.6918\n",
      "Epoch 46, Batch 28650:  Train cost =  0.1135, Train acc =  0.9531 Val cost =  1.7087, Val acc =  0.7081\n",
      "Epoch 46, Batch 28700:  Train cost =  0.0422, Train acc =  0.9688 Val cost =  1.6452, Val acc =  0.7222\n",
      "Epoch 46, Batch 28750:  Train cost =  0.0111, Train acc =  1.0000 Val cost =  1.6757, Val acc =  0.7153\n",
      "Epoch 47, Batch 28800:  Train cost =  0.0027, Train acc =  1.0000 Val cost =  1.5760, Val acc =  0.7318\n",
      "Epoch 47, Batch 28850:  Train cost =  0.0679, Train acc =  0.9688 Val cost =  1.6151, Val acc =  0.7227\n",
      "Epoch 47, Batch 28900:  Train cost =  0.0141, Train acc =  1.0000 Val cost =  1.6530, Val acc =  0.7143\n",
      "Epoch 47, Batch 28950:  Train cost =  0.0532, Train acc =  0.9844 Val cost =  1.6650, Val acc =  0.7134\n",
      "Epoch 47, Batch 29000:  Train cost =  0.0528, Train acc =  0.9844 Val cost =  1.5253, Val acc =  0.7324\n",
      "Epoch 47, Batch 29050:  Train cost =  0.0539, Train acc =  0.9844 Val cost =  1.6052, Val acc =  0.7286\n",
      "Epoch 47, Batch 29100:  Train cost =  0.0903, Train acc =  0.9844 Val cost =  1.6962, Val acc =  0.7178\n",
      "Epoch 47, Batch 29150:  Train cost =  0.1674, Train acc =  0.9062 Val cost =  1.9449, Val acc =  0.6966\n",
      "Epoch 47, Batch 29200:  Train cost =  0.0296, Train acc =  0.9844 Val cost =  1.6486, Val acc =  0.7247\n",
      "Epoch 47, Batch 29250:  Train cost =  0.0517, Train acc =  0.9844 Val cost =  1.6108, Val acc =  0.7213\n",
      "Epoch 47, Batch 29300:  Train cost =  0.0681, Train acc =  0.9688 Val cost =  1.6613, Val acc =  0.7273\n",
      "Epoch 47, Batch 29350:  Train cost =  0.0357, Train acc =  0.9688 Val cost =  1.6769, Val acc =  0.7153\n",
      "Epoch 48, Batch 29400:  Train cost =  0.0023, Train acc =  1.0000 Val cost =  1.5361, Val acc =  0.7382\n",
      "Epoch 48, Batch 29450:  Train cost =  0.0033, Train acc =  1.0000 Val cost =  1.6653, Val acc =  0.7232\n",
      "Epoch 48, Batch 29500:  Train cost =  0.0105, Train acc =  1.0000 Val cost =  1.6452, Val acc =  0.7193\n",
      "Epoch 48, Batch 29550:  Train cost =  0.0144, Train acc =  0.9844 Val cost =  1.6684, Val acc =  0.7252\n",
      "Epoch 48, Batch 29600:  Train cost =  0.0119, Train acc =  1.0000 Val cost =  1.6436, Val acc =  0.7305\n",
      "Epoch 48, Batch 29650:  Train cost =  0.0106, Train acc =  1.0000 Val cost =  1.6587, Val acc =  0.7304\n",
      "Epoch 48, Batch 29700:  Train cost =  0.0241, Train acc =  1.0000 Val cost =  1.6003, Val acc =  0.7304\n",
      "Epoch 48, Batch 29750:  Train cost =  0.0144, Train acc =  1.0000 Val cost =  1.6645, Val acc =  0.7198\n",
      "Epoch 48, Batch 29800:  Train cost =  0.0039, Train acc =  1.0000 Val cost =  1.5761, Val acc =  0.7324\n",
      "Epoch 48, Batch 29850:  Train cost =  0.0195, Train acc =  0.9844 Val cost =  1.6830, Val acc =  0.7247\n",
      "Epoch 48, Batch 29900:  Train cost =  0.0446, Train acc =  0.9844 Val cost =  1.6486, Val acc =  0.7181\n",
      "Epoch 48, Batch 29950:  Train cost =  0.0429, Train acc =  0.9844 Val cost =  1.6502, Val acc =  0.7285\n",
      "Epoch 48, Batch 30000:  Train cost =  0.0183, Train acc =  1.0000 Val cost =  1.6594, Val acc =  0.7228\n",
      "Epoch 49, Batch 30050:  Train cost =  0.0639, Train acc =  0.9688 Val cost =  1.7149, Val acc =  0.7248\n",
      "Epoch 49, Batch 30100:  Train cost =  0.0072, Train acc =  1.0000 Val cost =  1.6492, Val acc =  0.7264\n",
      "Epoch 49, Batch 30150:  Train cost =  0.0166, Train acc =  1.0000 Val cost =  1.6177, Val acc =  0.7314\n",
      "Epoch 49, Batch 30200:  Train cost =  0.0112, Train acc =  1.0000 Val cost =  1.6513, Val acc =  0.7254\n",
      "Epoch 49, Batch 30250:  Train cost =  0.0079, Train acc =  1.0000 Val cost =  1.6306, Val acc =  0.7280\n",
      "Epoch 49, Batch 30300:  Train cost =  0.0074, Train acc =  1.0000 Val cost =  1.6554, Val acc =  0.7253\n",
      "Epoch 49, Batch 30350:  Train cost =  0.1708, Train acc =  0.9688 Val cost =  2.0441, Val acc =  0.6716\n",
      "Epoch 49, Batch 30400:  Train cost =  0.2128, Train acc =  0.9375 Val cost =  2.1396, Val acc =  0.6822\n",
      "Epoch 49, Batch 30450:  Train cost =  0.0996, Train acc =  0.9531 Val cost =  1.7647, Val acc =  0.7126\n",
      "Epoch 49, Batch 30500:  Train cost =  0.0501, Train acc =  0.9688 Val cost =  1.7639, Val acc =  0.7140\n",
      "Epoch 49, Batch 30550:  Train cost =  0.0265, Train acc =  0.9844 Val cost =  1.6959, Val acc =  0.7137\n",
      "Epoch 49, Batch 30600:  Train cost =  0.0535, Train acc =  0.9844 Val cost =  1.8450, Val acc =  0.7111\n",
      "Epoch 50, Batch 30650:  Train cost =  0.0103, Train acc =  1.0000 Val cost =  1.6450, Val acc =  0.7294\n",
      "Epoch 50, Batch 30700:  Train cost =  0.0531, Train acc =  0.9844 Val cost =  1.7001, Val acc =  0.7207\n",
      "Epoch 50, Batch 30750:  Train cost =  0.0283, Train acc =  0.9844 Val cost =  1.5781, Val acc =  0.7284\n",
      "Epoch 50, Batch 30800:  Train cost =  0.0668, Train acc =  0.9688 Val cost =  1.6722, Val acc =  0.7158\n",
      "Epoch 50, Batch 30850:  Train cost =  0.0994, Train acc =  0.9375 Val cost =  1.8416, Val acc =  0.7070\n",
      "Epoch 50, Batch 30900:  Train cost =  0.0302, Train acc =  1.0000 Val cost =  1.6823, Val acc =  0.7150\n",
      "Epoch 50, Batch 30950:  Train cost =  0.0077, Train acc =  1.0000 Val cost =  1.5943, Val acc =  0.7238\n",
      "Epoch 50, Batch 31000:  Train cost =  0.0248, Train acc =  1.0000 Val cost =  1.5735, Val acc =  0.7274\n",
      "Epoch 50, Batch 31050:  Train cost =  0.0306, Train acc =  1.0000 Val cost =  1.6803, Val acc =  0.7236\n",
      "Epoch 50, Batch 31100:  Train cost =  0.0078, Train acc =  1.0000 Val cost =  1.5209, Val acc =  0.7387\n",
      "Epoch 50, Batch 31150:  Train cost =  0.0319, Train acc =  1.0000 Val cost =  1.7096, Val acc =  0.7153\n",
      "Epoch 50, Batch 31200:  Train cost =  0.0082, Train acc =  1.0000 Val cost =  1.6000, Val acc =  0.7193\n",
      "Epoch 50, Batch 31250:  Train cost =  0.0098, Train acc =  1.0000 Val cost =  1.6293, Val acc =  0.7304\n",
      "Epoch 51, Batch 31300:  Train cost =  0.0049, Train acc =  1.0000 Val cost =  1.5355, Val acc =  0.7283\n",
      "Epoch 51, Batch 31350:  Train cost =  0.0086, Train acc =  1.0000 Val cost =  1.4806, Val acc =  0.7363\n",
      "Epoch 51, Batch 31400:  Train cost =  0.0063, Train acc =  1.0000 Val cost =  1.5362, Val acc =  0.7383\n",
      "Epoch 51, Batch 31450:  Train cost =  0.0078, Train acc =  1.0000 Val cost =  1.6632, Val acc =  0.7240\n",
      "Epoch 51, Batch 31500:  Train cost =  0.0568, Train acc =  0.9688 Val cost =  1.7776, Val acc =  0.7177\n",
      "Epoch 51, Batch 31550:  Train cost =  0.0136, Train acc =  1.0000 Val cost =  1.6600, Val acc =  0.7215\n",
      "Epoch 51, Batch 31600:  Train cost =  0.0013, Train acc =  1.0000 Val cost =  1.6023, Val acc =  0.7288\n",
      "Epoch 51, Batch 31650:  Train cost =  0.0080, Train acc =  1.0000 Val cost =  1.5938, Val acc =  0.7371\n",
      "Epoch 51, Batch 31700:  Train cost =  0.0066, Train acc =  1.0000 Val cost =  1.6191, Val acc =  0.7255\n",
      "Epoch 51, Batch 31750:  Train cost =  0.0134, Train acc =  1.0000 Val cost =  1.6180, Val acc =  0.7332\n",
      "Epoch 51, Batch 31800:  Train cost =  0.0201, Train acc =  1.0000 Val cost =  1.9183, Val acc =  0.7019\n"
     ]
    },
    {
     "name": "stdout",
     "output_type": "stream",
     "text": [
      "Epoch 51, Batch 31850:  Train cost =  0.1118, Train acc =  0.9688 Val cost =  1.7638, Val acc =  0.7191\n",
      "Epoch 52, Batch 31900:  Train cost =  0.0681, Train acc =  0.9688 Val cost =  1.6493, Val acc =  0.7230\n",
      "Epoch 52, Batch 31950:  Train cost =  0.0238, Train acc =  1.0000 Val cost =  1.7269, Val acc =  0.7094\n",
      "Epoch 52, Batch 32000:  Train cost =  0.0151, Train acc =  1.0000 Val cost =  1.6883, Val acc =  0.7238\n",
      "Epoch 52, Batch 32050:  Train cost =  0.0301, Train acc =  0.9844 Val cost =  1.7298, Val acc =  0.7238\n",
      "Epoch 52, Batch 32100:  Train cost =  0.0169, Train acc =  1.0000 Val cost =  1.6709, Val acc =  0.7186\n",
      "Epoch 52, Batch 32150:  Train cost =  0.0204, Train acc =  0.9844 Val cost =  1.5952, Val acc =  0.7339\n",
      "Epoch 52, Batch 32200:  Train cost =  0.0288, Train acc =  0.9844 Val cost =  1.6558, Val acc =  0.7288\n",
      "Epoch 52, Batch 32250:  Train cost =  0.0800, Train acc =  0.9688 Val cost =  1.6720, Val acc =  0.7225\n",
      "Epoch 52, Batch 32300:  Train cost =  0.0745, Train acc =  0.9688 Val cost =  1.7637, Val acc =  0.7213\n",
      "Epoch 52, Batch 32350:  Train cost =  0.1082, Train acc =  0.9531 Val cost =  2.0087, Val acc =  0.6916\n",
      "Epoch 52, Batch 32400:  Train cost =  0.0610, Train acc =  0.9844 Val cost =  1.7753, Val acc =  0.7216\n",
      "Epoch 52, Batch 32450:  Train cost =  0.0059, Train acc =  1.0000 Val cost =  1.7230, Val acc =  0.7188\n",
      "Epoch 52, Batch 32500:  Train cost =  0.0662, Train acc =  0.9844 Val cost =  1.7705, Val acc =  0.7133\n",
      "Epoch 53, Batch 32550:  Train cost =  0.0210, Train acc =  1.0000 Val cost =  1.6762, Val acc =  0.7273\n",
      "Epoch 53, Batch 32600:  Train cost =  0.0360, Train acc =  0.9844 Val cost =  1.6384, Val acc =  0.7184\n",
      "Epoch 53, Batch 32650:  Train cost =  0.0719, Train acc =  0.9688 Val cost =  1.5691, Val acc =  0.7406\n",
      "Epoch 53, Batch 32700:  Train cost =  0.0570, Train acc =  0.9844 Val cost =  1.6525, Val acc =  0.7236\n",
      "Epoch 53, Batch 32750:  Train cost =  0.0149, Train acc =  1.0000 Val cost =  1.8415, Val acc =  0.7127\n",
      "Epoch 53, Batch 32800:  Train cost =  0.0505, Train acc =  0.9844 Val cost =  1.7914, Val acc =  0.7125\n",
      "Epoch 53, Batch 32850:  Train cost =  0.0042, Train acc =  1.0000 Val cost =  1.7033, Val acc =  0.7200\n",
      "Epoch 53, Batch 32900:  Train cost =  0.0116, Train acc =  1.0000 Val cost =  1.6831, Val acc =  0.7164\n",
      "Epoch 53, Batch 32950:  Train cost =  0.0122, Train acc =  1.0000 Val cost =  1.6700, Val acc =  0.7235\n",
      "Epoch 53, Batch 33000:  Train cost =  0.0110, Train acc =  1.0000 Val cost =  1.6558, Val acc =  0.7275\n",
      "Epoch 53, Batch 33050:  Train cost =  0.0486, Train acc =  0.9844 Val cost =  1.6142, Val acc =  0.7281\n",
      "Epoch 53, Batch 33100:  Train cost =  0.1186, Train acc =  0.9531 Val cost =  2.0940, Val acc =  0.6864\n",
      "Epoch 54, Batch 33150:  Train cost =  0.0221, Train acc =  1.0000 Val cost =  1.6682, Val acc =  0.7187\n",
      "Epoch 54, Batch 33200:  Train cost =  0.0442, Train acc =  0.9844 Val cost =  1.6907, Val acc =  0.7258\n",
      "Epoch 54, Batch 33250:  Train cost =  0.0150, Train acc =  0.9844 Val cost =  1.6908, Val acc =  0.7285\n",
      "Epoch 54, Batch 33300:  Train cost =  0.0202, Train acc =  1.0000 Val cost =  1.6794, Val acc =  0.7279\n",
      "Epoch 54, Batch 33350:  Train cost =  0.0556, Train acc =  0.9844 Val cost =  1.6489, Val acc =  0.7145\n",
      "Epoch 54, Batch 33400:  Train cost =  0.0151, Train acc =  1.0000 Val cost =  1.5908, Val acc =  0.7315\n",
      "Epoch 54, Batch 33450:  Train cost =  0.1037, Train acc =  0.9375 Val cost =  1.8413, Val acc =  0.7086\n",
      "Epoch 54, Batch 33500:  Train cost =  0.0159, Train acc =  1.0000 Val cost =  1.6458, Val acc =  0.7279\n",
      "Epoch 54, Batch 33550:  Train cost =  0.1024, Train acc =  0.9688 Val cost =  1.6269, Val acc =  0.7237\n",
      "Epoch 54, Batch 33600:  Train cost =  0.0078, Train acc =  1.0000 Val cost =  1.7137, Val acc =  0.7189\n",
      "Epoch 54, Batch 33650:  Train cost =  0.0224, Train acc =  0.9844 Val cost =  1.6057, Val acc =  0.7307\n",
      "Epoch 54, Batch 33700:  Train cost =  0.0182, Train acc =  1.0000 Val cost =  1.6654, Val acc =  0.7238\n",
      "Epoch 54, Batch 33750:  Train cost =  0.0165, Train acc =  1.0000 Val cost =  1.7582, Val acc =  0.7177\n",
      "Epoch 55, Batch 33800:  Train cost =  0.0265, Train acc =  0.9844 Val cost =  1.9566, Val acc =  0.6909\n",
      "Epoch 55, Batch 33850:  Train cost =  0.0089, Train acc =  1.0000 Val cost =  1.5794, Val acc =  0.7319\n",
      "Epoch 55, Batch 33900:  Train cost =  0.0162, Train acc =  1.0000 Val cost =  1.8511, Val acc =  0.7061\n",
      "Epoch 55, Batch 33950:  Train cost =  0.0014, Train acc =  1.0000 Val cost =  1.6456, Val acc =  0.7272\n",
      "Epoch 55, Batch 34000:  Train cost =  0.0436, Train acc =  0.9844 Val cost =  1.7239, Val acc =  0.7193\n",
      "Epoch 55, Batch 34050:  Train cost =  0.0331, Train acc =  0.9844 Val cost =  1.6797, Val acc =  0.7297\n",
      "Epoch 55, Batch 34100:  Train cost =  0.0088, Train acc =  1.0000 Val cost =  1.7370, Val acc =  0.7215\n",
      "Epoch 55, Batch 34150:  Train cost =  0.0106, Train acc =  1.0000 Val cost =  1.6435, Val acc =  0.7351\n",
      "Epoch 55, Batch 34200:  Train cost =  0.0288, Train acc =  0.9844 Val cost =  1.6875, Val acc =  0.7300\n",
      "Epoch 55, Batch 34250:  Train cost =  0.0253, Train acc =  0.9844 Val cost =  1.6504, Val acc =  0.7287\n",
      "Epoch 55, Batch 34300:  Train cost =  0.0251, Train acc =  1.0000 Val cost =  1.6194, Val acc =  0.7323\n",
      "Epoch 55, Batch 34350:  Train cost =  0.3186, Train acc =  0.9375 Val cost =  2.0264, Val acc =  0.6957\n",
      "Epoch 56, Batch 34400:  Train cost =  0.0927, Train acc =  0.9531 Val cost =  1.7542, Val acc =  0.7195\n",
      "Epoch 56, Batch 34450:  Train cost =  0.0101, Train acc =  1.0000 Val cost =  1.6757, Val acc =  0.7355\n",
      "Epoch 56, Batch 34500:  Train cost =  0.0449, Train acc =  0.9688 Val cost =  2.0071, Val acc =  0.6999\n",
      "Epoch 56, Batch 34550:  Train cost =  0.0061, Train acc =  1.0000 Val cost =  1.6304, Val acc =  0.7330\n",
      "Epoch 56, Batch 34600:  Train cost =  0.0103, Train acc =  1.0000 Val cost =  1.7674, Val acc =  0.7290\n",
      "Epoch 56, Batch 34650:  Train cost =  0.0362, Train acc =  1.0000 Val cost =  1.7240, Val acc =  0.7176\n",
      "Epoch 56, Batch 34700:  Train cost =  0.0167, Train acc =  1.0000 Val cost =  1.8144, Val acc =  0.7133\n",
      "Epoch 56, Batch 34750:  Train cost =  0.0360, Train acc =  0.9844 Val cost =  1.7060, Val acc =  0.7232\n",
      "Epoch 56, Batch 34800:  Train cost =  0.0121, Train acc =  1.0000 Val cost =  1.6863, Val acc =  0.7204\n",
      "Epoch 56, Batch 34850:  Train cost =  0.0179, Train acc =  1.0000 Val cost =  1.6958, Val acc =  0.7193\n",
      "Epoch 56, Batch 34900:  Train cost =  0.0205, Train acc =  1.0000 Val cost =  1.7641, Val acc =  0.7185\n",
      "Epoch 56, Batch 34950:  Train cost =  0.0315, Train acc =  0.9844 Val cost =  1.7810, Val acc =  0.7086\n",
      "Epoch 56, Batch 35000:  Train cost =  0.0759, Train acc =  0.9688 Val cost =  1.9273, Val acc =  0.7081\n",
      "Epoch 57, Batch 35050:  Train cost =  0.0226, Train acc =  1.0000 Val cost =  1.6913, Val acc =  0.7224\n",
      "Epoch 57, Batch 35100:  Train cost =  0.0390, Train acc =  0.9844 Val cost =  1.6418, Val acc =  0.7299\n",
      "Epoch 57, Batch 35150:  Train cost =  0.0591, Train acc =  0.9844 Val cost =  1.8920, Val acc =  0.7082\n",
      "Epoch 57, Batch 35200:  Train cost =  0.0349, Train acc =  0.9844 Val cost =  1.7548, Val acc =  0.7276\n",
      "Epoch 57, Batch 35250:  Train cost =  0.0376, Train acc =  0.9844 Val cost =  1.7351, Val acc =  0.7207\n",
      "Epoch 57, Batch 35300:  Train cost =  0.0345, Train acc =  0.9844 Val cost =  1.6509, Val acc =  0.7303\n",
      "Epoch 57, Batch 35350:  Train cost =  0.1365, Train acc =  0.9531 Val cost =  2.4014, Val acc =  0.6678\n",
      "Epoch 57, Batch 35400:  Train cost =  0.0603, Train acc =  0.9688 Val cost =  1.7135, Val acc =  0.7222\n",
      "Epoch 57, Batch 35450:  Train cost =  0.0100, Train acc =  1.0000 Val cost =  1.6263, Val acc =  0.7361\n",
      "Epoch 57, Batch 35500:  Train cost =  0.0119, Train acc =  1.0000 Val cost =  1.6899, Val acc =  0.7225\n",
      "Epoch 57, Batch 35550:  Train cost =  0.0202, Train acc =  1.0000 Val cost =  1.7500, Val acc =  0.7237\n",
      "Epoch 57, Batch 35600:  Train cost =  0.0422, Train acc =  0.9844 Val cost =  1.6878, Val acc =  0.7225\n",
      "Epoch 58, Batch 35650:  Train cost =  0.1196, Train acc =  0.9531 Val cost =  1.9546, Val acc =  0.7052\n",
      "Epoch 58, Batch 35700:  Train cost =  0.0066, Train acc =  1.0000 Val cost =  1.6750, Val acc =  0.7230\n",
      "Epoch 58, Batch 35750:  Train cost =  0.0176, Train acc =  1.0000 Val cost =  1.6826, Val acc =  0.7233\n"
     ]
    },
    {
     "name": "stdout",
     "output_type": "stream",
     "text": [
      "Epoch 58, Batch 35800:  Train cost =  0.0171, Train acc =  0.9844 Val cost =  1.6067, Val acc =  0.7275\n",
      "Epoch 58, Batch 35850:  Train cost =  0.0461, Train acc =  0.9844 Val cost =  1.6547, Val acc =  0.7314\n",
      "Epoch 58, Batch 35900:  Train cost =  0.0036, Train acc =  1.0000 Val cost =  1.6006, Val acc =  0.7354\n",
      "Epoch 58, Batch 35950:  Train cost =  0.0401, Train acc =  0.9688 Val cost =  1.7908, Val acc =  0.7140\n",
      "Epoch 58, Batch 36000:  Train cost =  0.0110, Train acc =  1.0000 Val cost =  1.6762, Val acc =  0.7298\n",
      "Epoch 58, Batch 36050:  Train cost =  0.0739, Train acc =  0.9688 Val cost =  1.7949, Val acc =  0.7182\n",
      "Epoch 58, Batch 36100:  Train cost =  0.0813, Train acc =  0.9844 Val cost =  1.7457, Val acc =  0.7147\n",
      "Epoch 58, Batch 36150:  Train cost =  0.0237, Train acc =  0.9844 Val cost =  1.8295, Val acc =  0.7142\n",
      "Epoch 58, Batch 36200:  Train cost =  0.0220, Train acc =  0.9844 Val cost =  1.7829, Val acc =  0.7219\n",
      "Epoch 58, Batch 36250:  Train cost =  0.0549, Train acc =  0.9688 Val cost =  1.8061, Val acc =  0.7148\n",
      "Epoch 59, Batch 36300:  Train cost =  0.0175, Train acc =  1.0000 Val cost =  1.7763, Val acc =  0.7162\n",
      "Epoch 59, Batch 36350:  Train cost =  0.0412, Train acc =  0.9844 Val cost =  1.8252, Val acc =  0.7172\n",
      "Epoch 59, Batch 36400:  Train cost =  0.0291, Train acc =  0.9844 Val cost =  1.9920, Val acc =  0.7073\n",
      "Epoch 59, Batch 36450:  Train cost =  0.0061, Train acc =  1.0000 Val cost =  1.6987, Val acc =  0.7213\n",
      "Epoch 59, Batch 36500:  Train cost =  0.0021, Train acc =  1.0000 Val cost =  1.7432, Val acc =  0.7190\n",
      "Epoch 59, Batch 36550:  Train cost =  0.1373, Train acc =  0.9531 Val cost =  1.9556, Val acc =  0.7000\n",
      "Epoch 59, Batch 36600:  Train cost =  0.0469, Train acc =  0.9531 Val cost =  1.6916, Val acc =  0.7219\n",
      "Epoch 59, Batch 36650:  Train cost =  0.0096, Train acc =  1.0000 Val cost =  1.6832, Val acc =  0.7245\n",
      "Epoch 59, Batch 36700:  Train cost =  0.0173, Train acc =  0.9844 Val cost =  1.8563, Val acc =  0.7115\n",
      "Epoch 59, Batch 36750:  Train cost =  0.1459, Train acc =  0.9688 Val cost =  1.7786, Val acc =  0.7134\n",
      "Epoch 59, Batch 36800:  Train cost =  0.0555, Train acc =  0.9688 Val cost =  1.8263, Val acc =  0.7256\n",
      "Epoch 59, Batch 36850:  Train cost =  0.0055, Train acc =  1.0000 Val cost =  1.6655, Val acc =  0.7316\n",
      "Epoch 60, Batch 36900:  Train cost =  0.0833, Train acc =  0.9531 Val cost =  1.8525, Val acc =  0.7049\n",
      "Epoch 60, Batch 36950:  Train cost =  0.0265, Train acc =  0.9844 Val cost =  1.8320, Val acc =  0.7165\n",
      "Epoch 60, Batch 37000:  Train cost =  0.0146, Train acc =  0.9844 Val cost =  1.6951, Val acc =  0.7295\n",
      "Epoch 60, Batch 37050:  Train cost =  0.0089, Train acc =  1.0000 Val cost =  1.6417, Val acc =  0.7324\n",
      "Epoch 60, Batch 37100:  Train cost =  0.0268, Train acc =  0.9844 Val cost =  1.7135, Val acc =  0.7258\n",
      "Epoch 60, Batch 37150:  Train cost =  0.0630, Train acc =  0.9688 Val cost =  1.8400, Val acc =  0.7165\n",
      "Epoch 60, Batch 37200:  Train cost =  0.0409, Train acc =  0.9688 Val cost =  1.7910, Val acc =  0.7191\n",
      "Epoch 60, Batch 37250:  Train cost =  0.0029, Train acc =  1.0000 Val cost =  1.6681, Val acc =  0.7352\n",
      "Epoch 60, Batch 37300:  Train cost =  0.0081, Train acc =  1.0000 Val cost =  1.6803, Val acc =  0.7326\n",
      "Epoch 60, Batch 37350:  Train cost =  0.0186, Train acc =  0.9844 Val cost =  1.7626, Val acc =  0.7180\n",
      "Epoch 60, Batch 37400:  Train cost =  0.0151, Train acc =  1.0000 Val cost =  1.7409, Val acc =  0.7245\n",
      "Epoch 60, Batch 37450:  Train cost =  0.0409, Train acc =  0.9844 Val cost =  1.7276, Val acc =  0.7175\n",
      "Epoch 60, Batch 37500:  Train cost =  0.0038, Train acc =  1.0000 Val cost =  1.7098, Val acc =  0.7288\n",
      "Epoch 61, Batch 37550:  Train cost =  0.1449, Train acc =  0.9531 Val cost =  1.9388, Val acc =  0.7090\n",
      "Epoch 61, Batch 37600:  Train cost =  0.0364, Train acc =  0.9844 Val cost =  1.8560, Val acc =  0.7232\n",
      "Epoch 61, Batch 37650:  Train cost =  0.0108, Train acc =  1.0000 Val cost =  1.6477, Val acc =  0.7327\n",
      "Epoch 61, Batch 37700:  Train cost =  0.1389, Train acc =  0.9531 Val cost =  1.7699, Val acc =  0.7094\n",
      "Epoch 61, Batch 37750:  Train cost =  0.0145, Train acc =  1.0000 Val cost =  1.6404, Val acc =  0.7265\n",
      "Epoch 61, Batch 37800:  Train cost =  0.0394, Train acc =  0.9844 Val cost =  1.7519, Val acc =  0.7241\n",
      "Epoch 61, Batch 37850:  Train cost =  0.0164, Train acc =  1.0000 Val cost =  1.7563, Val acc =  0.7287\n",
      "Epoch 61, Batch 37900:  Train cost =  0.0026, Train acc =  1.0000 Val cost =  1.6961, Val acc =  0.7255\n",
      "Epoch 61, Batch 37950:  Train cost =  0.0435, Train acc =  0.9844 Val cost =  1.7799, Val acc =  0.7216\n",
      "Epoch 61, Batch 38000:  Train cost =  0.0749, Train acc =  0.9844 Val cost =  1.7785, Val acc =  0.7229\n",
      "Epoch 61, Batch 38050:  Train cost =  0.0048, Train acc =  1.0000 Val cost =  1.7771, Val acc =  0.7171\n",
      "Epoch 61, Batch 38100:  Train cost =  0.0044, Train acc =  1.0000 Val cost =  1.8120, Val acc =  0.7249\n",
      "Epoch 62, Batch 38150:  Train cost =  0.0318, Train acc =  0.9844 Val cost =  1.8296, Val acc =  0.7198\n",
      "Epoch 62, Batch 38200:  Train cost =  0.0311, Train acc =  0.9844 Val cost =  1.7403, Val acc =  0.7231\n",
      "Epoch 62, Batch 38250:  Train cost =  0.0101, Train acc =  1.0000 Val cost =  1.7293, Val acc =  0.7256\n",
      "Epoch 62, Batch 38300:  Train cost =  0.0082, Train acc =  1.0000 Val cost =  1.6779, Val acc =  0.7296\n",
      "Epoch 62, Batch 38350:  Train cost =  0.1174, Train acc =  0.9375 Val cost =  2.2495, Val acc =  0.6763\n",
      "Epoch 62, Batch 38400:  Train cost =  0.0568, Train acc =  0.9844 Val cost =  1.7313, Val acc =  0.7311\n",
      "Epoch 62, Batch 38450:  Train cost =  0.0250, Train acc =  0.9844 Val cost =  1.6821, Val acc =  0.7315\n",
      "Epoch 62, Batch 38500:  Train cost =  0.0206, Train acc =  1.0000 Val cost =  1.7878, Val acc =  0.7284\n",
      "Epoch 62, Batch 38550:  Train cost =  0.0469, Train acc =  0.9844 Val cost =  2.3317, Val acc =  0.6864\n",
      "Epoch 62, Batch 38600:  Train cost =  0.0102, Train acc =  1.0000 Val cost =  1.7400, Val acc =  0.7268\n"
     ]
    },
    {
     "ename": "KeyboardInterrupt",
     "evalue": "",
     "output_type": "error",
     "traceback": [
      "\u001b[0;31m---------------------------------------------------------------------------\u001b[0m",
      "\u001b[0;31mKeyboardInterrupt\u001b[0m                         Traceback (most recent call last)",
      "\u001b[0;32m<ipython-input-28-98df9338efc6>\u001b[0m in \u001b[0;36m<module>\u001b[0;34m()\u001b[0m\n\u001b[1;32m     25\u001b[0m \u001b[0;34m\u001b[0m\u001b[0m\n\u001b[1;32m     26\u001b[0m             valid_cost = session.run(cost, feed_dict={\n\u001b[0;32m---> 27\u001b[0;31m                 inputs: val_data_norm, targets: val_labels_ohe, keep_prob: 1., is_training: False})\n\u001b[0m\u001b[1;32m     28\u001b[0m \u001b[0;34m\u001b[0m\u001b[0m\n\u001b[1;32m     29\u001b[0m             valid_acc = session.run(accuracy, feed_dict={\n",
      "\u001b[0;32m~/.pyenv/versions/3.6.1/lib/python3.6/site-packages/tensorflow/python/client/session.py\u001b[0m in \u001b[0;36mrun\u001b[0;34m(self, fetches, feed_dict, options, run_metadata)\u001b[0m\n\u001b[1;32m    787\u001b[0m     \u001b[0;32mtry\u001b[0m\u001b[0;34m:\u001b[0m\u001b[0;34m\u001b[0m\u001b[0m\n\u001b[1;32m    788\u001b[0m       result = self._run(None, fetches, feed_dict, options_ptr,\n\u001b[0;32m--> 789\u001b[0;31m                          run_metadata_ptr)\n\u001b[0m\u001b[1;32m    790\u001b[0m       \u001b[0;32mif\u001b[0m \u001b[0mrun_metadata\u001b[0m\u001b[0;34m:\u001b[0m\u001b[0;34m\u001b[0m\u001b[0m\n\u001b[1;32m    791\u001b[0m         \u001b[0mproto_data\u001b[0m \u001b[0;34m=\u001b[0m \u001b[0mtf_session\u001b[0m\u001b[0;34m.\u001b[0m\u001b[0mTF_GetBuffer\u001b[0m\u001b[0;34m(\u001b[0m\u001b[0mrun_metadata_ptr\u001b[0m\u001b[0;34m)\u001b[0m\u001b[0;34m\u001b[0m\u001b[0m\n",
      "\u001b[0;32m~/.pyenv/versions/3.6.1/lib/python3.6/site-packages/tensorflow/python/client/session.py\u001b[0m in \u001b[0;36m_run\u001b[0;34m(self, handle, fetches, feed_dict, options, run_metadata)\u001b[0m\n\u001b[1;32m    995\u001b[0m     \u001b[0;32mif\u001b[0m \u001b[0mfinal_fetches\u001b[0m \u001b[0;32mor\u001b[0m \u001b[0mfinal_targets\u001b[0m\u001b[0;34m:\u001b[0m\u001b[0;34m\u001b[0m\u001b[0m\n\u001b[1;32m    996\u001b[0m       results = self._do_run(handle, final_targets, final_fetches,\n\u001b[0;32m--> 997\u001b[0;31m                              feed_dict_string, options, run_metadata)\n\u001b[0m\u001b[1;32m    998\u001b[0m     \u001b[0;32melse\u001b[0m\u001b[0;34m:\u001b[0m\u001b[0;34m\u001b[0m\u001b[0m\n\u001b[1;32m    999\u001b[0m       \u001b[0mresults\u001b[0m \u001b[0;34m=\u001b[0m \u001b[0;34m[\u001b[0m\u001b[0;34m]\u001b[0m\u001b[0;34m\u001b[0m\u001b[0m\n",
      "\u001b[0;32m~/.pyenv/versions/3.6.1/lib/python3.6/site-packages/tensorflow/python/client/session.py\u001b[0m in \u001b[0;36m_do_run\u001b[0;34m(self, handle, target_list, fetch_list, feed_dict, options, run_metadata)\u001b[0m\n\u001b[1;32m   1130\u001b[0m     \u001b[0;32mif\u001b[0m \u001b[0mhandle\u001b[0m \u001b[0;32mis\u001b[0m \u001b[0;32mNone\u001b[0m\u001b[0;34m:\u001b[0m\u001b[0;34m\u001b[0m\u001b[0m\n\u001b[1;32m   1131\u001b[0m       return self._do_call(_run_fn, self._session, feed_dict, fetch_list,\n\u001b[0;32m-> 1132\u001b[0;31m                            target_list, options, run_metadata)\n\u001b[0m\u001b[1;32m   1133\u001b[0m     \u001b[0;32melse\u001b[0m\u001b[0;34m:\u001b[0m\u001b[0;34m\u001b[0m\u001b[0m\n\u001b[1;32m   1134\u001b[0m       return self._do_call(_prun_fn, self._session, handle, feed_dict,\n",
      "\u001b[0;32m~/.pyenv/versions/3.6.1/lib/python3.6/site-packages/tensorflow/python/client/session.py\u001b[0m in \u001b[0;36m_do_call\u001b[0;34m(self, fn, *args)\u001b[0m\n\u001b[1;32m   1137\u001b[0m   \u001b[0;32mdef\u001b[0m \u001b[0m_do_call\u001b[0m\u001b[0;34m(\u001b[0m\u001b[0mself\u001b[0m\u001b[0;34m,\u001b[0m \u001b[0mfn\u001b[0m\u001b[0;34m,\u001b[0m \u001b[0;34m*\u001b[0m\u001b[0margs\u001b[0m\u001b[0;34m)\u001b[0m\u001b[0;34m:\u001b[0m\u001b[0;34m\u001b[0m\u001b[0m\n\u001b[1;32m   1138\u001b[0m     \u001b[0;32mtry\u001b[0m\u001b[0;34m:\u001b[0m\u001b[0;34m\u001b[0m\u001b[0m\n\u001b[0;32m-> 1139\u001b[0;31m       \u001b[0;32mreturn\u001b[0m \u001b[0mfn\u001b[0m\u001b[0;34m(\u001b[0m\u001b[0;34m*\u001b[0m\u001b[0margs\u001b[0m\u001b[0;34m)\u001b[0m\u001b[0;34m\u001b[0m\u001b[0m\n\u001b[0m\u001b[1;32m   1140\u001b[0m     \u001b[0;32mexcept\u001b[0m \u001b[0merrors\u001b[0m\u001b[0;34m.\u001b[0m\u001b[0mOpError\u001b[0m \u001b[0;32mas\u001b[0m \u001b[0me\u001b[0m\u001b[0;34m:\u001b[0m\u001b[0;34m\u001b[0m\u001b[0m\n\u001b[1;32m   1141\u001b[0m       \u001b[0mmessage\u001b[0m \u001b[0;34m=\u001b[0m \u001b[0mcompat\u001b[0m\u001b[0;34m.\u001b[0m\u001b[0mas_text\u001b[0m\u001b[0;34m(\u001b[0m\u001b[0me\u001b[0m\u001b[0;34m.\u001b[0m\u001b[0mmessage\u001b[0m\u001b[0;34m)\u001b[0m\u001b[0;34m\u001b[0m\u001b[0m\n",
      "\u001b[0;32m~/.pyenv/versions/3.6.1/lib/python3.6/site-packages/tensorflow/python/client/session.py\u001b[0m in \u001b[0;36m_run_fn\u001b[0;34m(session, feed_dict, fetch_list, target_list, options, run_metadata)\u001b[0m\n\u001b[1;32m   1119\u001b[0m         return tf_session.TF_Run(session, options,\n\u001b[1;32m   1120\u001b[0m                                  \u001b[0mfeed_dict\u001b[0m\u001b[0;34m,\u001b[0m \u001b[0mfetch_list\u001b[0m\u001b[0;34m,\u001b[0m \u001b[0mtarget_list\u001b[0m\u001b[0;34m,\u001b[0m\u001b[0;34m\u001b[0m\u001b[0m\n\u001b[0;32m-> 1121\u001b[0;31m                                  status, run_metadata)\n\u001b[0m\u001b[1;32m   1122\u001b[0m \u001b[0;34m\u001b[0m\u001b[0m\n\u001b[1;32m   1123\u001b[0m     \u001b[0;32mdef\u001b[0m \u001b[0m_prun_fn\u001b[0m\u001b[0;34m(\u001b[0m\u001b[0msession\u001b[0m\u001b[0;34m,\u001b[0m \u001b[0mhandle\u001b[0m\u001b[0;34m,\u001b[0m \u001b[0mfeed_dict\u001b[0m\u001b[0;34m,\u001b[0m \u001b[0mfetch_list\u001b[0m\u001b[0;34m)\u001b[0m\u001b[0;34m:\u001b[0m\u001b[0;34m\u001b[0m\u001b[0m\n",
      "\u001b[0;31mKeyboardInterrupt\u001b[0m: "
     ]
    }
   ],
   "source": [
    "session.run(tf.global_variables_initializer())\n",
    "\n",
    "batch_count = 0\n",
    "info = {'train_cost':[], 'train_acc':[], 'valid_cost':[], 'valid_acc':[]}\n",
    "for epoch in range(epochs):\n",
    "    mini_batches = prepare_mini_batches(train_data_norm, train_labels_ohe, batch_size)\n",
    "\n",
    "    while mini_batches:\n",
    "        data_batch, label_batch = mini_batches.pop()\n",
    "        batch_count += 1\n",
    "\n",
    "        session.run(optimizer, feed_dict={inputs: data_batch, \n",
    "                                          targets: label_batch,\n",
    "                                          keep_prob: keep_probability,\n",
    "                                          is_training: True})\n",
    "        if (batch_count % 50) == 0:\n",
    "            train_cost = session.run(cost, feed_dict={\n",
    "                    inputs: data_batch, targets: label_batch, keep_prob: 1. ,is_training: False})\n",
    "\n",
    "            train_acc = session.run(accuracy, feed_dict={\n",
    "                inputs: data_batch, targets: label_batch, keep_prob: 1., is_training: False})\n",
    "\n",
    "            info[\"train_cost\"].append(train_cost)\n",
    "            info[\"train_acc\"].append(train_acc)\n",
    "\n",
    "            valid_cost = session.run(cost, feed_dict={\n",
    "                inputs: val_data_norm, targets: val_labels_ohe, keep_prob: 1., is_training: False})\n",
    "\n",
    "            valid_acc = session.run(accuracy, feed_dict={\n",
    "                inputs: val_data_norm, targets: val_labels_ohe, keep_prob: 1., is_training: False})\n",
    "\n",
    "            info[\"valid_cost\"].append(valid_cost)\n",
    "            info[\"valid_acc\"].append(valid_acc)\n",
    "\n",
    "            print('Epoch {}, Batch {}:  '.format(epoch + 1, batch_count), end='')\n",
    "            print(\"Train cost = \", \"{:.4f},\".format(train_cost), \n",
    "                  \"Train acc = \", \"{:.4f}\".format(train_acc),\n",
    "                  \"Val cost = \", \"{:.4f},\".format(valid_cost), \n",
    "                  \"Val acc = \", \"{:.4f}\".format(valid_acc))"
   ]
  },
  {
   "cell_type": "markdown",
   "metadata": {},
   "source": [
    "#### Results"
   ]
  },
  {
   "cell_type": "code",
   "execution_count": 29,
   "metadata": {},
   "outputs": [
    {
     "data": {
      "image/png": "[encoded data removed]",
      "text/plain": [
       "<matplotlib.figure.Figure at 0x12e8cb5c0>"
      ]
     },
     "metadata": {},
     "output_type": "display_data"
    }
   ],
   "source": [
    "fig1 = plt.figure()\n",
    "ax1 = fig1.add_subplot(111)\n",
    "ax1.plot(info['train_acc'], label='Training acc')\n",
    "ax1.plot(info['valid_acc'], label='Validation acc')\n",
    "blue_patch = mpatches.Patch(color='#699cef', label='Training accuracy')\n",
    "orange_patch = mpatches.Patch(color='orange', label='Validation accuracy')\n",
    "ax1.legend(handles=[blue_patch, orange_patch])\n",
    "plt.show()"
   ]
  },
  {
   "cell_type": "code",
   "execution_count": 30,
   "metadata": {},
   "outputs": [
    {
     "data": {
      "image/png": "[encoded data removed]",
      "text/plain": [
       "<matplotlib.figure.Figure at 0x12e9e0208>"
      ]
     },
     "metadata": {},
     "output_type": "display_data"
    }
   ],
   "source": [
    "fig1 = plt.figure()\n",
    "ax2 = fig1.add_subplot(111)\n",
    "ax2.plot(info['train_cost'], label='Training loss')\n",
    "ax2.plot(info['valid_cost'], label='Validation loss')\n",
    "blue_patch = mpatches.Patch(color='#699cef', label='Training cross-entropy')\n",
    "orange_patch = mpatches.Patch(color='orange', label='Validation cross-entropy')\n",
    "ax2.legend(handles=[blue_patch, orange_patch])\n",
    "plt.show()"
   ]
  },
  {
   "cell_type": "markdown",
   "metadata": {},
   "source": [
    "#### Test accuracy"
   ]
  },
  {
   "cell_type": "code",
   "execution_count": null,
   "metadata": {
    "collapsed": true
   },
   "outputs": [],
   "source": [
    "test_acc = session.run(accuracy, feed_dict={\n",
    "    inputs: test_data_norm, targets: test_labels_ohe, keep_prob: 1., is_training: False})\n",
    "print(\"Test data accuracy: \" + str(test_acc))"
   ]
  },
  {
   "cell_type": "code",
   "execution_count": null,
   "metadata": {
    "collapsed": true
   },
   "outputs": [],
   "source": [
    "session.close()"
   ]
  }
 ],
 "metadata": {
  "kernelspec": {
   "display_name": "Python 3",
   "language": "python",
   "name": "python3"
  },
  "language_info": {
   "codemirror_mode": {
    "name": "ipython",
    "version": 3
   },
   "file_extension": ".py",
   "mimetype": "text/x-python",
   "name": "python",
   "nbconvert_exporter": "python",
   "pygments_lexer": "ipython3",
   "version": "3.6.1"
  }
 },
 "nbformat": 4,
 "nbformat_minor": 2
}
