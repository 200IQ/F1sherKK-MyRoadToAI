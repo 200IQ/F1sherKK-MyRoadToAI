{
 "cells": [
  {
   "cell_type": "code",
   "execution_count": 1,
   "metadata": {
    "collapsed": true
   },
   "outputs": [],
   "source": [
    "import os\n",
    "import tarfile\n",
    "import numpy as np\n",
    "import pickle\n",
    "import random\n",
    "import matplotlib.pyplot as plt\n",
    "import matplotlib.patches as mpatches\n",
    "import tensorflow as tf\n",
    "from urllib.request import urlretrieve\n",
    "from tqdm import tqdm"
   ]
  },
  {
   "cell_type": "code",
   "execution_count": 2,
   "metadata": {
    "collapsed": true
   },
   "outputs": [],
   "source": [
    "%matplotlib inline"
   ]
  },
  {
   "cell_type": "markdown",
   "metadata": {},
   "source": [
    "#### Dataset info"
   ]
  },
  {
   "cell_type": "markdown",
   "metadata": {},
   "source": [
    "CIFAR-10 is a dataset of 60 000 32x32 colour images, collected by Alex Krizhevsky, Vinod Nair, and Geoffrey Hinton. There are 10 different classes with 6000 images per class:\n",
    "\n",
    "- airplane\n",
    "- automobile\n",
    "- bird\n",
    "- cat\n",
    "- deer\n",
    "- dog\n",
    "- frog\n",
    "- horse\n",
    "- ship\n",
    "- truck\n",
    "\n",
    "Dataset is divided into 5 batches with the following naming convention 'data_batch_1', 'data_batch_2' and so on..."
   ]
  },
  {
   "cell_type": "code",
   "execution_count": 3,
   "metadata": {
    "collapsed": true
   },
   "outputs": [],
   "source": [
    "#: https://www.cs.toronto.edu/~kriz/cifar.html\n",
    "DATA_URL = \"https://www.cs.toronto.edu/~kriz/cifar-10-python.tar.gz\"\n",
    "TARG_TZ_FILEPATH = \"./cifar-10-python.tar.gz\"\n",
    "CIFAR10_FILES_FOLDER = './cifar-10-batches-py/'\n",
    "\n",
    "TRAIN_BATCH_FILES = [\n",
    "    \"data_batch_1\",\n",
    "    \"data_batch_2\",\n",
    "    \"data_batch_3\",\n",
    "    \"data_batch_4\",\n",
    "    \"data_batch_5\"\n",
    "]\n",
    "\n",
    "TEST_BATCH_FILE = \"test_batch\"\n",
    "\n",
    "LABELS = ['airplane', 'automobile', 'bird', 'cat', 'deer', 'dog', 'frog', 'horse', 'ship', 'truck']\n",
    "NUM_CLASSES = 10\n",
    "\n",
    "MAX_PIXEL_VALUE = 255\n",
    "IMAGE_WIDTH = 32\n",
    "IMAGE_HEIGHT = 32\n",
    "CHANNELS = 3\n",
    "\n",
    "DATA_I = 0\n",
    "LABELS_I = 1"
   ]
  },
  {
   "cell_type": "markdown",
   "metadata": {},
   "source": [
    "#### Download dataset"
   ]
  },
  {
   "cell_type": "code",
   "execution_count": 4,
   "metadata": {
    "collapsed": true
   },
   "outputs": [],
   "source": [
    "class DLProgress(tqdm):\n",
    "    last_block = 0\n",
    "\n",
    "    def hook(self, block_num=1, block_size=1, total_size=None):\n",
    "        self.total = total_size\n",
    "        self.update((block_num - self.last_block) * block_size)\n",
    "        self.last_block = block_num\n",
    "\n",
    "if not os.path.isfile(TARG_TZ_FILEPATH):\n",
    "    with DLProgress(unit=\"B\", unit_scale=True, miniters=1, desc=\"CIFAR-10\") as pbar:\n",
    "        urlretrieve(DATA_URL, TARG_TZ_FILEPATH, pbar.hook)"
   ]
  },
  {
   "cell_type": "markdown",
   "metadata": {},
   "source": [
    "#### Exctracting data"
   ]
  },
  {
   "cell_type": "markdown",
   "metadata": {},
   "source": [
    "- Unpacking"
   ]
  },
  {
   "cell_type": "code",
   "execution_count": 5,
   "metadata": {
    "collapsed": true
   },
   "outputs": [],
   "source": [
    "if not os.path.isdir(CIFAR10_FILES_FOLDER):\n",
    "    with tarfile.open(TARG_TZ_FILEPATH) as tar:\n",
    "        tar.extractall()\n",
    "        tar.close()"
   ]
  },
  {
   "cell_type": "markdown",
   "metadata": {},
   "source": [
    "- Loading train batches"
   ]
  },
  {
   "cell_type": "code",
   "execution_count": 6,
   "metadata": {
    "collapsed": true
   },
   "outputs": [],
   "source": [
    "train_batches = list()\n",
    "\n",
    "for batch_file in TRAIN_BATCH_FILES: \n",
    "    with open(CIFAR10_FILES_FOLDER + batch_file, mode='rb') as file:\n",
    "        batch = pickle.load(file, encoding='latin1')\n",
    "        \n",
    "        # array of 10000 * 1 length\n",
    "        labels = batch['labels']\n",
    "        \n",
    "        # all channels in single 10000 * 3072 length array\n",
    "        batch_data = batch['data']\n",
    "        \n",
    "        # reshaping to 10000 * 3 * 32 * 32\n",
    "        data = batch_data.reshape((len(batch_data), CHANNELS, IMAGE_WIDTH, IMAGE_HEIGHT))\n",
    "        \n",
    "        # fix indexing\n",
    "        data = data.transpose(0, 2, 3, 1)\n",
    "  \n",
    "        train_batches.append((data, labels))"
   ]
  },
  {
   "cell_type": "markdown",
   "metadata": {},
   "source": [
    "- Load test batch"
   ]
  },
  {
   "cell_type": "code",
   "execution_count": 7,
   "metadata": {
    "collapsed": true
   },
   "outputs": [],
   "source": [
    "test_batch = None\n",
    "\n",
    "with open(CIFAR10_FILES_FOLDER + TEST_BATCH_FILE, mode='rb') as file:\n",
    "        batch = pickle.load(file, encoding='latin1')\n",
    "        \n",
    "        # array of 10000 * 1 length\n",
    "        labels = batch['labels']\n",
    "        \n",
    "         # all channels in single 10000 * 3072 length array\n",
    "        batch_data = batch['data']\n",
    "        \n",
    "        # reshaping to 10000 * 3 * 32 * 32\n",
    "        data = batch_data.reshape((len(batch_data), CHANNELS, IMAGE_WIDTH, IMAGE_HEIGHT))\n",
    "        \n",
    "        # fix indexing\n",
    "        data = data.transpose(0, 2, 3, 1)\n",
    "        \n",
    "        test_batch = (data, labels)"
   ]
  },
  {
   "cell_type": "markdown",
   "metadata": {},
   "source": [
    "#### Present extracted dataset"
   ]
  },
  {
   "cell_type": "code",
   "execution_count": 8,
   "metadata": {
    "collapsed": true
   },
   "outputs": [],
   "source": [
    "def present_batch(batch, batch_index):\n",
    "    features, labels = batch \n",
    "    print(\"Batch no.\" + str(batch_index))\n",
    "    print(\"    - Samples in batch: \" + str(len(features)))\n",
    "    print(\"    - Labels num: \" + str(dict(zip(*np.unique(labels, return_counts=True)))))\n",
    "    \n",
    "def present_sample(batch, sample_id):\n",
    "    features, labels = batch \n",
    "    \n",
    "    sample_image = features[sample_id]\n",
    "    sample_label = labels[sample_id]\n",
    "    \n",
    "    print(\"Sample no.\" + str(sample_id))\n",
    "    print(\"    - Min Value: {} Max Value: {}\".format(sample_image.min(), sample_image.max()))\n",
    "    print(\"    - Shape: {}\".format(sample_image.shape))\n",
    "    print(\"    - Label - Label Id: {} Name: {}\".format(sample_label, LABELS[sample_label]))\n",
    "    \n",
    "    plt.axis('off')\n",
    "    plt.imshow(sample_image)"
   ]
  },
  {
   "cell_type": "code",
   "execution_count": 9,
   "metadata": {
    "scrolled": true
   },
   "outputs": [
    {
     "name": "stdout",
     "output_type": "stream",
     "text": [
      "Batch no.0\n",
      "    - Samples in batch: 10000\n",
      "    - Labels num: {0: 1005, 1: 974, 2: 1032, 3: 1016, 4: 999, 5: 937, 6: 1030, 7: 1001, 8: 1025, 9: 981}\n",
      "Batch no.1\n",
      "    - Samples in batch: 10000\n",
      "    - Labels num: {0: 984, 1: 1007, 2: 1010, 3: 995, 4: 1010, 5: 988, 6: 1008, 7: 1026, 8: 987, 9: 985}\n",
      "Batch no.2\n",
      "    - Samples in batch: 10000\n",
      "    - Labels num: {0: 994, 1: 1042, 2: 965, 3: 997, 4: 990, 5: 1029, 6: 978, 7: 1015, 8: 961, 9: 1029}\n",
      "Batch no.3\n",
      "    - Samples in batch: 10000\n",
      "    - Labels num: {0: 1003, 1: 963, 2: 1041, 3: 976, 4: 1004, 5: 1021, 6: 1004, 7: 981, 8: 1024, 9: 983}\n",
      "Batch no.4\n",
      "    - Samples in batch: 10000\n",
      "    - Labels num: {0: 1014, 1: 1014, 2: 952, 3: 1016, 4: 997, 5: 1025, 6: 980, 7: 977, 8: 1003, 9: 1022}\n"
     ]
    }
   ],
   "source": [
    "for index, batch in enumerate(train_batches):\n",
    "    present_batch(batch, index)"
   ]
  },
  {
   "cell_type": "code",
   "execution_count": 10,
   "metadata": {},
   "outputs": [
    {
     "name": "stdout",
     "output_type": "stream",
     "text": [
      "Sample no.7164\n",
      "    - Min Value: 26 Max Value: 246\n",
      "    - Shape: (32, 32, 3)\n",
      "    - Label - Label Id: 5 Name: dog\n"
     ]
    },
    {
     "data": {
      "image/png": "[encoded data removed]",
      "text/plain": [
       "<matplotlib.figure.Figure at 0x1182249b0>"
      ]
     },
     "metadata": {},
     "output_type": "display_data"
    }
   ],
   "source": [
    "present_sample(train_batches[0], 7164)"
   ]
  },
  {
   "cell_type": "markdown",
   "metadata": {},
   "source": [
    "#### Split data into train, val , test sets"
   ]
  },
  {
   "cell_type": "markdown",
   "metadata": {},
   "source": [
    "- data is already shuffled"
   ]
  },
  {
   "cell_type": "markdown",
   "metadata": {},
   "source": [
    "- concat all batches together"
   ]
  },
  {
   "cell_type": "code",
   "execution_count": 11,
   "metadata": {
    "collapsed": true
   },
   "outputs": [],
   "source": [
    "train_data = list()\n",
    "train_labels = list()\n",
    "for batch in train_batches:\n",
    "    for data, label in zip(batch[DATA_I], batch[LABELS_I]):\n",
    "        train_data.append(data)\n",
    "        train_labels.append(label)\n",
    "assert len(train_data) == len(train_labels)\n",
    "        \n",
    "test_data = list()\n",
    "test_labels = list()\n",
    "for data, label in zip(test_batch[DATA_I], test_batch[LABELS_I]):\n",
    "    test_data.append(data)\n",
    "    test_labels.append(label)\n",
    "assert len(test_data) == len(test_labels)"
   ]
  },
  {
   "cell_type": "markdown",
   "metadata": {},
   "source": [
    "- split data"
   ]
  },
  {
   "cell_type": "code",
   "execution_count": 12,
   "metadata": {
    "collapsed": true
   },
   "outputs": [],
   "source": [
    "split_ratio = 0.2\n",
    "split_index = int(len(train_data) * split_ratio)\n",
    "\n",
    "val_data = train_data[:split_index]\n",
    "val_labels = train_labels[:split_index]\n",
    "\n",
    "train_data = train_data[split_index:]\n",
    "train_labels = train_labels[split_index:]"
   ]
  },
  {
   "cell_type": "code",
   "execution_count": 13,
   "metadata": {},
   "outputs": [
    {
     "name": "stdout",
     "output_type": "stream",
     "text": [
      "Train samples: 40000\n",
      "Validation samples: 10000\n",
      "Test samples: 10000\n"
     ]
    }
   ],
   "source": [
    "print(\"Train samples: \" + str(len(train_data)))\n",
    "print(\"Validation samples: \" + str(len(val_data)))\n",
    "print(\"Test samples: \" + str(len(test_data)))"
   ]
  },
  {
   "cell_type": "markdown",
   "metadata": {},
   "source": [
    "#### Preprocess data"
   ]
  },
  {
   "cell_type": "code",
   "execution_count": 14,
   "metadata": {
    "collapsed": true
   },
   "outputs": [],
   "source": [
    "def normalize(data):\n",
    "    return data / MAX_PIXEL_VALUE\n",
    "\n",
    "def ohe_label(label):\n",
    "    labels_num = len(LABELS)\n",
    "  \n",
    "    encoding_array = np.zeros([labels_num])  \n",
    "    encoding_array[label] = 1\n",
    "        \n",
    "    return encoding_array"
   ]
  },
  {
   "cell_type": "code",
   "execution_count": 15,
   "metadata": {
    "collapsed": true
   },
   "outputs": [],
   "source": [
    "train_data_norm = [normalize(data) for data in train_data]\n",
    "train_labels_ohe = [ohe_label(label) for label in train_labels]\n",
    "\n",
    "val_data_norm = [normalize(data) for data in val_data]\n",
    "val_labels_ohe = [ohe_label(label) for label in val_labels]\n",
    "\n",
    "test_data_norm = [normalize(data) for data in test_data]\n",
    "test_labels_ohe = [ohe_label(label) for label in test_labels]"
   ]
  },
  {
   "cell_type": "code",
   "execution_count": 16,
   "metadata": {},
   "outputs": [
    {
     "name": "stdout",
     "output_type": "stream",
     "text": [
      "Sample no.7124\n",
      "    - Min Value: 0.00784313725490196 Max Value: 0.9137254901960784\n",
      "    - Label: [ 0.  0.  0.  1.  0.  0.  0.  0.  0.  0.]\n"
     ]
    }
   ],
   "source": [
    "sample_to_inspect = 7124\n",
    "sample = train_data_norm[sample_to_inspect]\n",
    "label = train_labels_ohe[sample_to_inspect]\n",
    "print(\"Sample no.\" + str(sample_to_inspect))\n",
    "print(\"    - Min Value: {} Max Value: {}\".format(sample.min(), sample.max()))\n",
    "print(\"    - Label: \" + str(label))"
   ]
  },
  {
   "cell_type": "markdown",
   "metadata": {},
   "source": [
    "#### Building ConvNet - parts"
   ]
  },
  {
   "cell_type": "code",
   "execution_count": 17,
   "metadata": {
    "collapsed": true
   },
   "outputs": [],
   "source": [
    "def conv_net_image_input(image_width, image_height, channels):\n",
    "    return tf.placeholder(tf.float32, shape=[None, image_width, image_height, channels], name='inputs')"
   ]
  },
  {
   "cell_type": "code",
   "execution_count": 18,
   "metadata": {
    "collapsed": true
   },
   "outputs": [],
   "source": [
    "def conv_net_label_input(n_classes):\n",
    "    return tf.placeholder(tf.float32, shape=[None, n_classes], name='labels')"
   ]
  },
  {
   "cell_type": "code",
   "execution_count": 20,
   "metadata": {
    "collapsed": true
   },
   "outputs": [],
   "source": [
    "def conv_net_is_training_placeholder():\n",
    "    return tf.placeholder(tf.bool)"
   ]
  },
  {
   "cell_type": "code",
   "execution_count": 21,
   "metadata": {
    "collapsed": true
   },
   "outputs": [],
   "source": [
    "def conv_net(inputs, keep_prob, is_training):   \n",
    "    \n",
    "    # Conv Layer - 1, Input 32x32x3 -> BatchNorm -> eLU -> MaxPooling -> Output 16x16x32\n",
    "    conv1_layer = tf.layers.conv2d(inputs=inputs, filters=32, kernel_size=3, strides=1, \n",
    "                                   padding=\"SAME\", use_bias=False, activation=None,\n",
    "                                   kernel_initializer=tf.contrib.layers.xavier_initializer())\n",
    "    conv1_layer_norm = tf.layers.batch_normalization(conv1_layer, training=is_training)\n",
    "    conv1_layer_activated = tf.nn.elu(conv1_layer_norm)\n",
    "    conv1_layer_mpool = tf.layers.max_pooling2d(conv1_layer_activated, pool_size=2, strides=2)\n",
    "    \n",
    "    # Conv Layer - 2, Input 16x16x16 -> BatchNorm -> eLU -> MaxPooling -> Output 8x8x32\n",
    "    conv2_layer = tf.layers.conv2d(inputs=conv1_layer_mpool, filters=32, kernel_size=3, strides=1, \n",
    "                                   padding=\"SAME\", use_bias=False, activation=None, \n",
    "                                   kernel_initializer=tf.contrib.layers.xavier_initializer())\n",
    "    conv2_layer_norm = tf.layers.batch_normalization(conv2_layer, training=is_training)\n",
    "    conv2_layer_activated = tf.nn.elu(conv2_layer_norm)\n",
    "    conv2_layer_mpool = tf.layers.max_pooling2d(conv2_layer_activated, pool_size=2, strides=2)\n",
    "\n",
    "    # Conv Layer - 3, Input 8x8x32 -> BatchNorm -> eLU -> MaxPooling -> Output 4x4x64\n",
    "    conv3_layer = tf.layers.conv2d(inputs=conv2_layer_mpool, filters=64, kernel_size=3, strides=1,\n",
    "                                   padding=\"SAME\", use_bias=False, activation=None,\n",
    "                                   kernel_initializer=tf.contrib.layers.xavier_initializer())\n",
    "    conv3_layer_norm = tf.layers.batch_normalization(conv3_layer, training=is_training)\n",
    "    conv3_layer_activated = tf.nn.elu(conv3_layer_norm)\n",
    "    conv3_layer_mpool = tf.layers.max_pooling2d(conv3_layer_activated, pool_size=2, strides=2)\n",
    "    \n",
    "    # Conv Layer Flattened\n",
    "    conv_output_shape = conv3_layer_mpool.get_shape().as_list()\n",
    "    flatten=tf.reshape(conv3_layer_mpool,\n",
    "                       [-1, conv_output_shape[1] * conv_output_shape[2] * conv_output_shape[3]])\n",
    "    \n",
    "    # Dense Layer - 1, Size 256 -> Dropout\n",
    "    dense1_layer = tf.layers.dense(inputs=flatten, units=256, use_bias=False, activation=None)\n",
    "    dense1_layer_norm = tf.layers.batch_normalization(dense1_layer, training=is_training)\n",
    "    dense1_layer_activated = tf.nn.elu(dense1_layer_norm)\n",
    "    \n",
    "    # Dense Layer - 2, Size 128 -> Dropout\n",
    "    dense2_layer = tf.layers.dense(inputs=dense1_layer_activated, units=128, use_bias=False, activation=None)\n",
    "    dense2_layer_norm = tf.layers.batch_normalization(dense2_layer, training=is_training)\n",
    "    dense2_layer_activated = tf.nn.elu(dense2_layer_norm)\n",
    "    \n",
    "    # Output Layer \n",
    "    output = tf.layers.dense(inputs=dense2_layer_activated, units=NUM_CLASSES, activation=None)\n",
    "    \n",
    "    return output"
   ]
  },
  {
   "cell_type": "markdown",
   "metadata": {},
   "source": [
    "#### Batch utils"
   ]
  },
  {
   "cell_type": "code",
   "execution_count": 22,
   "metadata": {
    "collapsed": true
   },
   "outputs": [],
   "source": [
    "def prepare_mini_batches(data, labels, batch_size):\n",
    "    assert len(data) == len(labels)\n",
    "    \n",
    "    all_batches = list()\n",
    "    for i in range(0, len(data)):\n",
    "        all_batches.append((data[i], labels[i]))\n",
    "    random.shuffle(all_batches)\n",
    "        \n",
    "    mini_batches = list()\n",
    "    while len(all_batches) >= batch_size:\n",
    "        \n",
    "        data_batch = list()\n",
    "        labels_batch = list()\n",
    "        for j in range(0, batch_size):\n",
    "            data, labels = all_batches.pop()\n",
    "            data_batch.append(data)\n",
    "            labels_batch.append(labels)\n",
    "            \n",
    "        mini_batches.append((np.array(data_batch), np.array(labels_batch)))\n",
    "    \n",
    "    return mini_batches"
   ]
  },
  {
   "cell_type": "markdown",
   "metadata": {},
   "source": [
    "#### Building ConvNet - assemble"
   ]
  },
  {
   "cell_type": "markdown",
   "metadata": {},
   "source": [
    "- Reset Tensorflow graph"
   ]
  },
  {
   "cell_type": "code",
   "execution_count": 23,
   "metadata": {
    "collapsed": true
   },
   "outputs": [],
   "source": [
    "tf.reset_default_graph()"
   ]
  },
  {
   "cell_type": "markdown",
   "metadata": {},
   "source": [
    "- Assemble model"
   ]
  },
  {
   "cell_type": "code",
   "execution_count": 24,
   "metadata": {
    "collapsed": true,
    "scrolled": false
   },
   "outputs": [],
   "source": [
    "inputs = conv_net_image_input(IMAGE_WIDTH, IMAGE_HEIGHT, CHANNELS)\n",
    "targets = conv_net_label_input(NUM_CLASSES)\n",
    "keep_prob = conv_net_keep_prob_input()\n",
    "is_training = conv_net_is_training_placeholder()\n",
    "\n",
    "model = conv_net(inputs, keep_prob, is_training)"
   ]
  },
  {
   "cell_type": "markdown",
   "metadata": {},
   "source": [
    "- Cost function, training optimizer, correct predictions, accuracy"
   ]
  },
  {
   "cell_type": "code",
   "execution_count": 25,
   "metadata": {
    "collapsed": true
   },
   "outputs": [],
   "source": [
    "cost = tf.reduce_mean(tf.nn.softmax_cross_entropy_with_logits(logits=model, labels=targets))\n",
    "\n",
    "with tf.control_dependencies(tf.get_collection(tf.GraphKeys.UPDATE_OPS)):\n",
    "    optimizer = tf.train.AdamOptimizer().minimize(cost)\n",
    "\n",
    "correct_pred = tf.equal(tf.argmax(model, 1), tf.argmax(targets, 1))\n",
    "accuracy = tf.reduce_mean(tf.cast(correct_pred, tf.float32), name='accuracy')"
   ]
  },
  {
   "cell_type": "markdown",
   "metadata": {},
   "source": [
    "#### Hyperparameters"
   ]
  },
  {
   "cell_type": "code",
   "execution_count": 26,
   "metadata": {
    "collapsed": true
   },
   "outputs": [],
   "source": [
    "epochs = 70\n",
    "batch_size = 256"
   ]
  },
  {
   "cell_type": "markdown",
   "metadata": {},
   "source": [
    "#### Training cycle"
   ]
  },
  {
   "cell_type": "code",
   "execution_count": 27,
   "metadata": {
    "collapsed": true
   },
   "outputs": [],
   "source": [
    "session = tf.Session()"
   ]
  },
  {
   "cell_type": "code",
   "execution_count": 28,
   "metadata": {
    "scrolled": false
   },
   "outputs": [
    {
     "name": "stdout",
     "output_type": "stream",
     "text": [
      "Epoch 1, Batch 50:  Train cost =  2.6775, Train acc =  0.1094 Val cost =  2.6263, Val acc =  0.1213\n",
      "Epoch 1, Batch 100:  Train cost =  2.8047, Train acc =  0.1016 Val cost =  2.9623, Val acc =  0.1120\n",
      "Epoch 1, Batch 150:  Train cost =  2.8055, Train acc =  0.2188 Val cost =  2.7562, Val acc =  0.2038\n",
      "Epoch 2, Batch 200:  Train cost =  2.5300, Train acc =  0.2930 Val cost =  2.3541, Val acc =  0.3308\n",
      "Epoch 2, Batch 250:  Train cost =  1.9898, Train acc =  0.3555 Val cost =  2.0402, Val acc =  0.3381\n",
      "Epoch 2, Batch 300:  Train cost =  1.7547, Train acc =  0.4023 Val cost =  1.8172, Val acc =  0.3684\n",
      "Epoch 3, Batch 350:  Train cost =  2.0114, Train acc =  0.3711 Val cost =  1.9523, Val acc =  0.3789\n",
      "Epoch 3, Batch 400:  Train cost =  1.1736, Train acc =  0.6289 Val cost =  1.4014, Val acc =  0.5047\n",
      "Epoch 3, Batch 450:  Train cost =  1.2277, Train acc =  0.5859 Val cost =  1.3687, Val acc =  0.5302\n",
      "Epoch 4, Batch 500:  Train cost =  1.3168, Train acc =  0.5781 Val cost =  1.3990, Val acc =  0.5197\n",
      "Epoch 4, Batch 550:  Train cost =  1.0101, Train acc =  0.6328 Val cost =  1.2209, Val acc =  0.5958\n",
      "Epoch 4, Batch 600:  Train cost =  0.7900, Train acc =  0.6641 Val cost =  1.0144, Val acc =  0.6414\n",
      "Epoch 5, Batch 650:  Train cost =  1.5230, Train acc =  0.5273 Val cost =  1.7034, Val acc =  0.5126\n",
      "Epoch 5, Batch 700:  Train cost =  0.8386, Train acc =  0.7070 Val cost =  1.2521, Val acc =  0.5939\n",
      "Epoch 5, Batch 750:  Train cost =  0.7144, Train acc =  0.7539 Val cost =  0.9864, Val acc =  0.6663\n",
      "Epoch 6, Batch 800:  Train cost =  0.7244, Train acc =  0.7578 Val cost =  1.1938, Val acc =  0.6293\n",
      "Epoch 6, Batch 850:  Train cost =  0.6250, Train acc =  0.7656 Val cost =  0.9707, Val acc =  0.6799\n",
      "Epoch 6, Batch 900:  Train cost =  0.6925, Train acc =  0.7383 Val cost =  0.9744, Val acc =  0.6800\n",
      "Epoch 7, Batch 950:  Train cost =  0.5636, Train acc =  0.7969 Val cost =  0.9395, Val acc =  0.6896\n",
      "Epoch 7, Batch 1000:  Train cost =  0.7802, Train acc =  0.7539 Val cost =  1.2425, Val acc =  0.6418\n",
      "Epoch 7, Batch 1050:  Train cost =  0.6205, Train acc =  0.8008 Val cost =  1.0460, Val acc =  0.6649\n",
      "Epoch 8, Batch 1100:  Train cost =  0.5014, Train acc =  0.8125 Val cost =  0.9867, Val acc =  0.6826\n",
      "Epoch 8, Batch 1150:  Train cost =  0.4960, Train acc =  0.8203 Val cost =  1.0755, Val acc =  0.6707\n",
      "Epoch 8, Batch 1200:  Train cost =  0.5742, Train acc =  0.8125 Val cost =  1.0234, Val acc =  0.6809\n",
      "Epoch 9, Batch 1250:  Train cost =  0.3693, Train acc =  0.8594 Val cost =  1.0471, Val acc =  0.6789\n",
      "Epoch 9, Batch 1300:  Train cost =  1.2362, Train acc =  0.6094 Val cost =  1.7908, Val acc =  0.5476\n",
      "Epoch 9, Batch 1350:  Train cost =  0.5688, Train acc =  0.8203 Val cost =  1.0733, Val acc =  0.6841\n",
      "Epoch 9, Batch 1400:  Train cost =  0.5658, Train acc =  0.7734 Val cost =  1.1846, Val acc =  0.6543\n",
      "Epoch 10, Batch 1450:  Train cost =  0.5967, Train acc =  0.7578 Val cost =  1.2518, Val acc =  0.6567\n",
      "Epoch 10, Batch 1500:  Train cost =  0.7151, Train acc =  0.7344 Val cost =  1.3080, Val acc =  0.6419\n",
      "Epoch 10, Batch 1550:  Train cost =  0.4210, Train acc =  0.8555 Val cost =  1.0718, Val acc =  0.6818\n",
      "Epoch 11, Batch 1600:  Train cost =  0.2588, Train acc =  0.9258 Val cost =  1.0034, Val acc =  0.6946\n",
      "Epoch 11, Batch 1650:  Train cost =  0.5309, Train acc =  0.8398 Val cost =  1.2654, Val acc =  0.6595\n",
      "Epoch 11, Batch 1700:  Train cost =  0.2430, Train acc =  0.9141 Val cost =  1.0677, Val acc =  0.6907\n",
      "Epoch 12, Batch 1750:  Train cost =  0.2688, Train acc =  0.8906 Val cost =  1.1812, Val acc =  0.6859\n",
      "Epoch 12, Batch 1800:  Train cost =  0.4834, Train acc =  0.8164 Val cost =  1.2314, Val acc =  0.6781\n",
      "Epoch 12, Batch 1850:  Train cost =  0.4504, Train acc =  0.8164 Val cost =  1.2389, Val acc =  0.6730\n",
      "Epoch 13, Batch 1900:  Train cost =  0.1783, Train acc =  0.9453 Val cost =  1.1051, Val acc =  0.7019\n",
      "Epoch 13, Batch 1950:  Train cost =  0.2520, Train acc =  0.9062 Val cost =  1.1268, Val acc =  0.7040\n",
      "Epoch 13, Batch 2000:  Train cost =  0.3257, Train acc =  0.8828 Val cost =  1.1380, Val acc =  0.6932\n",
      "Epoch 14, Batch 2050:  Train cost =  0.4133, Train acc =  0.8555 Val cost =  1.3357, Val acc =  0.6693\n",
      "Epoch 14, Batch 2100:  Train cost =  0.2527, Train acc =  0.9062 Val cost =  1.2853, Val acc =  0.6827\n",
      "Epoch 14, Batch 2150:  Train cost =  0.4045, Train acc =  0.8828 Val cost =  1.3277, Val acc =  0.6766\n",
      "Epoch 15, Batch 2200:  Train cost =  0.3344, Train acc =  0.8711 Val cost =  1.4522, Val acc =  0.6577\n",
      "Epoch 15, Batch 2250:  Train cost =  0.1984, Train acc =  0.9297 Val cost =  1.2040, Val acc =  0.7028\n",
      "Epoch 15, Batch 2300:  Train cost =  0.1594, Train acc =  0.9492 Val cost =  1.2108, Val acc =  0.7063\n",
      "Epoch 16, Batch 2350:  Train cost =  0.1776, Train acc =  0.9336 Val cost =  1.2877, Val acc =  0.6864\n",
      "Epoch 16, Batch 2400:  Train cost =  0.1273, Train acc =  0.9375 Val cost =  1.2179, Val acc =  0.6990\n",
      "Epoch 16, Batch 2450:  Train cost =  0.2885, Train acc =  0.8867 Val cost =  1.5070, Val acc =  0.6800\n",
      "Epoch 17, Batch 2500:  Train cost =  0.1621, Train acc =  0.9336 Val cost =  1.3331, Val acc =  0.6862\n",
      "Epoch 17, Batch 2550:  Train cost =  0.1745, Train acc =  0.9375 Val cost =  1.4252, Val acc =  0.6864\n",
      "Epoch 17, Batch 2600:  Train cost =  0.3196, Train acc =  0.8906 Val cost =  1.5890, Val acc =  0.6595\n",
      "Epoch 17, Batch 2650:  Train cost =  0.3472, Train acc =  0.8594 Val cost =  1.5513, Val acc =  0.6634\n",
      "Epoch 18, Batch 2700:  Train cost =  0.1538, Train acc =  0.9414 Val cost =  1.3099, Val acc =  0.7125\n",
      "Epoch 18, Batch 2750:  Train cost =  0.1343, Train acc =  0.9688 Val cost =  1.3019, Val acc =  0.6987\n",
      "Epoch 18, Batch 2800:  Train cost =  0.1779, Train acc =  0.9492 Val cost =  1.4232, Val acc =  0.6960\n",
      "Epoch 19, Batch 2850:  Train cost =  0.0534, Train acc =  0.9844 Val cost =  1.3636, Val acc =  0.6992\n",
      "Epoch 19, Batch 2900:  Train cost =  0.1846, Train acc =  0.9414 Val cost =  1.5181, Val acc =  0.6730\n",
      "Epoch 19, Batch 2950:  Train cost =  0.0661, Train acc =  0.9805 Val cost =  1.3397, Val acc =  0.7139\n",
      "Epoch 20, Batch 3000:  Train cost =  0.1655, Train acc =  0.9336 Val cost =  1.4871, Val acc =  0.6971\n",
      "Epoch 20, Batch 3050:  Train cost =  0.2047, Train acc =  0.9414 Val cost =  1.5536, Val acc =  0.6868\n",
      "Epoch 20, Batch 3100:  Train cost =  0.1604, Train acc =  0.9258 Val cost =  1.5554, Val acc =  0.6931\n",
      "Epoch 21, Batch 3150:  Train cost =  0.2601, Train acc =  0.8984 Val cost =  1.6619, Val acc =  0.6834\n",
      "Epoch 21, Batch 3200:  Train cost =  0.0787, Train acc =  0.9727 Val cost =  1.4294, Val acc =  0.7042\n",
      "Epoch 21, Batch 3250:  Train cost =  0.3115, Train acc =  0.8984 Val cost =  1.8018, Val acc =  0.6763\n",
      "Epoch 22, Batch 3300:  Train cost =  0.1101, Train acc =  0.9570 Val cost =  1.5845, Val acc =  0.6879\n",
      "Epoch 22, Batch 3350:  Train cost =  0.1433, Train acc =  0.9570 Val cost =  1.5356, Val acc =  0.6954\n",
      "Epoch 22, Batch 3400:  Train cost =  0.1951, Train acc =  0.9336 Val cost =  1.7016, Val acc =  0.6775\n",
      "Epoch 23, Batch 3450:  Train cost =  0.1560, Train acc =  0.9453 Val cost =  1.7013, Val acc =  0.6887\n",
      "Epoch 23, Batch 3500:  Train cost =  0.2256, Train acc =  0.9180 Val cost =  1.8615, Val acc =  0.6704\n",
      "Epoch 23, Batch 3550:  Train cost =  0.1856, Train acc =  0.9336 Val cost =  1.7305, Val acc =  0.6920\n",
      "Epoch 24, Batch 3600:  Train cost =  0.1005, Train acc =  0.9570 Val cost =  1.5211, Val acc =  0.7021\n",
      "Epoch 24, Batch 3650:  Train cost =  0.1009, Train acc =  0.9609 Val cost =  1.5699, Val acc =  0.6917\n",
      "Epoch 24, Batch 3700:  Train cost =  0.1751, Train acc =  0.9336 Val cost =  1.6112, Val acc =  0.6892\n",
      "Epoch 25, Batch 3750:  Train cost =  0.1011, Train acc =  0.9453 Val cost =  1.6575, Val acc =  0.6926\n",
      "Epoch 25, Batch 3800:  Train cost =  0.1115, Train acc =  0.9648 Val cost =  1.5313, Val acc =  0.7095\n",
      "Epoch 25, Batch 3850:  Train cost =  0.1695, Train acc =  0.9180 Val cost =  1.8234, Val acc =  0.6784\n",
      "Epoch 25, Batch 3900:  Train cost =  0.1219, Train acc =  0.9453 Val cost =  1.6128, Val acc =  0.7001\n",
      "Epoch 26, Batch 3950:  Train cost =  0.1150, Train acc =  0.9414 Val cost =  1.7188, Val acc =  0.6920\n",
      "Epoch 26, Batch 4000:  Train cost =  0.0632, Train acc =  0.9727 Val cost =  1.5604, Val acc =  0.7092\n",
      "Epoch 26, Batch 4050:  Train cost =  0.1322, Train acc =  0.9531 Val cost =  1.8570, Val acc =  0.6869\n"
     ]
    },
    {
     "name": "stdout",
     "output_type": "stream",
     "text": [
      "Epoch 27, Batch 4100:  Train cost =  0.0762, Train acc =  0.9609 Val cost =  1.6425, Val acc =  0.7018\n",
      "Epoch 27, Batch 4150:  Train cost =  0.1302, Train acc =  0.9492 Val cost =  1.7624, Val acc =  0.7073\n",
      "Epoch 27, Batch 4200:  Train cost =  0.2614, Train acc =  0.9062 Val cost =  2.0044, Val acc =  0.6738\n",
      "Epoch 28, Batch 4250:  Train cost =  0.1915, Train acc =  0.9180 Val cost =  2.0213, Val acc =  0.6670\n",
      "Epoch 28, Batch 4300:  Train cost =  0.1338, Train acc =  0.9531 Val cost =  1.8304, Val acc =  0.6813\n",
      "Epoch 28, Batch 4350:  Train cost =  0.1117, Train acc =  0.9609 Val cost =  1.7815, Val acc =  0.6851\n",
      "Epoch 29, Batch 4400:  Train cost =  0.1468, Train acc =  0.9492 Val cost =  1.7486, Val acc =  0.6900\n",
      "Epoch 29, Batch 4450:  Train cost =  0.4127, Train acc =  0.8867 Val cost =  2.1144, Val acc =  0.6671\n",
      "Epoch 29, Batch 4500:  Train cost =  0.1791, Train acc =  0.9531 Val cost =  1.7639, Val acc =  0.6893\n",
      "Epoch 30, Batch 4550:  Train cost =  0.1045, Train acc =  0.9648 Val cost =  1.6668, Val acc =  0.6929\n",
      "Epoch 30, Batch 4600:  Train cost =  0.0708, Train acc =  0.9766 Val cost =  1.6504, Val acc =  0.7037\n",
      "Epoch 30, Batch 4650:  Train cost =  0.1404, Train acc =  0.9375 Val cost =  1.7282, Val acc =  0.6923\n",
      "Epoch 31, Batch 4700:  Train cost =  0.2478, Train acc =  0.9219 Val cost =  1.8737, Val acc =  0.6795\n",
      "Epoch 31, Batch 4750:  Train cost =  0.0685, Train acc =  0.9688 Val cost =  1.7160, Val acc =  0.6931\n",
      "Epoch 31, Batch 4800:  Train cost =  0.0659, Train acc =  0.9844 Val cost =  1.6043, Val acc =  0.7087\n",
      "Epoch 32, Batch 4850:  Train cost =  0.0386, Train acc =  0.9922 Val cost =  1.6209, Val acc =  0.7144\n",
      "Epoch 32, Batch 4900:  Train cost =  0.0184, Train acc =  0.9961 Val cost =  1.5070, Val acc =  0.7230\n",
      "Epoch 32, Batch 4950:  Train cost =  0.0117, Train acc =  1.0000 Val cost =  1.4780, Val acc =  0.7296\n",
      "Epoch 33, Batch 5000:  Train cost =  0.0151, Train acc =  0.9961 Val cost =  1.4986, Val acc =  0.7235\n",
      "Epoch 33, Batch 5050:  Train cost =  0.0176, Train acc =  0.9961 Val cost =  1.5454, Val acc =  0.7217\n",
      "Epoch 33, Batch 5100:  Train cost =  0.0058, Train acc =  1.0000 Val cost =  1.5084, Val acc =  0.7325\n",
      "Epoch 34, Batch 5150:  Train cost =  0.0031, Train acc =  1.0000 Val cost =  1.4744, Val acc =  0.7294\n",
      "Epoch 34, Batch 5200:  Train cost =  0.0026, Train acc =  1.0000 Val cost =  1.4641, Val acc =  0.7347\n",
      "Epoch 34, Batch 5250:  Train cost =  0.0020, Train acc =  1.0000 Val cost =  1.4482, Val acc =  0.7345\n",
      "Epoch 34, Batch 5300:  Train cost =  0.0018, Train acc =  1.0000 Val cost =  1.4800, Val acc =  0.7353\n",
      "Epoch 35, Batch 5350:  Train cost =  0.0011, Train acc =  1.0000 Val cost =  1.4796, Val acc =  0.7363\n",
      "Epoch 35, Batch 5400:  Train cost =  0.0008, Train acc =  1.0000 Val cost =  1.4771, Val acc =  0.7366\n",
      "Epoch 35, Batch 5450:  Train cost =  0.0016, Train acc =  1.0000 Val cost =  1.4898, Val acc =  0.7337\n",
      "Epoch 36, Batch 5500:  Train cost =  0.0009, Train acc =  1.0000 Val cost =  1.4904, Val acc =  0.7346\n",
      "Epoch 36, Batch 5550:  Train cost =  0.0008, Train acc =  1.0000 Val cost =  1.5050, Val acc =  0.7381\n",
      "Epoch 36, Batch 5600:  Train cost =  0.0014, Train acc =  1.0000 Val cost =  1.5243, Val acc =  0.7376\n",
      "Epoch 37, Batch 5650:  Train cost =  0.0008, Train acc =  1.0000 Val cost =  1.5174, Val acc =  0.7400\n",
      "Epoch 37, Batch 5700:  Train cost =  0.0005, Train acc =  1.0000 Val cost =  1.5053, Val acc =  0.7375\n",
      "Epoch 37, Batch 5750:  Train cost =  0.0005, Train acc =  1.0000 Val cost =  1.5196, Val acc =  0.7404\n",
      "Epoch 38, Batch 5800:  Train cost =  0.0004, Train acc =  1.0000 Val cost =  1.5154, Val acc =  0.7392\n",
      "Epoch 38, Batch 5850:  Train cost =  0.0004, Train acc =  1.0000 Val cost =  1.5233, Val acc =  0.7376\n",
      "Epoch 38, Batch 5900:  Train cost =  0.0006, Train acc =  1.0000 Val cost =  1.5306, Val acc =  0.7361\n",
      "Epoch 39, Batch 5950:  Train cost =  0.0005, Train acc =  1.0000 Val cost =  1.5412, Val acc =  0.7367\n",
      "Epoch 39, Batch 6000:  Train cost =  0.0005, Train acc =  1.0000 Val cost =  1.5720, Val acc =  0.7345\n",
      "Epoch 39, Batch 6050:  Train cost =  0.0005, Train acc =  1.0000 Val cost =  1.5586, Val acc =  0.7371\n",
      "Epoch 40, Batch 6100:  Train cost =  0.0004, Train acc =  1.0000 Val cost =  1.5465, Val acc =  0.7382\n",
      "Epoch 40, Batch 6150:  Train cost =  0.0004, Train acc =  1.0000 Val cost =  1.5583, Val acc =  0.7386\n",
      "Epoch 40, Batch 6200:  Train cost =  0.0004, Train acc =  1.0000 Val cost =  1.5610, Val acc =  0.7385\n",
      "Epoch 41, Batch 6250:  Train cost =  0.0004, Train acc =  1.0000 Val cost =  1.5835, Val acc =  0.7352\n",
      "Epoch 41, Batch 6300:  Train cost =  0.0003, Train acc =  1.0000 Val cost =  1.5809, Val acc =  0.7373\n",
      "Epoch 41, Batch 6350:  Train cost =  0.0004, Train acc =  1.0000 Val cost =  1.5821, Val acc =  0.7381\n",
      "Epoch 42, Batch 6400:  Train cost =  0.0002, Train acc =  1.0000 Val cost =  1.5824, Val acc =  0.7393\n",
      "Epoch 42, Batch 6450:  Train cost =  0.0002, Train acc =  1.0000 Val cost =  1.5850, Val acc =  0.7408\n",
      "Epoch 42, Batch 6500:  Train cost =  0.0003, Train acc =  1.0000 Val cost =  1.5937, Val acc =  0.7389\n",
      "Epoch 42, Batch 6550:  Train cost =  0.0002, Train acc =  1.0000 Val cost =  1.5929, Val acc =  0.7395\n",
      "Epoch 43, Batch 6600:  Train cost =  0.0002, Train acc =  1.0000 Val cost =  1.6009, Val acc =  0.7374\n",
      "Epoch 43, Batch 6650:  Train cost =  0.0002, Train acc =  1.0000 Val cost =  1.6033, Val acc =  0.7375\n",
      "Epoch 43, Batch 6700:  Train cost =  0.0003, Train acc =  1.0000 Val cost =  1.6113, Val acc =  0.7367\n",
      "Epoch 44, Batch 6750:  Train cost =  0.0002, Train acc =  1.0000 Val cost =  1.6140, Val acc =  0.7374\n",
      "Epoch 44, Batch 6800:  Train cost =  0.0002, Train acc =  1.0000 Val cost =  1.6190, Val acc =  0.7378\n",
      "Epoch 44, Batch 6850:  Train cost =  0.0002, Train acc =  1.0000 Val cost =  1.6279, Val acc =  0.7378\n",
      "Epoch 45, Batch 6900:  Train cost =  0.0002, Train acc =  1.0000 Val cost =  1.6268, Val acc =  0.7384\n",
      "Epoch 45, Batch 6950:  Train cost =  0.0002, Train acc =  1.0000 Val cost =  1.6321, Val acc =  0.7368\n",
      "Epoch 45, Batch 7000:  Train cost =  0.0002, Train acc =  1.0000 Val cost =  1.6299, Val acc =  0.7371\n",
      "Epoch 46, Batch 7050:  Train cost =  0.0004, Train acc =  1.0000 Val cost =  1.6639, Val acc =  0.7342\n",
      "Epoch 46, Batch 7100:  Train cost =  0.0011, Train acc =  1.0000 Val cost =  1.7343, Val acc =  0.7305\n",
      "Epoch 46, Batch 7150:  Train cost =  2.7681, Train acc =  0.5703 Val cost =  5.7178, Val acc =  0.4553\n",
      "Epoch 47, Batch 7200:  Train cost =  3.0897, Train acc =  0.5742 Val cost =  4.8419, Val acc =  0.4740\n",
      "Epoch 47, Batch 7250:  Train cost =  0.8303, Train acc =  0.7773 Val cost =  2.2089, Val acc =  0.6242\n",
      "Epoch 47, Batch 7300:  Train cost =  0.2223, Train acc =  0.9141 Val cost =  1.3113, Val acc =  0.6993\n",
      "Epoch 48, Batch 7350:  Train cost =  0.1411, Train acc =  0.9453 Val cost =  1.3002, Val acc =  0.7157\n",
      "Epoch 48, Batch 7400:  Train cost =  0.0810, Train acc =  0.9766 Val cost =  1.2088, Val acc =  0.7146\n",
      "Epoch 48, Batch 7450:  Train cost =  0.0666, Train acc =  0.9844 Val cost =  1.2277, Val acc =  0.7295\n",
      "Epoch 49, Batch 7500:  Train cost =  0.0875, Train acc =  0.9766 Val cost =  1.3566, Val acc =  0.7138\n",
      "Epoch 49, Batch 7550:  Train cost =  0.0411, Train acc =  0.9844 Val cost =  1.3027, Val acc =  0.7249\n",
      "Epoch 49, Batch 7600:  Train cost =  0.0297, Train acc =  0.9922 Val cost =  1.3547, Val acc =  0.7180\n",
      "Epoch 50, Batch 7650:  Train cost =  0.0228, Train acc =  0.9922 Val cost =  1.3157, Val acc =  0.7270\n",
      "Epoch 50, Batch 7700:  Train cost =  0.0120, Train acc =  1.0000 Val cost =  1.3231, Val acc =  0.7357\n",
      "Epoch 50, Batch 7750:  Train cost =  0.0080, Train acc =  1.0000 Val cost =  1.3020, Val acc =  0.7405\n",
      "Epoch 50, Batch 7800:  Train cost =  0.0117, Train acc =  1.0000 Val cost =  1.3532, Val acc =  0.7339\n",
      "Epoch 51, Batch 7850:  Train cost =  0.0049, Train acc =  1.0000 Val cost =  1.3179, Val acc =  0.7384\n",
      "Epoch 51, Batch 7900:  Train cost =  0.0023, Train acc =  1.0000 Val cost =  1.3157, Val acc =  0.7424\n",
      "Epoch 51, Batch 7950:  Train cost =  0.0026, Train acc =  1.0000 Val cost =  1.3266, Val acc =  0.7407\n",
      "Epoch 52, Batch 8000:  Train cost =  0.0019, Train acc =  1.0000 Val cost =  1.3335, Val acc =  0.7388\n",
      "Epoch 52, Batch 8050:  Train cost =  0.0027, Train acc =  1.0000 Val cost =  1.3558, Val acc =  0.7407\n"
     ]
    },
    {
     "name": "stdout",
     "output_type": "stream",
     "text": [
      "Epoch 52, Batch 8100:  Train cost =  0.0019, Train acc =  1.0000 Val cost =  1.3683, Val acc =  0.7420\n",
      "Epoch 53, Batch 8150:  Train cost =  0.0022, Train acc =  1.0000 Val cost =  1.4241, Val acc =  0.7374\n",
      "Epoch 53, Batch 8200:  Train cost =  0.0015, Train acc =  1.0000 Val cost =  1.3730, Val acc =  0.7401\n",
      "Epoch 53, Batch 8250:  Train cost =  0.0013, Train acc =  1.0000 Val cost =  1.3962, Val acc =  0.7387\n",
      "Epoch 54, Batch 8300:  Train cost =  0.0012, Train acc =  1.0000 Val cost =  1.3948, Val acc =  0.7399\n",
      "Epoch 54, Batch 8350:  Train cost =  0.0009, Train acc =  1.0000 Val cost =  1.4019, Val acc =  0.7396\n",
      "Epoch 54, Batch 8400:  Train cost =  0.0011, Train acc =  1.0000 Val cost =  1.4115, Val acc =  0.7400\n",
      "Epoch 55, Batch 8450:  Train cost =  0.0008, Train acc =  1.0000 Val cost =  1.4295, Val acc =  0.7417\n",
      "Epoch 55, Batch 8500:  Train cost =  0.0009, Train acc =  1.0000 Val cost =  1.4426, Val acc =  0.7403\n",
      "Epoch 55, Batch 8550:  Train cost =  0.0009, Train acc =  1.0000 Val cost =  1.4462, Val acc =  0.7407\n",
      "Epoch 56, Batch 8600:  Train cost =  0.0008, Train acc =  1.0000 Val cost =  1.4373, Val acc =  0.7401\n",
      "Epoch 56, Batch 8650:  Train cost =  0.0008, Train acc =  1.0000 Val cost =  1.4483, Val acc =  0.7401\n",
      "Epoch 56, Batch 8700:  Train cost =  0.0006, Train acc =  1.0000 Val cost =  1.4552, Val acc =  0.7402\n",
      "Epoch 57, Batch 8750:  Train cost =  0.0008, Train acc =  1.0000 Val cost =  1.4657, Val acc =  0.7418\n",
      "Epoch 57, Batch 8800:  Train cost =  0.0008, Train acc =  1.0000 Val cost =  1.4772, Val acc =  0.7429\n",
      "Epoch 57, Batch 8850:  Train cost =  0.0009, Train acc =  1.0000 Val cost =  1.5064, Val acc =  0.7403\n",
      "Epoch 58, Batch 8900:  Train cost =  0.0009, Train acc =  1.0000 Val cost =  1.4962, Val acc =  0.7386\n",
      "Epoch 58, Batch 8950:  Train cost =  0.0007, Train acc =  1.0000 Val cost =  1.4924, Val acc =  0.7418\n",
      "Epoch 58, Batch 9000:  Train cost =  0.0005, Train acc =  1.0000 Val cost =  1.5011, Val acc =  0.7383\n",
      "Epoch 59, Batch 9050:  Train cost =  0.0005, Train acc =  1.0000 Val cost =  1.5082, Val acc =  0.7405\n",
      "Epoch 59, Batch 9100:  Train cost =  0.0007, Train acc =  1.0000 Val cost =  1.5143, Val acc =  0.7414\n",
      "Epoch 59, Batch 9150:  Train cost =  0.0005, Train acc =  1.0000 Val cost =  1.5233, Val acc =  0.7413\n",
      "Epoch 59, Batch 9200:  Train cost =  0.0004, Train acc =  1.0000 Val cost =  1.5238, Val acc =  0.7394\n",
      "Epoch 60, Batch 9250:  Train cost =  0.0005, Train acc =  1.0000 Val cost =  1.5336, Val acc =  0.7393\n",
      "Epoch 60, Batch 9300:  Train cost =  0.0004, Train acc =  1.0000 Val cost =  1.5371, Val acc =  0.7387\n",
      "Epoch 60, Batch 9350:  Train cost =  0.0004, Train acc =  1.0000 Val cost =  1.5370, Val acc =  0.7387\n",
      "Epoch 61, Batch 9400:  Train cost =  0.0003, Train acc =  1.0000 Val cost =  1.5497, Val acc =  0.7400\n",
      "Epoch 61, Batch 9450:  Train cost =  0.0003, Train acc =  1.0000 Val cost =  1.5532, Val acc =  0.7386\n",
      "Epoch 61, Batch 9500:  Train cost =  0.0004, Train acc =  1.0000 Val cost =  1.5518, Val acc =  0.7378\n",
      "Epoch 62, Batch 9550:  Train cost =  0.0004, Train acc =  1.0000 Val cost =  1.5720, Val acc =  0.7413\n",
      "Epoch 62, Batch 9600:  Train cost =  0.0003, Train acc =  1.0000 Val cost =  1.5621, Val acc =  0.7386\n",
      "Epoch 62, Batch 9650:  Train cost =  0.0002, Train acc =  1.0000 Val cost =  1.5788, Val acc =  0.7397\n",
      "Epoch 63, Batch 9700:  Train cost =  0.0004, Train acc =  1.0000 Val cost =  1.5850, Val acc =  0.7395\n",
      "Epoch 63, Batch 9750:  Train cost =  0.0002, Train acc =  1.0000 Val cost =  1.5846, Val acc =  0.7400\n",
      "Epoch 63, Batch 9800:  Train cost =  0.0002, Train acc =  1.0000 Val cost =  1.5950, Val acc =  0.7386\n",
      "Epoch 64, Batch 9850:  Train cost =  0.0002, Train acc =  1.0000 Val cost =  1.5884, Val acc =  0.7387\n",
      "Epoch 64, Batch 9900:  Train cost =  0.0002, Train acc =  1.0000 Val cost =  1.5987, Val acc =  0.7389\n",
      "Epoch 64, Batch 9950:  Train cost =  0.0003, Train acc =  1.0000 Val cost =  1.6132, Val acc =  0.7401\n",
      "Epoch 65, Batch 10000:  Train cost =  0.0002, Train acc =  1.0000 Val cost =  1.6116, Val acc =  0.7372\n",
      "Epoch 65, Batch 10050:  Train cost =  0.0002, Train acc =  1.0000 Val cost =  1.6112, Val acc =  0.7395\n",
      "Epoch 65, Batch 10100:  Train cost =  0.0002, Train acc =  1.0000 Val cost =  1.6224, Val acc =  0.7392\n",
      "Epoch 66, Batch 10150:  Train cost =  0.0003, Train acc =  1.0000 Val cost =  1.6453, Val acc =  0.7398\n",
      "Epoch 66, Batch 10200:  Train cost =  0.0002, Train acc =  1.0000 Val cost =  1.6345, Val acc =  0.7394\n",
      "Epoch 66, Batch 10250:  Train cost =  0.0002, Train acc =  1.0000 Val cost =  1.6358, Val acc =  0.7379\n",
      "Epoch 67, Batch 10300:  Train cost =  0.0002, Train acc =  1.0000 Val cost =  1.6496, Val acc =  0.7408\n",
      "Epoch 67, Batch 10350:  Train cost =  0.0001, Train acc =  1.0000 Val cost =  1.6688, Val acc =  0.7403\n",
      "Epoch 67, Batch 10400:  Train cost =  0.0001, Train acc =  1.0000 Val cost =  1.6632, Val acc =  0.7368\n",
      "Epoch 67, Batch 10450:  Train cost =  0.0001, Train acc =  1.0000 Val cost =  1.6651, Val acc =  0.7393\n",
      "Epoch 68, Batch 10500:  Train cost =  0.0002, Train acc =  1.0000 Val cost =  1.6818, Val acc =  0.7396\n",
      "Epoch 68, Batch 10550:  Train cost =  0.0002, Train acc =  1.0000 Val cost =  1.6769, Val acc =  0.7362\n",
      "Epoch 68, Batch 10600:  Train cost =  0.0001, Train acc =  1.0000 Val cost =  1.6642, Val acc =  0.7402\n",
      "Epoch 69, Batch 10650:  Train cost =  0.0001, Train acc =  1.0000 Val cost =  1.6743, Val acc =  0.7392\n",
      "Epoch 69, Batch 10700:  Train cost =  0.0003, Train acc =  1.0000 Val cost =  1.7054, Val acc =  0.7371\n",
      "Epoch 69, Batch 10750:  Train cost =  3.8446, Train acc =  0.5586 Val cost =  5.7257, Val acc =  0.4567\n",
      "Epoch 70, Batch 10800:  Train cost =  1.0510, Train acc =  0.7539 Val cost =  2.4416, Val acc =  0.6130\n",
      "Epoch 70, Batch 10850:  Train cost =  0.5145, Train acc =  0.8477 Val cost =  1.5768, Val acc =  0.6776\n",
      "Epoch 70, Batch 10900:  Train cost =  0.2312, Train acc =  0.9102 Val cost =  1.3769, Val acc =  0.6976\n",
      "Epoch 71, Batch 10950:  Train cost =  0.1411, Train acc =  0.9688 Val cost =  1.3162, Val acc =  0.7041\n",
      "Epoch 71, Batch 11000:  Train cost =  0.0278, Train acc =  0.9922 Val cost =  1.1372, Val acc =  0.7267\n",
      "Epoch 71, Batch 11050:  Train cost =  0.0462, Train acc =  0.9961 Val cost =  1.2017, Val acc =  0.7199\n",
      "Epoch 72, Batch 11100:  Train cost =  0.0261, Train acc =  0.9922 Val cost =  1.2284, Val acc =  0.7302\n",
      "Epoch 72, Batch 11150:  Train cost =  0.0185, Train acc =  0.9961 Val cost =  1.2625, Val acc =  0.7294\n",
      "Epoch 72, Batch 11200:  Train cost =  0.0255, Train acc =  0.9922 Val cost =  1.2538, Val acc =  0.7336\n",
      "Epoch 73, Batch 11250:  Train cost =  0.0177, Train acc =  0.9961 Val cost =  1.3513, Val acc =  0.7282\n",
      "Epoch 73, Batch 11300:  Train cost =  0.0053, Train acc =  1.0000 Val cost =  1.2621, Val acc =  0.7387\n",
      "Epoch 73, Batch 11350:  Train cost =  0.0052, Train acc =  1.0000 Val cost =  1.2756, Val acc =  0.7330\n",
      "Epoch 74, Batch 11400:  Train cost =  0.0044, Train acc =  1.0000 Val cost =  1.2973, Val acc =  0.7353\n",
      "Epoch 74, Batch 11450:  Train cost =  0.0035, Train acc =  1.0000 Val cost =  1.3313, Val acc =  0.7378\n",
      "Epoch 74, Batch 11500:  Train cost =  0.0044, Train acc =  1.0000 Val cost =  1.3372, Val acc =  0.7404\n",
      "Epoch 75, Batch 11550:  Train cost =  0.0022, Train acc =  1.0000 Val cost =  1.3429, Val acc =  0.7410\n",
      "Epoch 75, Batch 11600:  Train cost =  0.0022, Train acc =  1.0000 Val cost =  1.3464, Val acc =  0.7406\n",
      "Epoch 75, Batch 11650:  Train cost =  0.0018, Train acc =  1.0000 Val cost =  1.3422, Val acc =  0.7406\n",
      "Epoch 75, Batch 11700:  Train cost =  0.0013, Train acc =  1.0000 Val cost =  1.3516, Val acc =  0.7398\n",
      "Epoch 76, Batch 11750:  Train cost =  0.0015, Train acc =  1.0000 Val cost =  1.3746, Val acc =  0.7401\n",
      "Epoch 76, Batch 11800:  Train cost =  0.0013, Train acc =  1.0000 Val cost =  1.3855, Val acc =  0.7376\n",
      "Epoch 76, Batch 11850:  Train cost =  0.0011, Train acc =  1.0000 Val cost =  1.3751, Val acc =  0.7403\n",
      "Epoch 77, Batch 11900:  Train cost =  0.0012, Train acc =  1.0000 Val cost =  1.3889, Val acc =  0.7409\n",
      "Epoch 77, Batch 11950:  Train cost =  0.0010, Train acc =  1.0000 Val cost =  1.4033, Val acc =  0.7426\n",
      "Epoch 77, Batch 12000:  Train cost =  0.0007, Train acc =  1.0000 Val cost =  1.4087, Val acc =  0.7409\n",
      "Epoch 78, Batch 12050:  Train cost =  0.0008, Train acc =  1.0000 Val cost =  1.4057, Val acc =  0.7382\n"
     ]
    },
    {
     "name": "stdout",
     "output_type": "stream",
     "text": [
      "Epoch 78, Batch 12100:  Train cost =  0.0009, Train acc =  1.0000 Val cost =  1.4122, Val acc =  0.7400\n",
      "Epoch 78, Batch 12150:  Train cost =  0.0009, Train acc =  1.0000 Val cost =  1.4303, Val acc =  0.7407\n",
      "Epoch 79, Batch 12200:  Train cost =  0.0008, Train acc =  1.0000 Val cost =  1.4324, Val acc =  0.7408\n",
      "Epoch 79, Batch 12250:  Train cost =  0.0007, Train acc =  1.0000 Val cost =  1.4472, Val acc =  0.7387\n",
      "Epoch 79, Batch 12300:  Train cost =  0.0006, Train acc =  1.0000 Val cost =  1.4542, Val acc =  0.7430\n",
      "Epoch 80, Batch 12350:  Train cost =  0.0006, Train acc =  1.0000 Val cost =  1.4601, Val acc =  0.7402\n",
      "Epoch 80, Batch 12400:  Train cost =  0.0006, Train acc =  1.0000 Val cost =  1.4785, Val acc =  0.7393\n",
      "Epoch 80, Batch 12450:  Train cost =  0.0006, Train acc =  1.0000 Val cost =  1.4748, Val acc =  0.7402\n",
      "Epoch 81, Batch 12500:  Train cost =  0.0005, Train acc =  1.0000 Val cost =  1.4713, Val acc =  0.7412\n",
      "Epoch 81, Batch 12550:  Train cost =  0.0005, Train acc =  1.0000 Val cost =  1.4753, Val acc =  0.7405\n",
      "Epoch 81, Batch 12600:  Train cost =  0.0003, Train acc =  1.0000 Val cost =  1.4847, Val acc =  0.7397\n",
      "Epoch 82, Batch 12650:  Train cost =  0.0005, Train acc =  1.0000 Val cost =  1.4827, Val acc =  0.7405\n",
      "Epoch 82, Batch 12700:  Train cost =  0.0005, Train acc =  1.0000 Val cost =  1.5016, Val acc =  0.7410\n",
      "Epoch 82, Batch 12750:  Train cost =  0.0004, Train acc =  1.0000 Val cost =  1.5154, Val acc =  0.7404\n",
      "Epoch 83, Batch 12800:  Train cost =  0.0004, Train acc =  1.0000 Val cost =  1.5097, Val acc =  0.7410\n",
      "Epoch 83, Batch 12850:  Train cost =  0.0004, Train acc =  1.0000 Val cost =  1.5184, Val acc =  0.7397\n",
      "Epoch 83, Batch 12900:  Train cost =  0.0003, Train acc =  1.0000 Val cost =  1.5310, Val acc =  0.7402\n",
      "Epoch 84, Batch 12950:  Train cost =  0.0003, Train acc =  1.0000 Val cost =  1.5306, Val acc =  0.7404\n",
      "Epoch 84, Batch 13000:  Train cost =  0.0004, Train acc =  1.0000 Val cost =  1.5359, Val acc =  0.7408\n",
      "Epoch 84, Batch 13050:  Train cost =  0.0003, Train acc =  1.0000 Val cost =  1.5386, Val acc =  0.7404\n",
      "Epoch 84, Batch 13100:  Train cost =  0.0003, Train acc =  1.0000 Val cost =  1.5519, Val acc =  0.7402\n",
      "Epoch 85, Batch 13150:  Train cost =  0.0003, Train acc =  1.0000 Val cost =  1.5525, Val acc =  0.7398\n",
      "Epoch 85, Batch 13200:  Train cost =  0.0003, Train acc =  1.0000 Val cost =  1.5641, Val acc =  0.7402\n",
      "Epoch 85, Batch 13250:  Train cost =  0.0003, Train acc =  1.0000 Val cost =  1.5653, Val acc =  0.7382\n",
      "Epoch 86, Batch 13300:  Train cost =  0.0002, Train acc =  1.0000 Val cost =  1.5873, Val acc =  0.7388\n",
      "Epoch 86, Batch 13350:  Train cost =  0.0002, Train acc =  1.0000 Val cost =  1.5685, Val acc =  0.7386\n",
      "Epoch 86, Batch 13400:  Train cost =  0.0003, Train acc =  1.0000 Val cost =  1.5771, Val acc =  0.7412\n",
      "Epoch 87, Batch 13450:  Train cost =  0.0002, Train acc =  1.0000 Val cost =  1.5888, Val acc =  0.7386\n",
      "Epoch 87, Batch 13500:  Train cost =  0.0002, Train acc =  1.0000 Val cost =  1.5899, Val acc =  0.7387\n",
      "Epoch 87, Batch 13550:  Train cost =  0.0002, Train acc =  1.0000 Val cost =  1.5929, Val acc =  0.7402\n",
      "Epoch 88, Batch 13600:  Train cost =  0.0002, Train acc =  1.0000 Val cost =  1.5983, Val acc =  0.7400\n",
      "Epoch 88, Batch 13650:  Train cost =  0.0002, Train acc =  1.0000 Val cost =  1.6026, Val acc =  0.7400\n",
      "Epoch 88, Batch 13700:  Train cost =  0.0002, Train acc =  1.0000 Val cost =  1.6174, Val acc =  0.7404\n",
      "Epoch 89, Batch 13750:  Train cost =  0.0002, Train acc =  1.0000 Val cost =  1.6178, Val acc =  0.7382\n",
      "Epoch 89, Batch 13800:  Train cost =  0.0002, Train acc =  1.0000 Val cost =  1.6195, Val acc =  0.7381\n",
      "Epoch 89, Batch 13850:  Train cost =  0.0003, Train acc =  1.0000 Val cost =  1.6352, Val acc =  0.7380\n",
      "Epoch 90, Batch 13900:  Train cost =  0.0002, Train acc =  1.0000 Val cost =  1.6352, Val acc =  0.7400\n",
      "Epoch 90, Batch 13950:  Train cost =  0.0002, Train acc =  1.0000 Val cost =  1.6428, Val acc =  0.7392\n",
      "Epoch 90, Batch 14000:  Train cost =  0.0001, Train acc =  1.0000 Val cost =  1.6338, Val acc =  0.7394\n",
      "Epoch 91, Batch 14050:  Train cost =  0.0001, Train acc =  1.0000 Val cost =  1.6475, Val acc =  0.7395\n",
      "Epoch 91, Batch 14100:  Train cost =  0.0002, Train acc =  1.0000 Val cost =  1.6435, Val acc =  0.7385\n",
      "Epoch 91, Batch 14150:  Train cost =  0.0001, Train acc =  1.0000 Val cost =  1.6613, Val acc =  0.7376\n",
      "Epoch 92, Batch 14200:  Train cost =  0.0001, Train acc =  1.0000 Val cost =  1.6531, Val acc =  0.7410\n",
      "Epoch 92, Batch 14250:  Train cost =  0.0002, Train acc =  1.0000 Val cost =  1.6603, Val acc =  0.7381\n",
      "Epoch 92, Batch 14300:  Train cost =  0.0001, Train acc =  1.0000 Val cost =  1.6705, Val acc =  0.7384\n",
      "Epoch 92, Batch 14350:  Train cost =  0.0001, Train acc =  1.0000 Val cost =  1.6741, Val acc =  0.7392\n",
      "Epoch 93, Batch 14400:  Train cost =  0.0001, Train acc =  1.0000 Val cost =  1.6777, Val acc =  0.7386\n",
      "Epoch 93, Batch 14450:  Train cost =  0.0001, Train acc =  1.0000 Val cost =  1.6854, Val acc =  0.7378\n",
      "Epoch 93, Batch 14500:  Train cost =  0.0001, Train acc =  1.0000 Val cost =  1.6774, Val acc =  0.7408\n",
      "Epoch 94, Batch 14550:  Train cost =  0.0001, Train acc =  1.0000 Val cost =  1.6925, Val acc =  0.7401\n",
      "Epoch 94, Batch 14600:  Train cost =  0.0001, Train acc =  1.0000 Val cost =  1.7019, Val acc =  0.7388\n",
      "Epoch 94, Batch 14650:  Train cost =  0.0002, Train acc =  1.0000 Val cost =  1.7150, Val acc =  0.7382\n",
      "Epoch 95, Batch 14700:  Train cost =  0.0001, Train acc =  1.0000 Val cost =  1.7029, Val acc =  0.7386\n",
      "Epoch 95, Batch 14750:  Train cost =  0.0001, Train acc =  1.0000 Val cost =  1.7081, Val acc =  0.7398\n",
      "Epoch 95, Batch 14800:  Train cost =  0.0003, Train acc =  1.0000 Val cost =  1.7589, Val acc =  0.7362\n",
      "Epoch 96, Batch 14850:  Train cost =  3.7831, Train acc =  0.5078 Val cost =  4.9787, Val acc =  0.4691\n",
      "Epoch 96, Batch 14900:  Train cost =  0.5601, Train acc =  0.8281 Val cost =  2.0098, Val acc =  0.6524\n",
      "Epoch 96, Batch 14950:  Train cost =  0.2016, Train acc =  0.9297 Val cost =  1.3417, Val acc =  0.7027\n",
      "Epoch 97, Batch 15000:  Train cost =  0.1388, Train acc =  0.9453 Val cost =  1.2686, Val acc =  0.7074\n",
      "Epoch 97, Batch 15050:  Train cost =  0.0870, Train acc =  0.9688 Val cost =  1.3301, Val acc =  0.7145\n",
      "Epoch 97, Batch 15100:  Train cost =  0.0604, Train acc =  0.9727 Val cost =  1.3043, Val acc =  0.7121\n",
      "Epoch 98, Batch 15150:  Train cost =  0.0357, Train acc =  0.9922 Val cost =  1.3042, Val acc =  0.7195\n",
      "Epoch 98, Batch 15200:  Train cost =  0.0135, Train acc =  0.9961 Val cost =  1.2311, Val acc =  0.7356\n",
      "Epoch 98, Batch 15250:  Train cost =  0.0204, Train acc =  0.9961 Val cost =  1.2979, Val acc =  0.7382\n",
      "Epoch 99, Batch 15300:  Train cost =  0.0052, Train acc =  1.0000 Val cost =  1.2716, Val acc =  0.7424\n",
      "Epoch 99, Batch 15350:  Train cost =  0.0111, Train acc =  0.9961 Val cost =  1.2929, Val acc =  0.7367\n",
      "Epoch 99, Batch 15400:  Train cost =  0.0054, Train acc =  1.0000 Val cost =  1.3147, Val acc =  0.7402\n",
      "Epoch 100, Batch 15450:  Train cost =  0.0027, Train acc =  1.0000 Val cost =  1.2967, Val acc =  0.7394\n",
      "Epoch 100, Batch 15500:  Train cost =  0.0016, Train acc =  1.0000 Val cost =  1.3123, Val acc =  0.7393\n",
      "Epoch 100, Batch 15550:  Train cost =  0.0033, Train acc =  1.0000 Val cost =  1.3632, Val acc =  0.7411\n",
      "Epoch 100, Batch 15600:  Train cost =  0.0015, Train acc =  1.0000 Val cost =  1.3279, Val acc =  0.7408\n",
      "Epoch 101, Batch 15650:  Train cost =  0.0014, Train acc =  1.0000 Val cost =  1.3493, Val acc =  0.7436\n",
      "Epoch 101, Batch 15700:  Train cost =  0.0014, Train acc =  1.0000 Val cost =  1.3505, Val acc =  0.7423\n",
      "Epoch 101, Batch 15750:  Train cost =  0.0017, Train acc =  1.0000 Val cost =  1.3690, Val acc =  0.7404\n",
      "Epoch 102, Batch 15800:  Train cost =  0.0014, Train acc =  1.0000 Val cost =  1.3689, Val acc =  0.7406\n",
      "Epoch 102, Batch 15850:  Train cost =  0.0010, Train acc =  1.0000 Val cost =  1.3882, Val acc =  0.7404\n",
      "Epoch 102, Batch 15900:  Train cost =  0.0012, Train acc =  1.0000 Val cost =  1.3867, Val acc =  0.7410\n",
      "Epoch 103, Batch 15950:  Train cost =  0.0008, Train acc =  1.0000 Val cost =  1.3997, Val acc =  0.7432\n",
      "Epoch 103, Batch 16000:  Train cost =  0.0006, Train acc =  1.0000 Val cost =  1.4113, Val acc =  0.7410\n"
     ]
    },
    {
     "name": "stdout",
     "output_type": "stream",
     "text": [
      "Epoch 103, Batch 16050:  Train cost =  0.0007, Train acc =  1.0000 Val cost =  1.4183, Val acc =  0.7388\n",
      "Epoch 104, Batch 16100:  Train cost =  0.0007, Train acc =  1.0000 Val cost =  1.4247, Val acc =  0.7419\n",
      "Epoch 104, Batch 16150:  Train cost =  0.0008, Train acc =  1.0000 Val cost =  1.4300, Val acc =  0.7411\n",
      "Epoch 104, Batch 16200:  Train cost =  0.0007, Train acc =  1.0000 Val cost =  1.4358, Val acc =  0.7394\n",
      "Epoch 105, Batch 16250:  Train cost =  0.0005, Train acc =  1.0000 Val cost =  1.4531, Val acc =  0.7414\n",
      "Epoch 105, Batch 16300:  Train cost =  0.0009, Train acc =  1.0000 Val cost =  1.4514, Val acc =  0.7364\n",
      "Epoch 105, Batch 16350:  Train cost =  0.0008, Train acc =  1.0000 Val cost =  1.4723, Val acc =  0.7403\n",
      "Epoch 106, Batch 16400:  Train cost =  0.0004, Train acc =  1.0000 Val cost =  1.4661, Val acc =  0.7410\n",
      "Epoch 106, Batch 16450:  Train cost =  0.0006, Train acc =  1.0000 Val cost =  1.4633, Val acc =  0.7399\n",
      "Epoch 106, Batch 16500:  Train cost =  0.0005, Train acc =  1.0000 Val cost =  1.4760, Val acc =  0.7396\n",
      "Epoch 107, Batch 16550:  Train cost =  0.0005, Train acc =  1.0000 Val cost =  1.4775, Val acc =  0.7409\n",
      "Epoch 107, Batch 16600:  Train cost =  0.0004, Train acc =  1.0000 Val cost =  1.4863, Val acc =  0.7418\n",
      "Epoch 107, Batch 16650:  Train cost =  0.0004, Train acc =  1.0000 Val cost =  1.4839, Val acc =  0.7409\n",
      "Epoch 108, Batch 16700:  Train cost =  0.0004, Train acc =  1.0000 Val cost =  1.4925, Val acc =  0.7416\n",
      "Epoch 108, Batch 16750:  Train cost =  0.0003, Train acc =  1.0000 Val cost =  1.5070, Val acc =  0.7415\n",
      "Epoch 108, Batch 16800:  Train cost =  0.0004, Train acc =  1.0000 Val cost =  1.5060, Val acc =  0.7429\n",
      "Epoch 109, Batch 16850:  Train cost =  0.0003, Train acc =  1.0000 Val cost =  1.5245, Val acc =  0.7415\n",
      "Epoch 109, Batch 16900:  Train cost =  0.0003, Train acc =  1.0000 Val cost =  1.5201, Val acc =  0.7426\n",
      "Epoch 109, Batch 16950:  Train cost =  0.0003, Train acc =  1.0000 Val cost =  1.5228, Val acc =  0.7424\n",
      "Epoch 109, Batch 17000:  Train cost =  0.0004, Train acc =  1.0000 Val cost =  1.5386, Val acc =  0.7414\n",
      "Epoch 110, Batch 17050:  Train cost =  0.0003, Train acc =  1.0000 Val cost =  1.5374, Val acc =  0.7429\n",
      "Epoch 110, Batch 17100:  Train cost =  0.0003, Train acc =  1.0000 Val cost =  1.5420, Val acc =  0.7389\n",
      "Epoch 110, Batch 17150:  Train cost =  0.0003, Train acc =  1.0000 Val cost =  1.5420, Val acc =  0.7408\n",
      "Epoch 111, Batch 17200:  Train cost =  0.0003, Train acc =  1.0000 Val cost =  1.5569, Val acc =  0.7410\n",
      "Epoch 111, Batch 17250:  Train cost =  0.0002, Train acc =  1.0000 Val cost =  1.5597, Val acc =  0.7413\n",
      "Epoch 111, Batch 17300:  Train cost =  0.0002, Train acc =  1.0000 Val cost =  1.5608, Val acc =  0.7406\n",
      "Epoch 112, Batch 17350:  Train cost =  0.0002, Train acc =  1.0000 Val cost =  1.5665, Val acc =  0.7411\n",
      "Epoch 112, Batch 17400:  Train cost =  0.0002, Train acc =  1.0000 Val cost =  1.5710, Val acc =  0.7398\n",
      "Epoch 112, Batch 17450:  Train cost =  0.0002, Train acc =  1.0000 Val cost =  1.5801, Val acc =  0.7403\n",
      "Epoch 113, Batch 17500:  Train cost =  0.0002, Train acc =  1.0000 Val cost =  1.5851, Val acc =  0.7418\n",
      "Epoch 113, Batch 17550:  Train cost =  0.0002, Train acc =  1.0000 Val cost =  1.5868, Val acc =  0.7404\n",
      "Epoch 113, Batch 17600:  Train cost =  0.0002, Train acc =  1.0000 Val cost =  1.5982, Val acc =  0.7415\n",
      "Epoch 114, Batch 17650:  Train cost =  0.0002, Train acc =  1.0000 Val cost =  1.6082, Val acc =  0.7415\n",
      "Epoch 114, Batch 17700:  Train cost =  0.0002, Train acc =  1.0000 Val cost =  1.5912, Val acc =  0.7419\n",
      "Epoch 114, Batch 17750:  Train cost =  0.0002, Train acc =  1.0000 Val cost =  1.6033, Val acc =  0.7416\n",
      "Epoch 115, Batch 17800:  Train cost =  0.0002, Train acc =  1.0000 Val cost =  1.6156, Val acc =  0.7413\n",
      "Epoch 115, Batch 17850:  Train cost =  0.0002, Train acc =  1.0000 Val cost =  1.6180, Val acc =  0.7413\n",
      "Epoch 115, Batch 17900:  Train cost =  0.0002, Train acc =  1.0000 Val cost =  1.6165, Val acc =  0.7409\n",
      "Epoch 116, Batch 17950:  Train cost =  0.0001, Train acc =  1.0000 Val cost =  1.6285, Val acc =  0.7403\n",
      "Epoch 116, Batch 18000:  Train cost =  0.0001, Train acc =  1.0000 Val cost =  1.6329, Val acc =  0.7401\n",
      "Epoch 116, Batch 18050:  Train cost =  0.0002, Train acc =  1.0000 Val cost =  1.6355, Val acc =  0.7399\n",
      "Epoch 117, Batch 18100:  Train cost =  0.0001, Train acc =  1.0000 Val cost =  1.6344, Val acc =  0.7408\n",
      "Epoch 117, Batch 18150:  Train cost =  0.0002, Train acc =  1.0000 Val cost =  1.6468, Val acc =  0.7417\n",
      "Epoch 117, Batch 18200:  Train cost =  0.0002, Train acc =  1.0000 Val cost =  1.6519, Val acc =  0.7427\n",
      "Epoch 117, Batch 18250:  Train cost =  0.0001, Train acc =  1.0000 Val cost =  1.6515, Val acc =  0.7414\n",
      "Epoch 118, Batch 18300:  Train cost =  0.0001, Train acc =  1.0000 Val cost =  1.6524, Val acc =  0.7408\n",
      "Epoch 118, Batch 18350:  Train cost =  0.0003, Train acc =  1.0000 Val cost =  1.6683, Val acc =  0.7386\n",
      "Epoch 118, Batch 18400:  Train cost =  0.0001, Train acc =  1.0000 Val cost =  1.6720, Val acc =  0.7392\n",
      "Epoch 119, Batch 18450:  Train cost =  0.0001, Train acc =  1.0000 Val cost =  1.6767, Val acc =  0.7392\n",
      "Epoch 119, Batch 18500:  Train cost =  0.0001, Train acc =  1.0000 Val cost =  1.6812, Val acc =  0.7407\n",
      "Epoch 119, Batch 18550:  Train cost =  0.0001, Train acc =  1.0000 Val cost =  1.6820, Val acc =  0.7410\n",
      "Epoch 120, Batch 18600:  Train cost =  0.0001, Train acc =  1.0000 Val cost =  1.6820, Val acc =  0.7407\n",
      "Epoch 120, Batch 18650:  Train cost =  0.0001, Train acc =  1.0000 Val cost =  1.6828, Val acc =  0.7409\n",
      "Epoch 120, Batch 18700:  Train cost =  0.0001, Train acc =  1.0000 Val cost =  1.6929, Val acc =  0.7403\n",
      "Epoch 121, Batch 18750:  Train cost =  0.0001, Train acc =  1.0000 Val cost =  1.7145, Val acc =  0.7392\n",
      "Epoch 121, Batch 18800:  Train cost =  0.0017, Train acc =  1.0000 Val cost =  1.8441, Val acc =  0.7351\n",
      "Epoch 121, Batch 18850:  Train cost =  5.3714, Train acc =  0.5352 Val cost =  7.4585, Val acc =  0.4490\n",
      "Epoch 122, Batch 18900:  Train cost =  0.3404, Train acc =  0.8750 Val cost =  1.8111, Val acc =  0.6798\n",
      "Epoch 122, Batch 18950:  Train cost =  0.1526, Train acc =  0.9375 Val cost =  1.5078, Val acc =  0.7020\n",
      "Epoch 122, Batch 19000:  Train cost =  0.1576, Train acc =  0.9570 Val cost =  1.5620, Val acc =  0.6940\n",
      "Epoch 123, Batch 19050:  Train cost =  0.0534, Train acc =  0.9766 Val cost =  1.3738, Val acc =  0.7167\n",
      "Epoch 123, Batch 19100:  Train cost =  0.0648, Train acc =  0.9766 Val cost =  1.3818, Val acc =  0.7161\n",
      "Epoch 123, Batch 19150:  Train cost =  0.0206, Train acc =  0.9922 Val cost =  1.3007, Val acc =  0.7296\n"
     ]
    },
    {
     "ename": "KeyboardInterrupt",
     "evalue": "",
     "output_type": "error",
     "traceback": [
      "\u001b[0;31m---------------------------------------------------------------------------\u001b[0m",
      "\u001b[0;31mKeyboardInterrupt\u001b[0m                         Traceback (most recent call last)",
      "\u001b[0;32m<ipython-input-28-e75e7200bfaf>\u001b[0m in \u001b[0;36m<module>\u001b[0;34m()\u001b[0m\n\u001b[1;32m     28\u001b[0m \u001b[0;34m\u001b[0m\u001b[0m\n\u001b[1;32m     29\u001b[0m             valid_acc = session.run(accuracy, feed_dict={\n\u001b[0;32m---> 30\u001b[0;31m                 inputs: val_data_norm, targets: val_labels_ohe, keep_prob: 1., is_training: False})\n\u001b[0m\u001b[1;32m     31\u001b[0m \u001b[0;34m\u001b[0m\u001b[0m\n\u001b[1;32m     32\u001b[0m             \u001b[0minfo\u001b[0m\u001b[0;34m[\u001b[0m\u001b[0;34m\"valid_cost\"\u001b[0m\u001b[0;34m]\u001b[0m\u001b[0;34m.\u001b[0m\u001b[0mappend\u001b[0m\u001b[0;34m(\u001b[0m\u001b[0mvalid_cost\u001b[0m\u001b[0;34m)\u001b[0m\u001b[0;34m\u001b[0m\u001b[0m\n",
      "\u001b[0;32m~/.pyenv/versions/3.6.1/lib/python3.6/site-packages/tensorflow/python/client/session.py\u001b[0m in \u001b[0;36mrun\u001b[0;34m(self, fetches, feed_dict, options, run_metadata)\u001b[0m\n\u001b[1;32m    787\u001b[0m     \u001b[0;32mtry\u001b[0m\u001b[0;34m:\u001b[0m\u001b[0;34m\u001b[0m\u001b[0m\n\u001b[1;32m    788\u001b[0m       result = self._run(None, fetches, feed_dict, options_ptr,\n\u001b[0;32m--> 789\u001b[0;31m                          run_metadata_ptr)\n\u001b[0m\u001b[1;32m    790\u001b[0m       \u001b[0;32mif\u001b[0m \u001b[0mrun_metadata\u001b[0m\u001b[0;34m:\u001b[0m\u001b[0;34m\u001b[0m\u001b[0m\n\u001b[1;32m    791\u001b[0m         \u001b[0mproto_data\u001b[0m \u001b[0;34m=\u001b[0m \u001b[0mtf_session\u001b[0m\u001b[0;34m.\u001b[0m\u001b[0mTF_GetBuffer\u001b[0m\u001b[0;34m(\u001b[0m\u001b[0mrun_metadata_ptr\u001b[0m\u001b[0;34m)\u001b[0m\u001b[0;34m\u001b[0m\u001b[0m\n",
      "\u001b[0;32m~/.pyenv/versions/3.6.1/lib/python3.6/site-packages/tensorflow/python/client/session.py\u001b[0m in \u001b[0;36m_run\u001b[0;34m(self, handle, fetches, feed_dict, options, run_metadata)\u001b[0m\n\u001b[1;32m    995\u001b[0m     \u001b[0;32mif\u001b[0m \u001b[0mfinal_fetches\u001b[0m \u001b[0;32mor\u001b[0m \u001b[0mfinal_targets\u001b[0m\u001b[0;34m:\u001b[0m\u001b[0;34m\u001b[0m\u001b[0m\n\u001b[1;32m    996\u001b[0m       results = self._do_run(handle, final_targets, final_fetches,\n\u001b[0;32m--> 997\u001b[0;31m                              feed_dict_string, options, run_metadata)\n\u001b[0m\u001b[1;32m    998\u001b[0m     \u001b[0;32melse\u001b[0m\u001b[0;34m:\u001b[0m\u001b[0;34m\u001b[0m\u001b[0m\n\u001b[1;32m    999\u001b[0m       \u001b[0mresults\u001b[0m \u001b[0;34m=\u001b[0m \u001b[0;34m[\u001b[0m\u001b[0;34m]\u001b[0m\u001b[0;34m\u001b[0m\u001b[0m\n",
      "\u001b[0;32m~/.pyenv/versions/3.6.1/lib/python3.6/site-packages/tensorflow/python/client/session.py\u001b[0m in \u001b[0;36m_do_run\u001b[0;34m(self, handle, target_list, fetch_list, feed_dict, options, run_metadata)\u001b[0m\n\u001b[1;32m   1130\u001b[0m     \u001b[0;32mif\u001b[0m \u001b[0mhandle\u001b[0m \u001b[0;32mis\u001b[0m \u001b[0;32mNone\u001b[0m\u001b[0;34m:\u001b[0m\u001b[0;34m\u001b[0m\u001b[0m\n\u001b[1;32m   1131\u001b[0m       return self._do_call(_run_fn, self._session, feed_dict, fetch_list,\n\u001b[0;32m-> 1132\u001b[0;31m                            target_list, options, run_metadata)\n\u001b[0m\u001b[1;32m   1133\u001b[0m     \u001b[0;32melse\u001b[0m\u001b[0;34m:\u001b[0m\u001b[0;34m\u001b[0m\u001b[0m\n\u001b[1;32m   1134\u001b[0m       return self._do_call(_prun_fn, self._session, handle, feed_dict,\n",
      "\u001b[0;32m~/.pyenv/versions/3.6.1/lib/python3.6/site-packages/tensorflow/python/client/session.py\u001b[0m in \u001b[0;36m_do_call\u001b[0;34m(self, fn, *args)\u001b[0m\n\u001b[1;32m   1137\u001b[0m   \u001b[0;32mdef\u001b[0m \u001b[0m_do_call\u001b[0m\u001b[0;34m(\u001b[0m\u001b[0mself\u001b[0m\u001b[0;34m,\u001b[0m \u001b[0mfn\u001b[0m\u001b[0;34m,\u001b[0m \u001b[0;34m*\u001b[0m\u001b[0margs\u001b[0m\u001b[0;34m)\u001b[0m\u001b[0;34m:\u001b[0m\u001b[0;34m\u001b[0m\u001b[0m\n\u001b[1;32m   1138\u001b[0m     \u001b[0;32mtry\u001b[0m\u001b[0;34m:\u001b[0m\u001b[0;34m\u001b[0m\u001b[0m\n\u001b[0;32m-> 1139\u001b[0;31m       \u001b[0;32mreturn\u001b[0m \u001b[0mfn\u001b[0m\u001b[0;34m(\u001b[0m\u001b[0;34m*\u001b[0m\u001b[0margs\u001b[0m\u001b[0;34m)\u001b[0m\u001b[0;34m\u001b[0m\u001b[0m\n\u001b[0m\u001b[1;32m   1140\u001b[0m     \u001b[0;32mexcept\u001b[0m \u001b[0merrors\u001b[0m\u001b[0;34m.\u001b[0m\u001b[0mOpError\u001b[0m \u001b[0;32mas\u001b[0m \u001b[0me\u001b[0m\u001b[0;34m:\u001b[0m\u001b[0;34m\u001b[0m\u001b[0m\n\u001b[1;32m   1141\u001b[0m       \u001b[0mmessage\u001b[0m \u001b[0;34m=\u001b[0m \u001b[0mcompat\u001b[0m\u001b[0;34m.\u001b[0m\u001b[0mas_text\u001b[0m\u001b[0;34m(\u001b[0m\u001b[0me\u001b[0m\u001b[0;34m.\u001b[0m\u001b[0mmessage\u001b[0m\u001b[0;34m)\u001b[0m\u001b[0;34m\u001b[0m\u001b[0m\n",
      "\u001b[0;32m~/.pyenv/versions/3.6.1/lib/python3.6/site-packages/tensorflow/python/client/session.py\u001b[0m in \u001b[0;36m_run_fn\u001b[0;34m(session, feed_dict, fetch_list, target_list, options, run_metadata)\u001b[0m\n\u001b[1;32m   1119\u001b[0m         return tf_session.TF_Run(session, options,\n\u001b[1;32m   1120\u001b[0m                                  \u001b[0mfeed_dict\u001b[0m\u001b[0;34m,\u001b[0m \u001b[0mfetch_list\u001b[0m\u001b[0;34m,\u001b[0m \u001b[0mtarget_list\u001b[0m\u001b[0;34m,\u001b[0m\u001b[0;34m\u001b[0m\u001b[0m\n\u001b[0;32m-> 1121\u001b[0;31m                                  status, run_metadata)\n\u001b[0m\u001b[1;32m   1122\u001b[0m \u001b[0;34m\u001b[0m\u001b[0m\n\u001b[1;32m   1123\u001b[0m     \u001b[0;32mdef\u001b[0m \u001b[0m_prun_fn\u001b[0m\u001b[0;34m(\u001b[0m\u001b[0msession\u001b[0m\u001b[0;34m,\u001b[0m \u001b[0mhandle\u001b[0m\u001b[0;34m,\u001b[0m \u001b[0mfeed_dict\u001b[0m\u001b[0;34m,\u001b[0m \u001b[0mfetch_list\u001b[0m\u001b[0;34m)\u001b[0m\u001b[0;34m:\u001b[0m\u001b[0;34m\u001b[0m\u001b[0m\n",
      "\u001b[0;31mKeyboardInterrupt\u001b[0m: "
     ]
    }
   ],
   "source": [
    "session.run(tf.global_variables_initializer())\n",
    "\n",
    "batch_count = 0\n",
    "info = {'train_cost':[], 'train_acc':[], 'valid_cost':[], 'valid_acc':[]}\n",
    "for epoch in range(epochs):\n",
    "    mini_batches = prepare_mini_batches(train_data_norm, train_labels_ohe, batch_size)\n",
    "\n",
    "    while mini_batches:\n",
    "        data_batch, label_batch = mini_batches.pop()\n",
    "        batch_count += 1\n",
    "\n",
    "        session.run(optimizer, feed_dict={inputs: data_batch, \n",
    "                                          targets: label_batch, \n",
    "                                          keep_prob: keep_probability,\n",
    "                                          is_training: True})\n",
    "        if (batch_count % 50) == 0:\n",
    "            train_cost = session.run(cost, feed_dict={\n",
    "                    inputs: data_batch, targets: label_batch, keep_prob: 1., is_training: False})\n",
    "\n",
    "            train_acc = session.run(accuracy, feed_dict={\n",
    "                inputs: data_batch, targets: label_batch, keep_prob: 1., is_training: False})\n",
    "\n",
    "            info[\"train_cost\"].append(train_cost)\n",
    "            info[\"train_acc\"].append(train_acc)\n",
    "\n",
    "            valid_cost = session.run(cost, feed_dict={\n",
    "                inputs: val_data_norm, targets: val_labels_ohe, keep_prob: 1., is_training: False})\n",
    "\n",
    "            valid_acc = session.run(accuracy, feed_dict={\n",
    "                inputs: val_data_norm, targets: val_labels_ohe, keep_prob: 1., is_training: False})\n",
    "\n",
    "            info[\"valid_cost\"].append(valid_cost)\n",
    "            info[\"valid_acc\"].append(valid_acc)\n",
    "\n",
    "            print('Epoch {}, Batch {}:  '.format(epoch + 1, batch_count), end='')\n",
    "            print(\"Train cost = \", \"{:.4f},\".format(train_cost), \n",
    "                  \"Train acc = \", \"{:.4f}\".format(train_acc),\n",
    "                  \"Val cost = \", \"{:.4f},\".format(valid_cost), \n",
    "                  \"Val acc = \", \"{:.4f}\".format(valid_acc))"
   ]
  },
  {
   "cell_type": "markdown",
   "metadata": {},
   "source": [
    "#### Results"
   ]
  },
  {
   "cell_type": "code",
   "execution_count": 29,
   "metadata": {},
   "outputs": [
    {
     "data": {
      "image/png": "[encoded data removed]",
      "text/plain": [
       "<matplotlib.figure.Figure at 0x12b108be0>"
      ]
     },
     "metadata": {},
     "output_type": "display_data"
    }
   ],
   "source": [
    "fig1 = plt.figure()\n",
    "ax1 = fig1.add_subplot(111)\n",
    "ax1.plot(info['train_acc'], label='Training acc')\n",
    "ax1.plot(info['valid_acc'], label='Validation acc')\n",
    "blue_patch = mpatches.Patch(color='#699cef', label='Training accuracy')\n",
    "orange_patch = mpatches.Patch(color='orange', label='Validation accuracy')\n",
    "ax1.legend(handles=[blue_patch, orange_patch])\n",
    "plt.show()"
   ]
  },
  {
   "cell_type": "code",
   "execution_count": 30,
   "metadata": {},
   "outputs": [
    {
     "data": {
      "image/png": "[encoded data removed]",
      "text/plain": [
       "<matplotlib.figure.Figure at 0x12b16c668>"
      ]
     },
     "metadata": {},
     "output_type": "display_data"
    }
   ],
   "source": [
    "fig1 = plt.figure()\n",
    "ax2 = fig1.add_subplot(111)\n",
    "ax2.plot(info['train_cost'], label='Training loss')\n",
    "ax2.plot(info['valid_cost'], label='Validation loss')\n",
    "blue_patch = mpatches.Patch(color='#699cef', label='Training cross-entropy')\n",
    "orange_patch = mpatches.Patch(color='orange', label='Validation cross-entropy')\n",
    "ax2.legend(handles=[blue_patch, orange_patch])\n",
    "plt.show()"
   ]
  },
  {
   "cell_type": "markdown",
   "metadata": {},
   "source": [
    "#### Test accuracy"
   ]
  },
  {
   "cell_type": "code",
   "execution_count": 31,
   "metadata": {},
   "outputs": [
    {
     "name": "stdout",
     "output_type": "stream",
     "text": [
      "Test data accuracy: 0.7225\n"
     ]
    }
   ],
   "source": [
    "test_acc = session.run(accuracy, feed_dict={\n",
    "    inputs: test_data_norm, targets: test_labels_ohe, keep_prob: 1., is_training: False})\n",
    "print(\"Test data accuracy: \" + str(test_acc))"
   ]
  },
  {
   "cell_type": "code",
   "execution_count": null,
   "metadata": {
    "collapsed": true
   },
   "outputs": [],
   "source": [
    "session.close()"
   ]
  }
 ],
 "metadata": {
  "kernelspec": {
   "display_name": "Python 3",
   "language": "python",
   "name": "python3"
  },
  "language_info": {
   "codemirror_mode": {
    "name": "ipython",
    "version": 3
   },
   "file_extension": ".py",
   "mimetype": "text/x-python",
   "name": "python",
   "nbconvert_exporter": "python",
   "pygments_lexer": "ipython3",
   "version": "3.6.1"
  }
 },
 "nbformat": 4,
 "nbformat_minor": 2
}
