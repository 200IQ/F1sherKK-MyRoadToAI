{
 "cells": [
  {
   "cell_type": "code",
   "execution_count": 1,
   "metadata": {
    "collapsed": true
   },
   "outputs": [],
   "source": [
    "import os\n",
    "import tarfile\n",
    "import numpy as np\n",
    "import pickle\n",
    "import random\n",
    "import matplotlib.pyplot as plt\n",
    "import matplotlib.patches as mpatches\n",
    "import tensorflow as tf\n",
    "from urllib.request import urlretrieve\n",
    "from tqdm import tqdm"
   ]
  },
  {
   "cell_type": "code",
   "execution_count": 2,
   "metadata": {
    "collapsed": true
   },
   "outputs": [],
   "source": [
    "%matplotlib inline"
   ]
  },
  {
   "cell_type": "markdown",
   "metadata": {},
   "source": [
    "#### Dataset info"
   ]
  },
  {
   "cell_type": "markdown",
   "metadata": {},
   "source": [
    "CIFAR-10 is a dataset of 60 000 32x32 colour images, collected by Alex Krizhevsky, Vinod Nair, and Geoffrey Hinton. There are 10 different classes with 6000 images per class:\n",
    "\n",
    "- airplane\n",
    "- automobile\n",
    "- bird\n",
    "- cat\n",
    "- deer\n",
    "- dog\n",
    "- frog\n",
    "- horse\n",
    "- ship\n",
    "- truck\n",
    "\n",
    "Dataset is divided into 5 batches with the following naming convention 'data_batch_1', 'data_batch_2' and so on..."
   ]
  },
  {
   "cell_type": "code",
   "execution_count": 3,
   "metadata": {
    "collapsed": true
   },
   "outputs": [],
   "source": [
    "#: https://www.cs.toronto.edu/~kriz/cifar.html\n",
    "DATA_URL = \"https://www.cs.toronto.edu/~kriz/cifar-10-python.tar.gz\"\n",
    "TARG_TZ_FILEPATH = \"./cifar-10-python.tar.gz\"\n",
    "CIFAR10_FILES_FOLDER = './cifar-10-batches-py/'\n",
    "\n",
    "TRAIN_BATCH_FILES = [\n",
    "    \"data_batch_1\",\n",
    "    \"data_batch_2\",\n",
    "    \"data_batch_3\",\n",
    "    \"data_batch_4\",\n",
    "    \"data_batch_5\"\n",
    "]\n",
    "\n",
    "TEST_BATCH_FILE = \"test_batch\"\n",
    "\n",
    "LABELS = ['airplane', 'automobile', 'bird', 'cat', 'deer', 'dog', 'frog', 'horse', 'ship', 'truck']\n",
    "NUM_CLASSES = 10\n",
    "\n",
    "MAX_PIXEL_VALUE = 255\n",
    "IMAGE_WIDTH = 32\n",
    "IMAGE_HEIGHT = 32\n",
    "CHANNELS = 3\n",
    "\n",
    "DATA_I = 0\n",
    "LABELS_I = 1"
   ]
  },
  {
   "cell_type": "markdown",
   "metadata": {},
   "source": [
    "#### Download dataset"
   ]
  },
  {
   "cell_type": "code",
   "execution_count": 4,
   "metadata": {
    "collapsed": true
   },
   "outputs": [],
   "source": [
    "class DLProgress(tqdm):\n",
    "    last_block = 0\n",
    "\n",
    "    def hook(self, block_num=1, block_size=1, total_size=None):\n",
    "        self.total = total_size\n",
    "        self.update((block_num - self.last_block) * block_size)\n",
    "        self.last_block = block_num\n",
    "\n",
    "if not os.path.isfile(TARG_TZ_FILEPATH):\n",
    "    with DLProgress(unit=\"B\", unit_scale=True, miniters=1, desc=\"CIFAR-10\") as pbar:\n",
    "        urlretrieve(DATA_URL, TARG_TZ_FILEPATH, pbar.hook)"
   ]
  },
  {
   "cell_type": "markdown",
   "metadata": {},
   "source": [
    "#### Exctracting data"
   ]
  },
  {
   "cell_type": "markdown",
   "metadata": {},
   "source": [
    "- Unpacking"
   ]
  },
  {
   "cell_type": "code",
   "execution_count": 5,
   "metadata": {
    "collapsed": true
   },
   "outputs": [],
   "source": [
    "if not os.path.isdir(CIFAR10_FILES_FOLDER):\n",
    "    with tarfile.open(TARG_TZ_FILEPATH) as tar:\n",
    "        tar.extractall()\n",
    "        tar.close()"
   ]
  },
  {
   "cell_type": "markdown",
   "metadata": {},
   "source": [
    "- Loading train batches"
   ]
  },
  {
   "cell_type": "code",
   "execution_count": 6,
   "metadata": {
    "collapsed": true
   },
   "outputs": [],
   "source": [
    "train_batches = list()\n",
    "\n",
    "for batch_file in TRAIN_BATCH_FILES: \n",
    "    with open(CIFAR10_FILES_FOLDER + batch_file, mode='rb') as file:\n",
    "        batch = pickle.load(file, encoding='latin1')\n",
    "        \n",
    "        # array of 10000 * 1 length\n",
    "        labels = batch['labels']\n",
    "        \n",
    "        # all channels in single 10000 * 3072 length array\n",
    "        batch_data = batch['data']\n",
    "        \n",
    "        # reshaping to 10000 * 3 * 32 * 32\n",
    "        data = batch_data.reshape((len(batch_data), CHANNELS, IMAGE_WIDTH, IMAGE_HEIGHT))\n",
    "        \n",
    "        # fix indexing\n",
    "        data = data.transpose(0, 2, 3, 1)\n",
    "  \n",
    "        train_batches.append((data, labels))"
   ]
  },
  {
   "cell_type": "markdown",
   "metadata": {},
   "source": [
    "- Load test batch"
   ]
  },
  {
   "cell_type": "code",
   "execution_count": 7,
   "metadata": {
    "collapsed": true
   },
   "outputs": [],
   "source": [
    "test_batch = None\n",
    "\n",
    "with open(CIFAR10_FILES_FOLDER + TEST_BATCH_FILE, mode='rb') as file:\n",
    "        batch = pickle.load(file, encoding='latin1')\n",
    "        \n",
    "        # array of 10000 * 1 length\n",
    "        labels = batch['labels']\n",
    "        \n",
    "         # all channels in single 10000 * 3072 length array\n",
    "        batch_data = batch['data']\n",
    "        \n",
    "        # reshaping to 10000 * 3 * 32 * 32\n",
    "        data = batch_data.reshape((len(batch_data), CHANNELS, IMAGE_WIDTH, IMAGE_HEIGHT))\n",
    "        \n",
    "        # fix indexing\n",
    "        data = data.transpose(0, 2, 3, 1)\n",
    "        \n",
    "        test_batch = (data, labels)"
   ]
  },
  {
   "cell_type": "markdown",
   "metadata": {},
   "source": [
    "#### Present extracted dataset"
   ]
  },
  {
   "cell_type": "code",
   "execution_count": 8,
   "metadata": {
    "collapsed": true
   },
   "outputs": [],
   "source": [
    "def present_batch(batch, batch_index):\n",
    "    features, labels = batch \n",
    "    print(\"Batch no.\" + str(batch_index))\n",
    "    print(\"    - Samples in batch: \" + str(len(features)))\n",
    "    print(\"    - Labels num: \" + str(dict(zip(*np.unique(labels, return_counts=True)))))\n",
    "    \n",
    "def present_sample(batch, sample_id):\n",
    "    features, labels = batch \n",
    "    \n",
    "    sample_image = features[sample_id]\n",
    "    sample_label = labels[sample_id]\n",
    "    \n",
    "    print(\"Sample no.\" + str(sample_id))\n",
    "    print(\"    - Min Value: {} Max Value: {}\".format(sample_image.min(), sample_image.max()))\n",
    "    print(\"    - Shape: {}\".format(sample_image.shape))\n",
    "    print(\"    - Label - Label Id: {} Name: {}\".format(sample_label, LABELS[sample_label]))\n",
    "    \n",
    "    plt.axis('off')\n",
    "    plt.imshow(sample_image)"
   ]
  },
  {
   "cell_type": "code",
   "execution_count": 9,
   "metadata": {
    "scrolled": true
   },
   "outputs": [
    {
     "name": "stdout",
     "output_type": "stream",
     "text": [
      "Batch no.0\n",
      "    - Samples in batch: 10000\n",
      "    - Labels num: {0: 1005, 1: 974, 2: 1032, 3: 1016, 4: 999, 5: 937, 6: 1030, 7: 1001, 8: 1025, 9: 981}\n",
      "Batch no.1\n",
      "    - Samples in batch: 10000\n",
      "    - Labels num: {0: 984, 1: 1007, 2: 1010, 3: 995, 4: 1010, 5: 988, 6: 1008, 7: 1026, 8: 987, 9: 985}\n",
      "Batch no.2\n",
      "    - Samples in batch: 10000\n",
      "    - Labels num: {0: 994, 1: 1042, 2: 965, 3: 997, 4: 990, 5: 1029, 6: 978, 7: 1015, 8: 961, 9: 1029}\n",
      "Batch no.3\n",
      "    - Samples in batch: 10000\n",
      "    - Labels num: {0: 1003, 1: 963, 2: 1041, 3: 976, 4: 1004, 5: 1021, 6: 1004, 7: 981, 8: 1024, 9: 983}\n",
      "Batch no.4\n",
      "    - Samples in batch: 10000\n",
      "    - Labels num: {0: 1014, 1: 1014, 2: 952, 3: 1016, 4: 997, 5: 1025, 6: 980, 7: 977, 8: 1003, 9: 1022}\n"
     ]
    }
   ],
   "source": [
    "for index, batch in enumerate(train_batches):\n",
    "    present_batch(batch, index)"
   ]
  },
  {
   "cell_type": "code",
   "execution_count": 10,
   "metadata": {},
   "outputs": [
    {
     "name": "stdout",
     "output_type": "stream",
     "text": [
      "Sample no.7164\n",
      "    - Min Value: 26 Max Value: 246\n",
      "    - Shape: (32, 32, 3)\n",
      "    - Label - Label Id: 5 Name: dog\n"
     ]
    },
    {
     "data": {
      "image/png": "[encoded data removed]",
      "text/plain": [
       "<matplotlib.figure.Figure at 0x10fa619b0>"
      ]
     },
     "metadata": {},
     "output_type": "display_data"
    }
   ],
   "source": [
    "present_sample(train_batches[0], 7164)"
   ]
  },
  {
   "cell_type": "markdown",
   "metadata": {},
   "source": [
    "#### Split data into train, val , test sets"
   ]
  },
  {
   "cell_type": "markdown",
   "metadata": {},
   "source": [
    "- data is already shuffled"
   ]
  },
  {
   "cell_type": "markdown",
   "metadata": {},
   "source": [
    "- concat all batches together"
   ]
  },
  {
   "cell_type": "code",
   "execution_count": 11,
   "metadata": {
    "collapsed": true
   },
   "outputs": [],
   "source": [
    "train_data = list()\n",
    "train_labels = list()\n",
    "for batch in train_batches:\n",
    "    for data, label in zip(batch[DATA_I], batch[LABELS_I]):\n",
    "        train_data.append(data)\n",
    "        train_labels.append(label)\n",
    "assert len(train_data) == len(train_labels)\n",
    "        \n",
    "test_data = list()\n",
    "test_labels = list()\n",
    "for data, label in zip(test_batch[DATA_I], test_batch[LABELS_I]):\n",
    "    test_data.append(data)\n",
    "    test_labels.append(label)\n",
    "assert len(test_data) == len(test_labels)"
   ]
  },
  {
   "cell_type": "markdown",
   "metadata": {},
   "source": [
    "- split data"
   ]
  },
  {
   "cell_type": "code",
   "execution_count": 12,
   "metadata": {
    "collapsed": true
   },
   "outputs": [],
   "source": [
    "split_ratio = 0.2\n",
    "split_index = int(len(train_data) * split_ratio)\n",
    "\n",
    "val_data = train_data[:split_index]\n",
    "val_labels = train_labels[:split_index]\n",
    "\n",
    "train_data = train_data[split_index:]\n",
    "train_labels = train_labels[split_index:]"
   ]
  },
  {
   "cell_type": "code",
   "execution_count": 13,
   "metadata": {},
   "outputs": [
    {
     "name": "stdout",
     "output_type": "stream",
     "text": [
      "Train samples: 40000\n",
      "Validation samples: 10000\n",
      "Test samples: 10000\n"
     ]
    }
   ],
   "source": [
    "print(\"Train samples: \" + str(len(train_data)))\n",
    "print(\"Validation samples: \" + str(len(val_data)))\n",
    "print(\"Test samples: \" + str(len(test_data)))"
   ]
  },
  {
   "cell_type": "markdown",
   "metadata": {},
   "source": [
    "#### Preprocess data"
   ]
  },
  {
   "cell_type": "code",
   "execution_count": 14,
   "metadata": {
    "collapsed": true
   },
   "outputs": [],
   "source": [
    "def normalize(data):\n",
    "    return data / MAX_PIXEL_VALUE\n",
    "\n",
    "def ohe_label(label):\n",
    "    labels_num = len(LABELS)\n",
    "  \n",
    "    encoding_array = np.zeros([labels_num])  \n",
    "    encoding_array[label] = 1\n",
    "        \n",
    "    return encoding_array"
   ]
  },
  {
   "cell_type": "code",
   "execution_count": 15,
   "metadata": {
    "collapsed": true
   },
   "outputs": [],
   "source": [
    "train_data_norm = [normalize(data) for data in train_data]\n",
    "train_labels_ohe = [ohe_label(label) for label in train_labels]\n",
    "\n",
    "val_data_norm = [normalize(data) for data in val_data]\n",
    "val_labels_ohe = [ohe_label(label) for label in val_labels]\n",
    "\n",
    "test_data_norm = [normalize(data) for data in test_data]\n",
    "test_labels_ohe = [ohe_label(label) for label in test_labels]"
   ]
  },
  {
   "cell_type": "code",
   "execution_count": 16,
   "metadata": {},
   "outputs": [
    {
     "name": "stdout",
     "output_type": "stream",
     "text": [
      "Sample no.7124\n",
      "    - Min Value: 0.00784313725490196 Max Value: 0.9137254901960784\n",
      "    - Label: [ 0.  0.  0.  1.  0.  0.  0.  0.  0.  0.]\n"
     ]
    }
   ],
   "source": [
    "sample_to_inspect = 7124\n",
    "sample = train_data_norm[sample_to_inspect]\n",
    "label = train_labels_ohe[sample_to_inspect]\n",
    "print(\"Sample no.\" + str(sample_to_inspect))\n",
    "print(\"    - Min Value: {} Max Value: {}\".format(sample.min(), sample.max()))\n",
    "print(\"    - Label: \" + str(label))"
   ]
  },
  {
   "cell_type": "markdown",
   "metadata": {},
   "source": [
    "#### Building ConvNet - parts"
   ]
  },
  {
   "cell_type": "code",
   "execution_count": 17,
   "metadata": {
    "collapsed": true
   },
   "outputs": [],
   "source": [
    "def conv_net_image_input(image_width, image_height, channels):\n",
    "    return tf.placeholder(tf.float32, shape=[None, image_width, image_height, channels], name='inputs')"
   ]
  },
  {
   "cell_type": "code",
   "execution_count": 18,
   "metadata": {
    "collapsed": true
   },
   "outputs": [],
   "source": [
    "def conv_net_label_input(n_classes):\n",
    "    return tf.placeholder(tf.float32, shape=[None, n_classes], name='labels')"
   ]
  },
  {
   "cell_type": "code",
   "execution_count": 19,
   "metadata": {
    "collapsed": true
   },
   "outputs": [],
   "source": [
    "def conv_net_learning_rate():\n",
    "    return tf.placeholder(tf.float32, None, name=\"learning_rate\")"
   ]
  },
  {
   "cell_type": "code",
   "execution_count": 20,
   "metadata": {
    "collapsed": true
   },
   "outputs": [],
   "source": [
    "def conv_net_keep_prob_input():\n",
    "    return tf.placeholder(tf.float32, name=\"keep_prob\")"
   ]
  },
  {
   "cell_type": "code",
   "execution_count": 21,
   "metadata": {
    "collapsed": true
   },
   "outputs": [],
   "source": [
    "def conv_net_is_training_placeholder():\n",
    "    return tf.placeholder(tf.bool)"
   ]
  },
  {
   "cell_type": "code",
   "execution_count": 22,
   "metadata": {
    "collapsed": true
   },
   "outputs": [],
   "source": [
    "def flatten(tensor):\n",
    "    conv_output_shape = tensor.get_shape().as_list()\n",
    "    return tf.reshape(tensor, [-1, conv_output_shape[1] * conv_output_shape[2] * conv_output_shape[3]])"
   ]
  },
  {
   "cell_type": "code",
   "execution_count": 23,
   "metadata": {
    "collapsed": true
   },
   "outputs": [],
   "source": [
    "def conv_net(inputs, keep_prob, is_training):   \n",
    "    # Conv Layer - 1, Input 32x32x3, MaxPool 2, Dropout, Output 16x16x32\n",
    "    conv1_layer = tf.layers.conv2d(inputs=inputs, filters=32, kernel_size=3,\n",
    "                                   strides=1, padding=\"SAME\", activation=tf.nn.elu,\n",
    "                                   kernel_initializer=tf.contrib.layers.xavier_initializer_conv2d())\n",
    "    \n",
    "    conv1_layer_mpool = tf.layers.max_pooling2d(conv1_layer, pool_size=[2, 2], strides=2)\n",
    "    conv1_layer_dropout = tf.layers.dropout(inputs=conv1_layer_mpool, rate=keep_prob)\n",
    "    \n",
    "    # Conv Layer - 2, Input 16x16x32, MaxPool 2, Dropout, Output 8x8x32\n",
    "    conv2_layer = tf.layers.conv2d(inputs=conv1_layer_dropout, filters=32, kernel_size=3, \n",
    "                                   strides=1, padding=\"SAME\", activation=tf.nn.elu,\n",
    "                                   kernel_initializer=tf.contrib.layers.xavier_initializer_conv2d())\n",
    "    \n",
    "    conv2_layer_mpool = tf.layers.max_pooling2d(conv2_layer, pool_size=[2, 2], strides=2)\n",
    "    conv2_layer_dropout = tf.layers.dropout(inputs=conv2_layer_mpool, rate=keep_prob)\n",
    "    \n",
    "    # Conv Layer - 3, Input 8x8x32, MaxPool 2, Dropout, Output 4x4x64\n",
    "    conv3_layer = tf.layers.conv2d(inputs=conv2_layer_dropout, filters=64, kernel_size=3, \n",
    "                                   strides=1, padding=\"SAME\", activation=tf.nn.elu,\n",
    "                                   kernel_initializer=tf.contrib.layers.xavier_initializer_conv2d())\n",
    "    \n",
    "    conv3_layer_mpool = tf.layers.max_pooling2d(conv3_layer, pool_size=[2, 2], strides=2)\n",
    "    conv3_layer_dropout = tf.layers.dropout(inputs=conv3_layer_mpool, rate=keep_prob)\n",
    "    \n",
    "    # Conv Layer Flattened\n",
    "    flatten_conv_output = flatten(conv3_layer_dropout)\n",
    "\n",
    "    # Dense Layer 1 - Size 256\n",
    "    dense1_layer = tf.layers.dense(inputs=flatten_conv_output, units=256, activation=tf.nn.elu,\n",
    "                                   kernel_initializer=tf.contrib.layers.xavier_initializer())\n",
    "    dense1_layer_dropout = tf.layers.dropout(inputs=dense1_layer, rate=keep_prob)\n",
    "    \n",
    "    # Dense Layer 2 - Size 128\n",
    "    dense2_layer = tf.layers.dense(inputs=dense1_layer_dropout, units=128, activation=tf.nn.elu,\n",
    "                                   kernel_initializer=tf.contrib.layers.xavier_initializer())\n",
    "    dense2_layer_dropout = tf.layers.dropout(inputs=dense2_layer, rate=keep_prob)\n",
    "    \n",
    "    # Output Layer \n",
    "    output = tf.layers.dense(inputs=dense2_layer_dropout, units=NUM_CLASSES, activation=None,\n",
    "                             kernel_initializer=tf.contrib.layers.xavier_initializer())\n",
    "    return output"
   ]
  },
  {
   "cell_type": "markdown",
   "metadata": {},
   "source": [
    "#### Building ConvNet - assemble"
   ]
  },
  {
   "cell_type": "markdown",
   "metadata": {},
   "source": [
    "- Reset Tensorflow graph"
   ]
  },
  {
   "cell_type": "code",
   "execution_count": 24,
   "metadata": {
    "collapsed": true
   },
   "outputs": [],
   "source": [
    "tf.reset_default_graph()"
   ]
  },
  {
   "cell_type": "markdown",
   "metadata": {},
   "source": [
    "- Assemble model"
   ]
  },
  {
   "cell_type": "code",
   "execution_count": 25,
   "metadata": {
    "scrolled": false
   },
   "outputs": [],
   "source": [
    "inputs = conv_net_image_input(IMAGE_WIDTH, IMAGE_HEIGHT, CHANNELS)\n",
    "targets = conv_net_label_input(NUM_CLASSES)\n",
    "keep_prob = conv_net_keep_prob_input()\n",
    "learning_rate = conv_net_learning_rate()\n",
    "is_training = conv_net_is_training_placeholder()\n",
    "\n",
    "model = conv_net(inputs, keep_prob, is_training)"
   ]
  },
  {
   "cell_type": "markdown",
   "metadata": {},
   "source": [
    "- Cost function, training optimizer, correct predictions, accuracy"
   ]
  },
  {
   "cell_type": "code",
   "execution_count": 26,
   "metadata": {
    "collapsed": true
   },
   "outputs": [],
   "source": [
    "cost = tf.reduce_mean(tf.nn.softmax_cross_entropy_with_logits(logits=model, labels=targets))\n",
    "optimizer = tf.train.AdamOptimizer(learning_rate).minimize(cost)\n",
    "correct_pred = tf.equal(tf.argmax(model, 1), tf.argmax(targets, 1))\n",
    "accuracy = tf.reduce_mean(tf.cast(correct_pred, tf.float32), name='accuracy')"
   ]
  },
  {
   "cell_type": "markdown",
   "metadata": {},
   "source": [
    "#### Batch preparation"
   ]
  },
  {
   "cell_type": "code",
   "execution_count": 27,
   "metadata": {
    "collapsed": true
   },
   "outputs": [],
   "source": [
    "def prepare_mini_batches(data, labels, batch_size):\n",
    "    assert len(data) == len(labels)\n",
    "    \n",
    "    all_batches = list()\n",
    "    for i in range(0, len(data)):\n",
    "        all_batches.append((data[i], labels[i]))\n",
    "    random.shuffle(all_batches)\n",
    "        \n",
    "    mini_batches = list()\n",
    "    while len(all_batches) >= batch_size:\n",
    "        \n",
    "        data_batch = list()\n",
    "        labels_batch = list()\n",
    "        for j in range(0, batch_size):\n",
    "            data, labels = all_batches.pop()\n",
    "            data_batch.append(data)\n",
    "            labels_batch.append(labels)\n",
    "            \n",
    "        mini_batches.append((np.array(data_batch), np.array(labels_batch)))\n",
    "    \n",
    "    return mini_batches"
   ]
  },
  {
   "cell_type": "markdown",
   "metadata": {},
   "source": [
    "#### Hyperparameters"
   ]
  },
  {
   "cell_type": "code",
   "execution_count": 28,
   "metadata": {
    "collapsed": true
   },
   "outputs": [],
   "source": [
    "epochs = 60\n",
    "batch_size = 64\n",
    "lr = 0.0005\n",
    "keep_probability = 0.5"
   ]
  },
  {
   "cell_type": "markdown",
   "metadata": {},
   "source": [
    "#### Training cycle"
   ]
  },
  {
   "cell_type": "code",
   "execution_count": 29,
   "metadata": {
    "collapsed": true
   },
   "outputs": [],
   "source": [
    "session = tf.Session()"
   ]
  },
  {
   "cell_type": "code",
   "execution_count": 30,
   "metadata": {
    "scrolled": false
   },
   "outputs": [
    {
     "name": "stdout",
     "output_type": "stream",
     "text": [
      "Epoch 1, Batch 50:  Train cost = 1.7460, Train acc = 0.4531 Val cost = 1.7713, Val acc = 0.3579\n",
      "Epoch 1, Batch 100:  Train cost = 1.6724, Train acc = 0.3438 Val cost = 1.6339, Val acc = 0.4107\n",
      "Epoch 1, Batch 150:  Train cost = 1.4551, Train acc = 0.5000 Val cost = 1.5583, Val acc = 0.4362\n",
      "Epoch 1, Batch 200:  Train cost = 1.4855, Train acc = 0.5156 Val cost = 1.4678, Val acc = 0.4681\n",
      "Epoch 1, Batch 250:  Train cost = 1.4442, Train acc = 0.4688 Val cost = 1.3954, Val acc = 0.4968\n",
      "Epoch 1, Batch 300:  Train cost = 1.3851, Train acc = 0.5000 Val cost = 1.4298, Val acc = 0.4877\n",
      "Epoch 1, Batch 350:  Train cost = 1.3255, Train acc = 0.5312 Val cost = 1.3440, Val acc = 0.5175\n",
      "Epoch 1, Batch 400:  Train cost = 1.2877, Train acc = 0.5625 Val cost = 1.2874, Val acc = 0.5379\n",
      "Epoch 1, Batch 450:  Train cost = 1.1649, Train acc = 0.6250 Val cost = 1.2536, Val acc = 0.5522\n",
      "Epoch 1, Batch 500:  Train cost = 1.4016, Train acc = 0.4688 Val cost = 1.2633, Val acc = 0.5508\n",
      "Epoch 1, Batch 550:  Train cost = 1.3210, Train acc = 0.5312 Val cost = 1.2084, Val acc = 0.5783\n",
      "Epoch 1, Batch 600:  Train cost = 1.0863, Train acc = 0.6406 Val cost = 1.2423, Val acc = 0.5653\n",
      "Epoch 2, Batch 650:  Train cost = 1.1372, Train acc = 0.6094 Val cost = 1.2142, Val acc = 0.5623\n",
      "Epoch 2, Batch 700:  Train cost = 0.8910, Train acc = 0.7656 Val cost = 1.1391, Val acc = 0.5947\n",
      "Epoch 2, Batch 750:  Train cost = 1.2675, Train acc = 0.4844 Val cost = 1.1875, Val acc = 0.5802\n",
      "Epoch 2, Batch 800:  Train cost = 1.2123, Train acc = 0.6094 Val cost = 1.1858, Val acc = 0.5746\n",
      "Epoch 2, Batch 850:  Train cost = 0.9456, Train acc = 0.6094 Val cost = 1.1238, Val acc = 0.5964\n",
      "Epoch 2, Batch 900:  Train cost = 0.8952, Train acc = 0.6406 Val cost = 1.1316, Val acc = 0.5964\n",
      "Epoch 2, Batch 950:  Train cost = 1.1043, Train acc = 0.6250 Val cost = 1.1017, Val acc = 0.6040\n",
      "Epoch 2, Batch 1000:  Train cost = 0.9948, Train acc = 0.6719 Val cost = 1.1134, Val acc = 0.6109\n",
      "Epoch 2, Batch 1050:  Train cost = 1.1466, Train acc = 0.5781 Val cost = 1.0883, Val acc = 0.6141\n",
      "Epoch 2, Batch 1100:  Train cost = 1.0110, Train acc = 0.7188 Val cost = 1.0754, Val acc = 0.6189\n",
      "Epoch 2, Batch 1150:  Train cost = 0.7344, Train acc = 0.7344 Val cost = 1.0808, Val acc = 0.6163\n",
      "Epoch 2, Batch 1200:  Train cost = 0.9882, Train acc = 0.6719 Val cost = 1.0477, Val acc = 0.6301\n",
      "Epoch 2, Batch 1250:  Train cost = 0.7796, Train acc = 0.7188 Val cost = 1.0524, Val acc = 0.6258\n",
      "Epoch 3, Batch 1300:  Train cost = 0.8285, Train acc = 0.7188 Val cost = 1.0318, Val acc = 0.6314\n",
      "Epoch 3, Batch 1350:  Train cost = 0.8092, Train acc = 0.7031 Val cost = 1.0690, Val acc = 0.6239\n",
      "Epoch 3, Batch 1400:  Train cost = 0.8711, Train acc = 0.6562 Val cost = 1.0107, Val acc = 0.6397\n",
      "Epoch 3, Batch 1450:  Train cost = 1.1415, Train acc = 0.6406 Val cost = 1.0408, Val acc = 0.6348\n",
      "Epoch 3, Batch 1500:  Train cost = 1.0779, Train acc = 0.5625 Val cost = 1.0123, Val acc = 0.6404\n",
      "Epoch 3, Batch 1550:  Train cost = 0.8804, Train acc = 0.7188 Val cost = 1.0343, Val acc = 0.6364\n",
      "Epoch 3, Batch 1600:  Train cost = 0.8308, Train acc = 0.7188 Val cost = 1.0052, Val acc = 0.6462\n",
      "Epoch 3, Batch 1650:  Train cost = 0.9110, Train acc = 0.6562 Val cost = 1.0137, Val acc = 0.6420\n",
      "Epoch 3, Batch 1700:  Train cost = 1.0297, Train acc = 0.6719 Val cost = 0.9808, Val acc = 0.6552\n",
      "Epoch 3, Batch 1750:  Train cost = 1.0218, Train acc = 0.6562 Val cost = 0.9962, Val acc = 0.6491\n",
      "Epoch 3, Batch 1800:  Train cost = 0.9669, Train acc = 0.6250 Val cost = 0.9948, Val acc = 0.6493\n",
      "Epoch 3, Batch 1850:  Train cost = 0.7929, Train acc = 0.7812 Val cost = 0.9788, Val acc = 0.6551\n",
      "Epoch 4, Batch 1900:  Train cost = 0.7128, Train acc = 0.8125 Val cost = 0.9768, Val acc = 0.6535\n",
      "Epoch 4, Batch 1950:  Train cost = 0.7595, Train acc = 0.7188 Val cost = 0.9871, Val acc = 0.6494\n",
      "Epoch 4, Batch 2000:  Train cost = 0.6692, Train acc = 0.7344 Val cost = 0.9605, Val acc = 0.6609\n",
      "Epoch 4, Batch 2050:  Train cost = 0.8913, Train acc = 0.7344 Val cost = 0.9854, Val acc = 0.6513\n",
      "Epoch 4, Batch 2100:  Train cost = 0.8629, Train acc = 0.6875 Val cost = 0.9348, Val acc = 0.6672\n",
      "Epoch 4, Batch 2150:  Train cost = 1.0221, Train acc = 0.6719 Val cost = 0.9832, Val acc = 0.6520\n",
      "Epoch 4, Batch 2200:  Train cost = 0.8974, Train acc = 0.7031 Val cost = 0.9613, Val acc = 0.6596\n",
      "Epoch 4, Batch 2250:  Train cost = 0.8990, Train acc = 0.6719 Val cost = 0.9521, Val acc = 0.6629\n",
      "Epoch 4, Batch 2300:  Train cost = 0.7252, Train acc = 0.6875 Val cost = 0.9220, Val acc = 0.6720\n",
      "Epoch 4, Batch 2350:  Train cost = 0.6745, Train acc = 0.8125 Val cost = 0.9469, Val acc = 0.6675\n",
      "Epoch 4, Batch 2400:  Train cost = 0.5393, Train acc = 0.8438 Val cost = 0.9706, Val acc = 0.6577\n",
      "Epoch 4, Batch 2450:  Train cost = 0.9998, Train acc = 0.6406 Val cost = 0.9336, Val acc = 0.6699\n",
      "Epoch 4, Batch 2500:  Train cost = 0.9185, Train acc = 0.7188 Val cost = 0.9528, Val acc = 0.6660\n",
      "Epoch 5, Batch 2550:  Train cost = 0.9696, Train acc = 0.6719 Val cost = 0.9077, Val acc = 0.6769\n",
      "Epoch 5, Batch 2600:  Train cost = 0.7055, Train acc = 0.7344 Val cost = 0.9129, Val acc = 0.6812\n",
      "Epoch 5, Batch 2650:  Train cost = 0.8095, Train acc = 0.7031 Val cost = 0.9478, Val acc = 0.6705\n",
      "Epoch 5, Batch 2700:  Train cost = 0.5415, Train acc = 0.8438 Val cost = 0.9176, Val acc = 0.6771\n",
      "Epoch 5, Batch 2750:  Train cost = 0.5576, Train acc = 0.7812 Val cost = 0.9511, Val acc = 0.6629\n",
      "Epoch 5, Batch 2800:  Train cost = 0.8139, Train acc = 0.7656 Val cost = 0.9163, Val acc = 0.6801\n",
      "Epoch 5, Batch 2850:  Train cost = 0.9534, Train acc = 0.5938 Val cost = 0.9661, Val acc = 0.6618\n",
      "Epoch 5, Batch 2900:  Train cost = 0.5048, Train acc = 0.8125 Val cost = 0.9157, Val acc = 0.6768\n",
      "Epoch 5, Batch 2950:  Train cost = 0.6289, Train acc = 0.7812 Val cost = 0.8869, Val acc = 0.6857\n",
      "Epoch 5, Batch 3000:  Train cost = 0.7107, Train acc = 0.7812 Val cost = 0.8972, Val acc = 0.6815\n",
      "Epoch 5, Batch 3050:  Train cost = 0.8712, Train acc = 0.7031 Val cost = 0.8990, Val acc = 0.6804\n",
      "Epoch 5, Batch 3100:  Train cost = 0.6135, Train acc = 0.7500 Val cost = 0.8856, Val acc = 0.6805\n",
      "Epoch 6, Batch 3150:  Train cost = 0.5962, Train acc = 0.8125 Val cost = 0.8914, Val acc = 0.6872\n",
      "Epoch 6, Batch 3200:  Train cost = 0.5492, Train acc = 0.8438 Val cost = 0.8803, Val acc = 0.6900\n",
      "Epoch 6, Batch 3250:  Train cost = 0.7192, Train acc = 0.7969 Val cost = 0.8897, Val acc = 0.6840\n",
      "Epoch 6, Batch 3300:  Train cost = 0.6788, Train acc = 0.7656 Val cost = 0.9051, Val acc = 0.6815\n",
      "Epoch 6, Batch 3350:  Train cost = 0.7222, Train acc = 0.7500 Val cost = 0.9075, Val acc = 0.6838\n",
      "Epoch 6, Batch 3400:  Train cost = 0.7298, Train acc = 0.8438 Val cost = 0.8891, Val acc = 0.6886\n",
      "Epoch 6, Batch 3450:  Train cost = 0.7826, Train acc = 0.6875 Val cost = 0.8774, Val acc = 0.6905\n",
      "Epoch 6, Batch 3500:  Train cost = 0.9030, Train acc = 0.7031 Val cost = 0.8719, Val acc = 0.6966\n",
      "Epoch 6, Batch 3550:  Train cost = 0.9041, Train acc = 0.6875 Val cost = 0.8916, Val acc = 0.6849\n",
      "Epoch 6, Batch 3600:  Train cost = 0.7971, Train acc = 0.7344 Val cost = 0.8492, Val acc = 0.7013\n",
      "Epoch 6, Batch 3650:  Train cost = 0.6222, Train acc = 0.7344 Val cost = 0.8639, Val acc = 0.6994\n",
      "Epoch 6, Batch 3700:  Train cost = 0.8018, Train acc = 0.7188 Val cost = 0.8819, Val acc = 0.6941\n",
      "Epoch 6, Batch 3750:  Train cost = 0.7572, Train acc = 0.7031 Val cost = 0.9406, Val acc = 0.6697\n",
      "Epoch 7, Batch 3800:  Train cost = 0.5963, Train acc = 0.8125 Val cost = 0.8609, Val acc = 0.7037\n",
      "Epoch 7, Batch 3850:  Train cost = 0.8336, Train acc = 0.6562 Val cost = 0.8726, Val acc = 0.6977\n",
      "Epoch 7, Batch 3900:  Train cost = 0.6801, Train acc = 0.7500 Val cost = 0.8770, Val acc = 0.6939\n",
      "Epoch 7, Batch 3950:  Train cost = 0.8402, Train acc = 0.7188 Val cost = 0.8830, Val acc = 0.6973\n",
      "Epoch 7, Batch 4000:  Train cost = 0.5330, Train acc = 0.7969 Val cost = 0.8577, Val acc = 0.7010\n",
      "Epoch 7, Batch 4050:  Train cost = 0.5591, Train acc = 0.7344 Val cost = 0.8898, Val acc = 0.6960\n",
      "Epoch 7, Batch 4100:  Train cost = 0.6192, Train acc = 0.7969 Val cost = 0.8693, Val acc = 0.6957\n",
      "Epoch 7, Batch 4150:  Train cost = 0.5940, Train acc = 0.7812 Val cost = 0.8394, Val acc = 0.7029\n",
      "Epoch 7, Batch 4200:  Train cost = 0.7262, Train acc = 0.7188 Val cost = 0.8576, Val acc = 0.7052\n"
     ]
    },
    {
     "name": "stdout",
     "output_type": "stream",
     "text": [
      "Epoch 7, Batch 4250:  Train cost = 0.5855, Train acc = 0.7969 Val cost = 0.8682, Val acc = 0.6992\n",
      "Epoch 7, Batch 4300:  Train cost = 0.4863, Train acc = 0.7969 Val cost = 0.8569, Val acc = 0.6991\n",
      "Epoch 7, Batch 4350:  Train cost = 0.7717, Train acc = 0.6875 Val cost = 0.8523, Val acc = 0.7064\n",
      "Epoch 8, Batch 4400:  Train cost = 0.4482, Train acc = 0.8594 Val cost = 0.8678, Val acc = 0.7005\n",
      "Epoch 8, Batch 4450:  Train cost = 0.3783, Train acc = 0.8906 Val cost = 0.8628, Val acc = 0.7097\n",
      "Epoch 8, Batch 4500:  Train cost = 0.5759, Train acc = 0.7969 Val cost = 0.8762, Val acc = 0.6984\n",
      "Epoch 8, Batch 4550:  Train cost = 0.6434, Train acc = 0.7656 Val cost = 0.8630, Val acc = 0.7003\n",
      "Epoch 8, Batch 4600:  Train cost = 0.4469, Train acc = 0.8281 Val cost = 0.8665, Val acc = 0.6992\n",
      "Epoch 8, Batch 4650:  Train cost = 0.7560, Train acc = 0.7031 Val cost = 0.8998, Val acc = 0.6930\n",
      "Epoch 8, Batch 4700:  Train cost = 0.4041, Train acc = 0.8906 Val cost = 0.8445, Val acc = 0.7074\n",
      "Epoch 8, Batch 4750:  Train cost = 0.4188, Train acc = 0.8750 Val cost = 0.8424, Val acc = 0.7046\n",
      "Epoch 8, Batch 4800:  Train cost = 0.5299, Train acc = 0.8281 Val cost = 0.8607, Val acc = 0.6999\n",
      "Epoch 8, Batch 4850:  Train cost = 0.5619, Train acc = 0.8125 Val cost = 0.8367, Val acc = 0.7156\n",
      "Epoch 8, Batch 4900:  Train cost = 0.6533, Train acc = 0.7500 Val cost = 0.8332, Val acc = 0.7124\n",
      "Epoch 8, Batch 4950:  Train cost = 0.6312, Train acc = 0.7344 Val cost = 0.8507, Val acc = 0.7069\n",
      "Epoch 8, Batch 5000:  Train cost = 0.6626, Train acc = 0.7969 Val cost = 0.8404, Val acc = 0.7084\n",
      "Epoch 9, Batch 5050:  Train cost = 0.5472, Train acc = 0.7812 Val cost = 0.8403, Val acc = 0.7131\n",
      "Epoch 9, Batch 5100:  Train cost = 0.5907, Train acc = 0.8125 Val cost = 0.8877, Val acc = 0.7022\n",
      "Epoch 9, Batch 5150:  Train cost = 0.4622, Train acc = 0.7812 Val cost = 0.8378, Val acc = 0.7163\n",
      "Epoch 9, Batch 5200:  Train cost = 0.4465, Train acc = 0.8281 Val cost = 0.8439, Val acc = 0.7149\n",
      "Epoch 9, Batch 5250:  Train cost = 0.4991, Train acc = 0.8125 Val cost = 0.8474, Val acc = 0.7121\n",
      "Epoch 9, Batch 5300:  Train cost = 0.4381, Train acc = 0.8438 Val cost = 0.8673, Val acc = 0.7091\n",
      "Epoch 9, Batch 5350:  Train cost = 0.5081, Train acc = 0.7969 Val cost = 0.8720, Val acc = 0.7057\n",
      "Epoch 9, Batch 5400:  Train cost = 0.5260, Train acc = 0.7812 Val cost = 0.8552, Val acc = 0.7087\n",
      "Epoch 9, Batch 5450:  Train cost = 0.3144, Train acc = 0.9219 Val cost = 0.8443, Val acc = 0.7166\n",
      "Epoch 9, Batch 5500:  Train cost = 0.6460, Train acc = 0.8281 Val cost = 0.8365, Val acc = 0.7160\n",
      "Epoch 9, Batch 5550:  Train cost = 0.5048, Train acc = 0.8750 Val cost = 0.8521, Val acc = 0.7149\n",
      "Epoch 9, Batch 5600:  Train cost = 0.5222, Train acc = 0.7969 Val cost = 0.8561, Val acc = 0.7103\n",
      "Epoch 10, Batch 5650:  Train cost = 0.5241, Train acc = 0.8281 Val cost = 0.8379, Val acc = 0.7250\n",
      "Epoch 10, Batch 5700:  Train cost = 0.3611, Train acc = 0.8594 Val cost = 0.8431, Val acc = 0.7171\n",
      "Epoch 10, Batch 5750:  Train cost = 0.4369, Train acc = 0.8750 Val cost = 0.8481, Val acc = 0.7211\n",
      "Epoch 10, Batch 5800:  Train cost = 0.2116, Train acc = 0.9531 Val cost = 0.8716, Val acc = 0.7107\n",
      "Epoch 10, Batch 5850:  Train cost = 0.5338, Train acc = 0.8438 Val cost = 0.8672, Val acc = 0.7143\n",
      "Epoch 10, Batch 5900:  Train cost = 0.5759, Train acc = 0.8438 Val cost = 0.8836, Val acc = 0.7044\n",
      "Epoch 10, Batch 5950:  Train cost = 0.2944, Train acc = 0.9062 Val cost = 0.8992, Val acc = 0.7037\n",
      "Epoch 10, Batch 6000:  Train cost = 0.6615, Train acc = 0.8125 Val cost = 0.8518, Val acc = 0.7187\n",
      "Epoch 10, Batch 6050:  Train cost = 0.4896, Train acc = 0.8438 Val cost = 0.8937, Val acc = 0.7035\n",
      "Epoch 10, Batch 6100:  Train cost = 0.5875, Train acc = 0.8281 Val cost = 0.8615, Val acc = 0.7141\n",
      "Epoch 10, Batch 6150:  Train cost = 0.3111, Train acc = 0.9062 Val cost = 0.8606, Val acc = 0.7104\n",
      "Epoch 10, Batch 6200:  Train cost = 0.3912, Train acc = 0.8281 Val cost = 0.8795, Val acc = 0.7112\n",
      "Epoch 10, Batch 6250:  Train cost = 0.6028, Train acc = 0.7500 Val cost = 0.8441, Val acc = 0.7175\n",
      "Epoch 11, Batch 6300:  Train cost = 0.5630, Train acc = 0.8281 Val cost = 0.8722, Val acc = 0.7240\n",
      "Epoch 11, Batch 6350:  Train cost = 0.4355, Train acc = 0.8281 Val cost = 0.9006, Val acc = 0.7158\n",
      "Epoch 11, Batch 6400:  Train cost = 0.6078, Train acc = 0.8281 Val cost = 0.8577, Val acc = 0.7191\n",
      "Epoch 11, Batch 6450:  Train cost = 0.6198, Train acc = 0.8125 Val cost = 0.8486, Val acc = 0.7266\n",
      "Epoch 11, Batch 6500:  Train cost = 0.3227, Train acc = 0.9219 Val cost = 0.8948, Val acc = 0.7095\n",
      "Epoch 11, Batch 6550:  Train cost = 0.2611, Train acc = 0.9219 Val cost = 0.8704, Val acc = 0.7221\n",
      "Epoch 11, Batch 6600:  Train cost = 0.6872, Train acc = 0.7188 Val cost = 0.9175, Val acc = 0.7128\n",
      "Epoch 11, Batch 6650:  Train cost = 0.3687, Train acc = 0.9062 Val cost = 0.9057, Val acc = 0.7146\n",
      "Epoch 11, Batch 6700:  Train cost = 0.3622, Train acc = 0.8438 Val cost = 0.8745, Val acc = 0.7190\n",
      "Epoch 11, Batch 6750:  Train cost = 0.3326, Train acc = 0.8906 Val cost = 0.8704, Val acc = 0.7255\n",
      "Epoch 11, Batch 6800:  Train cost = 0.5409, Train acc = 0.8281 Val cost = 0.9023, Val acc = 0.7146\n",
      "Epoch 11, Batch 6850:  Train cost = 0.5456, Train acc = 0.7969 Val cost = 0.8696, Val acc = 0.7205\n",
      "Epoch 12, Batch 6900:  Train cost = 0.5140, Train acc = 0.8438 Val cost = 0.8764, Val acc = 0.7178\n",
      "Epoch 12, Batch 6950:  Train cost = 0.4972, Train acc = 0.7969 Val cost = 0.8965, Val acc = 0.7183\n",
      "Epoch 12, Batch 7000:  Train cost = 0.3091, Train acc = 0.9062 Val cost = 0.8924, Val acc = 0.7255\n",
      "Epoch 12, Batch 7050:  Train cost = 0.3197, Train acc = 0.8750 Val cost = 0.9073, Val acc = 0.7239\n",
      "Epoch 12, Batch 7100:  Train cost = 0.4069, Train acc = 0.8281 Val cost = 0.9168, Val acc = 0.7135\n",
      "Epoch 12, Batch 7150:  Train cost = 0.5026, Train acc = 0.8438 Val cost = 0.9355, Val acc = 0.7173\n",
      "Epoch 12, Batch 7200:  Train cost = 0.3794, Train acc = 0.8594 Val cost = 0.9101, Val acc = 0.7128\n",
      "Epoch 12, Batch 7250:  Train cost = 0.4336, Train acc = 0.8125 Val cost = 0.9021, Val acc = 0.7224\n",
      "Epoch 12, Batch 7300:  Train cost = 0.4323, Train acc = 0.8125 Val cost = 0.8854, Val acc = 0.7280\n",
      "Epoch 12, Batch 7350:  Train cost = 0.4267, Train acc = 0.8750 Val cost = 0.9017, Val acc = 0.7165\n",
      "Epoch 12, Batch 7400:  Train cost = 0.3348, Train acc = 0.8594 Val cost = 0.9284, Val acc = 0.7156\n",
      "Epoch 12, Batch 7450:  Train cost = 0.2748, Train acc = 0.9062 Val cost = 0.9073, Val acc = 0.7168\n",
      "Epoch 12, Batch 7500:  Train cost = 0.3142, Train acc = 0.8906 Val cost = 0.8886, Val acc = 0.7233\n",
      "Epoch 13, Batch 7550:  Train cost = 0.2311, Train acc = 0.9219 Val cost = 0.9540, Val acc = 0.7189\n",
      "Epoch 13, Batch 7600:  Train cost = 0.2471, Train acc = 0.9219 Val cost = 0.9150, Val acc = 0.7234\n",
      "Epoch 13, Batch 7650:  Train cost = 0.3187, Train acc = 0.8906 Val cost = 0.9096, Val acc = 0.7262\n",
      "Epoch 13, Batch 7700:  Train cost = 0.4424, Train acc = 0.8438 Val cost = 0.9242, Val acc = 0.7260\n",
      "Epoch 13, Batch 7750:  Train cost = 0.2970, Train acc = 0.9062 Val cost = 0.9516, Val acc = 0.7152\n",
      "Epoch 13, Batch 7800:  Train cost = 0.2028, Train acc = 0.9531 Val cost = 0.9423, Val acc = 0.7192\n",
      "Epoch 13, Batch 7850:  Train cost = 0.2150, Train acc = 0.9531 Val cost = 0.9519, Val acc = 0.7198\n",
      "Epoch 13, Batch 7900:  Train cost = 0.3118, Train acc = 0.9062 Val cost = 0.9328, Val acc = 0.7269\n",
      "Epoch 13, Batch 7950:  Train cost = 0.5326, Train acc = 0.7812 Val cost = 0.9264, Val acc = 0.7220\n",
      "Epoch 13, Batch 8000:  Train cost = 0.3785, Train acc = 0.8594 Val cost = 0.9592, Val acc = 0.7193\n",
      "Epoch 13, Batch 8050:  Train cost = 0.1742, Train acc = 0.9375 Val cost = 0.9171, Val acc = 0.7262\n",
      "Epoch 13, Batch 8100:  Train cost = 0.2528, Train acc = 0.9062 Val cost = 0.9313, Val acc = 0.7298\n",
      "Epoch 14, Batch 8150:  Train cost = 0.2666, Train acc = 0.9219 Val cost = 0.9432, Val acc = 0.7228\n",
      "Epoch 14, Batch 8200:  Train cost = 0.3216, Train acc = 0.9062 Val cost = 0.9457, Val acc = 0.7215\n",
      "Epoch 14, Batch 8250:  Train cost = 0.1275, Train acc = 0.9688 Val cost = 0.9473, Val acc = 0.7275\n",
      "Epoch 14, Batch 8300:  Train cost = 0.2284, Train acc = 0.9375 Val cost = 0.9657, Val acc = 0.7243\n",
      "Epoch 14, Batch 8350:  Train cost = 0.2481, Train acc = 0.9531 Val cost = 0.9681, Val acc = 0.7202\n",
      "Epoch 14, Batch 8400:  Train cost = 0.1274, Train acc = 0.9531 Val cost = 0.9713, Val acc = 0.7275\n"
     ]
    },
    {
     "name": "stdout",
     "output_type": "stream",
     "text": [
      "Epoch 14, Batch 8450:  Train cost = 0.3346, Train acc = 0.8906 Val cost = 0.9794, Val acc = 0.7225\n",
      "Epoch 14, Batch 8500:  Train cost = 0.2101, Train acc = 0.9375 Val cost = 0.9845, Val acc = 0.7253\n"
     ]
    },
    {
     "ename": "KeyboardInterrupt",
     "evalue": "",
     "output_type": "error",
     "traceback": [
      "\u001b[0;31m---------------------------------------------------------------------------\u001b[0m",
      "\u001b[0;31mKeyboardInterrupt\u001b[0m                         Traceback (most recent call last)",
      "\u001b[0;32m<ipython-input-30-1d1cf7535530>\u001b[0m in \u001b[0;36m<module>\u001b[0;34m()\u001b[0m\n\u001b[1;32m     28\u001b[0m \u001b[0;34m\u001b[0m\u001b[0m\n\u001b[1;32m     29\u001b[0m             valid_acc = session.run(accuracy, feed_dict={\n\u001b[0;32m---> 30\u001b[0;31m                 inputs: val_data_norm, targets: val_labels_ohe, keep_prob: 1.})\n\u001b[0m\u001b[1;32m     31\u001b[0m \u001b[0;34m\u001b[0m\u001b[0m\n\u001b[1;32m     32\u001b[0m             \u001b[0minfo\u001b[0m\u001b[0;34m[\u001b[0m\u001b[0;34m\"valid_cost\"\u001b[0m\u001b[0;34m]\u001b[0m\u001b[0;34m.\u001b[0m\u001b[0mappend\u001b[0m\u001b[0;34m(\u001b[0m\u001b[0mvalid_cost\u001b[0m\u001b[0;34m)\u001b[0m\u001b[0;34m\u001b[0m\u001b[0m\n",
      "\u001b[0;32m~/.pyenv/versions/3.6.1/lib/python3.6/site-packages/tensorflow/python/client/session.py\u001b[0m in \u001b[0;36mrun\u001b[0;34m(self, fetches, feed_dict, options, run_metadata)\u001b[0m\n\u001b[1;32m    787\u001b[0m     \u001b[0;32mtry\u001b[0m\u001b[0;34m:\u001b[0m\u001b[0;34m\u001b[0m\u001b[0m\n\u001b[1;32m    788\u001b[0m       result = self._run(None, fetches, feed_dict, options_ptr,\n\u001b[0;32m--> 789\u001b[0;31m                          run_metadata_ptr)\n\u001b[0m\u001b[1;32m    790\u001b[0m       \u001b[0;32mif\u001b[0m \u001b[0mrun_metadata\u001b[0m\u001b[0;34m:\u001b[0m\u001b[0;34m\u001b[0m\u001b[0m\n\u001b[1;32m    791\u001b[0m         \u001b[0mproto_data\u001b[0m \u001b[0;34m=\u001b[0m \u001b[0mtf_session\u001b[0m\u001b[0;34m.\u001b[0m\u001b[0mTF_GetBuffer\u001b[0m\u001b[0;34m(\u001b[0m\u001b[0mrun_metadata_ptr\u001b[0m\u001b[0;34m)\u001b[0m\u001b[0;34m\u001b[0m\u001b[0m\n",
      "\u001b[0;32m~/.pyenv/versions/3.6.1/lib/python3.6/site-packages/tensorflow/python/client/session.py\u001b[0m in \u001b[0;36m_run\u001b[0;34m(self, handle, fetches, feed_dict, options, run_metadata)\u001b[0m\n\u001b[1;32m    995\u001b[0m     \u001b[0;32mif\u001b[0m \u001b[0mfinal_fetches\u001b[0m \u001b[0;32mor\u001b[0m \u001b[0mfinal_targets\u001b[0m\u001b[0;34m:\u001b[0m\u001b[0;34m\u001b[0m\u001b[0m\n\u001b[1;32m    996\u001b[0m       results = self._do_run(handle, final_targets, final_fetches,\n\u001b[0;32m--> 997\u001b[0;31m                              feed_dict_string, options, run_metadata)\n\u001b[0m\u001b[1;32m    998\u001b[0m     \u001b[0;32melse\u001b[0m\u001b[0;34m:\u001b[0m\u001b[0;34m\u001b[0m\u001b[0m\n\u001b[1;32m    999\u001b[0m       \u001b[0mresults\u001b[0m \u001b[0;34m=\u001b[0m \u001b[0;34m[\u001b[0m\u001b[0;34m]\u001b[0m\u001b[0;34m\u001b[0m\u001b[0m\n",
      "\u001b[0;32m~/.pyenv/versions/3.6.1/lib/python3.6/site-packages/tensorflow/python/client/session.py\u001b[0m in \u001b[0;36m_do_run\u001b[0;34m(self, handle, target_list, fetch_list, feed_dict, options, run_metadata)\u001b[0m\n\u001b[1;32m   1130\u001b[0m     \u001b[0;32mif\u001b[0m \u001b[0mhandle\u001b[0m \u001b[0;32mis\u001b[0m \u001b[0;32mNone\u001b[0m\u001b[0;34m:\u001b[0m\u001b[0;34m\u001b[0m\u001b[0m\n\u001b[1;32m   1131\u001b[0m       return self._do_call(_run_fn, self._session, feed_dict, fetch_list,\n\u001b[0;32m-> 1132\u001b[0;31m                            target_list, options, run_metadata)\n\u001b[0m\u001b[1;32m   1133\u001b[0m     \u001b[0;32melse\u001b[0m\u001b[0;34m:\u001b[0m\u001b[0;34m\u001b[0m\u001b[0m\n\u001b[1;32m   1134\u001b[0m       return self._do_call(_prun_fn, self._session, handle, feed_dict,\n",
      "\u001b[0;32m~/.pyenv/versions/3.6.1/lib/python3.6/site-packages/tensorflow/python/client/session.py\u001b[0m in \u001b[0;36m_do_call\u001b[0;34m(self, fn, *args)\u001b[0m\n\u001b[1;32m   1137\u001b[0m   \u001b[0;32mdef\u001b[0m \u001b[0m_do_call\u001b[0m\u001b[0;34m(\u001b[0m\u001b[0mself\u001b[0m\u001b[0;34m,\u001b[0m \u001b[0mfn\u001b[0m\u001b[0;34m,\u001b[0m \u001b[0;34m*\u001b[0m\u001b[0margs\u001b[0m\u001b[0;34m)\u001b[0m\u001b[0;34m:\u001b[0m\u001b[0;34m\u001b[0m\u001b[0m\n\u001b[1;32m   1138\u001b[0m     \u001b[0;32mtry\u001b[0m\u001b[0;34m:\u001b[0m\u001b[0;34m\u001b[0m\u001b[0m\n\u001b[0;32m-> 1139\u001b[0;31m       \u001b[0;32mreturn\u001b[0m \u001b[0mfn\u001b[0m\u001b[0;34m(\u001b[0m\u001b[0;34m*\u001b[0m\u001b[0margs\u001b[0m\u001b[0;34m)\u001b[0m\u001b[0;34m\u001b[0m\u001b[0m\n\u001b[0m\u001b[1;32m   1140\u001b[0m     \u001b[0;32mexcept\u001b[0m \u001b[0merrors\u001b[0m\u001b[0;34m.\u001b[0m\u001b[0mOpError\u001b[0m \u001b[0;32mas\u001b[0m \u001b[0me\u001b[0m\u001b[0;34m:\u001b[0m\u001b[0;34m\u001b[0m\u001b[0m\n\u001b[1;32m   1141\u001b[0m       \u001b[0mmessage\u001b[0m \u001b[0;34m=\u001b[0m \u001b[0mcompat\u001b[0m\u001b[0;34m.\u001b[0m\u001b[0mas_text\u001b[0m\u001b[0;34m(\u001b[0m\u001b[0me\u001b[0m\u001b[0;34m.\u001b[0m\u001b[0mmessage\u001b[0m\u001b[0;34m)\u001b[0m\u001b[0;34m\u001b[0m\u001b[0m\n",
      "\u001b[0;32m~/.pyenv/versions/3.6.1/lib/python3.6/site-packages/tensorflow/python/client/session.py\u001b[0m in \u001b[0;36m_run_fn\u001b[0;34m(session, feed_dict, fetch_list, target_list, options, run_metadata)\u001b[0m\n\u001b[1;32m   1119\u001b[0m         return tf_session.TF_Run(session, options,\n\u001b[1;32m   1120\u001b[0m                                  \u001b[0mfeed_dict\u001b[0m\u001b[0;34m,\u001b[0m \u001b[0mfetch_list\u001b[0m\u001b[0;34m,\u001b[0m \u001b[0mtarget_list\u001b[0m\u001b[0;34m,\u001b[0m\u001b[0;34m\u001b[0m\u001b[0m\n\u001b[0;32m-> 1121\u001b[0;31m                                  status, run_metadata)\n\u001b[0m\u001b[1;32m   1122\u001b[0m \u001b[0;34m\u001b[0m\u001b[0m\n\u001b[1;32m   1123\u001b[0m     \u001b[0;32mdef\u001b[0m \u001b[0m_prun_fn\u001b[0m\u001b[0;34m(\u001b[0m\u001b[0msession\u001b[0m\u001b[0;34m,\u001b[0m \u001b[0mhandle\u001b[0m\u001b[0;34m,\u001b[0m \u001b[0mfeed_dict\u001b[0m\u001b[0;34m,\u001b[0m \u001b[0mfetch_list\u001b[0m\u001b[0;34m)\u001b[0m\u001b[0;34m:\u001b[0m\u001b[0;34m\u001b[0m\u001b[0m\n",
      "\u001b[0;31mKeyboardInterrupt\u001b[0m: "
     ]
    }
   ],
   "source": [
    "session.run(tf.global_variables_initializer())\n",
    "\n",
    "batch_count = 0\n",
    "info = {'train_cost':[], 'train_acc':[], 'valid_cost':[], 'valid_acc':[]}\n",
    "for epoch in range(epochs):\n",
    "    mini_batches = prepare_mini_batches(train_data_norm, train_labels_ohe, batch_size)\n",
    "\n",
    "    while mini_batches:\n",
    "        data_batch, label_batch = mini_batches.pop()\n",
    "        batch_count += 1\n",
    "\n",
    "        session.run(optimizer, feed_dict={inputs: data_batch, \n",
    "                                          targets: label_batch, \n",
    "                                          learning_rate: lr,\n",
    "                                          keep_prob: keep_probability})\n",
    "        if (batch_count % 50) == 0:\n",
    "            train_cost = session.run(cost, feed_dict={\n",
    "                    inputs: data_batch, targets: label_batch, keep_prob: 1.})\n",
    "\n",
    "            train_acc = session.run(accuracy, feed_dict={\n",
    "                inputs: data_batch, targets: label_batch, keep_prob: 1.})\n",
    "\n",
    "            info[\"train_cost\"].append(train_cost)\n",
    "            info[\"train_acc\"].append(train_acc)\n",
    "\n",
    "            valid_cost = session.run(cost, feed_dict={\n",
    "                inputs: val_data_norm, targets: val_labels_ohe, keep_prob: 1.})\n",
    "\n",
    "            valid_acc = session.run(accuracy, feed_dict={\n",
    "                inputs: val_data_norm, targets: val_labels_ohe, keep_prob: 1.})\n",
    "\n",
    "            info[\"valid_cost\"].append(valid_cost)\n",
    "            info[\"valid_acc\"].append(valid_acc)\n",
    "\n",
    "            print('Epoch {}, Batch {}:  '.format(epoch + 1, batch_count), end='')\n",
    "            print(\"Train cost = {:.4f},\".format(train_cost), \n",
    "                  \"Train acc = {:.4f}\".format(train_acc),\n",
    "                  \"Val cost = {:.4f},\".format(valid_cost), \n",
    "                  \"Val acc = {:.4f}\".format(valid_acc))      "
   ]
  },
  {
   "cell_type": "markdown",
   "metadata": {},
   "source": [
    "#### Results"
   ]
  },
  {
   "cell_type": "code",
   "execution_count": 31,
   "metadata": {},
   "outputs": [
    {
     "data": {
      "image/png": "[encoded data removed]",
      "text/plain": [
       "<matplotlib.figure.Figure at 0x127f232b0>"
      ]
     },
     "metadata": {},
     "output_type": "display_data"
    }
   ],
   "source": [
    "fig1 = plt.figure()\n",
    "ax1 = fig1.add_subplot(111)\n",
    "ax1.plot(info['train_acc'], label='Training acc')\n",
    "ax1.plot(info['valid_acc'], label='Validation acc')\n",
    "blue_patch = mpatches.Patch(color='#699cef', label='Training accuracy')\n",
    "orange_patch = mpatches.Patch(color='orange', label='Validation accuracy')\n",
    "ax1.legend(handles=[blue_patch, orange_patch])\n",
    "plt.show()"
   ]
  },
  {
   "cell_type": "code",
   "execution_count": 32,
   "metadata": {},
   "outputs": [
    {
     "data": {
      "image/png": "[encoded data removed]",
      "text/plain": [
       "<matplotlib.figure.Figure at 0x122d409b0>"
      ]
     },
     "metadata": {},
     "output_type": "display_data"
    }
   ],
   "source": [
    "fig1 = plt.figure()\n",
    "ax2 = fig1.add_subplot(111)\n",
    "ax2.plot(info['train_cost'], label='Training loss')\n",
    "ax2.plot(info['valid_cost'], label='Validation loss')\n",
    "blue_patch = mpatches.Patch(color='#699cef', label='Training cross-entropy')\n",
    "orange_patch = mpatches.Patch(color='orange', label='Validation cross-entropy')\n",
    "ax2.legend(handles=[blue_patch, orange_patch])\n",
    "plt.show()"
   ]
  },
  {
   "cell_type": "markdown",
   "metadata": {},
   "source": [
    "#### Test accuracy"
   ]
  },
  {
   "cell_type": "code",
   "execution_count": null,
   "metadata": {},
   "outputs": [],
   "source": [
    "test_acc = session.run(accuracy, feed_dict={\n",
    "    inputs: test_data_norm, targets: test_labels_ohe, keep_prob: 1.})\n",
    "print(\"Test data accuracy: \" + str(test_acc))"
   ]
  },
  {
   "cell_type": "code",
   "execution_count": null,
   "metadata": {
    "collapsed": true
   },
   "outputs": [],
   "source": [
    "session.close()"
   ]
  }
 ],
 "metadata": {
  "kernelspec": {
   "display_name": "Python 3",
   "language": "python",
   "name": "python3"
  },
  "language_info": {
   "codemirror_mode": {
    "name": "ipython",
    "version": 3
   },
   "file_extension": ".py",
   "mimetype": "text/x-python",
   "name": "python",
   "nbconvert_exporter": "python",
   "pygments_lexer": "ipython3",
   "version": "3.6.1"
  }
 },
 "nbformat": 4,
 "nbformat_minor": 2
}
