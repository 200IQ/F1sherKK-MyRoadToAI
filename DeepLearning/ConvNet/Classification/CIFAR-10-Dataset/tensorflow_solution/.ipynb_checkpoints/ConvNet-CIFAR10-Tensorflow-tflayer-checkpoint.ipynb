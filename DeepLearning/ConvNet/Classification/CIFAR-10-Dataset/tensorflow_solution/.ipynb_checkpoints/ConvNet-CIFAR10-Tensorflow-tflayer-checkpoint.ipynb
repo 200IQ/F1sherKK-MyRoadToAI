{
 "cells": [
  {
   "cell_type": "code",
   "execution_count": 1,
   "metadata": {},
   "outputs": [],
   "source": [
    "import os\n",
    "import tarfile\n",
    "import numpy as np\n",
    "import pickle\n",
    "import random\n",
    "import matplotlib.pyplot as plt\n",
    "import matplotlib.patches as mpatches\n",
    "import tensorflow as tf\n",
    "from urllib.request import urlretrieve\n",
    "from tqdm import tqdm"
   ]
  },
  {
   "cell_type": "code",
   "execution_count": 2,
   "metadata": {
    "collapsed": true
   },
   "outputs": [],
   "source": [
    "%matplotlib inline"
   ]
  },
  {
   "cell_type": "markdown",
   "metadata": {},
   "source": [
    "#### Dataset info"
   ]
  },
  {
   "cell_type": "markdown",
   "metadata": {},
   "source": [
    "CIFAR-10 is a dataset of 60 000 32x32 colour images, collected by Alex Krizhevsky, Vinod Nair, and Geoffrey Hinton. There are 10 different classes with 6000 images per class:\n",
    "\n",
    "- airplane\n",
    "- automobile\n",
    "- bird\n",
    "- cat\n",
    "- deer\n",
    "- dog\n",
    "- frog\n",
    "- horse\n",
    "- ship\n",
    "- truck\n",
    "\n",
    "Dataset is divided into 5 batches with the following naming convention 'data_batch_1', 'data_batch_2' and so on..."
   ]
  },
  {
   "cell_type": "code",
   "execution_count": 3,
   "metadata": {
    "collapsed": true
   },
   "outputs": [],
   "source": [
    "#: https://www.cs.toronto.edu/~kriz/cifar.html\n",
    "DATA_URL = \"https://www.cs.toronto.edu/~kriz/cifar-10-python.tar.gz\"\n",
    "TARG_TZ_FILEPATH = \"./cifar-10-python.tar.gz\"\n",
    "CIFAR10_FILES_FOLDER = './cifar-10-batches-py/'\n",
    "\n",
    "TRAIN_BATCH_FILES = [\n",
    "    \"data_batch_1\",\n",
    "    \"data_batch_2\",\n",
    "    \"data_batch_3\",\n",
    "    \"data_batch_4\",\n",
    "    \"data_batch_5\"\n",
    "]\n",
    "\n",
    "TEST_BATCH_FILE = \"test_batch\"\n",
    "\n",
    "LABELS = ['airplane', 'automobile', 'bird', 'cat', 'deer', 'dog', 'frog', 'horse', 'ship', 'truck']\n",
    "NUM_CLASSES = 10\n",
    "\n",
    "MAX_PIXEL_VALUE = 255\n",
    "IMAGE_WIDTH = 32\n",
    "IMAGE_HEIGHT = 32\n",
    "CHANNELS = 3\n",
    "\n",
    "DATA_I = 0\n",
    "LABELS_I = 1"
   ]
  },
  {
   "cell_type": "markdown",
   "metadata": {},
   "source": [
    "#### Download dataset"
   ]
  },
  {
   "cell_type": "code",
   "execution_count": 4,
   "metadata": {
    "collapsed": true
   },
   "outputs": [],
   "source": [
    "class DLProgress(tqdm):\n",
    "    last_block = 0\n",
    "\n",
    "    def hook(self, block_num=1, block_size=1, total_size=None):\n",
    "        self.total = total_size\n",
    "        self.update((block_num - self.last_block) * block_size)\n",
    "        self.last_block = block_num\n",
    "\n",
    "if not os.path.isfile(TARG_TZ_FILEPATH):\n",
    "    with DLProgress(unit=\"B\", unit_scale=True, miniters=1, desc=\"CIFAR-10\") as pbar:\n",
    "        urlretrieve(DATA_URL, TARG_TZ_FILEPATH, pbar.hook)"
   ]
  },
  {
   "cell_type": "markdown",
   "metadata": {},
   "source": [
    "#### Exctracting data"
   ]
  },
  {
   "cell_type": "markdown",
   "metadata": {},
   "source": [
    "- Unpacking"
   ]
  },
  {
   "cell_type": "code",
   "execution_count": 5,
   "metadata": {
    "collapsed": true
   },
   "outputs": [],
   "source": [
    "if not os.path.isdir(CIFAR10_FILES_FOLDER):\n",
    "    with tarfile.open(TARG_TZ_FILEPATH) as tar:\n",
    "        tar.extractall()\n",
    "        tar.close()"
   ]
  },
  {
   "cell_type": "markdown",
   "metadata": {},
   "source": [
    "- Loading train batches"
   ]
  },
  {
   "cell_type": "code",
   "execution_count": 6,
   "metadata": {
    "collapsed": true
   },
   "outputs": [],
   "source": [
    "train_batches = list()\n",
    "\n",
    "for batch_file in TRAIN_BATCH_FILES: \n",
    "    with open(CIFAR10_FILES_FOLDER + batch_file, mode='rb') as file:\n",
    "        batch = pickle.load(file, encoding='latin1')\n",
    "        \n",
    "        # array of 10000 * 1 length\n",
    "        labels = batch['labels']\n",
    "        \n",
    "        # all channels in single 10000 * 3072 length array\n",
    "        batch_data = batch['data']\n",
    "        \n",
    "        # reshaping to 10000 * 3 * 32 * 32\n",
    "        data = batch_data.reshape((len(batch_data), CHANNELS, IMAGE_WIDTH, IMAGE_HEIGHT))\n",
    "        \n",
    "        # fix indexing\n",
    "        data = data.transpose(0, 2, 3, 1)\n",
    "  \n",
    "        train_batches.append((data, labels))"
   ]
  },
  {
   "cell_type": "markdown",
   "metadata": {},
   "source": [
    "- Load test batch"
   ]
  },
  {
   "cell_type": "code",
   "execution_count": 7,
   "metadata": {
    "collapsed": true
   },
   "outputs": [],
   "source": [
    "test_batch = None\n",
    "\n",
    "with open(CIFAR10_FILES_FOLDER + TEST_BATCH_FILE, mode='rb') as file:\n",
    "        batch = pickle.load(file, encoding='latin1')\n",
    "        \n",
    "        # array of 10000 * 1 length\n",
    "        labels = batch['labels']\n",
    "        \n",
    "         # all channels in single 10000 * 3072 length array\n",
    "        batch_data = batch['data']\n",
    "        \n",
    "        # reshaping to 10000 * 3 * 32 * 32\n",
    "        data = batch_data.reshape((len(batch_data), CHANNELS, IMAGE_WIDTH, IMAGE_HEIGHT))\n",
    "        \n",
    "        # fix indexing\n",
    "        data = data.transpose(0, 2, 3, 1)\n",
    "        \n",
    "        test_batch = (data, labels)"
   ]
  },
  {
   "cell_type": "markdown",
   "metadata": {},
   "source": [
    "#### Present extracted dataset"
   ]
  },
  {
   "cell_type": "code",
   "execution_count": 8,
   "metadata": {
    "collapsed": true
   },
   "outputs": [],
   "source": [
    "def present_batch(batch, batch_index):\n",
    "    features, labels = batch \n",
    "    print(\"Batch no.\" + str(batch_index))\n",
    "    print(\"    - Samples in batch: \" + str(len(features)))\n",
    "    print(\"    - Labels num: \" + str(dict(zip(*np.unique(labels, return_counts=True)))))\n",
    "    \n",
    "def present_sample(batch, sample_id):\n",
    "    features, labels = batch \n",
    "    \n",
    "    sample_image = features[sample_id]\n",
    "    sample_label = labels[sample_id]\n",
    "    \n",
    "    print(\"Sample no.\" + str(sample_id))\n",
    "    print(\"    - Min Value: {} Max Value: {}\".format(sample_image.min(), sample_image.max()))\n",
    "    print(\"    - Shape: {}\".format(sample_image.shape))\n",
    "    print(\"    - Label - Label Id: {} Name: {}\".format(sample_label, LABELS[sample_label]))\n",
    "    \n",
    "    plt.axis('off')\n",
    "    plt.imshow(sample_image)"
   ]
  },
  {
   "cell_type": "code",
   "execution_count": 9,
   "metadata": {
    "scrolled": true
   },
   "outputs": [
    {
     "name": "stdout",
     "output_type": "stream",
     "text": [
      "Batch no.0\n",
      "    - Samples in batch: 10000\n",
      "    - Labels num: {0: 1005, 1: 974, 2: 1032, 3: 1016, 4: 999, 5: 937, 6: 1030, 7: 1001, 8: 1025, 9: 981}\n",
      "Batch no.1\n",
      "    - Samples in batch: 10000\n",
      "    - Labels num: {0: 984, 1: 1007, 2: 1010, 3: 995, 4: 1010, 5: 988, 6: 1008, 7: 1026, 8: 987, 9: 985}\n",
      "Batch no.2\n",
      "    - Samples in batch: 10000\n",
      "    - Labels num: {0: 994, 1: 1042, 2: 965, 3: 997, 4: 990, 5: 1029, 6: 978, 7: 1015, 8: 961, 9: 1029}\n",
      "Batch no.3\n",
      "    - Samples in batch: 10000\n",
      "    - Labels num: {0: 1003, 1: 963, 2: 1041, 3: 976, 4: 1004, 5: 1021, 6: 1004, 7: 981, 8: 1024, 9: 983}\n",
      "Batch no.4\n",
      "    - Samples in batch: 10000\n",
      "    - Labels num: {0: 1014, 1: 1014, 2: 952, 3: 1016, 4: 997, 5: 1025, 6: 980, 7: 977, 8: 1003, 9: 1022}\n"
     ]
    }
   ],
   "source": [
    "for index, batch in enumerate(train_batches):\n",
    "    present_batch(batch, index)"
   ]
  },
  {
   "cell_type": "code",
   "execution_count": 10,
   "metadata": {},
   "outputs": [
    {
     "name": "stdout",
     "output_type": "stream",
     "text": [
      "Sample no.7164\n",
      "    - Min Value: 26 Max Value: 246\n",
      "    - Shape: (32, 32, 3)\n",
      "    - Label - Label Id: 5 Name: dog\n"
     ]
    },
    {
     "data": {
      "image/png": "[encoded data removed]",
      "text/plain": [
       "<matplotlib.figure.Figure at 0x10ec70358>"
      ]
     },
     "metadata": {},
     "output_type": "display_data"
    }
   ],
   "source": [
    "present_sample(train_batches[0], 7164)"
   ]
  },
  {
   "cell_type": "markdown",
   "metadata": {},
   "source": [
    "#### Split data into train, val , test sets"
   ]
  },
  {
   "cell_type": "markdown",
   "metadata": {},
   "source": [
    "- data is already shuffled"
   ]
  },
  {
   "cell_type": "markdown",
   "metadata": {},
   "source": [
    "- concat all batches together"
   ]
  },
  {
   "cell_type": "code",
   "execution_count": 11,
   "metadata": {
    "collapsed": true
   },
   "outputs": [],
   "source": [
    "train_data = list()\n",
    "train_labels = list()\n",
    "for batch in train_batches:\n",
    "    for data, label in zip(batch[DATA_I], batch[LABELS_I]):\n",
    "        train_data.append(data)\n",
    "        train_labels.append(label)\n",
    "assert len(train_data) == len(train_labels)\n",
    "        \n",
    "test_data = list()\n",
    "test_labels = list()\n",
    "for data, label in zip(test_batch[DATA_I], test_batch[LABELS_I]):\n",
    "    test_data.append(data)\n",
    "    test_labels.append(label)\n",
    "assert len(test_data) == len(test_labels)"
   ]
  },
  {
   "cell_type": "markdown",
   "metadata": {},
   "source": [
    "- split data"
   ]
  },
  {
   "cell_type": "code",
   "execution_count": 12,
   "metadata": {
    "collapsed": true
   },
   "outputs": [],
   "source": [
    "split_ratio = 0.2\n",
    "split_index = int(len(train_data) * split_ratio)\n",
    "\n",
    "val_data = train_data[:split_index]\n",
    "val_labels = train_labels[:split_index]\n",
    "\n",
    "train_data = train_data[split_index:]\n",
    "train_labels = train_labels[split_index:]"
   ]
  },
  {
   "cell_type": "code",
   "execution_count": 13,
   "metadata": {},
   "outputs": [
    {
     "name": "stdout",
     "output_type": "stream",
     "text": [
      "Train samples: 40000\n",
      "Validation samples: 10000\n",
      "Test samples: 10000\n"
     ]
    }
   ],
   "source": [
    "print(\"Train samples: \" + str(len(train_data)))\n",
    "print(\"Validation samples: \" + str(len(val_data)))\n",
    "print(\"Test samples: \" + str(len(test_data)))"
   ]
  },
  {
   "cell_type": "markdown",
   "metadata": {},
   "source": [
    "#### Preprocess data"
   ]
  },
  {
   "cell_type": "code",
   "execution_count": 14,
   "metadata": {
    "collapsed": true
   },
   "outputs": [],
   "source": [
    "def normalize(data):\n",
    "    return data / MAX_PIXEL_VALUE\n",
    "\n",
    "def ohe_label(label):\n",
    "    labels_num = len(LABELS)\n",
    "  \n",
    "    encoding_array = np.zeros([labels_num])  \n",
    "    encoding_array[label] = 1\n",
    "        \n",
    "    return encoding_array"
   ]
  },
  {
   "cell_type": "code",
   "execution_count": 15,
   "metadata": {
    "collapsed": true
   },
   "outputs": [],
   "source": [
    "train_data_norm = [normalize(data) for data in train_data]\n",
    "train_labels_ohe = [ohe_label(label) for label in train_labels]\n",
    "\n",
    "val_data_norm = [normalize(data) for data in val_data]\n",
    "val_labels_ohe = [ohe_label(label) for label in val_labels]\n",
    "\n",
    "test_data_norm = [normalize(data) for data in test_data]\n",
    "test_labels_ohe = [ohe_label(label) for label in test_labels]"
   ]
  },
  {
   "cell_type": "code",
   "execution_count": 16,
   "metadata": {},
   "outputs": [
    {
     "name": "stdout",
     "output_type": "stream",
     "text": [
      "Sample no.7124\n",
      "    - Min Value: 0.00784313725490196 Max Value: 0.9137254901960784\n",
      "    - Label: [ 0.  0.  0.  1.  0.  0.  0.  0.  0.  0.]\n"
     ]
    }
   ],
   "source": [
    "sample_to_inspect = 7124\n",
    "sample = train_data_norm[sample_to_inspect]\n",
    "label = train_labels_ohe[sample_to_inspect]\n",
    "print(\"Sample no.\" + str(sample_to_inspect))\n",
    "print(\"    - Min Value: {} Max Value: {}\".format(sample.min(), sample.max()))\n",
    "print(\"    - Label: \" + str(label))"
   ]
  },
  {
   "cell_type": "markdown",
   "metadata": {},
   "source": [
    "#### Building ConvNet - parts"
   ]
  },
  {
   "cell_type": "code",
   "execution_count": 17,
   "metadata": {
    "collapsed": true
   },
   "outputs": [],
   "source": [
    "def conv_net_image_input(image_width, image_height, channels):\n",
    "    return tf.placeholder(tf.float32, shape=[None, image_width, image_height, channels], name='inputs')"
   ]
  },
  {
   "cell_type": "code",
   "execution_count": 18,
   "metadata": {
    "collapsed": true
   },
   "outputs": [],
   "source": [
    "def conv_net_label_input(n_classes):\n",
    "    return tf.placeholder(tf.float32, shape=[None, n_classes], name='labels')"
   ]
  },
  {
   "cell_type": "code",
   "execution_count": 19,
   "metadata": {
    "collapsed": true
   },
   "outputs": [],
   "source": [
    "def conv_net_learning_rate():\n",
    "    return tf.placeholder(tf.float32, None, name=\"learning_rate\")"
   ]
  },
  {
   "cell_type": "code",
   "execution_count": 20,
   "metadata": {
    "collapsed": true
   },
   "outputs": [],
   "source": [
    "def conv_net_keep_prob_input():\n",
    "    return tf.placeholder(tf.float32, name=\"keep_prob\")"
   ]
  },
  {
   "cell_type": "code",
   "execution_count": 21,
   "metadata": {
    "collapsed": true
   },
   "outputs": [],
   "source": [
    "def conv_net_is_training_placeholder():\n",
    "    return tf.placeholder(tf.bool)"
   ]
  },
  {
   "cell_type": "code",
   "execution_count": 22,
   "metadata": {
    "collapsed": true
   },
   "outputs": [],
   "source": [
    "def flatten(tensor):\n",
    "    conv_output_shape = tensor.get_shape().as_list()\n",
    "    return tf.reshape(tensor, [-1, conv_output_shape[1] * conv_output_shape[2] * conv_output_shape[3]])"
   ]
  },
  {
   "cell_type": "code",
   "execution_count": 23,
   "metadata": {
    "collapsed": true
   },
   "outputs": [],
   "source": [
    "def conv_net(inputs, keep_prob, is_training):   \n",
    "    # Conv Layer - 1, Input 32x32x3, MaxPool 2, Dropout, Output 16x16x32\n",
    "    conv1_layer = tf.layers.conv2d(inputs=inputs, filters=32, kernel_size=3,\n",
    "                                   strides=1, padding=\"SAME\", activation=tf.nn.elu)\n",
    "    \n",
    "    conv1_layer_mpool = tf.layers.max_pooling2d(conv1_layer, pool_size=[2, 2], strides=2)\n",
    "    conv1_layer_dropout = tf.layers.dropout(inputs=conv1_layer_mpool, rate=keep_prob)\n",
    "    \n",
    "    # Conv Layer - 2, Input 16x16x32, MaxPool 2, Dropout, Output 8x8x32\n",
    "    conv2_layer = tf.layers.conv2d(inputs=conv1_layer_dropout, filters=32, kernel_size=3, \n",
    "                                   strides=1, padding=\"SAME\", activation=tf.nn.elu)\n",
    "    \n",
    "    conv2_layer_mpool = tf.layers.max_pooling2d(conv2_layer, pool_size=[2, 2], strides=2)\n",
    "    conv2_layer_dropout = tf.layers.dropout(inputs=conv2_layer_mpool, rate=keep_prob)\n",
    "    \n",
    "    # Conv Layer - 3, Input 8x8x32, MaxPool 2, Dropout, Output 4x4x64\n",
    "    conv3_layer = tf.layers.conv2d(inputs=conv2_layer_dropout, filters=64, kernel_size=3, \n",
    "                                   strides=1, padding=\"SAME\", activation=tf.nn.elu)\n",
    "    \n",
    "    conv3_layer_mpool = tf.layers.max_pooling2d(conv3_layer, pool_size=[2, 2], strides=2)\n",
    "    conv3_layer_dropout = tf.layers.dropout(inputs=conv3_layer_mpool, rate=keep_prob)\n",
    "    \n",
    "    # Conv Layer Flattened\n",
    "    flatten_conv_output = flatten(conv3_layer_dropout)\n",
    "\n",
    "    # Dense Layer 1 - Size 256\n",
    "    dense1_layer = tf.layers.dense(inputs=flatten_conv_output, units=256, activation=tf.nn.elu)\n",
    "    dense1_layer_dropout = tf.layers.dropout(inputs=dense1_layer, rate=keep_prob)\n",
    "    \n",
    "    # Dense Layer 2 - Size 128\n",
    "    dense2_layer = tf.layers.dense(inputs=dense1_layer_dropout, units=128, activation=tf.nn.elu)\n",
    "    dense2_layer_dropout = tf.layers.dropout(inputs=dense2_layer, rate=keep_prob)\n",
    "    \n",
    "    # Output Layer \n",
    "    output = tf.layers.dense(inputs=dense2_layer_dropout, units=NUM_CLASSES, activation=None)\n",
    "    return output"
   ]
  },
  {
   "cell_type": "markdown",
   "metadata": {},
   "source": [
    "#### Building ConvNet - assemble"
   ]
  },
  {
   "cell_type": "markdown",
   "metadata": {},
   "source": [
    "- Reset Tensorflow graph"
   ]
  },
  {
   "cell_type": "code",
   "execution_count": 24,
   "metadata": {
    "collapsed": true
   },
   "outputs": [],
   "source": [
    "tf.reset_default_graph()"
   ]
  },
  {
   "cell_type": "markdown",
   "metadata": {},
   "source": [
    "- Assemble model"
   ]
  },
  {
   "cell_type": "code",
   "execution_count": 25,
   "metadata": {
    "collapsed": true,
    "scrolled": false
   },
   "outputs": [],
   "source": [
    "inputs = conv_net_image_input(IMAGE_WIDTH, IMAGE_HEIGHT, CHANNELS)\n",
    "targets = conv_net_label_input(NUM_CLASSES)\n",
    "keep_prob = conv_net_keep_prob_input()\n",
    "learning_rate = conv_net_learning_rate()\n",
    "is_training = conv_net_is_training_placeholder()\n",
    "\n",
    "model = conv_net(inputs, keep_prob, is_training)"
   ]
  },
  {
   "cell_type": "markdown",
   "metadata": {},
   "source": [
    "- Cost function, training optimizer, correct predictions, accuracy"
   ]
  },
  {
   "cell_type": "code",
   "execution_count": 26,
   "metadata": {
    "collapsed": true
   },
   "outputs": [],
   "source": [
    "cost = tf.reduce_mean(tf.nn.softmax_cross_entropy_with_logits(logits=model, labels=targets))\n",
    "optimizer = tf.train.AdamOptimizer(learning_rate).minimize(cost)\n",
    "correct_pred = tf.equal(tf.argmax(model, 1), tf.argmax(targets, 1))\n",
    "accuracy = tf.reduce_mean(tf.cast(correct_pred, tf.float32), name='accuracy')"
   ]
  },
  {
   "cell_type": "markdown",
   "metadata": {},
   "source": [
    "#### Batch preparation"
   ]
  },
  {
   "cell_type": "code",
   "execution_count": 27,
   "metadata": {
    "collapsed": true
   },
   "outputs": [],
   "source": [
    "def prepare_mini_batches(data, labels, batch_size):\n",
    "    assert len(data) == len(labels)\n",
    "    \n",
    "    all_batches = list()\n",
    "    for i in range(0, len(data)):\n",
    "        all_batches.append((data[i], labels[i]))\n",
    "    random.shuffle(all_batches)\n",
    "        \n",
    "    mini_batches = list()\n",
    "    while len(all_batches) >= batch_size:\n",
    "        \n",
    "        data_batch = list()\n",
    "        labels_batch = list()\n",
    "        for j in range(0, batch_size):\n",
    "            data, labels = all_batches.pop()\n",
    "            data_batch.append(data)\n",
    "            labels_batch.append(labels)\n",
    "            \n",
    "        mini_batches.append((np.array(data_batch), np.array(labels_batch)))\n",
    "    \n",
    "    return mini_batches"
   ]
  },
  {
   "cell_type": "markdown",
   "metadata": {},
   "source": [
    "#### Hyperparameters"
   ]
  },
  {
   "cell_type": "code",
   "execution_count": 28,
   "metadata": {
    "collapsed": true
   },
   "outputs": [],
   "source": [
    "epochs = 70\n",
    "batch_size = 64\n",
    "lr = 0.0001\n",
    "keep_probability = 0.45"
   ]
  },
  {
   "cell_type": "markdown",
   "metadata": {},
   "source": [
    "#### Training cycle"
   ]
  },
  {
   "cell_type": "code",
   "execution_count": 29,
   "metadata": {
    "collapsed": true
   },
   "outputs": [],
   "source": [
    "session = tf.Session()"
   ]
  },
  {
   "cell_type": "code",
   "execution_count": 30,
   "metadata": {
    "scrolled": false
   },
   "outputs": [
    {
     "name": "stdout",
     "output_type": "stream",
     "text": [
      "Epoch 1, Batch 50:  Train cost = 2.0646, Train acc = 0.3594 Val cost = 2.1123, Val acc = 0.2355\n",
      "Epoch 1, Batch 100:  Train cost = 1.9091, Train acc = 0.3594 Val cost = 1.9190, Val acc = 0.3204\n",
      "Epoch 1, Batch 150:  Train cost = 1.8022, Train acc = 0.3438 Val cost = 1.8144, Val acc = 0.3566\n",
      "Epoch 1, Batch 200:  Train cost = 1.7706, Train acc = 0.3125 Val cost = 1.7840, Val acc = 0.3619\n",
      "Epoch 1, Batch 250:  Train cost = 1.6603, Train acc = 0.4219 Val cost = 1.7194, Val acc = 0.3913\n",
      "Epoch 1, Batch 300:  Train cost = 1.5772, Train acc = 0.4688 Val cost = 1.6952, Val acc = 0.3887\n",
      "Epoch 1, Batch 350:  Train cost = 1.5472, Train acc = 0.4375 Val cost = 1.6487, Val acc = 0.4143\n",
      "Epoch 1, Batch 400:  Train cost = 1.8215, Train acc = 0.3594 Val cost = 1.6244, Val acc = 0.4204\n",
      "Epoch 1, Batch 450:  Train cost = 1.5383, Train acc = 0.5156 Val cost = 1.6132, Val acc = 0.4221\n",
      "Epoch 1, Batch 500:  Train cost = 1.5893, Train acc = 0.5000 Val cost = 1.5967, Val acc = 0.4247\n",
      "Epoch 1, Batch 550:  Train cost = 1.5723, Train acc = 0.4844 Val cost = 1.5543, Val acc = 0.4437\n",
      "Epoch 1, Batch 600:  Train cost = 1.5066, Train acc = 0.4688 Val cost = 1.5483, Val acc = 0.4506\n",
      "Epoch 2, Batch 650:  Train cost = 1.3418, Train acc = 0.5625 Val cost = 1.5388, Val acc = 0.4486\n",
      "Epoch 2, Batch 700:  Train cost = 1.5530, Train acc = 0.5000 Val cost = 1.4991, Val acc = 0.4667\n",
      "Epoch 2, Batch 750:  Train cost = 1.4127, Train acc = 0.5156 Val cost = 1.5044, Val acc = 0.4629\n",
      "Epoch 2, Batch 800:  Train cost = 1.5391, Train acc = 0.4844 Val cost = 1.4648, Val acc = 0.4773\n",
      "Epoch 2, Batch 850:  Train cost = 1.7786, Train acc = 0.4375 Val cost = 1.4727, Val acc = 0.4763\n",
      "Epoch 2, Batch 900:  Train cost = 1.4680, Train acc = 0.4688 Val cost = 1.4514, Val acc = 0.4796\n",
      "Epoch 2, Batch 950:  Train cost = 1.5985, Train acc = 0.4062 Val cost = 1.4363, Val acc = 0.4850\n",
      "Epoch 2, Batch 1000:  Train cost = 1.4206, Train acc = 0.5156 Val cost = 1.4269, Val acc = 0.4947\n",
      "Epoch 2, Batch 1050:  Train cost = 1.3541, Train acc = 0.5625 Val cost = 1.4327, Val acc = 0.4823\n",
      "Epoch 2, Batch 1100:  Train cost = 1.4151, Train acc = 0.5000 Val cost = 1.3994, Val acc = 0.5005\n",
      "Epoch 2, Batch 1150:  Train cost = 1.3021, Train acc = 0.5781 Val cost = 1.3865, Val acc = 0.5051\n",
      "Epoch 2, Batch 1200:  Train cost = 1.1691, Train acc = 0.6562 Val cost = 1.3798, Val acc = 0.5083\n",
      "Epoch 2, Batch 1250:  Train cost = 1.4485, Train acc = 0.4375 Val cost = 1.3724, Val acc = 0.5035\n",
      "Epoch 3, Batch 1300:  Train cost = 1.5215, Train acc = 0.5000 Val cost = 1.3677, Val acc = 0.5113\n",
      "Epoch 3, Batch 1350:  Train cost = 1.4037, Train acc = 0.4844 Val cost = 1.3584, Val acc = 0.5127\n",
      "Epoch 3, Batch 1400:  Train cost = 1.1977, Train acc = 0.5781 Val cost = 1.3522, Val acc = 0.5146\n",
      "Epoch 3, Batch 1450:  Train cost = 1.5840, Train acc = 0.4688 Val cost = 1.3504, Val acc = 0.5253\n",
      "Epoch 3, Batch 1500:  Train cost = 1.3310, Train acc = 0.5156 Val cost = 1.3552, Val acc = 0.5075\n",
      "Epoch 3, Batch 1550:  Train cost = 1.3735, Train acc = 0.5000 Val cost = 1.3182, Val acc = 0.5292\n",
      "Epoch 3, Batch 1600:  Train cost = 1.3605, Train acc = 0.5000 Val cost = 1.3045, Val acc = 0.5368\n",
      "Epoch 3, Batch 1650:  Train cost = 1.2985, Train acc = 0.4844 Val cost = 1.3132, Val acc = 0.5339\n",
      "Epoch 3, Batch 1700:  Train cost = 1.3881, Train acc = 0.5625 Val cost = 1.2944, Val acc = 0.5384\n",
      "Epoch 3, Batch 1750:  Train cost = 1.2900, Train acc = 0.5156 Val cost = 1.3142, Val acc = 0.5274\n",
      "Epoch 3, Batch 1800:  Train cost = 1.1222, Train acc = 0.6250 Val cost = 1.2814, Val acc = 0.5422\n",
      "Epoch 3, Batch 1850:  Train cost = 1.0523, Train acc = 0.6094 Val cost = 1.3038, Val acc = 0.5386\n",
      "Epoch 4, Batch 1900:  Train cost = 1.2976, Train acc = 0.5312 Val cost = 1.2826, Val acc = 0.5390\n",
      "Epoch 4, Batch 1950:  Train cost = 1.3201, Train acc = 0.5469 Val cost = 1.2617, Val acc = 0.5511\n",
      "Epoch 4, Batch 2000:  Train cost = 1.3644, Train acc = 0.4531 Val cost = 1.2642, Val acc = 0.5482\n",
      "Epoch 4, Batch 2050:  Train cost = 1.1456, Train acc = 0.6250 Val cost = 1.2579, Val acc = 0.5514\n",
      "Epoch 4, Batch 2100:  Train cost = 1.3333, Train acc = 0.5781 Val cost = 1.2829, Val acc = 0.5410\n",
      "Epoch 4, Batch 2150:  Train cost = 1.4436, Train acc = 0.5156 Val cost = 1.2478, Val acc = 0.5597\n",
      "Epoch 4, Batch 2200:  Train cost = 1.2893, Train acc = 0.4688 Val cost = 1.2475, Val acc = 0.5546\n",
      "Epoch 4, Batch 2250:  Train cost = 1.4371, Train acc = 0.5625 Val cost = 1.2296, Val acc = 0.5639\n",
      "Epoch 4, Batch 2300:  Train cost = 1.0792, Train acc = 0.5938 Val cost = 1.2457, Val acc = 0.5504\n",
      "Epoch 4, Batch 2350:  Train cost = 1.2295, Train acc = 0.5625 Val cost = 1.2328, Val acc = 0.5591\n",
      "Epoch 4, Batch 2400:  Train cost = 1.2384, Train acc = 0.5156 Val cost = 1.2371, Val acc = 0.5606\n",
      "Epoch 4, Batch 2450:  Train cost = 1.1541, Train acc = 0.6406 Val cost = 1.2270, Val acc = 0.5556\n",
      "Epoch 4, Batch 2500:  Train cost = 1.3446, Train acc = 0.4844 Val cost = 1.2254, Val acc = 0.5619\n",
      "Epoch 5, Batch 2550:  Train cost = 0.9800, Train acc = 0.7031 Val cost = 1.2394, Val acc = 0.5605\n",
      "Epoch 5, Batch 2600:  Train cost = 1.1863, Train acc = 0.6094 Val cost = 1.2135, Val acc = 0.5733\n",
      "Epoch 5, Batch 2650:  Train cost = 1.1627, Train acc = 0.5781 Val cost = 1.2077, Val acc = 0.5652\n",
      "Epoch 5, Batch 2700:  Train cost = 1.0738, Train acc = 0.6562 Val cost = 1.2164, Val acc = 0.5658\n",
      "Epoch 5, Batch 2750:  Train cost = 1.2255, Train acc = 0.5312 Val cost = 1.1945, Val acc = 0.5703\n",
      "Epoch 5, Batch 2800:  Train cost = 1.1029, Train acc = 0.5938 Val cost = 1.1816, Val acc = 0.5773\n",
      "Epoch 5, Batch 2850:  Train cost = 1.1345, Train acc = 0.5312 Val cost = 1.1795, Val acc = 0.5791\n",
      "Epoch 5, Batch 2900:  Train cost = 1.0054, Train acc = 0.5938 Val cost = 1.1969, Val acc = 0.5700\n",
      "Epoch 5, Batch 2950:  Train cost = 1.1796, Train acc = 0.5469 Val cost = 1.1691, Val acc = 0.5835\n",
      "Epoch 5, Batch 3000:  Train cost = 1.2238, Train acc = 0.5469 Val cost = 1.1581, Val acc = 0.5871\n",
      "Epoch 5, Batch 3050:  Train cost = 0.9525, Train acc = 0.7031 Val cost = 1.1803, Val acc = 0.5802\n",
      "Epoch 5, Batch 3100:  Train cost = 0.9673, Train acc = 0.6406 Val cost = 1.1745, Val acc = 0.5843\n",
      "Epoch 6, Batch 3150:  Train cost = 1.1056, Train acc = 0.6250 Val cost = 1.1641, Val acc = 0.5879\n",
      "Epoch 6, Batch 3200:  Train cost = 1.1125, Train acc = 0.5938 Val cost = 1.1790, Val acc = 0.5795\n",
      "Epoch 6, Batch 3250:  Train cost = 0.9756, Train acc = 0.6562 Val cost = 1.1691, Val acc = 0.5828\n",
      "Epoch 6, Batch 3300:  Train cost = 1.1477, Train acc = 0.6250 Val cost = 1.1368, Val acc = 0.5950\n",
      "Epoch 6, Batch 3350:  Train cost = 1.1476, Train acc = 0.6094 Val cost = 1.1525, Val acc = 0.5922\n",
      "Epoch 6, Batch 3400:  Train cost = 0.9998, Train acc = 0.5781 Val cost = 1.1408, Val acc = 0.5982\n",
      "Epoch 6, Batch 3450:  Train cost = 1.0190, Train acc = 0.6562 Val cost = 1.1394, Val acc = 0.5932\n",
      "Epoch 6, Batch 3500:  Train cost = 0.9129, Train acc = 0.6406 Val cost = 1.1314, Val acc = 0.5973\n",
      "Epoch 6, Batch 3550:  Train cost = 1.0183, Train acc = 0.6250 Val cost = 1.1303, Val acc = 0.6045\n",
      "Epoch 6, Batch 3600:  Train cost = 1.1143, Train acc = 0.5469 Val cost = 1.1382, Val acc = 0.5949\n",
      "Epoch 6, Batch 3650:  Train cost = 0.9281, Train acc = 0.6719 Val cost = 1.1426, Val acc = 0.5916\n",
      "Epoch 6, Batch 3700:  Train cost = 0.8690, Train acc = 0.7031 Val cost = 1.1455, Val acc = 0.5914\n",
      "Epoch 6, Batch 3750:  Train cost = 1.1166, Train acc = 0.5781 Val cost = 1.1165, Val acc = 0.6016\n",
      "Epoch 7, Batch 3800:  Train cost = 1.1057, Train acc = 0.6719 Val cost = 1.1147, Val acc = 0.6054\n",
      "Epoch 7, Batch 3850:  Train cost = 1.2114, Train acc = 0.5938 Val cost = 1.1144, Val acc = 0.6054\n",
      "Epoch 7, Batch 3900:  Train cost = 0.9362, Train acc = 0.6562 Val cost = 1.1161, Val acc = 0.6034\n",
      "Epoch 7, Batch 3950:  Train cost = 1.1108, Train acc = 0.5938 Val cost = 1.1116, Val acc = 0.6068\n",
      "Epoch 7, Batch 4000:  Train cost = 1.1965, Train acc = 0.6250 Val cost = 1.1116, Val acc = 0.6050\n",
      "Epoch 7, Batch 4050:  Train cost = 1.1839, Train acc = 0.6250 Val cost = 1.1255, Val acc = 0.6070\n",
      "Epoch 7, Batch 4100:  Train cost = 1.2701, Train acc = 0.5625 Val cost = 1.1158, Val acc = 0.6056\n",
      "Epoch 7, Batch 4150:  Train cost = 1.0001, Train acc = 0.6719 Val cost = 1.0931, Val acc = 0.6111\n",
      "Epoch 7, Batch 4200:  Train cost = 1.0976, Train acc = 0.5469 Val cost = 1.0859, Val acc = 0.6139\n"
     ]
    },
    {
     "name": "stdout",
     "output_type": "stream",
     "text": [
      "Epoch 7, Batch 4250:  Train cost = 0.8565, Train acc = 0.7656 Val cost = 1.0938, Val acc = 0.6114\n",
      "Epoch 7, Batch 4300:  Train cost = 1.2665, Train acc = 0.5312 Val cost = 1.0833, Val acc = 0.6185\n",
      "Epoch 7, Batch 4350:  Train cost = 0.9051, Train acc = 0.6719 Val cost = 1.1101, Val acc = 0.6101\n",
      "Epoch 8, Batch 4400:  Train cost = 1.0366, Train acc = 0.6875 Val cost = 1.0816, Val acc = 0.6168\n",
      "Epoch 8, Batch 4450:  Train cost = 1.0262, Train acc = 0.6250 Val cost = 1.0867, Val acc = 0.6155\n",
      "Epoch 8, Batch 4500:  Train cost = 1.0401, Train acc = 0.6562 Val cost = 1.0668, Val acc = 0.6215\n",
      "Epoch 8, Batch 4550:  Train cost = 0.9671, Train acc = 0.7031 Val cost = 1.0906, Val acc = 0.6145\n",
      "Epoch 8, Batch 4600:  Train cost = 1.1463, Train acc = 0.5469 Val cost = 1.1106, Val acc = 0.6074\n",
      "Epoch 8, Batch 4650:  Train cost = 1.1637, Train acc = 0.6250 Val cost = 1.0726, Val acc = 0.6172\n",
      "Epoch 8, Batch 4700:  Train cost = 0.9118, Train acc = 0.7500 Val cost = 1.0780, Val acc = 0.6201\n",
      "Epoch 8, Batch 4750:  Train cost = 0.9637, Train acc = 0.6406 Val cost = 1.0774, Val acc = 0.6172\n",
      "Epoch 8, Batch 4800:  Train cost = 1.0976, Train acc = 0.6094 Val cost = 1.0628, Val acc = 0.6264\n",
      "Epoch 8, Batch 4850:  Train cost = 1.0330, Train acc = 0.5469 Val cost = 1.0782, Val acc = 0.6178\n",
      "Epoch 8, Batch 4900:  Train cost = 1.0781, Train acc = 0.5781 Val cost = 1.0763, Val acc = 0.6185\n",
      "Epoch 8, Batch 4950:  Train cost = 0.7734, Train acc = 0.7656 Val cost = 1.0538, Val acc = 0.6271\n",
      "Epoch 8, Batch 5000:  Train cost = 0.8429, Train acc = 0.7500 Val cost = 1.0573, Val acc = 0.6230\n",
      "Epoch 9, Batch 5050:  Train cost = 1.0142, Train acc = 0.6406 Val cost = 1.0949, Val acc = 0.6125\n",
      "Epoch 9, Batch 5100:  Train cost = 0.9171, Train acc = 0.7188 Val cost = 1.0588, Val acc = 0.6290\n",
      "Epoch 9, Batch 5150:  Train cost = 1.0778, Train acc = 0.6406 Val cost = 1.0519, Val acc = 0.6267\n",
      "Epoch 9, Batch 5200:  Train cost = 0.9326, Train acc = 0.6875 Val cost = 1.0378, Val acc = 0.6319\n",
      "Epoch 9, Batch 5250:  Train cost = 0.9108, Train acc = 0.7344 Val cost = 1.0424, Val acc = 0.6305\n",
      "Epoch 9, Batch 5300:  Train cost = 0.9243, Train acc = 0.6406 Val cost = 1.0482, Val acc = 0.6320\n",
      "Epoch 9, Batch 5350:  Train cost = 0.9913, Train acc = 0.6562 Val cost = 1.0506, Val acc = 0.6300\n",
      "Epoch 9, Batch 5400:  Train cost = 0.8501, Train acc = 0.6562 Val cost = 1.0504, Val acc = 0.6281\n",
      "Epoch 9, Batch 5450:  Train cost = 1.1882, Train acc = 0.5938 Val cost = 1.0588, Val acc = 0.6256\n",
      "Epoch 9, Batch 5500:  Train cost = 1.1923, Train acc = 0.5469 Val cost = 1.0566, Val acc = 0.6289\n",
      "Epoch 9, Batch 5550:  Train cost = 0.8277, Train acc = 0.7344 Val cost = 1.0484, Val acc = 0.6284\n",
      "Epoch 9, Batch 5600:  Train cost = 0.9357, Train acc = 0.7344 Val cost = 1.0307, Val acc = 0.6400\n",
      "Epoch 10, Batch 5650:  Train cost = 0.9519, Train acc = 0.6719 Val cost = 1.0322, Val acc = 0.6385\n",
      "Epoch 10, Batch 5700:  Train cost = 0.8955, Train acc = 0.7500 Val cost = 1.0289, Val acc = 0.6346\n",
      "Epoch 10, Batch 5750:  Train cost = 0.7832, Train acc = 0.7344 Val cost = 1.0291, Val acc = 0.6364\n",
      "Epoch 10, Batch 5800:  Train cost = 0.8916, Train acc = 0.7188 Val cost = 1.0351, Val acc = 0.6345\n",
      "Epoch 10, Batch 5850:  Train cost = 0.9262, Train acc = 0.6406 Val cost = 1.0273, Val acc = 0.6389\n",
      "Epoch 10, Batch 5900:  Train cost = 1.0620, Train acc = 0.5781 Val cost = 1.0285, Val acc = 0.6380\n",
      "Epoch 10, Batch 5950:  Train cost = 1.0796, Train acc = 0.6250 Val cost = 1.0258, Val acc = 0.6394\n",
      "Epoch 10, Batch 6000:  Train cost = 0.9701, Train acc = 0.7188 Val cost = 1.0195, Val acc = 0.6375\n",
      "Epoch 10, Batch 6050:  Train cost = 1.0525, Train acc = 0.6250 Val cost = 1.0294, Val acc = 0.6409\n",
      "Epoch 10, Batch 6100:  Train cost = 0.9162, Train acc = 0.6562 Val cost = 1.0354, Val acc = 0.6380\n",
      "Epoch 10, Batch 6150:  Train cost = 0.8951, Train acc = 0.6719 Val cost = 1.0270, Val acc = 0.6357\n",
      "Epoch 10, Batch 6200:  Train cost = 0.7708, Train acc = 0.8125 Val cost = 1.0038, Val acc = 0.6499\n",
      "Epoch 10, Batch 6250:  Train cost = 0.8641, Train acc = 0.7188 Val cost = 1.0222, Val acc = 0.6414\n",
      "Epoch 11, Batch 6300:  Train cost = 1.1996, Train acc = 0.5469 Val cost = 1.0153, Val acc = 0.6427\n",
      "Epoch 11, Batch 6350:  Train cost = 1.0986, Train acc = 0.5938 Val cost = 1.0214, Val acc = 0.6431\n",
      "Epoch 11, Batch 6400:  Train cost = 0.9944, Train acc = 0.6562 Val cost = 1.0241, Val acc = 0.6378\n",
      "Epoch 11, Batch 6450:  Train cost = 1.0098, Train acc = 0.5938 Val cost = 1.0033, Val acc = 0.6516\n",
      "Epoch 11, Batch 6500:  Train cost = 1.0404, Train acc = 0.6094 Val cost = 0.9992, Val acc = 0.6475\n",
      "Epoch 11, Batch 6550:  Train cost = 0.7847, Train acc = 0.7344 Val cost = 1.0017, Val acc = 0.6444\n",
      "Epoch 11, Batch 6600:  Train cost = 0.9949, Train acc = 0.6562 Val cost = 1.0159, Val acc = 0.6457\n",
      "Epoch 11, Batch 6650:  Train cost = 0.8243, Train acc = 0.7188 Val cost = 1.0194, Val acc = 0.6395\n",
      "Epoch 11, Batch 6700:  Train cost = 0.9854, Train acc = 0.6250 Val cost = 1.0420, Val acc = 0.6336\n",
      "Epoch 11, Batch 6750:  Train cost = 1.0105, Train acc = 0.6250 Val cost = 1.0463, Val acc = 0.6316\n",
      "Epoch 11, Batch 6800:  Train cost = 0.7548, Train acc = 0.7656 Val cost = 0.9963, Val acc = 0.6496\n",
      "Epoch 11, Batch 6850:  Train cost = 0.9894, Train acc = 0.6094 Val cost = 1.0062, Val acc = 0.6470\n",
      "Epoch 12, Batch 6900:  Train cost = 0.9498, Train acc = 0.7031 Val cost = 1.0078, Val acc = 0.6439\n",
      "Epoch 12, Batch 6950:  Train cost = 0.8083, Train acc = 0.7188 Val cost = 0.9969, Val acc = 0.6448\n",
      "Epoch 12, Batch 7000:  Train cost = 0.9400, Train acc = 0.5625 Val cost = 1.0053, Val acc = 0.6462\n",
      "Epoch 12, Batch 7050:  Train cost = 0.8126, Train acc = 0.6875 Val cost = 0.9871, Val acc = 0.6506\n",
      "Epoch 12, Batch 7100:  Train cost = 0.8344, Train acc = 0.6719 Val cost = 0.9910, Val acc = 0.6516\n",
      "Epoch 12, Batch 7150:  Train cost = 0.9007, Train acc = 0.6250 Val cost = 0.9900, Val acc = 0.6513\n",
      "Epoch 12, Batch 7200:  Train cost = 0.9129, Train acc = 0.7656 Val cost = 0.9992, Val acc = 0.6500\n",
      "Epoch 12, Batch 7250:  Train cost = 0.9735, Train acc = 0.7344 Val cost = 0.9918, Val acc = 0.6522\n",
      "Epoch 12, Batch 7300:  Train cost = 1.0044, Train acc = 0.6250 Val cost = 0.9815, Val acc = 0.6562\n",
      "Epoch 12, Batch 7350:  Train cost = 0.9535, Train acc = 0.5938 Val cost = 1.0027, Val acc = 0.6460\n",
      "Epoch 12, Batch 7400:  Train cost = 0.8251, Train acc = 0.7188 Val cost = 0.9794, Val acc = 0.6563\n",
      "Epoch 12, Batch 7450:  Train cost = 0.7887, Train acc = 0.7344 Val cost = 1.0003, Val acc = 0.6527\n",
      "Epoch 12, Batch 7500:  Train cost = 1.0112, Train acc = 0.6094 Val cost = 0.9789, Val acc = 0.6580\n",
      "Epoch 13, Batch 7550:  Train cost = 0.8511, Train acc = 0.7031 Val cost = 0.9854, Val acc = 0.6547\n",
      "Epoch 13, Batch 7600:  Train cost = 0.8205, Train acc = 0.7812 Val cost = 0.9752, Val acc = 0.6514\n",
      "Epoch 13, Batch 7650:  Train cost = 1.0108, Train acc = 0.6875 Val cost = 0.9781, Val acc = 0.6527\n",
      "Epoch 13, Batch 7700:  Train cost = 0.6964, Train acc = 0.7656 Val cost = 0.9689, Val acc = 0.6577\n",
      "Epoch 13, Batch 7750:  Train cost = 0.8330, Train acc = 0.6719 Val cost = 0.9820, Val acc = 0.6516\n",
      "Epoch 13, Batch 7800:  Train cost = 0.8647, Train acc = 0.7188 Val cost = 0.9773, Val acc = 0.6575\n",
      "Epoch 13, Batch 7850:  Train cost = 1.0482, Train acc = 0.6719 Val cost = 0.9770, Val acc = 0.6575\n",
      "Epoch 13, Batch 7900:  Train cost = 0.8731, Train acc = 0.6562 Val cost = 1.0064, Val acc = 0.6460\n",
      "Epoch 13, Batch 7950:  Train cost = 1.0539, Train acc = 0.6562 Val cost = 0.9749, Val acc = 0.6533\n",
      "Epoch 13, Batch 8000:  Train cost = 0.7897, Train acc = 0.7344 Val cost = 0.9661, Val acc = 0.6586\n",
      "Epoch 13, Batch 8050:  Train cost = 0.9813, Train acc = 0.6094 Val cost = 0.9783, Val acc = 0.6561\n",
      "Epoch 13, Batch 8100:  Train cost = 0.8809, Train acc = 0.7500 Val cost = 0.9695, Val acc = 0.6614\n",
      "Epoch 14, Batch 8150:  Train cost = 0.6262, Train acc = 0.7344 Val cost = 0.9689, Val acc = 0.6599\n",
      "Epoch 14, Batch 8200:  Train cost = 0.7818, Train acc = 0.7031 Val cost = 0.9680, Val acc = 0.6600\n",
      "Epoch 14, Batch 8250:  Train cost = 0.9020, Train acc = 0.6719 Val cost = 0.9686, Val acc = 0.6628\n",
      "Epoch 14, Batch 8300:  Train cost = 0.9407, Train acc = 0.7031 Val cost = 0.9636, Val acc = 0.6627\n",
      "Epoch 14, Batch 8350:  Train cost = 0.9113, Train acc = 0.6406 Val cost = 0.9798, Val acc = 0.6538\n",
      "Epoch 14, Batch 8400:  Train cost = 1.0192, Train acc = 0.6250 Val cost = 0.9644, Val acc = 0.6588\n"
     ]
    },
    {
     "name": "stdout",
     "output_type": "stream",
     "text": [
      "Epoch 14, Batch 8450:  Train cost = 0.8159, Train acc = 0.7031 Val cost = 0.9701, Val acc = 0.6592\n",
      "Epoch 14, Batch 8500:  Train cost = 0.8846, Train acc = 0.6875 Val cost = 0.9619, Val acc = 0.6609\n",
      "Epoch 14, Batch 8550:  Train cost = 0.8490, Train acc = 0.7344 Val cost = 0.9674, Val acc = 0.6589\n",
      "Epoch 14, Batch 8600:  Train cost = 0.7741, Train acc = 0.7812 Val cost = 0.9660, Val acc = 0.6587\n",
      "Epoch 14, Batch 8650:  Train cost = 0.9919, Train acc = 0.7188 Val cost = 0.9656, Val acc = 0.6591\n",
      "Epoch 14, Batch 8700:  Train cost = 0.7352, Train acc = 0.7031 Val cost = 0.9525, Val acc = 0.6699\n",
      "Epoch 14, Batch 8750:  Train cost = 0.8261, Train acc = 0.7500 Val cost = 0.9520, Val acc = 0.6667\n",
      "Epoch 15, Batch 8800:  Train cost = 0.7701, Train acc = 0.7031 Val cost = 0.9691, Val acc = 0.6554\n",
      "Epoch 15, Batch 8850:  Train cost = 1.0538, Train acc = 0.6406 Val cost = 0.9714, Val acc = 0.6581\n",
      "Epoch 15, Batch 8900:  Train cost = 0.7490, Train acc = 0.7188 Val cost = 0.9663, Val acc = 0.6580\n",
      "Epoch 15, Batch 8950:  Train cost = 0.7359, Train acc = 0.8281 Val cost = 0.9851, Val acc = 0.6594\n",
      "Epoch 15, Batch 9000:  Train cost = 0.9228, Train acc = 0.6406 Val cost = 0.9508, Val acc = 0.6666\n",
      "Epoch 15, Batch 9050:  Train cost = 0.6952, Train acc = 0.7656 Val cost = 0.9798, Val acc = 0.6592\n",
      "Epoch 15, Batch 9100:  Train cost = 0.7974, Train acc = 0.6719 Val cost = 0.9741, Val acc = 0.6582\n",
      "Epoch 15, Batch 9150:  Train cost = 0.6127, Train acc = 0.7812 Val cost = 0.9520, Val acc = 0.6675\n",
      "Epoch 15, Batch 9200:  Train cost = 0.7514, Train acc = 0.7344 Val cost = 0.9462, Val acc = 0.6670\n",
      "Epoch 15, Batch 9250:  Train cost = 0.9378, Train acc = 0.6719 Val cost = 0.9573, Val acc = 0.6656\n",
      "Epoch 15, Batch 9300:  Train cost = 0.6830, Train acc = 0.7656 Val cost = 0.9543, Val acc = 0.6645\n",
      "Epoch 15, Batch 9350:  Train cost = 0.7125, Train acc = 0.7344 Val cost = 0.9692, Val acc = 0.6574\n",
      "Epoch 16, Batch 9400:  Train cost = 0.8229, Train acc = 0.7344 Val cost = 0.9440, Val acc = 0.6683\n",
      "Epoch 16, Batch 9450:  Train cost = 0.7970, Train acc = 0.7344 Val cost = 0.9708, Val acc = 0.6579\n",
      "Epoch 16, Batch 9500:  Train cost = 0.7436, Train acc = 0.7656 Val cost = 0.9527, Val acc = 0.6672\n",
      "Epoch 16, Batch 9550:  Train cost = 0.7403, Train acc = 0.6406 Val cost = 0.9482, Val acc = 0.6645\n",
      "Epoch 16, Batch 9600:  Train cost = 0.8082, Train acc = 0.7031 Val cost = 0.9461, Val acc = 0.6691\n",
      "Epoch 16, Batch 9650:  Train cost = 0.8572, Train acc = 0.6719 Val cost = 0.9363, Val acc = 0.6707\n",
      "Epoch 16, Batch 9700:  Train cost = 0.8324, Train acc = 0.6719 Val cost = 0.9626, Val acc = 0.6628\n",
      "Epoch 16, Batch 9750:  Train cost = 0.8537, Train acc = 0.7031 Val cost = 0.9375, Val acc = 0.6700\n",
      "Epoch 16, Batch 9800:  Train cost = 0.6700, Train acc = 0.7812 Val cost = 0.9364, Val acc = 0.6732\n",
      "Epoch 16, Batch 9850:  Train cost = 0.8668, Train acc = 0.6875 Val cost = 0.9460, Val acc = 0.6684\n",
      "Epoch 16, Batch 9900:  Train cost = 0.7031, Train acc = 0.7656 Val cost = 0.9457, Val acc = 0.6678\n",
      "Epoch 16, Batch 9950:  Train cost = 0.7406, Train acc = 0.7344 Val cost = 0.9467, Val acc = 0.6725\n",
      "Epoch 16, Batch 10000:  Train cost = 0.8728, Train acc = 0.7188 Val cost = 0.9477, Val acc = 0.6648\n",
      "Epoch 17, Batch 10050:  Train cost = 0.7825, Train acc = 0.7500 Val cost = 0.9378, Val acc = 0.6707\n",
      "Epoch 17, Batch 10100:  Train cost = 0.8981, Train acc = 0.6875 Val cost = 0.9475, Val acc = 0.6714\n",
      "Epoch 17, Batch 10150:  Train cost = 0.6792, Train acc = 0.7656 Val cost = 0.9422, Val acc = 0.6723\n",
      "Epoch 17, Batch 10200:  Train cost = 0.7464, Train acc = 0.7344 Val cost = 0.9393, Val acc = 0.6709\n",
      "Epoch 17, Batch 10250:  Train cost = 0.7662, Train acc = 0.7188 Val cost = 0.9451, Val acc = 0.6652\n",
      "Epoch 17, Batch 10300:  Train cost = 0.6552, Train acc = 0.7812 Val cost = 0.9354, Val acc = 0.6725\n",
      "Epoch 17, Batch 10350:  Train cost = 0.6602, Train acc = 0.7969 Val cost = 0.9457, Val acc = 0.6712\n",
      "Epoch 17, Batch 10400:  Train cost = 0.6357, Train acc = 0.7500 Val cost = 0.9339, Val acc = 0.6735\n",
      "Epoch 17, Batch 10450:  Train cost = 0.6732, Train acc = 0.7344 Val cost = 0.9415, Val acc = 0.6689\n",
      "Epoch 17, Batch 10500:  Train cost = 0.8307, Train acc = 0.7188 Val cost = 0.9332, Val acc = 0.6703\n",
      "Epoch 17, Batch 10550:  Train cost = 0.8796, Train acc = 0.6406 Val cost = 0.9495, Val acc = 0.6703\n",
      "Epoch 17, Batch 10600:  Train cost = 0.9154, Train acc = 0.7031 Val cost = 0.9326, Val acc = 0.6723\n",
      "Epoch 18, Batch 10650:  Train cost = 0.6737, Train acc = 0.7656 Val cost = 0.9361, Val acc = 0.6721\n",
      "Epoch 18, Batch 10700:  Train cost = 0.8821, Train acc = 0.6562 Val cost = 0.9367, Val acc = 0.6728\n",
      "Epoch 18, Batch 10750:  Train cost = 0.7503, Train acc = 0.7031 Val cost = 1.0251, Val acc = 0.6466\n",
      "Epoch 18, Batch 10800:  Train cost = 0.8659, Train acc = 0.7344 Val cost = 0.9327, Val acc = 0.6736\n",
      "Epoch 18, Batch 10850:  Train cost = 0.5965, Train acc = 0.8438 Val cost = 0.9404, Val acc = 0.6689\n",
      "Epoch 18, Batch 10900:  Train cost = 0.6773, Train acc = 0.7188 Val cost = 0.9274, Val acc = 0.6753\n",
      "Epoch 18, Batch 10950:  Train cost = 0.8103, Train acc = 0.7344 Val cost = 0.9386, Val acc = 0.6708\n",
      "Epoch 18, Batch 11000:  Train cost = 0.5461, Train acc = 0.8125 Val cost = 0.9640, Val acc = 0.6634\n",
      "Epoch 18, Batch 11050:  Train cost = 0.8503, Train acc = 0.7188 Val cost = 0.9216, Val acc = 0.6755\n",
      "Epoch 18, Batch 11100:  Train cost = 0.6726, Train acc = 0.7500 Val cost = 0.9228, Val acc = 0.6786\n",
      "Epoch 18, Batch 11150:  Train cost = 0.8359, Train acc = 0.6875 Val cost = 0.9461, Val acc = 0.6696\n",
      "Epoch 18, Batch 11200:  Train cost = 0.9757, Train acc = 0.6094 Val cost = 0.9365, Val acc = 0.6738\n",
      "Epoch 18, Batch 11250:  Train cost = 0.8478, Train acc = 0.6406 Val cost = 0.9309, Val acc = 0.6748\n",
      "Epoch 19, Batch 11300:  Train cost = 0.6110, Train acc = 0.8125 Val cost = 0.9305, Val acc = 0.6750\n",
      "Epoch 19, Batch 11350:  Train cost = 0.7288, Train acc = 0.7031 Val cost = 0.9395, Val acc = 0.6699\n",
      "Epoch 19, Batch 11400:  Train cost = 0.7483, Train acc = 0.7188 Val cost = 0.9459, Val acc = 0.6726\n",
      "Epoch 19, Batch 11450:  Train cost = 0.9638, Train acc = 0.6875 Val cost = 0.9255, Val acc = 0.6758\n",
      "Epoch 19, Batch 11500:  Train cost = 0.5096, Train acc = 0.7969 Val cost = 0.9615, Val acc = 0.6688\n",
      "Epoch 19, Batch 11550:  Train cost = 0.7337, Train acc = 0.7500 Val cost = 0.9279, Val acc = 0.6746\n",
      "Epoch 19, Batch 11600:  Train cost = 0.7392, Train acc = 0.7344 Val cost = 0.9098, Val acc = 0.6813\n",
      "Epoch 19, Batch 11650:  Train cost = 0.6683, Train acc = 0.7188 Val cost = 0.9261, Val acc = 0.6738\n",
      "Epoch 19, Batch 11700:  Train cost = 0.9239, Train acc = 0.6875 Val cost = 0.9309, Val acc = 0.6761\n",
      "Epoch 19, Batch 11750:  Train cost = 0.7660, Train acc = 0.6875 Val cost = 0.9343, Val acc = 0.6750\n",
      "Epoch 19, Batch 11800:  Train cost = 0.5159, Train acc = 0.8438 Val cost = 0.9308, Val acc = 0.6740\n",
      "Epoch 19, Batch 11850:  Train cost = 0.9184, Train acc = 0.7031 Val cost = 0.9201, Val acc = 0.6805\n",
      "Epoch 20, Batch 11900:  Train cost = 0.6689, Train acc = 0.8125 Val cost = 0.9214, Val acc = 0.6792\n",
      "Epoch 20, Batch 11950:  Train cost = 0.8374, Train acc = 0.7188 Val cost = 0.9133, Val acc = 0.6794\n",
      "Epoch 20, Batch 12000:  Train cost = 0.4821, Train acc = 0.8750 Val cost = 0.9157, Val acc = 0.6805\n",
      "Epoch 20, Batch 12050:  Train cost = 0.8623, Train acc = 0.7031 Val cost = 0.9132, Val acc = 0.6789\n",
      "Epoch 20, Batch 12100:  Train cost = 0.8360, Train acc = 0.7188 Val cost = 0.9165, Val acc = 0.6782\n",
      "Epoch 20, Batch 12150:  Train cost = 0.5457, Train acc = 0.8438 Val cost = 0.9218, Val acc = 0.6763\n",
      "Epoch 20, Batch 12200:  Train cost = 0.9581, Train acc = 0.6094 Val cost = 0.9239, Val acc = 0.6767\n",
      "Epoch 20, Batch 12250:  Train cost = 0.9346, Train acc = 0.6562 Val cost = 0.9213, Val acc = 0.6809\n",
      "Epoch 20, Batch 12300:  Train cost = 0.7185, Train acc = 0.7031 Val cost = 0.9267, Val acc = 0.6759\n",
      "Epoch 20, Batch 12350:  Train cost = 0.7855, Train acc = 0.7656 Val cost = 0.9238, Val acc = 0.6795\n",
      "Epoch 20, Batch 12400:  Train cost = 0.7662, Train acc = 0.7500 Val cost = 0.9062, Val acc = 0.6839\n",
      "Epoch 20, Batch 12450:  Train cost = 0.7287, Train acc = 0.7812 Val cost = 0.9216, Val acc = 0.6769\n",
      "Epoch 20, Batch 12500:  Train cost = 0.8227, Train acc = 0.7188 Val cost = 0.9049, Val acc = 0.6846\n",
      "Epoch 21, Batch 12550:  Train cost = 0.8707, Train acc = 0.7344 Val cost = 0.9174, Val acc = 0.6788\n"
     ]
    },
    {
     "name": "stdout",
     "output_type": "stream",
     "text": [
      "Epoch 21, Batch 12600:  Train cost = 0.6767, Train acc = 0.7344 Val cost = 0.9133, Val acc = 0.6837\n",
      "Epoch 21, Batch 12650:  Train cost = 0.5634, Train acc = 0.8125 Val cost = 0.9151, Val acc = 0.6808\n",
      "Epoch 21, Batch 12700:  Train cost = 0.6934, Train acc = 0.7969 Val cost = 0.9162, Val acc = 0.6776\n",
      "Epoch 21, Batch 12750:  Train cost = 0.6746, Train acc = 0.7969 Val cost = 0.9369, Val acc = 0.6762\n",
      "Epoch 21, Batch 12800:  Train cost = 0.6156, Train acc = 0.7969 Val cost = 0.9197, Val acc = 0.6769\n",
      "Epoch 21, Batch 12850:  Train cost = 0.6389, Train acc = 0.8125 Val cost = 0.9199, Val acc = 0.6819\n",
      "Epoch 21, Batch 12900:  Train cost = 0.5282, Train acc = 0.7812 Val cost = 0.9179, Val acc = 0.6797\n",
      "Epoch 21, Batch 12950:  Train cost = 0.8317, Train acc = 0.7031 Val cost = 0.9196, Val acc = 0.6784\n",
      "Epoch 21, Batch 13000:  Train cost = 0.4517, Train acc = 0.9062 Val cost = 0.9136, Val acc = 0.6864\n",
      "Epoch 21, Batch 13050:  Train cost = 0.7866, Train acc = 0.6875 Val cost = 0.9106, Val acc = 0.6839\n",
      "Epoch 21, Batch 13100:  Train cost = 0.8279, Train acc = 0.6719 Val cost = 0.9016, Val acc = 0.6852\n",
      "Epoch 22, Batch 13150:  Train cost = 0.8953, Train acc = 0.7500 Val cost = 0.9315, Val acc = 0.6740\n",
      "Epoch 22, Batch 13200:  Train cost = 0.5951, Train acc = 0.7188 Val cost = 0.9136, Val acc = 0.6804\n",
      "Epoch 22, Batch 13250:  Train cost = 1.0652, Train acc = 0.6719 Val cost = 0.9388, Val acc = 0.6714\n",
      "Epoch 22, Batch 13300:  Train cost = 0.8183, Train acc = 0.7812 Val cost = 0.9147, Val acc = 0.6826\n",
      "Epoch 22, Batch 13350:  Train cost = 0.5380, Train acc = 0.8750 Val cost = 0.9047, Val acc = 0.6878\n",
      "Epoch 22, Batch 13400:  Train cost = 0.7219, Train acc = 0.7656 Val cost = 0.9096, Val acc = 0.6817\n",
      "Epoch 22, Batch 13450:  Train cost = 0.8434, Train acc = 0.6562 Val cost = 0.9242, Val acc = 0.6778\n",
      "Epoch 22, Batch 13500:  Train cost = 0.6771, Train acc = 0.7188 Val cost = 0.9306, Val acc = 0.6801\n",
      "Epoch 22, Batch 13550:  Train cost = 0.8228, Train acc = 0.6562 Val cost = 0.9057, Val acc = 0.6862\n",
      "Epoch 22, Batch 13600:  Train cost = 0.6637, Train acc = 0.8125 Val cost = 0.9013, Val acc = 0.6901\n",
      "Epoch 22, Batch 13650:  Train cost = 0.6983, Train acc = 0.7812 Val cost = 0.8994, Val acc = 0.6845\n",
      "Epoch 22, Batch 13700:  Train cost = 0.6887, Train acc = 0.7656 Val cost = 0.9096, Val acc = 0.6838\n",
      "Epoch 22, Batch 13750:  Train cost = 0.7194, Train acc = 0.7656 Val cost = 0.9015, Val acc = 0.6878\n",
      "Epoch 23, Batch 13800:  Train cost = 0.6720, Train acc = 0.7969 Val cost = 0.9027, Val acc = 0.6847\n",
      "Epoch 23, Batch 13850:  Train cost = 0.9186, Train acc = 0.6250 Val cost = 0.9314, Val acc = 0.6750\n",
      "Epoch 23, Batch 13900:  Train cost = 0.6852, Train acc = 0.7812 Val cost = 0.9191, Val acc = 0.6811\n",
      "Epoch 23, Batch 13950:  Train cost = 0.6185, Train acc = 0.7969 Val cost = 0.9215, Val acc = 0.6836\n",
      "Epoch 23, Batch 14000:  Train cost = 0.7045, Train acc = 0.7188 Val cost = 0.9141, Val acc = 0.6809\n",
      "Epoch 23, Batch 14050:  Train cost = 0.8336, Train acc = 0.7812 Val cost = 0.9681, Val acc = 0.6651\n",
      "Epoch 23, Batch 14100:  Train cost = 0.7835, Train acc = 0.7500 Val cost = 0.9120, Val acc = 0.6862\n",
      "Epoch 23, Batch 14150:  Train cost = 0.6556, Train acc = 0.7656 Val cost = 0.9016, Val acc = 0.6911\n",
      "Epoch 23, Batch 14200:  Train cost = 0.5689, Train acc = 0.8438 Val cost = 0.9127, Val acc = 0.6792\n",
      "Epoch 23, Batch 14250:  Train cost = 0.7994, Train acc = 0.7500 Val cost = 0.9200, Val acc = 0.6835\n",
      "Epoch 23, Batch 14300:  Train cost = 0.8364, Train acc = 0.7188 Val cost = 0.9417, Val acc = 0.6728\n",
      "Epoch 23, Batch 14350:  Train cost = 0.6038, Train acc = 0.7812 Val cost = 0.9031, Val acc = 0.6886\n",
      "Epoch 24, Batch 14400:  Train cost = 0.8490, Train acc = 0.7188 Val cost = 0.9239, Val acc = 0.6797\n",
      "Epoch 24, Batch 14450:  Train cost = 0.6543, Train acc = 0.7344 Val cost = 0.8963, Val acc = 0.6891\n",
      "Epoch 24, Batch 14500:  Train cost = 0.7453, Train acc = 0.7031 Val cost = 0.9368, Val acc = 0.6734\n",
      "Epoch 24, Batch 14550:  Train cost = 0.7314, Train acc = 0.7188 Val cost = 0.8972, Val acc = 0.6887\n",
      "Epoch 24, Batch 14600:  Train cost = 0.4375, Train acc = 0.8906 Val cost = 0.9194, Val acc = 0.6864\n",
      "Epoch 24, Batch 14650:  Train cost = 0.7283, Train acc = 0.7500 Val cost = 0.8877, Val acc = 0.6901\n",
      "Epoch 24, Batch 14700:  Train cost = 0.5411, Train acc = 0.8281 Val cost = 0.8987, Val acc = 0.6893\n",
      "Epoch 24, Batch 14750:  Train cost = 0.6799, Train acc = 0.7812 Val cost = 0.9084, Val acc = 0.6850\n",
      "Epoch 24, Batch 14800:  Train cost = 0.6111, Train acc = 0.7188 Val cost = 0.8988, Val acc = 0.6862\n",
      "Epoch 24, Batch 14850:  Train cost = 0.6893, Train acc = 0.7500 Val cost = 0.9057, Val acc = 0.6872\n",
      "Epoch 24, Batch 14900:  Train cost = 0.5584, Train acc = 0.7969 Val cost = 0.9077, Val acc = 0.6866\n",
      "Epoch 24, Batch 14950:  Train cost = 0.6038, Train acc = 0.7656 Val cost = 0.8967, Val acc = 0.6889\n",
      "Epoch 24, Batch 15000:  Train cost = 0.7260, Train acc = 0.7969 Val cost = 0.9093, Val acc = 0.6854\n",
      "Epoch 25, Batch 15050:  Train cost = 0.7464, Train acc = 0.7031 Val cost = 0.9172, Val acc = 0.6846\n",
      "Epoch 25, Batch 15100:  Train cost = 0.7222, Train acc = 0.7344 Val cost = 0.9105, Val acc = 0.6834\n",
      "Epoch 25, Batch 15150:  Train cost = 0.7828, Train acc = 0.7188 Val cost = 0.8992, Val acc = 0.6870\n",
      "Epoch 25, Batch 15200:  Train cost = 0.9024, Train acc = 0.7031 Val cost = 0.9009, Val acc = 0.6893\n",
      "Epoch 25, Batch 15250:  Train cost = 0.8611, Train acc = 0.6719 Val cost = 0.9109, Val acc = 0.6881\n",
      "Epoch 25, Batch 15300:  Train cost = 0.5278, Train acc = 0.8438 Val cost = 0.9105, Val acc = 0.6808\n",
      "Epoch 25, Batch 15350:  Train cost = 0.5858, Train acc = 0.8438 Val cost = 0.9306, Val acc = 0.6765\n",
      "Epoch 25, Batch 15400:  Train cost = 0.5995, Train acc = 0.7812 Val cost = 0.9024, Val acc = 0.6860\n",
      "Epoch 25, Batch 15450:  Train cost = 0.6861, Train acc = 0.8125 Val cost = 0.8971, Val acc = 0.6929\n",
      "Epoch 25, Batch 15500:  Train cost = 0.7789, Train acc = 0.7031 Val cost = 0.8866, Val acc = 0.6937\n",
      "Epoch 25, Batch 15550:  Train cost = 0.9958, Train acc = 0.5781 Val cost = 0.9084, Val acc = 0.6848\n",
      "Epoch 25, Batch 15600:  Train cost = 0.6746, Train acc = 0.7344 Val cost = 0.8870, Val acc = 0.6952\n",
      "Epoch 26, Batch 15650:  Train cost = 0.9111, Train acc = 0.7031 Val cost = 0.8874, Val acc = 0.6930\n",
      "Epoch 26, Batch 15700:  Train cost = 0.4690, Train acc = 0.8594 Val cost = 0.8898, Val acc = 0.6939\n",
      "Epoch 26, Batch 15750:  Train cost = 0.8440, Train acc = 0.6875 Val cost = 0.8933, Val acc = 0.6918\n",
      "Epoch 26, Batch 15800:  Train cost = 0.7886, Train acc = 0.7188 Val cost = 0.9045, Val acc = 0.6876\n",
      "Epoch 26, Batch 15850:  Train cost = 0.6627, Train acc = 0.7656 Val cost = 0.8965, Val acc = 0.6892\n",
      "Epoch 26, Batch 15900:  Train cost = 0.6370, Train acc = 0.7812 Val cost = 0.8943, Val acc = 0.6948\n",
      "Epoch 26, Batch 15950:  Train cost = 0.5265, Train acc = 0.8125 Val cost = 0.9139, Val acc = 0.6862\n",
      "Epoch 26, Batch 16000:  Train cost = 0.7281, Train acc = 0.7500 Val cost = 0.8922, Val acc = 0.6924\n",
      "Epoch 26, Batch 16050:  Train cost = 0.5794, Train acc = 0.8750 Val cost = 0.9098, Val acc = 0.6858\n",
      "Epoch 26, Batch 16100:  Train cost = 0.6209, Train acc = 0.7656 Val cost = 0.8996, Val acc = 0.6897\n",
      "Epoch 26, Batch 16150:  Train cost = 0.7838, Train acc = 0.7188 Val cost = 0.9047, Val acc = 0.6899\n",
      "Epoch 26, Batch 16200:  Train cost = 0.6427, Train acc = 0.7969 Val cost = 0.8826, Val acc = 0.6950\n",
      "Epoch 26, Batch 16250:  Train cost = 0.7105, Train acc = 0.7656 Val cost = 0.9008, Val acc = 0.6925\n",
      "Epoch 27, Batch 16300:  Train cost = 0.6844, Train acc = 0.7969 Val cost = 0.8957, Val acc = 0.6917\n",
      "Epoch 27, Batch 16350:  Train cost = 0.5776, Train acc = 0.7656 Val cost = 0.9187, Val acc = 0.6827\n",
      "Epoch 27, Batch 16400:  Train cost = 0.6426, Train acc = 0.7812 Val cost = 0.8926, Val acc = 0.6932\n",
      "Epoch 27, Batch 16450:  Train cost = 0.7920, Train acc = 0.7500 Val cost = 0.8961, Val acc = 0.6905\n",
      "Epoch 27, Batch 16500:  Train cost = 0.6880, Train acc = 0.7031 Val cost = 0.8846, Val acc = 0.6962\n",
      "Epoch 27, Batch 16550:  Train cost = 0.4881, Train acc = 0.8281 Val cost = 0.9002, Val acc = 0.6883\n",
      "Epoch 27, Batch 16600:  Train cost = 0.7771, Train acc = 0.6875 Val cost = 0.8976, Val acc = 0.6909\n",
      "Epoch 27, Batch 16650:  Train cost = 0.7423, Train acc = 0.7344 Val cost = 0.9029, Val acc = 0.6871\n"
     ]
    },
    {
     "name": "stdout",
     "output_type": "stream",
     "text": [
      "Epoch 27, Batch 16700:  Train cost = 0.6822, Train acc = 0.7188 Val cost = 0.9047, Val acc = 0.6882\n",
      "Epoch 27, Batch 16750:  Train cost = 0.6910, Train acc = 0.7344 Val cost = 0.8904, Val acc = 0.6908\n",
      "Epoch 27, Batch 16800:  Train cost = 0.5490, Train acc = 0.8125 Val cost = 0.8877, Val acc = 0.6961\n",
      "Epoch 27, Batch 16850:  Train cost = 0.4980, Train acc = 0.7812 Val cost = 0.9094, Val acc = 0.6909\n",
      "Epoch 28, Batch 16900:  Train cost = 0.6158, Train acc = 0.7969 Val cost = 0.9052, Val acc = 0.6897\n",
      "Epoch 28, Batch 16950:  Train cost = 0.7579, Train acc = 0.7656 Val cost = 0.8871, Val acc = 0.6950\n",
      "Epoch 28, Batch 17000:  Train cost = 0.7166, Train acc = 0.6875 Val cost = 0.9099, Val acc = 0.6893\n",
      "Epoch 28, Batch 17050:  Train cost = 0.6283, Train acc = 0.8281 Val cost = 0.9138, Val acc = 0.6888\n",
      "Epoch 28, Batch 17100:  Train cost = 0.6008, Train acc = 0.8281 Val cost = 0.8994, Val acc = 0.6919\n",
      "Epoch 28, Batch 17150:  Train cost = 0.5876, Train acc = 0.7969 Val cost = 0.9071, Val acc = 0.6893\n",
      "Epoch 28, Batch 17200:  Train cost = 0.4910, Train acc = 0.8281 Val cost = 0.9062, Val acc = 0.6936\n",
      "Epoch 28, Batch 17250:  Train cost = 0.7780, Train acc = 0.7656 Val cost = 0.8842, Val acc = 0.6940\n",
      "Epoch 28, Batch 17300:  Train cost = 0.7359, Train acc = 0.7656 Val cost = 0.9030, Val acc = 0.6913\n",
      "Epoch 28, Batch 17350:  Train cost = 0.7370, Train acc = 0.6719 Val cost = 0.8975, Val acc = 0.6923\n",
      "Epoch 28, Batch 17400:  Train cost = 0.6281, Train acc = 0.7188 Val cost = 0.8992, Val acc = 0.6975\n",
      "Epoch 28, Batch 17450:  Train cost = 0.5248, Train acc = 0.8281 Val cost = 0.9080, Val acc = 0.6878\n",
      "Epoch 28, Batch 17500:  Train cost = 0.7810, Train acc = 0.7188 Val cost = 0.8941, Val acc = 0.6954\n",
      "Epoch 29, Batch 17550:  Train cost = 0.6108, Train acc = 0.7969 Val cost = 0.8993, Val acc = 0.6918\n",
      "Epoch 29, Batch 17600:  Train cost = 0.5650, Train acc = 0.8281 Val cost = 0.8939, Val acc = 0.6947\n",
      "Epoch 29, Batch 17650:  Train cost = 0.6122, Train acc = 0.7656 Val cost = 0.8879, Val acc = 0.6938\n",
      "Epoch 29, Batch 17700:  Train cost = 0.6850, Train acc = 0.7344 Val cost = 0.9124, Val acc = 0.6896\n",
      "Epoch 29, Batch 17750:  Train cost = 0.6523, Train acc = 0.7656 Val cost = 0.9040, Val acc = 0.6886\n",
      "Epoch 29, Batch 17800:  Train cost = 0.5310, Train acc = 0.8281 Val cost = 0.9197, Val acc = 0.6865\n",
      "Epoch 29, Batch 17850:  Train cost = 0.5445, Train acc = 0.8438 Val cost = 0.9055, Val acc = 0.6954\n",
      "Epoch 29, Batch 17900:  Train cost = 0.8586, Train acc = 0.7031 Val cost = 0.9028, Val acc = 0.6920\n",
      "Epoch 29, Batch 17950:  Train cost = 0.4770, Train acc = 0.8281 Val cost = 0.8940, Val acc = 0.6924\n",
      "Epoch 29, Batch 18000:  Train cost = 0.5686, Train acc = 0.8281 Val cost = 0.8886, Val acc = 0.6942\n",
      "Epoch 29, Batch 18050:  Train cost = 0.5643, Train acc = 0.7969 Val cost = 0.8920, Val acc = 0.6970\n",
      "Epoch 29, Batch 18100:  Train cost = 0.7348, Train acc = 0.7188 Val cost = 0.9017, Val acc = 0.6935\n",
      "Epoch 30, Batch 18150:  Train cost = 0.5434, Train acc = 0.8125 Val cost = 0.8889, Val acc = 0.6970\n",
      "Epoch 30, Batch 18200:  Train cost = 0.6328, Train acc = 0.7812 Val cost = 0.9020, Val acc = 0.6962\n",
      "Epoch 30, Batch 18250:  Train cost = 0.5369, Train acc = 0.8281 Val cost = 0.9165, Val acc = 0.6862\n",
      "Epoch 30, Batch 18300:  Train cost = 0.6572, Train acc = 0.7812 Val cost = 0.8900, Val acc = 0.6996\n",
      "Epoch 30, Batch 18350:  Train cost = 0.6800, Train acc = 0.7656 Val cost = 0.9083, Val acc = 0.6903\n",
      "Epoch 30, Batch 18400:  Train cost = 0.7571, Train acc = 0.7188 Val cost = 0.8959, Val acc = 0.6948\n",
      "Epoch 30, Batch 18450:  Train cost = 0.6146, Train acc = 0.7656 Val cost = 0.8886, Val acc = 0.6963\n",
      "Epoch 30, Batch 18500:  Train cost = 0.5304, Train acc = 0.8438 Val cost = 0.9128, Val acc = 0.6921\n",
      "Epoch 30, Batch 18550:  Train cost = 0.5411, Train acc = 0.8281 Val cost = 0.8870, Val acc = 0.6982\n",
      "Epoch 30, Batch 18600:  Train cost = 0.5411, Train acc = 0.8281 Val cost = 0.8962, Val acc = 0.6903\n",
      "Epoch 30, Batch 18650:  Train cost = 0.7682, Train acc = 0.7656 Val cost = 0.8927, Val acc = 0.6937\n",
      "Epoch 30, Batch 18700:  Train cost = 0.6543, Train acc = 0.7500 Val cost = 0.9105, Val acc = 0.6923\n",
      "Epoch 30, Batch 18750:  Train cost = 0.5403, Train acc = 0.8906 Val cost = 0.8916, Val acc = 0.6940\n",
      "Epoch 31, Batch 18800:  Train cost = 0.6199, Train acc = 0.7656 Val cost = 0.8991, Val acc = 0.6912\n",
      "Epoch 31, Batch 18850:  Train cost = 0.5873, Train acc = 0.7812 Val cost = 0.9053, Val acc = 0.6946\n",
      "Epoch 31, Batch 18900:  Train cost = 0.6131, Train acc = 0.7969 Val cost = 0.8810, Val acc = 0.7010\n",
      "Epoch 31, Batch 18950:  Train cost = 0.4512, Train acc = 0.8594 Val cost = 0.8937, Val acc = 0.6979\n",
      "Epoch 31, Batch 19000:  Train cost = 0.7016, Train acc = 0.7656 Val cost = 0.9373, Val acc = 0.6849\n",
      "Epoch 31, Batch 19050:  Train cost = 0.6136, Train acc = 0.8438 Val cost = 0.8901, Val acc = 0.6969\n",
      "Epoch 31, Batch 19100:  Train cost = 0.5518, Train acc = 0.8438 Val cost = 0.8911, Val acc = 0.6976\n",
      "Epoch 31, Batch 19150:  Train cost = 0.3900, Train acc = 0.8750 Val cost = 0.9102, Val acc = 0.6922\n",
      "Epoch 31, Batch 19200:  Train cost = 0.5627, Train acc = 0.8281 Val cost = 0.8905, Val acc = 0.6972\n",
      "Epoch 31, Batch 19250:  Train cost = 0.5845, Train acc = 0.7812 Val cost = 0.8957, Val acc = 0.6958\n",
      "Epoch 31, Batch 19300:  Train cost = 0.4875, Train acc = 0.7969 Val cost = 0.8965, Val acc = 0.6930\n",
      "Epoch 31, Batch 19350:  Train cost = 0.5069, Train acc = 0.7969 Val cost = 0.9203, Val acc = 0.6889\n",
      "Epoch 32, Batch 19400:  Train cost = 0.4210, Train acc = 0.8594 Val cost = 0.8935, Val acc = 0.6976\n",
      "Epoch 32, Batch 19450:  Train cost = 0.6010, Train acc = 0.7500 Val cost = 0.9064, Val acc = 0.6950\n",
      "Epoch 32, Batch 19500:  Train cost = 0.4078, Train acc = 0.8750 Val cost = 0.9088, Val acc = 0.6961\n",
      "Epoch 32, Batch 19550:  Train cost = 0.4482, Train acc = 0.8906 Val cost = 0.8971, Val acc = 0.6957\n",
      "Epoch 32, Batch 19600:  Train cost = 0.4531, Train acc = 0.8125 Val cost = 0.8865, Val acc = 0.6967\n",
      "Epoch 32, Batch 19650:  Train cost = 0.4793, Train acc = 0.8750 Val cost = 0.9008, Val acc = 0.6939\n",
      "Epoch 32, Batch 19700:  Train cost = 0.7012, Train acc = 0.7812 Val cost = 0.8969, Val acc = 0.6956\n",
      "Epoch 32, Batch 19750:  Train cost = 0.5500, Train acc = 0.8281 Val cost = 0.8865, Val acc = 0.6994\n",
      "Epoch 32, Batch 19800:  Train cost = 0.7349, Train acc = 0.7188 Val cost = 0.8938, Val acc = 0.6954\n",
      "Epoch 32, Batch 19850:  Train cost = 0.6189, Train acc = 0.8125 Val cost = 0.9040, Val acc = 0.6931\n",
      "Epoch 32, Batch 19900:  Train cost = 0.3282, Train acc = 0.9062 Val cost = 0.8951, Val acc = 0.6949\n",
      "Epoch 32, Batch 19950:  Train cost = 0.7444, Train acc = 0.7656 Val cost = 0.9061, Val acc = 0.6921\n",
      "Epoch 32, Batch 20000:  Train cost = 0.7147, Train acc = 0.7812 Val cost = 0.8940, Val acc = 0.6963\n",
      "Epoch 33, Batch 20050:  Train cost = 0.5058, Train acc = 0.8438 Val cost = 0.9028, Val acc = 0.6966\n",
      "Epoch 33, Batch 20100:  Train cost = 0.5447, Train acc = 0.8438 Val cost = 0.9194, Val acc = 0.6884\n",
      "Epoch 33, Batch 20150:  Train cost = 0.4387, Train acc = 0.8906 Val cost = 0.9188, Val acc = 0.6904\n",
      "Epoch 33, Batch 20200:  Train cost = 0.7771, Train acc = 0.7969 Val cost = 0.8998, Val acc = 0.6954\n",
      "Epoch 33, Batch 20250:  Train cost = 0.6984, Train acc = 0.7656 Val cost = 0.9009, Val acc = 0.6926\n",
      "Epoch 33, Batch 20300:  Train cost = 0.5312, Train acc = 0.7969 Val cost = 0.9027, Val acc = 0.6938\n",
      "Epoch 33, Batch 20350:  Train cost = 0.7601, Train acc = 0.7188 Val cost = 0.8915, Val acc = 0.7025\n",
      "Epoch 33, Batch 20400:  Train cost = 0.7865, Train acc = 0.7500 Val cost = 0.9052, Val acc = 0.6935\n",
      "Epoch 33, Batch 20450:  Train cost = 0.5071, Train acc = 0.8281 Val cost = 0.9003, Val acc = 0.6939\n",
      "Epoch 33, Batch 20500:  Train cost = 0.4534, Train acc = 0.8281 Val cost = 0.8942, Val acc = 0.6988\n",
      "Epoch 33, Batch 20550:  Train cost = 0.4767, Train acc = 0.8438 Val cost = 0.8958, Val acc = 0.6980\n",
      "Epoch 33, Batch 20600:  Train cost = 0.4816, Train acc = 0.8281 Val cost = 0.8938, Val acc = 0.6962\n",
      "Epoch 34, Batch 20650:  Train cost = 0.6302, Train acc = 0.7969 Val cost = 0.8918, Val acc = 0.6987\n",
      "Epoch 34, Batch 20700:  Train cost = 0.6318, Train acc = 0.8281 Val cost = 0.8993, Val acc = 0.6976\n",
      "Epoch 34, Batch 20750:  Train cost = 0.5344, Train acc = 0.7812 Val cost = 0.8993, Val acc = 0.6988\n"
     ]
    },
    {
     "name": "stdout",
     "output_type": "stream",
     "text": [
      "Epoch 34, Batch 20800:  Train cost = 0.4278, Train acc = 0.8594 Val cost = 0.8843, Val acc = 0.7027\n",
      "Epoch 34, Batch 20850:  Train cost = 0.4284, Train acc = 0.8438 Val cost = 0.8989, Val acc = 0.6959\n",
      "Epoch 34, Batch 20900:  Train cost = 0.5593, Train acc = 0.8438 Val cost = 0.9445, Val acc = 0.6840\n",
      "Epoch 34, Batch 20950:  Train cost = 0.5584, Train acc = 0.7812 Val cost = 0.8988, Val acc = 0.7006\n",
      "Epoch 34, Batch 21000:  Train cost = 0.6077, Train acc = 0.7969 Val cost = 0.8874, Val acc = 0.6995\n",
      "Epoch 34, Batch 21050:  Train cost = 0.4784, Train acc = 0.7812 Val cost = 0.9103, Val acc = 0.6935\n",
      "Epoch 34, Batch 21100:  Train cost = 0.4212, Train acc = 0.8438 Val cost = 0.8949, Val acc = 0.6981\n",
      "Epoch 34, Batch 21150:  Train cost = 0.5206, Train acc = 0.8125 Val cost = 0.9011, Val acc = 0.6984\n",
      "Epoch 34, Batch 21200:  Train cost = 0.4416, Train acc = 0.8750 Val cost = 0.9073, Val acc = 0.6956\n",
      "Epoch 34, Batch 21250:  Train cost = 0.4773, Train acc = 0.8594 Val cost = 0.8915, Val acc = 0.7024\n",
      "Epoch 35, Batch 21300:  Train cost = 0.4447, Train acc = 0.8594 Val cost = 0.8923, Val acc = 0.7012\n",
      "Epoch 35, Batch 21350:  Train cost = 0.3946, Train acc = 0.8906 Val cost = 0.8996, Val acc = 0.6959\n",
      "Epoch 35, Batch 21400:  Train cost = 0.6647, Train acc = 0.8125 Val cost = 0.9264, Val acc = 0.6909\n",
      "Epoch 35, Batch 21450:  Train cost = 0.3912, Train acc = 0.8438 Val cost = 0.8952, Val acc = 0.6987\n",
      "Epoch 35, Batch 21500:  Train cost = 0.4410, Train acc = 0.8750 Val cost = 0.8999, Val acc = 0.6960\n",
      "Epoch 35, Batch 21550:  Train cost = 0.3478, Train acc = 0.9219 Val cost = 0.9146, Val acc = 0.6966\n",
      "Epoch 35, Batch 21600:  Train cost = 0.6195, Train acc = 0.7656 Val cost = 0.9237, Val acc = 0.6919\n",
      "Epoch 35, Batch 21650:  Train cost = 0.6052, Train acc = 0.7969 Val cost = 0.8909, Val acc = 0.7047\n",
      "Epoch 35, Batch 21700:  Train cost = 0.3256, Train acc = 0.8906 Val cost = 0.9260, Val acc = 0.6897\n",
      "Epoch 35, Batch 21750:  Train cost = 0.5546, Train acc = 0.8281 Val cost = 0.8933, Val acc = 0.7020\n",
      "Epoch 35, Batch 21800:  Train cost = 0.6786, Train acc = 0.7344 Val cost = 0.9088, Val acc = 0.6979\n",
      "Epoch 35, Batch 21850:  Train cost = 0.5089, Train acc = 0.8438 Val cost = 0.9025, Val acc = 0.6974\n",
      "Epoch 36, Batch 21900:  Train cost = 0.4817, Train acc = 0.8594 Val cost = 0.8887, Val acc = 0.7027\n",
      "Epoch 36, Batch 21950:  Train cost = 0.4131, Train acc = 0.8906 Val cost = 0.9054, Val acc = 0.6993\n",
      "Epoch 36, Batch 22000:  Train cost = 0.5580, Train acc = 0.8594 Val cost = 0.8946, Val acc = 0.6998\n",
      "Epoch 36, Batch 22050:  Train cost = 0.4549, Train acc = 0.8281 Val cost = 0.9067, Val acc = 0.6954\n",
      "Epoch 36, Batch 22100:  Train cost = 0.5482, Train acc = 0.8125 Val cost = 0.9218, Val acc = 0.6955\n",
      "Epoch 36, Batch 22150:  Train cost = 0.5129, Train acc = 0.8281 Val cost = 0.9025, Val acc = 0.7025\n",
      "Epoch 36, Batch 22200:  Train cost = 0.4583, Train acc = 0.8438 Val cost = 0.8920, Val acc = 0.7045\n",
      "Epoch 36, Batch 22250:  Train cost = 0.3398, Train acc = 0.8594 Val cost = 0.8988, Val acc = 0.7006\n",
      "Epoch 36, Batch 22300:  Train cost = 0.5296, Train acc = 0.7969 Val cost = 0.9143, Val acc = 0.6961\n",
      "Epoch 36, Batch 22350:  Train cost = 0.5937, Train acc = 0.7812 Val cost = 0.9126, Val acc = 0.6977\n",
      "Epoch 36, Batch 22400:  Train cost = 0.3799, Train acc = 0.8906 Val cost = 0.8974, Val acc = 0.6976\n",
      "Epoch 36, Batch 22450:  Train cost = 0.6532, Train acc = 0.8281 Val cost = 0.9093, Val acc = 0.6952\n",
      "Epoch 36, Batch 22500:  Train cost = 0.4383, Train acc = 0.8594 Val cost = 0.8996, Val acc = 0.6984\n",
      "Epoch 37, Batch 22550:  Train cost = 0.3059, Train acc = 0.9375 Val cost = 0.9121, Val acc = 0.6981\n",
      "Epoch 37, Batch 22600:  Train cost = 0.4385, Train acc = 0.8750 Val cost = 0.8966, Val acc = 0.7002\n",
      "Epoch 37, Batch 22650:  Train cost = 0.5239, Train acc = 0.8281 Val cost = 0.8915, Val acc = 0.7038\n",
      "Epoch 37, Batch 22700:  Train cost = 0.3946, Train acc = 0.8438 Val cost = 0.9074, Val acc = 0.7019\n",
      "Epoch 37, Batch 22750:  Train cost = 0.5573, Train acc = 0.7969 Val cost = 0.8915, Val acc = 0.7014\n",
      "Epoch 37, Batch 22800:  Train cost = 0.5923, Train acc = 0.7812 Val cost = 0.9095, Val acc = 0.6973\n",
      "Epoch 37, Batch 22850:  Train cost = 0.4262, Train acc = 0.8125 Val cost = 0.8947, Val acc = 0.7022\n",
      "Epoch 37, Batch 22900:  Train cost = 0.3302, Train acc = 0.8750 Val cost = 0.9164, Val acc = 0.6965\n",
      "Epoch 37, Batch 22950:  Train cost = 0.4478, Train acc = 0.8281 Val cost = 0.9005, Val acc = 0.6975\n",
      "Epoch 37, Batch 23000:  Train cost = 0.5331, Train acc = 0.8594 Val cost = 0.9149, Val acc = 0.6951\n",
      "Epoch 37, Batch 23050:  Train cost = 0.5045, Train acc = 0.8438 Val cost = 0.8942, Val acc = 0.7039\n",
      "Epoch 37, Batch 23100:  Train cost = 0.4481, Train acc = 0.8750 Val cost = 0.8952, Val acc = 0.7005\n",
      "Epoch 38, Batch 23150:  Train cost = 0.5379, Train acc = 0.8281 Val cost = 0.9036, Val acc = 0.7012\n",
      "Epoch 38, Batch 23200:  Train cost = 0.6083, Train acc = 0.7656 Val cost = 0.9077, Val acc = 0.7011\n",
      "Epoch 38, Batch 23250:  Train cost = 0.5750, Train acc = 0.8125 Val cost = 0.9085, Val acc = 0.6998\n",
      "Epoch 38, Batch 23300:  Train cost = 0.3765, Train acc = 0.8750 Val cost = 0.9066, Val acc = 0.7027\n",
      "Epoch 38, Batch 23350:  Train cost = 0.4940, Train acc = 0.8438 Val cost = 0.9025, Val acc = 0.6989\n",
      "Epoch 38, Batch 23400:  Train cost = 0.4937, Train acc = 0.8438 Val cost = 0.8976, Val acc = 0.7025\n",
      "Epoch 38, Batch 23450:  Train cost = 0.3978, Train acc = 0.8750 Val cost = 0.9266, Val acc = 0.6965\n",
      "Epoch 38, Batch 23500:  Train cost = 0.7014, Train acc = 0.7500 Val cost = 0.9188, Val acc = 0.6980\n",
      "Epoch 38, Batch 23550:  Train cost = 0.5560, Train acc = 0.7500 Val cost = 0.9166, Val acc = 0.6970\n",
      "Epoch 38, Batch 23600:  Train cost = 0.6376, Train acc = 0.8281 Val cost = 0.9096, Val acc = 0.7020\n",
      "Epoch 38, Batch 23650:  Train cost = 0.4157, Train acc = 0.8906 Val cost = 0.9022, Val acc = 0.7002\n",
      "Epoch 38, Batch 23700:  Train cost = 0.6298, Train acc = 0.8281 Val cost = 0.9043, Val acc = 0.7061\n",
      "Epoch 38, Batch 23750:  Train cost = 0.7371, Train acc = 0.7188 Val cost = 0.9123, Val acc = 0.6975\n",
      "Epoch 39, Batch 23800:  Train cost = 0.5588, Train acc = 0.8125 Val cost = 0.9062, Val acc = 0.7014\n",
      "Epoch 39, Batch 23850:  Train cost = 0.3647, Train acc = 0.8906 Val cost = 0.9134, Val acc = 0.7039\n",
      "Epoch 39, Batch 23900:  Train cost = 0.6827, Train acc = 0.7812 Val cost = 0.9027, Val acc = 0.7006\n",
      "Epoch 39, Batch 23950:  Train cost = 0.4435, Train acc = 0.8750 Val cost = 0.9105, Val acc = 0.6987\n",
      "Epoch 39, Batch 24000:  Train cost = 0.3987, Train acc = 0.8438 Val cost = 0.9109, Val acc = 0.7024\n",
      "Epoch 39, Batch 24050:  Train cost = 0.4443, Train acc = 0.8281 Val cost = 0.9132, Val acc = 0.7037\n",
      "Epoch 39, Batch 24100:  Train cost = 0.4204, Train acc = 0.8594 Val cost = 0.9049, Val acc = 0.7007\n",
      "Epoch 39, Batch 24150:  Train cost = 0.4802, Train acc = 0.8906 Val cost = 0.9094, Val acc = 0.7029\n",
      "Epoch 39, Batch 24200:  Train cost = 0.3435, Train acc = 0.8594 Val cost = 0.9108, Val acc = 0.6972\n",
      "Epoch 39, Batch 24250:  Train cost = 0.3186, Train acc = 0.8906 Val cost = 0.9348, Val acc = 0.6952\n",
      "Epoch 39, Batch 24300:  Train cost = 0.6329, Train acc = 0.7969 Val cost = 0.9191, Val acc = 0.7011\n",
      "Epoch 39, Batch 24350:  Train cost = 0.4504, Train acc = 0.8281 Val cost = 0.9111, Val acc = 0.6995\n",
      "Epoch 40, Batch 24400:  Train cost = 0.2933, Train acc = 0.8906 Val cost = 0.9141, Val acc = 0.7013\n",
      "Epoch 40, Batch 24450:  Train cost = 0.4030, Train acc = 0.8594 Val cost = 0.9122, Val acc = 0.7046\n",
      "Epoch 40, Batch 24500:  Train cost = 0.4115, Train acc = 0.8594 Val cost = 0.9031, Val acc = 0.7051\n",
      "Epoch 40, Batch 24550:  Train cost = 0.4094, Train acc = 0.8594 Val cost = 0.9183, Val acc = 0.6986\n",
      "Epoch 40, Batch 24600:  Train cost = 0.4811, Train acc = 0.8281 Val cost = 0.9183, Val acc = 0.6986\n",
      "Epoch 40, Batch 24650:  Train cost = 0.5282, Train acc = 0.8125 Val cost = 0.9121, Val acc = 0.6986\n",
      "Epoch 40, Batch 24700:  Train cost = 0.4891, Train acc = 0.7969 Val cost = 0.9361, Val acc = 0.6937\n",
      "Epoch 40, Batch 24750:  Train cost = 0.4372, Train acc = 0.8594 Val cost = 0.9300, Val acc = 0.6991\n",
      "Epoch 40, Batch 24800:  Train cost = 0.4021, Train acc = 0.8906 Val cost = 0.9070, Val acc = 0.7060\n",
      "Epoch 40, Batch 24850:  Train cost = 0.4103, Train acc = 0.8750 Val cost = 0.9235, Val acc = 0.6990\n"
     ]
    },
    {
     "name": "stdout",
     "output_type": "stream",
     "text": [
      "Epoch 40, Batch 24900:  Train cost = 0.4291, Train acc = 0.8438 Val cost = 0.9115, Val acc = 0.7020\n",
      "Epoch 40, Batch 24950:  Train cost = 0.5081, Train acc = 0.8594 Val cost = 0.9243, Val acc = 0.6975\n",
      "Epoch 40, Batch 25000:  Train cost = 0.5953, Train acc = 0.7969 Val cost = 0.9114, Val acc = 0.7065\n",
      "Epoch 41, Batch 25050:  Train cost = 0.5534, Train acc = 0.7969 Val cost = 0.9077, Val acc = 0.7039\n",
      "Epoch 41, Batch 25100:  Train cost = 0.4193, Train acc = 0.8438 Val cost = 0.9221, Val acc = 0.7000\n",
      "Epoch 41, Batch 25150:  Train cost = 0.6006, Train acc = 0.8125 Val cost = 0.9129, Val acc = 0.7012\n",
      "Epoch 41, Batch 25200:  Train cost = 0.3527, Train acc = 0.9219 Val cost = 0.9293, Val acc = 0.7030\n",
      "Epoch 41, Batch 25250:  Train cost = 0.5487, Train acc = 0.8125 Val cost = 0.9312, Val acc = 0.7009\n",
      "Epoch 41, Batch 25300:  Train cost = 0.6051, Train acc = 0.8125 Val cost = 0.9251, Val acc = 0.7014\n",
      "Epoch 41, Batch 25350:  Train cost = 0.4028, Train acc = 0.8594 Val cost = 0.9295, Val acc = 0.6983\n",
      "Epoch 41, Batch 25400:  Train cost = 0.4863, Train acc = 0.8125 Val cost = 0.9178, Val acc = 0.7032\n",
      "Epoch 41, Batch 25450:  Train cost = 0.5885, Train acc = 0.7969 Val cost = 0.9104, Val acc = 0.7068\n",
      "Epoch 41, Batch 25500:  Train cost = 0.3231, Train acc = 0.8906 Val cost = 0.9133, Val acc = 0.7006\n",
      "Epoch 41, Batch 25550:  Train cost = 0.4933, Train acc = 0.9062 Val cost = 0.9209, Val acc = 0.7047\n",
      "Epoch 41, Batch 25600:  Train cost = 0.5272, Train acc = 0.7969 Val cost = 0.9203, Val acc = 0.7034\n",
      "Epoch 42, Batch 25650:  Train cost = 0.3679, Train acc = 0.8906 Val cost = 0.9198, Val acc = 0.7039\n",
      "Epoch 42, Batch 25700:  Train cost = 0.5252, Train acc = 0.8438 Val cost = 0.9194, Val acc = 0.7036\n",
      "Epoch 42, Batch 25750:  Train cost = 0.4441, Train acc = 0.8281 Val cost = 0.9342, Val acc = 0.6982\n",
      "Epoch 42, Batch 25800:  Train cost = 0.6457, Train acc = 0.7500 Val cost = 0.9324, Val acc = 0.7021\n",
      "Epoch 42, Batch 25850:  Train cost = 0.3731, Train acc = 0.8438 Val cost = 0.9557, Val acc = 0.6952\n",
      "Epoch 42, Batch 25900:  Train cost = 0.5315, Train acc = 0.8594 Val cost = 0.9285, Val acc = 0.7032\n",
      "Epoch 42, Batch 25950:  Train cost = 0.5804, Train acc = 0.7656 Val cost = 0.9378, Val acc = 0.7008\n",
      "Epoch 42, Batch 26000:  Train cost = 0.4869, Train acc = 0.7969 Val cost = 0.9298, Val acc = 0.6996\n",
      "Epoch 42, Batch 26050:  Train cost = 0.5776, Train acc = 0.8750 Val cost = 0.9213, Val acc = 0.7066\n",
      "Epoch 42, Batch 26100:  Train cost = 0.4845, Train acc = 0.8594 Val cost = 0.9352, Val acc = 0.7010\n",
      "Epoch 42, Batch 26150:  Train cost = 0.5147, Train acc = 0.8594 Val cost = 0.9228, Val acc = 0.7050\n",
      "Epoch 42, Batch 26200:  Train cost = 0.4748, Train acc = 0.8125 Val cost = 0.9248, Val acc = 0.7055\n",
      "Epoch 42, Batch 26250:  Train cost = 0.4749, Train acc = 0.8906 Val cost = 0.9190, Val acc = 0.7085\n",
      "Epoch 43, Batch 26300:  Train cost = 0.6053, Train acc = 0.8281 Val cost = 0.9438, Val acc = 0.6953\n",
      "Epoch 43, Batch 26350:  Train cost = 0.4108, Train acc = 0.8906 Val cost = 0.9212, Val acc = 0.7033\n",
      "Epoch 43, Batch 26400:  Train cost = 0.3544, Train acc = 0.8281 Val cost = 0.9187, Val acc = 0.7090\n",
      "Epoch 43, Batch 26450:  Train cost = 0.5380, Train acc = 0.7969 Val cost = 0.9299, Val acc = 0.7031\n",
      "Epoch 43, Batch 26500:  Train cost = 0.6209, Train acc = 0.8438 Val cost = 0.9322, Val acc = 0.7042\n",
      "Epoch 43, Batch 26550:  Train cost = 0.4024, Train acc = 0.8281 Val cost = 0.9340, Val acc = 0.6982\n",
      "Epoch 43, Batch 26600:  Train cost = 0.3971, Train acc = 0.8438 Val cost = 0.9352, Val acc = 0.7017\n",
      "Epoch 43, Batch 26650:  Train cost = 0.5042, Train acc = 0.8281 Val cost = 0.9517, Val acc = 0.7000\n",
      "Epoch 43, Batch 26700:  Train cost = 0.4280, Train acc = 0.8281 Val cost = 0.9287, Val acc = 0.7020\n",
      "Epoch 43, Batch 26750:  Train cost = 0.3974, Train acc = 0.8750 Val cost = 0.9291, Val acc = 0.7031\n",
      "Epoch 43, Batch 26800:  Train cost = 0.4401, Train acc = 0.8438 Val cost = 0.9379, Val acc = 0.7045\n",
      "Epoch 43, Batch 26850:  Train cost = 0.5073, Train acc = 0.8281 Val cost = 0.9264, Val acc = 0.7054\n",
      "Epoch 44, Batch 26900:  Train cost = 0.4135, Train acc = 0.9062 Val cost = 0.9313, Val acc = 0.7065\n",
      "Epoch 44, Batch 26950:  Train cost = 0.2589, Train acc = 0.9062 Val cost = 0.9293, Val acc = 0.7076\n",
      "Epoch 44, Batch 27000:  Train cost = 0.2685, Train acc = 0.9062 Val cost = 0.9464, Val acc = 0.6977\n",
      "Epoch 44, Batch 27050:  Train cost = 0.4080, Train acc = 0.8750 Val cost = 0.9398, Val acc = 0.7033\n",
      "Epoch 44, Batch 27100:  Train cost = 0.3368, Train acc = 0.8906 Val cost = 0.9249, Val acc = 0.7058\n",
      "Epoch 44, Batch 27150:  Train cost = 0.3844, Train acc = 0.8438 Val cost = 0.9329, Val acc = 0.7043\n",
      "Epoch 44, Batch 27200:  Train cost = 0.3153, Train acc = 0.8906 Val cost = 0.9590, Val acc = 0.6999\n",
      "Epoch 44, Batch 27250:  Train cost = 0.3426, Train acc = 0.8750 Val cost = 0.9442, Val acc = 0.7054\n",
      "Epoch 44, Batch 27300:  Train cost = 0.4885, Train acc = 0.8594 Val cost = 0.9441, Val acc = 0.6995\n",
      "Epoch 44, Batch 27350:  Train cost = 0.3682, Train acc = 0.8906 Val cost = 0.9451, Val acc = 0.7030\n",
      "Epoch 44, Batch 27400:  Train cost = 0.5613, Train acc = 0.8594 Val cost = 0.9584, Val acc = 0.7019\n",
      "Epoch 44, Batch 27450:  Train cost = 0.5103, Train acc = 0.8125 Val cost = 0.9353, Val acc = 0.7001\n",
      "Epoch 44, Batch 27500:  Train cost = 0.4525, Train acc = 0.9062 Val cost = 0.9296, Val acc = 0.7042\n",
      "Epoch 45, Batch 27550:  Train cost = 0.4125, Train acc = 0.8281 Val cost = 0.9342, Val acc = 0.7042\n",
      "Epoch 45, Batch 27600:  Train cost = 0.6652, Train acc = 0.7812 Val cost = 0.9597, Val acc = 0.7024\n",
      "Epoch 45, Batch 27650:  Train cost = 0.3527, Train acc = 0.8906 Val cost = 0.9476, Val acc = 0.7011\n",
      "Epoch 45, Batch 27700:  Train cost = 0.3078, Train acc = 0.8906 Val cost = 0.9464, Val acc = 0.7038\n",
      "Epoch 45, Batch 27750:  Train cost = 0.4869, Train acc = 0.8125 Val cost = 0.9370, Val acc = 0.7004\n",
      "Epoch 45, Batch 27800:  Train cost = 0.2692, Train acc = 0.9219 Val cost = 0.9572, Val acc = 0.7006\n",
      "Epoch 45, Batch 27850:  Train cost = 0.4376, Train acc = 0.9062 Val cost = 0.9509, Val acc = 0.7020\n",
      "Epoch 45, Batch 27900:  Train cost = 0.4914, Train acc = 0.8281 Val cost = 0.9363, Val acc = 0.7044\n",
      "Epoch 45, Batch 27950:  Train cost = 0.4888, Train acc = 0.7969 Val cost = 0.9389, Val acc = 0.7024\n",
      "Epoch 45, Batch 28000:  Train cost = 0.5728, Train acc = 0.8125 Val cost = 0.9559, Val acc = 0.7029\n",
      "Epoch 45, Batch 28050:  Train cost = 0.4349, Train acc = 0.8594 Val cost = 0.9497, Val acc = 0.7019\n",
      "Epoch 45, Batch 28100:  Train cost = 0.2760, Train acc = 0.9062 Val cost = 0.9360, Val acc = 0.7063\n",
      "Epoch 46, Batch 28150:  Train cost = 0.3999, Train acc = 0.9219 Val cost = 0.9440, Val acc = 0.7075\n",
      "Epoch 46, Batch 28200:  Train cost = 0.3284, Train acc = 0.8750 Val cost = 0.9440, Val acc = 0.7046\n",
      "Epoch 46, Batch 28250:  Train cost = 0.4565, Train acc = 0.8594 Val cost = 0.9472, Val acc = 0.7049\n",
      "Epoch 46, Batch 28300:  Train cost = 0.3645, Train acc = 0.8594 Val cost = 0.9484, Val acc = 0.7005\n",
      "Epoch 46, Batch 28350:  Train cost = 0.5792, Train acc = 0.8125 Val cost = 0.9515, Val acc = 0.6990\n",
      "Epoch 46, Batch 28400:  Train cost = 0.3729, Train acc = 0.8906 Val cost = 0.9505, Val acc = 0.7056\n",
      "Epoch 46, Batch 28450:  Train cost = 0.4151, Train acc = 0.8594 Val cost = 0.9400, Val acc = 0.7082\n",
      "Epoch 46, Batch 28500:  Train cost = 0.3571, Train acc = 0.8750 Val cost = 0.9583, Val acc = 0.7010\n",
      "Epoch 46, Batch 28550:  Train cost = 0.2951, Train acc = 0.9531 Val cost = 0.9438, Val acc = 0.7063\n",
      "Epoch 46, Batch 28600:  Train cost = 0.3029, Train acc = 0.8906 Val cost = 0.9459, Val acc = 0.7054\n"
     ]
    },
    {
     "ename": "KeyboardInterrupt",
     "evalue": "",
     "output_type": "error",
     "traceback": [
      "\u001b[0;31m---------------------------------------------------------------------------\u001b[0m",
      "\u001b[0;31mKeyboardInterrupt\u001b[0m                         Traceback (most recent call last)",
      "\u001b[0;32m<ipython-input-30-1d1cf7535530>\u001b[0m in \u001b[0;36m<module>\u001b[0;34m()\u001b[0m\n\u001b[1;32m     25\u001b[0m \u001b[0;34m\u001b[0m\u001b[0m\n\u001b[1;32m     26\u001b[0m             valid_cost = session.run(cost, feed_dict={\n\u001b[0;32m---> 27\u001b[0;31m                 inputs: val_data_norm, targets: val_labels_ohe, keep_prob: 1.})\n\u001b[0m\u001b[1;32m     28\u001b[0m \u001b[0;34m\u001b[0m\u001b[0m\n\u001b[1;32m     29\u001b[0m             valid_acc = session.run(accuracy, feed_dict={\n",
      "\u001b[0;32m~/.pyenv/versions/3.6.1/lib/python3.6/site-packages/tensorflow/python/client/session.py\u001b[0m in \u001b[0;36mrun\u001b[0;34m(self, fetches, feed_dict, options, run_metadata)\u001b[0m\n\u001b[1;32m    787\u001b[0m     \u001b[0;32mtry\u001b[0m\u001b[0;34m:\u001b[0m\u001b[0;34m\u001b[0m\u001b[0m\n\u001b[1;32m    788\u001b[0m       result = self._run(None, fetches, feed_dict, options_ptr,\n\u001b[0;32m--> 789\u001b[0;31m                          run_metadata_ptr)\n\u001b[0m\u001b[1;32m    790\u001b[0m       \u001b[0;32mif\u001b[0m \u001b[0mrun_metadata\u001b[0m\u001b[0;34m:\u001b[0m\u001b[0;34m\u001b[0m\u001b[0m\n\u001b[1;32m    791\u001b[0m         \u001b[0mproto_data\u001b[0m \u001b[0;34m=\u001b[0m \u001b[0mtf_session\u001b[0m\u001b[0;34m.\u001b[0m\u001b[0mTF_GetBuffer\u001b[0m\u001b[0;34m(\u001b[0m\u001b[0mrun_metadata_ptr\u001b[0m\u001b[0;34m)\u001b[0m\u001b[0;34m\u001b[0m\u001b[0m\n",
      "\u001b[0;32m~/.pyenv/versions/3.6.1/lib/python3.6/site-packages/tensorflow/python/client/session.py\u001b[0m in \u001b[0;36m_run\u001b[0;34m(self, handle, fetches, feed_dict, options, run_metadata)\u001b[0m\n\u001b[1;32m    995\u001b[0m     \u001b[0;32mif\u001b[0m \u001b[0mfinal_fetches\u001b[0m \u001b[0;32mor\u001b[0m \u001b[0mfinal_targets\u001b[0m\u001b[0;34m:\u001b[0m\u001b[0;34m\u001b[0m\u001b[0m\n\u001b[1;32m    996\u001b[0m       results = self._do_run(handle, final_targets, final_fetches,\n\u001b[0;32m--> 997\u001b[0;31m                              feed_dict_string, options, run_metadata)\n\u001b[0m\u001b[1;32m    998\u001b[0m     \u001b[0;32melse\u001b[0m\u001b[0;34m:\u001b[0m\u001b[0;34m\u001b[0m\u001b[0m\n\u001b[1;32m    999\u001b[0m       \u001b[0mresults\u001b[0m \u001b[0;34m=\u001b[0m \u001b[0;34m[\u001b[0m\u001b[0;34m]\u001b[0m\u001b[0;34m\u001b[0m\u001b[0m\n",
      "\u001b[0;32m~/.pyenv/versions/3.6.1/lib/python3.6/site-packages/tensorflow/python/client/session.py\u001b[0m in \u001b[0;36m_do_run\u001b[0;34m(self, handle, target_list, fetch_list, feed_dict, options, run_metadata)\u001b[0m\n\u001b[1;32m   1130\u001b[0m     \u001b[0;32mif\u001b[0m \u001b[0mhandle\u001b[0m \u001b[0;32mis\u001b[0m \u001b[0;32mNone\u001b[0m\u001b[0;34m:\u001b[0m\u001b[0;34m\u001b[0m\u001b[0m\n\u001b[1;32m   1131\u001b[0m       return self._do_call(_run_fn, self._session, feed_dict, fetch_list,\n\u001b[0;32m-> 1132\u001b[0;31m                            target_list, options, run_metadata)\n\u001b[0m\u001b[1;32m   1133\u001b[0m     \u001b[0;32melse\u001b[0m\u001b[0;34m:\u001b[0m\u001b[0;34m\u001b[0m\u001b[0m\n\u001b[1;32m   1134\u001b[0m       return self._do_call(_prun_fn, self._session, handle, feed_dict,\n",
      "\u001b[0;32m~/.pyenv/versions/3.6.1/lib/python3.6/site-packages/tensorflow/python/client/session.py\u001b[0m in \u001b[0;36m_do_call\u001b[0;34m(self, fn, *args)\u001b[0m\n\u001b[1;32m   1137\u001b[0m   \u001b[0;32mdef\u001b[0m \u001b[0m_do_call\u001b[0m\u001b[0;34m(\u001b[0m\u001b[0mself\u001b[0m\u001b[0;34m,\u001b[0m \u001b[0mfn\u001b[0m\u001b[0;34m,\u001b[0m \u001b[0;34m*\u001b[0m\u001b[0margs\u001b[0m\u001b[0;34m)\u001b[0m\u001b[0;34m:\u001b[0m\u001b[0;34m\u001b[0m\u001b[0m\n\u001b[1;32m   1138\u001b[0m     \u001b[0;32mtry\u001b[0m\u001b[0;34m:\u001b[0m\u001b[0;34m\u001b[0m\u001b[0m\n\u001b[0;32m-> 1139\u001b[0;31m       \u001b[0;32mreturn\u001b[0m \u001b[0mfn\u001b[0m\u001b[0;34m(\u001b[0m\u001b[0;34m*\u001b[0m\u001b[0margs\u001b[0m\u001b[0;34m)\u001b[0m\u001b[0;34m\u001b[0m\u001b[0m\n\u001b[0m\u001b[1;32m   1140\u001b[0m     \u001b[0;32mexcept\u001b[0m \u001b[0merrors\u001b[0m\u001b[0;34m.\u001b[0m\u001b[0mOpError\u001b[0m \u001b[0;32mas\u001b[0m \u001b[0me\u001b[0m\u001b[0;34m:\u001b[0m\u001b[0;34m\u001b[0m\u001b[0m\n\u001b[1;32m   1141\u001b[0m       \u001b[0mmessage\u001b[0m \u001b[0;34m=\u001b[0m \u001b[0mcompat\u001b[0m\u001b[0;34m.\u001b[0m\u001b[0mas_text\u001b[0m\u001b[0;34m(\u001b[0m\u001b[0me\u001b[0m\u001b[0;34m.\u001b[0m\u001b[0mmessage\u001b[0m\u001b[0;34m)\u001b[0m\u001b[0;34m\u001b[0m\u001b[0m\n",
      "\u001b[0;32m~/.pyenv/versions/3.6.1/lib/python3.6/site-packages/tensorflow/python/client/session.py\u001b[0m in \u001b[0;36m_run_fn\u001b[0;34m(session, feed_dict, fetch_list, target_list, options, run_metadata)\u001b[0m\n\u001b[1;32m   1119\u001b[0m         return tf_session.TF_Run(session, options,\n\u001b[1;32m   1120\u001b[0m                                  \u001b[0mfeed_dict\u001b[0m\u001b[0;34m,\u001b[0m \u001b[0mfetch_list\u001b[0m\u001b[0;34m,\u001b[0m \u001b[0mtarget_list\u001b[0m\u001b[0;34m,\u001b[0m\u001b[0;34m\u001b[0m\u001b[0m\n\u001b[0;32m-> 1121\u001b[0;31m                                  status, run_metadata)\n\u001b[0m\u001b[1;32m   1122\u001b[0m \u001b[0;34m\u001b[0m\u001b[0m\n\u001b[1;32m   1123\u001b[0m     \u001b[0;32mdef\u001b[0m \u001b[0m_prun_fn\u001b[0m\u001b[0;34m(\u001b[0m\u001b[0msession\u001b[0m\u001b[0;34m,\u001b[0m \u001b[0mhandle\u001b[0m\u001b[0;34m,\u001b[0m \u001b[0mfeed_dict\u001b[0m\u001b[0;34m,\u001b[0m \u001b[0mfetch_list\u001b[0m\u001b[0;34m)\u001b[0m\u001b[0;34m:\u001b[0m\u001b[0;34m\u001b[0m\u001b[0m\n",
      "\u001b[0;31mKeyboardInterrupt\u001b[0m: "
     ]
    }
   ],
   "source": [
    "session.run(tf.global_variables_initializer())\n",
    "\n",
    "batch_count = 0\n",
    "info = {'train_cost':[], 'train_acc':[], 'valid_cost':[], 'valid_acc':[]}\n",
    "for epoch in range(epochs):\n",
    "    mini_batches = prepare_mini_batches(train_data_norm, train_labels_ohe, batch_size)\n",
    "\n",
    "    while mini_batches:\n",
    "        data_batch, label_batch = mini_batches.pop()\n",
    "        batch_count += 1\n",
    "\n",
    "        session.run(optimizer, feed_dict={inputs: data_batch, \n",
    "                                          targets: label_batch, \n",
    "                                          learning_rate: lr,\n",
    "                                          keep_prob: keep_probability})\n",
    "        if (batch_count % 50) == 0:\n",
    "            train_cost = session.run(cost, feed_dict={\n",
    "                    inputs: data_batch, targets: label_batch, keep_prob: 1.})\n",
    "\n",
    "            train_acc = session.run(accuracy, feed_dict={\n",
    "                inputs: data_batch, targets: label_batch, keep_prob: 1.})\n",
    "\n",
    "            info[\"train_cost\"].append(train_cost)\n",
    "            info[\"train_acc\"].append(train_acc)\n",
    "\n",
    "            valid_cost = session.run(cost, feed_dict={\n",
    "                inputs: val_data_norm, targets: val_labels_ohe, keep_prob: 1.})\n",
    "\n",
    "            valid_acc = session.run(accuracy, feed_dict={\n",
    "                inputs: val_data_norm, targets: val_labels_ohe, keep_prob: 1.})\n",
    "\n",
    "            info[\"valid_cost\"].append(valid_cost)\n",
    "            info[\"valid_acc\"].append(valid_acc)\n",
    "\n",
    "            print('Epoch {}, Batch {}:  '.format(epoch + 1, batch_count), end='')\n",
    "            print(\"Train cost = {:.4f},\".format(train_cost), \n",
    "                  \"Train acc = {:.4f}\".format(train_acc),\n",
    "                  \"Val cost = {:.4f},\".format(valid_cost), \n",
    "                  \"Val acc = {:.4f}\".format(valid_acc))      "
   ]
  },
  {
   "cell_type": "markdown",
   "metadata": {},
   "source": [
    "#### Results"
   ]
  },
  {
   "cell_type": "code",
   "execution_count": 31,
   "metadata": {},
   "outputs": [
    {
     "data": {
      "image/png": "[encoded data removed]",
      "text/plain": [
       "<matplotlib.figure.Figure at 0x119f64240>"
      ]
     },
     "metadata": {},
     "output_type": "display_data"
    }
   ],
   "source": [
    "fig1 = plt.figure()\n",
    "ax1 = fig1.add_subplot(111)\n",
    "ax1.plot(info['train_acc'], label='Training acc')\n",
    "ax1.plot(info['valid_acc'], label='Validation acc')\n",
    "blue_patch = mpatches.Patch(color='#699cef', label='Training accuracy')\n",
    "orange_patch = mpatches.Patch(color='orange', label='Validation accuracy')\n",
    "ax1.legend(handles=[blue_patch, orange_patch])\n",
    "plt.show()"
   ]
  },
  {
   "cell_type": "code",
   "execution_count": 32,
   "metadata": {},
   "outputs": [
    {
     "data": {
      "image/png": "[encoded data removed]",
      "text/plain": [
       "<matplotlib.figure.Figure at 0x11d715550>"
      ]
     },
     "metadata": {},
     "output_type": "display_data"
    }
   ],
   "source": [
    "fig1 = plt.figure()\n",
    "ax2 = fig1.add_subplot(111)\n",
    "ax2.plot(info['train_cost'], label='Training loss')\n",
    "ax2.plot(info['valid_cost'], label='Validation loss')\n",
    "blue_patch = mpatches.Patch(color='#699cef', label='Training cross-entropy')\n",
    "orange_patch = mpatches.Patch(color='orange', label='Validation cross-entropy')\n",
    "ax2.legend(handles=[blue_patch, orange_patch])\n",
    "plt.show()"
   ]
  },
  {
   "cell_type": "markdown",
   "metadata": {},
   "source": [
    "#### Test accuracy"
   ]
  },
  {
   "cell_type": "code",
   "execution_count": 33,
   "metadata": {},
   "outputs": [
    {
     "name": "stdout",
     "output_type": "stream",
     "text": [
      "Test data accuracy: 0.7078\n"
     ]
    }
   ],
   "source": [
    "test_acc = session.run(accuracy, feed_dict={\n",
    "    inputs: test_data_norm, targets: test_labels_ohe, keep_prob: 1.})\n",
    "print(\"Test data accuracy: \" + str(test_acc))"
   ]
  },
  {
   "cell_type": "code",
   "execution_count": null,
   "metadata": {
    "collapsed": true
   },
   "outputs": [],
   "source": [
    "session.close()"
   ]
  }
 ],
 "metadata": {
  "kernelspec": {
   "display_name": "Python 3",
   "language": "python",
   "name": "python3"
  },
  "language_info": {
   "codemirror_mode": {
    "name": "ipython",
    "version": 3
   },
   "file_extension": ".py",
   "mimetype": "text/x-python",
   "name": "python",
   "nbconvert_exporter": "python",
   "pygments_lexer": "ipython3",
   "version": "3.6.1"
  }
 },
 "nbformat": 4,
 "nbformat_minor": 2
}
