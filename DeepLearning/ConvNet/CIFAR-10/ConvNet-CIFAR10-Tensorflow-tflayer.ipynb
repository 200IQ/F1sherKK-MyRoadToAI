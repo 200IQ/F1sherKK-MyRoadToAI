{
 "cells": [
  {
   "cell_type": "code",
   "execution_count": 1,
   "metadata": {
    "collapsed": true
   },
   "outputs": [],
   "source": [
    "import os\n",
    "import tarfile\n",
    "import numpy as np\n",
    "import pickle\n",
    "import random\n",
    "import matplotlib.pyplot as plt\n",
    "import matplotlib.patches as mpatches\n",
    "import tensorflow as tf\n",
    "from urllib.request import urlretrieve\n",
    "from tqdm import tqdm"
   ]
  },
  {
   "cell_type": "code",
   "execution_count": 2,
   "metadata": {
    "collapsed": true
   },
   "outputs": [],
   "source": [
    "%matplotlib inline"
   ]
  },
  {
   "cell_type": "markdown",
   "metadata": {},
   "source": [
    "#### Dataset info"
   ]
  },
  {
   "cell_type": "markdown",
   "metadata": {},
   "source": [
    "CIFAR-10 is a dataset of 60 000 32x32 colour images, collected by Alex Krizhevsky, Vinod Nair, and Geoffrey Hinton. There are 10 different classes with 6000 images per class:\n",
    "\n",
    "- airplane\n",
    "- automobile\n",
    "- bird\n",
    "- cat\n",
    "- deer\n",
    "- dog\n",
    "- frog\n",
    "- horse\n",
    "- ship\n",
    "- truck\n",
    "\n",
    "Dataset is divided into 5 batches with the following naming convention 'data_batch_1', 'data_batch_2' and so on..."
   ]
  },
  {
   "cell_type": "code",
   "execution_count": 3,
   "metadata": {
    "collapsed": true
   },
   "outputs": [],
   "source": [
    "#: https://www.cs.toronto.edu/~kriz/cifar.html\n",
    "DATA_URL = \"https://www.cs.toronto.edu/~kriz/cifar-10-python.tar.gz\"\n",
    "TARG_TZ_FILEPATH = \"./cifar-10-python.tar.gz\"\n",
    "CIFAR10_FILES_FOLDER = './cifar-10-batches-py/'\n",
    "\n",
    "TRAIN_BATCH_FILES = [\n",
    "    \"data_batch_1\",\n",
    "    \"data_batch_2\",\n",
    "    \"data_batch_3\",\n",
    "    \"data_batch_4\",\n",
    "    \"data_batch_5\"\n",
    "]\n",
    "\n",
    "TEST_BATCH_FILE = \"test_batch\"\n",
    "\n",
    "LABELS = ['airplane', 'automobile', 'bird', 'cat', 'deer', 'dog', 'frog', 'horse', 'ship', 'truck']\n",
    "NUM_CLASSES = 10\n",
    "\n",
    "MAX_PIXEL_VALUE = 255\n",
    "IMAGE_WIDTH = 32\n",
    "IMAGE_HEIGHT = 32\n",
    "CHANNELS = 3\n",
    "\n",
    "DATA_I = 0\n",
    "LABELS_I = 1"
   ]
  },
  {
   "cell_type": "markdown",
   "metadata": {},
   "source": [
    "#### Download dataset"
   ]
  },
  {
   "cell_type": "code",
   "execution_count": 4,
   "metadata": {
    "collapsed": true
   },
   "outputs": [],
   "source": [
    "class DLProgress(tqdm):\n",
    "    last_block = 0\n",
    "\n",
    "    def hook(self, block_num=1, block_size=1, total_size=None):\n",
    "        self.total = total_size\n",
    "        self.update((block_num - self.last_block) * block_size)\n",
    "        self.last_block = block_num\n",
    "\n",
    "if not os.path.isfile(TARG_TZ_FILEPATH):\n",
    "    with DLProgress(unit=\"B\", unit_scale=True, miniters=1, desc=\"CIFAR-10\") as pbar:\n",
    "        urlretrieve(DATA_URL, TARG_TZ_FILEPATH, pbar.hook)"
   ]
  },
  {
   "cell_type": "markdown",
   "metadata": {},
   "source": [
    "#### Exctracting data"
   ]
  },
  {
   "cell_type": "markdown",
   "metadata": {},
   "source": [
    "- Unpacking"
   ]
  },
  {
   "cell_type": "code",
   "execution_count": 5,
   "metadata": {
    "collapsed": true
   },
   "outputs": [],
   "source": [
    "if not os.path.isdir(CIFAR10_FILES_FOLDER):\n",
    "    with tarfile.open(TARG_TZ_FILEPATH) as tar:\n",
    "        tar.extractall()\n",
    "        tar.close()"
   ]
  },
  {
   "cell_type": "markdown",
   "metadata": {},
   "source": [
    "- Loading train batches"
   ]
  },
  {
   "cell_type": "code",
   "execution_count": 6,
   "metadata": {
    "collapsed": true
   },
   "outputs": [],
   "source": [
    "train_batches = list()\n",
    "\n",
    "for batch_file in TRAIN_BATCH_FILES: \n",
    "    with open(CIFAR10_FILES_FOLDER + batch_file, mode='rb') as file:\n",
    "        batch = pickle.load(file, encoding='latin1')\n",
    "        \n",
    "        # array of 10000 * 1 length\n",
    "        labels = batch['labels']\n",
    "        \n",
    "        # all channels in single 10000 * 3072 length array\n",
    "        batch_data = batch['data']\n",
    "        \n",
    "        # reshaping to 10000 * 3 * 32 * 32\n",
    "        data = batch_data.reshape((len(batch_data), CHANNELS, IMAGE_WIDTH, IMAGE_HEIGHT))\n",
    "        \n",
    "        # fix indexing\n",
    "        data = data.transpose(0, 2, 3, 1)\n",
    "  \n",
    "        train_batches.append((data, labels))"
   ]
  },
  {
   "cell_type": "markdown",
   "metadata": {},
   "source": [
    "- Load test batch"
   ]
  },
  {
   "cell_type": "code",
   "execution_count": 7,
   "metadata": {
    "collapsed": true
   },
   "outputs": [],
   "source": [
    "test_batch = None\n",
    "\n",
    "with open(CIFAR10_FILES_FOLDER + TEST_BATCH_FILE, mode='rb') as file:\n",
    "        batch = pickle.load(file, encoding='latin1')\n",
    "        \n",
    "        # array of 10000 * 1 length\n",
    "        labels = batch['labels']\n",
    "        \n",
    "         # all channels in single 10000 * 3072 length array\n",
    "        batch_data = batch['data']\n",
    "        \n",
    "        # reshaping to 10000 * 3 * 32 * 32\n",
    "        data = batch_data.reshape((len(batch_data), CHANNELS, IMAGE_WIDTH, IMAGE_HEIGHT))\n",
    "        \n",
    "        # fix indexing\n",
    "        data = data.transpose(0, 2, 3, 1)\n",
    "        \n",
    "        test_batch = (data, labels)"
   ]
  },
  {
   "cell_type": "markdown",
   "metadata": {},
   "source": [
    "#### Present extracted dataset"
   ]
  },
  {
   "cell_type": "code",
   "execution_count": 8,
   "metadata": {
    "collapsed": true
   },
   "outputs": [],
   "source": [
    "def present_batch(batch, batch_index):\n",
    "    features, labels = batch \n",
    "    print(\"Batch no.\" + str(batch_index))\n",
    "    print(\"    - Samples in batch: \" + str(len(features)))\n",
    "    print(\"    - Labels num: \" + str(dict(zip(*np.unique(labels, return_counts=True)))))\n",
    "    \n",
    "def present_sample(batch, sample_id):\n",
    "    features, labels = batch \n",
    "    \n",
    "    sample_image = features[sample_id]\n",
    "    sample_label = labels[sample_id]\n",
    "    \n",
    "    print(\"Sample no.\" + str(sample_id))\n",
    "    print(\"    - Min Value: {} Max Value: {}\".format(sample_image.min(), sample_image.max()))\n",
    "    print(\"    - Shape: {}\".format(sample_image.shape))\n",
    "    print(\"    - Label - Label Id: {} Name: {}\".format(sample_label, LABELS[sample_label]))\n",
    "    \n",
    "    plt.axis('off')\n",
    "    plt.imshow(sample_image)"
   ]
  },
  {
   "cell_type": "code",
   "execution_count": 9,
   "metadata": {
    "scrolled": true
   },
   "outputs": [
    {
     "name": "stdout",
     "output_type": "stream",
     "text": [
      "Batch no.0\n",
      "    - Samples in batch: 10000\n",
      "    - Labels num: {0: 1005, 1: 974, 2: 1032, 3: 1016, 4: 999, 5: 937, 6: 1030, 7: 1001, 8: 1025, 9: 981}\n",
      "Batch no.1\n",
      "    - Samples in batch: 10000\n",
      "    - Labels num: {0: 984, 1: 1007, 2: 1010, 3: 995, 4: 1010, 5: 988, 6: 1008, 7: 1026, 8: 987, 9: 985}\n",
      "Batch no.2\n",
      "    - Samples in batch: 10000\n",
      "    - Labels num: {0: 994, 1: 1042, 2: 965, 3: 997, 4: 990, 5: 1029, 6: 978, 7: 1015, 8: 961, 9: 1029}\n",
      "Batch no.3\n",
      "    - Samples in batch: 10000\n",
      "    - Labels num: {0: 1003, 1: 963, 2: 1041, 3: 976, 4: 1004, 5: 1021, 6: 1004, 7: 981, 8: 1024, 9: 983}\n",
      "Batch no.4\n",
      "    - Samples in batch: 10000\n",
      "    - Labels num: {0: 1014, 1: 1014, 2: 952, 3: 1016, 4: 997, 5: 1025, 6: 980, 7: 977, 8: 1003, 9: 1022}\n"
     ]
    }
   ],
   "source": [
    "for index, batch in enumerate(train_batches):\n",
    "    present_batch(batch, index)"
   ]
  },
  {
   "cell_type": "code",
   "execution_count": 10,
   "metadata": {},
   "outputs": [
    {
     "name": "stdout",
     "output_type": "stream",
     "text": [
      "Sample no.7164\n",
      "    - Min Value: 26 Max Value: 246\n",
      "    - Shape: (32, 32, 3)\n",
      "    - Label - Label Id: 5 Name: dog\n"
     ]
    },
    {
     "data": {
      "image/png": "[encoded data removed]",
      "text/plain": [
       "<matplotlib.figure.Figure at 0x10eac0860>"
      ]
     },
     "metadata": {},
     "output_type": "display_data"
    }
   ],
   "source": [
    "present_sample(train_batches[0], 7164)"
   ]
  },
  {
   "cell_type": "markdown",
   "metadata": {},
   "source": [
    "#### Split data into train, val , test sets"
   ]
  },
  {
   "cell_type": "markdown",
   "metadata": {},
   "source": [
    "- data is already shuffled"
   ]
  },
  {
   "cell_type": "markdown",
   "metadata": {},
   "source": [
    "- concat all batches together"
   ]
  },
  {
   "cell_type": "code",
   "execution_count": 11,
   "metadata": {
    "collapsed": true
   },
   "outputs": [],
   "source": [
    "train_data = list()\n",
    "train_labels = list()\n",
    "for batch in train_batches:\n",
    "    for data, label in zip(batch[DATA_I], batch[LABELS_I]):\n",
    "        train_data.append(data)\n",
    "        train_labels.append(label)\n",
    "assert len(train_data) == len(train_labels)\n",
    "        \n",
    "test_data = list()\n",
    "test_labels = list()\n",
    "for data, label in zip(test_batch[DATA_I], test_batch[LABELS_I]):\n",
    "    test_data.append(data)\n",
    "    test_labels.append(label)\n",
    "assert len(test_data) == len(test_labels)"
   ]
  },
  {
   "cell_type": "markdown",
   "metadata": {},
   "source": [
    "- split data"
   ]
  },
  {
   "cell_type": "code",
   "execution_count": 12,
   "metadata": {
    "collapsed": true
   },
   "outputs": [],
   "source": [
    "split_ratio = 0.2\n",
    "split_index = int(len(train_data) * split_ratio)\n",
    "\n",
    "val_data = train_data[:split_index]\n",
    "val_labels = train_labels[:split_index]\n",
    "\n",
    "train_data = train_data[split_index:]\n",
    "train_labels = train_labels[split_index:]"
   ]
  },
  {
   "cell_type": "code",
   "execution_count": 13,
   "metadata": {},
   "outputs": [
    {
     "name": "stdout",
     "output_type": "stream",
     "text": [
      "Train samples: 40000\n",
      "Validation samples: 10000\n",
      "Test samples: 10000\n"
     ]
    }
   ],
   "source": [
    "print(\"Train samples: \" + str(len(train_data)))\n",
    "print(\"Validation samples: \" + str(len(val_data)))\n",
    "print(\"Test samples: \" + str(len(test_data)))"
   ]
  },
  {
   "cell_type": "markdown",
   "metadata": {},
   "source": [
    "#### Preprocess data"
   ]
  },
  {
   "cell_type": "code",
   "execution_count": 14,
   "metadata": {
    "collapsed": true
   },
   "outputs": [],
   "source": [
    "def normalize(data):\n",
    "    return data / MAX_PIXEL_VALUE\n",
    "\n",
    "def ohe_label(label):\n",
    "    labels_num = len(LABELS)\n",
    "  \n",
    "    encoding_array = np.zeros([labels_num])  \n",
    "    encoding_array[label] = 1\n",
    "        \n",
    "    return encoding_array"
   ]
  },
  {
   "cell_type": "code",
   "execution_count": 15,
   "metadata": {
    "collapsed": true
   },
   "outputs": [],
   "source": [
    "train_data_norm = [normalize(data) for data in train_data]\n",
    "train_labels_ohe = [ohe_label(label) for label in train_labels]\n",
    "\n",
    "val_data_norm = [normalize(data) for data in val_data]\n",
    "val_labels_ohe = [ohe_label(label) for label in val_labels]\n",
    "\n",
    "test_data_norm = [normalize(data) for data in test_data]\n",
    "test_labels_ohe = [ohe_label(label) for label in test_labels]"
   ]
  },
  {
   "cell_type": "code",
   "execution_count": 16,
   "metadata": {},
   "outputs": [
    {
     "name": "stdout",
     "output_type": "stream",
     "text": [
      "Sample no.7124\n",
      "    - Min Value: 0.00784313725490196 Max Value: 0.9137254901960784\n",
      "    - Label: [ 0.  0.  0.  1.  0.  0.  0.  0.  0.  0.]\n"
     ]
    }
   ],
   "source": [
    "sample_to_inspect = 7124\n",
    "sample = train_data_norm[sample_to_inspect]\n",
    "label = train_labels_ohe[sample_to_inspect]\n",
    "print(\"Sample no.\" + str(sample_to_inspect))\n",
    "print(\"    - Min Value: {} Max Value: {}\".format(sample.min(), sample.max()))\n",
    "print(\"    - Label: \" + str(label))"
   ]
  },
  {
   "cell_type": "markdown",
   "metadata": {},
   "source": [
    "#### Building ConvNet - parts"
   ]
  },
  {
   "cell_type": "code",
   "execution_count": 17,
   "metadata": {
    "collapsed": true
   },
   "outputs": [],
   "source": [
    "def conv_net_image_input(image_width, image_height, channels):\n",
    "    return tf.placeholder(tf.float32, shape=[None, image_width, image_height, channels], name='inputs')"
   ]
  },
  {
   "cell_type": "code",
   "execution_count": 18,
   "metadata": {
    "collapsed": true
   },
   "outputs": [],
   "source": [
    "def conv_net_label_input(n_classes):\n",
    "    return tf.placeholder(tf.float32, shape=[None, n_classes], name='labels')"
   ]
  },
  {
   "cell_type": "code",
   "execution_count": 19,
   "metadata": {
    "collapsed": true
   },
   "outputs": [],
   "source": [
    "def conv_net_keep_prob_input():\n",
    "    return tf.placeholder(tf.float32, name=\"keep_prob\")"
   ]
  },
  {
   "cell_type": "code",
   "execution_count": 20,
   "metadata": {
    "collapsed": true
   },
   "outputs": [],
   "source": [
    "def conv_net_is_training_placeholder():\n",
    "    return tf.placeholder(tf.bool)"
   ]
  },
  {
   "cell_type": "code",
   "execution_count": 21,
   "metadata": {
    "collapsed": true
   },
   "outputs": [],
   "source": [
    "def conv_net(inputs, keep_prob, is_training):   \n",
    "    \n",
    "    # Conv Layer - 1, Input 32x32x3, Output 16x16x16\n",
    "    conv1_layer = tf.layers.conv2d(inputs=inputs, filters=16, kernel_size=[3, 3], padding=\"SAME\",\n",
    "                                   activation=tf.nn.relu, kernel_initializer=tf.contrib.layers.xavier_initializer())\n",
    "    conv1_layer_mpool = tf.layers.max_pooling2d(conv1_layer, pool_size=[2, 2], strides=2)\n",
    "    \n",
    "    # Conv Layer - 2, Input 16x16x16, Output 8x8x32\n",
    "    conv2_layer = tf.layers.conv2d(inputs=conv1_layer_mpool, filters=32, kernel_size=[3, 3], padding=\"SAME\",\n",
    "                                   activation=tf.nn.relu, kernel_initializer=tf.contrib.layers.xavier_initializer())\n",
    "    conv2_layer_mpool = tf.layers.max_pooling2d(conv2_layer, pool_size=[2, 2], strides=2)\n",
    "    \n",
    "    # Conv Layer - 3, Input 8x8x32, Output 4x4x32\n",
    "    conv3_layer = tf.layers.conv2d(inputs=conv2_layer_mpool, filters=32, kernel_size=[3, 3], padding=\"SAME\",\n",
    "                                   activation=tf.nn.relu, kernel_initializer=tf.contrib.layers.xavier_initializer())\n",
    "    conv3_layer_mpool = tf.layers.max_pooling2d(conv3_layer, pool_size=[2, 2], strides=2)\n",
    "    \n",
    "    # Conv Layer Flattened\n",
    "    batch_size = tf.shape(conv3_layer_mpool)[0] \n",
    "    flattened_image_size = int(conv3_layer_mpool.get_shape()[1]) * \\\n",
    "        int(conv3_layer_mpool.get_shape()[2]) * int(conv3_layer_mpool.get_shape()[3])\n",
    "    flatten = tf.reshape(conv3_layer_mpool, [batch_size, flattened_image_size])\n",
    "    \n",
    "    # Dense Layer - 1\n",
    "    dense1_layer = tf.layers.dense(inputs=flatten, units=384, activation=tf.nn.relu)\n",
    "    dense1_layer_dropout = tf.layers.dropout(inputs=dense1_layer, rate=keep_prob)\n",
    "    \n",
    "    # Output Layer \n",
    "    output = tf.layers.dense(inputs=dense1_layer_dropout, units=NUM_CLASSES)\n",
    "    \n",
    "    return output"
   ]
  },
  {
   "cell_type": "markdown",
   "metadata": {},
   "source": [
    "#### Building ConvNet - assemble"
   ]
  },
  {
   "cell_type": "markdown",
   "metadata": {},
   "source": [
    "- Reset Tensorflow graph"
   ]
  },
  {
   "cell_type": "code",
   "execution_count": 22,
   "metadata": {
    "collapsed": true
   },
   "outputs": [],
   "source": [
    "tf.reset_default_graph()"
   ]
  },
  {
   "cell_type": "markdown",
   "metadata": {},
   "source": [
    "- Assemble model"
   ]
  },
  {
   "cell_type": "code",
   "execution_count": 23,
   "metadata": {
    "collapsed": true,
    "scrolled": false
   },
   "outputs": [],
   "source": [
    "inputs = conv_net_image_input(IMAGE_WIDTH, IMAGE_HEIGHT, CHANNELS)\n",
    "targets = conv_net_label_input(NUM_CLASSES)\n",
    "keep_prob = conv_net_keep_prob_input()\n",
    "is_training = conv_net_is_training_placeholder()\n",
    "\n",
    "model = conv_net(inputs, keep_prob, is_training)"
   ]
  },
  {
   "cell_type": "markdown",
   "metadata": {},
   "source": [
    "- Cost function, training optimizer, correct predictions, accuracy"
   ]
  },
  {
   "cell_type": "code",
   "execution_count": 24,
   "metadata": {
    "collapsed": true
   },
   "outputs": [],
   "source": [
    "cost = tf.reduce_mean(tf.nn.softmax_cross_entropy_with_logits(logits=model, labels=targets))\n",
    "optimizer = tf.train.AdamOptimizer().minimize(cost)\n",
    "correct_pred = tf.equal(tf.argmax(model, 1), tf.argmax(targets, 1))\n",
    "accuracy = tf.reduce_mean(tf.cast(correct_pred, tf.float32), name='accuracy')"
   ]
  },
  {
   "cell_type": "markdown",
   "metadata": {},
   "source": [
    "#### Batch preparation"
   ]
  },
  {
   "cell_type": "code",
   "execution_count": 25,
   "metadata": {
    "collapsed": true
   },
   "outputs": [],
   "source": [
    "def prepare_mini_batches(data, labels, batch_size):\n",
    "    assert len(data) == len(labels)\n",
    "    \n",
    "    all_batches = list()\n",
    "    for i in range(0, len(data)):\n",
    "        all_batches.append((data[i], labels[i]))\n",
    "    random.shuffle(all_batches)\n",
    "        \n",
    "    mini_batches = list()\n",
    "    while len(all_batches) >= batch_size:\n",
    "        \n",
    "        data_batch = list()\n",
    "        labels_batch = list()\n",
    "        for j in range(0, batch_size):\n",
    "            data, labels = all_batches.pop()\n",
    "            data_batch.append(data)\n",
    "            labels_batch.append(labels)\n",
    "            \n",
    "        mini_batches.append((np.array(data_batch), np.array(labels_batch)))\n",
    "    \n",
    "    return mini_batches"
   ]
  },
  {
   "cell_type": "markdown",
   "metadata": {},
   "source": [
    "#### Hyperparameters"
   ]
  },
  {
   "cell_type": "code",
   "execution_count": 26,
   "metadata": {
    "collapsed": true
   },
   "outputs": [],
   "source": [
    "epochs = 45\n",
    "batch_size = 256\n",
    "keep_probability = 0.5"
   ]
  },
  {
   "cell_type": "markdown",
   "metadata": {},
   "source": [
    "#### Training cycle"
   ]
  },
  {
   "cell_type": "code",
   "execution_count": 27,
   "metadata": {
    "collapsed": true
   },
   "outputs": [],
   "source": [
    "session = tf.Session()"
   ]
  },
  {
   "cell_type": "code",
   "execution_count": 28,
   "metadata": {
    "scrolled": false
   },
   "outputs": [
    {
     "name": "stdout",
     "output_type": "stream",
     "text": [
      "Epoch  1, CIFAR-10 Batch 1:  Train error =  2.26748, Train acc =  0.15234 Val error =  2.30477, Val acc =  0.09760\n",
      "Epoch  1, CIFAR-10 Batch 2:  Train error =  2.28713, Train acc =  0.10547 Val error =  2.29610, Val acc =  0.11190\n",
      "Epoch  1, CIFAR-10 Batch 3:  Train error =  2.26138, Train acc =  0.16406 Val error =  2.29497, Val acc =  0.11230\n",
      "Epoch  1, CIFAR-10 Batch 4:  Train error =  2.28381, Train acc =  0.10938 Val error =  2.28941, Val acc =  0.13640\n",
      "Epoch  1, CIFAR-10 Batch 5:  Train error =  2.27532, Train acc =  0.14844 Val error =  2.28243, Val acc =  0.14830\n",
      "Epoch  1, CIFAR-10 Batch 6:  Train error =  2.26248, Train acc =  0.18359 Val error =  2.27754, Val acc =  0.13550\n",
      "Epoch  1, CIFAR-10 Batch 7:  Train error =  2.25639, Train acc =  0.12891 Val error =  2.27310, Val acc =  0.10750\n",
      "Epoch  1, CIFAR-10 Batch 8:  Train error =  2.26019, Train acc =  0.12109 Val error =  2.26597, Val acc =  0.11240\n",
      "Epoch  1, CIFAR-10 Batch 9:  Train error =  2.23825, Train acc =  0.20703 Val error =  2.25445, Val acc =  0.15170\n",
      "Epoch  1, CIFAR-10 Batch 10:  Train error =  2.24935, Train acc =  0.18750 Val error =  2.23992, Val acc =  0.20730\n",
      "Epoch  1, CIFAR-10 Batch 11:  Train error =  2.22531, Train acc =  0.26562 Val error =  2.22521, Val acc =  0.25370\n",
      "Epoch  1, CIFAR-10 Batch 12:  Train error =  2.22753, Train acc =  0.24609 Val error =  2.20889, Val acc =  0.23980\n",
      "Epoch  1, CIFAR-10 Batch 13:  Train error =  2.16987, Train acc =  0.26172 Val error =  2.18925, Val acc =  0.22100\n",
      "Epoch  1, CIFAR-10 Batch 14:  Train error =  2.14651, Train acc =  0.23047 Val error =  2.16635, Val acc =  0.21990\n",
      "Epoch  1, CIFAR-10 Batch 15:  Train error =  2.13289, Train acc =  0.23047 Val error =  2.13735, Val acc =  0.23840\n",
      "Epoch  1, CIFAR-10 Batch 16:  Train error =  2.06726, Train acc =  0.31641 Val error =  2.10727, Val acc =  0.25490\n",
      "Epoch  1, CIFAR-10 Batch 17:  Train error =  2.11888, Train acc =  0.23047 Val error =  2.08363, Val acc =  0.25220\n",
      "Epoch  1, CIFAR-10 Batch 18:  Train error =  2.06936, Train acc =  0.23828 Val error =  2.05878, Val acc =  0.24920\n",
      "Epoch  1, CIFAR-10 Batch 19:  Train error =  2.04815, Train acc =  0.21484 Val error =  2.06136, Val acc =  0.23220\n",
      "Epoch  1, CIFAR-10 Batch 20:  Train error =  2.06794, Train acc =  0.23047 Val error =  2.02664, Val acc =  0.27780\n",
      "Epoch  1, CIFAR-10 Batch 21:  Train error =  2.00523, Train acc =  0.25000 Val error =  2.04117, Val acc =  0.23380\n",
      "Epoch  1, CIFAR-10 Batch 22:  Train error =  1.99661, Train acc =  0.27734 Val error =  2.01502, Val acc =  0.25220\n",
      "Epoch  1, CIFAR-10 Batch 23:  Train error =  1.94728, Train acc =  0.29688 Val error =  1.99164, Val acc =  0.26570\n",
      "Epoch  1, CIFAR-10 Batch 24:  Train error =  1.98938, Train acc =  0.30469 Val error =  1.99934, Val acc =  0.28690\n",
      "Epoch  1, CIFAR-10 Batch 25:  Train error =  2.06351, Train acc =  0.27344 Val error =  1.96390, Val acc =  0.29880\n",
      "Epoch  1, CIFAR-10 Batch 26:  Train error =  1.98464, Train acc =  0.30469 Val error =  1.98471, Val acc =  0.28280\n",
      "Epoch  1, CIFAR-10 Batch 27:  Train error =  2.01416, Train acc =  0.24609 Val error =  1.95643, Val acc =  0.28930\n",
      "Epoch  1, CIFAR-10 Batch 28:  Train error =  1.95853, Train acc =  0.25391 Val error =  1.97903, Val acc =  0.28110\n",
      "Epoch  1, CIFAR-10 Batch 29:  Train error =  1.96586, Train acc =  0.30859 Val error =  1.94181, Val acc =  0.30760\n",
      "Epoch  1, CIFAR-10 Batch 30:  Train error =  1.94888, Train acc =  0.30469 Val error =  1.95364, Val acc =  0.31750\n",
      "Epoch  1, CIFAR-10 Batch 31:  Train error =  1.94984, Train acc =  0.31641 Val error =  1.99428, Val acc =  0.28960\n",
      "Epoch  1, CIFAR-10 Batch 32:  Train error =  1.96115, Train acc =  0.31641 Val error =  1.92961, Val acc =  0.31320\n",
      "Epoch  1, CIFAR-10 Batch 33:  Train error =  1.90643, Train acc =  0.30469 Val error =  1.94854, Val acc =  0.28190\n",
      "Epoch  1, CIFAR-10 Batch 34:  Train error =  1.94036, Train acc =  0.27734 Val error =  1.97737, Val acc =  0.27190\n",
      "Epoch  1, CIFAR-10 Batch 35:  Train error =  1.90363, Train acc =  0.32031 Val error =  1.91687, Val acc =  0.30620\n",
      "Epoch  1, CIFAR-10 Batch 36:  Train error =  1.85476, Train acc =  0.31250 Val error =  1.89945, Val acc =  0.31810\n",
      "Epoch  1, CIFAR-10 Batch 37:  Train error =  1.94936, Train acc =  0.30469 Val error =  1.93130, Val acc =  0.30080\n",
      "Epoch  1, CIFAR-10 Batch 38:  Train error =  1.87222, Train acc =  0.32031 Val error =  1.90464, Val acc =  0.30650\n",
      "Epoch  1, CIFAR-10 Batch 39:  Train error =  1.75621, Train acc =  0.36719 Val error =  1.87120, Val acc =  0.32290\n",
      "Epoch  1, CIFAR-10 Batch 40:  Train error =  1.85003, Train acc =  0.32031 Val error =  1.90425, Val acc =  0.29520\n",
      "Epoch  1, CIFAR-10 Batch 41:  Train error =  1.82463, Train acc =  0.33594 Val error =  1.91871, Val acc =  0.29320\n",
      "Epoch  1, CIFAR-10 Batch 42:  Train error =  1.87011, Train acc =  0.31641 Val error =  1.85452, Val acc =  0.32520\n",
      "Epoch  1, CIFAR-10 Batch 43:  Train error =  1.87787, Train acc =  0.35156 Val error =  1.83864, Val acc =  0.34760\n",
      "Epoch  1, CIFAR-10 Batch 44:  Train error =  1.90451, Train acc =  0.31250 Val error =  1.86922, Val acc =  0.33880\n",
      "Epoch  1, CIFAR-10 Batch 45:  Train error =  1.89011, Train acc =  0.34375 Val error =  1.87444, Val acc =  0.33750\n",
      "Epoch  1, CIFAR-10 Batch 46:  Train error =  1.77972, Train acc =  0.41016 Val error =  1.83775, Val acc =  0.34670\n",
      "Epoch  1, CIFAR-10 Batch 47:  Train error =  1.86226, Train acc =  0.36328 Val error =  1.83563, Val acc =  0.33860\n",
      "Epoch  1, CIFAR-10 Batch 48:  Train error =  1.83029, Train acc =  0.35547 Val error =  1.85861, Val acc =  0.32800\n",
      "Epoch  1, CIFAR-10 Batch 49:  Train error =  1.74239, Train acc =  0.37891 Val error =  1.82918, Val acc =  0.34780\n",
      "Epoch  1, CIFAR-10 Batch 50:  Train error =  1.78889, Train acc =  0.37500 Val error =  1.80501, Val acc =  0.36170\n",
      "Epoch  1, CIFAR-10 Batch 51:  Train error =  1.81485, Train acc =  0.34766 Val error =  1.79637, Val acc =  0.35860\n",
      "Epoch  1, CIFAR-10 Batch 52:  Train error =  1.86304, Train acc =  0.31641 Val error =  1.79040, Val acc =  0.36410\n",
      "Epoch  1, CIFAR-10 Batch 53:  Train error =  1.87358, Train acc =  0.33203 Val error =  1.79420, Val acc =  0.36090\n",
      "Epoch  1, CIFAR-10 Batch 54:  Train error =  1.76651, Train acc =  0.35156 Val error =  1.78706, Val acc =  0.35960\n",
      "Epoch  1, CIFAR-10 Batch 55:  Train error =  1.73288, Train acc =  0.38281 Val error =  1.76638, Val acc =  0.36640\n",
      "Epoch  1, CIFAR-10 Batch 56:  Train error =  1.78634, Train acc =  0.37500 Val error =  1.77128, Val acc =  0.36140\n",
      "Epoch  1, CIFAR-10 Batch 57:  Train error =  1.70095, Train acc =  0.39453 Val error =  1.77649, Val acc =  0.35870\n",
      "Epoch  1, CIFAR-10 Batch 58:  Train error =  1.81366, Train acc =  0.34375 Val error =  1.75666, Val acc =  0.36450\n",
      "Epoch  1, CIFAR-10 Batch 59:  Train error =  1.72523, Train acc =  0.38281 Val error =  1.77855, Val acc =  0.35450\n",
      "Epoch  1, CIFAR-10 Batch 60:  Train error =  1.93372, Train acc =  0.30078 Val error =  1.74816, Val acc =  0.37620\n",
      "Epoch  1, CIFAR-10 Batch 61:  Train error =  1.74305, Train acc =  0.36328 Val error =  1.73404, Val acc =  0.38170\n",
      "Epoch  1, CIFAR-10 Batch 62:  Train error =  1.73850, Train acc =  0.39062 Val error =  1.72827, Val acc =  0.38660\n",
      "Epoch  1, CIFAR-10 Batch 63:  Train error =  1.79559, Train acc =  0.36328 Val error =  1.72570, Val acc =  0.38890\n",
      "Epoch  1, CIFAR-10 Batch 64:  Train error =  1.77857, Train acc =  0.39453 Val error =  1.73684, Val acc =  0.38160\n",
      "Epoch  1, CIFAR-10 Batch 65:  Train error =  1.74991, Train acc =  0.36328 Val error =  1.72895, Val acc =  0.38110\n",
      "Epoch  1, CIFAR-10 Batch 66:  Train error =  1.73382, Train acc =  0.38281 Val error =  1.72236, Val acc =  0.38270\n",
      "Epoch  1, CIFAR-10 Batch 67:  Train error =  1.78210, Train acc =  0.33984 Val error =  1.73774, Val acc =  0.37050\n",
      "Epoch  1, CIFAR-10 Batch 68:  Train error =  1.67311, Train acc =  0.42578 Val error =  1.73236, Val acc =  0.37420\n",
      "Epoch  1, CIFAR-10 Batch 69:  Train error =  1.69151, Train acc =  0.38672 Val error =  1.71475, Val acc =  0.38410\n",
      "Epoch  1, CIFAR-10 Batch 70:  Train error =  1.72287, Train acc =  0.38672 Val error =  1.69968, Val acc =  0.39610\n",
      "Epoch  1, CIFAR-10 Batch 71:  Train error =  1.69247, Train acc =  0.39062 Val error =  1.69954, Val acc =  0.39690\n"
     ]
    },
    {
     "name": "stdout",
     "output_type": "stream",
     "text": [
      "Epoch  1, CIFAR-10 Batch 72:  Train error =  1.61488, Train acc =  0.42578 Val error =  1.68314, Val acc =  0.39520\n",
      "Epoch  1, CIFAR-10 Batch 73:  Train error =  1.73728, Train acc =  0.35938 Val error =  1.68937, Val acc =  0.39280\n",
      "Epoch  1, CIFAR-10 Batch 74:  Train error =  1.65138, Train acc =  0.41797 Val error =  1.69253, Val acc =  0.39220\n",
      "Epoch  1, CIFAR-10 Batch 75:  Train error =  1.68069, Train acc =  0.41016 Val error =  1.68159, Val acc =  0.39200\n",
      "Epoch  1, CIFAR-10 Batch 76:  Train error =  1.70869, Train acc =  0.41406 Val error =  1.69186, Val acc =  0.38690\n",
      "Epoch  1, CIFAR-10 Batch 77:  Train error =  1.67424, Train acc =  0.43750 Val error =  1.65904, Val acc =  0.40340\n",
      "Epoch  1, CIFAR-10 Batch 78:  Train error =  1.60028, Train acc =  0.44531 Val error =  1.65302, Val acc =  0.40980\n",
      "Epoch  1, CIFAR-10 Batch 79:  Train error =  1.68970, Train acc =  0.39453 Val error =  1.65284, Val acc =  0.40680\n",
      "Epoch  1, CIFAR-10 Batch 80:  Train error =  1.62085, Train acc =  0.35938 Val error =  1.64743, Val acc =  0.40810\n",
      "Epoch  1, CIFAR-10 Batch 81:  Train error =  1.63202, Train acc =  0.42188 Val error =  1.67603, Val acc =  0.39530\n",
      "Epoch  1, CIFAR-10 Batch 82:  Train error =  1.77519, Train acc =  0.33594 Val error =  1.66087, Val acc =  0.40130\n",
      "Epoch  1, CIFAR-10 Batch 83:  Train error =  1.60747, Train acc =  0.38281 Val error =  1.62765, Val acc =  0.41250\n",
      "Epoch  1, CIFAR-10 Batch 84:  Train error =  1.62426, Train acc =  0.41406 Val error =  1.64477, Val acc =  0.40180\n",
      "Epoch  1, CIFAR-10 Batch 85:  Train error =  1.67624, Train acc =  0.37109 Val error =  1.62655, Val acc =  0.40850\n",
      "Epoch  1, CIFAR-10 Batch 86:  Train error =  1.66011, Train acc =  0.37891 Val error =  1.63224, Val acc =  0.40930\n",
      "Epoch  1, CIFAR-10 Batch 87:  Train error =  1.60410, Train acc =  0.44922 Val error =  1.68202, Val acc =  0.39210\n",
      "Epoch  1, CIFAR-10 Batch 88:  Train error =  1.68689, Train acc =  0.36719 Val error =  1.64179, Val acc =  0.40640\n",
      "Epoch  1, CIFAR-10 Batch 89:  Train error =  1.60212, Train acc =  0.41016 Val error =  1.60908, Val acc =  0.42010\n",
      "Epoch  1, CIFAR-10 Batch 90:  Train error =  1.69958, Train acc =  0.36328 Val error =  1.64275, Val acc =  0.39890\n",
      "Epoch  1, CIFAR-10 Batch 91:  Train error =  1.62433, Train acc =  0.43750 Val error =  1.62005, Val acc =  0.41440\n",
      "Epoch  1, CIFAR-10 Batch 92:  Train error =  1.55647, Train acc =  0.44922 Val error =  1.58768, Val acc =  0.43480\n",
      "Epoch  1, CIFAR-10 Batch 93:  Train error =  1.72256, Train acc =  0.39062 Val error =  1.62605, Val acc =  0.41330\n",
      "Epoch  1, CIFAR-10 Batch 94:  Train error =  1.55898, Train acc =  0.42969 Val error =  1.62428, Val acc =  0.40780\n",
      "Epoch  1, CIFAR-10 Batch 95:  Train error =  1.63227, Train acc =  0.40234 Val error =  1.61420, Val acc =  0.40940\n",
      "Epoch  1, CIFAR-10 Batch 96:  Train error =  1.61141, Train acc =  0.43750 Val error =  1.59829, Val acc =  0.41770\n",
      "Epoch  1, CIFAR-10 Batch 97:  Train error =  1.69246, Train acc =  0.38672 Val error =  1.61516, Val acc =  0.40020\n",
      "Epoch  1, CIFAR-10 Batch 98:  Train error =  1.64549, Train acc =  0.41016 Val error =  1.63385, Val acc =  0.39180\n",
      "Epoch  1, CIFAR-10 Batch 99:  Train error =  1.56058, Train acc =  0.42578 Val error =  1.62292, Val acc =  0.40010\n",
      "Epoch  1, CIFAR-10 Batch 100:  Train error =  1.63415, Train acc =  0.37109 Val error =  1.58987, Val acc =  0.42480\n",
      "Epoch  1, CIFAR-10 Batch 101:  Train error =  1.60098, Train acc =  0.42969 Val error =  1.58829, Val acc =  0.43700\n",
      "Epoch  1, CIFAR-10 Batch 102:  Train error =  1.59099, Train acc =  0.48828 Val error =  1.59997, Val acc =  0.43490\n",
      "Epoch  1, CIFAR-10 Batch 103:  Train error =  1.58345, Train acc =  0.42969 Val error =  1.58246, Val acc =  0.43850\n",
      "Epoch  1, CIFAR-10 Batch 104:  Train error =  1.59153, Train acc =  0.47266 Val error =  1.59302, Val acc =  0.41700\n",
      "Epoch  1, CIFAR-10 Batch 105:  Train error =  1.54031, Train acc =  0.44531 Val error =  1.60010, Val acc =  0.41060\n",
      "Epoch  1, CIFAR-10 Batch 106:  Train error =  1.59326, Train acc =  0.42969 Val error =  1.58972, Val acc =  0.41600\n",
      "Epoch  1, CIFAR-10 Batch 107:  Train error =  1.52933, Train acc =  0.43359 Val error =  1.57757, Val acc =  0.42900\n",
      "Epoch  1, CIFAR-10 Batch 108:  Train error =  1.56918, Train acc =  0.43359 Val error =  1.56216, Val acc =  0.43320\n",
      "Epoch  1, CIFAR-10 Batch 109:  Train error =  1.55083, Train acc =  0.44922 Val error =  1.55149, Val acc =  0.43710\n",
      "Epoch  1, CIFAR-10 Batch 110:  Train error =  1.56550, Train acc =  0.44531 Val error =  1.56511, Val acc =  0.42990\n",
      "Epoch  1, CIFAR-10 Batch 111:  Train error =  1.54044, Train acc =  0.43359 Val error =  1.59383, Val acc =  0.41740\n",
      "Epoch  1, CIFAR-10 Batch 112:  Train error =  1.64013, Train acc =  0.41797 Val error =  1.55941, Val acc =  0.42600\n",
      "Epoch  1, CIFAR-10 Batch 113:  Train error =  1.59569, Train acc =  0.41016 Val error =  1.58056, Val acc =  0.42150\n",
      "Epoch  1, CIFAR-10 Batch 114:  Train error =  1.55040, Train acc =  0.41406 Val error =  1.58237, Val acc =  0.42020\n",
      "Epoch  1, CIFAR-10 Batch 115:  Train error =  1.50183, Train acc =  0.48047 Val error =  1.54856, Val acc =  0.43990\n",
      "Epoch  1, CIFAR-10 Batch 116:  Train error =  1.54823, Train acc =  0.44922 Val error =  1.53192, Val acc =  0.44500\n",
      "Epoch  1, CIFAR-10 Batch 117:  Train error =  1.58611, Train acc =  0.45312 Val error =  1.54747, Val acc =  0.44430\n",
      "Epoch  1, CIFAR-10 Batch 118:  Train error =  1.60523, Train acc =  0.39844 Val error =  1.54576, Val acc =  0.44380\n",
      "Epoch  1, CIFAR-10 Batch 119:  Train error =  1.54082, Train acc =  0.43359 Val error =  1.54713, Val acc =  0.44330\n",
      "Epoch  1, CIFAR-10 Batch 120:  Train error =  1.48084, Train acc =  0.43750 Val error =  1.52329, Val acc =  0.44770\n",
      "Epoch  1, CIFAR-10 Batch 121:  Train error =  1.54420, Train acc =  0.40625 Val error =  1.53252, Val acc =  0.44400\n",
      "Epoch  1, CIFAR-10 Batch 122:  Train error =  1.63915, Train acc =  0.41797 Val error =  1.52661, Val acc =  0.45160\n",
      "Epoch  1, CIFAR-10 Batch 123:  Train error =  1.52550, Train acc =  0.42578 Val error =  1.50983, Val acc =  0.45450\n",
      "Epoch  1, CIFAR-10 Batch 124:  Train error =  1.55855, Train acc =  0.42188 Val error =  1.53721, Val acc =  0.44110\n",
      "Epoch  1, CIFAR-10 Batch 125:  Train error =  1.48700, Train acc =  0.45312 Val error =  1.53131, Val acc =  0.43950\n",
      "Epoch  1, CIFAR-10 Batch 126:  Train error =  1.52981, Train acc =  0.42578 Val error =  1.51461, Val acc =  0.44730\n",
      "Epoch  1, CIFAR-10 Batch 127:  Train error =  1.47457, Train acc =  0.42578 Val error =  1.51586, Val acc =  0.44900\n",
      "Epoch  1, CIFAR-10 Batch 128:  Train error =  1.51165, Train acc =  0.43750 Val error =  1.50899, Val acc =  0.44720\n",
      "Epoch  1, CIFAR-10 Batch 129:  Train error =  1.41114, Train acc =  0.46875 Val error =  1.50792, Val acc =  0.44450\n",
      "Epoch  1, CIFAR-10 Batch 130:  Train error =  1.48379, Train acc =  0.47656 Val error =  1.50066, Val acc =  0.45200\n",
      "Epoch  1, CIFAR-10 Batch 131:  Train error =  1.58741, Train acc =  0.40625 Val error =  1.50635, Val acc =  0.45310\n",
      "Epoch  1, CIFAR-10 Batch 132:  Train error =  1.41389, Train acc =  0.48828 Val error =  1.50964, Val acc =  0.45250\n",
      "Epoch  1, CIFAR-10 Batch 133:  Train error =  1.44430, Train acc =  0.49219 Val error =  1.52500, Val acc =  0.45570\n",
      "Epoch  1, CIFAR-10 Batch 134:  Train error =  1.54304, Train acc =  0.45703 Val error =  1.48660, Val acc =  0.46900\n",
      "Epoch  1, CIFAR-10 Batch 135:  Train error =  1.47972, Train acc =  0.49219 Val error =  1.49901, Val acc =  0.46000\n",
      "Epoch  1, CIFAR-10 Batch 136:  Train error =  1.48394, Train acc =  0.46484 Val error =  1.51622, Val acc =  0.45660\n",
      "Epoch  1, CIFAR-10 Batch 137:  Train error =  1.37725, Train acc =  0.50781 Val error =  1.49237, Val acc =  0.46730\n",
      "Epoch  1, CIFAR-10 Batch 138:  Train error =  1.40721, Train acc =  0.46875 Val error =  1.46818, Val acc =  0.47000\n",
      "Epoch  1, CIFAR-10 Batch 139:  Train error =  1.51701, Train acc =  0.43359 Val error =  1.48222, Val acc =  0.46290\n",
      "Epoch  1, CIFAR-10 Batch 140:  Train error =  1.39055, Train acc =  0.51953 Val error =  1.48036, Val acc =  0.45850\n",
      "Epoch  1, CIFAR-10 Batch 141:  Train error =  1.48966, Train acc =  0.44141 Val error =  1.48760, Val acc =  0.45180\n",
      "Epoch  1, CIFAR-10 Batch 142:  Train error =  1.43657, Train acc =  0.49219 Val error =  1.48245, Val acc =  0.46070\n"
     ]
    },
    {
     "name": "stdout",
     "output_type": "stream",
     "text": [
      "Epoch  1, CIFAR-10 Batch 143:  Train error =  1.55708, Train acc =  0.42969 Val error =  1.47267, Val acc =  0.46600\n",
      "Epoch  1, CIFAR-10 Batch 144:  Train error =  1.46063, Train acc =  0.46484 Val error =  1.50237, Val acc =  0.46240\n",
      "Epoch  1, CIFAR-10 Batch 145:  Train error =  1.45939, Train acc =  0.50391 Val error =  1.45878, Val acc =  0.47740\n",
      "Epoch  1, CIFAR-10 Batch 146:  Train error =  1.49412, Train acc =  0.45703 Val error =  1.47860, Val acc =  0.47180\n",
      "Epoch  1, CIFAR-10 Batch 147:  Train error =  1.40262, Train acc =  0.47656 Val error =  1.46947, Val acc =  0.47260\n",
      "Epoch  1, CIFAR-10 Batch 148:  Train error =  1.51755, Train acc =  0.45703 Val error =  1.45973, Val acc =  0.47100\n",
      "Epoch  1, CIFAR-10 Batch 149:  Train error =  1.50260, Train acc =  0.46875 Val error =  1.45522, Val acc =  0.47080\n",
      "Epoch  1, CIFAR-10 Batch 150:  Train error =  1.40110, Train acc =  0.50000 Val error =  1.46589, Val acc =  0.47530\n",
      "Epoch  1, CIFAR-10 Batch 151:  Train error =  1.49932, Train acc =  0.41797 Val error =  1.46531, Val acc =  0.47320\n",
      "Epoch  1, CIFAR-10 Batch 152:  Train error =  1.44823, Train acc =  0.50781 Val error =  1.47409, Val acc =  0.46110\n",
      "Epoch  1, CIFAR-10 Batch 153:  Train error =  1.49106, Train acc =  0.44531 Val error =  1.47840, Val acc =  0.45320\n",
      "Epoch  1, CIFAR-10 Batch 154:  Train error =  1.37333, Train acc =  0.50781 Val error =  1.48955, Val acc =  0.45120\n",
      "Epoch  1, CIFAR-10 Batch 155:  Train error =  1.44267, Train acc =  0.49219 Val error =  1.49320, Val acc =  0.45020\n",
      "Epoch  1, CIFAR-10 Batch 156:  Train error =  1.37541, Train acc =  0.48438 Val error =  1.45820, Val acc =  0.47030\n",
      "Epoch  2, CIFAR-10 Batch 1:  Train error =  1.43323, Train acc =  0.45312 Val error =  1.46706, Val acc =  0.46980\n",
      "Epoch  2, CIFAR-10 Batch 2:  Train error =  1.47030, Train acc =  0.47266 Val error =  1.49511, Val acc =  0.46070\n",
      "Epoch  2, CIFAR-10 Batch 3:  Train error =  1.35152, Train acc =  0.53125 Val error =  1.45697, Val acc =  0.47990\n",
      "Epoch  2, CIFAR-10 Batch 4:  Train error =  1.38096, Train acc =  0.53906 Val error =  1.44216, Val acc =  0.48190\n",
      "Epoch  2, CIFAR-10 Batch 5:  Train error =  1.53374, Train acc =  0.41406 Val error =  1.46847, Val acc =  0.46690\n",
      "Epoch  2, CIFAR-10 Batch 6:  Train error =  1.51657, Train acc =  0.44141 Val error =  1.46871, Val acc =  0.46510\n",
      "Epoch  2, CIFAR-10 Batch 7:  Train error =  1.36856, Train acc =  0.50781 Val error =  1.46328, Val acc =  0.46440\n",
      "Epoch  2, CIFAR-10 Batch 8:  Train error =  1.43780, Train acc =  0.44531 Val error =  1.44800, Val acc =  0.46990\n",
      "Epoch  2, CIFAR-10 Batch 9:  Train error =  1.48142, Train acc =  0.48438 Val error =  1.48339, Val acc =  0.46120\n",
      "Epoch  2, CIFAR-10 Batch 10:  Train error =  1.45914, Train acc =  0.42969 Val error =  1.48855, Val acc =  0.45630\n",
      "Epoch  2, CIFAR-10 Batch 11:  Train error =  1.40745, Train acc =  0.50391 Val error =  1.45169, Val acc =  0.47220\n",
      "Epoch  2, CIFAR-10 Batch 12:  Train error =  1.43178, Train acc =  0.46484 Val error =  1.45486, Val acc =  0.46610\n",
      "Epoch  2, CIFAR-10 Batch 13:  Train error =  1.39662, Train acc =  0.50391 Val error =  1.45849, Val acc =  0.47160\n",
      "Epoch  2, CIFAR-10 Batch 14:  Train error =  1.46540, Train acc =  0.44922 Val error =  1.45468, Val acc =  0.47810\n",
      "Epoch  2, CIFAR-10 Batch 15:  Train error =  1.39937, Train acc =  0.48047 Val error =  1.44942, Val acc =  0.47740\n",
      "Epoch  2, CIFAR-10 Batch 16:  Train error =  1.50171, Train acc =  0.47656 Val error =  1.46755, Val acc =  0.47160\n",
      "Epoch  2, CIFAR-10 Batch 17:  Train error =  1.44559, Train acc =  0.49219 Val error =  1.47315, Val acc =  0.47230\n",
      "Epoch  2, CIFAR-10 Batch 18:  Train error =  1.46606, Train acc =  0.44531 Val error =  1.46614, Val acc =  0.47400\n",
      "Epoch  2, CIFAR-10 Batch 19:  Train error =  1.45120, Train acc =  0.48438 Val error =  1.42166, Val acc =  0.49440\n",
      "Epoch  2, CIFAR-10 Batch 20:  Train error =  1.41525, Train acc =  0.51953 Val error =  1.45593, Val acc =  0.48210\n",
      "Epoch  2, CIFAR-10 Batch 21:  Train error =  1.44770, Train acc =  0.45703 Val error =  1.46188, Val acc =  0.47380\n",
      "Epoch  2, CIFAR-10 Batch 22:  Train error =  1.38245, Train acc =  0.52344 Val error =  1.45830, Val acc =  0.46360\n",
      "Epoch  2, CIFAR-10 Batch 23:  Train error =  1.52470, Train acc =  0.44531 Val error =  1.48793, Val acc =  0.46490\n",
      "Epoch  2, CIFAR-10 Batch 24:  Train error =  1.40220, Train acc =  0.46094 Val error =  1.47258, Val acc =  0.47290\n",
      "Epoch  2, CIFAR-10 Batch 25:  Train error =  1.41231, Train acc =  0.51172 Val error =  1.46772, Val acc =  0.46380\n",
      "Epoch  2, CIFAR-10 Batch 26:  Train error =  1.54721, Train acc =  0.41016 Val error =  1.51179, Val acc =  0.44610\n",
      "Epoch  2, CIFAR-10 Batch 27:  Train error =  1.37511, Train acc =  0.51172 Val error =  1.44096, Val acc =  0.47440\n",
      "Epoch  2, CIFAR-10 Batch 28:  Train error =  1.45317, Train acc =  0.51953 Val error =  1.43331, Val acc =  0.47930\n",
      "Epoch  2, CIFAR-10 Batch 29:  Train error =  1.44935, Train acc =  0.48828 Val error =  1.47716, Val acc =  0.46810\n",
      "Epoch  2, CIFAR-10 Batch 30:  Train error =  1.31934, Train acc =  0.54688 Val error =  1.44810, Val acc =  0.48320\n",
      "Epoch  2, CIFAR-10 Batch 31:  Train error =  1.37655, Train acc =  0.52734 Val error =  1.42443, Val acc =  0.49470\n",
      "Epoch  2, CIFAR-10 Batch 32:  Train error =  1.37037, Train acc =  0.53125 Val error =  1.44906, Val acc =  0.47780\n",
      "Epoch  2, CIFAR-10 Batch 33:  Train error =  1.37219, Train acc =  0.44531 Val error =  1.47894, Val acc =  0.46460\n"
     ]
    },
    {
     "ename": "KeyboardInterrupt",
     "evalue": "",
     "output_type": "error",
     "traceback": [
      "\u001b[0;31m---------------------------------------------------------------------------\u001b[0m",
      "\u001b[0;31mKeyboardInterrupt\u001b[0m                         Traceback (most recent call last)",
      "\u001b[0;32m<ipython-input-28-ef54cad3ed5f>\u001b[0m in \u001b[0;36m<module>\u001b[0;34m()\u001b[0m\n\u001b[1;32m     26\u001b[0m \u001b[0;34m\u001b[0m\u001b[0m\n\u001b[1;32m     27\u001b[0m         valid_acc = session.run(accuracy, feed_dict={\n\u001b[0;32m---> 28\u001b[0;31m             inputs: val_data_norm, targets: val_labels_ohe, keep_prob: 1., is_training: False})\n\u001b[0m\u001b[1;32m     29\u001b[0m \u001b[0;34m\u001b[0m\u001b[0m\n\u001b[1;32m     30\u001b[0m         \u001b[0minfo\u001b[0m\u001b[0;34m[\u001b[0m\u001b[0;34m\"valid_cost\"\u001b[0m\u001b[0;34m]\u001b[0m\u001b[0;34m.\u001b[0m\u001b[0mappend\u001b[0m\u001b[0;34m(\u001b[0m\u001b[0mvalid_cost\u001b[0m\u001b[0;34m)\u001b[0m\u001b[0;34m\u001b[0m\u001b[0m\n",
      "\u001b[0;32m~/.pyenv/versions/3.6.1/lib/python3.6/site-packages/tensorflow/python/client/session.py\u001b[0m in \u001b[0;36mrun\u001b[0;34m(self, fetches, feed_dict, options, run_metadata)\u001b[0m\n\u001b[1;32m    787\u001b[0m     \u001b[0;32mtry\u001b[0m\u001b[0;34m:\u001b[0m\u001b[0;34m\u001b[0m\u001b[0m\n\u001b[1;32m    788\u001b[0m       result = self._run(None, fetches, feed_dict, options_ptr,\n\u001b[0;32m--> 789\u001b[0;31m                          run_metadata_ptr)\n\u001b[0m\u001b[1;32m    790\u001b[0m       \u001b[0;32mif\u001b[0m \u001b[0mrun_metadata\u001b[0m\u001b[0;34m:\u001b[0m\u001b[0;34m\u001b[0m\u001b[0m\n\u001b[1;32m    791\u001b[0m         \u001b[0mproto_data\u001b[0m \u001b[0;34m=\u001b[0m \u001b[0mtf_session\u001b[0m\u001b[0;34m.\u001b[0m\u001b[0mTF_GetBuffer\u001b[0m\u001b[0;34m(\u001b[0m\u001b[0mrun_metadata_ptr\u001b[0m\u001b[0;34m)\u001b[0m\u001b[0;34m\u001b[0m\u001b[0m\n",
      "\u001b[0;32m~/.pyenv/versions/3.6.1/lib/python3.6/site-packages/tensorflow/python/client/session.py\u001b[0m in \u001b[0;36m_run\u001b[0;34m(self, handle, fetches, feed_dict, options, run_metadata)\u001b[0m\n\u001b[1;32m    995\u001b[0m     \u001b[0;32mif\u001b[0m \u001b[0mfinal_fetches\u001b[0m \u001b[0;32mor\u001b[0m \u001b[0mfinal_targets\u001b[0m\u001b[0;34m:\u001b[0m\u001b[0;34m\u001b[0m\u001b[0m\n\u001b[1;32m    996\u001b[0m       results = self._do_run(handle, final_targets, final_fetches,\n\u001b[0;32m--> 997\u001b[0;31m                              feed_dict_string, options, run_metadata)\n\u001b[0m\u001b[1;32m    998\u001b[0m     \u001b[0;32melse\u001b[0m\u001b[0;34m:\u001b[0m\u001b[0;34m\u001b[0m\u001b[0m\n\u001b[1;32m    999\u001b[0m       \u001b[0mresults\u001b[0m \u001b[0;34m=\u001b[0m \u001b[0;34m[\u001b[0m\u001b[0;34m]\u001b[0m\u001b[0;34m\u001b[0m\u001b[0m\n",
      "\u001b[0;32m~/.pyenv/versions/3.6.1/lib/python3.6/site-packages/tensorflow/python/client/session.py\u001b[0m in \u001b[0;36m_do_run\u001b[0;34m(self, handle, target_list, fetch_list, feed_dict, options, run_metadata)\u001b[0m\n\u001b[1;32m   1130\u001b[0m     \u001b[0;32mif\u001b[0m \u001b[0mhandle\u001b[0m \u001b[0;32mis\u001b[0m \u001b[0;32mNone\u001b[0m\u001b[0;34m:\u001b[0m\u001b[0;34m\u001b[0m\u001b[0m\n\u001b[1;32m   1131\u001b[0m       return self._do_call(_run_fn, self._session, feed_dict, fetch_list,\n\u001b[0;32m-> 1132\u001b[0;31m                            target_list, options, run_metadata)\n\u001b[0m\u001b[1;32m   1133\u001b[0m     \u001b[0;32melse\u001b[0m\u001b[0;34m:\u001b[0m\u001b[0;34m\u001b[0m\u001b[0m\n\u001b[1;32m   1134\u001b[0m       return self._do_call(_prun_fn, self._session, handle, feed_dict,\n",
      "\u001b[0;32m~/.pyenv/versions/3.6.1/lib/python3.6/site-packages/tensorflow/python/client/session.py\u001b[0m in \u001b[0;36m_do_call\u001b[0;34m(self, fn, *args)\u001b[0m\n\u001b[1;32m   1137\u001b[0m   \u001b[0;32mdef\u001b[0m \u001b[0m_do_call\u001b[0m\u001b[0;34m(\u001b[0m\u001b[0mself\u001b[0m\u001b[0;34m,\u001b[0m \u001b[0mfn\u001b[0m\u001b[0;34m,\u001b[0m \u001b[0;34m*\u001b[0m\u001b[0margs\u001b[0m\u001b[0;34m)\u001b[0m\u001b[0;34m:\u001b[0m\u001b[0;34m\u001b[0m\u001b[0m\n\u001b[1;32m   1138\u001b[0m     \u001b[0;32mtry\u001b[0m\u001b[0;34m:\u001b[0m\u001b[0;34m\u001b[0m\u001b[0m\n\u001b[0;32m-> 1139\u001b[0;31m       \u001b[0;32mreturn\u001b[0m \u001b[0mfn\u001b[0m\u001b[0;34m(\u001b[0m\u001b[0;34m*\u001b[0m\u001b[0margs\u001b[0m\u001b[0;34m)\u001b[0m\u001b[0;34m\u001b[0m\u001b[0m\n\u001b[0m\u001b[1;32m   1140\u001b[0m     \u001b[0;32mexcept\u001b[0m \u001b[0merrors\u001b[0m\u001b[0;34m.\u001b[0m\u001b[0mOpError\u001b[0m \u001b[0;32mas\u001b[0m \u001b[0me\u001b[0m\u001b[0;34m:\u001b[0m\u001b[0;34m\u001b[0m\u001b[0m\n\u001b[1;32m   1141\u001b[0m       \u001b[0mmessage\u001b[0m \u001b[0;34m=\u001b[0m \u001b[0mcompat\u001b[0m\u001b[0;34m.\u001b[0m\u001b[0mas_text\u001b[0m\u001b[0;34m(\u001b[0m\u001b[0me\u001b[0m\u001b[0;34m.\u001b[0m\u001b[0mmessage\u001b[0m\u001b[0;34m)\u001b[0m\u001b[0;34m\u001b[0m\u001b[0m\n",
      "\u001b[0;32m~/.pyenv/versions/3.6.1/lib/python3.6/site-packages/tensorflow/python/client/session.py\u001b[0m in \u001b[0;36m_run_fn\u001b[0;34m(session, feed_dict, fetch_list, target_list, options, run_metadata)\u001b[0m\n\u001b[1;32m   1119\u001b[0m         return tf_session.TF_Run(session, options,\n\u001b[1;32m   1120\u001b[0m                                  \u001b[0mfeed_dict\u001b[0m\u001b[0;34m,\u001b[0m \u001b[0mfetch_list\u001b[0m\u001b[0;34m,\u001b[0m \u001b[0mtarget_list\u001b[0m\u001b[0;34m,\u001b[0m\u001b[0;34m\u001b[0m\u001b[0m\n\u001b[0;32m-> 1121\u001b[0;31m                                  status, run_metadata)\n\u001b[0m\u001b[1;32m   1122\u001b[0m \u001b[0;34m\u001b[0m\u001b[0m\n\u001b[1;32m   1123\u001b[0m     \u001b[0;32mdef\u001b[0m \u001b[0m_prun_fn\u001b[0m\u001b[0;34m(\u001b[0m\u001b[0msession\u001b[0m\u001b[0;34m,\u001b[0m \u001b[0mhandle\u001b[0m\u001b[0;34m,\u001b[0m \u001b[0mfeed_dict\u001b[0m\u001b[0;34m,\u001b[0m \u001b[0mfetch_list\u001b[0m\u001b[0;34m)\u001b[0m\u001b[0;34m:\u001b[0m\u001b[0;34m\u001b[0m\u001b[0m\n",
      "\u001b[0;31mKeyboardInterrupt\u001b[0m: "
     ]
    }
   ],
   "source": [
    "session.run(tf.global_variables_initializer())\n",
    "\n",
    "info = {'train_cost':[], 'train_acc':[], 'valid_cost':[], 'valid_acc':[]}\n",
    "for epoch in range(epochs):\n",
    "    mini_batches = prepare_mini_batches(train_data_norm, train_labels_ohe, batch_size)\n",
    "\n",
    "    batch_count = 0\n",
    "    while mini_batches:\n",
    "        data_batch, label_batch = mini_batches.pop()\n",
    "        batch_count += 1\n",
    "\n",
    "        session.run(optimizer, feed_dict={\n",
    "            inputs: data_batch, targets: label_batch, keep_prob: keep_probability, is_training: True})\n",
    "\n",
    "        train_cost = session.run(cost, feed_dict={\n",
    "            inputs: data_batch, targets: label_batch, keep_prob: 1., is_training: False})\n",
    "        \n",
    "        train_acc = session.run(accuracy, feed_dict={\n",
    "            inputs: data_batch, targets: label_batch, keep_prob: 1., is_training: False})\n",
    "        \n",
    "        info[\"train_cost\"].append(train_cost)\n",
    "        info[\"train_acc\"].append(train_acc)\n",
    "        \n",
    "        valid_cost = session.run(cost, feed_dict={\n",
    "            inputs: val_data_norm, targets: val_labels_ohe, keep_prob: 1., is_training: False})\n",
    "        \n",
    "        valid_acc = session.run(accuracy, feed_dict={\n",
    "            inputs: val_data_norm, targets: val_labels_ohe, keep_prob: 1., is_training: False})\n",
    "        \n",
    "        info[\"valid_cost\"].append(valid_cost)\n",
    "        info[\"valid_acc\"].append(valid_acc)\n",
    "    \n",
    "        print('Epoch {:>2}, CIFAR-10 Batch {}:  '.format(epoch + 1, batch_count), end='')\n",
    "        print(\"Train error = \", \"{:.5f},\".format(train_cost), \"Train acc = \", \"{:.5f}\".format(train_acc),\n",
    "              \"Val error = \", \"{:.5f},\".format(valid_cost), \"Val acc = \", \"{:.5f}\".format(valid_acc))"
   ]
  },
  {
   "cell_type": "markdown",
   "metadata": {},
   "source": [
    "#### Results"
   ]
  },
  {
   "cell_type": "code",
   "execution_count": 29,
   "metadata": {},
   "outputs": [
    {
     "data": {
      "image/png": "[encoded data removed]",
      "text/plain": [
       "<matplotlib.figure.Figure at 0x1204dfe10>"
      ]
     },
     "metadata": {},
     "output_type": "display_data"
    }
   ],
   "source": [
    "fig1 = plt.figure()\n",
    "ax1 = fig1.add_subplot(111)\n",
    "ax1.plot(info['train_acc'], label='Training acc')\n",
    "ax1.plot(info['valid_acc'], label='Validation acc')\n",
    "blue_patch = mpatches.Patch(color='#699cef', label='Training accuracy')\n",
    "orange_patch = mpatches.Patch(color='orange', label='Validation accuracy')\n",
    "ax1.legend(handles=[blue_patch, orange_patch])\n",
    "plt.show()"
   ]
  },
  {
   "cell_type": "code",
   "execution_count": 30,
   "metadata": {},
   "outputs": [
    {
     "data": {
      "image/png": "[encoded data removed]",
      "text/plain": [
       "<matplotlib.figure.Figure at 0x1209e9438>"
      ]
     },
     "metadata": {},
     "output_type": "display_data"
    }
   ],
   "source": [
    "fig1 = plt.figure()\n",
    "ax2 = fig1.add_subplot(111)\n",
    "ax2.plot(info['train_cost'], label='Training loss')\n",
    "ax2.plot(info['valid_cost'], label='Validation loss')\n",
    "blue_patch = mpatches.Patch(color='#699cef', label='Training cross-entropy')\n",
    "orange_patch = mpatches.Patch(color='orange', label='Validation cross-entropy')\n",
    "ax2.legend(handles=[blue_patch, orange_patch])\n",
    "plt.show()"
   ]
  },
  {
   "cell_type": "markdown",
   "metadata": {},
   "source": [
    "#### Test accuracy"
   ]
  },
  {
   "cell_type": "code",
   "execution_count": 33,
   "metadata": {},
   "outputs": [
    {
     "name": "stdout",
     "output_type": "stream",
     "text": [
      "Test data accuracy: 0.4704\n"
     ]
    }
   ],
   "source": [
    "test_acc = session.run(accuracy, feed_dict={\n",
    "    inputs: test_data_norm, targets: test_labels_ohe, keep_prob: 1.})\n",
    "print(\"Test data accuracy: \" + str(test_acc))"
   ]
  },
  {
   "cell_type": "code",
   "execution_count": null,
   "metadata": {
    "collapsed": true
   },
   "outputs": [],
   "source": [
    "session.close()"
   ]
  }
 ],
 "metadata": {
  "kernelspec": {
   "display_name": "Python 3",
   "language": "python",
   "name": "python3"
  },
  "language_info": {
   "codemirror_mode": {
    "name": "ipython",
    "version": 3
   },
   "file_extension": ".py",
   "mimetype": "text/x-python",
   "name": "python",
   "nbconvert_exporter": "python",
   "pygments_lexer": "ipython3",
   "version": "3.6.1"
  }
 },
 "nbformat": 4,
 "nbformat_minor": 2
}
