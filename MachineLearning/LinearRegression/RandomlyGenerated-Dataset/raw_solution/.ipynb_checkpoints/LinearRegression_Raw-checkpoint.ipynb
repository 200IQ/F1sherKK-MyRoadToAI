{
 "cells": [
  {
   "cell_type": "code",
   "execution_count": 18,
   "metadata": {
    "collapsed": true
   },
   "outputs": [],
   "source": [
    "from sklearn.datasets import make_regression\n",
    "from sklearn import linear_model\n",
    "\n",
    "%matplotlib inline \n",
    "from mpl_toolkits.mplot3d import Axes3D\n",
    "import matplotlib\n",
    "import matplotlib.pyplot as plt\n",
    "\n",
    "import numpy as np "
   ]
  },
  {
   "cell_type": "markdown",
   "metadata": {},
   "source": [
    "### Helper methods"
   ]
  },
  {
   "cell_type": "code",
   "execution_count": 19,
   "metadata": {
    "collapsed": true
   },
   "outputs": [],
   "source": [
    "def generate_linear_regression_problem(samples_num):\n",
    "    bias = np.random.uniform(-5, 5)\n",
    "    data_noise = np.random.uniform(4, 8)\n",
    "    x_values, y_values = make_regression(n_samples=samples_num, n_features=1, noise=data_noise, bias=bias)\n",
    "    return x_values, y_values.reshape(-1, 1)"
   ]
  },
  {
   "cell_type": "markdown",
   "metadata": {},
   "source": [
    "### Generate problem"
   ]
  },
  {
   "cell_type": "code",
   "execution_count": 20,
   "metadata": {
    "collapsed": true
   },
   "outputs": [],
   "source": [
    "samples_num = 100"
   ]
  },
  {
   "cell_type": "code",
   "execution_count": 21,
   "metadata": {
    "collapsed": true
   },
   "outputs": [],
   "source": [
    "x_values, y_values = generate_linear_regression_problem(samples_num)"
   ]
  },
  {
   "cell_type": "code",
   "execution_count": 22,
   "metadata": {},
   "outputs": [
    {
     "data": {
      "image/png": "[encoded data removed]",
      "text/plain": [
       "<matplotlib.figure.Figure at 0x10b630dd8>"
      ]
     },
     "metadata": {},
     "output_type": "display_data"
    }
   ],
   "source": [
    "# Presenting generated data\n",
    "plt.scatter(x_values, y_values, s=15)\n",
    "plt.title(\"Linear Regression Problem to fit\")\n",
    "plt.xlabel(\"x_values\")\n",
    "plt.ylabel(\"y_values\")\n",
    "plt.show()"
   ]
  },
  {
   "cell_type": "markdown",
   "metadata": {},
   "source": [
    "### Raw solution"
   ]
  },
  {
   "cell_type": "markdown",
   "metadata": {},
   "source": [
    "Calculating cost function as Mean Squared Errors:\n",
    "\n",
    "\\begin{equation*}\n",
    " MSE   = \\frac{1}{2m} \\sum_{i=1}^m (h_{\\theta}(x_i) - y_i)^2\n",
    "\\end{equation*}\n",
    "\n",
    "where:\n",
    " - x - input to classifier\n",
    " - y - ideal output for given x\n",
    " - θ - weight for x representing feature\n",
    " - m - number of all samples \n",
    " - i - index of sample"
   ]
  },
  {
   "cell_type": "code",
   "execution_count": 23,
   "metadata": {
    "collapsed": true
   },
   "outputs": [],
   "source": [
    "def mean_squared_errors(X, y, theta):\n",
    "    samples_num = len(X)\n",
    "    predictions = np.dot(X, theta)\n",
    "    square_error = np.sum(np.square(predictions - y))\n",
    "    return square_error / (2 * samples_num)"
   ]
  },
  {
   "cell_type": "markdown",
   "metadata": {},
   "source": [
    "Gradient descent for used (above) MSE equation.\n",
    "\n",
    "Repeat until model converges:\n",
    "\n",
    "\\begin{equation*}\n",
    " \\theta_0 = \\theta_0 - \\alpha\\frac{1}{m}\\sum_{i=1}^m (h_{\\theta}(x_i) - y_i)x_0\n",
    "\\end{equation*}\n",
    "\\begin{equation*}\n",
    " \\theta_1 = \\theta_1 - \\alpha\\frac{1}{m}\\sum_{i=1}^m (h_{\\theta}(x_i) - y_i)x_1\n",
    "\\end{equation*}\n",
    "\n",
    "\\begin{equation*}\n",
    " ...\n",
    "\\end{equation*}\n",
    "\n",
    "\\begin{equation*}\n",
    " \\theta_n = \\theta_n - \\alpha\\frac{1}{m}\\sum_{i=1}^m (h_{\\theta}(x_i) - y_i)x_n\n",
    "\\end{equation*}\n",
    "\n",
    "where:\n",
    " - α - learning rate\n",
    " - x - input to classifier\n",
    " - y - ideal output for given x\n",
    " - θ - weight for x representing feature\n",
    " - m - number of all samples \n",
    " - i - index of sample"
   ]
  },
  {
   "cell_type": "code",
   "execution_count": 24,
   "metadata": {
    "collapsed": true
   },
   "outputs": [],
   "source": [
    "def gradient_descent(X, y, theta, iterations, learning_rate):\n",
    "    # Container for error from each gradient step\n",
    "    error_history = []\n",
    "    \n",
    "    # Calculating initial error and saving it\n",
    "    initial_error = mean_squared_errors(X, y, theta)\n",
    "    error_history.append(initial_error)\n",
    "    \n",
    "    # Performing gradient step 'iterations' times\n",
    "    for i in range(0, iterations):\n",
    "        \n",
    "        # Updating theta values\n",
    "        theta = gradient_step(X, y, theta, learning_rate)\n",
    "        \n",
    "        # Calculating and saving error from current gradient step\n",
    "        error = mean_squared_errors(X, y, theta)\n",
    "        error_history.append(error)\n",
    "        \n",
    "        # Displaying train progress\n",
    "        if i % 100 == 0:\n",
    "            print(\"Iteration no. \" + str(i) + \", error: \" + str(error))\n",
    "        \n",
    "    return theta, error_history"
   ]
  },
  {
   "cell_type": "code",
   "execution_count": 25,
   "metadata": {
    "collapsed": true
   },
   "outputs": [],
   "source": [
    "# Vector implementation (without using loops) of gradient equations above\n",
    "def gradient_step(X, y, theta, learning_rate):\n",
    "    theta_num = len(theta)\n",
    "    samples_num = len(X)\n",
    "    predictions = np.dot(X, theta)\n",
    "    grad_delta = (1 / samples_num) * np.dot(X.T, predictions - y)\n",
    "    theta = theta - learning_rate * grad_delta\n",
    "    return theta"
   ]
  },
  {
   "cell_type": "markdown",
   "metadata": {},
   "source": [
    "Training Model"
   ]
  },
  {
   "cell_type": "markdown",
   "metadata": {},
   "source": [
    "\\begin{equation*}\n",
    " h(x) = \\theta_0 + \\theta_1x\n",
    "\\end{equation*}"
   ]
  },
  {
   "cell_type": "code",
   "execution_count": 26,
   "metadata": {
    "collapsed": true
   },
   "outputs": [],
   "source": [
    "# Adding bias column (column of ones) to input values\n",
    "bias = np.ones(len(x_values))\n",
    "X = np.column_stack((bias, x_values))\n",
    "\n",
    "# Specifying ideal outputs\n",
    "y = y_values"
   ]
  },
  {
   "cell_type": "code",
   "execution_count": 27,
   "metadata": {
    "collapsed": true
   },
   "outputs": [],
   "source": [
    "# Parameters for model\n",
    "theta = np.zeros((X.shape[1], 1))"
   ]
  },
  {
   "cell_type": "markdown",
   "metadata": {},
   "source": [
    "Training"
   ]
  },
  {
   "cell_type": "code",
   "execution_count": 28,
   "metadata": {
    "collapsed": true
   },
   "outputs": [],
   "source": [
    "# Hyperparameters\n",
    "learning_rate = 0.001\n",
    "iterations = 5000"
   ]
  },
  {
   "cell_type": "code",
   "execution_count": 29,
   "metadata": {},
   "outputs": [
    {
     "ename": "ValueError",
     "evalue": "operands could not be broadcast together with shapes (2,1) (100,2) ",
     "output_type": "error",
     "traceback": [
      "\u001b[0;31m---------------------------------------------------------------------------\u001b[0m",
      "\u001b[0;31mValueError\u001b[0m                                Traceback (most recent call last)",
      "\u001b[0;32m<ipython-input-29-d7a25c2bae2a>\u001b[0m in \u001b[0;36m<module>\u001b[0;34m()\u001b[0m\n\u001b[1;32m      1\u001b[0m \u001b[0;31m# Performing gradient descent\u001b[0m\u001b[0;34m\u001b[0m\u001b[0;34m\u001b[0m\u001b[0m\n\u001b[0;32m----> 2\u001b[0;31m \u001b[0mtrained_theta\u001b[0m\u001b[0;34m,\u001b[0m \u001b[0merror_history\u001b[0m \u001b[0;34m=\u001b[0m \u001b[0mgradient_descent\u001b[0m\u001b[0;34m(\u001b[0m\u001b[0mX\u001b[0m\u001b[0;34m,\u001b[0m \u001b[0my\u001b[0m\u001b[0;34m,\u001b[0m \u001b[0mtheta\u001b[0m\u001b[0;34m,\u001b[0m \u001b[0miterations\u001b[0m\u001b[0;34m,\u001b[0m \u001b[0mlearning_rate\u001b[0m\u001b[0;34m)\u001b[0m\u001b[0;34m\u001b[0m\u001b[0m\n\u001b[0m",
      "\u001b[0;32m<ipython-input-24-67a70b41adef>\u001b[0m in \u001b[0;36mgradient_descent\u001b[0;34m(X, y, theta, iterations, learning_rate)\u001b[0m\n\u001b[1;32m     11\u001b[0m \u001b[0;34m\u001b[0m\u001b[0m\n\u001b[1;32m     12\u001b[0m         \u001b[0;31m# Updating theta values\u001b[0m\u001b[0;34m\u001b[0m\u001b[0;34m\u001b[0m\u001b[0m\n\u001b[0;32m---> 13\u001b[0;31m         \u001b[0mtheta\u001b[0m \u001b[0;34m=\u001b[0m \u001b[0mgradient_step\u001b[0m\u001b[0;34m(\u001b[0m\u001b[0mX\u001b[0m\u001b[0;34m,\u001b[0m \u001b[0my\u001b[0m\u001b[0;34m,\u001b[0m \u001b[0mtheta\u001b[0m\u001b[0;34m,\u001b[0m \u001b[0mlearning_rate\u001b[0m\u001b[0;34m)\u001b[0m\u001b[0;34m\u001b[0m\u001b[0m\n\u001b[0m\u001b[1;32m     14\u001b[0m \u001b[0;34m\u001b[0m\u001b[0m\n\u001b[1;32m     15\u001b[0m         \u001b[0;31m# Calculating and saving error from current gradient step\u001b[0m\u001b[0;34m\u001b[0m\u001b[0;34m\u001b[0m\u001b[0m\n",
      "\u001b[0;32m<ipython-input-25-1ae8e79f15b5>\u001b[0m in \u001b[0;36mgradient_step\u001b[0;34m(X, y, theta, learning_rate)\u001b[0m\n\u001b[1;32m      4\u001b[0m     \u001b[0msamples_num\u001b[0m \u001b[0;34m=\u001b[0m \u001b[0mlen\u001b[0m\u001b[0;34m(\u001b[0m\u001b[0mX\u001b[0m\u001b[0;34m)\u001b[0m\u001b[0;34m\u001b[0m\u001b[0m\n\u001b[1;32m      5\u001b[0m     \u001b[0mpredictions\u001b[0m \u001b[0;34m=\u001b[0m \u001b[0mnp\u001b[0m\u001b[0;34m.\u001b[0m\u001b[0mdot\u001b[0m\u001b[0;34m(\u001b[0m\u001b[0mX\u001b[0m\u001b[0;34m,\u001b[0m \u001b[0mtheta\u001b[0m\u001b[0;34m)\u001b[0m\u001b[0;34m\u001b[0m\u001b[0m\n\u001b[0;32m----> 6\u001b[0;31m     \u001b[0mgrad_delta\u001b[0m \u001b[0;34m=\u001b[0m \u001b[0;34m(\u001b[0m\u001b[0;36m1\u001b[0m \u001b[0;34m/\u001b[0m \u001b[0msamples_num\u001b[0m\u001b[0;34m)\u001b[0m \u001b[0;34m*\u001b[0m \u001b[0mnp\u001b[0m\u001b[0;34m.\u001b[0m\u001b[0mdot\u001b[0m\u001b[0;34m(\u001b[0m\u001b[0mX\u001b[0m\u001b[0;34m.\u001b[0m\u001b[0mT\u001b[0m\u001b[0;34m,\u001b[0m \u001b[0mpredictions\u001b[0m \u001b[0;34m-\u001b[0m \u001b[0my\u001b[0m\u001b[0;34m)\u001b[0m \u001b[0;34m*\u001b[0m \u001b[0mX\u001b[0m\u001b[0;34m\u001b[0m\u001b[0m\n\u001b[0m\u001b[1;32m      7\u001b[0m     \u001b[0mtheta\u001b[0m \u001b[0;34m=\u001b[0m \u001b[0mtheta\u001b[0m \u001b[0;34m-\u001b[0m \u001b[0mlearning_rate\u001b[0m \u001b[0;34m*\u001b[0m \u001b[0mgrad_delta\u001b[0m\u001b[0;34m\u001b[0m\u001b[0m\n\u001b[1;32m      8\u001b[0m     \u001b[0;32mreturn\u001b[0m \u001b[0mtheta\u001b[0m\u001b[0;34m\u001b[0m\u001b[0m\n",
      "\u001b[0;31mValueError\u001b[0m: operands could not be broadcast together with shapes (2,1) (100,2) "
     ]
    }
   ],
   "source": [
    "# Performing gradient descent\n",
    "trained_theta, error_history = gradient_descent(X, y, theta, iterations, learning_rate)"
   ]
  },
  {
   "cell_type": "code",
   "execution_count": null,
   "metadata": {
    "collapsed": true
   },
   "outputs": [],
   "source": [
    "trained_theta"
   ]
  },
  {
   "cell_type": "code",
   "execution_count": null,
   "metadata": {
    "collapsed": true
   },
   "outputs": [],
   "source": [
    "# Model learning history\n",
    "plt.plot(error_history)\n",
    "plt.title(\"Error per iteration\")\n",
    "plt.ylabel('MSE Error')\n",
    "plt.xlabel('Iteration')\n",
    "plt.show()"
   ]
  },
  {
   "cell_type": "code",
   "execution_count": null,
   "metadata": {
    "collapsed": true
   },
   "outputs": [],
   "source": [
    "def hypothesis(x, trained_theta):\n",
    "    return trained_theta[0][0] + trained_theta[1][0] * x"
   ]
  },
  {
   "cell_type": "code",
   "execution_count": null,
   "metadata": {
    "collapsed": true
   },
   "outputs": [],
   "source": [
    "# Displaying dataset\n",
    "plt.scatter(x_values, y_values, s=15)\n",
    "\n",
    "# Displaying aproximated function\n",
    "min_x = np.min(x_values)\n",
    "max_x = np.max(x_values)\n",
    "function_x = np.arange(min_x, max_x, 0.01)\n",
    "function_y = [hypothesis(x, trained_theta) for x in function_x]\n",
    "plt.plot(function_x, function_y, c=\"red\")\n",
    "\n",
    "# Displaying predicted values\n",
    "y_predicted = np.dot(X, trained_theta)\n",
    "plt.scatter(x_values, y_predicted, s=20, c='red')\n",
    "\n",
    "plt.title(\"Regression line\")\n",
    "plt.ylabel(\"y values\")\n",
    "plt.xlabel(\"x values\")\n",
    "plt.show()"
   ]
  },
  {
   "cell_type": "code",
   "execution_count": null,
   "metadata": {
    "collapsed": true
   },
   "outputs": [],
   "source": [
    "# Specify ranges for cost grid calculation\n",
    "theta0_rounded = int(round(trained_theta[0][0]))\n",
    "theta1_rounded = int(round(trained_theta[1][0]))\n",
    "theta0_linspace = np.linspace(-100, theta0_rounded/10, 100)\n",
    "theta1_linspace = np.linspace(-100, theta1_rounded/10, 100)\n",
    "\n",
    "theta0_linspace_values, theta1_linspace_values = np.meshgrid(theta0_linspace, theta1_linspace, indexing='xy')\n",
    "theta_cost_grid = np.zeros((theta0_linspace.size, theta1_linspace.size))\n",
    "\n",
    "# Calculate cost values for every point of grid\n",
    "for (i,j),v in np.ndenumerate(theta_cost_grid):\n",
    "    theta_cost_grid[i,j] = mean_squared_errors(X, y, [[theta0_linspace_values[i,j]], [theta1_linspace_values[i,j]]])\n",
    "\n",
    "# Creating figure\n",
    "fig = plt.figure(figsize=(15,15))\n",
    "ax = fig.add_subplot(111, projection='3d')\n",
    "\n",
    "# Displaying plot\n",
    "ax.plot_surface(theta0_linspace_values, theta1_linspace_values, theta_cost_grid, rstride=1, cstride=1, alpha=0.7, cmap=plt.cm.jet)\n",
    "ax.set_zlabel('Cost')\n",
    "ax.set_zlim(theta_cost_grid.min(), theta_cost_grid.max())\n",
    "ax.view_init(elev=15, azim=230)\n",
    "\n",
    "# Labels\n",
    "for ax in fig.axes:\n",
    "    ax.set_xlabel(r'$\\theta_0$', fontsize=17)\n",
    "    ax.set_ylabel(r'$\\theta_1$', fontsize=17)"
   ]
  }
 ],
 "metadata": {
  "kernelspec": {
   "display_name": "Python 3",
   "language": "python",
   "name": "python3"
  },
  "language_info": {
   "codemirror_mode": {
    "name": "ipython",
    "version": 3
   },
   "file_extension": ".py",
   "mimetype": "text/x-python",
   "name": "python",
   "nbconvert_exporter": "python",
   "pygments_lexer": "ipython3",
   "version": "3.6.1"
  }
 },
 "nbformat": 4,
 "nbformat_minor": 2
}
