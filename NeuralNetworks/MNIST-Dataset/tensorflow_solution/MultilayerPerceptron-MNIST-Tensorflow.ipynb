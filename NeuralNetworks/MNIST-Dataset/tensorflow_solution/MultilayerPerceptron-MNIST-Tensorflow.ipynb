{
 "cells": [
  {
   "cell_type": "code",
   "execution_count": 8,
   "metadata": {
    "collapsed": true
   },
   "outputs": [],
   "source": [
    "import tensorflow.examples.tutorials.mnist as mnist\n",
    "import tensorflow as tf\n",
    "import matplotlib.pyplot as plt\n",
    "import matplotlib.patches as mpatches\n",
    "import numpy as np\n",
    "import random"
   ]
  },
  {
   "cell_type": "code",
   "execution_count": 9,
   "metadata": {
    "collapsed": true
   },
   "outputs": [],
   "source": [
    "%matplotlib inline"
   ]
  },
  {
   "cell_type": "markdown",
   "metadata": {},
   "source": [
    "#### Dataset info"
   ]
  },
  {
   "cell_type": "code",
   "execution_count": 3,
   "metadata": {
    "collapsed": true
   },
   "outputs": [],
   "source": [
    "# source: http://yann.lecun.com/exdb/mnist/\n",
    "IMAGE_WIDTH = 28\n",
    "IMAGE_HEIGHT = 28\n",
    "NUM_CHANNELS = 1\n",
    "PIXEL_DEPTH = 255\n",
    "NUM_LABELS = 10"
   ]
  },
  {
   "cell_type": "markdown",
   "metadata": {},
   "source": [
    "#### Save model directory"
   ]
  },
  {
   "cell_type": "code",
   "execution_count": 4,
   "metadata": {
    "collapsed": true
   },
   "outputs": [],
   "source": [
    "MODEL_DIR = \"./tensorflow-saved-models/mlp-mnist-nn.ckpt\""
   ]
  },
  {
   "cell_type": "markdown",
   "metadata": {},
   "source": [
    "#### Loading files\n",
    "Data is already preprocessed, shuffled and normalized."
   ]
  },
  {
   "cell_type": "code",
   "execution_count": 5,
   "metadata": {},
   "outputs": [
    {
     "name": "stdout",
     "output_type": "stream",
     "text": [
      "Extracting tensorflow/examples/tutorials/mnist/train-images-idx3-ubyte.gz\n",
      "Extracting tensorflow/examples/tutorials/mnist/train-labels-idx1-ubyte.gz\n",
      "Extracting tensorflow/examples/tutorials/mnist/t10k-images-idx3-ubyte.gz\n",
      "Extracting tensorflow/examples/tutorials/mnist/t10k-labels-idx1-ubyte.gz\n"
     ]
    }
   ],
   "source": [
    "mnist_dataset = mnist.input_data.read_data_sets('tensorflow/examples/tutorials/mnist', one_hot=True)"
   ]
  },
  {
   "cell_type": "markdown",
   "metadata": {},
   "source": [
    "#### Divide data"
   ]
  },
  {
   "cell_type": "code",
   "execution_count": 15,
   "metadata": {
    "collapsed": true
   },
   "outputs": [],
   "source": [
    "trainX = mnist_dataset.train.images\n",
    "valX = mnist_dataset.validation.images\n",
    "testX = mnist_dataset.test.images\n",
    "\n",
    "trainY = mnist_dataset.train.labels.astype(np.float32)\n",
    "valY = mnist_dataset.validation.labels.astype(np.float32)\n",
    "testY = mnist_dataset.test.labels.astype(np.float32)"
   ]
  },
  {
   "cell_type": "code",
   "execution_count": 16,
   "metadata": {
    "collapsed": true
   },
   "outputs": [],
   "source": [
    "TRAIN_IMAGES_NUM = trainX.shape[0]\n",
    "TEST_IMAGES_NUM = testX.shape[0]"
   ]
  },
  {
   "cell_type": "markdown",
   "metadata": {},
   "source": [
    "#### Present data"
   ]
  },
  {
   "cell_type": "code",
   "execution_count": 17,
   "metadata": {
    "collapsed": true
   },
   "outputs": [],
   "source": [
    "def show_digit(trainX, trainY, index):\n",
    "    image = trainX[index].reshape([IMAGE_WIDTH, IMAGE_HEIGHT])\n",
    "    label = trainY[index]\n",
    "    plt.title(\"Training data, index: {},  Label: {}\".format(index, label))\n",
    "    plt.imshow(image, cmap=\"gray_r\")\n",
    "    plt.show()"
   ]
  },
  {
   "cell_type": "code",
   "execution_count": 18,
   "metadata": {},
   "outputs": [
    {
     "name": "stdout",
     "output_type": "stream",
     "text": [
      "trainX shape: (55000, 784)\n",
      "trainY shape: (55000, 10)\n",
      "valX shape: (5000, 784)\n",
      "valY shape: (5000, 10)\n",
      "testX shape: (10000, 784)\n",
      "testY shape: (10000, 10)\n"
     ]
    },
    {
     "data": {
      "image/png": "[encoded data removed]",
      "text/plain": [
       "<matplotlib.figure.Figure at 0x12314a358>"
      ]
     },
     "metadata": {},
     "output_type": "display_data"
    }
   ],
   "source": [
    "print(\"trainX shape: \" + str(trainX.shape))\n",
    "print(\"trainY shape: \" + str(trainY.shape))\n",
    "print(\"valX shape: \" + str(valX.shape))\n",
    "print(\"valY shape: \" + str(valY.shape))\n",
    "print(\"testX shape: \" + str(testX.shape))\n",
    "print(\"testY shape: \" + str(testY.shape))\n",
    "show_digit(trainX, trainY, np.random.randint(1, TRAIN_IMAGES_NUM + 1))"
   ]
  },
  {
   "cell_type": "markdown",
   "metadata": {},
   "source": [
    "#### Neural Network preparation"
   ]
  },
  {
   "cell_type": "code",
   "execution_count": 11,
   "metadata": {
    "collapsed": true
   },
   "outputs": [],
   "source": [
    "input_nodes = IMAGE_WIDTH * IMAGE_HEIGHT\n",
    "hidden_layer_1_nodes = 300\n",
    "hidden_layer_2_nodes = 75\n",
    "output_layer_nodes = NUM_LABELS "
   ]
  },
  {
   "cell_type": "code",
   "execution_count": 12,
   "metadata": {
    "collapsed": true
   },
   "outputs": [],
   "source": [
    "# reset tensorflow graph\n",
    "tf.reset_default_graph()\n",
    "\n",
    "# placeholders for inputs, labels and learning rate\n",
    "inputs_ = tf.placeholder(tf.float32, [None, input_nodes], name=\"inputs\")\n",
    "targets_ = tf.placeholder(tf.float32, [None, output_layer_nodes], name=\"targets\")\n",
    "learning_rate_ = tf.placeholder(tf.float32, None, name=\"learning_rate\")\n",
    "keep_prob_ = tf.placeholder(tf.float32, name=\"keep_prob\")\n",
    "\n",
    "# init weights and biases\n",
    "layer_1_weight_shape = [input_nodes, hidden_layer_1_nodes]\n",
    "weights_input_to_h1 = tf.Variable(\n",
    "    tf.random_uniform(layer_1_weight_shape, -1/np.sqrt(input_nodes), 1/np.sqrt(input_nodes)), \n",
    "    name=\"w_i_h1\")\n",
    "bias_input_to_h1 = tf.Variable(tf.zeros([hidden_layer_1_nodes]), name=\"b_i_h1\")\n",
    "\n",
    "layer_2_weight_shape = [hidden_layer_1_nodes, hidden_layer_2_nodes]\n",
    "weights_h1_to_h2 = tf.Variable(\n",
    "    tf.random_uniform(layer_2_weight_shape, -1/np.sqrt(hidden_layer_1_nodes), 1/np.sqrt(hidden_layer_1_nodes)), \n",
    "    name=\"w_h1_h2\")\n",
    "bias_h1_to_h2 = tf.Variable(tf.zeros([hidden_layer_2_nodes]), name=\"b_h1_h2\")\n",
    "\n",
    "layer_3_weight_shape = [hidden_layer_2_nodes, output_layer_nodes]\n",
    "weights_h2_to_o = tf.Variable(\n",
    "    tf.random_uniform(layer_3_weight_shape, -1/np.sqrt(hidden_layer_2_nodes), 1/np.sqrt(hidden_layer_2_nodes)), \n",
    "    name=\"w_h2_o\")\n",
    "bias_h2_to_o = tf.Variable(tf.zeros([output_layer_nodes]), name=\"b_h2_o\")\n",
    "\n",
    "# layers\n",
    "input_to_h1_layer = tf.matmul(inputs_, weights_input_to_h1) + bias_input_to_h1\n",
    "input_to_h1_layer_activated = tf.nn.relu(input_to_h1_layer)\n",
    "input_to_h1_layer_activated = tf.nn.dropout(input_to_h1_layer_activated, keep_prob_) # regularisation\n",
    "\n",
    "h1_to_h2_layer = tf.matmul(input_to_h1_layer_activated, weights_h1_to_h2) + bias_h1_to_h2\n",
    "h1_to_h2_layer_activated = tf.nn.relu(h1_to_h2_layer)\n",
    "h1_to_h2_layer_activated = tf.nn.dropout(h1_to_h2_layer_activated, keep_prob_) # regularisation\n",
    "\n",
    "h2_to_o_layer_logits = tf.matmul(h1_to_h2_layer_activated, weights_h2_to_o) + bias_h2_to_o"
   ]
  },
  {
   "cell_type": "markdown",
   "metadata": {},
   "source": [
    "#### Loss and accuracy assessment"
   ]
  },
  {
   "cell_type": "code",
   "execution_count": 13,
   "metadata": {
    "collapsed": true
   },
   "outputs": [],
   "source": [
    "# loss function\n",
    "loss_function = tf.reduce_mean(tf.nn.softmax_cross_entropy_with_logits(logits=h2_to_o_layer_logits, labels=targets_))\n",
    "\n",
    "# gradient descent optimiser\n",
    "optimizer = tf.train.GradientDescentOptimizer(learning_rate_).minimize(loss_function)\n",
    "\n",
    "# accuracy\n",
    "correct_prediction = tf.equal(tf.argmax(h2_to_o_layer_logits, 1), tf.argmax(targets_, 1))\n",
    "accuracy = tf.reduce_mean(tf.cast(correct_prediction, tf.float32))"
   ]
  },
  {
   "cell_type": "markdown",
   "metadata": {},
   "source": [
    "#### Batch preparation"
   ]
  },
  {
   "cell_type": "markdown",
   "metadata": {},
   "source": [
    "My own implementation:"
   ]
  },
  {
   "cell_type": "code",
   "execution_count": 33,
   "metadata": {
    "collapsed": true
   },
   "outputs": [],
   "source": [
    "def prepare_mini_batches(data, labels, batch_size):\n",
    "    assert len(data) == len(labels)\n",
    "    \n",
    "    all_batches = list()\n",
    "    for i in range(0, len(data)):\n",
    "        all_batches.append((data[i], labels[i]))\n",
    "    random.shuffle(all_batches)\n",
    "        \n",
    "    mini_batches = list()\n",
    "    while len(all_batches) >= batch_size:\n",
    "        \n",
    "        data_batch = list()\n",
    "        labels_batch = list()\n",
    "        for j in range(0, batch_size):\n",
    "            data, labels = all_batches.pop()\n",
    "            data_batch.append(data)\n",
    "            labels_batch.append(labels)\n",
    "            \n",
    "        mini_batches.append((np.array(data_batch), np.array(labels_batch)))\n",
    "    \n",
    "    return mini_batches"
   ]
  },
  {
   "cell_type": "code",
   "execution_count": 34,
   "metadata": {},
   "outputs": [
    {
     "name": "stdout",
     "output_type": "stream",
     "text": [
      "Input data mini-batch: (128, 784)\n",
      "Input data labels mini-batch: (128, 10)\n"
     ]
    }
   ],
   "source": [
    "# divide trainX, trainY data into batches of size 128, data is copied\n",
    "mini_batches_example = prepare_mini_batches(trainX, trainY, 128)\n",
    "\n",
    "# pop next batches\n",
    "exampleX_batches, exampleY_batches = mini_batches_example.pop()\n",
    "print(\"Input data mini-batch: \" + str(exampleX_batches.shape))\n",
    "print(\"Input data labels mini-batch: \" + str(exampleY_batches.shape))"
   ]
  },
  {
   "cell_type": "markdown",
   "metadata": {},
   "source": [
    "Similar but <u>NOT THE SAME</u> result could be achieved by using `mnist_dataset.train` object."
   ]
  },
  {
   "cell_type": "code",
   "execution_count": 35,
   "metadata": {},
   "outputs": [
    {
     "name": "stdout",
     "output_type": "stream",
     "text": [
      "Input data mini-batch: (128, 784)\n",
      "Input data labels mini-batch: (128, 10)\n"
     ]
    }
   ],
   "source": [
    "# fetching next 128 size RANDOM batches from data in mnist_dataset.traing\n",
    "tf_exampleX_batches, tf_exampleY_batches = mnist_dataset.train.next_batch(128)\n",
    "print(\"Input data mini-batch: \" + str(tf_exampleX_batches.shape))\n",
    "print(\"Input data labels mini-batch: \" + str(tf_exampleY_batches.shape))"
   ]
  },
  {
   "cell_type": "markdown",
   "metadata": {},
   "source": [
    "Main difference between two approaches is:\n",
    "\n",
    "a) With my implementation you make sure that if you iterate over *mini_batches* received from *prepare_mini_batches* function - your whole train data will be inserted into net but with random order. \n",
    "\n",
    "b) With tensorflow implementation you simply receive randomly picked *batch_size* samples. That way it is possible that some of samples from train set will enter net more often than others."
   ]
  },
  {
   "cell_type": "markdown",
   "metadata": {},
   "source": [
    "#### Hyperparameters"
   ]
  },
  {
   "cell_type": "code",
   "execution_count": 36,
   "metadata": {
    "collapsed": true
   },
   "outputs": [],
   "source": [
    "epochs = 65\n",
    "batch_size = 128\n",
    "learning_rate = 0.05\n",
    "keep_prob = 0.5"
   ]
  },
  {
   "cell_type": "markdown",
   "metadata": {
    "collapsed": true
   },
   "source": [
    "####  Training cycle"
   ]
  },
  {
   "cell_type": "code",
   "execution_count": 37,
   "metadata": {
    "scrolled": false
   },
   "outputs": [
    {
     "name": "stdout",
     "output_type": "stream",
     "text": [
      "Epoch: 1/65:\n",
      "      - Training loss: 1.1419 (acc: 0.732554)\n",
      "      - Validation loss: 0.478268 (acc: 0.8724)\n",
      "Epoch: 2/65:\n",
      "      - Training loss: 0.382657 (acc: 0.89465)\n",
      "      - Validation loss: 0.321548 (acc: 0.909)\n",
      "Epoch: 3/65:\n",
      "      - Training loss: 0.289504 (acc: 0.917031)\n",
      "      - Validation loss: 0.26145 (acc: 0.9254)\n",
      "Epoch: 4/65:\n",
      "      - Training loss: 0.239911 (acc: 0.929888)\n",
      "      - Validation loss: 0.221096 (acc: 0.9374)\n",
      "Epoch: 5/65:\n",
      "      - Training loss: 0.205349 (acc: 0.939886)\n",
      "      - Validation loss: 0.190167 (acc: 0.946)\n",
      "Epoch: 6/65:\n",
      "      - Training loss: 0.179653 (acc: 0.947844)\n",
      "      - Validation loss: 0.174518 (acc: 0.9522)\n",
      "Epoch: 7/65:\n",
      "      - Training loss: 0.159369 (acc: 0.953507)\n",
      "      - Validation loss: 0.159169 (acc: 0.9552)\n",
      "Epoch: 8/65:\n",
      "      - Training loss: 0.142475 (acc: 0.958789)\n",
      "      - Validation loss: 0.143965 (acc: 0.9604)\n",
      "Epoch: 9/65:\n",
      "      - Training loss: 0.129064 (acc: 0.962485)\n",
      "      - Validation loss: 0.132051 (acc: 0.9632)\n",
      "Epoch: 10/65:\n",
      "      - Training loss: 0.118005 (acc: 0.965873)\n",
      "      - Validation loss: 0.123063 (acc: 0.9656)\n",
      "Epoch: 11/65:\n",
      "      - Training loss: 0.108999 (acc: 0.968732)\n",
      "      - Validation loss: 0.116949 (acc: 0.9668)\n",
      "Epoch: 12/65:\n",
      "      - Training loss: 0.100582 (acc: 0.971117)\n",
      "      - Validation loss: 0.109844 (acc: 0.9696)\n",
      "Epoch: 13/65:\n",
      "      - Training loss: 0.0936648 (acc: 0.973066)\n",
      "      - Validation loss: 0.108409 (acc: 0.9688)\n",
      "Epoch: 14/65:\n",
      "      - Training loss: 0.0871728 (acc: 0.975197)\n",
      "      - Validation loss: 0.103524 (acc: 0.9716)\n",
      "Epoch: 15/65:\n",
      "      - Training loss: 0.0818266 (acc: 0.976654)\n",
      "      - Validation loss: 0.101739 (acc: 0.9712)\n",
      "Epoch: 16/65:\n",
      "      - Training loss: 0.0772596 (acc: 0.978384)\n",
      "      - Validation loss: 0.0977055 (acc: 0.973)\n",
      "Epoch: 17/65:\n",
      "      - Training loss: 0.0727544 (acc: 0.979677)\n",
      "      - Validation loss: 0.093616 (acc: 0.9752)\n",
      "Epoch: 18/65:\n",
      "      - Training loss: 0.0691711 (acc: 0.980186)\n",
      "      - Validation loss: 0.0943672 (acc: 0.9744)\n",
      "Epoch: 19/65:\n",
      "      - Training loss: 0.0655469 (acc: 0.981862)\n",
      "      - Validation loss: 0.0882985 (acc: 0.976)\n",
      "Epoch: 20/65:\n",
      "      - Training loss: 0.0624568 (acc: 0.982354)\n",
      "      - Validation loss: 0.0884743 (acc: 0.9766)\n",
      "Epoch: 21/65:\n",
      "      - Training loss: 0.0592306 (acc: 0.983392)\n",
      "      - Validation loss: 0.0848909 (acc: 0.9764)\n",
      "Epoch: 22/65:\n",
      "      - Training loss: 0.0562405 (acc: 0.984739)\n",
      "      - Validation loss: 0.0830455 (acc: 0.9776)\n",
      "Epoch: 23/65:\n",
      "      - Training loss: 0.053613 (acc: 0.984958)\n",
      "      - Validation loss: 0.0839229 (acc: 0.9782)\n",
      "Epoch: 24/65:\n",
      "      - Training loss: 0.0514589 (acc: 0.985431)\n",
      "      - Validation loss: 0.0807367 (acc: 0.9776)\n",
      "Epoch: 25/65:\n",
      "      - Training loss: 0.0491749 (acc: 0.986469)\n",
      "      - Validation loss: 0.0801286 (acc: 0.9776)\n",
      "Epoch: 26/65:\n",
      "      - Training loss: 0.047285 (acc: 0.987052)\n",
      "      - Validation loss: 0.0794998 (acc: 0.9772)\n",
      "Epoch: 27/65:\n",
      "      - Training loss: 0.0457947 (acc: 0.987179)\n",
      "      - Validation loss: 0.0791516 (acc: 0.978)\n",
      "Epoch: 28/65:\n",
      "      - Training loss: 0.0437559 (acc: 0.988145)\n",
      "      - Validation loss: 0.0780814 (acc: 0.9776)\n",
      "Epoch: 29/65:\n",
      "      - Training loss: 0.0415167 (acc: 0.9884)\n",
      "      - Validation loss: 0.0779433 (acc: 0.9776)\n",
      "Epoch: 30/65:\n",
      "      - Training loss: 0.0398716 (acc: 0.989438)\n",
      "      - Validation loss: 0.076983 (acc: 0.9782)\n",
      "Epoch: 31/65:\n",
      "      - Training loss: 0.0384743 (acc: 0.989547)\n",
      "      - Validation loss: 0.0752199 (acc: 0.978)\n",
      "Epoch: 32/65:\n",
      "      - Training loss: 0.0366988 (acc: 0.990057)\n",
      "      - Validation loss: 0.0759703 (acc: 0.9788)\n",
      "Epoch: 33/65:\n",
      "      - Training loss: 0.035815 (acc: 0.99013)\n",
      "      - Validation loss: 0.0746656 (acc: 0.9786)\n",
      "Epoch: 34/65:\n",
      "      - Training loss: 0.0344831 (acc: 0.99064)\n",
      "      - Validation loss: 0.0745773 (acc: 0.9788)\n",
      "Epoch: 35/65:\n",
      "      - Training loss: 0.0330949 (acc: 0.991259)\n",
      "      - Validation loss: 0.0726325 (acc: 0.9802)\n",
      "Epoch: 36/65:\n",
      "      - Training loss: 0.0325448 (acc: 0.991313)\n",
      "      - Validation loss: 0.0719597 (acc: 0.9806)\n",
      "Epoch: 37/65:\n",
      "      - Training loss: 0.0314179 (acc: 0.991841)\n",
      "      - Validation loss: 0.0721674 (acc: 0.9806)\n",
      "Epoch: 38/65:\n",
      "      - Training loss: 0.0302093 (acc: 0.992242)\n",
      "      - Validation loss: 0.0738686 (acc: 0.9784)\n",
      "Epoch: 39/65:\n",
      "      - Training loss: 0.0292783 (acc: 0.99226)\n",
      "      - Validation loss: 0.0722933 (acc: 0.9794)\n",
      "Epoch: 40/65:\n",
      "      - Training loss: 0.0282358 (acc: 0.992825)\n",
      "      - Validation loss: 0.0694248 (acc: 0.9804)\n",
      "Epoch: 41/65:\n",
      "      - Training loss: 0.0273084 (acc: 0.992679)\n",
      "      - Validation loss: 0.0709655 (acc: 0.9802)\n",
      "Epoch: 42/65:\n",
      "      - Training loss: 0.026425 (acc: 0.993171)\n",
      "      - Validation loss: 0.070842 (acc: 0.9802)\n",
      "Epoch: 43/65:\n",
      "      - Training loss: 0.0253851 (acc: 0.993608)\n",
      "      - Validation loss: 0.068879 (acc: 0.9802)\n",
      "Epoch: 44/65:\n",
      "      - Training loss: 0.0244104 (acc: 0.993881)\n",
      "      - Validation loss: 0.0699824 (acc: 0.98)\n",
      "Epoch: 45/65:\n",
      "      - Training loss: 0.0238888 (acc: 0.993754)\n",
      "      - Validation loss: 0.0703357 (acc: 0.9804)\n",
      "Epoch: 46/65:\n",
      "      - Training loss: 0.0231157 (acc: 0.994336)\n",
      "      - Validation loss: 0.0696631 (acc: 0.9806)\n",
      "Epoch: 47/65:\n",
      "      - Training loss: 0.0223348 (acc: 0.994282)\n",
      "      - Validation loss: 0.0690927 (acc: 0.9794)\n",
      "Epoch: 48/65:\n",
      "      - Training loss: 0.0217147 (acc: 0.994591)\n",
      "      - Validation loss: 0.0706121 (acc: 0.9792)\n",
      "Epoch: 49/65:\n",
      "      - Training loss: 0.0211275 (acc: 0.994682)\n",
      "      - Validation loss: 0.0700726 (acc: 0.981)\n",
      "Epoch: 50/65:\n",
      "      - Training loss: 0.0203627 (acc: 0.994719)\n",
      "      - Validation loss: 0.0696625 (acc: 0.981)\n",
      "Epoch: 51/65:\n",
      "      - Training loss: 0.0196947 (acc: 0.995101)\n",
      "      - Validation loss: 0.0699503 (acc: 0.979)\n",
      "Epoch: 52/65:\n",
      "      - Training loss: 0.0196005 (acc: 0.995065)\n",
      "      - Validation loss: 0.0700605 (acc: 0.9792)\n",
      "Epoch: 53/65:\n",
      "      - Training loss: 0.0192804 (acc: 0.99532)\n",
      "      - Validation loss: 0.0686558 (acc: 0.9802)\n",
      "Epoch: 54/65:\n",
      "      - Training loss: 0.0185241 (acc: 0.995666)\n",
      "      - Validation loss: 0.069165 (acc: 0.9804)\n",
      "Epoch: 55/65:\n",
      "      - Training loss: 0.0176068 (acc: 0.99572)\n",
      "      - Validation loss: 0.067973 (acc: 0.9818)\n",
      "Epoch: 56/65:\n",
      "      - Training loss: 0.017412 (acc: 0.99572)\n",
      "      - Validation loss: 0.0690668 (acc: 0.9816)\n",
      "Epoch: 57/65:\n",
      "      - Training loss: 0.0171213 (acc: 0.995775)\n",
      "      - Validation loss: 0.0691234 (acc: 0.9802)\n",
      "Epoch: 58/65:\n",
      "      - Training loss: 0.016844 (acc: 0.99583)\n",
      "      - Validation loss: 0.0680297 (acc: 0.9806)\n",
      "Epoch: 59/65:\n",
      "      - Training loss: 0.0161617 (acc: 0.995921)\n",
      "      - Validation loss: 0.0681465 (acc: 0.9816)\n",
      "Epoch: 60/65:\n",
      "      - Training loss: 0.0156376 (acc: 0.996249)\n",
      "      - Validation loss: 0.0686379 (acc: 0.9808)\n",
      "Epoch: 61/65:\n",
      "      - Training loss: 0.0152081 (acc: 0.996358)\n",
      "      - Validation loss: 0.0693339 (acc: 0.981)\n",
      "Epoch: 62/65:\n",
      "      - Training loss: 0.0149496 (acc: 0.996394)\n",
      "      - Validation loss: 0.0707248 (acc: 0.9806)\n",
      "Epoch: 63/65:\n",
      "      - Training loss: 0.0141247 (acc: 0.996977)\n",
      "      - Validation loss: 0.06964 (acc: 0.9816)\n",
      "Epoch: 64/65:\n",
      "      - Training loss: 0.0141774 (acc: 0.996667)\n",
      "      - Validation loss: 0.069257 (acc: 0.9804)\n",
      "Epoch: 65/65:\n",
      "      - Training loss: 0.0136225 (acc: 0.996868)\n",
      "      - Validation loss: 0.0666003 (acc: 0.9808)\n",
      "Model saved in file: ./tensorflow-saved-models/mlp-mnist-nn.ckpt\n"
     ]
    }
   ],
   "source": [
    "info = {'train':[], 'validation':[], 'train_acc':[], 'validation_acc':[]}\n",
    "\n",
    "saver = tf.train.Saver()\n",
    "with tf.Session() as training_session:\n",
    "    training_session.run(tf.global_variables_initializer())\n",
    "\n",
    "    for epoch in range(epochs):\n",
    "        mini_batches = prepare_mini_batches(trainX, trainY, batch_size)\n",
    "        \n",
    "        epoch_losses = []\n",
    "        epoch_accuracy = []\n",
    "        while mini_batches:\n",
    "            data_inputs, data_labels = mini_batches.pop()\n",
    "\n",
    "            training_session.run(\n",
    "                optimizer, feed_dict={inputs_: data_inputs, \n",
    "                                      targets_: data_labels, \n",
    "                                      learning_rate_: learning_rate,\n",
    "                                      keep_prob_: keep_prob})\n",
    "            \n",
    "            batch_loss = training_session.run(\n",
    "                loss_function, feed_dict={inputs_: data_inputs, \n",
    "                                          targets_: data_labels,\n",
    "                                          keep_prob_: 1.})\n",
    "            \n",
    "            batch_acc = training_session.run(accuracy, feed_dict={inputs_:data_inputs, \n",
    "                                                                  targets_: data_labels,\n",
    "                                                                  keep_prob_: 1.})\n",
    "            \n",
    "            epoch_losses.append(batch_loss)\n",
    "            epoch_accuracy.append(batch_acc)\n",
    "            \n",
    "        train_loss = np.mean(epoch_losses)\n",
    "        info['train'].append(train_loss)\n",
    "\n",
    "        train_accuracy = np.mean(epoch_accuracy)\n",
    "        info['train_acc'].append(train_accuracy)\n",
    "\n",
    "        val_loss = training_session.run(loss_function, feed_dict={inputs_: valX, \n",
    "                                                                  targets_: valY,\n",
    "                                                                  keep_prob_: 1.})\n",
    "        info['validation'].append(val_loss)\n",
    "\n",
    "        val_accuracy = training_session.run(accuracy, feed_dict={inputs_: valX,\n",
    "                                                                 targets_: valY,\n",
    "                                                                 keep_prob_: 1.})\n",
    "        info['validation_acc'].append(val_accuracy)\n",
    "\n",
    "        print(\"Epoch: \" + str(epoch + 1) + \"/\" + str(epochs) + \":\\n\"\n",
    "              + \"      - Training loss: \" + str(train_loss) + \" (acc: \" + str(train_accuracy) + \")\\n\"\n",
    "              + \"      - Validation loss: \" + str(val_loss) + \" (acc: \" + str(val_accuracy) + \")\")\n",
    "        \n",
    "    save_path = saver.save(training_session, MODEL_DIR)\n",
    "    print(\"Model saved in file: %s\" % save_path) "
   ]
  },
  {
   "cell_type": "markdown",
   "metadata": {},
   "source": [
    "#### Results"
   ]
  },
  {
   "cell_type": "code",
   "execution_count": 38,
   "metadata": {},
   "outputs": [
    {
     "data": {
      "image/png": "[encoded data removed]",
      "text/plain": [
       "<matplotlib.figure.Figure at 0x11cdb5780>"
      ]
     },
     "metadata": {},
     "output_type": "display_data"
    }
   ],
   "source": [
    "fig1 = plt.figure()\n",
    "ax1 = fig1.add_subplot(111)\n",
    "ax1.plot(info['train_acc'], label='Training acc')\n",
    "ax1.plot(info['validation_acc'], label='Validation acc')\n",
    "blue_patch = mpatches.Patch(color='#699cef', label='Training accuracy')\n",
    "orange_patch = mpatches.Patch(color='orange', label='Validation accuracy')\n",
    "ax1.legend(handles=[blue_patch, orange_patch])\n",
    "plt.show()"
   ]
  },
  {
   "cell_type": "code",
   "execution_count": 39,
   "metadata": {},
   "outputs": [
    {
     "data": {
      "image/png": "[encoded data removed]",
      "text/plain": [
       "<matplotlib.figure.Figure at 0x11cdb5dd8>"
      ]
     },
     "metadata": {},
     "output_type": "display_data"
    }
   ],
   "source": [
    "fig1 = plt.figure()\n",
    "ax2 = fig1.add_subplot(111)\n",
    "ax2.plot(info['train'], label='Training loss')\n",
    "ax2.plot(info['validation'], label='Validation loss')\n",
    "blue_patch = mpatches.Patch(color='#699cef', label='Training cross-entropy')\n",
    "orange_patch = mpatches.Patch(color='orange', label='Validation cross-entropy')\n",
    "ax2.legend(handles=[blue_patch, orange_patch])\n",
    "plt.show()"
   ]
  },
  {
   "cell_type": "code",
   "execution_count": 19,
   "metadata": {},
   "outputs": [
    {
     "name": "stdout",
     "output_type": "stream",
     "text": [
      "INFO:tensorflow:Restoring parameters from ./tensorflow-saved-models/mlp-mnist-nn.ckpt\n",
      "Test dataset accuracy: 0.9817\n"
     ]
    }
   ],
   "source": [
    "saver = tf.train.Saver()\n",
    "with tf.Session() as restored_session:\n",
    "    saver.restore(restored_session, MODEL_DIR)    \n",
    "    test_accuracy = restored_session.run(accuracy, feed_dict={inputs_: testX, \n",
    "                                                              targets_: testY,\n",
    "                                                              keep_prob_: 1.})\n",
    "    print(\"Test dataset accuracy: \" + str(test_accuracy))"
   ]
  }
 ],
 "metadata": {
  "kernelspec": {
   "display_name": "Python 3",
   "language": "python",
   "name": "python3"
  },
  "language_info": {
   "codemirror_mode": {
    "name": "ipython",
    "version": 3
   },
   "file_extension": ".py",
   "mimetype": "text/x-python",
   "name": "python",
   "nbconvert_exporter": "python",
   "pygments_lexer": "ipython3",
   "version": "3.6.1"
  }
 },
 "nbformat": 4,
 "nbformat_minor": 2
}
