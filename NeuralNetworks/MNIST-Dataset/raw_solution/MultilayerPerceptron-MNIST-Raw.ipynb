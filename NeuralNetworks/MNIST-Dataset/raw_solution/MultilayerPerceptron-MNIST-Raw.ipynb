{
 "cells": [
  {
   "cell_type": "code",
   "execution_count": 1,
   "metadata": {
    "collapsed": true
   },
   "outputs": [],
   "source": [
    "import matplotlib.pyplot as plt\n",
    "import matplotlib.patches as mpatches\n",
    "import numpy as np\n",
    "import os\n",
    "import sys\n",
    "import gzip\n",
    "import random"
   ]
  },
  {
   "cell_type": "code",
   "execution_count": 2,
   "metadata": {
    "collapsed": true
   },
   "outputs": [],
   "source": [
    "%matplotlib inline"
   ]
  },
  {
   "cell_type": "markdown",
   "metadata": {},
   "source": [
    "#### Dataset info"
   ]
  },
  {
   "cell_type": "code",
   "execution_count": 3,
   "metadata": {
    "collapsed": true
   },
   "outputs": [],
   "source": [
    "# source: http://yann.lecun.com/exdb/mnist/\n",
    "IMAGE_WIDTH = 28\n",
    "IMAGE_HEIGHT = 28\n",
    "NUM_CHANNELS = 1\n",
    "PIXEL_DEPTH = 255\n",
    "NUM_LABELS = 10\n",
    "TRAIN_IMAGES_NUM = 60000\n",
    "TEST_IMAGES_NUM = 10000"
   ]
  },
  {
   "cell_type": "markdown",
   "metadata": {},
   "source": [
    "#### Loading files"
   ]
  },
  {
   "cell_type": "code",
   "execution_count": 4,
   "metadata": {},
   "outputs": [
    {
     "name": "stdout",
     "output_type": "stream",
     "text": [
      "MNIST dataset found in directory './mnist_dataset/':\n",
      "- t10k-images-idx3-ubyte.gz\n",
      "- t10k-labels-idx1-ubyte.gz\n",
      "- train-images-idx3-ubyte.gz\n",
      "- train-labels-idx1-ubyte.gz\n"
     ]
    }
   ],
   "source": [
    "DATASET_DIRECTORY = \"./mnist_dataset/\"\n",
    "\n",
    "if os.path.isdir(DATASET_DIRECTORY):\n",
    "    print(\"MNIST dataset found in directory '\" + DATASET_DIRECTORY + \"':\")\n",
    "    for file in os.listdir(DATASET_DIRECTORY):\n",
    "        print(\"- \"  + file)\n",
    "else:\n",
    "    print(\"Missing MNIST data folder!\")"
   ]
  },
  {
   "cell_type": "markdown",
   "metadata": {},
   "source": [
    "#### Extracting data"
   ]
  },
  {
   "cell_type": "code",
   "execution_count": 5,
   "metadata": {
    "collapsed": true
   },
   "outputs": [],
   "source": [
    "def extract_data(file_path, num_images):\n",
    "    with gzip.open(file_path) as bstream:\n",
    "        bstream.read(16)\n",
    "        buffer = bstream.read(IMAGE_WIDTH * IMAGE_HEIGHT * num_images)\n",
    "        data = np.frombuffer(buffer, dtype=np.uint8).astype(np.float32)\n",
    "        data = data.reshape(num_images, IMAGE_WIDTH, IMAGE_HEIGHT, 1)\n",
    "        return data"
   ]
  },
  {
   "cell_type": "code",
   "execution_count": 6,
   "metadata": {
    "collapsed": true
   },
   "outputs": [],
   "source": [
    "def extract_labels(file_path, num_images):\n",
    "    with gzip.open(file_path) as bstream:\n",
    "        bstream.read(8)\n",
    "        buffer = bstream.read(1 * num_images)\n",
    "        labels = np.frombuffer(buffer, dtype=np.uint8).astype(np.int64)\n",
    "    return labels"
   ]
  },
  {
   "cell_type": "code",
   "execution_count": 7,
   "metadata": {
    "collapsed": true
   },
   "outputs": [],
   "source": [
    "trainX_raw = extract_data(DATASET_DIRECTORY + \"train-images-idx3-ubyte.gz\", TRAIN_IMAGES_NUM)\n",
    "trainY_raw = extract_labels(DATASET_DIRECTORY + \"train-labels-idx1-ubyte.gz\", TRAIN_IMAGES_NUM)\n",
    "testX_raw = extract_data(DATASET_DIRECTORY + \"t10k-images-idx3-ubyte.gz\", TEST_IMAGES_NUM)\n",
    "testY_raw = extract_labels(DATASET_DIRECTORY + \"t10k-labels-idx1-ubyte.gz\", TEST_IMAGES_NUM)"
   ]
  },
  {
   "cell_type": "markdown",
   "metadata": {},
   "source": [
    "#### Present extracted data"
   ]
  },
  {
   "cell_type": "code",
   "execution_count": 8,
   "metadata": {
    "collapsed": true
   },
   "outputs": [],
   "source": [
    "def show_digit(trainX_raw, trainY_raw, index):\n",
    "    image = trainX_raw[index].reshape([IMAGE_WIDTH, IMAGE_HEIGHT])\n",
    "    label = trainY_raw[index]\n",
    "    plt.title(\"Training data, index: {},  Label: {}\".format(index, label))\n",
    "    plt.imshow(image, cmap=\"gray_r\")\n",
    "    plt.show()"
   ]
  },
  {
   "cell_type": "code",
   "execution_count": 9,
   "metadata": {},
   "outputs": [
    {
     "name": "stdout",
     "output_type": "stream",
     "text": [
      "trainX_raw shape: (60000, 28, 28, 1)\n",
      "trainY_raw shape: (60000,)\n",
      "testX_raw shape: (10000, 28, 28, 1)\n",
      "testY_raw shape: (10000,)\n"
     ]
    },
    {
     "data": {
      "image/png": "[encoded data removed]",
      "text/plain": [
       "<matplotlib.figure.Figure at 0x1134d9470>"
      ]
     },
     "metadata": {},
     "output_type": "display_data"
    }
   ],
   "source": [
    "print(\"trainX_raw shape: \" + str(trainX_raw.shape))\n",
    "print(\"trainY_raw shape: \" + str(trainY_raw.shape))\n",
    "print(\"testX_raw shape: \" + str(testX_raw.shape))\n",
    "print(\"testY_raw shape: \" + str(testY_raw.shape))\n",
    "show_digit(trainX_raw, trainY_raw, np.random.randint(1, TRAIN_IMAGES_NUM + 1))"
   ]
  },
  {
   "cell_type": "markdown",
   "metadata": {},
   "source": [
    "#### Preprocess data"
   ]
  },
  {
   "cell_type": "code",
   "execution_count": 10,
   "metadata": {
    "collapsed": true
   },
   "outputs": [],
   "source": [
    "def normalize(x, pixel_depth):\n",
    "    return x / pixel_depth"
   ]
  },
  {
   "cell_type": "code",
   "execution_count": 11,
   "metadata": {
    "collapsed": true
   },
   "outputs": [],
   "source": [
    "def one_hot_encode(x, labels_num):\n",
    "    rows = len(x)\n",
    "\n",
    "    encoding_array = np.zeros([rows, labels_num])\n",
    "    for row in range(0, rows):\n",
    "        label = x[row] - 1\n",
    "        encoding_array[row][label] = 1\n",
    "\n",
    "    return encoding_array"
   ]
  },
  {
   "cell_type": "code",
   "execution_count": 12,
   "metadata": {
    "collapsed": true
   },
   "outputs": [],
   "source": [
    "trainX_processed = normalize(np.reshape(trainX_raw, (TRAIN_IMAGES_NUM, IMAGE_WIDTH * IMAGE_HEIGHT)), PIXEL_DEPTH)\n",
    "testX_processed = normalize(np.reshape(testX_raw, (TEST_IMAGES_NUM, IMAGE_WIDTH * IMAGE_HEIGHT)), PIXEL_DEPTH)"
   ]
  },
  {
   "cell_type": "code",
   "execution_count": 13,
   "metadata": {},
   "outputs": [
    {
     "name": "stdout",
     "output_type": "stream",
     "text": [
      "trainX_raw shape: (60000, 28, 28, 1), min: 0.0, max: 255.0\n",
      "testX_raw shape: (10000, 28, 28, 1), min: 0.0, max: 255.0\n",
      "trainX_processed shape: (60000, 784), min: 0.0, max: 1.0\n",
      "testX_processed shape: (10000, 784), min: 0.0, max: 1.0\n"
     ]
    }
   ],
   "source": [
    "print(\"trainX_raw shape: \" + str(trainX_raw.shape) + \", min: \" + str(np.min(trainX_raw)) + \", max: \" + str(np.max(trainX_raw)))\n",
    "print(\"testX_raw shape: \" + str(testX_raw.shape) + \", min: \" + str(np.min(testX_raw)) + \", max: \" + str(np.max(testX_raw)))\n",
    "print(\"trainX_processed shape: \" + str(trainX_processed.shape) + \", min: \" + str(np.min(trainX_processed)) + \", max: \" + str(np.max(trainX_processed)))\n",
    "print(\"testX_processed shape: \" + str(testX_processed.shape) + \", min: \" + str(np.min(testX_processed)) + \", max: \" + str(np.max(testX_processed)))"
   ]
  },
  {
   "cell_type": "code",
   "execution_count": 14,
   "metadata": {
    "collapsed": true
   },
   "outputs": [],
   "source": [
    "trainY_processed = one_hot_encode(trainY_raw, NUM_LABELS)\n",
    "testY_processed = one_hot_encode(testY_raw, NUM_LABELS)"
   ]
  },
  {
   "cell_type": "code",
   "execution_count": 15,
   "metadata": {},
   "outputs": [
    {
     "name": "stdout",
     "output_type": "stream",
     "text": [
      "Label on pos: 29980 equals 9, OHE tensor: [ 0.  0.  0.  0.  0.  0.  0.  0.  1.  0.]\n",
      "Label on pos: 1406 equals 5, OHE tensor: [ 0.  0.  0.  0.  1.  0.  0.  0.  0.  0.]\n"
     ]
    }
   ],
   "source": [
    "random_train_index = np.random.randint(1, TRAIN_IMAGES_NUM + 1)\n",
    "random_test_index = np.random.randint(1, TEST_IMAGES_NUM + 1)\n",
    "\n",
    "print(\"Label on pos: \" + str(random_train_index) + \" equals \" + str(trainY_raw[random_train_index]) + \", OHE tensor: \" + str(trainY_processed[random_train_index]))\n",
    "print(\"Label on pos: \" + str(random_test_index) + \" equals \" + str(testY_raw[random_test_index]) + \", OHE tensor: \" + str(testY_processed[random_test_index]))"
   ]
  },
  {
   "cell_type": "markdown",
   "metadata": {},
   "source": [
    "#### Divide data"
   ]
  },
  {
   "cell_type": "code",
   "execution_count": 16,
   "metadata": {
    "collapsed": true
   },
   "outputs": [],
   "source": [
    "VALIDATION_DATA_PERCENTAGE = 0.1"
   ]
  },
  {
   "cell_type": "code",
   "execution_count": 17,
   "metadata": {
    "collapsed": true
   },
   "outputs": [],
   "source": [
    "val_samples = int(TRAIN_IMAGES_NUM * VALIDATION_DATA_PERCENTAGE)"
   ]
  },
  {
   "cell_type": "code",
   "execution_count": 18,
   "metadata": {
    "collapsed": true
   },
   "outputs": [],
   "source": [
    "train_dataX = trainX_processed[val_samples:]\n",
    "train_dataY = trainY_processed[val_samples:]\n",
    "val_dataX = trainX_processed[:val_samples]\n",
    "val_dataY = trainY_processed[:val_samples]"
   ]
  },
  {
   "cell_type": "code",
   "execution_count": 19,
   "metadata": {},
   "outputs": [
    {
     "name": "stdout",
     "output_type": "stream",
     "text": [
      "train_dataX shape: (54000, 784)\n",
      "train_dataY shape: (54000, 10)\n",
      "val_dataX shape: (6000, 784)\n",
      "val_dataY shape: (6000, 10)\n"
     ]
    }
   ],
   "source": [
    "print(\"train_dataX shape: \" + str(train_dataX.shape))\n",
    "print(\"train_dataY shape: \" + str(train_dataY.shape))\n",
    "print(\"val_dataX shape: \" + str(val_dataX.shape))\n",
    "print(\"val_dataY shape: \" + str(val_dataY.shape))"
   ]
  },
  {
   "cell_type": "markdown",
   "metadata": {},
   "source": [
    "#### Neural Network preparation"
   ]
  },
  {
   "cell_type": "code",
   "execution_count": 20,
   "metadata": {
    "collapsed": true
   },
   "outputs": [],
   "source": [
    "class NeuralNetwork(object):\n",
    "    def __init__(self, input_nodes, hidden_nodes_layer_1, hidden_nodes_layer_2, output_nodes, learning_rate):\n",
    "        self.input_nodes = input_nodes\n",
    "        self.hidden_nodes_layer_1 = hidden_nodes_layer_1\n",
    "        self.hidden_nodes_layer_2 = hidden_nodes_layer_2\n",
    "        self.output_nodes = output_nodes\n",
    "        self.lr = learning_rate\n",
    "        \n",
    "        # initialize weights and biases\n",
    "        self.weights_i_to_h1 = np.random.uniform(\n",
    "            (-1 / np.sqrt(self.input_nodes)), (1 / np.sqrt(self.input_nodes)), \n",
    "            (self.input_nodes, self.hidden_nodes_layer_1))\n",
    "        self.bias_i_to_h1 = np.zeros(self.hidden_nodes_layer_1)\n",
    "        \n",
    "        self.weights_h1_to_h2 = np.random.uniform(\n",
    "            (-1 / np.sqrt(self.hidden_nodes_layer_1)), (1 / np.sqrt(self.hidden_nodes_layer_1)), \n",
    "            (self.hidden_nodes_layer_1, self.hidden_nodes_layer_2))\n",
    "        self.bias_h1_to_h2 = np.zeros(self.hidden_nodes_layer_2)\n",
    "\n",
    "        self.weights_h2_to_o = np.random.uniform(\n",
    "            (-1 / np.sqrt(self.hidden_nodes_layer_2)), (1 / np.sqrt(self.hidden_nodes_layer_2)),\n",
    "            (self.hidden_nodes_layer_2, self.output_nodes))\n",
    "        self.bias_h2_to_o = np.zeros(self.output_nodes)\n",
    "        \n",
    "    def activation_ReLU(self, x):\n",
    "        return x * (x > 0)\n",
    "    \n",
    "    def activation_dReLU(self, x):\n",
    "        return 1. * (x > 0)\n",
    "    \n",
    "    def softmax(self, x):\n",
    "        # TODO: vectorise math to speed up computation\n",
    "        softmax_result = None\n",
    "        if x.ndim == 1:\n",
    "            z = x - np.max(x)\n",
    "            softmax_result = np.exp(z) / np.sum(np.exp(z))\n",
    "            return softmax_result\n",
    "        else:\n",
    "            softmax_result = []\n",
    "            for row in x:\n",
    "                z = row - np.max(row)\n",
    "                row_softmax_result = np.exp(z) / np.sum(np.exp(z))\n",
    "                softmax_result.append(row_softmax_result)\n",
    "            return np.array(softmax_result)\n",
    "    \n",
    "    def dsoftmax(self, x):\n",
    "        # TODO: vectorise math to speed up computation\n",
    "        vec_len = len(x)\n",
    "        J = np.zeros((vec_len, vec_len))\n",
    "        for i in range(vec_len):\n",
    "            for j in range(vec_len):\n",
    "                if i == j:\n",
    "                    J[i][j] = x[i] * (1 - x[j])\n",
    "                else:\n",
    "                    J[i][j] = -x[i] * x[j]\n",
    "        return J\n",
    "\n",
    "    def train(self, features, targets):\n",
    "        n_records = features.shape[0]\n",
    "        \n",
    "        # placeholders for weights and biases change values\n",
    "        delta_weights_i_h1 = np.zeros(self.weights_i_to_h1.shape)\n",
    "        delta_weights_h1_h2 = np.zeros(self.weights_h1_to_h2.shape)\n",
    "        delta_weights_h2_o = np.zeros(self.weights_h2_to_o.shape)\n",
    "        delta_bias_i_h1 = np.zeros(self.bias_i_to_h1.shape)\n",
    "        delta_bias_h1_h2 = np.zeros(self.bias_h1_to_h2.shape)\n",
    "        delta_bias_h2_o = np.zeros(self.bias_h2_to_o.shape)\n",
    "        \n",
    "        for X, y in zip(features, targets):\n",
    "            ### forward pass\n",
    "            # input to hidden 1\n",
    "            inputs_to_h1_layer = np.dot(X, self.weights_i_to_h1) + self.bias_i_to_h1\n",
    "            inputs_to_h1_layer_activated = self.activation_ReLU(inputs_to_h1_layer)\n",
    "            \n",
    "            # hidden 1 to hidden 2\n",
    "            h1_to_h2_layer = np.dot(inputs_to_h1_layer_activated, self.weights_h1_to_h2) + self.bias_h1_to_h2\n",
    "            h1_to_h2_layer_activated = self.activation_ReLU(h1_to_h2_layer)\n",
    "\n",
    "            # hidden 2 to output\n",
    "            h2_to_output_layer = np.dot(h1_to_h2_layer_activated, self.weights_h2_to_o) + self.bias_h2_to_o\n",
    "            h2_to_output_layer_activated = self.softmax(h2_to_output_layer)\n",
    "            \n",
    "            # output\n",
    "            final_outputs = h2_to_output_layer_activated \n",
    "\n",
    "            ### backpropagation\n",
    "            # output to hidden 2\n",
    "            error = y - final_outputs\n",
    "            output_error_term = error.dot(self.dsoftmax(h2_to_output_layer_activated))\n",
    "            \n",
    "            h2_error = np.dot(output_error_term, self.weights_h2_to_o.T)\n",
    "            h2_error_term = h2_error * self.activation_dReLU(h1_to_h2_layer_activated)\n",
    "            \n",
    "            # hidden 2 to hidden 1\n",
    "            h1_error = np.dot(h2_error_term, self.weights_h1_to_h2.T) \n",
    "            h1_error_term = h1_error * self.activation_dReLU(inputs_to_h1_layer_activated)\n",
    "\n",
    "            # weight & bias step (input to hidden)\n",
    "            delta_weights_i_h1 += h1_error_term * X[:, None]\n",
    "            delta_bias_i_h1 = np.sum(h1_error_term, axis=0)\n",
    "            \n",
    "            # weight & bias step (hidden1 to hidden2)\n",
    "            delta_weights_h1_h2 += h2_error_term * inputs_to_h1_layer_activated[:, None]\n",
    "            delta_bias_h1_h2 = np.sum(h2_error_term, axis=0)\n",
    "            \n",
    "            # weight & bias step (hidden2 to output)\n",
    "            delta_weights_h2_o += output_error_term * h1_to_h2_layer_activated[:, None]\n",
    "            delta_bias_h2_o = np.sum(output_error_term, axis=0)\n",
    "\n",
    "        # update the weights and biases     \n",
    "        self.weights_i_to_h1 += self.lr * delta_weights_i_h1 / n_records\n",
    "        self.weights_h1_to_h2 += self.lr * delta_weights_h1_h2 / n_records\n",
    "        self.weights_h2_to_o += self.lr * delta_weights_h2_o / n_records\n",
    "        self.bias_i_to_h1 += self.lr * delta_bias_i_h1 / n_records\n",
    "        self.bias_h1_to_h2 += self.lr * delta_bias_h1_h2 / n_records\n",
    "        self.bias_h2_to_o += self.lr * delta_bias_h2_o / n_records\n",
    "    \n",
    " \n",
    "    def run(self, features):\n",
    "        ### forward pass   \n",
    "        # input to hidden 1\n",
    "        inputs_to_h1_layer = np.dot(features, self.weights_i_to_h1) + self.bias_i_to_h1\n",
    "        inputs_to_h1_layer_activated = self.activation_ReLU(inputs_to_h1_layer)\n",
    "\n",
    "        # hidden 1 to hidden 2\n",
    "        h1_to_h2_layer = np.dot(inputs_to_h1_layer_activated, self.weights_h1_to_h2) + self.bias_h1_to_h2\n",
    "        h1_to_h2_layer_activated = self.activation_ReLU(h1_to_h2_layer)\n",
    "\n",
    "        # hidden 2 to output\n",
    "        h2_to_output_layer = np.dot(h1_to_h2_layer_activated, self.weights_h2_to_o) + self.bias_h2_to_o\n",
    "        h2_to_output_layer_activated = self.softmax(h2_to_output_layer)\n",
    "\n",
    "        # output\n",
    "        final_outputs = h2_to_output_layer_activated\n",
    "    \n",
    "        return final_outputs"
   ]
  },
  {
   "cell_type": "markdown",
   "metadata": {},
   "source": [
    "#### Batch preparation"
   ]
  },
  {
   "cell_type": "code",
   "execution_count": 21,
   "metadata": {
    "collapsed": true
   },
   "outputs": [],
   "source": [
    "def prepare_mini_batches(data, labels, batch_size):\n",
    "    assert len(data) == len(labels)\n",
    "    \n",
    "    all_batches = list()\n",
    "    for i in range(0, len(data)):\n",
    "        all_batches.append((data[i], labels[i]))\n",
    "    random.shuffle(all_batches)\n",
    "        \n",
    "    mini_batches = list()\n",
    "    while len(all_batches) >= batch_size:\n",
    "        \n",
    "        data_batch = list()\n",
    "        labels_batch = list()\n",
    "        for j in range(0, batch_size):\n",
    "            data, labels = all_batches.pop()\n",
    "            data_batch.append(data)\n",
    "            labels_batch.append(labels)\n",
    "            \n",
    "        mini_batches.append((np.array(data_batch), np.array(labels_batch)))\n",
    "    \n",
    "    return mini_batches"
   ]
  },
  {
   "cell_type": "markdown",
   "metadata": {},
   "source": [
    "#### Hyperparameters"
   ]
  },
  {
   "cell_type": "code",
   "execution_count": 22,
   "metadata": {
    "collapsed": true
   },
   "outputs": [],
   "source": [
    "epochs = 80\n",
    "batch_size = 128\n",
    "learning_rate = 0.05\n",
    "\n",
    "input_nodes = IMAGE_WIDTH * IMAGE_HEIGHT\n",
    "hidden_nodes_1 = 300\n",
    "hidden_nodes_2 = 75\n",
    "output_nodes = 10"
   ]
  },
  {
   "cell_type": "markdown",
   "metadata": {
    "collapsed": true
   },
   "source": [
    "####  Training"
   ]
  },
  {
   "cell_type": "code",
   "execution_count": 23,
   "metadata": {
    "collapsed": true
   },
   "outputs": [],
   "source": [
    "def categorical_cross_entropy(pred, target): \n",
    "    return (1/len(pred)) * -np.sum(target * np.log(pred))"
   ]
  },
  {
   "cell_type": "code",
   "execution_count": 24,
   "metadata": {
    "collapsed": true
   },
   "outputs": [],
   "source": [
    "def accuracy(predictions, labels):\n",
    "    predictions = predictions.argmax(axis=1)\n",
    "    targets = labels.argmax(axis=1)\n",
    "    return np.mean(predictions == targets, axis=0)"
   ]
  },
  {
   "cell_type": "code",
   "execution_count": 25,
   "metadata": {},
   "outputs": [
    {
     "name": "stdout",
     "output_type": "stream",
     "text": [
      "Epoch: 1/80:\n",
      "      - Training loss: 2.27166506305 (acc: 0.304372030879)\n",
      "      - Validation loss: 2.22707679838 (acc: 0.4855)\n",
      "Epoch: 2/80:\n",
      "      - Training loss: 2.11108651709 (acc: 0.480552256532)\n",
      "      - Validation loss: 1.90535877864 (acc: 0.444166666667)\n",
      "Epoch: 3/80:\n",
      "      - Training loss: 1.47647395531 (acc: 0.594232482185)\n",
      "      - Validation loss: 0.981748503703 (acc: 0.761833333333)\n",
      "Epoch: 4/80:\n",
      "      - Training loss: 0.718849547977 (acc: 0.827401276722)\n",
      "      - Validation loss: 0.556891843201 (acc: 0.864833333333)\n",
      "Epoch: 5/80:\n",
      "      - Training loss: 0.496578343797 (acc: 0.87609486342)\n",
      "      - Validation loss: 0.442489809835 (acc: 0.889)\n",
      "Epoch: 6/80:\n",
      "      - Training loss: 0.422581092062 (acc: 0.893130195962)\n",
      "      - Validation loss: 0.393358021807 (acc: 0.897666666667)\n",
      "Epoch: 7/80:\n",
      "      - Training loss: 0.38543815662 (acc: 0.901610748219)\n",
      "      - Validation loss: 0.363962275468 (acc: 0.904166666667)\n",
      "Epoch: 8/80:\n",
      "      - Training loss: 0.361900553093 (acc: 0.907270635392)\n",
      "      - Validation loss: 0.343959493465 (acc: 0.911)\n",
      "Epoch: 9/80:\n",
      "      - Training loss: 0.345271569776 (acc: 0.912002672209)\n",
      "      - Validation loss: 0.332232901559 (acc: 0.9155)\n",
      "Epoch: 10/80:\n",
      "      - Training loss: 0.331703074334 (acc: 0.916549138955)\n",
      "      - Validation loss: 0.316942720391 (acc: 0.919)\n",
      "Epoch: 11/80:\n",
      "      - Training loss: 0.320667694619 (acc: 0.919759501188)\n",
      "      - Validation loss: 0.306775388371 (acc: 0.920166666667)\n",
      "Epoch: 12/80:\n",
      "      - Training loss: 0.311089066489 (acc: 0.922654394299)\n",
      "      - Validation loss: 0.29789290021 (acc: 0.923666666667)\n",
      "Epoch: 13/80:\n",
      "      - Training loss: 0.301663892877 (acc: 0.925660629454)\n",
      "      - Validation loss: 0.287838490928 (acc: 0.927)\n",
      "Epoch: 14/80:\n",
      "      - Training loss: 0.293241181688 (acc: 0.928165825416)\n",
      "      - Validation loss: 0.281677612442 (acc: 0.9305)\n",
      "Epoch: 15/80:\n",
      "      - Training loss: 0.28516020147 (acc: 0.930411223278)\n",
      "      - Validation loss: 0.273427518643 (acc: 0.931333333333)\n",
      "Epoch: 16/80:\n",
      "      - Training loss: 0.277787902538 (acc: 0.93252672209)\n",
      "      - Validation loss: 0.265913662737 (acc: 0.934833333333)\n",
      "Epoch: 17/80:\n",
      "      - Training loss: 0.269773477218 (acc: 0.935013361045)\n",
      "      - Validation loss: 0.259401520367 (acc: 0.936)\n",
      "Epoch: 18/80:\n",
      "      - Training loss: 0.263150800713 (acc: 0.93737010095)\n",
      "      - Validation loss: 0.253077383793 (acc: 0.935333333333)\n",
      "Epoch: 19/80:\n",
      "      - Training loss: 0.256324241784 (acc: 0.938297951306)\n",
      "      - Validation loss: 0.24872547271 (acc: 0.939333333333)\n",
      "Epoch: 20/80:\n",
      "      - Training loss: 0.250115546072 (acc: 0.94059902019)\n",
      "      - Validation loss: 0.241967127003 (acc: 0.94)\n",
      "Epoch: 21/80:\n",
      "      - Training loss: 0.243452352925 (acc: 0.942287707838)\n",
      "      - Validation loss: 0.239609746112 (acc: 0.940833333333)\n",
      "Epoch: 22/80:\n",
      "      - Training loss: 0.237471985831 (acc: 0.943475356295)\n",
      "      - Validation loss: 0.230619175075 (acc: 0.943333333333)\n",
      "Epoch: 23/80:\n",
      "      - Training loss: 0.231202807814 (acc: 0.945256828979)\n",
      "      - Validation loss: 0.225396632009 (acc: 0.943833333333)\n",
      "Epoch: 24/80:\n",
      "      - Training loss: 0.225315692556 (acc: 0.947260985748)\n",
      "      - Validation loss: 0.219186082219 (acc: 0.944)\n",
      "Epoch: 25/80:\n",
      "      - Training loss: 0.220135360319 (acc: 0.948170279097)\n",
      "      - Validation loss: 0.21487598201 (acc: 0.946666666667)\n",
      "Epoch: 26/80:\n",
      "      - Training loss: 0.213985664752 (acc: 0.949858966746)\n",
      "      - Validation loss: 0.211255423888 (acc: 0.948)\n",
      "Epoch: 27/80:\n",
      "      - Training loss: 0.208804323956 (acc: 0.951529097387)\n",
      "      - Validation loss: 0.206174175176 (acc: 0.948166666667)\n",
      "Epoch: 28/80:\n",
      "      - Training loss: 0.20356544558 (acc: 0.952512618765)\n",
      "      - Validation loss: 0.202337242555 (acc: 0.949333333333)\n",
      "Epoch: 29/80:\n",
      "      - Training loss: 0.198273291701 (acc: 0.954294091449)\n",
      "      - Validation loss: 0.200289288308 (acc: 0.949333333333)\n",
      "Epoch: 30/80:\n",
      "      - Training loss: 0.193181373667 (acc: 0.955426068884)\n",
      "      - Validation loss: 0.193663638541 (acc: 0.951)\n",
      "Epoch: 31/80:\n",
      "      - Training loss: 0.189131022787 (acc: 0.956595160333)\n",
      "      - Validation loss: 0.189927236778 (acc: 0.951666666667)\n",
      "Epoch: 32/80:\n",
      "      - Training loss: 0.184776942065 (acc: 0.958061163895)\n",
      "      - Validation loss: 0.1877428211 (acc: 0.955166666667)\n",
      "Epoch: 33/80:\n",
      "      - Training loss: 0.180494497825 (acc: 0.959081799287)\n",
      "      - Validation loss: 0.18455356444 (acc: 0.954833333333)\n",
      "Epoch: 34/80:\n",
      "      - Training loss: 0.175989279319 (acc: 0.960120991686)\n",
      "      - Validation loss: 0.181028389262 (acc: 0.955)\n",
      "Epoch: 35/80:\n",
      "      - Training loss: 0.172095164137 (acc: 0.96132719715)\n",
      "      - Validation loss: 0.176020420595 (acc: 0.956166666667)\n",
      "Epoch: 36/80:\n",
      "      - Training loss: 0.167906966349 (acc: 0.962459174584)\n",
      "      - Validation loss: 0.174792601167 (acc: 0.955166666667)\n",
      "Epoch: 37/80:\n",
      "      - Training loss: 0.164565760009 (acc: 0.963275682898)\n",
      "      - Validation loss: 0.171683812341 (acc: 0.956666666667)\n",
      "Epoch: 38/80:\n",
      "      - Training loss: 0.16061871279 (acc: 0.964222090261)\n",
      "      - Validation loss: 0.17105106526 (acc: 0.9575)\n",
      "Epoch: 39/80:\n",
      "      - Training loss: 0.157608066146 (acc: 0.965279839667)\n",
      "      - Validation loss: 0.165074227035 (acc: 0.957333333333)\n",
      "Epoch: 40/80:\n",
      "      - Training loss: 0.154039184166 (acc: 0.966300475059)\n",
      "      - Validation loss: 0.162242163156 (acc: 0.958333333333)\n",
      "Epoch: 41/80:\n",
      "      - Training loss: 0.151056517821 (acc: 0.967061312352)\n",
      "      - Validation loss: 0.159552247579 (acc: 0.959333333333)\n",
      "Epoch: 42/80:\n",
      "      - Training loss: 0.148037166137 (acc: 0.968267517815)\n",
      "      - Validation loss: 0.156962393987 (acc: 0.959166666667)\n",
      "Epoch: 43/80:\n",
      "      - Training loss: 0.145094685414 (acc: 0.969046912114)\n",
      "      - Validation loss: 0.154170121916 (acc: 0.959833333333)\n",
      "Epoch: 44/80:\n",
      "      - Training loss: 0.142243712763 (acc: 0.97023456057)\n",
      "      - Validation loss: 0.151022371027 (acc: 0.961)\n",
      "Epoch: 45/80:\n",
      "      - Training loss: 0.139452814949 (acc: 0.971255195962)\n",
      "      - Validation loss: 0.15017777232 (acc: 0.961)\n",
      "Epoch: 46/80:\n",
      "      - Training loss: 0.136465932214 (acc: 0.971570665083)\n",
      "      - Validation loss: 0.149331685716 (acc: 0.962)\n",
      "Epoch: 47/80:\n",
      "      - Training loss: 0.133895908557 (acc: 0.972479958432)\n",
      "      - Validation loss: 0.149562435784 (acc: 0.962833333333)\n",
      "Epoch: 48/80:\n",
      "      - Training loss: 0.131080119579 (acc: 0.973092339667)\n",
      "      - Validation loss: 0.145430931802 (acc: 0.963)\n",
      "Epoch: 49/80:\n",
      "      - Training loss: 0.129080792717 (acc: 0.973834619952)\n",
      "      - Validation loss: 0.142098487562 (acc: 0.964166666667)\n",
      "Epoch: 50/80:\n",
      "      - Training loss: 0.126478700953 (acc: 0.974669685273)\n",
      "      - Validation loss: 0.139250424788 (acc: 0.964666666667)\n",
      "Epoch: 51/80:\n",
      "      - Training loss: 0.124171085085 (acc: 0.975226395487)\n",
      "      - Validation loss: 0.13870625758 (acc: 0.9645)\n",
      "Epoch: 52/80:\n",
      "      - Training loss: 0.121923602087 (acc: 0.975430522565)\n",
      "      - Validation loss: 0.137372986956 (acc: 0.965)\n",
      "Epoch: 53/80:\n",
      "      - Training loss: 0.119450515596 (acc: 0.976395486936)\n",
      "      - Validation loss: 0.134287809 (acc: 0.965166666667)\n",
      "Epoch: 54/80:\n",
      "      - Training loss: 0.117326276752 (acc: 0.976840855107)\n",
      "      - Validation loss: 0.133518026372 (acc: 0.9645)\n",
      "Epoch: 55/80:\n",
      "      - Training loss: 0.115440530734 (acc: 0.977546021378)\n",
      "      - Validation loss: 0.132375376087 (acc: 0.965166666667)\n",
      "Epoch: 56/80:\n",
      "      - Training loss: 0.113151530186 (acc: 0.978288301663)\n",
      "      - Validation loss: 0.130809742988 (acc: 0.965666666667)\n",
      "Epoch: 57/80:\n",
      "      - Training loss: 0.111220230217 (acc: 0.978863568884)\n",
      "      - Validation loss: 0.129431412385 (acc: 0.966333333333)\n",
      "Epoch: 58/80:\n",
      "      - Training loss: 0.109489942408 (acc: 0.979308937055)\n",
      "      - Validation loss: 0.129104495555 (acc: 0.9655)\n",
      "Epoch: 59/80:\n",
      "      - Training loss: 0.107535191274 (acc: 0.97966152019)\n",
      "      - Validation loss: 0.126005296387 (acc: 0.967666666667)\n",
      "Epoch: 60/80:\n",
      "      - Training loss: 0.105565796407 (acc: 0.980422357482)\n",
      "      - Validation loss: 0.125539287441 (acc: 0.967)\n",
      "Epoch: 61/80:\n",
      "      - Training loss: 0.10385437212 (acc: 0.980700712589)\n",
      "      - Validation loss: 0.123578637848 (acc: 0.968166666667)\n",
      "Epoch: 62/80:\n",
      "      - Training loss: 0.10216670168 (acc: 0.981201751781)\n",
      "      - Validation loss: 0.12240204028 (acc: 0.968333333333)\n",
      "Epoch: 63/80:\n",
      "      - Training loss: 0.100613895138 (acc: 0.981572891924)\n",
      "      - Validation loss: 0.121509219929 (acc: 0.968166666667)\n"
     ]
    },
    {
     "name": "stdout",
     "output_type": "stream",
     "text": [
      "Epoch: 64/80:\n",
      "      - Training loss: 0.0989223328627 (acc: 0.981981146081)\n",
      "      - Validation loss: 0.120107917976 (acc: 0.969)\n",
      "Epoch: 65/80:\n",
      "      - Training loss: 0.0974248114589 (acc: 0.982853325416)\n",
      "      - Validation loss: 0.118456935611 (acc: 0.969333333333)\n",
      "Epoch: 66/80:\n",
      "      - Training loss: 0.0958760553063 (acc: 0.982797654394)\n",
      "      - Validation loss: 0.117989048954 (acc: 0.969666666667)\n",
      "Epoch: 67/80:\n",
      "      - Training loss: 0.0942049373718 (acc: 0.98315023753)\n",
      "      - Validation loss: 0.116913331103 (acc: 0.969333333333)\n",
      "Epoch: 68/80:\n",
      "      - Training loss: 0.0927538121369 (acc: 0.983744061758)\n",
      "      - Validation loss: 0.116909280086 (acc: 0.969333333333)\n",
      "Epoch: 69/80:\n",
      "      - Training loss: 0.0915542800473 (acc: 0.9838554038)\n",
      "      - Validation loss: 0.115683537412 (acc: 0.97)\n",
      "Epoch: 70/80:\n",
      "      - Training loss: 0.0901503868844 (acc: 0.984319328979)\n",
      "      - Validation loss: 0.114397983878 (acc: 0.9695)\n",
      "Epoch: 71/80:\n",
      "      - Training loss: 0.0887772314117 (acc: 0.984542013064)\n",
      "      - Validation loss: 0.113419988505 (acc: 0.969833333333)\n",
      "Epoch: 72/80:\n",
      "      - Training loss: 0.0874623344466 (acc: 0.9848945962)\n",
      "      - Validation loss: 0.11524586993 (acc: 0.970666666667)\n",
      "Epoch: 73/80:\n",
      "      - Training loss: 0.0863912593332 (acc: 0.985339964371)\n",
      "      - Validation loss: 0.111997651817 (acc: 0.969833333333)\n",
      "Epoch: 74/80:\n",
      "      - Training loss: 0.0853065891389 (acc: 0.985655433492)\n",
      "      - Validation loss: 0.111026088278 (acc: 0.970166666667)\n",
      "Epoch: 75/80:\n",
      "      - Training loss: 0.0837155401594 (acc: 0.985970902613)\n",
      "      - Validation loss: 0.11032152192 (acc: 0.970666666667)\n",
      "Epoch: 76/80:\n",
      "      - Training loss: 0.0827353535878 (acc: 0.986137915677)\n",
      "      - Validation loss: 0.110750091553 (acc: 0.969833333333)\n",
      "Epoch: 77/80:\n",
      "      - Training loss: 0.0817670532782 (acc: 0.986509055819)\n",
      "      - Validation loss: 0.108683827886 (acc: 0.97)\n",
      "Epoch: 78/80:\n",
      "      - Training loss: 0.0807224067036 (acc: 0.986898752969)\n",
      "      - Validation loss: 0.109361454014 (acc: 0.9695)\n",
      "Epoch: 79/80:\n",
      "      - Training loss: 0.0796430734037 (acc: 0.986917309976)\n",
      "      - Validation loss: 0.107148441269 (acc: 0.971)\n",
      "Epoch: 80/80:\n",
      "      - Training loss: 0.0783556813635 (acc: 0.986935866983)\n",
      "      - Validation loss: 0.106618870979 (acc: 0.970166666667)\n"
     ]
    }
   ],
   "source": [
    "network = NeuralNetwork(input_nodes, hidden_nodes_1, hidden_nodes_2, output_nodes, learning_rate)\n",
    "\n",
    "info = {'train':[], 'validation':[], 'train_acc':[], 'validation_acc':[]}\n",
    "for epoch in range(epochs):    \n",
    "    mini_batches = prepare_mini_batches(train_dataX, train_dataY, batch_size)\n",
    "            \n",
    "    epoch_losses = []\n",
    "    epoch_accuracy = []\n",
    "    while mini_batches:\n",
    "        data_batch, labels_batch = mini_batches.pop()\n",
    "        network.train(data_batch, labels_batch)\n",
    "        \n",
    "        batch_train_loss = categorical_cross_entropy(network.run(data_batch), labels_batch)\n",
    "        batch_accuracy = accuracy(network.run(data_batch), labels_batch)\n",
    "       \n",
    "        epoch_losses.append(batch_train_loss)\n",
    "        epoch_accuracy.append(batch_accuracy)\n",
    "        \n",
    "    train_loss = np.mean(epoch_losses)\n",
    "    info['train'].append(train_loss)\n",
    "    \n",
    "    train_accuracy = np.mean(epoch_accuracy)\n",
    "    info['train_acc'].append(train_accuracy)\n",
    "        \n",
    "    val_loss = categorical_cross_entropy(network.run(val_dataX), val_dataY)\n",
    "    info['validation'].append(val_loss)\n",
    "    \n",
    "    val_accuracy = accuracy(network.run(val_dataX), val_dataY)\n",
    "    info['validation_acc'].append(val_accuracy)\n",
    "    \n",
    "    print(\"Epoch: \" + str(epoch + 1) + \"/\" + str(epochs) + \":\\n\"\n",
    "          + \"      - Training loss: \" + str(train_loss) + \" (acc: \" + str(train_accuracy) + \")\\n\"\n",
    "          + \"      - Validation loss: \" + str(val_loss) + \" (acc: \" + str(val_accuracy) + \")\")"
   ]
  },
  {
   "cell_type": "markdown",
   "metadata": {},
   "source": [
    "#### Results"
   ]
  },
  {
   "cell_type": "code",
   "execution_count": 30,
   "metadata": {},
   "outputs": [
    {
     "data": {
      "image/png": "[encoded data removed]",
      "text/plain": [
       "<matplotlib.figure.Figure at 0x12ff3a400>"
      ]
     },
     "metadata": {},
     "output_type": "display_data"
    }
   ],
   "source": [
    "fig1 = plt.figure()\n",
    "ax1 = fig1.add_subplot(111)\n",
    "ax1.plot(info['train_acc'], label='Training acc')\n",
    "ax1.plot(info['validation_acc'], label='Validation acc')\n",
    "blue_patch = mpatches.Patch(color='#699cef', label='Training accuracy')\n",
    "orange_patch = mpatches.Patch(color='orange', label='Validation accuracy')\n",
    "ax1.legend(handles=[blue_patch, orange_patch])\n",
    "plt.show()"
   ]
  },
  {
   "cell_type": "code",
   "execution_count": 31,
   "metadata": {},
   "outputs": [
    {
     "data": {
      "image/png": "[encoded data removed]",
      "text/plain": [
       "<matplotlib.figure.Figure at 0x11055f780>"
      ]
     },
     "metadata": {},
     "output_type": "display_data"
    }
   ],
   "source": [
    "fig1 = plt.figure()\n",
    "ax2 = fig1.add_subplot(111)\n",
    "ax2.plot(info['train'], label='Training loss')\n",
    "ax2.plot(info['validation'], label='Validation loss')\n",
    "blue_patch = mpatches.Patch(color='#699cef', label='Training cross-entropy')\n",
    "orange_patch = mpatches.Patch(color='orange', label='Validation cross-entropy')\n",
    "ax2.legend(handles=[blue_patch, orange_patch])\n",
    "plt.show()"
   ]
  },
  {
   "cell_type": "code",
   "execution_count": 32,
   "metadata": {},
   "outputs": [
    {
     "name": "stdout",
     "output_type": "stream",
     "text": [
      "Test data accuracy:  0.9735\n"
     ]
    }
   ],
   "source": [
    "test_accuracy = accuracy(network.run(testX_processed), testY_processed)\n",
    "print(\"Test data accuracy: \", test_accuracy)"
   ]
  }
 ],
 "metadata": {
  "kernelspec": {
   "display_name": "Python 3",
   "language": "python",
   "name": "python3"
  },
  "language_info": {
   "codemirror_mode": {
    "name": "ipython",
    "version": 3
   },
   "file_extension": ".py",
   "mimetype": "text/x-python",
   "name": "python",
   "nbconvert_exporter": "python",
   "pygments_lexer": "ipython3",
   "version": "3.6.1"
  }
 },
 "nbformat": 4,
 "nbformat_minor": 2
}
