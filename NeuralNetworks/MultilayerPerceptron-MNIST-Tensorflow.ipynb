{
 "cells": [
  {
   "cell_type": "code",
   "execution_count": 1,
   "metadata": {},
   "outputs": [],
   "source": [
    "import tensorflow.examples.tutorials.mnist as mnist\n",
    "import tensorflow as tf\n",
    "import matplotlib.pyplot as plt\n",
    "import matplotlib.patches as mpatches\n",
    "import numpy as np\n",
    "import random"
   ]
  },
  {
   "cell_type": "code",
   "execution_count": 2,
   "metadata": {
    "collapsed": true
   },
   "outputs": [],
   "source": [
    "%matplotlib inline"
   ]
  },
  {
   "cell_type": "markdown",
   "metadata": {},
   "source": [
    "#### Dataset info"
   ]
  },
  {
   "cell_type": "code",
   "execution_count": 3,
   "metadata": {
    "collapsed": true
   },
   "outputs": [],
   "source": [
    "# source: http://yann.lecun.com/exdb/mnist/\n",
    "IMAGE_WIDTH = 28\n",
    "IMAGE_HEIGHT = 28\n",
    "NUM_CHANNELS = 1\n",
    "PIXEL_DEPTH = 255\n",
    "NUM_LABELS = 10"
   ]
  },
  {
   "cell_type": "markdown",
   "metadata": {},
   "source": [
    "#### Save model directory"
   ]
  },
  {
   "cell_type": "code",
   "execution_count": 4,
   "metadata": {
    "collapsed": true
   },
   "outputs": [],
   "source": [
    "MODEL_DIR = \"./tensorflow-saved-models/mlp-mnist-nn.ckpt\""
   ]
  },
  {
   "cell_type": "markdown",
   "metadata": {},
   "source": [
    "#### Loading files\n",
    "Data is already preprocessed, shuffled and normalized."
   ]
  },
  {
   "cell_type": "code",
   "execution_count": 5,
   "metadata": {},
   "outputs": [
    {
     "name": "stdout",
     "output_type": "stream",
     "text": [
      "Extracting tensorflow/examples/tutorials/mnist/train-images-idx3-ubyte.gz\n",
      "Extracting tensorflow/examples/tutorials/mnist/train-labels-idx1-ubyte.gz\n",
      "Extracting tensorflow/examples/tutorials/mnist/t10k-images-idx3-ubyte.gz\n",
      "Extracting tensorflow/examples/tutorials/mnist/t10k-labels-idx1-ubyte.gz\n"
     ]
    }
   ],
   "source": [
    "mnist_dataset = mnist.input_data.read_data_sets('tensorflow/examples/tutorials/mnist', one_hot=True)"
   ]
  },
  {
   "cell_type": "markdown",
   "metadata": {},
   "source": [
    "#### Divide data"
   ]
  },
  {
   "cell_type": "code",
   "execution_count": 6,
   "metadata": {
    "collapsed": true
   },
   "outputs": [],
   "source": [
    "trainX = mnist_dataset.train.images\n",
    "valX = mnist_dataset.validation.images\n",
    "testX = mnist_dataset.test.images\n",
    "\n",
    "trainY = mnist_dataset.train.labels.astype(np.float32)\n",
    "valY = mnist_dataset.validation.labels.astype(np.float32)\n",
    "testY = mnist_dataset.test.labels.astype(np.float32)"
   ]
  },
  {
   "cell_type": "code",
   "execution_count": 7,
   "metadata": {
    "collapsed": true
   },
   "outputs": [],
   "source": [
    "TRAIN_IMAGES_NUM = trainX.shape[0]\n",
    "TEST_IMAGES_NUM = testX.shape[0]"
   ]
  },
  {
   "cell_type": "markdown",
   "metadata": {},
   "source": [
    "#### Present data"
   ]
  },
  {
   "cell_type": "code",
   "execution_count": 8,
   "metadata": {
    "collapsed": true
   },
   "outputs": [],
   "source": [
    "def show_digit(trainX, trainY, index):\n",
    "    image = trainX[index].reshape([IMAGE_WIDTH, IMAGE_HEIGHT])\n",
    "    label = trainY[index]\n",
    "    plt.title(\"Training data, index: {},  Label: {}\".format(index, label))\n",
    "    plt.imshow(image, cmap=\"gray_r\")\n",
    "    plt.show()"
   ]
  },
  {
   "cell_type": "code",
   "execution_count": 9,
   "metadata": {},
   "outputs": [
    {
     "name": "stdout",
     "output_type": "stream",
     "text": [
      "trainX shape: (55000, 784)\n",
      "trainY shape: (55000, 10)\n",
      "valX shape: (5000, 784)\n",
      "valY shape: (5000, 10)\n",
      "testX shape: (10000, 784)\n",
      "testY shape: (10000, 10)\n"
     ]
    },
    {
     "data": {
      "image/png": "[encoded data removed]",
      "text/plain": [
       "<matplotlib.figure.Figure at 0x115d689e8>"
      ]
     },
     "metadata": {},
     "output_type": "display_data"
    }
   ],
   "source": [
    "print(\"trainX shape: \" + str(trainX.shape))\n",
    "print(\"trainY shape: \" + str(trainY.shape))\n",
    "print(\"valX shape: \" + str(valX.shape))\n",
    "print(\"valY shape: \" + str(valY.shape))\n",
    "print(\"testX shape: \" + str(testX.shape))\n",
    "print(\"testY shape: \" + str(testY.shape))\n",
    "show_digit(trainX, trainY, np.random.randint(1, TRAIN_IMAGES_NUM + 1))"
   ]
  },
  {
   "cell_type": "markdown",
   "metadata": {},
   "source": [
    "#### Neural Network preparation"
   ]
  },
  {
   "cell_type": "code",
   "execution_count": 10,
   "metadata": {
    "collapsed": true
   },
   "outputs": [],
   "source": [
    "input_nodes = IMAGE_WIDTH * IMAGE_HEIGHT\n",
    "hidden_layer_1_nodes = 300\n",
    "hidden_layer_2_nodes = 75\n",
    "output_layer_nodes = NUM_LABELS "
   ]
  },
  {
   "cell_type": "code",
   "execution_count": 11,
   "metadata": {
    "collapsed": true
   },
   "outputs": [],
   "source": [
    "# reset tensorflow graph\n",
    "tf.reset_default_graph()\n",
    "\n",
    "# placeholders for inputs, labels and learning rate\n",
    "inputs_ = tf.placeholder(tf.float32, [None, input_nodes], name=\"inputs\")\n",
    "targets_ = tf.placeholder(tf.float32, [None, output_layer_nodes], name=\"targets\")\n",
    "learning_rate_ = tf.placeholder(tf.float32, None, name=\"learning_rate\")\n",
    "\n",
    "# init weights and biases\n",
    "layer_1_weight_shape = [input_nodes, hidden_layer_1_nodes]\n",
    "weights_input_to_h1 = tf.Variable(\n",
    "    tf.random_uniform(layer_1_weight_shape, -1/np.sqrt(input_nodes), 1/np.sqrt(input_nodes)), \n",
    "    name=\"w_i_h1\")\n",
    "bias_input_to_h1 = tf.Variable(tf.zeros([hidden_layer_1_nodes]), name=\"b_i_h1\")\n",
    "\n",
    "layer_2_weight_shape = [hidden_layer_1_nodes, hidden_layer_2_nodes]\n",
    "weights_h1_to_h2 = tf.Variable(\n",
    "    tf.random_uniform(layer_2_weight_shape, -1/np.sqrt(hidden_layer_1_nodes), 1/np.sqrt(hidden_layer_1_nodes)), \n",
    "    name=\"w_h1_h2\")\n",
    "bias_h1_to_h2 = tf.Variable(tf.zeros([hidden_layer_2_nodes]), name=\"b_h1_h2\")\n",
    "\n",
    "layer_3_weight_shape = [hidden_layer_2_nodes, output_layer_nodes]\n",
    "weights_h2_to_o = tf.Variable(\n",
    "    tf.random_uniform(layer_3_weight_shape, -1/np.sqrt(hidden_layer_2_nodes), 1/np.sqrt(hidden_layer_2_nodes)), \n",
    "    name=\"w_h2_o\")\n",
    "bias_h2_to_o = tf.Variable(tf.zeros([output_layer_nodes]), name=\"b_h2_o\")\n",
    "\n",
    "# layers\n",
    "input_to_h1_layer = tf.matmul(inputs_, weights_input_to_h1) + bias_input_to_h1\n",
    "input_to_h1_layer_activated = tf.nn.relu(input_to_h1_layer)\n",
    "\n",
    "h1_to_h2_layer = tf.matmul(input_to_h1_layer_activated, weights_h1_to_h2) + bias_h1_to_h2\n",
    "h1_to_h2_layer_activated = tf.nn.relu(h1_to_h2_layer)\n",
    "\n",
    "h2_to_o_layer_logits = tf.matmul(h1_to_h2_layer_activated, weights_h2_to_o) + bias_h2_to_o"
   ]
  },
  {
   "cell_type": "markdown",
   "metadata": {},
   "source": [
    "#### Loss and accuracy assessment"
   ]
  },
  {
   "cell_type": "code",
   "execution_count": 12,
   "metadata": {
    "collapsed": true
   },
   "outputs": [],
   "source": [
    "# loss function\n",
    "loss_function = tf.reduce_mean(tf.nn.softmax_cross_entropy_with_logits(logits=h2_to_o_layer_logits, labels=targets_))\n",
    "\n",
    "# gradient descent optimiser\n",
    "optimizer = tf.train.GradientDescentOptimizer(learning_rate_).minimize(loss_function)\n",
    "\n",
    "# accuracy\n",
    "correct_prediction = tf.equal(tf.argmax(h2_to_o_layer_logits, 1), tf.argmax(targets_, 1))\n",
    "accuracy = tf.reduce_mean(tf.cast(correct_prediction, tf.float32))"
   ]
  },
  {
   "cell_type": "markdown",
   "metadata": {},
   "source": [
    "#### Batch preparation"
   ]
  },
  {
   "cell_type": "markdown",
   "metadata": {},
   "source": [
    "My own implementation:"
   ]
  },
  {
   "cell_type": "code",
   "execution_count": 13,
   "metadata": {
    "collapsed": true
   },
   "outputs": [],
   "source": [
    "def prepare_mini_batches(data, labels, batch_size):\n",
    "    assert len(data) == len(labels)\n",
    "    \n",
    "    all_batches = list()\n",
    "    for i in range(0, len(data)):\n",
    "        all_batches.append((data[i], labels[i]))\n",
    "    random.shuffle(all_batches)\n",
    "        \n",
    "    mini_batches = list()\n",
    "    while len(all_batches) >= batch_size:\n",
    "        \n",
    "        data_batch = list()\n",
    "        labels_batch = list()\n",
    "        for j in range(0, batch_size):\n",
    "            data, labels = all_batches.pop()\n",
    "            data_batch.append(data)\n",
    "            labels_batch.append(labels)\n",
    "            \n",
    "        mini_batches.append((np.array(data_batch), np.array(labels_batch)))\n",
    "    \n",
    "    return mini_batches"
   ]
  },
  {
   "cell_type": "code",
   "execution_count": 14,
   "metadata": {},
   "outputs": [
    {
     "name": "stdout",
     "output_type": "stream",
     "text": [
      "Input data mini-batch: (128, 784)\n",
      "Input data labels mini-batch: (128, 10)\n"
     ]
    }
   ],
   "source": [
    "# divide trainX, trainY data into batches of size 128, data is copied\n",
    "mini_batches_example = prepare_mini_batches(trainX, trainY, 128)\n",
    "\n",
    "# pop next batches\n",
    "exampleX_batches, exampleY_batches = mini_batches_example.pop()\n",
    "print(\"Input data mini-batch: \" + str(exampleX_batches.shape))\n",
    "print(\"Input data labels mini-batch: \" + str(exampleY_batches.shape))"
   ]
  },
  {
   "cell_type": "markdown",
   "metadata": {},
   "source": [
    "Similar but <u>NOT THE SAME</u> result could be achieved by using `mnist_dataset.train` object."
   ]
  },
  {
   "cell_type": "code",
   "execution_count": 15,
   "metadata": {},
   "outputs": [
    {
     "name": "stdout",
     "output_type": "stream",
     "text": [
      "Input data mini-batch: (128, 784)\n",
      "Input data labels mini-batch: (128, 10)\n"
     ]
    }
   ],
   "source": [
    "# fetching next 128 size RANDOM batches from data in mnist_dataset.traing\n",
    "tf_exampleX_batches, tf_exampleY_batches = mnist_dataset.train.next_batch(128)\n",
    "print(\"Input data mini-batch: \" + str(tf_exampleX_batches.shape))\n",
    "print(\"Input data labels mini-batch: \" + str(tf_exampleY_batches.shape))"
   ]
  },
  {
   "cell_type": "markdown",
   "metadata": {},
   "source": [
    "Main difference between two approaches is:\n",
    "\n",
    "a) With my implementation you make sure that if you iterate over *mini_batches* received from *prepare_mini_batches* function - your whole train data will be inserted into net but with random order. \n",
    "\n",
    "b) With tensorflow implementation you simply receive randomly picked *batch_size* samples. That way it is possible that some of samples from train set will enter net more often than others."
   ]
  },
  {
   "cell_type": "markdown",
   "metadata": {},
   "source": [
    "#### Hyperparameters"
   ]
  },
  {
   "cell_type": "code",
   "execution_count": 36,
   "metadata": {
    "collapsed": true
   },
   "outputs": [],
   "source": [
    "epochs = 80\n",
    "batch_size = 128\n",
    "learning_rate = 0.05"
   ]
  },
  {
   "cell_type": "markdown",
   "metadata": {
    "collapsed": true
   },
   "source": [
    "####  Training cycle"
   ]
  },
  {
   "cell_type": "code",
   "execution_count": 37,
   "metadata": {
    "scrolled": false
   },
   "outputs": [
    {
     "name": "stdout",
     "output_type": "stream",
     "text": [
      "Epoch: 1/80:\n",
      "      - Training loss: 1.00017 (acc: 0.774439)\n",
      "      - Validation loss: 0.395373 (acc: 0.8868)\n",
      "Epoch: 2/80:\n",
      "      - Training loss: 0.317396 (acc: 0.912496)\n",
      "      - Validation loss: 0.292684 (acc: 0.9176)\n",
      "Epoch: 3/80:\n",
      "      - Training loss: 0.255164 (acc: 0.928194)\n",
      "      - Validation loss: 0.244263 (acc: 0.9292)\n",
      "Epoch: 4/80:\n",
      "      - Training loss: 0.214643 (acc: 0.94127)\n",
      "      - Validation loss: 0.211943 (acc: 0.9408)\n",
      "Epoch: 5/80:\n",
      "      - Training loss: 0.184911 (acc: 0.948736)\n",
      "      - Validation loss: 0.188145 (acc: 0.946)\n",
      "Epoch: 6/80:\n",
      "      - Training loss: 0.160243 (acc: 0.956075)\n",
      "      - Validation loss: 0.165521 (acc: 0.9532)\n",
      "Epoch: 7/80:\n",
      "      - Training loss: 0.141439 (acc: 0.961429)\n",
      "      - Validation loss: 0.150957 (acc: 0.9572)\n",
      "Epoch: 8/80:\n",
      "      - Training loss: 0.124692 (acc: 0.966109)\n",
      "      - Validation loss: 0.138786 (acc: 0.9632)\n",
      "Epoch: 9/80:\n",
      "      - Training loss: 0.111396 (acc: 0.970353)\n",
      "      - Validation loss: 0.126974 (acc: 0.9654)\n",
      "Epoch: 10/80:\n",
      "      - Training loss: 0.0996197 (acc: 0.973958)\n",
      "      - Validation loss: 0.120583 (acc: 0.9676)\n",
      "Epoch: 11/80:\n",
      "      - Training loss: 0.0897922 (acc: 0.977145)\n",
      "      - Validation loss: 0.113408 (acc: 0.9672)\n",
      "Epoch: 12/80:\n",
      "      - Training loss: 0.0808684 (acc: 0.980059)\n",
      "      - Validation loss: 0.106447 (acc: 0.9694)\n",
      "Epoch: 13/80:\n",
      "      - Training loss: 0.0731556 (acc: 0.982117)\n",
      "      - Validation loss: 0.101303 (acc: 0.9716)\n",
      "Epoch: 14/80:\n",
      "      - Training loss: 0.0664091 (acc: 0.984011)\n",
      "      - Validation loss: 0.0957074 (acc: 0.9744)\n",
      "Epoch: 15/80:\n",
      "      - Training loss: 0.0605932 (acc: 0.986196)\n",
      "      - Validation loss: 0.0923487 (acc: 0.973)\n",
      "Epoch: 16/80:\n",
      "      - Training loss: 0.0550148 (acc: 0.987434)\n",
      "      - Validation loss: 0.0890108 (acc: 0.9746)\n",
      "Epoch: 17/80:\n",
      "      - Training loss: 0.050362 (acc: 0.988564)\n",
      "      - Validation loss: 0.0862787 (acc: 0.9764)\n",
      "Epoch: 18/80:\n",
      "      - Training loss: 0.0462404 (acc: 0.990439)\n",
      "      - Validation loss: 0.0826584 (acc: 0.977)\n",
      "Epoch: 19/80:\n",
      "      - Training loss: 0.042484 (acc: 0.991477)\n",
      "      - Validation loss: 0.081452 (acc: 0.9756)\n",
      "Epoch: 20/80:\n",
      "      - Training loss: 0.0390898 (acc: 0.99237)\n",
      "      - Validation loss: 0.0818605 (acc: 0.9748)\n",
      "Epoch: 21/80:\n",
      "      - Training loss: 0.0362354 (acc: 0.993007)\n",
      "      - Validation loss: 0.0800754 (acc: 0.9768)\n",
      "Epoch: 22/80:\n",
      "      - Training loss: 0.0332503 (acc: 0.993972)\n",
      "      - Validation loss: 0.0753154 (acc: 0.9772)\n",
      "Epoch: 23/80:\n",
      "      - Training loss: 0.0308075 (acc: 0.994628)\n",
      "      - Validation loss: 0.0717783 (acc: 0.9778)\n",
      "Epoch: 24/80:\n",
      "      - Training loss: 0.0285833 (acc: 0.995465)\n",
      "      - Validation loss: 0.0704259 (acc: 0.9794)\n",
      "Epoch: 25/80:\n",
      "      - Training loss: 0.0264938 (acc: 0.995848)\n",
      "      - Validation loss: 0.0738455 (acc: 0.9784)\n",
      "Epoch: 26/80:\n",
      "      - Training loss: 0.0245493 (acc: 0.99634)\n",
      "      - Validation loss: 0.0724551 (acc: 0.9784)\n",
      "Epoch: 27/80:\n",
      "      - Training loss: 0.0227135 (acc: 0.996868)\n",
      "      - Validation loss: 0.0683616 (acc: 0.9798)\n",
      "Epoch: 28/80:\n",
      "      - Training loss: 0.0210983 (acc: 0.99705)\n",
      "      - Validation loss: 0.0705954 (acc: 0.9786)\n",
      "Epoch: 29/80:\n",
      "      - Training loss: 0.0197755 (acc: 0.997542)\n",
      "      - Validation loss: 0.0704775 (acc: 0.9788)\n",
      "Epoch: 30/80:\n",
      "      - Training loss: 0.018427 (acc: 0.997596)\n",
      "      - Validation loss: 0.068922 (acc: 0.9792)\n",
      "Epoch: 31/80:\n",
      "      - Training loss: 0.0172167 (acc: 0.997906)\n",
      "      - Validation loss: 0.0689732 (acc: 0.9796)\n",
      "Epoch: 32/80:\n",
      "      - Training loss: 0.0159746 (acc: 0.998252)\n",
      "      - Validation loss: 0.0670663 (acc: 0.9804)\n",
      "Epoch: 33/80:\n",
      "      - Training loss: 0.0149504 (acc: 0.998452)\n",
      "      - Validation loss: 0.0668556 (acc: 0.9796)\n",
      "Epoch: 34/80:\n",
      "      - Training loss: 0.0139998 (acc: 0.99878)\n",
      "      - Validation loss: 0.0667685 (acc: 0.9794)\n",
      "Epoch: 35/80:\n",
      "      - Training loss: 0.0131855 (acc: 0.99898)\n",
      "      - Validation loss: 0.0690646 (acc: 0.9784)\n",
      "Epoch: 36/80:\n",
      "      - Training loss: 0.0124193 (acc: 0.99918)\n",
      "      - Validation loss: 0.0671109 (acc: 0.9802)\n",
      "Epoch: 37/80:\n",
      "      - Training loss: 0.011549 (acc: 0.999089)\n",
      "      - Validation loss: 0.0660554 (acc: 0.9794)\n",
      "Epoch: 38/80:\n",
      "      - Training loss: 0.0109503 (acc: 0.99929)\n",
      "      - Validation loss: 0.0654418 (acc: 0.9808)\n",
      "Epoch: 39/80:\n",
      "      - Training loss: 0.0102703 (acc: 0.999363)\n",
      "      - Validation loss: 0.0654077 (acc: 0.9804)\n",
      "Epoch: 40/80:\n",
      "      - Training loss: 0.0097485 (acc: 0.99949)\n",
      "      - Validation loss: 0.0650771 (acc: 0.981)\n",
      "Epoch: 41/80:\n",
      "      - Training loss: 0.00913283 (acc: 0.999454)\n",
      "      - Validation loss: 0.0659581 (acc: 0.9804)\n",
      "Epoch: 42/80:\n",
      "      - Training loss: 0.00865019 (acc: 0.999581)\n",
      "      - Validation loss: 0.0664231 (acc: 0.979)\n",
      "Epoch: 43/80:\n",
      "      - Training loss: 0.00817638 (acc: 0.999654)\n",
      "      - Validation loss: 0.0657163 (acc: 0.9814)\n",
      "Epoch: 44/80:\n",
      "      - Training loss: 0.00780882 (acc: 0.99969)\n",
      "      - Validation loss: 0.0653543 (acc: 0.981)\n",
      "Epoch: 45/80:\n",
      "      - Training loss: 0.00732184 (acc: 0.999727)\n",
      "      - Validation loss: 0.06578 (acc: 0.9814)\n",
      "Epoch: 46/80:\n",
      "      - Training loss: 0.00695993 (acc: 0.999763)\n",
      "      - Validation loss: 0.0663937 (acc: 0.9808)\n",
      "Epoch: 47/80:\n",
      "      - Training loss: 0.00664984 (acc: 0.999745)\n",
      "      - Validation loss: 0.0649115 (acc: 0.9812)\n",
      "Epoch: 48/80:\n",
      "      - Training loss: 0.00629843 (acc: 0.999818)\n",
      "      - Validation loss: 0.0662883 (acc: 0.9814)\n",
      "Epoch: 49/80:\n",
      "      - Training loss: 0.00601229 (acc: 0.999781)\n",
      "      - Validation loss: 0.0684081 (acc: 0.9814)\n",
      "Epoch: 50/80:\n",
      "      - Training loss: 0.0057597 (acc: 0.999836)\n",
      "      - Validation loss: 0.0662764 (acc: 0.9816)\n",
      "Epoch: 51/80:\n",
      "      - Training loss: 0.00547254 (acc: 0.999854)\n",
      "      - Validation loss: 0.0668735 (acc: 0.9812)\n",
      "Epoch: 52/80:\n",
      "      - Training loss: 0.00525974 (acc: 0.999891)\n",
      "      - Validation loss: 0.068007 (acc: 0.981)\n",
      "Epoch: 53/80:\n",
      "      - Training loss: 0.00496579 (acc: 0.999909)\n",
      "      - Validation loss: 0.0669748 (acc: 0.9796)\n",
      "Epoch: 54/80:\n",
      "      - Training loss: 0.0048219 (acc: 0.999909)\n",
      "      - Validation loss: 0.0664863 (acc: 0.9806)\n",
      "Epoch: 55/80:\n",
      "      - Training loss: 0.00461582 (acc: 0.999927)\n",
      "      - Validation loss: 0.065863 (acc: 0.9814)\n",
      "Epoch: 56/80:\n",
      "      - Training loss: 0.00444445 (acc: 0.999927)\n",
      "      - Validation loss: 0.0670023 (acc: 0.9818)\n",
      "Epoch: 57/80:\n",
      "      - Training loss: 0.00427067 (acc: 0.999945)\n",
      "      - Validation loss: 0.0673406 (acc: 0.9816)\n",
      "Epoch: 58/80:\n",
      "      - Training loss: 0.00408772 (acc: 0.999964)\n",
      "      - Validation loss: 0.0674218 (acc: 0.9812)\n",
      "Epoch: 59/80:\n",
      "      - Training loss: 0.00391529 (acc: 0.999964)\n",
      "      - Validation loss: 0.0681912 (acc: 0.9804)\n",
      "Epoch: 60/80:\n",
      "      - Training loss: 0.00376417 (acc: 0.999964)\n",
      "      - Validation loss: 0.0677425 (acc: 0.981)\n",
      "Epoch: 61/80:\n",
      "      - Training loss: 0.00362709 (acc: 0.999982)\n",
      "      - Validation loss: 0.0682928 (acc: 0.982)\n",
      "Epoch: 62/80:\n",
      "      - Training loss: 0.00349008 (acc: 0.999982)\n",
      "      - Validation loss: 0.0683689 (acc: 0.9806)\n",
      "Epoch: 63/80:\n",
      "      - Training loss: 0.00339815 (acc: 0.999982)\n",
      "      - Validation loss: 0.0684434 (acc: 0.9808)\n",
      "Epoch: 64/80:\n",
      "      - Training loss: 0.00327151 (acc: 0.999982)\n",
      "      - Validation loss: 0.0686337 (acc: 0.981)\n",
      "Epoch: 65/80:\n",
      "      - Training loss: 0.00315078 (acc: 0.999982)\n",
      "      - Validation loss: 0.0701805 (acc: 0.9802)\n",
      "Epoch: 66/80:\n",
      "      - Training loss: 0.00304371 (acc: 0.999982)\n",
      "      - Validation loss: 0.071071 (acc: 0.9804)\n",
      "Epoch: 67/80:\n",
      "      - Training loss: 0.00295736 (acc: 0.999982)\n",
      "      - Validation loss: 0.0696004 (acc: 0.9808)\n",
      "Epoch: 68/80:\n",
      "      - Training loss: 0.0028676 (acc: 0.999964)\n",
      "      - Validation loss: 0.0694843 (acc: 0.9808)\n",
      "Epoch: 69/80:\n",
      "      - Training loss: 0.00277083 (acc: 1.0)\n",
      "      - Validation loss: 0.0703406 (acc: 0.981)\n",
      "Epoch: 70/80:\n",
      "      - Training loss: 0.00268348 (acc: 1.0)\n",
      "      - Validation loss: 0.0709849 (acc: 0.9818)\n",
      "Epoch: 71/80:\n",
      "      - Training loss: 0.00259481 (acc: 1.0)\n",
      "      - Validation loss: 0.0700215 (acc: 0.9818)\n",
      "Epoch: 72/80:\n",
      "      - Training loss: 0.00252441 (acc: 1.0)\n",
      "      - Validation loss: 0.0708855 (acc: 0.9804)\n",
      "Epoch: 73/80:\n",
      "      - Training loss: 0.00245948 (acc: 1.0)\n",
      "      - Validation loss: 0.0723372 (acc: 0.9806)\n",
      "Epoch: 74/80:\n",
      "      - Training loss: 0.00238195 (acc: 1.0)\n",
      "      - Validation loss: 0.0709133 (acc: 0.98)\n"
     ]
    },
    {
     "name": "stdout",
     "output_type": "stream",
     "text": [
      "Epoch: 75/80:\n",
      "      - Training loss: 0.00231145 (acc: 1.0)\n",
      "      - Validation loss: 0.0707704 (acc: 0.9808)\n",
      "Epoch: 76/80:\n",
      "      - Training loss: 0.00226025 (acc: 1.0)\n",
      "      - Validation loss: 0.0717825 (acc: 0.9814)\n",
      "Epoch: 77/80:\n",
      "      - Training loss: 0.00221007 (acc: 1.0)\n",
      "      - Validation loss: 0.0728592 (acc: 0.9812)\n",
      "Epoch: 78/80:\n",
      "      - Training loss: 0.00214955 (acc: 1.0)\n",
      "      - Validation loss: 0.0721299 (acc: 0.9818)\n",
      "Epoch: 79/80:\n",
      "      - Training loss: 0.00209235 (acc: 1.0)\n",
      "      - Validation loss: 0.0727747 (acc: 0.9814)\n",
      "Epoch: 80/80:\n",
      "      - Training loss: 0.00204039 (acc: 1.0)\n",
      "      - Validation loss: 0.0725897 (acc: 0.9806)\n",
      "Model saved in file: ./tensorflow-saved-models/mlp-mnist-nn.ckpt\n"
     ]
    }
   ],
   "source": [
    "info = {'train':[], 'validation':[], 'train_acc':[], 'validation_acc':[]}\n",
    "\n",
    "saver = tf.train.Saver()\n",
    "with tf.Session() as training_session:\n",
    "    training_session.run(tf.global_variables_initializer())\n",
    "\n",
    "    for epoch in range(epochs):\n",
    "        mini_batches = prepare_mini_batches(trainX, trainY, batch_size)\n",
    "        \n",
    "        epoch_losses = []\n",
    "        epoch_accuracy = []\n",
    "        while mini_batches:\n",
    "            data_inputs, data_labels = mini_batches.pop()\n",
    "\n",
    "            training_session.run(\n",
    "                optimizer, feed_dict={inputs_: data_inputs, targets_: data_labels, learning_rate_: learning_rate})\n",
    "            \n",
    "            batch_loss = training_session.run(loss_function, feed_dict={inputs_: data_inputs, targets_: data_labels})\n",
    "            \n",
    "            batch_acc = training_session.run(accuracy, feed_dict={inputs_:data_inputs, targets_: data_labels})\n",
    "            \n",
    "            epoch_losses.append(batch_loss)\n",
    "            epoch_accuracy.append(batch_acc)\n",
    "            \n",
    "        train_loss = np.mean(epoch_losses)\n",
    "        info['train'].append(train_loss)\n",
    "\n",
    "        train_accuracy = np.mean(epoch_accuracy)\n",
    "        info['train_acc'].append(train_accuracy)\n",
    "\n",
    "        val_loss = training_session.run(loss_function, feed_dict={inputs_: valX, targets_: valY})\n",
    "        info['validation'].append(val_loss)\n",
    "\n",
    "        val_accuracy = training_session.run(accuracy, feed_dict={inputs_: valX, targets_: valY})\n",
    "        info['validation_acc'].append(val_accuracy)\n",
    "\n",
    "        print(\"Epoch: \" + str(epoch + 1) + \"/\" + str(epochs) + \":\\n\"\n",
    "              + \"      - Training loss: \" + str(train_loss) + \" (acc: \" + str(train_accuracy) + \")\\n\"\n",
    "              + \"      - Validation loss: \" + str(val_loss) + \" (acc: \" + str(val_accuracy) + \")\")\n",
    "        \n",
    "    save_path = saver.save(training_session, MODEL_DIR)\n",
    "    print(\"Model saved in file: %s\" % save_path) "
   ]
  },
  {
   "cell_type": "markdown",
   "metadata": {},
   "source": [
    "#### Results"
   ]
  },
  {
   "cell_type": "code",
   "execution_count": 38,
   "metadata": {},
   "outputs": [
    {
     "data": {
      "image/png": "[encoded data removed]",
      "text/plain": [
       "<matplotlib.figure.Figure at 0x14374a8d0>"
      ]
     },
     "metadata": {},
     "output_type": "display_data"
    }
   ],
   "source": [
    "fig1 = plt.figure()\n",
    "ax1 = fig1.add_subplot(111)\n",
    "ax1.plot(info['train_acc'], label='Training acc')\n",
    "ax1.plot(info['validation_acc'], label='Validation acc')\n",
    "blue_patch = mpatches.Patch(color='#699cef', label='Training accuracy')\n",
    "orange_patch = mpatches.Patch(color='orange', label='Validation accuracy')\n",
    "ax1.legend(handles=[blue_patch, orange_patch])\n",
    "plt.show()"
   ]
  },
  {
   "cell_type": "code",
   "execution_count": 39,
   "metadata": {},
   "outputs": [
    {
     "data": {
      "image/png": "[encoded data removed]",
      "text/plain": [
       "<matplotlib.figure.Figure at 0x106572e80>"
      ]
     },
     "metadata": {},
     "output_type": "display_data"
    }
   ],
   "source": [
    "fig1 = plt.figure()\n",
    "ax2 = fig1.add_subplot(111)\n",
    "ax2.plot(info['train'], label='Training loss')\n",
    "ax2.plot(info['validation'], label='Validation loss')\n",
    "blue_patch = mpatches.Patch(color='#699cef', label='Training cross-entropy')\n",
    "orange_patch = mpatches.Patch(color='orange', label='Validation cross-entropy')\n",
    "ax2.legend(handles=[blue_patch, orange_patch])\n",
    "plt.show()"
   ]
  },
  {
   "cell_type": "code",
   "execution_count": 40,
   "metadata": {},
   "outputs": [
    {
     "name": "stdout",
     "output_type": "stream",
     "text": [
      "INFO:tensorflow:Restoring parameters from ./tensorflow-saved-models/mlp-mnist-nn.ckpt\n",
      "Test dataset accuracy: 0.9802\n"
     ]
    }
   ],
   "source": [
    "with tf.Session() as restored_session:\n",
    "    saver.restore(restored_session, MODEL_DIR)    \n",
    "    test_accuracy = restored_session.run(accuracy, feed_dict={inputs_: testX, targets_: testY})\n",
    "    \n",
    "    print(\"Test dataset accuracy: \" + str(test_accuracy))"
   ]
  }
 ],
 "metadata": {
  "kernelspec": {
   "display_name": "Python 3",
   "language": "python",
   "name": "python3"
  },
  "language_info": {
   "codemirror_mode": {
    "name": "ipython",
    "version": 3
   },
   "file_extension": ".py",
   "mimetype": "text/x-python",
   "name": "python",
   "nbconvert_exporter": "python",
   "pygments_lexer": "ipython3",
   "version": "3.6.1"
  }
 },
 "nbformat": 4,
 "nbformat_minor": 2
}
