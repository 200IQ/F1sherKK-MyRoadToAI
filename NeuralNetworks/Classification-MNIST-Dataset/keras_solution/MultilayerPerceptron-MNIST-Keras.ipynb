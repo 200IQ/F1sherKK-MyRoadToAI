{
 "cells": [
  {
   "cell_type": "code",
   "execution_count": 30,
   "metadata": {},
   "outputs": [],
   "source": [
    "from keras.datasets import mnist\n",
    "from keras.utils import np_utils\n",
    "from keras.models import Sequential\n",
    "from keras.layers.core import Dense, Activation\n",
    "from keras.optimizers import RMSprop\n",
    "import numpy as np\n",
    "import matplotlib.pyplot as plt\n",
    "import matplotlib.patches as mpatches"
   ]
  },
  {
   "cell_type": "code",
   "execution_count": 2,
   "metadata": {
    "collapsed": true
   },
   "outputs": [],
   "source": [
    "%matplotlib inline"
   ]
  },
  {
   "cell_type": "markdown",
   "metadata": {},
   "source": [
    "#### Dataset info"
   ]
  },
  {
   "cell_type": "code",
   "execution_count": 3,
   "metadata": {
    "collapsed": true
   },
   "outputs": [],
   "source": [
    "# source: http://yann.lecun.com/exdb/mnist/\n",
    "IMAGE_WIDTH = 28\n",
    "IMAGE_HEIGHT = 28\n",
    "NUM_CHANNELS = 1\n",
    "PIXEL_DEPTH = 255\n",
    "NUM_LABELS = 10\n",
    "TRAIN_IMAGES_NUM = 60000\n",
    "TEST_IMAGES_NUM = 10000"
   ]
  },
  {
   "cell_type": "markdown",
   "metadata": {},
   "source": [
    "#### Loading files"
   ]
  },
  {
   "cell_type": "code",
   "execution_count": 4,
   "metadata": {},
   "outputs": [],
   "source": [
    "(trainX_raw, trainY_raw), (testX_raw, testY_raw) = mnist.load_data()"
   ]
  },
  {
   "cell_type": "markdown",
   "metadata": {},
   "source": [
    "#### Present extracted data"
   ]
  },
  {
   "cell_type": "code",
   "execution_count": 5,
   "metadata": {
    "collapsed": true
   },
   "outputs": [],
   "source": [
    "def show_digit(trainX_raw, trainY_raw, index):\n",
    "    image = trainX_raw[index].reshape([IMAGE_WIDTH, IMAGE_HEIGHT])\n",
    "    label = trainY_raw[index]\n",
    "    plt.title(\"Training data, index: {},  Label: {}\".format(index, label))\n",
    "    plt.imshow(image, cmap=\"gray_r\")\n",
    "    plt.show()"
   ]
  },
  {
   "cell_type": "code",
   "execution_count": 6,
   "metadata": {},
   "outputs": [
    {
     "name": "stdout",
     "output_type": "stream",
     "text": [
      "trainX_raw shape: (60000, 28, 28)\n",
      "trainY_raw shape: (60000,)\n",
      "testX_raw shape: (10000, 28, 28)\n",
      "testY_raw shape: (10000,)\n"
     ]
    },
    {
     "data": {
      "image/png": "[encoded data removed]",
      "text/plain": [
       "<matplotlib.figure.Figure at 0x11bf1f8d0>"
      ]
     },
     "metadata": {},
     "output_type": "display_data"
    }
   ],
   "source": [
    "print(\"trainX_raw shape: \" + str(trainX_raw.shape))\n",
    "print(\"trainY_raw shape: \" + str(trainY_raw.shape))\n",
    "print(\"testX_raw shape: \" + str(testX_raw.shape))\n",
    "print(\"testY_raw shape: \" + str(testY_raw.shape))\n",
    "show_digit(trainX_raw, trainY_raw, np.random.randint(1, TRAIN_IMAGES_NUM + 1))"
   ]
  },
  {
   "cell_type": "markdown",
   "metadata": {},
   "source": [
    "#### Preprocess data"
   ]
  },
  {
   "cell_type": "code",
   "execution_count": 7,
   "metadata": {
    "collapsed": true
   },
   "outputs": [],
   "source": [
    "def normalize(x, pixel_depth):\n",
    "    return x / pixel_depth"
   ]
  },
  {
   "cell_type": "code",
   "execution_count": 8,
   "metadata": {
    "collapsed": true
   },
   "outputs": [],
   "source": [
    "def one_hot_encode(x, num_classes):\n",
    "    return np_utils.to_categorical(x, num_classes)"
   ]
  },
  {
   "cell_type": "code",
   "execution_count": 9,
   "metadata": {
    "collapsed": true
   },
   "outputs": [],
   "source": [
    "trainX_processed = normalize(np.reshape(trainX_raw, (TRAIN_IMAGES_NUM, IMAGE_WIDTH * IMAGE_HEIGHT)), PIXEL_DEPTH)\n",
    "testX_processed = normalize(np.reshape(testX_raw, (TEST_IMAGES_NUM, IMAGE_WIDTH * IMAGE_HEIGHT)), PIXEL_DEPTH)"
   ]
  },
  {
   "cell_type": "code",
   "execution_count": 10,
   "metadata": {},
   "outputs": [
    {
     "name": "stdout",
     "output_type": "stream",
     "text": [
      "trainX_raw shape: (60000, 28, 28), min: 0, max: 255\n",
      "testX_raw shape: (10000, 28, 28), min: 0, max: 255\n",
      "trainX_processed shape: (60000, 784), min: 0.0, max: 1.0\n",
      "testX_processed shape: (10000, 784), min: 0.0, max: 1.0\n"
     ]
    }
   ],
   "source": [
    "print(\"trainX_raw shape: \" + str(trainX_raw.shape) + \", min: \" + str(np.min(trainX_raw)) + \", max: \" + str(np.max(trainX_raw)))\n",
    "print(\"testX_raw shape: \" + str(testX_raw.shape) + \", min: \" + str(np.min(testX_raw)) + \", max: \" + str(np.max(testX_raw)))\n",
    "print(\"trainX_processed shape: \" + str(trainX_processed.shape) + \", min: \" + str(np.min(trainX_processed)) + \", max: \" + str(np.max(trainX_processed)))\n",
    "print(\"testX_processed shape: \" + str(testX_processed.shape) + \", min: \" + str(np.min(testX_processed)) + \", max: \" + str(np.max(testX_processed)))"
   ]
  },
  {
   "cell_type": "code",
   "execution_count": 11,
   "metadata": {
    "collapsed": true
   },
   "outputs": [],
   "source": [
    "trainY_processed = one_hot_encode(trainY_raw, NUM_LABELS)\n",
    "testY_processed = one_hot_encode(testY_raw, NUM_LABELS)"
   ]
  },
  {
   "cell_type": "code",
   "execution_count": 12,
   "metadata": {},
   "outputs": [
    {
     "name": "stdout",
     "output_type": "stream",
     "text": [
      "Label on pos: 31785 equals 0, OHE tensor: [ 1.  0.  0.  0.  0.  0.  0.  0.  0.  0.]\n",
      "Label on pos: 3445 equals 0, OHE tensor: [ 1.  0.  0.  0.  0.  0.  0.  0.  0.  0.]\n"
     ]
    }
   ],
   "source": [
    "random_train_index = np.random.randint(1, TRAIN_IMAGES_NUM + 1)\n",
    "random_test_index = np.random.randint(1, TEST_IMAGES_NUM + 1)\n",
    "\n",
    "print(\"Label on pos: \" + str(random_train_index) + \" equals \" + str(trainY_raw[random_train_index]) + \", OHE tensor: \" + str(trainY_processed[random_train_index]))\n",
    "print(\"Label on pos: \" + str(random_test_index) + \" equals \" + str(testY_raw[random_test_index]) + \", OHE tensor: \" + str(testY_processed[random_test_index]))"
   ]
  },
  {
   "cell_type": "markdown",
   "metadata": {},
   "source": [
    "#### Divide data"
   ]
  },
  {
   "cell_type": "code",
   "execution_count": 13,
   "metadata": {
    "collapsed": true
   },
   "outputs": [],
   "source": [
    "VALIDATION_DATA_PERCENTAGE = 0.1"
   ]
  },
  {
   "cell_type": "code",
   "execution_count": 14,
   "metadata": {
    "collapsed": true
   },
   "outputs": [],
   "source": [
    "val_samples = int(TRAIN_IMAGES_NUM * VALIDATION_DATA_PERCENTAGE)"
   ]
  },
  {
   "cell_type": "code",
   "execution_count": 15,
   "metadata": {
    "collapsed": true
   },
   "outputs": [],
   "source": [
    "train_dataX = trainX_processed[val_samples:]\n",
    "train_dataY = trainY_processed[val_samples:]\n",
    "val_dataX = trainX_processed[:val_samples]\n",
    "val_dataY = trainY_processed[:val_samples]"
   ]
  },
  {
   "cell_type": "code",
   "execution_count": 16,
   "metadata": {},
   "outputs": [
    {
     "name": "stdout",
     "output_type": "stream",
     "text": [
      "train_dataX shape: (54000, 784)\n",
      "train_dataY shape: (54000, 10)\n",
      "val_dataX shape: (6000, 784)\n",
      "val_dataY shape: (6000, 10)\n"
     ]
    }
   ],
   "source": [
    "print(\"train_dataX shape: \" + str(train_dataX.shape))\n",
    "print(\"train_dataY shape: \" + str(train_dataY.shape))\n",
    "print(\"val_dataX shape: \" + str(val_dataX.shape))\n",
    "print(\"val_dataY shape: \" + str(val_dataY.shape))"
   ]
  },
  {
   "cell_type": "markdown",
   "metadata": {},
   "source": [
    "#### Neural Network preparation"
   ]
  },
  {
   "cell_type": "code",
   "execution_count": 17,
   "metadata": {
    "collapsed": true
   },
   "outputs": [],
   "source": [
    "input_nodes = IMAGE_WIDTH * IMAGE_HEIGHT\n",
    "hidden_layer_1_nodes = 300\n",
    "hidden_layer_2_nodes = 75\n",
    "output_layer_nodes = NUM_LABELS"
   ]
  },
  {
   "cell_type": "code",
   "execution_count": 18,
   "metadata": {},
   "outputs": [],
   "source": [
    "mlp_model = Sequential()\n",
    "\n",
    "mlp_model.add(Dense(hidden_layer_1_nodes, activation='relu', input_shape=(input_nodes,)))\n",
    "mlp_model.add(Dense(hidden_layer_2_nodes, activation='relu'))\n",
    "mlp_model.add(Dense(output_layer_nodes, activation='softmax'))\n",
    "          \n",
    "rms = RMSprop()\n",
    "mlp_model.compile(loss='categorical_crossentropy', optimizer=rms, metrics=['accuracy'])"
   ]
  },
  {
   "cell_type": "code",
   "execution_count": 19,
   "metadata": {},
   "outputs": [
    {
     "name": "stdout",
     "output_type": "stream",
     "text": [
      "_________________________________________________________________\n",
      "Layer (type)                 Output Shape              Param #   \n",
      "=================================================================\n",
      "dense_1 (Dense)              (None, 300)               235500    \n",
      "_________________________________________________________________\n",
      "dense_2 (Dense)              (None, 75)                22575     \n",
      "_________________________________________________________________\n",
      "dense_3 (Dense)              (None, 10)                760       \n",
      "=================================================================\n",
      "Total params: 258,835\n",
      "Trainable params: 258,835\n",
      "Non-trainable params: 0\n",
      "_________________________________________________________________\n"
     ]
    }
   ],
   "source": [
    "mlp_model.summary()"
   ]
  },
  {
   "cell_type": "markdown",
   "metadata": {},
   "source": [
    "#### Hyperparameters"
   ]
  },
  {
   "cell_type": "code",
   "execution_count": 20,
   "metadata": {
    "collapsed": true
   },
   "outputs": [],
   "source": [
    "epochs = 80\n",
    "batch_size = 128\n",
    "learning_rate = 0.05"
   ]
  },
  {
   "cell_type": "code",
   "execution_count": 21,
   "metadata": {},
   "outputs": [
    {
     "name": "stdout",
     "output_type": "stream",
     "text": [
      "Train on 60000 samples, validate on 6000 samples\n",
      "Epoch 1/80\n",
      "60000/60000 [==============================] - 2s - loss: 0.2636 - acc: 0.9220 - val_loss: 0.1073 - val_acc: 0.9695\n",
      "Epoch 2/80\n",
      "60000/60000 [==============================] - 2s - loss: 0.1028 - acc: 0.9690 - val_loss: 0.0885 - val_acc: 0.9715\n",
      "Epoch 3/80\n",
      "60000/60000 [==============================] - 2s - loss: 0.0680 - acc: 0.9793 - val_loss: 0.0475 - val_acc: 0.9857\n",
      "Epoch 4/80\n",
      "60000/60000 [==============================] - 2s - loss: 0.0504 - acc: 0.9846 - val_loss: 0.0288 - val_acc: 0.9918\n",
      "Epoch 5/80\n",
      "60000/60000 [==============================] - 2s - loss: 0.0380 - acc: 0.9883 - val_loss: 0.0227 - val_acc: 0.9930\n",
      "Epoch 6/80\n",
      "60000/60000 [==============================] - 2s - loss: 0.0292 - acc: 0.9907 - val_loss: 0.0205 - val_acc: 0.9938\n",
      "Epoch 7/80\n",
      "60000/60000 [==============================] - 2s - loss: 0.0226 - acc: 0.9932 - val_loss: 0.0142 - val_acc: 0.9958\n",
      "Epoch 8/80\n",
      "60000/60000 [==============================] - 2s - loss: 0.0185 - acc: 0.9941 - val_loss: 0.0161 - val_acc: 0.9938\n",
      "Epoch 9/80\n",
      "60000/60000 [==============================] - 2s - loss: 0.0140 - acc: 0.9956 - val_loss: 0.0057 - val_acc: 0.9983\n",
      "Epoch 10/80\n",
      "60000/60000 [==============================] - 2s - loss: 0.0124 - acc: 0.9959 - val_loss: 0.0087 - val_acc: 0.9973\n",
      "Epoch 11/80\n",
      "60000/60000 [==============================] - 2s - loss: 0.0104 - acc: 0.9968 - val_loss: 0.0095 - val_acc: 0.9968\n",
      "Epoch 12/80\n",
      "60000/60000 [==============================] - 2s - loss: 0.0085 - acc: 0.9971 - val_loss: 0.0087 - val_acc: 0.9972\n",
      "Epoch 13/80\n",
      "60000/60000 [==============================] - 2s - loss: 0.0068 - acc: 0.9977 - val_loss: 0.0038 - val_acc: 0.9987\n",
      "Epoch 14/80\n",
      "60000/60000 [==============================] - 2s - loss: 0.0061 - acc: 0.9982 - val_loss: 0.0021 - val_acc: 0.9995\n",
      "Epoch 15/80\n",
      "60000/60000 [==============================] - 2s - loss: 0.0055 - acc: 0.9982 - val_loss: 0.0041 - val_acc: 0.9983\n",
      "Epoch 16/80\n",
      "60000/60000 [==============================] - 2s - loss: 0.0047 - acc: 0.9987 - val_loss: 0.0018 - val_acc: 0.9992\n",
      "Epoch 17/80\n",
      "60000/60000 [==============================] - 2s - loss: 0.0044 - acc: 0.9985 - val_loss: 4.7569e-04 - val_acc: 1.0000\n",
      "Epoch 18/80\n",
      "60000/60000 [==============================] - 2s - loss: 0.0036 - acc: 0.9989 - val_loss: 8.5278e-04 - val_acc: 0.9998\n",
      "Epoch 19/80\n",
      "60000/60000 [==============================] - 2s - loss: 0.0024 - acc: 0.9992 - val_loss: 0.0012 - val_acc: 0.9997\n",
      "Epoch 20/80\n",
      "60000/60000 [==============================] - 2s - loss: 0.0026 - acc: 0.9991 - val_loss: 6.2501e-04 - val_acc: 0.9998\n",
      "Epoch 21/80\n",
      "60000/60000 [==============================] - 2s - loss: 0.0027 - acc: 0.9991 - val_loss: 8.8085e-04 - val_acc: 0.9998\n",
      "Epoch 22/80\n",
      "60000/60000 [==============================] - 2s - loss: 0.0024 - acc: 0.9993 - val_loss: 0.0027 - val_acc: 0.9992\n",
      "Epoch 23/80\n",
      "60000/60000 [==============================] - 2s - loss: 0.0025 - acc: 0.9993 - val_loss: 0.0011 - val_acc: 0.9997\n",
      "Epoch 24/80\n",
      "60000/60000 [==============================] - 2s - loss: 0.0020 - acc: 0.9994 - val_loss: 3.5458e-04 - val_acc: 0.9998\n",
      "Epoch 25/80\n",
      "60000/60000 [==============================] - 2s - loss: 0.0027 - acc: 0.9992 - val_loss: 1.4095e-04 - val_acc: 1.0000\n",
      "Epoch 26/80\n",
      "60000/60000 [==============================] - 2s - loss: 0.0017 - acc: 0.9995 - val_loss: 1.8480e-04 - val_acc: 1.0000\n",
      "Epoch 27/80\n",
      "60000/60000 [==============================] - 2s - loss: 0.0021 - acc: 0.9994 - val_loss: 8.6577e-04 - val_acc: 0.9998\n",
      "Epoch 28/80\n",
      "60000/60000 [==============================] - 2s - loss: 0.0018 - acc: 0.9995 - val_loss: 0.0025 - val_acc: 0.9993\n",
      "Epoch 29/80\n",
      "60000/60000 [==============================] - 2s - loss: 0.0018 - acc: 0.9996 - val_loss: 0.0020 - val_acc: 0.9993\n",
      "Epoch 30/80\n",
      "60000/60000 [==============================] - 2s - loss: 0.0019 - acc: 0.9996 - val_loss: 5.8315e-04 - val_acc: 0.9998\n",
      "Epoch 31/80\n",
      "60000/60000 [==============================] - 2s - loss: 0.0015 - acc: 0.9996 - val_loss: 9.4823e-04 - val_acc: 0.9997\n",
      "Epoch 32/80\n",
      "60000/60000 [==============================] - 2s - loss: 0.0015 - acc: 0.9997 - val_loss: 1.1890e-04 - val_acc: 1.0000\n",
      "Epoch 33/80\n",
      "60000/60000 [==============================] - 2s - loss: 0.0018 - acc: 0.9995 - val_loss: 1.5273e-04 - val_acc: 1.0000\n",
      "Epoch 34/80\n",
      "60000/60000 [==============================] - 2s - loss: 0.0010 - acc: 0.9997 - val_loss: 5.6101e-04 - val_acc: 0.9995\n",
      "Epoch 35/80\n",
      "60000/60000 [==============================] - 2s - loss: 0.0012 - acc: 0.9997 - val_loss: 0.0019 - val_acc: 0.9998\n",
      "Epoch 36/80\n",
      "60000/60000 [==============================] - 2s - loss: 0.0013 - acc: 0.9997 - val_loss: 2.6425e-04 - val_acc: 0.9998\n",
      "Epoch 37/80\n",
      "60000/60000 [==============================] - 2s - loss: 0.0018 - acc: 0.9996 - val_loss: 1.9215e-05 - val_acc: 1.0000\n",
      "Epoch 38/80\n",
      "60000/60000 [==============================] - 2s - loss: 0.0013 - acc: 0.9996 - val_loss: 6.1532e-05 - val_acc: 1.0000\n",
      "Epoch 39/80\n",
      "60000/60000 [==============================] - 2s - loss: 0.0012 - acc: 0.9998 - val_loss: 3.0662e-04 - val_acc: 0.9998\n",
      "Epoch 40/80\n",
      "60000/60000 [==============================] - 2s - loss: 0.0013 - acc: 0.9996 - val_loss: 4.0505e-05 - val_acc: 1.0000\n",
      "Epoch 41/80\n",
      "60000/60000 [==============================] - 2s - loss: 0.0013 - acc: 0.9998 - val_loss: 0.0034 - val_acc: 0.9995\n",
      "Epoch 42/80\n",
      "60000/60000 [==============================] - 2s - loss: 0.0014 - acc: 0.9998 - val_loss: 3.9366e-05 - val_acc: 1.0000\n",
      "Epoch 43/80\n",
      "60000/60000 [==============================] - 2s - loss: 0.0011 - acc: 0.9997 - val_loss: 8.9525e-04 - val_acc: 0.9998\n",
      "Epoch 44/80\n",
      "60000/60000 [==============================] - 2s - loss: 9.6618e-04 - acc: 0.9998 - val_loss: 0.0031 - val_acc: 0.9993\n",
      "Epoch 45/80\n",
      "60000/60000 [==============================] - 2s - loss: 7.5987e-04 - acc: 0.9998 - val_loss: 6.5716e-04 - val_acc: 0.9995\n",
      "Epoch 46/80\n",
      "60000/60000 [==============================] - 2s - loss: 0.0012 - acc: 0.9997 - val_loss: 1.8338e-06 - val_acc: 1.0000\n",
      "Epoch 47/80\n",
      "60000/60000 [==============================] - 2s - loss: 9.8828e-04 - acc: 0.9998 - val_loss: 9.5184e-04 - val_acc: 0.9998\n",
      "Epoch 48/80\n",
      "60000/60000 [==============================] - 2s - loss: 7.3437e-04 - acc: 0.9998 - val_loss: 2.5952e-04 - val_acc: 0.9998\n",
      "Epoch 49/80\n",
      "60000/60000 [==============================] - 2s - loss: 7.9988e-04 - acc: 0.9998 - val_loss: 2.3583e-04 - val_acc: 0.9998\n",
      "Epoch 50/80\n",
      "60000/60000 [==============================] - 2s - loss: 7.7735e-04 - acc: 0.9998 - val_loss: 5.6473e-06 - val_acc: 1.0000\n",
      "Epoch 51/80\n",
      "60000/60000 [==============================] - 2s - loss: 0.0014 - acc: 0.9996 - val_loss: 8.1733e-05 - val_acc: 1.0000\n",
      "Epoch 52/80\n",
      "60000/60000 [==============================] - 2s - loss: 0.0013 - acc: 0.9998 - val_loss: 7.7913e-05 - val_acc: 1.0000\n",
      "Epoch 53/80\n",
      "60000/60000 [==============================] - 2s - loss: 8.9537e-04 - acc: 0.9998 - val_loss: 8.1453e-04 - val_acc: 0.9998\n",
      "Epoch 54/80\n",
      "60000/60000 [==============================] - 2s - loss: 0.0012 - acc: 0.9998 - val_loss: 6.2120e-06 - val_acc: 1.0000\n",
      "Epoch 55/80\n",
      "60000/60000 [==============================] - 2s - loss: 8.1687e-04 - acc: 0.9999 - val_loss: 9.2914e-07 - val_acc: 1.0000\n",
      "Epoch 56/80\n",
      "60000/60000 [==============================] - 2s - loss: 0.0015 - acc: 0.9997 - val_loss: 5.9938e-04 - val_acc: 0.9998\n",
      "Epoch 57/80\n",
      "60000/60000 [==============================] - 2s - loss: 5.8378e-04 - acc: 0.9999 - val_loss: 0.0027 - val_acc: 0.9995\n",
      "Epoch 58/80\n",
      "60000/60000 [==============================] - 2s - loss: 0.0016 - acc: 0.9996 - val_loss: 1.1571e-05 - val_acc: 1.0000\n",
      "Epoch 59/80\n",
      "60000/60000 [==============================] - 2s - loss: 8.5767e-04 - acc: 0.9998 - val_loss: 4.3633e-06 - val_acc: 1.0000\n",
      "Epoch 60/80\n",
      "60000/60000 [==============================] - 2s - loss: 8.0802e-04 - acc: 0.9999 - val_loss: 9.9967e-06 - val_acc: 1.0000\n",
      "Epoch 61/80\n",
      "60000/60000 [==============================] - 2s - loss: 6.3204e-04 - acc: 0.9999 - val_loss: 2.1096e-05 - val_acc: 1.0000\n",
      "Epoch 62/80\n",
      "60000/60000 [==============================] - 2s - loss: 0.0012 - acc: 0.9998 - val_loss: 3.0736e-04 - val_acc: 0.9998\n",
      "Epoch 63/80\n"
     ]
    },
    {
     "name": "stdout",
     "output_type": "stream",
     "text": [
      "60000/60000 [==============================] - 2s - loss: 0.0010 - acc: 0.9998 - val_loss: 1.8508e-07 - val_acc: 1.0000\n",
      "Epoch 64/80\n",
      "60000/60000 [==============================] - 2s - loss: 5.3254e-04 - acc: 0.9999 - val_loss: 5.7149e-07 - val_acc: 1.0000\n",
      "Epoch 65/80\n",
      "60000/60000 [==============================] - 2s - loss: 4.1786e-04 - acc: 0.9999 - val_loss: 3.3344e-06 - val_acc: 1.0000\n",
      "Epoch 66/80\n",
      "60000/60000 [==============================] - 2s - loss: 8.2630e-04 - acc: 0.9999 - val_loss: 4.2609e-04 - val_acc: 0.9998\n",
      "Epoch 67/80\n",
      "60000/60000 [==============================] - 2s - loss: 9.8634e-04 - acc: 0.9999 - val_loss: 6.1455e-07 - val_acc: 1.0000\n",
      "Epoch 68/80\n",
      "60000/60000 [==============================] - 2s - loss: 6.5181e-04 - acc: 0.9999 - val_loss: 5.8745e-06 - val_acc: 1.0000\n",
      "Epoch 69/80\n",
      "60000/60000 [==============================] - 2s - loss: 9.4466e-04 - acc: 0.9998 - val_loss: 2.3358e-05 - val_acc: 1.0000\n",
      "Epoch 70/80\n",
      "60000/60000 [==============================] - 2s - loss: 6.4771e-04 - acc: 0.9998 - val_loss: 1.8914e-04 - val_acc: 1.0000\n",
      "Epoch 71/80\n",
      "60000/60000 [==============================] - 2s - loss: 8.0180e-04 - acc: 0.9999 - val_loss: 1.7061e-04 - val_acc: 1.0000\n",
      "Epoch 72/80\n",
      "60000/60000 [==============================] - 2s - loss: 9.0601e-04 - acc: 0.9999 - val_loss: 2.0260e-06 - val_acc: 1.0000\n",
      "Epoch 73/80\n",
      "60000/60000 [==============================] - 2s - loss: 5.8955e-04 - acc: 0.9999 - val_loss: 1.7214e-07 - val_acc: 1.0000\n",
      "Epoch 74/80\n",
      "60000/60000 [==============================] - 2s - loss: 4.4971e-04 - acc: 0.9999 - val_loss: 3.4241e-04 - val_acc: 0.9998\n",
      "Epoch 75/80\n",
      "60000/60000 [==============================] - 2s - loss: 4.6980e-04 - acc: 0.9999 - val_loss: 2.8681e-06 - val_acc: 1.0000\n",
      "Epoch 76/80\n",
      "60000/60000 [==============================] - 2s - loss: 4.3130e-04 - acc: 0.9999 - val_loss: 9.2432e-05 - val_acc: 1.0000\n",
      "Epoch 77/80\n",
      "60000/60000 [==============================] - 2s - loss: 5.8527e-04 - acc: 0.9999 - val_loss: 7.8587e-06 - val_acc: 1.0000\n",
      "Epoch 78/80\n",
      "60000/60000 [==============================] - 2s - loss: 4.4061e-04 - acc: 0.9999 - val_loss: 5.2133e-04 - val_acc: 0.9998\n",
      "Epoch 79/80\n",
      "60000/60000 [==============================] - 2s - loss: 0.0015 - acc: 0.9998 - val_loss: 1.6392e-04 - val_acc: 0.9998\n",
      "Epoch 80/80\n",
      "60000/60000 [==============================] - 2s - loss: 4.3702e-04 - acc: 0.9999 - val_loss: 7.6001e-04 - val_acc: 0.9998\n"
     ]
    }
   ],
   "source": [
    "train_history = mlp_model.fit(trainX_processed, trainY_processed,\n",
    "                              batch_size=batch_size,\n",
    "                              epochs=epochs,\n",
    "                              verbose=1,\n",
    "                              validation_data=(val_dataX, val_dataY))"
   ]
  },
  {
   "cell_type": "code",
   "execution_count": 32,
   "metadata": {},
   "outputs": [
    {
     "data": {
      "image/png": "[encoded data removed]",
      "text/plain": [
       "<matplotlib.figure.Figure at 0x13a465cf8>"
      ]
     },
     "metadata": {},
     "output_type": "display_data"
    }
   ],
   "source": [
    "fig1 = plt.figure()\n",
    "ax1 = fig1.add_subplot(111)\n",
    "ax1.plot(train_history.history['acc'], label='Training acc')\n",
    "ax1.plot(train_history.history['val_acc'], label='Validation acc')\n",
    "blue_patch = mpatches.Patch(color='#699cef', label='Training accuracy')\n",
    "orange_patch = mpatches.Patch(color='orange', label='Validation accuracy')\n",
    "ax1.legend(handles=[blue_patch, orange_patch])\n",
    "plt.show()"
   ]
  },
  {
   "cell_type": "code",
   "execution_count": 33,
   "metadata": {},
   "outputs": [
    {
     "data": {
      "image/png": "[encoded data removed]",
      "text/plain": [
       "<matplotlib.figure.Figure at 0x13ac40400>"
      ]
     },
     "metadata": {},
     "output_type": "display_data"
    }
   ],
   "source": [
    "fig1 = plt.figure()\n",
    "ax2 = fig1.add_subplot(111)\n",
    "ax2.plot(train_history.history['loss'], label='Training loss')\n",
    "ax2.plot(train_history.history['val_loss'], label='Validation loss')\n",
    "blue_patch = mpatches.Patch(color='#699cef', label='Training cross-entropy')\n",
    "orange_patch = mpatches.Patch(color='orange', label='Validation cross-entropy')\n",
    "ax2.legend(handles=[blue_patch, orange_patch])\n",
    "plt.show()"
   ]
  },
  {
   "cell_type": "code",
   "execution_count": 22,
   "metadata": {},
   "outputs": [],
   "source": [
    "score = mlp_model.evaluate(testX_processed, testY_processed, verbose=0)"
   ]
  },
  {
   "cell_type": "code",
   "execution_count": 34,
   "metadata": {},
   "outputs": [
    {
     "name": "stdout",
     "output_type": "stream",
     "text": [
      "Accuracy: 0.9811\n"
     ]
    }
   ],
   "source": [
    "print(\"Accuracy: \" + str(score[1]))"
   ]
  }
 ],
 "metadata": {
  "kernelspec": {
   "display_name": "Python 3",
   "language": "python",
   "name": "python3"
  },
  "language_info": {
   "codemirror_mode": {
    "name": "ipython",
    "version": 3
   },
   "file_extension": ".py",
   "mimetype": "text/x-python",
   "name": "python",
   "nbconvert_exporter": "python",
   "pygments_lexer": "ipython3",
   "version": "3.6.1"
  }
 },
 "nbformat": 4,
 "nbformat_minor": 2
}
