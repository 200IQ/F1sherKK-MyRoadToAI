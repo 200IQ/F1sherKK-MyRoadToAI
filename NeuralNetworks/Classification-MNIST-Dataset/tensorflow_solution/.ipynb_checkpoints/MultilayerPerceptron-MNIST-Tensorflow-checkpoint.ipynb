{
 "cells": [
  {
   "cell_type": "code",
   "execution_count": 21,
   "metadata": {
    "collapsed": true
   },
   "outputs": [],
   "source": [
    "import tensorflow.examples.tutorials.mnist as mnist\n",
    "import tensorflow as tf\n",
    "import matplotlib.pyplot as plt\n",
    "import matplotlib.patches as mpatches\n",
    "import numpy as np\n",
    "import random"
   ]
  },
  {
   "cell_type": "code",
   "execution_count": 22,
   "metadata": {
    "collapsed": true
   },
   "outputs": [],
   "source": [
    "%matplotlib inline"
   ]
  },
  {
   "cell_type": "markdown",
   "metadata": {},
   "source": [
    "#### Dataset info"
   ]
  },
  {
   "cell_type": "code",
   "execution_count": 23,
   "metadata": {
    "collapsed": true
   },
   "outputs": [],
   "source": [
    "# source: http://yann.lecun.com/exdb/mnist/\n",
    "IMAGE_WIDTH = 28\n",
    "IMAGE_HEIGHT = 28\n",
    "NUM_CHANNELS = 1\n",
    "PIXEL_DEPTH = 255\n",
    "NUM_LABELS = 10"
   ]
  },
  {
   "cell_type": "markdown",
   "metadata": {},
   "source": [
    "#### Loading files\n",
    "Data is already preprocessed, shuffled and normalized."
   ]
  },
  {
   "cell_type": "code",
   "execution_count": 24,
   "metadata": {},
   "outputs": [
    {
     "name": "stdout",
     "output_type": "stream",
     "text": [
      "Extracting tensorflow/examples/tutorials/mnist/train-images-idx3-ubyte.gz\n",
      "Extracting tensorflow/examples/tutorials/mnist/train-labels-idx1-ubyte.gz\n",
      "Extracting tensorflow/examples/tutorials/mnist/t10k-images-idx3-ubyte.gz\n",
      "Extracting tensorflow/examples/tutorials/mnist/t10k-labels-idx1-ubyte.gz\n"
     ]
    }
   ],
   "source": [
    "mnist_dataset = mnist.input_data.read_data_sets('tensorflow/examples/tutorials/mnist', one_hot=True)"
   ]
  },
  {
   "cell_type": "markdown",
   "metadata": {},
   "source": [
    "#### Divide data"
   ]
  },
  {
   "cell_type": "code",
   "execution_count": 25,
   "metadata": {
    "collapsed": true
   },
   "outputs": [],
   "source": [
    "trainX = mnist_dataset.train.images\n",
    "valX = mnist_dataset.validation.images\n",
    "testX = mnist_dataset.test.images\n",
    "\n",
    "trainY = mnist_dataset.train.labels.astype(np.float32)\n",
    "valY = mnist_dataset.validation.labels.astype(np.float32)\n",
    "testY = mnist_dataset.test.labels.astype(np.float32)"
   ]
  },
  {
   "cell_type": "code",
   "execution_count": 26,
   "metadata": {
    "collapsed": true
   },
   "outputs": [],
   "source": [
    "TRAIN_IMAGES_NUM = trainX.shape[0]\n",
    "TEST_IMAGES_NUM = testX.shape[0]"
   ]
  },
  {
   "cell_type": "markdown",
   "metadata": {},
   "source": [
    "#### Present data"
   ]
  },
  {
   "cell_type": "code",
   "execution_count": 27,
   "metadata": {
    "collapsed": true
   },
   "outputs": [],
   "source": [
    "def show_digit(trainX, trainY, index):\n",
    "    image = trainX[index].reshape([IMAGE_WIDTH, IMAGE_HEIGHT])\n",
    "    label = trainY[index]\n",
    "    plt.title(\"Training data, index: {},  Label: {}\".format(index, label))\n",
    "    plt.imshow(image, cmap=\"gray_r\")\n",
    "    plt.show()"
   ]
  },
  {
   "cell_type": "code",
   "execution_count": 28,
   "metadata": {},
   "outputs": [
    {
     "name": "stdout",
     "output_type": "stream",
     "text": [
      "trainX shape: (55000, 784)\n",
      "trainY shape: (55000, 10)\n",
      "valX shape: (5000, 784)\n",
      "valY shape: (5000, 10)\n",
      "testX shape: (10000, 784)\n",
      "testY shape: (10000, 10)\n"
     ]
    },
    {
     "data": {
      "image/png": "[encoded data removed]",
      "text/plain": [
       "<matplotlib.figure.Figure at 0x117bd2828>"
      ]
     },
     "metadata": {},
     "output_type": "display_data"
    }
   ],
   "source": [
    "print(\"trainX shape: \" + str(trainX.shape))\n",
    "print(\"trainY shape: \" + str(trainY.shape))\n",
    "print(\"valX shape: \" + str(valX.shape))\n",
    "print(\"valY shape: \" + str(valY.shape))\n",
    "print(\"testX shape: \" + str(testX.shape))\n",
    "print(\"testY shape: \" + str(testY.shape))\n",
    "show_digit(trainX, trainY, np.random.randint(1, TRAIN_IMAGES_NUM + 1))"
   ]
  },
  {
   "cell_type": "markdown",
   "metadata": {},
   "source": [
    "#### Neural Network preparation"
   ]
  },
  {
   "cell_type": "code",
   "execution_count": 29,
   "metadata": {
    "collapsed": true
   },
   "outputs": [],
   "source": [
    "input_nodes = IMAGE_WIDTH * IMAGE_HEIGHT\n",
    "hidden_layer_1_nodes = 300\n",
    "hidden_layer_2_nodes = 75\n",
    "output_layer_nodes = NUM_LABELS "
   ]
  },
  {
   "cell_type": "code",
   "execution_count": 30,
   "metadata": {
    "collapsed": true
   },
   "outputs": [],
   "source": [
    "# reset tensorflow graph\n",
    "tf.reset_default_graph()\n",
    "\n",
    "# placeholders for inputs, labels and learning rate\n",
    "inputs_ = tf.placeholder(tf.float32, [None, input_nodes], name=\"inputs\")\n",
    "targets_ = tf.placeholder(tf.float32, [None, output_layer_nodes], name=\"targets\")\n",
    "learning_rate_ = tf.placeholder(tf.float32, None, name=\"learning_rate\")\n",
    "keep_prob_ = tf.placeholder(tf.float32, name=\"keep_prob\")\n",
    "\n",
    "# init weights and biases\n",
    "layer_1_weight_shape = [input_nodes, hidden_layer_1_nodes]\n",
    "weights_input_to_h1 = tf.Variable(\n",
    "    tf.random_uniform(layer_1_weight_shape, -1/np.sqrt(input_nodes), 1/np.sqrt(input_nodes)), \n",
    "    name=\"w_i_h1\")\n",
    "bias_input_to_h1 = tf.Variable(tf.zeros([hidden_layer_1_nodes]), name=\"b_i_h1\")\n",
    "\n",
    "layer_2_weight_shape = [hidden_layer_1_nodes, hidden_layer_2_nodes]\n",
    "weights_h1_to_h2 = tf.Variable(\n",
    "    tf.random_uniform(layer_2_weight_shape, -1/np.sqrt(hidden_layer_1_nodes), 1/np.sqrt(hidden_layer_1_nodes)), \n",
    "    name=\"w_h1_h2\")\n",
    "bias_h1_to_h2 = tf.Variable(tf.zeros([hidden_layer_2_nodes]), name=\"b_h1_h2\")\n",
    "\n",
    "layer_3_weight_shape = [hidden_layer_2_nodes, output_layer_nodes]\n",
    "weights_h2_to_o = tf.Variable(\n",
    "    tf.random_uniform(layer_3_weight_shape, -1/np.sqrt(hidden_layer_2_nodes), 1/np.sqrt(hidden_layer_2_nodes)), \n",
    "    name=\"w_h2_o\")\n",
    "bias_h2_to_o = tf.Variable(tf.zeros([output_layer_nodes]), name=\"b_h2_o\")\n",
    "\n",
    "# layers\n",
    "input_to_h1_layer = tf.matmul(inputs_, weights_input_to_h1) + bias_input_to_h1\n",
    "input_to_h1_layer_activated = tf.nn.relu(input_to_h1_layer)\n",
    "input_to_h1_layer_activated = tf.nn.dropout(input_to_h1_layer_activated, keep_prob_) # regularisation\n",
    "\n",
    "h1_to_h2_layer = tf.matmul(input_to_h1_layer_activated, weights_h1_to_h2) + bias_h1_to_h2\n",
    "h1_to_h2_layer_activated = tf.nn.relu(h1_to_h2_layer)\n",
    "h1_to_h2_layer_activated = tf.nn.dropout(h1_to_h2_layer_activated, keep_prob_) # regularisation\n",
    "\n",
    "h2_to_o_layer_logits = tf.matmul(h1_to_h2_layer_activated, weights_h2_to_o) + bias_h2_to_o"
   ]
  },
  {
   "cell_type": "markdown",
   "metadata": {},
   "source": [
    "#### Loss and accuracy assessment"
   ]
  },
  {
   "cell_type": "code",
   "execution_count": 31,
   "metadata": {
    "collapsed": true
   },
   "outputs": [],
   "source": [
    "# loss function\n",
    "loss_function = tf.reduce_mean(tf.nn.softmax_cross_entropy_with_logits(logits=h2_to_o_layer_logits, labels=targets_))\n",
    "\n",
    "# gradient descent optimiser\n",
    "optimizer = tf.train.GradientDescentOptimizer(learning_rate_).minimize(loss_function)\n",
    "\n",
    "# accuracy\n",
    "correct_prediction = tf.equal(tf.argmax(h2_to_o_layer_logits, 1), tf.argmax(targets_, 1))\n",
    "accuracy = tf.reduce_mean(tf.cast(correct_prediction, tf.float32))"
   ]
  },
  {
   "cell_type": "markdown",
   "metadata": {},
   "source": [
    "#### Batch preparation"
   ]
  },
  {
   "cell_type": "markdown",
   "metadata": {},
   "source": [
    "My own implementation:"
   ]
  },
  {
   "cell_type": "code",
   "execution_count": 32,
   "metadata": {
    "collapsed": true
   },
   "outputs": [],
   "source": [
    "def prepare_mini_batches(data, labels, batch_size):\n",
    "    assert len(data) == len(labels)\n",
    "    \n",
    "    all_batches = list()\n",
    "    for i in range(0, len(data)):\n",
    "        all_batches.append((data[i], labels[i]))\n",
    "    random.shuffle(all_batches)\n",
    "        \n",
    "    mini_batches = list()\n",
    "    while len(all_batches) >= batch_size:\n",
    "        \n",
    "        data_batch = list()\n",
    "        labels_batch = list()\n",
    "        for j in range(0, batch_size):\n",
    "            data, labels = all_batches.pop()\n",
    "            data_batch.append(data)\n",
    "            labels_batch.append(labels)\n",
    "            \n",
    "        mini_batches.append((np.array(data_batch), np.array(labels_batch)))\n",
    "    \n",
    "    return mini_batches"
   ]
  },
  {
   "cell_type": "code",
   "execution_count": 33,
   "metadata": {},
   "outputs": [
    {
     "name": "stdout",
     "output_type": "stream",
     "text": [
      "Input data mini-batch: (128, 784)\n",
      "Input data labels mini-batch: (128, 10)\n"
     ]
    }
   ],
   "source": [
    "# divide trainX, trainY data into batches of size 128, data is copied\n",
    "mini_batches_example = prepare_mini_batches(trainX, trainY, 128)\n",
    "\n",
    "# pop next batches\n",
    "exampleX_batches, exampleY_batches = mini_batches_example.pop()\n",
    "print(\"Input data mini-batch: \" + str(exampleX_batches.shape))\n",
    "print(\"Input data labels mini-batch: \" + str(exampleY_batches.shape))"
   ]
  },
  {
   "cell_type": "markdown",
   "metadata": {},
   "source": [
    "Similar but <u>NOT THE SAME</u> result could be achieved by using `mnist_dataset.train` object."
   ]
  },
  {
   "cell_type": "code",
   "execution_count": 34,
   "metadata": {},
   "outputs": [
    {
     "name": "stdout",
     "output_type": "stream",
     "text": [
      "Input data mini-batch: (128, 784)\n",
      "Input data labels mini-batch: (128, 10)\n"
     ]
    }
   ],
   "source": [
    "# fetching next 128 size RANDOM batches from data in mnist_dataset.traing\n",
    "tf_exampleX_batches, tf_exampleY_batches = mnist_dataset.train.next_batch(128)\n",
    "print(\"Input data mini-batch: \" + str(tf_exampleX_batches.shape))\n",
    "print(\"Input data labels mini-batch: \" + str(tf_exampleY_batches.shape))"
   ]
  },
  {
   "cell_type": "markdown",
   "metadata": {},
   "source": [
    "Main difference between two approaches is:\n",
    "\n",
    "a) With my implementation you make sure that if you iterate over *mini_batches* received from *prepare_mini_batches* function - your whole train data will be inserted into net but with random order. \n",
    "\n",
    "b) With tensorflow implementation you simply receive randomly picked *batch_size* samples. That way it is possible that some of samples from train set will enter net more often than others."
   ]
  },
  {
   "cell_type": "markdown",
   "metadata": {},
   "source": [
    "#### Hyperparameters"
   ]
  },
  {
   "cell_type": "code",
   "execution_count": 35,
   "metadata": {
    "collapsed": true
   },
   "outputs": [],
   "source": [
    "epochs = 65\n",
    "batch_size = 128\n",
    "learning_rate = 0.05\n",
    "keep_prob = 0.5"
   ]
  },
  {
   "cell_type": "markdown",
   "metadata": {
    "collapsed": true
   },
   "source": [
    "####  Training cycle"
   ]
  },
  {
   "cell_type": "code",
   "execution_count": 36,
   "metadata": {
    "collapsed": true
   },
   "outputs": [],
   "source": [
    "session = tf.Session()"
   ]
  },
  {
   "cell_type": "code",
   "execution_count": 37,
   "metadata": {
    "scrolled": false
   },
   "outputs": [
    {
     "name": "stdout",
     "output_type": "stream",
     "text": [
      "Epoch: 1/65:\n",
      "      - Training loss: 1.1832 (acc: 0.719934)\n",
      "      - Validation loss: 0.504014 (acc: 0.8674)\n",
      "Epoch: 2/65:\n",
      "      - Training loss: 0.399361 (acc: 0.891918)\n",
      "      - Validation loss: 0.329994 (acc: 0.9068)\n",
      "Epoch: 3/65:\n",
      "      - Training loss: 0.295908 (acc: 0.916394)\n",
      "      - Validation loss: 0.262954 (acc: 0.9262)\n",
      "Epoch: 4/65:\n",
      "      - Training loss: 0.240498 (acc: 0.930853)\n",
      "      - Validation loss: 0.217882 (acc: 0.9392)\n",
      "Epoch: 5/65:\n",
      "      - Training loss: 0.203432 (acc: 0.940942)\n",
      "      - Validation loss: 0.191876 (acc: 0.9482)\n",
      "Epoch: 6/65:\n",
      "      - Training loss: 0.176351 (acc: 0.948554)\n",
      "      - Validation loss: 0.169459 (acc: 0.9522)\n",
      "Epoch: 7/65:\n",
      "      - Training loss: 0.155811 (acc: 0.9546)\n",
      "      - Validation loss: 0.15267 (acc: 0.9564)\n",
      "Epoch: 8/65:\n",
      "      - Training loss: 0.139464 (acc: 0.958461)\n",
      "      - Validation loss: 0.141341 (acc: 0.9594)\n",
      "Epoch: 9/65:\n",
      "      - Training loss: 0.126585 (acc: 0.962977)\n",
      "      - Validation loss: 0.130907 (acc: 0.9632)\n",
      "Epoch: 10/65:\n",
      "      - Training loss: 0.115033 (acc: 0.966474)\n",
      "      - Validation loss: 0.123599 (acc: 0.9652)\n",
      "Epoch: 11/65:\n",
      "      - Training loss: 0.106417 (acc: 0.969151)\n",
      "      - Validation loss: 0.116503 (acc: 0.9678)\n",
      "Epoch: 12/65:\n",
      "      - Training loss: 0.0981178 (acc: 0.971117)\n",
      "      - Validation loss: 0.113271 (acc: 0.9684)\n",
      "Epoch: 13/65:\n",
      "      - Training loss: 0.0913245 (acc: 0.973794)\n",
      "      - Validation loss: 0.107161 (acc: 0.9688)\n",
      "Epoch: 14/65:\n",
      "      - Training loss: 0.0849555 (acc: 0.975361)\n",
      "      - Validation loss: 0.101816 (acc: 0.971)\n",
      "Epoch: 15/65:\n",
      "      - Training loss: 0.0799719 (acc: 0.977127)\n",
      "      - Validation loss: 0.099828 (acc: 0.9718)\n",
      "Epoch: 16/65:\n",
      "      - Training loss: 0.0759331 (acc: 0.978311)\n",
      "      - Validation loss: 0.0956285 (acc: 0.9736)\n",
      "Epoch: 17/65:\n",
      "      - Training loss: 0.071007 (acc: 0.980023)\n",
      "      - Validation loss: 0.093176 (acc: 0.9758)\n",
      "Epoch: 18/65:\n",
      "      - Training loss: 0.06776 (acc: 0.980897)\n",
      "      - Validation loss: 0.0917197 (acc: 0.9748)\n",
      "Epoch: 19/65:\n",
      "      - Training loss: 0.0643075 (acc: 0.982008)\n",
      "      - Validation loss: 0.0915394 (acc: 0.975)\n",
      "Epoch: 20/65:\n",
      "      - Training loss: 0.0616899 (acc: 0.982408)\n",
      "      - Validation loss: 0.0882962 (acc: 0.9758)\n",
      "Epoch: 21/65:\n",
      "      - Training loss: 0.0582083 (acc: 0.984065)\n",
      "      - Validation loss: 0.0863116 (acc: 0.9774)\n",
      "Epoch: 22/65:\n",
      "      - Training loss: 0.0552477 (acc: 0.984685)\n",
      "      - Validation loss: 0.0850813 (acc: 0.9776)\n",
      "Epoch: 23/65:\n",
      "      - Training loss: 0.0522784 (acc: 0.985486)\n",
      "      - Validation loss: 0.0846688 (acc: 0.9778)\n",
      "Epoch: 24/65:\n",
      "      - Training loss: 0.0506917 (acc: 0.985959)\n",
      "      - Validation loss: 0.0836941 (acc: 0.9774)\n",
      "Epoch: 25/65:\n",
      "      - Training loss: 0.0479731 (acc: 0.987034)\n",
      "      - Validation loss: 0.0826431 (acc: 0.978)\n",
      "Epoch: 26/65:\n",
      "      - Training loss: 0.0470381 (acc: 0.987198)\n",
      "      - Validation loss: 0.0827999 (acc: 0.9782)\n",
      "Epoch: 27/65:\n",
      "      - Training loss: 0.0448046 (acc: 0.987653)\n",
      "      - Validation loss: 0.081641 (acc: 0.9792)\n",
      "Epoch: 28/65:\n",
      "      - Training loss: 0.0427048 (acc: 0.988108)\n",
      "      - Validation loss: 0.0805219 (acc: 0.979)\n",
      "Epoch: 29/65:\n",
      "      - Training loss: 0.0411599 (acc: 0.988509)\n",
      "      - Validation loss: 0.079096 (acc: 0.9788)\n",
      "Epoch: 30/65:\n",
      "      - Training loss: 0.0400448 (acc: 0.988891)\n",
      "      - Validation loss: 0.0790431 (acc: 0.9784)\n",
      "Epoch: 31/65:\n",
      "      - Training loss: 0.0384327 (acc: 0.989656)\n",
      "      - Validation loss: 0.0789502 (acc: 0.9776)\n",
      "Epoch: 32/65:\n",
      "      - Training loss: 0.0367186 (acc: 0.989929)\n",
      "      - Validation loss: 0.0762541 (acc: 0.9794)\n",
      "Epoch: 33/65:\n",
      "      - Training loss: 0.0353739 (acc: 0.99053)\n",
      "      - Validation loss: 0.0760094 (acc: 0.9788)\n",
      "Epoch: 34/65:\n",
      "      - Training loss: 0.0336876 (acc: 0.990876)\n",
      "      - Validation loss: 0.076191 (acc: 0.98)\n",
      "Epoch: 35/65:\n",
      "      - Training loss: 0.0329313 (acc: 0.991004)\n",
      "      - Validation loss: 0.0746884 (acc: 0.9798)\n",
      "Epoch: 36/65:\n",
      "      - Training loss: 0.0314309 (acc: 0.991441)\n",
      "      - Validation loss: 0.0726354 (acc: 0.9804)\n",
      "Epoch: 37/65:\n",
      "      - Training loss: 0.0303288 (acc: 0.99186)\n",
      "      - Validation loss: 0.073582 (acc: 0.9798)\n",
      "Epoch: 38/65:\n",
      "      - Training loss: 0.0291508 (acc: 0.992279)\n",
      "      - Validation loss: 0.0735511 (acc: 0.9802)\n",
      "Epoch: 39/65:\n",
      "      - Training loss: 0.0289505 (acc: 0.992333)\n",
      "      - Validation loss: 0.0732419 (acc: 0.9798)\n",
      "Epoch: 40/65:\n",
      "      - Training loss: 0.0277104 (acc: 0.992534)\n",
      "      - Validation loss: 0.0729864 (acc: 0.9782)\n",
      "Epoch: 41/65:\n",
      "      - Training loss: 0.0270582 (acc: 0.99277)\n",
      "      - Validation loss: 0.0743851 (acc: 0.9794)\n",
      "Epoch: 42/65:\n",
      "      - Training loss: 0.0259949 (acc: 0.993007)\n",
      "      - Validation loss: 0.0715639 (acc: 0.9804)\n",
      "Epoch: 43/65:\n",
      "      - Training loss: 0.0254032 (acc: 0.993062)\n",
      "      - Validation loss: 0.0719109 (acc: 0.9802)\n",
      "Epoch: 44/65:\n",
      "      - Training loss: 0.0243679 (acc: 0.993572)\n",
      "      - Validation loss: 0.0713622 (acc: 0.9804)\n",
      "Epoch: 45/65:\n",
      "      - Training loss: 0.0233636 (acc: 0.993936)\n",
      "      - Validation loss: 0.0708556 (acc: 0.9812)\n",
      "Epoch: 46/65:\n",
      "      - Training loss: 0.0229672 (acc: 0.994081)\n",
      "      - Validation loss: 0.0719496 (acc: 0.9804)\n",
      "Epoch: 47/65:\n",
      "      - Training loss: 0.0218371 (acc: 0.994282)\n",
      "      - Validation loss: 0.0716885 (acc: 0.9802)\n",
      "Epoch: 48/65:\n",
      "      - Training loss: 0.0213024 (acc: 0.994519)\n",
      "      - Validation loss: 0.071726 (acc: 0.9804)\n",
      "Epoch: 49/65:\n",
      "      - Training loss: 0.0207418 (acc: 0.994664)\n",
      "      - Validation loss: 0.0716559 (acc: 0.981)\n",
      "Epoch: 50/65:\n",
      "      - Training loss: 0.0202872 (acc: 0.994464)\n",
      "      - Validation loss: 0.0689772 (acc: 0.9816)\n",
      "Epoch: 51/65:\n",
      "      - Training loss: 0.0191914 (acc: 0.995119)\n",
      "      - Validation loss: 0.0679428 (acc: 0.9816)\n",
      "Epoch: 52/65:\n",
      "      - Training loss: 0.0191273 (acc: 0.994901)\n",
      "      - Validation loss: 0.070885 (acc: 0.9806)\n",
      "Epoch: 53/65:\n",
      "      - Training loss: 0.018192 (acc: 0.995192)\n",
      "      - Validation loss: 0.0696146 (acc: 0.9812)\n",
      "Epoch: 54/65:\n",
      "      - Training loss: 0.0177267 (acc: 0.995393)\n",
      "      - Validation loss: 0.0705663 (acc: 0.98)\n",
      "Epoch: 55/65:\n",
      "      - Training loss: 0.0170043 (acc: 0.995648)\n",
      "      - Validation loss: 0.0691098 (acc: 0.9796)\n",
      "Epoch: 56/65:\n",
      "      - Training loss: 0.0168582 (acc: 0.995629)\n",
      "      - Validation loss: 0.0699335 (acc: 0.9804)\n",
      "Epoch: 57/65:\n",
      "      - Training loss: 0.0163967 (acc: 0.99572)\n",
      "      - Validation loss: 0.0698947 (acc: 0.9806)\n",
      "Epoch: 58/65:\n",
      "      - Training loss: 0.0155099 (acc: 0.996048)\n",
      "      - Validation loss: 0.069876 (acc: 0.9814)\n",
      "Epoch: 59/65:\n",
      "      - Training loss: 0.0153043 (acc: 0.996249)\n",
      "      - Validation loss: 0.0697495 (acc: 0.982)\n",
      "Epoch: 60/65:\n",
      "      - Training loss: 0.0148961 (acc: 0.996157)\n",
      "      - Validation loss: 0.0682378 (acc: 0.9818)\n",
      "Epoch: 61/65:\n",
      "      - Training loss: 0.0145339 (acc: 0.996285)\n",
      "      - Validation loss: 0.0669569 (acc: 0.9814)\n",
      "Epoch: 62/65:\n",
      "      - Training loss: 0.0141574 (acc: 0.996285)\n",
      "      - Validation loss: 0.0703572 (acc: 0.9812)\n",
      "Epoch: 63/65:\n",
      "      - Training loss: 0.0137857 (acc: 0.996467)\n",
      "      - Validation loss: 0.0679334 (acc: 0.9808)\n",
      "Epoch: 64/65:\n",
      "      - Training loss: 0.0134312 (acc: 0.996595)\n",
      "      - Validation loss: 0.0693133 (acc: 0.9808)\n",
      "Epoch: 65/65:\n",
      "      - Training loss: 0.0130956 (acc: 0.996795)\n",
      "      - Validation loss: 0.0673796 (acc: 0.9822)\n"
     ]
    }
   ],
   "source": [
    "info = {'train':[], 'validation':[], 'train_acc':[], 'validation_acc':[]}\n",
    "\n",
    "session.run(tf.global_variables_initializer())\n",
    "for epoch in range(epochs):\n",
    "    mini_batches = prepare_mini_batches(trainX, trainY, batch_size)\n",
    "\n",
    "    epoch_losses = []\n",
    "    epoch_accuracy = []\n",
    "    while mini_batches:\n",
    "        data_inputs, data_labels = mini_batches.pop()\n",
    "\n",
    "        session.run(\n",
    "            optimizer, feed_dict={inputs_: data_inputs, \n",
    "                                  targets_: data_labels, \n",
    "                                  learning_rate_: learning_rate,\n",
    "                                  keep_prob_: keep_prob})\n",
    "\n",
    "        batch_loss = session.run(\n",
    "            loss_function, feed_dict={inputs_: data_inputs, \n",
    "                                      targets_: data_labels,\n",
    "                                      keep_prob_: 1.})\n",
    "\n",
    "        batch_acc = session.run(accuracy, feed_dict={inputs_:data_inputs, \n",
    "                                                              targets_: data_labels,\n",
    "                                                              keep_prob_: 1.})\n",
    "\n",
    "        epoch_losses.append(batch_loss)\n",
    "        epoch_accuracy.append(batch_acc)\n",
    "\n",
    "    train_loss = np.mean(epoch_losses)\n",
    "    info['train'].append(train_loss)\n",
    "\n",
    "    train_accuracy = np.mean(epoch_accuracy)\n",
    "    info['train_acc'].append(train_accuracy)\n",
    "\n",
    "    val_loss = session.run(loss_function, feed_dict={inputs_: valX, \n",
    "                                                              targets_: valY,\n",
    "                                                              keep_prob_: 1.})\n",
    "    info['validation'].append(val_loss)\n",
    "\n",
    "    val_accuracy = session.run(accuracy, feed_dict={inputs_: valX,\n",
    "                                                             targets_: valY,\n",
    "                                                             keep_prob_: 1.})\n",
    "    info['validation_acc'].append(val_accuracy)\n",
    "\n",
    "    print(\"Epoch: \" + str(epoch + 1) + \"/\" + str(epochs) + \":\\n\"\n",
    "          + \"      - Training loss: \" + str(train_loss) + \" (acc: \" + str(train_accuracy) + \")\\n\"\n",
    "          + \"      - Validation loss: \" + str(val_loss) + \" (acc: \" + str(val_accuracy) + \")\")"
   ]
  },
  {
   "cell_type": "markdown",
   "metadata": {},
   "source": [
    "#### Results"
   ]
  },
  {
   "cell_type": "code",
   "execution_count": 38,
   "metadata": {},
   "outputs": [
    {
     "data": {
      "image/png": "[encoded data removed]",
      "text/plain": [
       "<matplotlib.figure.Figure at 0x121e7d8d0>"
      ]
     },
     "metadata": {},
     "output_type": "display_data"
    }
   ],
   "source": [
    "fig1 = plt.figure()\n",
    "ax1 = fig1.add_subplot(111)\n",
    "ax1.plot(info['train_acc'], label='Training acc')\n",
    "ax1.plot(info['validation_acc'], label='Validation acc')\n",
    "blue_patch = mpatches.Patch(color='#699cef', label='Training accuracy')\n",
    "orange_patch = mpatches.Patch(color='orange', label='Validation accuracy')\n",
    "ax1.legend(handles=[blue_patch, orange_patch])\n",
    "plt.show()"
   ]
  },
  {
   "cell_type": "code",
   "execution_count": 39,
   "metadata": {},
   "outputs": [
    {
     "data": {
      "image/png": "[encoded data removed]",
      "text/plain": [
       "<matplotlib.figure.Figure at 0x121674588>"
      ]
     },
     "metadata": {},
     "output_type": "display_data"
    }
   ],
   "source": [
    "fig1 = plt.figure()\n",
    "ax2 = fig1.add_subplot(111)\n",
    "ax2.plot(info['train'], label='Training loss')\n",
    "ax2.plot(info['validation'], label='Validation loss')\n",
    "blue_patch = mpatches.Patch(color='#699cef', label='Training cross-entropy')\n",
    "orange_patch = mpatches.Patch(color='orange', label='Validation cross-entropy')\n",
    "ax2.legend(handles=[blue_patch, orange_patch])\n",
    "plt.show()"
   ]
  },
  {
   "cell_type": "code",
   "execution_count": 40,
   "metadata": {},
   "outputs": [
    {
     "name": "stdout",
     "output_type": "stream",
     "text": [
      "Test dataset accuracy: 0.981\n"
     ]
    }
   ],
   "source": [
    "test_accuracy = session.run(accuracy, feed_dict={inputs_: testX, \n",
    "                                                 targets_: testY,\n",
    "                                                 keep_prob_: 1.})\n",
    "print(\"Test dataset accuracy: \" + str(test_accuracy))"
   ]
  }
 ],
 "metadata": {
  "kernelspec": {
   "display_name": "Python 3",
   "language": "python",
   "name": "python3"
  },
  "language_info": {
   "codemirror_mode": {
    "name": "ipython",
    "version": 3
   },
   "file_extension": ".py",
   "mimetype": "text/x-python",
   "name": "python",
   "nbconvert_exporter": "python",
   "pygments_lexer": "ipython3",
   "version": "3.6.1"
  }
 },
 "nbformat": 4,
 "nbformat_minor": 2
}
