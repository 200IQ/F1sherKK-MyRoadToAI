{
 "cells": [
  {
   "cell_type": "code",
   "execution_count": 1,
   "metadata": {},
   "outputs": [
    {
     "name": "stderr",
     "output_type": "stream",
     "text": [
      "Using TensorFlow backend.\n"
     ]
    }
   ],
   "source": [
    "import tensorflow as tf\n",
    "import tensorflow.examples.tutorials.mnist as mnist\n",
    "from keras import backend as Keras\n",
    "from keras.layers import Dense, Dropout\n",
    "from keras.objectives import categorical_crossentropy\n",
    "from keras.metrics import categorical_accuracy\n",
    "import numpy as np\n",
    "import matplotlib.pyplot as plt\n",
    "import matplotlib.patches as mpatches\n",
    "import random"
   ]
  },
  {
   "cell_type": "code",
   "execution_count": 2,
   "metadata": {
    "collapsed": true
   },
   "outputs": [],
   "source": [
    "%matplotlib inline"
   ]
  },
  {
   "cell_type": "markdown",
   "metadata": {},
   "source": [
    "#### Dataset info"
   ]
  },
  {
   "cell_type": "code",
   "execution_count": 3,
   "metadata": {
    "collapsed": true
   },
   "outputs": [],
   "source": [
    "# source: http://yann.lecun.com/exdb/mnist/\n",
    "IMAGE_WIDTH = 28\n",
    "IMAGE_HEIGHT = 28\n",
    "NUM_CHANNELS = 1\n",
    "PIXEL_DEPTH = 255\n",
    "NUM_LABELS = 10"
   ]
  },
  {
   "cell_type": "markdown",
   "metadata": {},
   "source": [
    "#### Loading files\n",
    "Data is already preprocessed, shuffled and normalized."
   ]
  },
  {
   "cell_type": "code",
   "execution_count": 4,
   "metadata": {},
   "outputs": [
    {
     "name": "stdout",
     "output_type": "stream",
     "text": [
      "Successfully downloaded train-images-idx3-ubyte.gz 9912422 bytes.\n",
      "Extracting tensorflow/examples/tutorials/mnist/train-images-idx3-ubyte.gz\n",
      "Successfully downloaded train-labels-idx1-ubyte.gz 28881 bytes.\n",
      "Extracting tensorflow/examples/tutorials/mnist/train-labels-idx1-ubyte.gz\n",
      "Successfully downloaded t10k-images-idx3-ubyte.gz 1648877 bytes.\n",
      "Extracting tensorflow/examples/tutorials/mnist/t10k-images-idx3-ubyte.gz\n",
      "Successfully downloaded t10k-labels-idx1-ubyte.gz 4542 bytes.\n",
      "Extracting tensorflow/examples/tutorials/mnist/t10k-labels-idx1-ubyte.gz\n"
     ]
    }
   ],
   "source": [
    "mnist_dataset = mnist.input_data.read_data_sets('tensorflow/examples/tutorials/mnist', one_hot=True)"
   ]
  },
  {
   "cell_type": "markdown",
   "metadata": {},
   "source": [
    "#### Divide data"
   ]
  },
  {
   "cell_type": "code",
   "execution_count": 27,
   "metadata": {
    "collapsed": true
   },
   "outputs": [],
   "source": [
    "trainX = mnist_dataset.train.images\n",
    "valX = mnist_dataset.validation.images\n",
    "testX = mnist_dataset.test.images\n",
    "\n",
    "trainY = mnist_dataset.train.labels.astype(np.float32)\n",
    "valY = mnist_dataset.validation.labels.astype(np.float32)\n",
    "testY = mnist_dataset.test.labels.astype(np.float32)"
   ]
  },
  {
   "cell_type": "code",
   "execution_count": 28,
   "metadata": {
    "collapsed": true
   },
   "outputs": [],
   "source": [
    "TRAIN_IMAGES_NUM = trainX.shape[0]\n",
    "TEST_IMAGES_NUM = testX.shape[0]"
   ]
  },
  {
   "cell_type": "markdown",
   "metadata": {},
   "source": [
    "#### Present data"
   ]
  },
  {
   "cell_type": "code",
   "execution_count": 29,
   "metadata": {
    "collapsed": true
   },
   "outputs": [],
   "source": [
    "def show_digit(trainX, trainY, index):\n",
    "    image = trainX[index].reshape([IMAGE_WIDTH, IMAGE_HEIGHT])\n",
    "    label = trainY[index]\n",
    "    plt.title(\"Training data, index: {},  Label: {}\".format(index, label))\n",
    "    plt.imshow(image, cmap=\"gray_r\")\n",
    "    plt.show()"
   ]
  },
  {
   "cell_type": "code",
   "execution_count": 30,
   "metadata": {},
   "outputs": [
    {
     "name": "stdout",
     "output_type": "stream",
     "text": [
      "trainX shape: (55000, 784)\n",
      "trainY shape: (55000, 10)\n",
      "valX shape: (5000, 784)\n",
      "valY shape: (5000, 10)\n",
      "testX shape: (10000, 784)\n",
      "testY shape: (10000, 10)\n"
     ]
    },
    {
     "data": {
      "image/png": "[encoded data removed]",
      "text/plain": [
       "<matplotlib.figure.Figure at 0x122155588>"
      ]
     },
     "metadata": {},
     "output_type": "display_data"
    }
   ],
   "source": [
    "print(\"trainX shape: \" + str(trainX.shape))\n",
    "print(\"trainY shape: \" + str(trainY.shape))\n",
    "print(\"valX shape: \" + str(valX.shape))\n",
    "print(\"valY shape: \" + str(valY.shape))\n",
    "print(\"testX shape: \" + str(testX.shape))\n",
    "print(\"testY shape: \" + str(testY.shape))\n",
    "show_digit(trainX, trainY, np.random.randint(1, TRAIN_IMAGES_NUM + 1))"
   ]
  },
  {
   "cell_type": "markdown",
   "metadata": {},
   "source": [
    "#### Neural Network preparation"
   ]
  },
  {
   "cell_type": "code",
   "execution_count": 31,
   "metadata": {
    "collapsed": true
   },
   "outputs": [],
   "source": [
    "input_nodes = IMAGE_WIDTH * IMAGE_HEIGHT\n",
    "hidden_layer_1_nodes = 300\n",
    "hidden_layer_2_nodes = 75\n",
    "output_layer_nodes = NUM_LABELS"
   ]
  },
  {
   "cell_type": "code",
   "execution_count": 35,
   "metadata": {
    "collapsed": true
   },
   "outputs": [],
   "source": [
    "# reset tensorflow graph\n",
    "tf.reset_default_graph()\n",
    "\n",
    "# placeholders for inputs, labels and learning rate\n",
    "inputs_ = tf.placeholder(tf.float32, [None, input_nodes], name=\"inputs\")\n",
    "targets_ = tf.placeholder(tf.float32, [None, output_layer_nodes], name=\"targets\")\n",
    "learning_rate_ = tf.placeholder(tf.float32, None, name=\"learning_rate\")\n",
    "keep_prob_ = tf.placeholder(tf.float32, name=\"keep_prob\")\n",
    "\n",
    "# layers (wrapped with keras)\n",
    "input_to_h1_layer = Dense(hidden_layer_1_nodes, activation='relu')(inputs_)  \n",
    "input_to_h1_layer = tf.nn.dropout(input_to_h1_layer, keep_prob_)\n",
    "\n",
    "# I use tf.nn.dropout instead of keras.layers.Dropout as it isn't currently well connected with\n",
    "# tf workflow, it requires float instead of tensor, furthermore we need to play with K.set_learning_phase() value\n",
    "# and make sure to switch it when we use train to 1 for train and 0 for val set\n",
    "# source: https://github.com/fchollet/keras/issues/3823\n",
    "\n",
    "h1_to_h2_layer = Dense(hidden_layer_2_nodes, activation='relu')(input_to_h1_layer)\n",
    "h1_to_h2_layer = tf.nn.dropout(h1_to_h2_layer, keep_prob_)\n",
    "\n",
    "h2_to_output = Dense(output_layer_nodes, activation='softmax')(h1_to_h2_layer)"
   ]
  },
  {
   "cell_type": "markdown",
   "metadata": {},
   "source": [
    "#### Loss and accuracy assessment"
   ]
  },
  {
   "cell_type": "code",
   "execution_count": 36,
   "metadata": {
    "collapsed": true
   },
   "outputs": [],
   "source": [
    "# loss function (tf.nn.softmax_cross_entropy_with_logits replaced with keras categorical_crossentropy)\n",
    "loss_function = tf.reduce_mean(categorical_crossentropy(targets_, h2_to_output))\n",
    "\n",
    "# gradient descent optimiser\n",
    "optimizer = tf.train.GradientDescentOptimizer(learning_rate_).minimize(loss_function)\n",
    "\n",
    "# accuracy \n",
    "# correct_prediction = tf.equal(tf.argmax(h2_to_o_layer_logits, 1), tf.argmax(targets_, 1))\n",
    "# accuracy = tf.reduce_mean(tf.cast(correct_prediction, tf.float32))\n",
    "# replaced with keras categorical_accuracy -> returns binary value per sample instead of percentage value\n",
    "accuracy = categorical_accuracy(targets_, h2_to_output)"
   ]
  },
  {
   "cell_type": "markdown",
   "metadata": {},
   "source": [
    "#### Batch preparation"
   ]
  },
  {
   "cell_type": "markdown",
   "metadata": {},
   "source": [
    "My own implementation:"
   ]
  },
  {
   "cell_type": "code",
   "execution_count": 37,
   "metadata": {
    "collapsed": true
   },
   "outputs": [],
   "source": [
    "def prepare_mini_batches(data, labels, batch_size):\n",
    "    assert len(data) == len(labels)\n",
    "    \n",
    "    all_batches = list()\n",
    "    for i in range(0, len(data)):\n",
    "        all_batches.append((data[i], labels[i]))\n",
    "    random.shuffle(all_batches)\n",
    "        \n",
    "    mini_batches = list()\n",
    "    while len(all_batches) >= batch_size:\n",
    "        \n",
    "        data_batch = list()\n",
    "        labels_batch = list()\n",
    "        for j in range(0, batch_size):\n",
    "            data, labels = all_batches.pop()\n",
    "            data_batch.append(data)\n",
    "            labels_batch.append(labels)\n",
    "            \n",
    "        mini_batches.append((np.array(data_batch), np.array(labels_batch)))\n",
    "    \n",
    "    return mini_batches"
   ]
  },
  {
   "cell_type": "code",
   "execution_count": 38,
   "metadata": {},
   "outputs": [
    {
     "name": "stdout",
     "output_type": "stream",
     "text": [
      "Input data mini-batch: (128, 784)\n",
      "Input data labels mini-batch: (128, 10)\n"
     ]
    }
   ],
   "source": [
    "# divide trainX, trainY data into batches of size 128, data is copied\n",
    "mini_batches_example = prepare_mini_batches(trainX, trainY, 128)\n",
    "\n",
    "# pop next batches\n",
    "exampleX_batches, exampleY_batches = mini_batches_example.pop()\n",
    "print(\"Input data mini-batch: \" + str(exampleX_batches.shape))\n",
    "print(\"Input data labels mini-batch: \" + str(exampleY_batches.shape))"
   ]
  },
  {
   "cell_type": "markdown",
   "metadata": {},
   "source": [
    "Similar but <u>NOT THE SAME</u> result could be achieved by using `mnist_dataset.train` object."
   ]
  },
  {
   "cell_type": "code",
   "execution_count": 39,
   "metadata": {},
   "outputs": [
    {
     "name": "stdout",
     "output_type": "stream",
     "text": [
      "Input data mini-batch: (128, 784)\n",
      "Input data labels mini-batch: (128, 10)\n"
     ]
    }
   ],
   "source": [
    "# fetching next 128 size RANDOM batches from data in mnist_dataset.traing\n",
    "tf_exampleX_batches, tf_exampleY_batches = mnist_dataset.train.next_batch(128)\n",
    "print(\"Input data mini-batch: \" + str(tf_exampleX_batches.shape))\n",
    "print(\"Input data labels mini-batch: \" + str(tf_exampleY_batches.shape))"
   ]
  },
  {
   "cell_type": "markdown",
   "metadata": {},
   "source": [
    "Main difference between two approaches is:\n",
    "\n",
    "a) With my implementation you make sure that if you iterate over *mini_batches* received from *prepare_mini_batches* function - your whole train data will be inserted into net but with random order. \n",
    "\n",
    "b) With tensorflow implementation you simply receive randomly picked *batch_size* samples. That way it is possible that some of samples from train set will enter net more often than others."
   ]
  },
  {
   "cell_type": "markdown",
   "metadata": {},
   "source": [
    "#### Hyperparameters"
   ]
  },
  {
   "cell_type": "code",
   "execution_count": 40,
   "metadata": {
    "collapsed": true
   },
   "outputs": [],
   "source": [
    "epochs = 65\n",
    "batch_size = 128\n",
    "learning_rate = 0.05\n",
    "keep_prob = 0.5"
   ]
  },
  {
   "cell_type": "markdown",
   "metadata": {
    "collapsed": true
   },
   "source": [
    "####  Training cycle"
   ]
  },
  {
   "cell_type": "code",
   "execution_count": 41,
   "metadata": {
    "scrolled": false
   },
   "outputs": [
    {
     "name": "stdout",
     "output_type": "stream",
     "text": [
      "Epoch: 1/65:\n",
      "      - Training loss: 0.728997 (acc: 0.832878)\n",
      "      - Validation loss: 0.354494 (acc: 0.9056)\n",
      "Epoch: 2/65:\n",
      "      - Training loss: 0.303276 (acc: 0.915392)\n",
      "      - Validation loss: 0.258947 (acc: 0.927)\n",
      "Epoch: 3/65:\n",
      "      - Training loss: 0.238241 (acc: 0.9316)\n",
      "      - Validation loss: 0.218727 (acc: 0.9368)\n",
      "Epoch: 4/65:\n",
      "      - Training loss: 0.201385 (acc: 0.942071)\n",
      "      - Validation loss: 0.189222 (acc: 0.9462)\n",
      "Epoch: 5/65:\n",
      "      - Training loss: 0.175293 (acc: 0.948754)\n",
      "      - Validation loss: 0.171113 (acc: 0.9484)\n",
      "Epoch: 6/65:\n",
      "      - Training loss: 0.156076 (acc: 0.954163)\n",
      "      - Validation loss: 0.156105 (acc: 0.9528)\n",
      "Epoch: 7/65:\n",
      "      - Training loss: 0.140529 (acc: 0.958333)\n",
      "      - Validation loss: 0.144428 (acc: 0.9566)\n",
      "Epoch: 8/65:\n",
      "      - Training loss: 0.12887 (acc: 0.962212)\n",
      "      - Validation loss: 0.134405 (acc: 0.9604)\n",
      "Epoch: 9/65:\n",
      "      - Training loss: 0.118027 (acc: 0.965417)\n",
      "      - Validation loss: 0.127846 (acc: 0.9624)\n",
      "Epoch: 10/65:\n",
      "      - Training loss: 0.109473 (acc: 0.968022)\n",
      "      - Validation loss: 0.12093 (acc: 0.9652)\n",
      "Epoch: 11/65:\n",
      "      - Training loss: 0.10217 (acc: 0.970152)\n",
      "      - Validation loss: 0.118351 (acc: 0.9648)\n",
      "Epoch: 12/65:\n",
      "      - Training loss: 0.0958055 (acc: 0.972392)\n",
      "      - Validation loss: 0.11207 (acc: 0.9678)\n",
      "Epoch: 13/65:\n",
      "      - Training loss: 0.0902328 (acc: 0.973813)\n",
      "      - Validation loss: 0.109028 (acc: 0.968)\n",
      "Epoch: 14/65:\n",
      "      - Training loss: 0.0848613 (acc: 0.975215)\n",
      "      - Validation loss: 0.105296 (acc: 0.9686)\n",
      "Epoch: 15/65:\n",
      "      - Training loss: 0.079967 (acc: 0.976726)\n",
      "      - Validation loss: 0.102801 (acc: 0.9702)\n",
      "Epoch: 16/65:\n",
      "      - Training loss: 0.0764339 (acc: 0.978019)\n",
      "      - Validation loss: 0.100469 (acc: 0.9698)\n",
      "Epoch: 17/65:\n",
      "      - Training loss: 0.0729705 (acc: 0.979112)\n",
      "      - Validation loss: 0.0984217 (acc: 0.9712)\n",
      "Epoch: 18/65:\n",
      "      - Training loss: 0.0688369 (acc: 0.980441)\n",
      "      - Validation loss: 0.0972528 (acc: 0.9712)\n",
      "Epoch: 19/65:\n",
      "      - Training loss: 0.0658593 (acc: 0.980769)\n",
      "      - Validation loss: 0.0961645 (acc: 0.9728)\n",
      "Epoch: 20/65:\n",
      "      - Training loss: 0.0628391 (acc: 0.982062)\n",
      "      - Validation loss: 0.0937913 (acc: 0.9722)\n",
      "Epoch: 21/65:\n",
      "      - Training loss: 0.0605763 (acc: 0.982408)\n",
      "      - Validation loss: 0.092911 (acc: 0.9722)\n",
      "Epoch: 22/65:\n",
      "      - Training loss: 0.0583591 (acc: 0.983665)\n",
      "      - Validation loss: 0.0891936 (acc: 0.9756)\n",
      "Epoch: 23/65:\n",
      "      - Training loss: 0.0555511 (acc: 0.984575)\n",
      "      - Validation loss: 0.0896702 (acc: 0.9734)\n",
      "Epoch: 24/65:\n",
      "      - Training loss: 0.0532832 (acc: 0.984903)\n",
      "      - Validation loss: 0.0895645 (acc: 0.9752)\n",
      "Epoch: 25/65:\n",
      "      - Training loss: 0.0516273 (acc: 0.985577)\n",
      "      - Validation loss: 0.0871406 (acc: 0.9766)\n",
      "Epoch: 26/65:\n",
      "      - Training loss: 0.049689 (acc: 0.986269)\n",
      "      - Validation loss: 0.0843965 (acc: 0.9764)\n",
      "Epoch: 27/65:\n",
      "      - Training loss: 0.0475449 (acc: 0.98636)\n",
      "      - Validation loss: 0.0851888 (acc: 0.9768)\n",
      "Epoch: 28/65:\n",
      "      - Training loss: 0.0462536 (acc: 0.986797)\n",
      "      - Validation loss: 0.0830129 (acc: 0.9756)\n",
      "Epoch: 29/65:\n",
      "      - Training loss: 0.0442823 (acc: 0.987635)\n",
      "      - Validation loss: 0.0829978 (acc: 0.9766)\n",
      "Epoch: 30/65:\n",
      "      - Training loss: 0.0433557 (acc: 0.987872)\n",
      "      - Validation loss: 0.0822708 (acc: 0.9776)\n",
      "Epoch: 31/65:\n",
      "      - Training loss: 0.0415537 (acc: 0.988381)\n",
      "      - Validation loss: 0.0823325 (acc: 0.977)\n",
      "Epoch: 32/65:\n",
      "      - Training loss: 0.0398295 (acc: 0.989183)\n",
      "      - Validation loss: 0.0818809 (acc: 0.9774)\n",
      "Epoch: 33/65:\n",
      "      - Training loss: 0.0385774 (acc: 0.989183)\n",
      "      - Validation loss: 0.0811188 (acc: 0.9772)\n",
      "Epoch: 34/65:\n",
      "      - Training loss: 0.0372372 (acc: 0.989474)\n",
      "      - Validation loss: 0.079862 (acc: 0.9784)\n",
      "Epoch: 35/65:\n",
      "      - Training loss: 0.0364801 (acc: 0.990002)\n",
      "      - Validation loss: 0.0783074 (acc: 0.979)\n",
      "Epoch: 36/65:\n",
      "      - Training loss: 0.0354897 (acc: 0.990348)\n",
      "      - Validation loss: 0.0791049 (acc: 0.978)\n",
      "Epoch: 37/65:\n",
      "      - Training loss: 0.0337958 (acc: 0.990621)\n",
      "      - Validation loss: 0.0782192 (acc: 0.9776)\n",
      "Epoch: 38/65:\n",
      "      - Training loss: 0.0328339 (acc: 0.990785)\n",
      "      - Validation loss: 0.0789847 (acc: 0.9772)\n",
      "Epoch: 39/65:\n",
      "      - Training loss: 0.0319559 (acc: 0.99064)\n",
      "      - Validation loss: 0.0767534 (acc: 0.978)\n",
      "Epoch: 40/65:\n",
      "      - Training loss: 0.0306395 (acc: 0.991386)\n",
      "      - Validation loss: 0.0756447 (acc: 0.9792)\n",
      "Epoch: 41/65:\n",
      "      - Training loss: 0.0298145 (acc: 0.991568)\n",
      "      - Validation loss: 0.0771677 (acc: 0.979)\n",
      "Epoch: 42/65:\n",
      "      - Training loss: 0.02919 (acc: 0.99175)\n",
      "      - Validation loss: 0.0748162 (acc: 0.9776)\n",
      "Epoch: 43/65:\n",
      "      - Training loss: 0.0279171 (acc: 0.992552)\n",
      "      - Validation loss: 0.0766319 (acc: 0.9794)\n",
      "Epoch: 44/65:\n",
      "      - Training loss: 0.0274755 (acc: 0.99237)\n",
      "      - Validation loss: 0.0735351 (acc: 0.9786)\n",
      "Epoch: 45/65:\n",
      "      - Training loss: 0.0264353 (acc: 0.992843)\n",
      "      - Validation loss: 0.0739511 (acc: 0.9802)\n",
      "Epoch: 46/65:\n",
      "      - Training loss: 0.0255312 (acc: 0.992989)\n",
      "      - Validation loss: 0.0735963 (acc: 0.981)\n",
      "Epoch: 47/65:\n",
      "      - Training loss: 0.0253061 (acc: 0.992625)\n",
      "      - Validation loss: 0.0757269 (acc: 0.9798)\n",
      "Epoch: 48/65:\n",
      "      - Training loss: 0.0242061 (acc: 0.993608)\n",
      "      - Validation loss: 0.0730505 (acc: 0.9792)\n",
      "Epoch: 49/65:\n",
      "      - Training loss: 0.0240045 (acc: 0.993353)\n",
      "      - Validation loss: 0.0761091 (acc: 0.9796)\n",
      "Epoch: 50/65:\n",
      "      - Training loss: 0.0231038 (acc: 0.99359)\n",
      "      - Validation loss: 0.0725262 (acc: 0.9796)\n",
      "Epoch: 51/65:\n",
      "      - Training loss: 0.0220913 (acc: 0.994027)\n",
      "      - Validation loss: 0.0724669 (acc: 0.98)\n",
      "Epoch: 52/65:\n",
      "      - Training loss: 0.0218825 (acc: 0.993881)\n",
      "      - Validation loss: 0.0740202 (acc: 0.9804)\n",
      "Epoch: 53/65:\n",
      "      - Training loss: 0.0210336 (acc: 0.9943)\n",
      "      - Validation loss: 0.0728733 (acc: 0.9794)\n",
      "Epoch: 54/65:\n",
      "      - Training loss: 0.0204597 (acc: 0.994701)\n",
      "      - Validation loss: 0.0721522 (acc: 0.9808)\n",
      "Epoch: 55/65:\n",
      "      - Training loss: 0.0197044 (acc: 0.994719)\n",
      "      - Validation loss: 0.0733313 (acc: 0.9808)\n",
      "Epoch: 56/65:\n",
      "      - Training loss: 0.0189034 (acc: 0.994992)\n",
      "      - Validation loss: 0.0719708 (acc: 0.9804)\n",
      "Epoch: 57/65:\n",
      "      - Training loss: 0.0188931 (acc: 0.994956)\n",
      "      - Validation loss: 0.0726104 (acc: 0.98)\n",
      "Epoch: 58/65:\n",
      "      - Training loss: 0.0185687 (acc: 0.994865)\n",
      "      - Validation loss: 0.0708911 (acc: 0.9808)\n",
      "Epoch: 59/65:\n",
      "      - Training loss: 0.0181565 (acc: 0.995138)\n",
      "      - Validation loss: 0.0715111 (acc: 0.9814)\n",
      "Epoch: 60/65:\n",
      "      - Training loss: 0.0173721 (acc: 0.995575)\n",
      "      - Validation loss: 0.0713147 (acc: 0.9806)\n",
      "Epoch: 61/65:\n",
      "      - Training loss: 0.0168556 (acc: 0.995502)\n",
      "      - Validation loss: 0.0722588 (acc: 0.9806)\n",
      "Epoch: 62/65:\n",
      "      - Training loss: 0.0163334 (acc: 0.995502)\n",
      "      - Validation loss: 0.0706445 (acc: 0.9808)\n",
      "Epoch: 63/65:\n",
      "      - Training loss: 0.0162122 (acc: 0.996066)\n",
      "      - Validation loss: 0.072942 (acc: 0.9808)\n",
      "Epoch: 64/65:\n",
      "      - Training loss: 0.0153038 (acc: 0.995921)\n",
      "      - Validation loss: 0.0710058 (acc: 0.9808)\n",
      "Epoch: 65/65:\n",
      "      - Training loss: 0.0154928 (acc: 0.995994)\n",
      "      - Validation loss: 0.0709065 (acc: 0.9808)\n"
     ]
    }
   ],
   "source": [
    "session = tf.Session()\n",
    "Keras.set_session(session)\n",
    "\n",
    "\n",
    "info = {'train':[], 'validation':[], 'train_acc':[], 'validation_acc':[]}\n",
    "\n",
    "with session.as_default():\n",
    "    session.run(tf.global_variables_initializer())\n",
    "\n",
    "    for epoch in range(epochs):\n",
    "        mini_batches = prepare_mini_batches(trainX, trainY, batch_size)\n",
    "        \n",
    "        epoch_losses = []\n",
    "        epoch_accuracy = []\n",
    "        while mini_batches:\n",
    "            data_inputs, data_labels = mini_batches.pop()\n",
    "\n",
    "            session.run(optimizer,\n",
    "                        feed_dict={inputs_: data_inputs, \n",
    "                                   targets_: data_labels, \n",
    "                                   learning_rate_: learning_rate,\n",
    "                                   keep_prob_: keep_prob})\n",
    "            \n",
    "            batch_loss = session.run(loss_function, feed_dict={inputs_: data_inputs, \n",
    "                                                               targets_: data_labels,\n",
    "                                                               keep_prob_: 1.})\n",
    "            \n",
    "            batch_acc = session.run(accuracy, feed_dict={inputs_:data_inputs, \n",
    "                                                         targets_: data_labels,\n",
    "                                                         keep_prob_: 1.})\n",
    "            batch_acc = np.mean(batch_acc)\n",
    "            \n",
    "            epoch_losses.append(batch_loss)\n",
    "            epoch_accuracy.append(batch_acc)\n",
    "            \n",
    "        train_loss = np.mean(epoch_losses)\n",
    "        info['train'].append(train_loss)\n",
    "\n",
    "        train_accuracy = np.mean(epoch_accuracy)\n",
    "        info['train_acc'].append(train_accuracy)\n",
    "\n",
    "        val_loss = session.run(loss_function, feed_dict={inputs_: valX, \n",
    "                                                         targets_: valY,\n",
    "                                                         keep_prob_: 1.})\n",
    "        info['validation'].append(val_loss)\n",
    "\n",
    "        val_accuracy = session.run(accuracy, feed_dict={inputs_: valX, \n",
    "                                                        targets_: valY,\n",
    "                                                        keep_prob_: 1.})\n",
    "        val_accuracy = np.mean(val_accuracy)\n",
    "        info['validation_acc'].append(val_accuracy)\n",
    "\n",
    "        print(\"Epoch: \" + str(epoch + 1) + \"/\" + str(epochs) + \":\\n\"\n",
    "              + \"      - Training loss: \" + str(train_loss) + \" (acc: \" + str(train_accuracy) + \")\\n\"\n",
    "              + \"      - Validation loss: \" + str(val_loss) + \" (acc: \" + str(val_accuracy) + \")\")"
   ]
  },
  {
   "cell_type": "markdown",
   "metadata": {},
   "source": [
    "#### Results"
   ]
  },
  {
   "cell_type": "code",
   "execution_count": 42,
   "metadata": {},
   "outputs": [
    {
     "data": {
      "image/png": "[encoded data removed]",
      "text/plain": [
       "<matplotlib.figure.Figure at 0x1225b69b0>"
      ]
     },
     "metadata": {},
     "output_type": "display_data"
    }
   ],
   "source": [
    "fig1 = plt.figure()\n",
    "ax1 = fig1.add_subplot(111)\n",
    "ax1.plot(info['train_acc'], label='Training acc')\n",
    "ax1.plot(info['validation_acc'], label='Validation acc')\n",
    "blue_patch = mpatches.Patch(color='#699cef', label='Training accuracy')\n",
    "orange_patch = mpatches.Patch(color='orange', label='Validation accuracy')\n",
    "ax1.legend(handles=[blue_patch, orange_patch])\n",
    "plt.show()"
   ]
  },
  {
   "cell_type": "code",
   "execution_count": 43,
   "metadata": {},
   "outputs": [
    {
     "data": {
      "image/png": "[encoded data removed]",
      "text/plain": [
       "<matplotlib.figure.Figure at 0x121f1bc18>"
      ]
     },
     "metadata": {},
     "output_type": "display_data"
    }
   ],
   "source": [
    "fig1 = plt.figure()\n",
    "ax2 = fig1.add_subplot(111)\n",
    "ax2.plot(info['train'], label='Training loss')\n",
    "ax2.plot(info['validation'], label='Validation loss')\n",
    "blue_patch = mpatches.Patch(color='#699cef', label='Training cross-entropy')\n",
    "orange_patch = mpatches.Patch(color='orange', label='Validation cross-entropy')\n",
    "ax2.legend(handles=[blue_patch, orange_patch])\n",
    "plt.show()"
   ]
  },
  {
   "cell_type": "code",
   "execution_count": 44,
   "metadata": {},
   "outputs": [
    {
     "name": "stdout",
     "output_type": "stream",
     "text": [
      "Test dataset accuracy: 0.9818\n"
     ]
    }
   ],
   "source": [
    "with session.as_default():\n",
    "    test_accuracy = accuracy.eval(feed_dict={inputs_: testX, \n",
    "                                             targets_: testY,\n",
    "                                             keep_prob_: 1.})\n",
    "    test_accuracy = np.mean(test_accuracy)\n",
    "    print(\"Test dataset accuracy: \" + str(test_accuracy))"
   ]
  }
 ],
 "metadata": {
  "kernelspec": {
   "display_name": "Python 3",
   "language": "python",
   "name": "python3"
  },
  "language_info": {
   "codemirror_mode": {
    "name": "ipython",
    "version": 3
   },
   "file_extension": ".py",
   "mimetype": "text/x-python",
   "name": "python",
   "nbconvert_exporter": "python",
   "pygments_lexer": "ipython3",
   "version": "3.6.1"
  }
 },
 "nbformat": 4,
 "nbformat_minor": 2
}
