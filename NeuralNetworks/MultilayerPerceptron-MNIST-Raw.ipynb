{
 "cells": [
  {
   "cell_type": "code",
   "execution_count": 176,
   "metadata": {
    "collapsed": true
   },
   "outputs": [],
   "source": [
    "import matplotlib.pyplot as plt\n",
    "import numpy as np\n",
    "import os\n",
    "import sys\n",
    "import gzip\n",
    "import random"
   ]
  },
  {
   "cell_type": "code",
   "execution_count": 177,
   "metadata": {
    "collapsed": true
   },
   "outputs": [],
   "source": [
    "%matplotlib inline"
   ]
  },
  {
   "cell_type": "markdown",
   "metadata": {},
   "source": [
    "#### Dataset info"
   ]
  },
  {
   "cell_type": "code",
   "execution_count": 178,
   "metadata": {
    "collapsed": true
   },
   "outputs": [],
   "source": [
    "# source: http://yann.lecun.com/exdb/mnist/\n",
    "IMAGE_WIDTH = 28\n",
    "IMAGE_HEIGHT = 28\n",
    "NUM_CHANNELS = 1\n",
    "PIXEL_DEPTH = 255\n",
    "NUM_LABELS = 10\n",
    "TRAIN_IMAGES_NUM = 60000\n",
    "TEST_IMAGES_NUM = 10000"
   ]
  },
  {
   "cell_type": "markdown",
   "metadata": {},
   "source": [
    "#### Loading files"
   ]
  },
  {
   "cell_type": "code",
   "execution_count": 179,
   "metadata": {
    "collapsed": false
   },
   "outputs": [
    {
     "name": "stdout",
     "output_type": "stream",
     "text": [
      "MNIST dataset found in directory './mnist_dataset/':\n",
      "- t10k-images-idx3-ubyte.gz\n",
      "- t10k-labels-idx1-ubyte.gz\n",
      "- train-images-idx3-ubyte.gz\n",
      "- train-labels-idx1-ubyte.gz\n"
     ]
    }
   ],
   "source": [
    "DATASET_DIRECTORY = \"./mnist_dataset/\"\n",
    "\n",
    "if os.path.isdir(DATASET_DIRECTORY):\n",
    "    print(\"MNIST dataset found in directory '\" + DATASET_DIRECTORY + \"':\")\n",
    "    for file in os.listdir(DATASET_DIRECTORY):\n",
    "        print(\"- \"  + file)\n",
    "else:\n",
    "    print(\"Missing MNIST data folder!\")"
   ]
  },
  {
   "cell_type": "markdown",
   "metadata": {},
   "source": [
    "#### Extracting data"
   ]
  },
  {
   "cell_type": "code",
   "execution_count": 180,
   "metadata": {
    "collapsed": false
   },
   "outputs": [],
   "source": [
    "def extract_data(file_path, num_images):\n",
    "    with gzip.open(file_path) as bstream:\n",
    "        bstream.read(16)\n",
    "        buffer = bstream.read(IMAGE_WIDTH * IMAGE_HEIGHT * num_images)\n",
    "        data = np.frombuffer(buffer, dtype=np.uint8).astype(np.float32)\n",
    "        data = data.reshape(num_images, IMAGE_WIDTH, IMAGE_HEIGHT, 1)\n",
    "        return data"
   ]
  },
  {
   "cell_type": "code",
   "execution_count": 181,
   "metadata": {
    "collapsed": true
   },
   "outputs": [],
   "source": [
    "def extract_labels(file_path, num_images):\n",
    "    with gzip.open(file_path) as bstream:\n",
    "        bstream.read(8)\n",
    "        buffer = bstream.read(1 * num_images)\n",
    "        labels = np.frombuffer(buffer, dtype=np.uint8).astype(np.int64)\n",
    "    return labels"
   ]
  },
  {
   "cell_type": "code",
   "execution_count": 182,
   "metadata": {
    "collapsed": false
   },
   "outputs": [],
   "source": [
    "trainX_raw = extract_data(DATASET_DIRECTORY + \"train-images-idx3-ubyte.gz\", TRAIN_IMAGES_NUM)\n",
    "trainY_raw = extract_labels(DATASET_DIRECTORY + \"train-labels-idx1-ubyte.gz\", TRAIN_IMAGES_NUM)\n",
    "testX_raw = extract_data(DATASET_DIRECTORY + \"t10k-images-idx3-ubyte.gz\", TEST_IMAGES_NUM)\n",
    "testY_raw = extract_labels(DATASET_DIRECTORY + \"t10k-labels-idx1-ubyte.gz\", TEST_IMAGES_NUM)"
   ]
  },
  {
   "cell_type": "markdown",
   "metadata": {},
   "source": [
    "#### Present extracted data"
   ]
  },
  {
   "cell_type": "code",
   "execution_count": 183,
   "metadata": {
    "collapsed": true
   },
   "outputs": [],
   "source": [
    "def show_digit(trainX_raw, trainY_raw, index):\n",
    "    image = trainX_raw[index].reshape([IMAGE_WIDTH, IMAGE_HEIGHT])\n",
    "    label = trainY_raw[index]\n",
    "    plt.title(\"Training data, index: {},  Label: {}\".format(index, label))\n",
    "    plt.imshow(image, cmap=\"gray_r\")\n",
    "    plt.show()"
   ]
  },
  {
   "cell_type": "code",
   "execution_count": 184,
   "metadata": {
    "collapsed": false
   },
   "outputs": [
    {
     "name": "stdout",
     "output_type": "stream",
     "text": [
      "trainX_raw shape: (60000, 28, 28, 1)\n",
      "trainY_raw shape: (60000,)\n",
      "testX_raw shape: (10000, 28, 28, 1)\n",
      "testY_raw shape: (10000,)\n"
     ]
    },
    {
     "data": {
      "image/png": "[encoded data removed]",
      "text/plain": [
       "<matplotlib.figure.Figure at 0x12da0fb00>"
      ]
     },
     "metadata": {},
     "output_type": "display_data"
    }
   ],
   "source": [
    "print(\"trainX_raw shape: \" + str(trainX_raw.shape))\n",
    "print(\"trainY_raw shape: \" + str(trainY_raw.shape))\n",
    "print(\"testX_raw shape: \" + str(testX_raw.shape))\n",
    "print(\"testY_raw shape: \" + str(testY_raw.shape))\n",
    "show_digit(trainX_raw, trainY_raw, np.random.randint(1, TRAIN_IMAGES_NUM + 1))"
   ]
  },
  {
   "cell_type": "markdown",
   "metadata": {},
   "source": [
    "#### Preprocess data"
   ]
  },
  {
   "cell_type": "code",
   "execution_count": 185,
   "metadata": {
    "collapsed": false
   },
   "outputs": [],
   "source": [
    "def normalize(x, pixel_depth):\n",
    "    return x / pixel_depth"
   ]
  },
  {
   "cell_type": "code",
   "execution_count": 186,
   "metadata": {
    "collapsed": true
   },
   "outputs": [],
   "source": [
    "def one_hot_encode(x, labels_num):\n",
    "    rows = len(x)\n",
    "\n",
    "    encoding_array = np.zeros([rows, labels_num])\n",
    "    for row in range(0, rows):\n",
    "        label = x[row] - 1\n",
    "        encoding_array[row][label] = 1\n",
    "    \n",
    "    return encoding_array"
   ]
  },
  {
   "cell_type": "code",
   "execution_count": 187,
   "metadata": {
    "collapsed": false
   },
   "outputs": [],
   "source": [
    "trainX_processed = normalize(np.reshape(trainX_raw, (TRAIN_IMAGES_NUM, IMAGE_WIDTH * IMAGE_HEIGHT)), PIXEL_DEPTH)\n",
    "testX_processed = normalize(np.reshape(testX_raw, (TEST_IMAGES_NUM, IMAGE_WIDTH * IMAGE_HEIGHT)), PIXEL_DEPTH)"
   ]
  },
  {
   "cell_type": "code",
   "execution_count": 188,
   "metadata": {
    "collapsed": false
   },
   "outputs": [
    {
     "name": "stdout",
     "output_type": "stream",
     "text": [
      "trainX_raw shape: (60000, 28, 28, 1), min: 0.0, max: 255.0\n",
      "testX_raw shape: (10000, 28, 28, 1), min: 0.0, max: 255.0\n",
      "trainX_processed shape: (60000, 784), min: 0.0, max: 1.0\n",
      "testX_processed shape: (10000, 784), min: 0.0, max: 1.0\n"
     ]
    }
   ],
   "source": [
    "print(\"trainX_raw shape: \" + str(trainX_raw.shape) + \", min: \" + str(np.min(trainX_raw)) + \", max: \" + str(np.max(trainX_raw)))\n",
    "print(\"testX_raw shape: \" + str(testX_raw.shape) + \", min: \" + str(np.min(testX_raw)) + \", max: \" + str(np.max(testX_raw)))\n",
    "print(\"trainX_processed shape: \" + str(trainX_processed.shape) + \", min: \" + str(np.min(trainX_processed)) + \", max: \" + str(np.max(trainX_processed)))\n",
    "print(\"testX_processed shape: \" + str(testX_processed.shape) + \", min: \" + str(np.min(testX_processed)) + \", max: \" + str(np.max(testX_processed)))"
   ]
  },
  {
   "cell_type": "code",
   "execution_count": 189,
   "metadata": {
    "collapsed": false
   },
   "outputs": [],
   "source": [
    "trainY_processed = one_hot_encode(trainY_raw, NUM_LABELS)\n",
    "testY_processed = one_hot_encode(testY_raw, NUM_LABELS)"
   ]
  },
  {
   "cell_type": "code",
   "execution_count": 190,
   "metadata": {
    "collapsed": false
   },
   "outputs": [
    {
     "name": "stdout",
     "output_type": "stream",
     "text": [
      "Label on pos: 42740 equals 1, OHE tensor: [ 1.  0.  0.  0.  0.  0.  0.  0.  0.  0.]\n",
      "Label on pos: 2446 equals 2, OHE tensor: [ 0.  1.  0.  0.  0.  0.  0.  0.  0.  0.]\n"
     ]
    }
   ],
   "source": [
    "random_train_index = np.random.randint(1, TRAIN_IMAGES_NUM + 1)\n",
    "random_test_index = np.random.randint(1, TEST_IMAGES_NUM + 1)\n",
    "\n",
    "print(\"Label on pos: \" + str(random_train_index) + \" equals \" + str(trainY_raw[random_train_index]) + \", OHE tensor: \" + str(trainY_processed[random_train_index]))\n",
    "print(\"Label on pos: \" + str(random_test_index) + \" equals \" + str(testY_raw[random_test_index]) + \", OHE tensor: \" + str(testY_processed[random_test_index]))"
   ]
  },
  {
   "cell_type": "markdown",
   "metadata": {},
   "source": [
    "#### Divide data"
   ]
  },
  {
   "cell_type": "code",
   "execution_count": 191,
   "metadata": {
    "collapsed": true
   },
   "outputs": [],
   "source": [
    "VALIDATION_DATA_PERCENTAGE = 0.1"
   ]
  },
  {
   "cell_type": "code",
   "execution_count": 192,
   "metadata": {
    "collapsed": false
   },
   "outputs": [],
   "source": [
    "val_samples = int(TRAIN_IMAGES_NUM * VALIDATION_DATA_PERCENTAGE)"
   ]
  },
  {
   "cell_type": "code",
   "execution_count": 193,
   "metadata": {
    "collapsed": false
   },
   "outputs": [],
   "source": [
    "train_dataX = trainX_processed[val_samples:]\n",
    "train_dataY = trainY_processed[val_samples:]\n",
    "val_dataX = trainX_processed[:val_samples]\n",
    "val_dataY = trainY_processed[:val_samples]"
   ]
  },
  {
   "cell_type": "code",
   "execution_count": 194,
   "metadata": {
    "collapsed": false
   },
   "outputs": [
    {
     "name": "stdout",
     "output_type": "stream",
     "text": [
      "train_dataX shape: (54000, 784)\n",
      "train_dataY shape: (54000, 10)\n",
      "val_dataX shape: (6000, 784)\n",
      "val_dataY shape: (6000, 10)\n"
     ]
    }
   ],
   "source": [
    "print(\"train_dataX shape: \" + str(train_dataX.shape))\n",
    "print(\"train_dataY shape: \" + str(train_dataY.shape))\n",
    "print(\"val_dataX shape: \" + str(val_dataX.shape))\n",
    "print(\"val_dataY shape: \" + str(val_dataY.shape))"
   ]
  },
  {
   "cell_type": "markdown",
   "metadata": {},
   "source": [
    "#### Neural Network preparation"
   ]
  },
  {
   "cell_type": "code",
   "execution_count": 231,
   "metadata": {
    "collapsed": false
   },
   "outputs": [],
   "source": [
    "class NeuralNetwork(object):\n",
    "    def __init__(self, input_nodes, hidden_nodes_layer_1, hidden_nodes_layer_2, output_nodes, learning_rate):\n",
    "        self.input_nodes = input_nodes\n",
    "        self.hidden_nodes_layer_1 = hidden_nodes_layer_1\n",
    "        self.hidden_nodes_layer_2 = hidden_nodes_layer_2\n",
    "        self.output_nodes = output_nodes\n",
    "        self.lr = learning_rate\n",
    "        \n",
    "        # initialize weights and biases\n",
    "        self.weights_i_to_h1 = np.random.uniform(\n",
    "            (-1 / np.sqrt(self.input_nodes)), (1 / np.sqrt(self.input_nodes)), \n",
    "            (self.input_nodes, self.hidden_nodes_layer_1))\n",
    "        self.bias_i_to_h1 = np.zeros(self.hidden_nodes_layer_1)\n",
    "        \n",
    "        self.weights_h1_to_h2 = np.random.uniform(\n",
    "            (-1 / np.sqrt(self.hidden_nodes_layer_1)), (1 / np.sqrt(self.hidden_nodes_layer_1)), \n",
    "            (self.hidden_nodes_layer_1, self.hidden_nodes_layer_2))\n",
    "        self.bias_h1_to_h2 = np.zeros(self.hidden_nodes_layer_2)\n",
    "\n",
    "        self.weights_h2_to_o = np.random.uniform(\n",
    "            (-1 / np.sqrt(self.hidden_nodes_layer_2)), (1 / np.sqrt(self.hidden_nodes_layer_2)),\n",
    "            (self.hidden_nodes_layer_2, self.output_nodes))\n",
    "        self.bias_h2_to_o = np.zeros(self.output_nodes)\n",
    "        \n",
    "    def activation_ReLU(self, x):\n",
    "        return x * (x > 0)\n",
    "    \n",
    "    def activation_dReLU(self, x):\n",
    "        return 1. * (x > 0)\n",
    "    \n",
    "    def softmax(self, x):\n",
    "        shiftx = x - np.max(x)\n",
    "        exps = np.exp(shiftx)\n",
    "        return exps / np.sum(exps)\n",
    "    \n",
    "    def dsoftmax(self, x):\n",
    "        # TODO: vectorise math\n",
    "        vec_len = len(x)\n",
    "        J = np.zeros((vec_len, vec_len))\n",
    "        for i in range(vec_len):\n",
    "            for j in range(vec_len):\n",
    "                if i == j:\n",
    "                    J[i][j] = x[i] * (1 - x[j])\n",
    "                else:\n",
    "                    J[i][j] = -x[i] * x[j]\n",
    "        return J\n",
    "\n",
    "    def train(self, features, targets):\n",
    "        n_records = features.shape[0]\n",
    "        \n",
    "        # placeholders for weights and biases change values\n",
    "        delta_weights_i_h1 = np.zeros(self.weights_i_to_h1.shape)\n",
    "        delta_weights_h1_h2 = np.zeros(self.weights_h1_to_h2.shape)\n",
    "        delta_weights_h2_o = np.zeros(self.weights_h2_to_o.shape)\n",
    "        delta_bias_i_h1 = np.zeros(self.bias_i_to_h1.shape)\n",
    "        delta_bias_h1_h2 = np.zeros(self.bias_h1_to_h2.shape)\n",
    "        delta_bias_h2_o = np.zeros(self.bias_h2_to_o.shape)\n",
    "        \n",
    "        for X, y in zip(features, targets):\n",
    "            ### forward pass\n",
    "            # input to hidden 1\n",
    "            inputs_to_h1_layer = np.dot(X, self.weights_i_to_h1) + self.bias_i_to_h1\n",
    "#             inputs_to_h1_layer_activated = self.activation_ReLU(inputs_to_h1_layer)\n",
    "            inputs_to_h1_layer_activated = 1 / (1 + np.exp(-inputs_to_h1_layer))\n",
    "            \n",
    "            # hidden 1 to hidden 2\n",
    "            h1_to_h2_layer = np.dot(inputs_to_h1_layer_activated, self.weights_h1_to_h2) + self.bias_h1_to_h2\n",
    "#             h1_to_h2_layer_activated = self.activation_ReLU(h1_to_h2_layer)\n",
    "            h1_to_h2_layer_activated = 1 / (1 + np.exp(-h1_to_h2_layer))\n",
    "\n",
    "            # hidden 2 to output\n",
    "            h2_to_output_layer = np.dot(h1_to_h2_layer_activated, self.weights_h2_to_o) + self.bias_h2_to_o\n",
    "            h2_to_output_layer_activated = self.softmax(h2_to_output_layer)\n",
    "            \n",
    "            # output\n",
    "            final_outputs = h2_to_output_layer_activated \n",
    "\n",
    "            ### backpropagation\n",
    "            # output to hidden2\n",
    "            error = y - final_outputs\n",
    "            output_error_term = error.dot(self.dsoftmax(h2_to_output_layer_activated))\n",
    "            \n",
    "            h2_error = np.dot(output_error_term, self.weights_h2_to_o.T)\n",
    "#             h2_error_term = h2_error * self.activation_dReLU(h1_to_h2_layer_activated)\n",
    "            h2_error_term = h2_error * h1_to_h2_layer_activated * (1 - h1_to_h2_layer_activated)\n",
    "            \n",
    "            # hidden2 to hidden1\n",
    "            h1_error = np.dot(h2_error_term, self.weights_h1_to_h2.T) \n",
    "#             h1_error_term = h1_error * self.activation_dReLU(inputs_to_h1_layer_activated)\n",
    "            h1_error_term = h1_error * inputs_to_h1_layer_activated * (1 - inputs_to_h1_layer_activated)\n",
    "\n",
    "            # weight & bias step (input to hidden)\n",
    "            delta_weights_i_h1 += h1_error_term * X[:, None]\n",
    "            delta_bias_i_h1 = np.sum(h1_error_term, axis=0)\n",
    "            \n",
    "            # weight & bias step (hidden1 to hidden2)\n",
    "            delta_weights_h1_h2 += h2_error_term * inputs_to_h1_layer_activated[:, None]\n",
    "            delta_bias_h1_h2 = np.sum(h2_error_term, axis=0)\n",
    "            \n",
    "            # weight & bias step (hidden2 to output)\n",
    "            delta_weights_h2_o += output_error_term * h1_to_h2_layer_activated[:, None]\n",
    "            delta_bias_h2_o = np.sum(output_error_term, axis=0)\n",
    "\n",
    "        # update the weights and biases     \n",
    "        self.weights_i_to_h1 += self.lr * delta_weights_i_h1 / n_records\n",
    "        self.weights_h1_to_h2 += self.lr * delta_weights_h1_h2 / n_records\n",
    "        self.weights_h2_to_o += self.lr * delta_weights_h2_o / n_records\n",
    "        self.bias_i_to_h1 += self.lr * delta_bias_i_h1 / n_records\n",
    "        self.bias_h1_to_h2 += self.lr * delta_bias_h1_h2 / n_records\n",
    "        self.bias_h2_to_o += self.lr * delta_bias_h2_o / n_records\n",
    "    \n",
    " \n",
    "    def run(self, features):\n",
    "        ### forward pass\n",
    "        # input to hidden 1\n",
    "        inputs_to_h1_layer = np.dot(features, self.weights_i_to_h1) + self.bias_i_to_h1\n",
    "#             inputs_to_h1_layer_activated = self.activation_ReLU(inputs_to_h1_layer)\n",
    "        inputs_to_h1_layer_activated = 1 / (1 + np.exp(-inputs_to_h1_layer))\n",
    "            \n",
    "        # hidden 1 to hidden 2\n",
    "        h1_to_h2_layer = np.dot(inputs_to_h1_layer_activated, self.weights_h1_to_h2) + self.bias_h1_to_h2\n",
    "#             h1_to_h2_layer_activated = self.activation_ReLU(h1_to_h2_layer)\n",
    "        h1_to_h2_layer_activated = 1 / (1 + np.exp(-h1_to_h2_layer))\n",
    "\n",
    "        # hidden 2 to output\n",
    "        h2_to_output_layer = np.dot(h1_to_h2_layer_activated, self.weights_h2_to_o) + self.bias_h2_to_o\n",
    "        h2_to_output_layer_activated = self.softmax(h2_to_output_layer)\n",
    "\n",
    "        # output\n",
    "        final_outputs = h2_to_output_layer_activated \n",
    "    \n",
    "        return final_outputs"
   ]
  },
  {
   "cell_type": "markdown",
   "metadata": {},
   "source": [
    "#### Batch preparation"
   ]
  },
  {
   "cell_type": "code",
   "execution_count": 196,
   "metadata": {
    "collapsed": false
   },
   "outputs": [],
   "source": [
    "def prepare_mini_batches(data, labels, batch_size):\n",
    "    assert len(data) == len(labels)\n",
    "    \n",
    "    all_batches = list()\n",
    "    for i in range(0, len(data)):\n",
    "        all_batches.append((data[i], labels[i]))\n",
    "    random.shuffle(all_batches)\n",
    "        \n",
    "    mini_batches = list()\n",
    "    while len(all_batches) >= batch_size:\n",
    "        \n",
    "        data_batch = list()\n",
    "        labels_batch = list()\n",
    "        for j in range(0, batch_size):\n",
    "            data, labels = all_batches.pop()\n",
    "            data_batch.append(data)\n",
    "            labels_batch.append(labels)\n",
    "            \n",
    "        mini_batches.append((np.array(data_batch), np.array(labels_batch)))\n",
    "    \n",
    "    return mini_batches"
   ]
  },
  {
   "cell_type": "markdown",
   "metadata": {},
   "source": [
    "#### Hyperparameters"
   ]
  },
  {
   "cell_type": "code",
   "execution_count": 224,
   "metadata": {
    "collapsed": true
   },
   "outputs": [],
   "source": [
    "epochs = 60\n",
    "batch_size = 128\n",
    "learning_rate = 0.05\n",
    "\n",
    "input_nodes = IMAGE_WIDTH * IMAGE_HEIGHT\n",
    "hidden_nodes_1 = 300\n",
    "hidden_nodes_2 = 75\n",
    "output_nodes = 10"
   ]
  },
  {
   "cell_type": "markdown",
   "metadata": {
    "collapsed": true
   },
   "source": [
    "####  Training"
   ]
  },
  {
   "cell_type": "code",
   "execution_count": 225,
   "metadata": {
    "collapsed": false
   },
   "outputs": [],
   "source": [
    "def cross_entropy(pred, target):\n",
    "    prediction_y1 = -target * np.log(pred)\n",
    "    prediction_y0 = (1 - target) * np.log(1 - pred)\n",
    "    return (1/len(pred)) * np.sum(np.sum(prediction_y1 - prediction_y0))"
   ]
  },
  {
   "cell_type": "code",
   "execution_count": 226,
   "metadata": {
    "collapsed": true
   },
   "outputs": [],
   "source": [
    "def categorical_cross_entropy(pred, target):\n",
    "    num_examples = len(pred)\n",
    "    corect_logprobs = -np.log(pred[range(num_examples), target.argmax(axis=1)])\n",
    "    loss = np.sum(corect_logprobs)\n",
    "    mean_loss = 1. / num_examples * loss\n",
    "    return mean_loss\n",
    "#     return (1/len(pred)) * -np.sum(target * np.log(pred))"
   ]
  },
  {
   "cell_type": "code",
   "execution_count": 227,
   "metadata": {
    "collapsed": true
   },
   "outputs": [],
   "source": [
    "def accuracy(predictions, labels):\n",
    "    predictions = predictions.argmax(axis=1)\n",
    "    targets = labels.argmax(axis=1)\n",
    "    return np.mean(predictions == targets, axis=0)"
   ]
  },
  {
   "cell_type": "code",
   "execution_count": 232,
   "metadata": {
    "collapsed": false
   },
   "outputs": [
    {
     "name": "stdout",
     "output_type": "stream",
     "text": [
      "Epoch: 1/60:\n",
      "      - Training loss: 7.15519945535 (acc: 0.110673990499)\n",
      "      - Validation loss: 10.9987978893 (acc: 0.111833333333)\n",
      "Epoch: 2/60:\n",
      "      - Training loss: 7.15023316527 (acc: 0.112455463183)\n",
      "      - Validation loss: 10.9973065282 (acc: 0.111833333333)\n",
      "Epoch: 3/60:\n",
      "      - Training loss: 7.14871467808 (acc: 0.113605997625)\n",
      "      - Validation loss: 10.9956500348 (acc: 0.111833333333)\n",
      "Epoch: 4/60:\n",
      "      - Training loss: 7.14724668726 (acc: 0.112436906176)\n",
      "      - Validation loss: 10.9936897452 (acc: 0.111833333333)\n",
      "Epoch: 5/60:\n",
      "      - Training loss: 7.14571808037 (acc: 0.11247402019)\n",
      "      - Validation loss: 10.9924143818 (acc: 0.111833333333)\n",
      "Epoch: 6/60:\n",
      "      - Training loss: 7.14405928884 (acc: 0.112399792162)\n",
      "      - Validation loss: 10.9903400633 (acc: 0.111833333333)\n",
      "Epoch: 7/60:\n",
      "      - Training loss: 7.14219255384 (acc: 0.112455463183)\n",
      "      - Validation loss: 10.9888035187 (acc: 0.111833333333)\n",
      "Epoch: 8/60:\n",
      "      - Training loss: 7.14023036043 (acc: 0.112937945368)\n",
      "      - Validation loss: 10.9865842714 (acc: 0.111833333333)\n",
      "Epoch: 9/60:\n",
      "      - Training loss: 7.13805317957 (acc: 0.11356888361)\n",
      "      - Validation loss: 10.9843789459 (acc: 0.111833333333)\n",
      "Epoch: 10/60:\n",
      "      - Training loss: 7.13563250028 (acc: 0.116203978622)\n",
      "      - Validation loss: 10.9818116417 (acc: 0.111833333333)\n",
      "Epoch: 11/60:\n",
      "      - Training loss: 7.13294062452 (acc: 0.1171875)\n",
      "      - Validation loss: 10.9785756135 (acc: 0.116)\n",
      "Epoch: 12/60:\n",
      "      - Training loss: 7.12978449486 (acc: 0.124665973872)\n",
      "      - Validation loss: 10.9751381129 (acc: 0.162333333333)\n",
      "Epoch: 13/60:\n",
      "      - Training loss: 7.12617638962 (acc: 0.149903503563)\n",
      "      - Validation loss: 10.9709102771 (acc: 0.1575)\n",
      "Epoch: 14/60:\n",
      "      - Training loss: 7.12186828875 (acc: 0.167866686461)\n",
      "      - Validation loss: 10.966676418 (acc: 0.144666666667)\n",
      "Epoch: 15/60:\n",
      "      - Training loss: 7.11687689245 (acc: 0.172171912114)\n",
      "      - Validation loss: 10.9608027881 (acc: 0.1885)\n",
      "Epoch: 16/60:\n",
      "      - Training loss: 7.11065404313 (acc: 0.18588554038)\n",
      "      - Validation loss: 10.9538137583 (acc: 0.201833333333)\n",
      "Epoch: 17/60:\n",
      "      - Training loss: 7.10289795788 (acc: 0.19705685867)\n",
      "      - Validation loss: 10.945312746 (acc: 0.199)\n",
      "Epoch: 18/60:\n",
      "      - Training loss: 7.09321161224 (acc: 0.202883758907)\n",
      "      - Validation loss: 10.9339017421 (acc: 0.200333333333)\n",
      "Epoch: 19/60:\n",
      "      - Training loss: 7.08009485737 (acc: 0.204127078385)\n",
      "      - Validation loss: 10.9194978278 (acc: 0.207333333333)\n",
      "Epoch: 20/60:\n",
      "      - Training loss: 7.06280919458 (acc: 0.207727137767)\n",
      "      - Validation loss: 10.8984672407 (acc: 0.208)\n",
      "Epoch: 21/60:\n",
      "      - Training loss: 7.03832809495 (acc: 0.208970457245)\n",
      "      - Validation loss: 10.866336947 (acc: 0.208833333333)\n",
      "Epoch: 22/60:\n",
      "      - Training loss: 7.00120179046 (acc: 0.209564281473)\n",
      "      - Validation loss: 10.8232938225 (acc: 0.209666666667)\n",
      "Epoch: 23/60:\n",
      "      - Training loss: 6.94869659836 (acc: 0.209953978622)\n",
      "      - Validation loss: 10.7600103398 (acc: 0.209333333333)\n",
      "Epoch: 24/60:\n",
      "      - Training loss: 6.88505899466 (acc: 0.219084026128)\n",
      "      - Validation loss: 10.6952609713 (acc: 0.250166666667)\n",
      "Epoch: 25/60:\n",
      "      - Training loss: 6.82858428908 (acc: 0.288839815914)\n",
      "      - Validation loss: 10.6484733978 (acc: 0.332833333333)\n",
      "Epoch: 26/60:\n",
      "      - Training loss: 6.78964510962 (acc: 0.351877969121)\n",
      "      - Validation loss: 10.6209069866 (acc: 0.3635)\n",
      "Epoch: 27/60:\n",
      "      - Training loss: 6.76461502673 (acc: 0.384965112827)\n",
      "      - Validation loss: 10.6038556088 (acc: 0.391166666667)\n",
      "Epoch: 28/60:\n",
      "      - Training loss: 6.74818406186 (acc: 0.407660332542)\n",
      "      - Validation loss: 10.5851414366 (acc: 0.4255)\n",
      "Epoch: 29/60:\n",
      "      - Training loss: 6.73238560113 (acc: 0.427275089074)\n",
      "      - Validation loss: 10.5835999897 (acc: 0.435833333333)\n",
      "Epoch: 30/60:\n",
      "      - Training loss: 6.71781175786 (acc: 0.443252672209)\n",
      "      - Validation loss: 10.5465352061 (acc: 0.451833333333)\n",
      "Epoch: 31/60:\n",
      "      - Training loss: 6.69080152378 (acc: 0.45434976247)\n",
      "      - Validation loss: 10.5228770876 (acc: 0.464833333333)\n",
      "Epoch: 32/60:\n",
      "      - Training loss: 6.65493937807 (acc: 0.465465409739)\n",
      "      - Validation loss: 10.4788791861 (acc: 0.475333333333)\n",
      "Epoch: 33/60:\n",
      "      - Training loss: 6.60359246826 (acc: 0.478845011876)\n",
      "      - Validation loss: 10.4240360811 (acc: 0.496)\n",
      "Epoch: 34/60:\n",
      "      - Training loss: 6.5383626414 (acc: 0.4994804038)\n",
      "      - Validation loss: 10.350824789 (acc: 0.532333333333)\n",
      "Epoch: 35/60:\n",
      "      - Training loss: 6.46769154316 (acc: 0.539136728029)\n",
      "      - Validation loss: 10.2864248014 (acc: 0.579)\n",
      "Epoch: 36/60:\n",
      "      - Training loss: 6.40057290172 (acc: 0.586308640143)\n",
      "      - Validation loss: 10.2303429173 (acc: 0.606166666667)\n",
      "Epoch: 37/60:\n",
      "      - Training loss: 6.3471261811 (acc: 0.624925771971)\n",
      "      - Validation loss: 10.182574668 (acc: 0.658)\n",
      "Epoch: 38/60:\n",
      "      - Training loss: 6.3058052944 (acc: 0.662559382423)\n",
      "      - Validation loss: 10.1270419861 (acc: 0.684)\n",
      "Epoch: 39/60:\n",
      "      - Training loss: 6.27393435082 (acc: 0.692324821853)\n",
      "      - Validation loss: 10.1297591605 (acc: 0.721333333333)\n",
      "Epoch: 40/60:\n",
      "      - Training loss: 6.26079085387 (acc: 0.719956205463)\n",
      "      - Validation loss: 10.1112541575 (acc: 0.747)\n",
      "Epoch: 41/60:\n",
      "      - Training loss: 6.25240970272 (acc: 0.741742131829)\n",
      "      - Validation loss: 10.098804357 (acc: 0.761833333333)\n",
      "Epoch: 42/60:\n",
      "      - Training loss: 6.25636032309 (acc: 0.760354809976)\n",
      "      - Validation loss: 10.096166339 (acc: 0.782)\n",
      "Epoch: 43/60:\n",
      "      - Training loss: 6.26108935369 (acc: 0.777148901425)\n",
      "      - Validation loss: 10.126308438 (acc: 0.8)\n",
      "Epoch: 44/60:\n",
      "      - Training loss: 6.27413878342 (acc: 0.791846051069)\n",
      "      - Validation loss: 10.1339291134 (acc: 0.804333333333)\n",
      "Epoch: 45/60:\n",
      "      - Training loss: 6.28841680842 (acc: 0.803054483373)\n",
      "      - Validation loss: 10.1571219132 (acc: 0.816166666667)\n",
      "Epoch: 46/60:\n",
      "      - Training loss: 6.30863718648 (acc: 0.812537114014)\n",
      "      - Validation loss: 10.1662767892 (acc: 0.827333333333)\n",
      "Epoch: 47/60:\n",
      "      - Training loss: 6.32076218676 (acc: 0.821741389549)\n",
      "      - Validation loss: 10.1716801368 (acc: 0.8365)\n",
      "Epoch: 48/60:\n",
      "      - Training loss: 6.33364849649 (acc: 0.828588925178)\n",
      "      - Validation loss: 10.2072032665 (acc: 0.8435)\n",
      "Epoch: 49/60:\n",
      "      - Training loss: 6.35170464414 (acc: 0.83471273753)\n",
      "      - Validation loss: 10.1829549825 (acc: 0.844333333333)\n",
      "Epoch: 50/60:\n",
      "      - Training loss: 6.36258729533 (acc: 0.839537559382)\n",
      "      - Validation loss: 10.2367066043 (acc: 0.850166666667)\n",
      "Epoch: 51/60:\n",
      "      - Training loss: 6.37737876177 (acc: 0.843453087886)\n",
      "      - Validation loss: 10.2395132583 (acc: 0.8535)\n",
      "Epoch: 52/60:\n",
      "      - Training loss: 6.38991882036 (acc: 0.848110896675)\n",
      "      - Validation loss: 10.2421476634 (acc: 0.8575)\n",
      "Epoch: 53/60:\n",
      "      - Training loss: 6.39579805556 (acc: 0.851989311164)\n",
      "      - Validation loss: 10.2653067774 (acc: 0.859166666667)\n",
      "Epoch: 54/60:\n",
      "      - Training loss: 6.41017756848 (acc: 0.855459471496)\n",
      "      - Validation loss: 10.2332025976 (acc: 0.863666666667)\n",
      "Epoch: 55/60:\n",
      "      - Training loss: 6.41644298958 (acc: 0.858762618765)\n",
      "      - Validation loss: 10.2809573233 (acc: 0.867)\n",
      "Epoch: 56/60:\n",
      "      - Training loss: 6.42921163303 (acc: 0.861676068884)\n",
      "      - Validation loss: 10.264282223 (acc: 0.869166666667)\n",
      "Epoch: 57/60:\n",
      "      - Training loss: 6.43310515476 (acc: 0.864181264846)\n",
      "      - Validation loss: 10.2811883583 (acc: 0.873333333333)\n",
      "Epoch: 58/60:\n",
      "      - Training loss: 6.43943503919 (acc: 0.867131828979)\n",
      "      - Validation loss: 10.2856698478 (acc: 0.872166666667)\n",
      "Epoch: 59/60:\n",
      "      - Training loss: 6.44539641792 (acc: 0.869135985748)\n",
      "      - Validation loss: 10.3031308657 (acc: 0.8755)\n",
      "Epoch: 60/60:\n",
      "      - Training loss: 6.45107729323 (acc: 0.871232927553)\n",
      "      - Validation loss: 10.2986803074 (acc: 0.878666666667)\n"
     ]
    }
   ],
   "source": [
    "network = NeuralNetwork(input_nodes, hidden_nodes_1, hidden_nodes_2, output_nodes, learning_rate)\n",
    "\n",
    "info = {'train':[], 'validation':[], 'train_acc':[], 'validation_acc':[]}\n",
    "for epoch in range(epochs):    \n",
    "    mini_batches = prepare_mini_batches(train_dataX, train_dataY, batch_size)\n",
    "            \n",
    "    epoch_losses = []\n",
    "    epoch_accuracy = []\n",
    "    while mini_batches:\n",
    "        data_batch, labels_batch = mini_batches.pop()\n",
    "        network.train(data_batch, labels_batch)\n",
    "        \n",
    "        batch_train_loss = categorical_cross_entropy(network.run(data_batch), labels_batch)\n",
    "        batch_accuracy = accuracy(network.run(data_batch), labels_batch)\n",
    "       \n",
    "        epoch_losses.append(batch_train_loss)\n",
    "        epoch_accuracy.append(batch_accuracy)\n",
    "        \n",
    "    train_loss = np.mean(epoch_losses)\n",
    "    info['train'].append(train_loss)\n",
    "    \n",
    "    train_accuracy = np.mean(epoch_accuracy)\n",
    "    info['train_acc'].append(train_accuracy)\n",
    "        \n",
    "    val_loss = categorical_cross_entropy(network.run(val_dataX), val_dataY)\n",
    "    info['validation'].append(val_loss)\n",
    "    \n",
    "    val_accuracy = accuracy(network.run(val_dataX), val_dataY)\n",
    "    info['validation_acc'].append(val_accuracy)\n",
    "    \n",
    "    print(\"Epoch: \" + str(epoch + 1) + \"/\" + str(epochs) + \":\\n\"\n",
    "          + \"      - Training loss: \" + str(train_loss) + \" (acc: \" + str(train_accuracy) + \")\\n\"\n",
    "          + \"      - Validation loss: \" + str(val_loss) + \" (acc: \" + str(val_accuracy) + \")\")"
   ]
  },
  {
   "cell_type": "markdown",
   "metadata": {},
   "source": [
    "#### Results"
   ]
  },
  {
   "cell_type": "code",
   "execution_count": 233,
   "metadata": {
    "collapsed": false
   },
   "outputs": [
    {
     "data": {
      "image/png": "[encoded data removed]",
      "text/plain": [
       "<matplotlib.figure.Figure at 0x11fae69b0>"
      ]
     },
     "metadata": {},
     "output_type": "display_data"
    }
   ],
   "source": [
    "fig1 = plt.figure()\n",
    "ax1 = fig1.add_subplot(111)\n",
    "ax1.plot(info['train_acc'], label='Training acc')\n",
    "ax1.plot(info['validation_acc'], label='Validation acc')\n",
    "plt.show()"
   ]
  },
  {
   "cell_type": "code",
   "execution_count": 234,
   "metadata": {
    "collapsed": false
   },
   "outputs": [
    {
     "data": {
      "image/png": "[encoded data removed]",
      "text/plain": [
       "<matplotlib.figure.Figure at 0x12d217d30>"
      ]
     },
     "metadata": {},
     "output_type": "display_data"
    }
   ],
   "source": [
    "fig1 = plt.figure()\n",
    "ax2 = fig1.add_subplot(111)\n",
    "ax2.plot(info['train'], label='Training loss')\n",
    "ax2.plot(info['validation'], label='Validation loss')\n",
    "plt.show()"
   ]
  },
  {
   "cell_type": "code",
   "execution_count": 235,
   "metadata": {
    "collapsed": false
   },
   "outputs": [
    {
     "name": "stdout",
     "output_type": "stream",
     "text": [
      "Test data accuracy:  0.8734\n"
     ]
    }
   ],
   "source": [
    "test_accuracy = accuracy(network.run(testX_processed), testY_processed)\n",
    "print(\"Test data accuracy: \", test_accuracy)"
   ]
  }
 ],
 "metadata": {
  "kernelspec": {
   "display_name": "Python 3",
   "language": "python",
   "name": "python3"
  },
  "language_info": {
   "codemirror_mode": {
    "name": "ipython",
    "version": 3
   },
   "file_extension": ".py",
   "mimetype": "text/x-python",
   "name": "python",
   "nbconvert_exporter": "python",
   "pygments_lexer": "ipython3",
   "version": "3.6.0"
  }
 },
 "nbformat": 4,
 "nbformat_minor": 2
}
