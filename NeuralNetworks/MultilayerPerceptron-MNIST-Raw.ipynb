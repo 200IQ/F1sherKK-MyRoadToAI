{
 "cells": [
  {
   "cell_type": "code",
   "execution_count": 1,
   "metadata": {
    "collapsed": true
   },
   "outputs": [],
   "source": [
    "import matplotlib.pyplot as plt\n",
    "import numpy as np\n",
    "import os\n",
    "import sys\n",
    "import gzip\n",
    "import random"
   ]
  },
  {
   "cell_type": "code",
   "execution_count": 2,
   "metadata": {
    "collapsed": true
   },
   "outputs": [],
   "source": [
    "%matplotlib inline"
   ]
  },
  {
   "cell_type": "markdown",
   "metadata": {},
   "source": [
    "#### Dataset info"
   ]
  },
  {
   "cell_type": "code",
   "execution_count": 3,
   "metadata": {
    "collapsed": true
   },
   "outputs": [],
   "source": [
    "# source: http://yann.lecun.com/exdb/mnist/\n",
    "IMAGE_WIDTH = 28\n",
    "IMAGE_HEIGHT = 28\n",
    "NUM_CHANNELS = 1\n",
    "PIXEL_DEPTH = 255\n",
    "NUM_LABELS = 10\n",
    "TRAIN_IMAGES_NUM = 60000\n",
    "TEST_IMAGES_NUM = 10000"
   ]
  },
  {
   "cell_type": "markdown",
   "metadata": {},
   "source": [
    "#### Loading files"
   ]
  },
  {
   "cell_type": "code",
   "execution_count": 4,
   "metadata": {
    "collapsed": false
   },
   "outputs": [
    {
     "name": "stdout",
     "output_type": "stream",
     "text": [
      "MNIST dataset found in directory './mnist_dataset/':\n",
      "- t10k-images-idx3-ubyte.gz\n",
      "- t10k-labels-idx1-ubyte.gz\n",
      "- train-images-idx3-ubyte.gz\n",
      "- train-labels-idx1-ubyte.gz\n"
     ]
    }
   ],
   "source": [
    "DATASET_DIRECTORY = \"./mnist_dataset/\"\n",
    "\n",
    "if os.path.isdir(DATASET_DIRECTORY):\n",
    "    print(\"MNIST dataset found in directory '\" + DATASET_DIRECTORY + \"':\")\n",
    "    for file in os.listdir(DATASET_DIRECTORY):\n",
    "        print(\"- \"  + file)\n",
    "else:\n",
    "    print(\"Missing MNIST data folder!\")"
   ]
  },
  {
   "cell_type": "markdown",
   "metadata": {},
   "source": [
    "#### Extracting data"
   ]
  },
  {
   "cell_type": "code",
   "execution_count": 5,
   "metadata": {
    "collapsed": false
   },
   "outputs": [],
   "source": [
    "def extract_data(file_path, num_images):\n",
    "    with gzip.open(file_path) as bstream:\n",
    "        bstream.read(16)\n",
    "        buffer = bstream.read(IMAGE_WIDTH * IMAGE_HEIGHT * num_images)\n",
    "        data = np.frombuffer(buffer, dtype=np.uint8).astype(np.float32)\n",
    "        data = data.reshape(num_images, IMAGE_WIDTH, IMAGE_HEIGHT, 1)\n",
    "        return data"
   ]
  },
  {
   "cell_type": "code",
   "execution_count": 6,
   "metadata": {
    "collapsed": true
   },
   "outputs": [],
   "source": [
    "def extract_labels(file_path, num_images):\n",
    "    with gzip.open(file_path) as bstream:\n",
    "        bstream.read(8)\n",
    "        buffer = bstream.read(1 * num_images)\n",
    "        labels = np.frombuffer(buffer, dtype=np.uint8).astype(np.int64)\n",
    "    return labels"
   ]
  },
  {
   "cell_type": "code",
   "execution_count": 7,
   "metadata": {
    "collapsed": false
   },
   "outputs": [],
   "source": [
    "trainX_raw = extract_data(DATASET_DIRECTORY + \"train-images-idx3-ubyte.gz\", TRAIN_IMAGES_NUM)\n",
    "trainY_raw = extract_labels(DATASET_DIRECTORY + \"train-labels-idx1-ubyte.gz\", TRAIN_IMAGES_NUM)\n",
    "testX_raw = extract_data(DATASET_DIRECTORY + \"t10k-images-idx3-ubyte.gz\", TEST_IMAGES_NUM)\n",
    "testY_raw = extract_labels(DATASET_DIRECTORY + \"t10k-labels-idx1-ubyte.gz\", TEST_IMAGES_NUM)"
   ]
  },
  {
   "cell_type": "markdown",
   "metadata": {},
   "source": [
    "#### Present extracted data"
   ]
  },
  {
   "cell_type": "code",
   "execution_count": 8,
   "metadata": {
    "collapsed": true
   },
   "outputs": [],
   "source": [
    "def show_digit(trainX_raw, trainY_raw, index):\n",
    "    image = trainX_raw[index].reshape([IMAGE_WIDTH, IMAGE_HEIGHT])\n",
    "    label = trainY_raw[index]\n",
    "    plt.title(\"Training data, index: {},  Label: {}\".format(index, label))\n",
    "    plt.imshow(image, cmap=\"gray_r\")\n",
    "    plt.show()"
   ]
  },
  {
   "cell_type": "code",
   "execution_count": 9,
   "metadata": {
    "collapsed": false
   },
   "outputs": [
    {
     "name": "stdout",
     "output_type": "stream",
     "text": [
      "trainX_raw shape: (60000, 28, 28, 1)\n",
      "trainY_raw shape: (60000,)\n",
      "testX_raw shape: (10000, 28, 28, 1)\n",
      "testY_raw shape: (10000,)\n"
     ]
    },
    {
     "data": {
      "image/png": "[encoded data removed]",
      "text/plain": [
       "<matplotlib.figure.Figure at 0x10a4fcb70>"
      ]
     },
     "metadata": {},
     "output_type": "display_data"
    }
   ],
   "source": [
    "print(\"trainX_raw shape: \" + str(trainX_raw.shape))\n",
    "print(\"trainY_raw shape: \" + str(trainY_raw.shape))\n",
    "print(\"testX_raw shape: \" + str(testX_raw.shape))\n",
    "print(\"testY_raw shape: \" + str(testY_raw.shape))\n",
    "show_digit(trainX_raw, trainY_raw, np.random.randint(1, TRAIN_IMAGES_NUM + 1))"
   ]
  },
  {
   "cell_type": "markdown",
   "metadata": {},
   "source": [
    "#### Preprocess data"
   ]
  },
  {
   "cell_type": "code",
   "execution_count": 10,
   "metadata": {
    "collapsed": false
   },
   "outputs": [],
   "source": [
    "def normalize(x, pixel_depth):\n",
    "    return x / pixel_depth"
   ]
  },
  {
   "cell_type": "code",
   "execution_count": 11,
   "metadata": {
    "collapsed": true
   },
   "outputs": [],
   "source": [
    "def one_hot_encode(x, labels_num):\n",
    "    rows = len(x)\n",
    "\n",
    "    encoding_array = np.zeros([rows, labels_num])\n",
    "    for row in range(0, rows):\n",
    "        label = x[row] - 1\n",
    "        encoding_array[row][label] = 1\n",
    "    \n",
    "    return encoding_array"
   ]
  },
  {
   "cell_type": "code",
   "execution_count": 12,
   "metadata": {
    "collapsed": false
   },
   "outputs": [],
   "source": [
    "trainX_processed = normalize(np.reshape(trainX_raw, (TRAIN_IMAGES_NUM, IMAGE_WIDTH * IMAGE_HEIGHT)), PIXEL_DEPTH)\n",
    "testX_processed = normalize(np.reshape(testX_raw, (TEST_IMAGES_NUM, IMAGE_WIDTH * IMAGE_HEIGHT)), PIXEL_DEPTH)"
   ]
  },
  {
   "cell_type": "code",
   "execution_count": 13,
   "metadata": {
    "collapsed": false
   },
   "outputs": [
    {
     "name": "stdout",
     "output_type": "stream",
     "text": [
      "trainX_raw shape: (60000, 28, 28, 1), min: 0.0, max: 255.0\n",
      "testX_raw shape: (10000, 28, 28, 1), min: 0.0, max: 255.0\n",
      "trainX_processed shape: (60000, 784), min: 0.0, max: 1.0\n",
      "testX_processed shape: (10000, 784), min: 0.0, max: 1.0\n"
     ]
    }
   ],
   "source": [
    "print(\"trainX_raw shape: \" + str(trainX_raw.shape) + \", min: \" + str(np.min(trainX_raw)) + \", max: \" + str(np.max(trainX_raw)))\n",
    "print(\"testX_raw shape: \" + str(testX_raw.shape) + \", min: \" + str(np.min(testX_raw)) + \", max: \" + str(np.max(testX_raw)))\n",
    "print(\"trainX_processed shape: \" + str(trainX_processed.shape) + \", min: \" + str(np.min(trainX_processed)) + \", max: \" + str(np.max(trainX_processed)))\n",
    "print(\"testX_processed shape: \" + str(testX_processed.shape) + \", min: \" + str(np.min(testX_processed)) + \", max: \" + str(np.max(testX_processed)))"
   ]
  },
  {
   "cell_type": "code",
   "execution_count": 14,
   "metadata": {
    "collapsed": false
   },
   "outputs": [],
   "source": [
    "trainY_processed = one_hot_encode(trainY_raw, NUM_LABELS)\n",
    "testY_processed = one_hot_encode(testY_raw, NUM_LABELS)"
   ]
  },
  {
   "cell_type": "code",
   "execution_count": 15,
   "metadata": {
    "collapsed": false
   },
   "outputs": [
    {
     "name": "stdout",
     "output_type": "stream",
     "text": [
      "Label on pos: 53070 equals 9, OHE tensor: [ 0.  0.  0.  0.  0.  0.  0.  0.  1.  0.]\n",
      "Label on pos: 1441 equals 8, OHE tensor: [ 0.  0.  0.  0.  0.  0.  0.  1.  0.  0.]\n"
     ]
    }
   ],
   "source": [
    "random_train_index = np.random.randint(1, TRAIN_IMAGES_NUM + 1)\n",
    "random_test_index = np.random.randint(1, TEST_IMAGES_NUM + 1)\n",
    "\n",
    "print(\"Label on pos: \" + str(random_train_index) + \" equals \" + str(trainY_raw[random_train_index]) + \", OHE tensor: \" + str(trainY_processed[random_train_index]))\n",
    "print(\"Label on pos: \" + str(random_test_index) + \" equals \" + str(testY_raw[random_test_index]) + \", OHE tensor: \" + str(testY_processed[random_test_index]))"
   ]
  },
  {
   "cell_type": "markdown",
   "metadata": {},
   "source": [
    "#### Divide data"
   ]
  },
  {
   "cell_type": "code",
   "execution_count": 16,
   "metadata": {
    "collapsed": true
   },
   "outputs": [],
   "source": [
    "VALIDATION_DATA_PERCENTAGE = 0.1"
   ]
  },
  {
   "cell_type": "code",
   "execution_count": 17,
   "metadata": {
    "collapsed": false
   },
   "outputs": [],
   "source": [
    "val_samples = int(TRAIN_IMAGES_NUM * VALIDATION_DATA_PERCENTAGE)"
   ]
  },
  {
   "cell_type": "code",
   "execution_count": 18,
   "metadata": {
    "collapsed": false
   },
   "outputs": [],
   "source": [
    "train_dataX = trainX_processed[val_samples:]\n",
    "train_dataY = trainY_processed[val_samples:]\n",
    "val_dataX = trainX_processed[:val_samples]\n",
    "val_dataY = trainY_processed[:val_samples]"
   ]
  },
  {
   "cell_type": "code",
   "execution_count": 19,
   "metadata": {
    "collapsed": false
   },
   "outputs": [
    {
     "name": "stdout",
     "output_type": "stream",
     "text": [
      "train_dataX shape: (54000, 784)\n",
      "train_dataY shape: (54000, 10)\n",
      "val_dataX shape: (6000, 784)\n",
      "val_dataY shape: (6000, 10)\n"
     ]
    }
   ],
   "source": [
    "print(\"train_dataX shape: \" + str(train_dataX.shape))\n",
    "print(\"train_dataY shape: \" + str(train_dataY.shape))\n",
    "print(\"val_dataX shape: \" + str(val_dataX.shape))\n",
    "print(\"val_dataY shape: \" + str(val_dataY.shape))"
   ]
  },
  {
   "cell_type": "markdown",
   "metadata": {},
   "source": [
    "#### Neural Network preparation"
   ]
  },
  {
   "cell_type": "code",
   "execution_count": 75,
   "metadata": {
    "collapsed": false
   },
   "outputs": [],
   "source": [
    "class NeuralNetwork(object):\n",
    "    def __init__(self, input_nodes, hidden_nodes_layer_1, hidden_nodes_layer_2, output_nodes, learning_rate):\n",
    "        self.input_nodes = input_nodes\n",
    "        self.hidden_nodes_layer_1 = hidden_nodes_layer_1\n",
    "        self.hidden_nodes_layer_2 = hidden_nodes_layer_2\n",
    "        self.output_nodes = output_nodes\n",
    "        self.lr = learning_rate\n",
    "        \n",
    "        # initialize weights and biases\n",
    "        self.weights_i_to_h1 = np.random.uniform(\n",
    "            (-1 / np.sqrt(self.input_nodes)), (1 / np.sqrt(self.input_nodes)), \n",
    "            (self.input_nodes, self.hidden_nodes_layer_1))\n",
    "        \n",
    "        self.weights_h1_to_h2 = np.random.uniform(\n",
    "            (-1 / np.sqrt(self.hidden_nodes_layer_1)), (1 / np.sqrt(self.hidden_nodes_layer_1)), \n",
    "            (self.hidden_nodes_layer_1, self.hidden_nodes_layer_2))\n",
    "\n",
    "        self.weights_h2_to_o = np.random.uniform(\n",
    "            (-1 / np.sqrt(self.hidden_nodes_layer_2)), (1 / np.sqrt(self.hidden_nodes_layer_2)),\n",
    "            (self.hidden_nodes_layer_2, self.output_nodes))\n",
    "        \n",
    "    def activation_ReLU(self, x):\n",
    "        return x * (x > 0)\n",
    "    \n",
    "    def activation_dReLU(self, x):\n",
    "        return 1. * (x > 0)\n",
    "    \n",
    "    def softmax(self, x):\n",
    "        shiftx = x - np.max(x)\n",
    "        exps = np.exp(shiftx)\n",
    "        return exps / np.sum(exps)\n",
    "    \n",
    "    def dsoftmax(self, x):\n",
    "        # TODO: vectorise math\n",
    "        vec_len = len(x)\n",
    "        J = np.zeros((vec_len, vec_len))\n",
    "        for i in range(vec_len):\n",
    "            for j in range(vec_len):\n",
    "                if i == j:\n",
    "                    J[i][j] = x[i] * (1 - x[j])\n",
    "                else:\n",
    "                    J[i][j] = -x[i] * x[j]\n",
    "        return J\n",
    "\n",
    "    def train(self, features, targets):\n",
    "        \n",
    "        n_records = features.shape[0]\n",
    "        delta_weights_i_h1 = np.zeros(self.weights_i_to_h1.shape)\n",
    "        delta_weights_h1_h2 = np.zeros(self.weights_h1_to_h2.shape)\n",
    "        delta_weights_h2_o = np.zeros(self.weights_h2_to_o.shape)\n",
    "        \n",
    "        for X, y in zip(features, targets):\n",
    "            \n",
    "            ### forward pass\n",
    "            # input to hidden 1\n",
    "            inputs_to_h1_layer = np.dot(X, self.weights_i_to_h1)\n",
    "            inputs_to_h1_layer_activated = self.activation_ReLU(inputs_to_h1_layer)\n",
    "            \n",
    "            # hidden 1 to hidden 2\n",
    "            h1_to_h2_layer = np.dot(inputs_to_h1_layer_activated, self.weights_h1_to_h2)\n",
    "            h1_to_h2_layer_activated = self.activation_ReLU(h1_to_h2_layer)\n",
    "\n",
    "            # hidden 2 to output\n",
    "            h2_to_output_layer = np.dot(h1_to_h2_layer_activated, self.weights_h2_to_o)\n",
    "            h2_to_output_layer_activated = self.softmax(h2_to_output_layer)\n",
    "            \n",
    "            # output\n",
    "            final_outputs = h2_to_output_layer_activated \n",
    "\n",
    "            ### backpropagation\n",
    "            # output to h2\n",
    "            error = y - final_outputs\n",
    "            output_error_term = error.dot(self.dsoftmax(h2_to_output_layer_activated))\n",
    "            \n",
    "            h2_error = np.dot(output_error_term, self.weights_h2_to_o.T)\n",
    "            h2_error_term = h2_error * self.activation_dReLU(h1_to_h2_layer_activated)\n",
    "            \n",
    "            # h2 to h1\n",
    "            h1_error = np.dot(h2_error_term, self.weights_h1_to_h2.T) \n",
    "            h1_error_term = h1_error * self.activation_dReLU(inputs_to_h1_layer_activated)\n",
    "\n",
    "            # weight step (input to hidden)\n",
    "            delta_weights_i_h1 += h1_error_term * X[:, None]\n",
    "            \n",
    "            # weight step (hidden1 to hidden2)\n",
    "            delta_weights_h1_h2 += h2_error_term * inputs_to_h1_layer_activated[:, None]\n",
    "            \n",
    "            # weight step (hidden2 to output)\n",
    "            delta_weights_h2_o += output_error_term * h1_to_h2_layer_activated[:, None]\n",
    "\n",
    "        # update the weights        \n",
    "        self.weights_i_to_h1 += self.lr * delta_weights_i_h1 / n_records\n",
    "        self.weights_h1_to_h2 += self.lr * delta_weights_h1_h2 / n_records\n",
    "        self.weights_h2_to_o += self.lr * delta_weights_h2_o / n_records\n",
    " \n",
    "    def run(self, features):\n",
    "        ### forward pass\n",
    "        # input to hidden 1\n",
    "        inputs_to_h1_layer = np.dot(features, self.weights_i_to_h1)\n",
    "        inputs_to_h1_layer_activated = self.activation_ReLU(inputs_to_h1_layer)\n",
    "\n",
    "        # hidden 1 to hidden 2\n",
    "        h1_to_h2_layer = np.dot(inputs_to_h1_layer_activated, self.weights_h1_to_h2)\n",
    "        h1_to_h2_layer_activated = self.activation_ReLU(h1_to_h2_layer)\n",
    "\n",
    "        # hidden 2 to output\n",
    "        h2_to_output_layer = np.dot(h1_to_h2_layer_activated, self.weights_h2_to_o)\n",
    "        h2_to_output_layer_activated = self.softmax(h2_to_output_layer)\n",
    "\n",
    "        # output\n",
    "        final_outputs = h2_to_output_layer_activated \n",
    "    \n",
    "        return final_outputs"
   ]
  },
  {
   "cell_type": "markdown",
   "metadata": {},
   "source": [
    "#### Batch preparation"
   ]
  },
  {
   "cell_type": "code",
   "execution_count": 76,
   "metadata": {
    "collapsed": false
   },
   "outputs": [],
   "source": [
    "def prepare_mini_batches(data, labels, batch_size):\n",
    "    assert len(data) == len(labels)\n",
    "    \n",
    "    all_batches = list()\n",
    "    for i in range(0, len(data)):\n",
    "        all_batches.append((data[i], labels[i]))\n",
    "    random.shuffle(all_batches)\n",
    "        \n",
    "    mini_batches = list()\n",
    "    while len(all_batches) >= batch_size:\n",
    "        \n",
    "        data_batch = list()\n",
    "        labels_batch = list()\n",
    "        for j in range(0, batch_size):\n",
    "            data, labels = all_batches.pop()\n",
    "            data_batch.append(data)\n",
    "            labels_batch.append(labels)\n",
    "            \n",
    "        mini_batches.append((np.array(data_batch), np.array(labels_batch)))\n",
    "    \n",
    "    return mini_batches"
   ]
  },
  {
   "cell_type": "code",
   "execution_count": 77,
   "metadata": {
    "collapsed": true
   },
   "outputs": [],
   "source": [
    "def prepare_batches(data, labels):\n",
    "    all_batches = list()\n",
    "    for i in range(0, len(data)):\n",
    "        all_batches.append((data[i], labels[i]))\n",
    "    random.shuffle(all_batches)\n",
    "    \n",
    "    return all_batches"
   ]
  },
  {
   "cell_type": "markdown",
   "metadata": {},
   "source": [
    "#### Hyperparameters"
   ]
  },
  {
   "cell_type": "code",
   "execution_count": 78,
   "metadata": {
    "collapsed": true
   },
   "outputs": [],
   "source": [
    "epochs = 13\n",
    "batch_size = 128\n",
    "learning_rate = 0.05\n",
    "\n",
    "input_nodes = IMAGE_WIDTH * IMAGE_HEIGHT\n",
    "hidden_nodes_1 = 300\n",
    "hidden_nodes_2 = 75\n",
    "output_nodes = 10"
   ]
  },
  {
   "cell_type": "markdown",
   "metadata": {
    "collapsed": true
   },
   "source": [
    "####  Training"
   ]
  },
  {
   "cell_type": "code",
   "execution_count": 79,
   "metadata": {
    "collapsed": false
   },
   "outputs": [],
   "source": [
    "def cross_entropy(pred, target):\n",
    "    prediction_y1 = -target * np.log(pred)\n",
    "    prediction_y0 = (1 - target) * np.log(1 - pred)\n",
    "    return (1/len(pred)) * np.sum(np.sum(prediction_y1 - prediction_y0))"
   ]
  },
  {
   "cell_type": "code",
   "execution_count": 85,
   "metadata": {
    "collapsed": true
   },
   "outputs": [],
   "source": [
    "def categorical_cross_entropy(pred, target):\n",
    "#     num_examples = len(pred)\n",
    "#     corect_logprobs = -np.log(pred[range(num_examples), target.argmax(axis=1)])\n",
    "#     loss = np.sum(corect_logprobs)\n",
    "#     mean_loss = 1. / num_examples * loss\n",
    "#     return mean_loss\n",
    "    return (1/len(pred)) * -np.sum(target * np.log(pred))"
   ]
  },
  {
   "cell_type": "code",
   "execution_count": 86,
   "metadata": {
    "collapsed": true
   },
   "outputs": [],
   "source": [
    "def accuracy(network, data, labels):\n",
    "    predictions = np.array(network.run(data)).argmax(axis=1)\n",
    "    targets = labels.argmax(axis=1)\n",
    "    return np.mean(predictions == targets, axis=0)"
   ]
  },
  {
   "cell_type": "code",
   "execution_count": 87,
   "metadata": {
    "collapsed": false
   },
   "outputs": [
    {
     "name": "stdout",
     "output_type": "stream",
     "text": [
      "Epoch: 1/13:\n",
      "      - Training loss: 7.11958319798 (acc: 0.313817547506)\n",
      "      - Validation loss: 10.9139119269 (acc: 0.526)\n",
      "Epoch: 2/13:\n",
      "      - Training loss: 6.92428339067 (acc: 0.565970160333)\n",
      "      - Validation loss: 10.5366217372 (acc: 0.581333333333)\n",
      "Epoch: 3/13:\n",
      "      - Training loss: 6.41953289029 (acc: 0.642666270784)\n",
      "      - Validation loss: 10.1677378821 (acc: 0.780166666667)\n",
      "Epoch: 4/13:\n",
      "      - Training loss: 6.73630500677 (acc: 0.830481739905)\n",
      "      - Validation loss: 11.1683103473 (acc: 0.861833333333)\n",
      "Epoch: 5/13:\n",
      "      - Training loss: 7.83729872195 (acc: 0.875167013064)\n",
      "      - Validation loss: 12.0197761539 (acc: 0.882833333333)\n",
      "Epoch: 6/13:\n",
      "      - Training loss: 8.64803365349 (acc: 0.890476543943)\n",
      "      - Validation loss: 12.8263285862 (acc: 0.895833333333)\n",
      "Epoch: 7/13:\n",
      "      - Training loss: 9.15426523982 (acc: 0.900256086698)\n",
      "      - Validation loss: 13.2318013145 (acc: 0.903833333333)\n",
      "Epoch: 8/13:\n",
      "      - Training loss: 9.55214376653 (acc: 0.906955166271)\n",
      "      - Validation loss: 13.567481532 (acc: 0.909666666667)\n",
      "Epoch: 9/13:\n",
      "      - Training loss: 9.86282380907 (acc: 0.911594418052)\n",
      "      - Validation loss: 13.9236484673 (acc: 0.915)\n",
      "Epoch: 10/13:\n",
      "      - Training loss: 10.097496918 (acc: 0.915955314727)\n",
      "      - Validation loss: 14.1403006328 (acc: 0.9195)\n",
      "Epoch: 11/13:\n",
      "      - Training loss: 10.3075228472 (acc: 0.918497624703)\n",
      "      - Validation loss: 14.5586748545 (acc: 0.921666666667)\n",
      "Epoch: 12/13:\n",
      "      - Training loss: 10.468145141 (acc: 0.921819328979)\n",
      "      - Validation loss: 14.6629135813 (acc: 0.925333333333)\n",
      "Epoch: 13/13:\n",
      "      - Training loss: 10.5319137202 (acc: 0.924250296912)\n",
      "      - Validation loss: 15.113171831 (acc: 0.928166666667)\n"
     ]
    }
   ],
   "source": [
    "network = NeuralNetwork(input_nodes, hidden_nodes_1, hidden_nodes_2, output_nodes, learning_rate)\n",
    "\n",
    "info = {'train':[], 'validation':[], 'train_acc':[], 'validation_acc':[]}\n",
    "for epoch in range(epochs):    \n",
    "    mini_batches = prepare_mini_batches(train_dataX, train_dataY, batch_size)\n",
    "            \n",
    "    epoch_losses = []\n",
    "    epoch_accuracy = []\n",
    "    while mini_batches:\n",
    "        data_batch, labels_batch = mini_batches.pop()\n",
    "        network.train(data_batch, labels_batch)\n",
    "        \n",
    "        batch_train_loss = categorical_cross_entropy(network.run(data_batch), labels_batch)\n",
    "        batch_accuracy = accuracy(network, data_batch, labels_batch)\n",
    "       \n",
    "        epoch_losses.append(batch_train_loss)\n",
    "        epoch_accuracy.append(batch_accuracy)\n",
    "        \n",
    "    train_loss = np.mean(epoch_losses)\n",
    "    info['train'].append(train_loss)\n",
    "    \n",
    "    train_accuracy = np.mean(epoch_accuracy)\n",
    "    info['train_acc'].append(train_accuracy)\n",
    "        \n",
    "    val_loss = categorical_cross_entropy(network.run(val_dataX), val_dataY)\n",
    "    info['validation'].append(val_loss)\n",
    "    \n",
    "    val_accuracy = accuracy(network, val_dataX, val_dataY)\n",
    "    info['validation_acc'].append(val_accuracy)\n",
    "    \n",
    "    print(\"Epoch: \" + str(epoch + 1) + \"/\" + str(epochs) + \":\\n\"\n",
    "          + \"      - Training loss: \" + str(train_loss) + \" (acc: \" + str(train_accuracy) + \")\\n\"\n",
    "          + \"      - Validation loss: \" + str(val_loss) + \" (acc: \" + str(val_accuracy) + \")\")"
   ]
  },
  {
   "cell_type": "markdown",
   "metadata": {},
   "source": [
    "#### Results"
   ]
  },
  {
   "cell_type": "code",
   "execution_count": 89,
   "metadata": {
    "collapsed": false
   },
   "outputs": [
    {
     "data": {
      "text/plain": [
       "[<matplotlib.lines.Line2D at 0x12d33f160>]"
      ]
     },
     "execution_count": 89,
     "metadata": {},
     "output_type": "execute_result"
    },
    {
     "data": {
      "image/png": "[encoded data removed]",
      "text/plain": [
       "<matplotlib.figure.Figure at 0x12d62d390>"
      ]
     },
     "metadata": {},
     "output_type": "display_data"
    }
   ],
   "source": [
    "fig1 = plt.figure()\n",
    "ax1 = fig1.add_subplot(111)\n",
    "ax1.plot(info['train_acc'], label='Training acc')\n",
    "ax1.plot(info['validation_acc'], label='Validation acc')"
   ]
  },
  {
   "cell_type": "code",
   "execution_count": 90,
   "metadata": {
    "collapsed": false
   },
   "outputs": [
    {
     "data": {
      "text/plain": [
       "[<matplotlib.lines.Line2D at 0x11fcfe588>]"
      ]
     },
     "execution_count": 90,
     "metadata": {},
     "output_type": "execute_result"
    },
    {
     "data": {
      "image/png": "[encoded data removed]",
      "text/plain": [
       "<matplotlib.figure.Figure at 0x12d568550>"
      ]
     },
     "metadata": {},
     "output_type": "display_data"
    }
   ],
   "source": [
    "fig1 = plt.figure()\n",
    "ax2 = fig1.add_subplot(111)\n",
    "ax2.plot(info['train'], label='Training loss')\n",
    "ax2.plot(info['validation'], label='Validation loss')"
   ]
  },
  {
   "cell_type": "code",
   "execution_count": 91,
   "metadata": {
    "collapsed": false
   },
   "outputs": [
    {
     "name": "stdout",
     "output_type": "stream",
     "text": [
      "Test data accuracy:  0.9239\n"
     ]
    }
   ],
   "source": [
    "test_accuracy = accuracy(network, testX_processed, testY_processed)\n",
    "print(\"Test data accuracy: \", test_accuracy)"
   ]
  }
 ],
 "metadata": {
  "kernelspec": {
   "display_name": "Python 3",
   "language": "python",
   "name": "python3"
  },
  "language_info": {
   "codemirror_mode": {
    "name": "ipython",
    "version": 3
   },
   "file_extension": ".py",
   "mimetype": "text/x-python",
   "name": "python",
   "nbconvert_exporter": "python",
   "pygments_lexer": "ipython3",
   "version": "3.6.0"
  }
 },
 "nbformat": 4,
 "nbformat_minor": 2
}
