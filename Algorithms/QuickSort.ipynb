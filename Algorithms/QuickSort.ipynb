{
 "cells": [
  {
   "cell_type": "code",
   "execution_count": 36,
   "metadata": {
    "collapsed": true
   },
   "outputs": [],
   "source": [
    "# --- Example problem:\n",
    "#\n",
    "# x = [9, 1, 4, 2, 6, 5, -1]\n",
    "# result sort(x) = ?\n",
    "#\n",
    "# --- Solution:\n",
    "#\n",
    "# [9, 1, 4, 2, 6, 5, -1] - random pivot 2\n",
    "# [1, -1, 2] random pivot -1 || [9, 4, 6, 5] random pivot 5\n",
    "# [-1], [1, 2] random pivot 2 || [4, 5] random pivot 5, [9, 6] random pivot 9\n",
    "# [-1], [1, 2] || [4, 5], [6, 9]\n",
    "# [-1, 1, 2] || [4, 5, 6, 9]\n",
    "# [-1, 1, 2, 4, 5, 6, 9]\n",
    "#\n",
    "# --- Big Oh Notation:\n",
    "# - Average: O(n*log(n))\n",
    "# - Fastest: O(n)\n",
    "# - Slowest: O(n^2)\n",
    "    "
   ]
  },
  {
   "cell_type": "code",
   "execution_count": 41,
   "metadata": {},
   "outputs": [],
   "source": [
    "import random\n",
    "\n",
    "def quick_sort(input_array):\n",
    "    if len(input_array) <= 1:\n",
    "        return input_array\n",
    "    else:\n",
    "        # Randomly picking pivot\n",
    "        pivot = input_array.pop(random.randint(1, len(input_array) - 1))\n",
    "        \n",
    "        # List of values smaller than pivot\n",
    "        left = [num for num in input_array if num < pivot]\n",
    "\n",
    "        # List of values equal or higher to pivot\n",
    "        right = [num for num in input_array if num >= pivot]\n",
    "        \n",
    "        # Recurrently repeating process on each list of number\n",
    "        result_left  = quick_sort(left) \n",
    "        result_pivot = pivot\n",
    "        result_right = quick_sort(right)\n",
    "\n",
    "        return result_left + [result_pivot] + result_right"
   ]
  },
  {
   "cell_type": "code",
   "execution_count": 43,
   "metadata": {},
   "outputs": [],
   "source": [
    "assert quick_sort([9, 1, 4, 2, 6, 5, -1]) == [-1, 1, 2, 4, 5, 6, 9]"
   ]
  }
 ],
 "metadata": {
  "kernelspec": {
   "display_name": "Python 3",
   "language": "python",
   "name": "python3"
  },
  "language_info": {
   "codemirror_mode": {
    "name": "ipython",
    "version": 3
   },
   "file_extension": ".py",
   "mimetype": "text/x-python",
   "name": "python",
   "nbconvert_exporter": "python",
   "pygments_lexer": "ipython3",
   "version": "3.6.1"
  }
 },
 "nbformat": 4,
 "nbformat_minor": 2
}
