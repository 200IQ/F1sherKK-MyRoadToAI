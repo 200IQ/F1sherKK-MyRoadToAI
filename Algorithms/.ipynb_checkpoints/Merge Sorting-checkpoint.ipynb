{
 "cells": [
  {
   "cell_type": "markdown",
   "metadata": {},
   "source": [
    "Sorting algorithm based on multi-branched recursion - called \"divide and conquer\". Divide the unsorted list into n sublists, each containing 1 element (a list of 1 element is considered sorted). Repeatedly merge sublists to produce new sorted sublists until there is only 1 sublist remaining. This will be the sorted list."
   ]
  },
  {
   "cell_type": "code",
   "execution_count": 1,
   "metadata": {
    "collapsed": true
   },
   "outputs": [],
   "source": [
    "# --- Example problem:\n",
    "#\n",
    "# x = [9,1,3,4,2,7,6,5,-1]\n",
    "# result sort(x) = ?\n",
    "#\n",
    "# --- Solution:\n",
    "#\n",
    "#                   [9,1,3,4,2,7,6,5,-1]  \n",
    "#\n",
    "#                           ||\n",
    "#                 Divide in n/2 size groups\n",
    "#                           ||\n",
    "#\n",
    "#             [9,1,3,4]            [2,7,6,5,-1] \n",
    "#             /      \\              /        \\\n",
    "#          [9,1]    [3,4]        [2,7]     [6,5,-1]\n",
    "#          /  \\     /  \\         /  \\       /    \\\n",
    "#        [9]  [1] [3]  [4]     [2]  [7]   [6]  [5,-1]\n",
    "#        /    /    \\     \\     /     \\    /     /  \\ \n",
    "#      [9]  [1]    [3]   [4] [2]     [7][6]   [5]  [-1]\n",
    "#       \\   /       \\    /    \\      /   \\    /     \\\n",
    "#       [1,9]        [3,4]     [2,7]      [5,6]    [-1]\n",
    "#         \\           /          \\         \\        /\n",
    "#           [1,3,4,9]           [2,7]       [6,5,-1]\n",
    "#               \\                 \\           /\n",
    "#            [1,3,4,9]            [-1,2,5,6,7] \n",
    "#                \\                    /\n",
    "#             [-1, 1, 2, 3, 4, 5, 6, 7, 9]\n",
    "#\n",
    "# --- Big Oh Notation: O(n*log(n))"
   ]
  },
  {
   "cell_type": "markdown",
   "metadata": {},
   "source": [
    "Implementation"
   ]
  },
  {
   "cell_type": "code",
   "execution_count": 2,
   "metadata": {
    "collapsed": true
   },
   "outputs": [],
   "source": [
    "def merge_sort(array_to_sort):\n",
    "    # method that will perform sort on inserted array recursively\n",
    "    def _merge(left, right):\n",
    "        sublist = list()\n",
    "        \n",
    "        # peform sorting\n",
    "        i, j = 0, 0\n",
    "        while i < len(left) and j < len(right):\n",
    "            if left[i] <= right[j]:\n",
    "                sublist.append(left[i])\n",
    "                i += 1\n",
    "            else:\n",
    "                sublist.append(right[j])\n",
    "                j += 1\n",
    "        \n",
    "        # append the rest of left side\n",
    "        while i != len(left):\n",
    "            sublist.append(left[i])\n",
    "            i += 1\n",
    "            \n",
    "        # append the rest of right side\n",
    "        while j != len(right):\n",
    "            sublist.append(right[j])\n",
    "            j += 1\n",
    "            \n",
    "        return sublist\n",
    "    \n",
    "    # return input if array is to short\n",
    "    if len(array_to_sort) <= 1:\n",
    "        return array_to_sort\n",
    "    \n",
    "    # divide list into two equal sized sublists\n",
    "    left = array_to_sort[:len(array_to_sort)//2]\n",
    "    right = array_to_sort[len(array_to_sort)//2:]\n",
    "    \n",
    "    # recursively sort each part\n",
    "    left = merge_sort(left)\n",
    "    right = merge_sort(right)\n",
    "    \n",
    "    return _merge(left, right)"
   ]
  },
  {
   "cell_type": "markdown",
   "metadata": {},
   "source": [
    "Testing"
   ]
  },
  {
   "cell_type": "code",
   "execution_count": 3,
   "metadata": {
    "collapsed": true
   },
   "outputs": [],
   "source": [
    "assert merge_sort([9,1,3,4,2,7,6,5,-1]) == [-1, 1, 2, 3, 4, 5, 6, 7, 9]"
   ]
  }
 ],
 "metadata": {
  "kernelspec": {
   "display_name": "Python 3",
   "language": "python",
   "name": "python3"
  },
  "language_info": {
   "codemirror_mode": {
    "name": "ipython",
    "version": 3
   },
   "file_extension": ".py",
   "mimetype": "text/x-python",
   "name": "python",
   "nbconvert_exporter": "python",
   "pygments_lexer": "ipython3",
   "version": "3.6.1"
  }
 },
 "nbformat": 4,
 "nbformat_minor": 2
}
