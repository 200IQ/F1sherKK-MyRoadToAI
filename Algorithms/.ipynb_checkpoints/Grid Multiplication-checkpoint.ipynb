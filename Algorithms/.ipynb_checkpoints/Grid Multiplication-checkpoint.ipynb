{
 "cells": [
  {
   "cell_type": "markdown",
   "metadata": {},
   "source": [
    "Implementation of basic algorithm taught to children in grade school for making multiplication of interger numbers without usage of calculator. \n"
   ]
  },
  {
   "cell_type": "code",
   "execution_count": 2,
   "metadata": {
    "collapsed": true
   },
   "outputs": [],
   "source": [
    "# --- Example problem:\n",
    "#\n",
    "# x = 5678\n",
    "# y = 1234\n",
    "# result x * y = ?    \n",
    "#\n",
    "# --- Solution:\n",
    "#\n",
    "#       5678\n",
    "#  x    1234\n",
    "#  _________  \n",
    "#      22712\n",
    "#     17034-\n",
    "#    11356--\n",
    "#  + 5678---\n",
    "#   ________\n",
    "#    7006652\n",
    "#\n",
    "# --- Big Oh Notation: O(n^2)"
   ]
  },
  {
   "cell_type": "markdown",
   "metadata": {},
   "source": [
    "Implementation"
   ]
  },
  {
   "cell_type": "code",
   "execution_count": 3,
   "metadata": {
    "collapsed": true
   },
   "outputs": [],
   "source": [
    "def multiply(x, y, base=10):     \n",
    "    # deciding if result will be positive or negative\n",
    "    sign = -1 if ((x > 0 and y < 0) or (x < 0 and y > 0)) else 1\n",
    "    \n",
    "    # splitting numbers into digits\n",
    "    x = list(map(int, str(abs(x))))\n",
    "    y = list(map(int, str(abs(y))))\n",
    "    \n",
    "    # alocating memory for final result\n",
    "    result_container = [0 for i in  range(len(x) + len(y))]\n",
    "    \n",
    "    # performing multiplication digit by digit\n",
    "    for i, y_num in enumerate(y[::-1]):\n",
    "        \n",
    "        overflow = 0\n",
    "        for j, x_num in enumerate(x[::-1]):\n",
    "            result_container[i + j] += x_num * y_num + overflow\n",
    "            overflow = result_container[i + j] // base\n",
    "            result_container[i + j] = result_container[i + j] % base\n",
    "            \n",
    "        result_container[i + j + 1] += overflow\n",
    "        \n",
    "    return int(\"\".join(map(str, result_container[::-1]))) * sign"
   ]
  },
  {
   "cell_type": "markdown",
   "metadata": {},
   "source": [
    "Testing"
   ]
  },
  {
   "cell_type": "code",
   "execution_count": 4,
   "metadata": {
    "collapsed": true
   },
   "outputs": [],
   "source": [
    "assert multiply(5678, 1234) == 5678 * 1234\n"
   ]
  }
 ],
 "metadata": {
  "kernelspec": {
   "display_name": "Python 3",
   "language": "python",
   "name": "python3"
  },
  "language_info": {
   "codemirror_mode": {
    "name": "ipython",
    "version": 3
   },
   "file_extension": ".py",
   "mimetype": "text/x-python",
   "name": "python",
   "nbconvert_exporter": "python",
   "pygments_lexer": "ipython3",
   "version": "3.6.1"
  }
 },
 "nbformat": 4,
 "nbformat_minor": 2
}
