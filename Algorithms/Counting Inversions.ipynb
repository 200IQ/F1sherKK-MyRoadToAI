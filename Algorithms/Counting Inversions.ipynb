{
 "cells": [
  {
   "cell_type": "code",
   "execution_count": 1,
   "metadata": {
    "collapsed": true
   },
   "outputs": [],
   "source": [
    "# --- Example problem:\n",
    "#\n",
    "# x = [1, 5, 3, 2, 4, 6]\n",
    "# number of inversions = ?\n",
    "# \n",
    "# expected result: 4 - (3, 2), (5, 2), (5,3), (5, 4)\n",
    "# inversion is a situation in which higher number appears before smaller number\n",
    "#\n",
    "# --- Solution:\n",
    "#\n",
    "#                       [1,3,5,2,4,6]  \n",
    "#\n",
    "#                            ||\n",
    "#                 Divide in n/2 size groups\n",
    "#                            ||\n",
    "#         [1,5,3]                          [2,4,6] \n",
    "#        /      \\                        /        \\\n",
    "#      [1]     [5,3]                   [2]        [4,6]\n",
    "#     /        /  \\                   /          /    \\\n",
    "#   [1]      [5]  [3]               [2]        [4]   [6]\n",
    "#   \\         \\    /                  \\          \\    /         \n",
    "#   [1]        [3,5] (Inv (5,3))      [2]         [4,6]\n",
    "#    \\          /                      \\           /\n",
    "#       [1,3,5]                           [2,4,6]\n",
    "#         \\                                  /\n",
    "#                     [1,2,3,4,5,6] (Inv (3,2), (5,2), (5,2))\n",
    "#\n",
    "# --- Big Oh Notation: O(n*log(n))"
   ]
  },
  {
   "cell_type": "code",
   "execution_count": 2,
   "metadata": {
    "collapsed": true
   },
   "outputs": [],
   "source": [
    "def merge_sort_and_count_inversions(array_to_sort, inversions=0):\n",
    "    # method that will perform sort on inserted array recursively and count inversions\n",
    "    def _merge_and_count_inversions(left, right):\n",
    "        sublist = list()\n",
    "        \n",
    "        # inversion counter\n",
    "        inversions = 0\n",
    "        \n",
    "        # peform sorting and increase inversion count every time element from\n",
    "        # right array needs to be appended instead of left\n",
    "        i, j = 0, 0\n",
    "        while i < len(left) and j < len(right):\n",
    "            if left[i] <= right[j]:\n",
    "                sublist.append(left[i])\n",
    "                i += 1\n",
    "            else:\n",
    "                sublist.append(right[j])\n",
    "                inversions += len(left) - i\n",
    "                j += 1\n",
    "        \n",
    "        # append the rest of left side\n",
    "        while i != len(left):\n",
    "            sublist.append(left[i])\n",
    "            i += 1\n",
    "            \n",
    "        # append the rest of right side\n",
    "        while j != len(right):\n",
    "            sublist.append(right[j])\n",
    "            j += 1\n",
    "        \n",
    "        return sublist, inversions\n",
    "    \n",
    "    # return input and num of inversions=0 if array is too short\n",
    "    if len(array_to_sort) <= 1:\n",
    "        return array_to_sort, inversions\n",
    "    \n",
    "    # divide list into two equal sized sublists\n",
    "    left = array_to_sort[:len(array_to_sort)//2]\n",
    "    right = array_to_sort[len(array_to_sort)//2:]\n",
    "    \n",
    "    # recursively sort each part and save inverions that occured during sorting\n",
    "    left, left_inv = merge_sort_and_count_inversions(left, inversions=inversions)\n",
    "    right, right_inv = merge_sort_and_count_inversions(right, inversions=inversions)\n",
    "    final_merge, final_merge_inv = _merge_and_count_inversions(left, right)\n",
    "    \n",
    "    return final_merge, (left_inv + right_inv + final_merge_inv)"
   ]
  },
  {
   "cell_type": "code",
   "execution_count": 3,
   "metadata": {},
   "outputs": [],
   "source": [
    "assert merge_sort_and_count_inversions([1, 5, 3, 2, 4, 6]) == ([1, 2, 3, 4, 5, 6], 4)"
   ]
  }
 ],
 "metadata": {
  "kernelspec": {
   "display_name": "Python 3",
   "language": "python",
   "name": "python3"
  },
  "language_info": {
   "codemirror_mode": {
    "name": "ipython",
    "version": 3
   },
   "file_extension": ".py",
   "mimetype": "text/x-python",
   "name": "python",
   "nbconvert_exporter": "python",
   "pygments_lexer": "ipython3",
   "version": "3.6.1"
  }
 },
 "nbformat": 4,
 "nbformat_minor": 2
}
