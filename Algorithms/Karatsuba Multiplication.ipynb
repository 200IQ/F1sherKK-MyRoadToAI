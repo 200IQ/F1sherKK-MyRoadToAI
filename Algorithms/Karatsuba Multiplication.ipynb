{
 "cells": [
  {
   "cell_type": "code",
   "execution_count": 1,
   "metadata": {
    "collapsed": true
   },
   "outputs": [],
   "source": [
    "# --- Example problem:\n",
    "#\n",
    "# x = 1234\n",
    "# y = 5678\n",
    "# result x * y = ?    \n",
    "#\n",
    "# --- Solution:\n",
    "#\n",
    "# divide each number into 2 equal parts and fill with zeros if one number is much shorter:\n",
    "# 1234 -> 12 34 \n",
    "# 5678 -> 56 78\n",
    "#\n",
    "# 12 34 = 12 * 10**2 + 34\n",
    "# 56 78 = 56 * 10**2 + 78\n",
    "#\n",
    "# X = 12 * 56 = 672\n",
    "# Y = 34 * 78 = 2652\n",
    "# Z = (12 + 34)(56 + 78) - X - Y = 46 * 134 – 672 – 2652 = 2840\n",
    "#\n",
    "# result = X * 10**(2 * 2) + Y + Z 10**2 = 6720000 + 2652 + 284000 = 7006652 = 1234 * 5678\n",
    "#\n",
    "# --- Big Oh Notation: O(n**(log2(3))"
   ]
  },
  {
   "cell_type": "code",
   "execution_count": 2,
   "metadata": {
    "collapsed": true
   },
   "outputs": [],
   "source": [
    "def karatsuba_miltiplication(x, y):\n",
    "    # use classic multiplication if numbers are small \n",
    "    if x < 10 and y < 10:\n",
    "        return x * y\n",
    "    \n",
    "    # splitting numbers into digits\n",
    "    x = list(map(int, str(abs(x))))\n",
    "    y = list(map(int, str(abs(y))))\n",
    "    \n",
    "    # calculate division index\n",
    "    m =  round(max(len(x), len(y)) / 2)\n",
    "    \n",
    "    # bring numbers to the same length\n",
    "    while len(x) < 2*m:\n",
    "        x.insert(0,0)\n",
    "    \n",
    "    while len(y) < 2*m:\n",
    "        y.insert(0,0)\n",
    "        \n",
    "    # divide into high/low parts for Karatsuba coefficients calculation\n",
    "    high_x, low_x = x[:m], x[m:]\n",
    "    high_y, low_y = y[:m], y[m:]\n",
    "    \n",
    "    # return to integers\n",
    "    low_x = int(\"\".join(map(str, low_x)))\n",
    "    high_x = int(\"\".join(map(str, high_x)))\n",
    "    \n",
    "    low_y = int(\"\".join(map(str, low_y)))\n",
    "    high_y = int(\"\".join(map(str, high_y)))\n",
    "    \n",
    "    # karatsuba coefficients\n",
    "    X = karatsuba_miltiplication(high_x, high_y)\n",
    "    Y = karatsuba_miltiplication(low_x, low_y)\n",
    "    Z = karatsuba_miltiplication((low_x + high_x), (low_y + high_y)) - X - Y\n",
    "    \n",
    "    return X * 10**(2 * m) + Z * 10**m + Y"
   ]
  },
  {
   "cell_type": "code",
   "execution_count": 3,
   "metadata": {},
   "outputs": [
    {
     "data": {
      "text/plain": [
       "7006652"
      ]
     },
     "execution_count": 3,
     "metadata": {},
     "output_type": "execute_result"
    }
   ],
   "source": [
    "karatsuba_miltiplication(1234, 5678)"
   ]
  },
  {
   "cell_type": "code",
   "execution_count": 4,
   "metadata": {
    "collapsed": true
   },
   "outputs": [],
   "source": [
    "assert karatsuba_miltiplication(1234, 5678) == 1234 * 5678"
   ]
  }
 ],
 "metadata": {
  "kernelspec": {
   "display_name": "Python 3",
   "language": "python",
   "name": "python3"
  },
  "language_info": {
   "codemirror_mode": {
    "name": "ipython",
    "version": 3
   },
   "file_extension": ".py",
   "mimetype": "text/x-python",
   "name": "python",
   "nbconvert_exporter": "python",
   "pygments_lexer": "ipython3",
   "version": "3.6.1"
  }
 },
 "nbformat": 4,
 "nbformat_minor": 2
}
