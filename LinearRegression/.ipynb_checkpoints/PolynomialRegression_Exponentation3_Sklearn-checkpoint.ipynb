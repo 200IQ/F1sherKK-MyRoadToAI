{
 "cells": [
  {
   "cell_type": "code",
   "execution_count": 1,
   "metadata": {
    "collapsed": false
   },
   "outputs": [],
   "source": [
    "from sklearn import linear_model\n",
    "\n",
    "%matplotlib inline \n",
    "from mpl_toolkits.mplot3d import Axes3D\n",
    "import matplotlib\n",
    "import matplotlib.pyplot as plt\n",
    "\n",
    "import numpy as np "
   ]
  },
  {
   "cell_type": "markdown",
   "metadata": {},
   "source": [
    "### Helper methods"
   ]
  },
  {
   "cell_type": "code",
   "execution_count": 2,
   "metadata": {
    "collapsed": true
   },
   "outputs": [],
   "source": [
    "def polynomial_function(x_values, exponentation_level, exp_min, exp_max, function_param_min, function_param_max):\n",
    "    exponentation_level = exponentation_level\n",
    "    function_parameters = list()\n",
    "    \n",
    "    for i in range(1, exponentation_level + 1):\n",
    "        function_parameters.append((np.random.uniform(function_param_min, function_param_max), i))\n",
    "    \n",
    "    y_values = list()\n",
    "    for x in x_values:\n",
    "        y = 0\n",
    "        for parameter in function_parameters:\n",
    "            y += parameter[0] * np.power(x, parameter[1])\n",
    "        y_values.append(y)\n",
    "        \n",
    "    return y_values"
   ]
  },
  {
   "cell_type": "code",
   "execution_count": 3,
   "metadata": {
    "collapsed": true
   },
   "outputs": [],
   "source": [
    "def generate_values_in_range(samples_num, min_val, max_val):\n",
    "    values = list()\n",
    "    for i in range(0, samples_num):\n",
    "        values.append(np.random.uniform(min_val, max_val))\n",
    "    return values    "
   ]
  },
  {
   "cell_type": "code",
   "execution_count": 4,
   "metadata": {
    "collapsed": true
   },
   "outputs": [],
   "source": [
    "def add_noise(values):\n",
    "    noised_values = list()\n",
    "    for val in values:\n",
    "        noised_val = val + np.max(values) * np.random.uniform(-0.1, 0.1)\n",
    "        noised_values.append(noised_val)\n",
    "    \n",
    "    return noised_values"
   ]
  },
  {
   "cell_type": "code",
   "execution_count": 5,
   "metadata": {
    "collapsed": true
   },
   "outputs": [],
   "source": [
    "def generate_polynomial_regression_problem(samples_num, exponentation_level):\n",
    "    x_values = generate_values_in_range(samples_num, -5, 5)\n",
    "    y_values = polynomial_function(x_values, exponentation_level, 2, 6, -5 , 5)\n",
    "    y_values = add_noise(y_values)\n",
    "    return np.array(x_values).reshape(-1, 1), np.array((y_values)).reshape(-1, 1)"
   ]
  },
  {
   "cell_type": "markdown",
   "metadata": {},
   "source": [
    "### Generate problem"
   ]
  },
  {
   "cell_type": "code",
   "execution_count": 33,
   "metadata": {
    "collapsed": true
   },
   "outputs": [],
   "source": [
    "samples_num = 100\n",
    "exponentation_level = 3"
   ]
  },
  {
   "cell_type": "code",
   "execution_count": 40,
   "metadata": {
    "collapsed": false
   },
   "outputs": [],
   "source": [
    "x_values, y_values = generate_polynomial_regression_problem(samples_num, exponentation_level)"
   ]
  },
  {
   "cell_type": "code",
   "execution_count": 41,
   "metadata": {
    "collapsed": false
   },
   "outputs": [
    {
     "data": {
      "image/png": "[encoded data removed]",
      "text/plain": [
       "<matplotlib.figure.Figure at 0x1107dd7f0>"
      ]
     },
     "metadata": {},
     "output_type": "display_data"
    }
   ],
   "source": [
    "# Presenting generated data\n",
    "plt.scatter(x_values, y_values, s=15)\n",
    "plt.title(\"Linear Regression Problem to fit\")\n",
    "plt.xlabel(\"x_values\")\n",
    "plt.ylabel(\"y_values\")\n",
    "plt.show()"
   ]
  },
  {
   "cell_type": "markdown",
   "metadata": {},
   "source": [
    "### Sklearn solution"
   ]
  },
  {
   "cell_type": "code",
   "execution_count": 42,
   "metadata": {
    "collapsed": true
   },
   "outputs": [],
   "source": [
    "# Stacking x values\n",
    "exp_one_x_values = x_values\n",
    "exp_two_x_values = x_values ** 2\n",
    "exp_three_x_values = x_values ** 3\n",
    "X = np.column_stack((exp_one_x_values, exp_two_x_values, exp_three_x_values))\n",
    "\n",
    "# Specifying ideal outputs\n",
    "Y = y_values"
   ]
  },
  {
   "cell_type": "code",
   "execution_count": 43,
   "metadata": {
    "collapsed": false
   },
   "outputs": [
    {
     "data": {
      "text/plain": [
       "LinearRegression(copy_X=True, fit_intercept=True, n_jobs=1, normalize=False)"
      ]
     },
     "execution_count": 43,
     "metadata": {},
     "output_type": "execute_result"
    }
   ],
   "source": [
    "# Creating model\n",
    "linear_regression = linear_model.LinearRegression()\n",
    "\n",
    "# Training model\n",
    "linear_regression.fit(X, Y)"
   ]
  },
  {
   "cell_type": "code",
   "execution_count": 54,
   "metadata": {
    "collapsed": false
   },
   "outputs": [
    {
     "name": "stdout",
     "output_type": "stream",
     "text": [
      "Coefficients intercept:\n",
      " [ 7.2257667]\n",
      "Coefficients coef:\n",
      " [[ 5.38632489  0.16208107 -3.94465457]]\n"
     ]
    }
   ],
   "source": [
    "# Learned coefficients\n",
    "print(\"Coefficients intercept:\\n \" + str(linear_regression.intercept_))\n",
    "print(\"Coefficients coef:\\n \" + str(linear_regression.coef_))"
   ]
  },
  {
   "cell_type": "code",
   "execution_count": 55,
   "metadata": {
    "collapsed": false
   },
   "outputs": [
    {
     "name": "stdout",
     "output_type": "stream",
     "text": [
      "Minimized error value: 758.187283651\n"
     ]
    }
   ],
   "source": [
    "# Error - Mean Squared Errors\n",
    "print(\"Minimized error value: \" + str(np.mean((linear_regression.predict(X) - y_values) ** 2)))"
   ]
  },
  {
   "cell_type": "code",
   "execution_count": 56,
   "metadata": {
    "collapsed": true
   },
   "outputs": [],
   "source": [
    "def hypothesis(x, intercept, coef):\n",
    "    return intercept[0] + coef[0][0] * x + coef[0][1] * x ** 2 + coef[0][2] * x ** 3"
   ]
  },
  {
   "cell_type": "code",
   "execution_count": 57,
   "metadata": {
    "collapsed": false
   },
   "outputs": [
    {
     "data": {
      "image/png": "[encoded data removed]",
      "text/plain": [
       "<matplotlib.figure.Figure at 0x110905320>"
      ]
     },
     "metadata": {},
     "output_type": "display_data"
    }
   ],
   "source": [
    "# Displaying dataset\n",
    "plt.scatter(x_values, y_values, s=15)\n",
    "\n",
    "# Displaying aproximated function\n",
    "min_x = np.min(x_values)\n",
    "max_x = np.max(x_values)\n",
    "function_x = np.arange(min_x, max_x, 0.01)\n",
    "function_y = [hypothesis(x, linear_regression.intercept_, linear_regression.coef_) for x in function_x]\n",
    "plt.plot(function_x, function_y, c=\"red\")\n",
    "\n",
    "# Displaying predicted values\n",
    "y_predicted = linear_regression.predict(X)\n",
    "plt.scatter(x_values, y_predicted, c='red')\n",
    "\n",
    "plt.title(\"Regression line\")\n",
    "plt.ylabel(\"y values\")\n",
    "plt.xlabel(\"x values\")\n",
    "plt.show()"
   ]
  }
 ],
 "metadata": {
  "kernelspec": {
   "display_name": "Python 3",
   "language": "python",
   "name": "python3"
  },
  "language_info": {
   "codemirror_mode": {
    "name": "ipython",
    "version": 3
   },
   "file_extension": ".py",
   "mimetype": "text/x-python",
   "name": "python",
   "nbconvert_exporter": "python",
   "pygments_lexer": "ipython3",
   "version": "3.6.0"
  }
 },
 "nbformat": 4,
 "nbformat_minor": 2
}
