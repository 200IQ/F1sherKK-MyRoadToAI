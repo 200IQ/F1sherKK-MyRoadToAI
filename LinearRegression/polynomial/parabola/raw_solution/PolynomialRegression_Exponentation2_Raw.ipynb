{
 "cells": [
  {
   "cell_type": "code",
   "execution_count": 524,
   "metadata": {
    "collapsed": false
   },
   "outputs": [],
   "source": [
    "from sklearn import linear_model\n",
    "\n",
    "%matplotlib inline \n",
    "from mpl_toolkits.mplot3d import Axes3D\n",
    "import matplotlib\n",
    "import matplotlib.pyplot as plt\n",
    "\n",
    "import numpy as np "
   ]
  },
  {
   "cell_type": "markdown",
   "metadata": {},
   "source": [
    "### Helper methods"
   ]
  },
  {
   "cell_type": "code",
   "execution_count": 525,
   "metadata": {
    "collapsed": true
   },
   "outputs": [],
   "source": [
    "def polynomial_function(x_values, exponentation_level, exp_min, exp_max, function_param_min, function_param_max):\n",
    "    exponentation_level = exponentation_level\n",
    "    function_parameters = list()\n",
    "    \n",
    "    for i in range(1, exponentation_level + 1):\n",
    "        function_parameters.append((np.random.uniform(function_param_min, function_param_max), i))\n",
    "    \n",
    "    y_values = list()\n",
    "    for x in x_values:\n",
    "        y = 0\n",
    "        for parameter in function_parameters:\n",
    "            y += parameter[0] * np.power(x, parameter[1])\n",
    "        y_values.append(y)\n",
    "        \n",
    "    return y_values"
   ]
  },
  {
   "cell_type": "code",
   "execution_count": 526,
   "metadata": {
    "collapsed": true
   },
   "outputs": [],
   "source": [
    "def generate_values_in_range(samples_num, min_val, max_val):\n",
    "    values = list()\n",
    "    for i in range(0, samples_num):\n",
    "        values.append(np.random.uniform(min_val, max_val))\n",
    "    return values    "
   ]
  },
  {
   "cell_type": "code",
   "execution_count": 527,
   "metadata": {
    "collapsed": true
   },
   "outputs": [],
   "source": [
    "def add_noise(values):\n",
    "    noised_values = list()\n",
    "    for val in values:\n",
    "        noised_val = val + np.max(values) * np.random.uniform(-0.1, 0.1)\n",
    "        noised_values.append(noised_val)\n",
    "    \n",
    "    return noised_values"
   ]
  },
  {
   "cell_type": "code",
   "execution_count": 528,
   "metadata": {
    "collapsed": true
   },
   "outputs": [],
   "source": [
    "def generate_polynomial_regression_problem(samples_num, exponentation_level):\n",
    "    x_values = generate_values_in_range(samples_num, -5, 5)\n",
    "    y_values = polynomial_function(x_values, exponentation_level, 2, 6, -5 , 5)\n",
    "    y_values = add_noise(y_values)\n",
    "    return np.array(x_values).reshape(-1, 1), np.array((y_values)).reshape(-1, 1)"
   ]
  },
  {
   "cell_type": "markdown",
   "metadata": {},
   "source": [
    "### Generate problem"
   ]
  },
  {
   "cell_type": "code",
   "execution_count": 529,
   "metadata": {
    "collapsed": true
   },
   "outputs": [],
   "source": [
    "samples_num = 100\n",
    "exponentation_level = 2"
   ]
  },
  {
   "cell_type": "code",
   "execution_count": 530,
   "metadata": {
    "collapsed": false
   },
   "outputs": [],
   "source": [
    "x_values, y_values = generate_polynomial_regression_problem(samples_num, exponentation_level)"
   ]
  },
  {
   "cell_type": "code",
   "execution_count": 531,
   "metadata": {
    "collapsed": false
   },
   "outputs": [
    {
     "data": {
      "image/png": "[encoded data removed]",
      "text/plain": [
       "<matplotlib.figure.Figure at 0x115b2c898>"
      ]
     },
     "metadata": {},
     "output_type": "display_data"
    }
   ],
   "source": [
    "# Presenting generated data\n",
    "plt.scatter(x_values, y_values, s=15)\n",
    "plt.title(\"Linear Regression Problem to fit\")\n",
    "plt.xlabel(\"x_values\")\n",
    "plt.ylabel(\"y_values\")\n",
    "plt.show()"
   ]
  },
  {
   "cell_type": "markdown",
   "metadata": {},
   "source": [
    "### Raw solution"
   ]
  },
  {
   "cell_type": "markdown",
   "metadata": {},
   "source": [
    "Calculating cost function as Mean Squared Errors:\n",
    "\n",
    "\\begin{equation*}\n",
    " MSE   = \\frac{1}{2m} \\sum_{i=1}^m (h_{\\theta}(x_i) - y_i)^2\n",
    "\\end{equation*}\n",
    "\n",
    "where:\n",
    " - x - input to classifier\n",
    " - y - ideal output for given x\n",
    " - θ - weight for x representing feature\n",
    " - m - number of all samples \n",
    " - i - index of sample"
   ]
  },
  {
   "cell_type": "code",
   "execution_count": 532,
   "metadata": {
    "collapsed": false
   },
   "outputs": [],
   "source": [
    "def mean_squared_errors(X, y, theta):\n",
    "    samples_num = len(X)\n",
    "    predictions = np.dot(X, theta)\n",
    "    square_error = np.sum(np.square(predictions - y))\n",
    "    return square_error / (2 * samples_num)"
   ]
  },
  {
   "cell_type": "markdown",
   "metadata": {},
   "source": [
    "Gradient descent for used (above) MSE equation.\n",
    "\n",
    "Repeat until model converges:\n",
    "\n",
    "\\begin{equation*}\n",
    " \\theta_0 = \\theta_0 - \\alpha\\frac{1}{m}\\sum_{i=1}^m (h_{\\theta}(x_i) - y_i)x_0\n",
    "\\end{equation*}\n",
    "\\begin{equation*}\n",
    " \\theta_1 = \\theta_1 - \\alpha\\frac{1}{m}\\sum_{i=1}^m (h_{\\theta}(x_i) - y_i)x_1\n",
    "\\end{equation*}\n",
    "\n",
    "\\begin{equation*}\n",
    " ...\n",
    "\\end{equation*}\n",
    "\n",
    "\\begin{equation*}\n",
    " \\theta_n = \\theta_n - \\alpha\\frac{1}{m}\\sum_{i=1}^m (h_{\\theta}(x_i) - y_i)x_n\n",
    "\\end{equation*}\n",
    "\n",
    "where:\n",
    " - α - learning rate\n",
    " - x - input to classifier\n",
    " - y - ideal output for given x\n",
    " - θ - weight for x representing feature\n",
    " - m - number of all samples \n",
    " - i - index of sample"
   ]
  },
  {
   "cell_type": "code",
   "execution_count": 533,
   "metadata": {
    "collapsed": true
   },
   "outputs": [],
   "source": [
    "def gradient_descent(X, y, theta, iterations, learning_rate):\n",
    "    # Container for error from each gradient step\n",
    "    error_history = []\n",
    "    \n",
    "    # Calculating initial error and saving it\n",
    "    initial_error = mean_squared_errors(X, y, theta)\n",
    "    error_history.append(initial_error)\n",
    "    \n",
    "    # Performing gradient step 'iterations' times\n",
    "    for i in range(0, iterations):\n",
    "        \n",
    "        # Updating theta values\n",
    "        theta = gradient_step(X, y, theta, learning_rate)\n",
    "        \n",
    "        # Calculating and saving error from current gradient step\n",
    "        error = mean_squared_errors(X, y, theta)\n",
    "        error_history.append(error)\n",
    "        \n",
    "        # Displaying train progress\n",
    "        if i % 100 == 0:\n",
    "            print(\"Iteration no. \" + str(i) + \", error: \" + str(error))\n",
    "        \n",
    "    return theta, error_history"
   ]
  },
  {
   "cell_type": "code",
   "execution_count": 534,
   "metadata": {
    "collapsed": false
   },
   "outputs": [],
   "source": [
    "# Vector implementation (without using loops) of gradient equations above\n",
    "def gradient_step(X, y, theta, learning_rate):\n",
    "    theta_num = len(theta)\n",
    "    samples_num = len(X)\n",
    "    predictions = np.dot(X, theta)\n",
    "    grad_delta = (1 / samples_num) * np.dot(X.T, predictions - y)\n",
    "    theta = theta - learning_rate * grad_delta\n",
    "    return theta"
   ]
  },
  {
   "cell_type": "markdown",
   "metadata": {},
   "source": [
    "Training model\n",
    "\\begin{equation*}\n",
    " h(x) = \\theta_0 + \\theta_1x + \\theta_2x^2\n",
    "\\end{equation*}"
   ]
  },
  {
   "cell_type": "code",
   "execution_count": 535,
   "metadata": {
    "collapsed": true
   },
   "outputs": [],
   "source": [
    "# Hyperparameters\n",
    "learning_rate = 0.0001\n",
    "iterations = 2000"
   ]
  },
  {
   "cell_type": "code",
   "execution_count": 536,
   "metadata": {
    "collapsed": false
   },
   "outputs": [],
   "source": [
    "# Adding bias column (column of ones) to input values\n",
    "bias = np.ones(len(x_values))\n",
    "exp_one_x_values = x_values\n",
    "exp_two_x_values = x_values ** 2\n",
    "X = np.column_stack((bias, exp_one_x_values, exp_two_x_values))\n",
    "\n",
    "# Specifying ideal outputs\n",
    "y = y_values"
   ]
  },
  {
   "cell_type": "code",
   "execution_count": 537,
   "metadata": {
    "collapsed": true
   },
   "outputs": [],
   "source": [
    "# Parameters for model\n",
    "theta = np.zeros((X.shape[1], 1))"
   ]
  },
  {
   "cell_type": "markdown",
   "metadata": {},
   "source": [
    "Training model"
   ]
  },
  {
   "cell_type": "code",
   "execution_count": 538,
   "metadata": {
    "collapsed": false
   },
   "outputs": [
    {
     "name": "stdout",
     "output_type": "stream",
     "text": [
      "Iteration no. 0, error: 666.523850752\n",
      "Iteration no. 100, error: 56.2485027677\n",
      "Iteration no. 200, error: 14.7518870217\n",
      "Iteration no. 300, error: 11.8983229288\n",
      "Iteration no. 400, error: 11.6751394405\n",
      "Iteration no. 500, error: 11.6351888843\n",
      "Iteration no. 600, error: 11.6115318252\n",
      "Iteration no. 700, error: 11.592231185\n",
      "Iteration no. 800, error: 11.57597173\n",
      "Iteration no. 900, error: 11.56223804\n",
      "Iteration no. 1000, error: 11.5506351558\n",
      "Iteration no. 1100, error: 11.5408321677\n",
      "Iteration no. 1200, error: 11.5325497123\n",
      "Iteration no. 1300, error: 11.5255517984\n",
      "Iteration no. 1400, error: 11.5196390629\n",
      "Iteration no. 1500, error: 11.5146430859\n",
      "Iteration no. 1600, error: 11.510421587\n",
      "Iteration no. 1700, error: 11.5068543691\n",
      "Iteration no. 1800, error: 11.5038398904\n",
      "Iteration no. 1900, error: 11.5012923693\n"
     ]
    }
   ],
   "source": [
    "# Performing gradient descent\n",
    "trained_theta, error_history = gradient_descent(X, y, theta, iterations, learning_rate)"
   ]
  },
  {
   "cell_type": "code",
   "execution_count": 539,
   "metadata": {
    "collapsed": false
   },
   "outputs": [
    {
     "data": {
      "text/plain": [
       "array([[ 0.19512258],\n",
       "       [-0.38115198],\n",
       "       [ 3.15295575]])"
      ]
     },
     "execution_count": 539,
     "metadata": {},
     "output_type": "execute_result"
    }
   ],
   "source": [
    "trained_theta"
   ]
  },
  {
   "cell_type": "code",
   "execution_count": 540,
   "metadata": {
    "collapsed": false
   },
   "outputs": [
    {
     "data": {
      "image/png": "[encoded data removed]",
      "text/plain": [
       "<matplotlib.figure.Figure at 0x1157ec3c8>"
      ]
     },
     "metadata": {},
     "output_type": "display_data"
    }
   ],
   "source": [
    "# Model learning history\n",
    "plt.plot(error_history)\n",
    "plt.title(\"Error per iteration\")\n",
    "plt.ylabel('MSE Error')\n",
    "plt.xlabel('Iteration')\n",
    "plt.show()"
   ]
  },
  {
   "cell_type": "code",
   "execution_count": 541,
   "metadata": {
    "collapsed": true
   },
   "outputs": [],
   "source": [
    "def hypothesis(x, theta):\n",
    "    return trained_theta[0][0] + trained_theta[1][0] * x + trained_theta[2][0] * x ** 2"
   ]
  },
  {
   "cell_type": "code",
   "execution_count": 542,
   "metadata": {
    "collapsed": false
   },
   "outputs": [
    {
     "data": {
      "image/png": "[encoded data removed]",
      "text/plain": [
       "<matplotlib.figure.Figure at 0x11587c3c8>"
      ]
     },
     "metadata": {},
     "output_type": "display_data"
    }
   ],
   "source": [
    "# Displaying dataset\n",
    "plt.scatter(x_values, y_values, s=15)\n",
    "\n",
    "# Displaying aproximated function\n",
    "min_x = np.min(x_values)\n",
    "max_x = np.max(x_values)\n",
    "function_x = np.arange(min_x, max_x, 0.01)\n",
    "function_y = [hypothesis(x, trained_theta) for x in function_x]\n",
    "plt.plot(function_x, function_y, c=\"red\")\n",
    "\n",
    "# Displaying predicted values\n",
    "y_predicted = np.dot(X, trained_theta)\n",
    "plt.scatter(x_values, y_predicted, s=20, c='red')\n",
    "\n",
    "plt.title(\"Regression line\")\n",
    "plt.ylabel(\"y values\")\n",
    "plt.xlabel(\"x values\")\n",
    "plt.show()"
   ]
  }
 ],
 "metadata": {
  "kernelspec": {
   "display_name": "Python 3",
   "language": "python",
   "name": "python3"
  },
  "language_info": {
   "codemirror_mode": {
    "name": "ipython",
    "version": 3
   },
   "file_extension": ".py",
   "mimetype": "text/x-python",
   "name": "python",
   "nbconvert_exporter": "python",
   "pygments_lexer": "ipython3",
   "version": "3.6.0"
  }
 },
 "nbformat": 4,
 "nbformat_minor": 2
}
