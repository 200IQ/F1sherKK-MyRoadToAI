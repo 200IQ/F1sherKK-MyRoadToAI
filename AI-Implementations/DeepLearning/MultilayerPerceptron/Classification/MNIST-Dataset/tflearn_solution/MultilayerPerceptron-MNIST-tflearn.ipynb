{
 "cells": [
  {
   "cell_type": "code",
   "execution_count": 1,
   "metadata": {
    "collapsed": true
   },
   "outputs": [],
   "source": [
    "import numpy as np\n",
    "import tensorflow as tf\n",
    "import tflearn\n",
    "import tflearn.datasets.mnist as mnist\n",
    "import matplotlib.pyplot as plt"
   ]
  },
  {
   "cell_type": "markdown",
   "metadata": {},
   "source": [
    "#### Dataset info"
   ]
  },
  {
   "cell_type": "code",
   "execution_count": 2,
   "metadata": {
    "collapsed": true
   },
   "outputs": [],
   "source": [
    "# source: http://yann.lecun.com/exdb/mnist/\n",
    "IMAGE_WIDTH = 28\n",
    "IMAGE_HEIGHT = 28\n",
    "NUM_CHANNELS = 1\n",
    "PIXEL_DEPTH = 255\n",
    "NUM_LABELS = 10"
   ]
  },
  {
   "cell_type": "markdown",
   "metadata": {},
   "source": [
    "#### Extracting data"
   ]
  },
  {
   "cell_type": "code",
   "execution_count": 3,
   "metadata": {},
   "outputs": [
    {
     "name": "stdout",
     "output_type": "stream",
     "text": [
      "Downloading MNIST...\n",
      "Succesfully downloaded train-images-idx3-ubyte.gz 9912422 bytes.\n",
      "Extracting mnist/train-images-idx3-ubyte.gz\n",
      "Downloading MNIST...\n",
      "Succesfully downloaded train-labels-idx1-ubyte.gz 28881 bytes.\n",
      "Extracting mnist/train-labels-idx1-ubyte.gz\n",
      "Downloading MNIST...\n",
      "Succesfully downloaded t10k-images-idx3-ubyte.gz 1648877 bytes.\n",
      "Extracting mnist/t10k-images-idx3-ubyte.gz\n",
      "Downloading MNIST...\n",
      "Succesfully downloaded t10k-labels-idx1-ubyte.gz 4542 bytes.\n",
      "Extracting mnist/t10k-labels-idx1-ubyte.gz\n"
     ]
    }
   ],
   "source": [
    "trainX, trainY, testX, testY = mnist.load_data(one_hot=True)"
   ]
  },
  {
   "cell_type": "code",
   "execution_count": 4,
   "metadata": {
    "collapsed": true
   },
   "outputs": [],
   "source": [
    "TRAIN_IMAGES_NUM = trainX.shape[0]\n",
    "TEST_IMAGES_NUM = testX.shape[0]"
   ]
  },
  {
   "cell_type": "markdown",
   "metadata": {},
   "source": [
    "#### Present extracted data"
   ]
  },
  {
   "cell_type": "code",
   "execution_count": 5,
   "metadata": {
    "collapsed": true
   },
   "outputs": [],
   "source": [
    "def show_digit(trainX, trainY, index):\n",
    "    image = trainX[index].reshape([IMAGE_WIDTH, IMAGE_HEIGHT])\n",
    "    label = trainY[index].argmax(axis=0)\n",
    "    plt.title(\"Training data, index: {},  Label: {}\".format(index, label))\n",
    "    plt.imshow(image, cmap=\"gray_r\")\n",
    "    plt.show()"
   ]
  },
  {
   "cell_type": "code",
   "execution_count": 6,
   "metadata": {},
   "outputs": [
    {
     "name": "stdout",
     "output_type": "stream",
     "text": [
      "trainX shape: (55000, 784)\n",
      "trainY shape: (55000, 10)\n",
      "testX shape: (10000, 784)\n",
      "testY shape: (10000, 10)\n"
     ]
    },
    {
     "data": {
      "image/png": "[encoded data removed]",
      "text/plain": [
       "<matplotlib.figure.Figure at 0x11f43eef0>"
      ]
     },
     "metadata": {},
     "output_type": "display_data"
    }
   ],
   "source": [
    "print(\"trainX shape: \" + str(trainX.shape))\n",
    "print(\"trainY shape: \" + str(trainY.shape))\n",
    "print(\"testX shape: \" + str(testX.shape))\n",
    "print(\"testY shape: \" + str(testY.shape))\n",
    "show_digit(trainX, trainY, np.random.randint(1, TRAIN_IMAGES_NUM + 1))"
   ]
  },
  {
   "cell_type": "markdown",
   "metadata": {},
   "source": [
    "#### Neural Network preparation"
   ]
  },
  {
   "cell_type": "code",
   "execution_count": 7,
   "metadata": {
    "collapsed": true
   },
   "outputs": [],
   "source": [
    "def build_nn_model(input_nodes, h1_nodes, h2_nodes, output_nodes, lr_rate):\n",
    "    tf.reset_default_graph()\n",
    "\n",
    "    net = tflearn.input_data([None, input_nodes])\n",
    "\n",
    "    net = tflearn.fully_connected(net, h1_nodes, activation='ReLU')\n",
    "    net = tflearn.fully_connected(net, h2_nodes, activation='ReLU')\n",
    "\n",
    "    net = tflearn.fully_connected(net, output_nodes, activation='softmax')\n",
    "\n",
    "    net = tflearn.regression(net, \n",
    "                             optimizer='sgd', \n",
    "                             learning_rate=lr_rate, \n",
    "                             loss='categorical_crossentropy') \n",
    "        \n",
    "    return tflearn.DNN(net)"
   ]
  },
  {
   "cell_type": "markdown",
   "metadata": {},
   "source": [
    "#### Hyperparameters"
   ]
  },
  {
   "cell_type": "code",
   "execution_count": 8,
   "metadata": {
    "collapsed": true
   },
   "outputs": [],
   "source": [
    "epochs = 78\n",
    "b_size = 128\n",
    "learning_rate = 0.05\n",
    "validation_set_size = 0.1\n",
    "\n",
    "input_nodes = IMAGE_WIDTH * IMAGE_HEIGHT\n",
    "hidden_nodes_1 = 300\n",
    "hidden_nodes_2 = 75\n",
    "output_nodes = 10"
   ]
  },
  {
   "cell_type": "markdown",
   "metadata": {
    "collapsed": true
   },
   "source": [
    "####  Training"
   ]
  },
  {
   "cell_type": "code",
   "execution_count": 9,
   "metadata": {
    "collapsed": true
   },
   "outputs": [],
   "source": [
    "nn_model = build_nn_model(input_nodes, hidden_nodes_1, hidden_nodes_2, output_nodes, \n",
    "                          learning_rate)"
   ]
  },
  {
   "cell_type": "code",
   "execution_count": 10,
   "metadata": {},
   "outputs": [
    {
     "name": "stdout",
     "output_type": "stream",
     "text": [
      "Training Step: 30185  | total loss: \u001b[1m\u001b[32m0.00381\u001b[0m\u001b[0m | time: 1.886s\n",
      "| SGD | epoch: 078 | loss: 0.00381 - acc: 1.0000 -- iter: 49408/49500\n",
      "Training Step: 30186  | total loss: \u001b[1m\u001b[32m0.00398\u001b[0m\u001b[0m | time: 2.899s\n",
      "| SGD | epoch: 078 | loss: 0.00398 - acc: 1.0000 | val_loss: 0.07650 - val_acc: 0.9791 -- iter: 49500/49500\n",
      "--\n"
     ]
    }
   ],
   "source": [
    "nn_model.fit(trainX, trainY, validation_set=validation_set_size, show_metric=True, \n",
    "             batch_size=b_size, n_epoch=epochs)"
   ]
  },
  {
   "cell_type": "code",
   "execution_count": 11,
   "metadata": {
    "collapsed": true
   },
   "outputs": [],
   "source": [
    "predictions = np.array(nn_model.predict(testX)).argmax(axis=1)\n",
    "targets = testY.argmax(axis=1)"
   ]
  },
  {
   "cell_type": "code",
   "execution_count": 12,
   "metadata": {},
   "outputs": [
    {
     "name": "stdout",
     "output_type": "stream",
     "text": [
      "Test accuracy:  0.9798\n"
     ]
    }
   ],
   "source": [
    "test_accuracy = np.mean(predictions == targets, axis=0)\n",
    "print(\"Test accuracy: \", test_accuracy)"
   ]
  }
 ],
 "metadata": {
  "kernelspec": {
   "display_name": "Python 3",
   "language": "python",
   "name": "python3"
  },
  "language_info": {
   "codemirror_mode": {
    "name": "ipython",
    "version": 3
   },
   "file_extension": ".py",
   "mimetype": "text/x-python",
   "name": "python",
   "nbconvert_exporter": "python",
   "pygments_lexer": "ipython3",
   "version": "3.6.1"
  }
 },
 "nbformat": 4,
 "nbformat_minor": 2
}
