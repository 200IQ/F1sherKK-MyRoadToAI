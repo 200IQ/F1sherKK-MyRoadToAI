{
 "cells": [
  {
   "cell_type": "code",
   "execution_count": 1,
   "metadata": {},
   "outputs": [
    {
     "name": "stderr",
     "output_type": "stream",
     "text": [
      "Using TensorFlow backend.\n"
     ]
    }
   ],
   "source": [
    "import tensorflow as tf\n",
    "import tensorflow.examples.tutorials.mnist as mnist\n",
    "from keras import backend as Keras\n",
    "from keras.layers import Dense, Dropout\n",
    "from keras.objectives import categorical_crossentropy\n",
    "from keras.metrics import categorical_accuracy\n",
    "import numpy as np\n",
    "import matplotlib.pyplot as plt\n",
    "import matplotlib.patches as mpatches\n",
    "import random"
   ]
  },
  {
   "cell_type": "code",
   "execution_count": 2,
   "metadata": {
    "collapsed": true
   },
   "outputs": [],
   "source": [
    "%matplotlib inline"
   ]
  },
  {
   "cell_type": "markdown",
   "metadata": {},
   "source": [
    "#### Dataset info"
   ]
  },
  {
   "cell_type": "code",
   "execution_count": 3,
   "metadata": {
    "collapsed": true
   },
   "outputs": [],
   "source": [
    "# source: http://yann.lecun.com/exdb/mnist/\n",
    "IMAGE_WIDTH = 28\n",
    "IMAGE_HEIGHT = 28\n",
    "NUM_CHANNELS = 1\n",
    "PIXEL_DEPTH = 255\n",
    "NUM_LABELS = 10"
   ]
  },
  {
   "cell_type": "markdown",
   "metadata": {},
   "source": [
    "#### Loading files\n",
    "Data is already preprocessed, shuffled and normalized."
   ]
  },
  {
   "cell_type": "code",
   "execution_count": 4,
   "metadata": {},
   "outputs": [
    {
     "name": "stdout",
     "output_type": "stream",
     "text": [
      "Successfully downloaded train-images-idx3-ubyte.gz 9912422 bytes.\n",
      "Extracting tensorflow/examples/tutorials/mnist/train-images-idx3-ubyte.gz\n",
      "Successfully downloaded train-labels-idx1-ubyte.gz 28881 bytes.\n",
      "Extracting tensorflow/examples/tutorials/mnist/train-labels-idx1-ubyte.gz\n",
      "Successfully downloaded t10k-images-idx3-ubyte.gz 1648877 bytes.\n",
      "Extracting tensorflow/examples/tutorials/mnist/t10k-images-idx3-ubyte.gz\n",
      "Successfully downloaded t10k-labels-idx1-ubyte.gz 4542 bytes.\n",
      "Extracting tensorflow/examples/tutorials/mnist/t10k-labels-idx1-ubyte.gz\n"
     ]
    }
   ],
   "source": [
    "mnist_dataset = mnist.input_data.read_data_sets('tensorflow/examples/tutorials/mnist', one_hot=True)"
   ]
  },
  {
   "cell_type": "markdown",
   "metadata": {},
   "source": [
    "#### Divide data"
   ]
  },
  {
   "cell_type": "code",
   "execution_count": 5,
   "metadata": {
    "collapsed": true
   },
   "outputs": [],
   "source": [
    "trainX = mnist_dataset.train.images\n",
    "valX = mnist_dataset.validation.images\n",
    "testX = mnist_dataset.test.images\n",
    "\n",
    "trainY = mnist_dataset.train.labels.astype(np.float32)\n",
    "valY = mnist_dataset.validation.labels.astype(np.float32)\n",
    "testY = mnist_dataset.test.labels.astype(np.float32)"
   ]
  },
  {
   "cell_type": "code",
   "execution_count": 6,
   "metadata": {
    "collapsed": true
   },
   "outputs": [],
   "source": [
    "TRAIN_IMAGES_NUM = trainX.shape[0]\n",
    "TEST_IMAGES_NUM = testX.shape[0]"
   ]
  },
  {
   "cell_type": "markdown",
   "metadata": {},
   "source": [
    "#### Present data"
   ]
  },
  {
   "cell_type": "code",
   "execution_count": 7,
   "metadata": {
    "collapsed": true
   },
   "outputs": [],
   "source": [
    "def show_digit(trainX, trainY, index):\n",
    "    image = trainX[index].reshape([IMAGE_WIDTH, IMAGE_HEIGHT])\n",
    "    label = trainY[index]\n",
    "    plt.title(\"Training data, index: {},  Label: {}\".format(index, label))\n",
    "    plt.imshow(image, cmap=\"gray_r\")\n",
    "    plt.show()"
   ]
  },
  {
   "cell_type": "code",
   "execution_count": 8,
   "metadata": {},
   "outputs": [
    {
     "name": "stdout",
     "output_type": "stream",
     "text": [
      "trainX shape: (55000, 784)\n",
      "trainY shape: (55000, 10)\n",
      "valX shape: (5000, 784)\n",
      "valY shape: (5000, 10)\n",
      "testX shape: (10000, 784)\n",
      "testY shape: (10000, 10)\n"
     ]
    },
    {
     "data": {
      "image/png": "[encoded data removed]",
      "text/plain": [
       "<matplotlib.figure.Figure at 0x121669908>"
      ]
     },
     "metadata": {},
     "output_type": "display_data"
    }
   ],
   "source": [
    "print(\"trainX shape: \" + str(trainX.shape))\n",
    "print(\"trainY shape: \" + str(trainY.shape))\n",
    "print(\"valX shape: \" + str(valX.shape))\n",
    "print(\"valY shape: \" + str(valY.shape))\n",
    "print(\"testX shape: \" + str(testX.shape))\n",
    "print(\"testY shape: \" + str(testY.shape))\n",
    "show_digit(trainX, trainY, np.random.randint(1, TRAIN_IMAGES_NUM + 1))"
   ]
  },
  {
   "cell_type": "markdown",
   "metadata": {},
   "source": [
    "#### Neural Network preparation"
   ]
  },
  {
   "cell_type": "code",
   "execution_count": 9,
   "metadata": {
    "collapsed": true
   },
   "outputs": [],
   "source": [
    "input_nodes = IMAGE_WIDTH * IMAGE_HEIGHT\n",
    "hidden_layer_1_nodes = 300\n",
    "hidden_layer_2_nodes = 75\n",
    "output_layer_nodes = NUM_LABELS"
   ]
  },
  {
   "cell_type": "code",
   "execution_count": 10,
   "metadata": {
    "collapsed": true
   },
   "outputs": [],
   "source": [
    "# reset tensorflow graph\n",
    "tf.reset_default_graph()\n",
    "\n",
    "# placeholders for inputs, labels and learning rate\n",
    "inputs_ = tf.placeholder(tf.float32, [None, input_nodes], name=\"inputs\")\n",
    "targets_ = tf.placeholder(tf.float32, [None, output_layer_nodes], name=\"targets\")\n",
    "learning_rate_ = tf.placeholder(tf.float32, None, name=\"learning_rate\")\n",
    "keep_prob_ = tf.placeholder(tf.float32, name=\"keep_prob\")\n",
    "\n",
    "# layers (wrapped with keras)\n",
    "input_to_h1_layer = Dense(hidden_layer_1_nodes, activation='relu')(inputs_)  \n",
    "input_to_h1_layer = tf.nn.dropout(input_to_h1_layer, keep_prob_)\n",
    "\n",
    "# I use tf.nn.dropout instead of keras.layers.Dropout as it isn't currently well connected with\n",
    "# tf workflow, it requires float instead of tensor, furthermore we need to play with K.set_learning_phase() value\n",
    "# and make sure to switch it when we use train to 1 for train and 0 for val set\n",
    "# source: https://github.com/fchollet/keras/issues/3823\n",
    "\n",
    "h1_to_h2_layer = Dense(hidden_layer_2_nodes, activation='relu')(input_to_h1_layer)\n",
    "h1_to_h2_layer = tf.nn.dropout(h1_to_h2_layer, keep_prob_)\n",
    "\n",
    "h2_to_output = Dense(output_layer_nodes, activation='softmax')(h1_to_h2_layer)"
   ]
  },
  {
   "cell_type": "markdown",
   "metadata": {},
   "source": [
    "#### Loss and accuracy assessment"
   ]
  },
  {
   "cell_type": "code",
   "execution_count": 11,
   "metadata": {
    "collapsed": true
   },
   "outputs": [],
   "source": [
    "# loss function (tf.nn.softmax_cross_entropy_with_logits replaced with keras categorical_crossentropy)\n",
    "loss_function = tf.reduce_mean(categorical_crossentropy(targets_, h2_to_output))\n",
    "\n",
    "# gradient descent optimiser\n",
    "optimizer = tf.train.GradientDescentOptimizer(learning_rate_).minimize(loss_function)\n",
    "\n",
    "# accuracy \n",
    "# correct_prediction = tf.equal(tf.argmax(h2_to_o_layer_logits, 1), tf.argmax(targets_, 1))\n",
    "# accuracy = tf.reduce_mean(tf.cast(correct_prediction, tf.float32))\n",
    "# replaced with keras categorical_accuracy -> returns binary value per sample instead of percentage value\n",
    "accuracy = categorical_accuracy(targets_, h2_to_output)"
   ]
  },
  {
   "cell_type": "markdown",
   "metadata": {},
   "source": [
    "#### Batch preparation"
   ]
  },
  {
   "cell_type": "markdown",
   "metadata": {},
   "source": [
    "My own implementation:"
   ]
  },
  {
   "cell_type": "code",
   "execution_count": 12,
   "metadata": {
    "collapsed": true
   },
   "outputs": [],
   "source": [
    "def prepare_mini_batches(data, labels, batch_size):\n",
    "    assert len(data) == len(labels)\n",
    "    \n",
    "    all_batches = list()\n",
    "    for i in range(0, len(data)):\n",
    "        all_batches.append((data[i], labels[i]))\n",
    "    random.shuffle(all_batches)\n",
    "        \n",
    "    mini_batches = list()\n",
    "    while len(all_batches) >= batch_size:\n",
    "        \n",
    "        data_batch = list()\n",
    "        labels_batch = list()\n",
    "        for j in range(0, batch_size):\n",
    "            data, labels = all_batches.pop()\n",
    "            data_batch.append(data)\n",
    "            labels_batch.append(labels)\n",
    "            \n",
    "        mini_batches.append((np.array(data_batch), np.array(labels_batch)))\n",
    "    \n",
    "    return mini_batches"
   ]
  },
  {
   "cell_type": "code",
   "execution_count": 13,
   "metadata": {},
   "outputs": [
    {
     "name": "stdout",
     "output_type": "stream",
     "text": [
      "Input data mini-batch: (128, 784)\n",
      "Input data labels mini-batch: (128, 10)\n"
     ]
    }
   ],
   "source": [
    "# divide trainX, trainY data into batches of size 128, data is copied\n",
    "mini_batches_example = prepare_mini_batches(trainX, trainY, 128)\n",
    "\n",
    "# pop next batches\n",
    "exampleX_batches, exampleY_batches = mini_batches_example.pop()\n",
    "print(\"Input data mini-batch: \" + str(exampleX_batches.shape))\n",
    "print(\"Input data labels mini-batch: \" + str(exampleY_batches.shape))"
   ]
  },
  {
   "cell_type": "markdown",
   "metadata": {},
   "source": [
    "Similar but <u>NOT THE SAME</u> result could be achieved by using `mnist_dataset.train` object."
   ]
  },
  {
   "cell_type": "code",
   "execution_count": 14,
   "metadata": {},
   "outputs": [
    {
     "name": "stdout",
     "output_type": "stream",
     "text": [
      "Input data mini-batch: (128, 784)\n",
      "Input data labels mini-batch: (128, 10)\n"
     ]
    }
   ],
   "source": [
    "# fetching next 128 size RANDOM batches from data in mnist_dataset.traing\n",
    "tf_exampleX_batches, tf_exampleY_batches = mnist_dataset.train.next_batch(128)\n",
    "print(\"Input data mini-batch: \" + str(tf_exampleX_batches.shape))\n",
    "print(\"Input data labels mini-batch: \" + str(tf_exampleY_batches.shape))"
   ]
  },
  {
   "cell_type": "markdown",
   "metadata": {},
   "source": [
    "Main difference between two approaches is:\n",
    "\n",
    "a) With my implementation you make sure that if you iterate over *mini_batches* received from *prepare_mini_batches* function - your whole train data will be inserted into net but with random order. \n",
    "\n",
    "b) With tensorflow implementation you simply receive randomly picked *batch_size* samples. That way it is possible that some of samples from train set will enter net more often than others."
   ]
  },
  {
   "cell_type": "markdown",
   "metadata": {},
   "source": [
    "#### Hyperparameters"
   ]
  },
  {
   "cell_type": "code",
   "execution_count": 15,
   "metadata": {
    "collapsed": true
   },
   "outputs": [],
   "source": [
    "epochs = 65\n",
    "batch_size = 128\n",
    "learning_rate = 0.05\n",
    "keep_prob = 0.5"
   ]
  },
  {
   "cell_type": "markdown",
   "metadata": {
    "collapsed": true
   },
   "source": [
    "####  Training cycle"
   ]
  },
  {
   "cell_type": "code",
   "execution_count": 16,
   "metadata": {
    "collapsed": true
   },
   "outputs": [],
   "source": [
    "session = tf.Session()\n",
    "Keras.set_session(session)"
   ]
  },
  {
   "cell_type": "code",
   "execution_count": 17,
   "metadata": {
    "scrolled": false
   },
   "outputs": [
    {
     "name": "stdout",
     "output_type": "stream",
     "text": [
      "Epoch: 1/65:\n",
      "      - Training loss: 0.701786 (acc: 0.833224)\n",
      "      - Validation loss: 0.353318 (acc: 0.9048)\n",
      "Epoch: 2/65:\n",
      "      - Training loss: 0.299679 (acc: 0.9149)\n",
      "      - Validation loss: 0.256557 (acc: 0.9308)\n",
      "Epoch: 3/65:\n",
      "      - Training loss: 0.235336 (acc: 0.932128)\n",
      "      - Validation loss: 0.213685 (acc: 0.9398)\n",
      "Epoch: 4/65:\n",
      "      - Training loss: 0.198283 (acc: 0.942144)\n",
      "      - Validation loss: 0.187059 (acc: 0.9464)\n",
      "Epoch: 5/65:\n",
      "      - Training loss: 0.173558 (acc: 0.949173)\n",
      "      - Validation loss: 0.170338 (acc: 0.952)\n",
      "Epoch: 6/65:\n",
      "      - Training loss: 0.154555 (acc: 0.955037)\n",
      "      - Validation loss: 0.153054 (acc: 0.9556)\n",
      "Epoch: 7/65:\n",
      "      - Training loss: 0.139181 (acc: 0.959189)\n",
      "      - Validation loss: 0.141748 (acc: 0.959)\n",
      "Epoch: 8/65:\n",
      "      - Training loss: 0.127466 (acc: 0.962868)\n",
      "      - Validation loss: 0.133256 (acc: 0.9612)\n",
      "Epoch: 9/65:\n",
      "      - Training loss: 0.11704 (acc: 0.966073)\n",
      "      - Validation loss: 0.127443 (acc: 0.9632)\n",
      "Epoch: 10/65:\n",
      "      - Training loss: 0.108534 (acc: 0.969023)\n",
      "      - Validation loss: 0.121223 (acc: 0.9656)\n",
      "Epoch: 11/65:\n",
      "      - Training loss: 0.100218 (acc: 0.971026)\n",
      "      - Validation loss: 0.116624 (acc: 0.9654)\n",
      "Epoch: 12/65:\n",
      "      - Training loss: 0.0943677 (acc: 0.972811)\n",
      "      - Validation loss: 0.109925 (acc: 0.9666)\n",
      "Epoch: 13/65:\n",
      "      - Training loss: 0.0890412 (acc: 0.974559)\n",
      "      - Validation loss: 0.109613 (acc: 0.9674)\n",
      "Epoch: 14/65:\n",
      "      - Training loss: 0.0841641 (acc: 0.975688)\n",
      "      - Validation loss: 0.102894 (acc: 0.9692)\n",
      "Epoch: 15/65:\n",
      "      - Training loss: 0.0790073 (acc: 0.977418)\n",
      "      - Validation loss: 0.0974076 (acc: 0.9718)\n",
      "Epoch: 16/65:\n",
      "      - Training loss: 0.0741733 (acc: 0.979039)\n",
      "      - Validation loss: 0.0980813 (acc: 0.9698)\n",
      "Epoch: 17/65:\n",
      "      - Training loss: 0.0710178 (acc: 0.979895)\n",
      "      - Validation loss: 0.0951135 (acc: 0.972)\n",
      "Epoch: 18/65:\n",
      "      - Training loss: 0.0675258 (acc: 0.980787)\n",
      "      - Validation loss: 0.0922255 (acc: 0.9728)\n",
      "Epoch: 19/65:\n",
      "      - Training loss: 0.0642992 (acc: 0.98168)\n",
      "      - Validation loss: 0.0906964 (acc: 0.973)\n",
      "Epoch: 20/65:\n",
      "      - Training loss: 0.0614733 (acc: 0.982317)\n",
      "      - Validation loss: 0.0899474 (acc: 0.9742)\n",
      "Epoch: 21/65:\n",
      "      - Training loss: 0.0587305 (acc: 0.983228)\n",
      "      - Validation loss: 0.0863572 (acc: 0.9758)\n",
      "Epoch: 22/65:\n",
      "      - Training loss: 0.0559454 (acc: 0.984484)\n",
      "      - Validation loss: 0.0869442 (acc: 0.9744)\n",
      "Epoch: 23/65:\n",
      "      - Training loss: 0.0536593 (acc: 0.984903)\n",
      "      - Validation loss: 0.0851763 (acc: 0.9766)\n",
      "Epoch: 24/65:\n",
      "      - Training loss: 0.0516241 (acc: 0.985541)\n",
      "      - Validation loss: 0.0858188 (acc: 0.9752)\n",
      "Epoch: 25/65:\n",
      "      - Training loss: 0.049527 (acc: 0.98616)\n",
      "      - Validation loss: 0.0854948 (acc: 0.9756)\n",
      "Epoch: 26/65:\n",
      "      - Training loss: 0.0474763 (acc: 0.986324)\n",
      "      - Validation loss: 0.0828374 (acc: 0.9758)\n",
      "Epoch: 27/65:\n",
      "      - Training loss: 0.0451404 (acc: 0.987234)\n",
      "      - Validation loss: 0.0818262 (acc: 0.9756)\n",
      "Epoch: 28/65:\n",
      "      - Training loss: 0.0436644 (acc: 0.987926)\n",
      "      - Validation loss: 0.079871 (acc: 0.9752)\n",
      "Epoch: 29/65:\n",
      "      - Training loss: 0.0417729 (acc: 0.988327)\n",
      "      - Validation loss: 0.0795451 (acc: 0.9762)\n",
      "Epoch: 30/65:\n",
      "      - Training loss: 0.0406658 (acc: 0.988181)\n",
      "      - Validation loss: 0.0798781 (acc: 0.9764)\n",
      "Epoch: 31/65:\n",
      "      - Training loss: 0.0391808 (acc: 0.989128)\n",
      "      - Validation loss: 0.0803211 (acc: 0.9764)\n",
      "Epoch: 32/65:\n",
      "      - Training loss: 0.037704 (acc: 0.98951)\n",
      "      - Validation loss: 0.0787984 (acc: 0.9766)\n",
      "Epoch: 33/65:\n",
      "      - Training loss: 0.0370463 (acc: 0.989893)\n",
      "      - Validation loss: 0.0782824 (acc: 0.9796)\n",
      "Epoch: 34/65:\n",
      "      - Training loss: 0.035822 (acc: 0.990184)\n",
      "      - Validation loss: 0.0773516 (acc: 0.9784)\n",
      "Epoch: 35/65:\n",
      "      - Training loss: 0.0339449 (acc: 0.990494)\n",
      "      - Validation loss: 0.0768728 (acc: 0.9776)\n",
      "Epoch: 36/65:\n",
      "      - Training loss: 0.0325765 (acc: 0.990949)\n",
      "      - Validation loss: 0.0765953 (acc: 0.977)\n",
      "Epoch: 37/65:\n",
      "      - Training loss: 0.0319621 (acc: 0.991022)\n",
      "      - Validation loss: 0.0786969 (acc: 0.977)\n",
      "Epoch: 38/65:\n",
      "      - Training loss: 0.0306994 (acc: 0.991277)\n",
      "      - Validation loss: 0.0765679 (acc: 0.9776)\n",
      "Epoch: 39/65:\n",
      "      - Training loss: 0.0299778 (acc: 0.991769)\n",
      "      - Validation loss: 0.0762049 (acc: 0.9788)\n",
      "Epoch: 40/65:\n",
      "      - Training loss: 0.0291078 (acc: 0.991841)\n",
      "      - Validation loss: 0.0775951 (acc: 0.9776)\n",
      "Epoch: 41/65:\n",
      "      - Training loss: 0.0286171 (acc: 0.992024)\n",
      "      - Validation loss: 0.0761452 (acc: 0.9774)\n",
      "Epoch: 42/65:\n",
      "      - Training loss: 0.0273131 (acc: 0.99257)\n",
      "      - Validation loss: 0.0758326 (acc: 0.9794)\n",
      "Epoch: 43/65:\n",
      "      - Training loss: 0.0266264 (acc: 0.992752)\n",
      "      - Validation loss: 0.0766949 (acc: 0.978)\n",
      "Epoch: 44/65:\n",
      "      - Training loss: 0.0259707 (acc: 0.992861)\n",
      "      - Validation loss: 0.0765006 (acc: 0.9786)\n",
      "Epoch: 45/65:\n",
      "      - Training loss: 0.0253006 (acc: 0.993098)\n",
      "      - Validation loss: 0.0755322 (acc: 0.9776)\n",
      "Epoch: 46/65:\n",
      "      - Training loss: 0.0249942 (acc: 0.993262)\n",
      "      - Validation loss: 0.0769002 (acc: 0.979)\n",
      "Epoch: 47/65:\n",
      "      - Training loss: 0.0242921 (acc: 0.993444)\n",
      "      - Validation loss: 0.0761601 (acc: 0.9792)\n",
      "Epoch: 48/65:\n",
      "      - Training loss: 0.0230537 (acc: 0.993827)\n",
      "      - Validation loss: 0.0759036 (acc: 0.9792)\n",
      "Epoch: 49/65:\n",
      "      - Training loss: 0.0224769 (acc: 0.993936)\n",
      "      - Validation loss: 0.0764652 (acc: 0.978)\n",
      "Epoch: 50/65:\n",
      "      - Training loss: 0.0218355 (acc: 0.994355)\n",
      "      - Validation loss: 0.0752367 (acc: 0.979)\n",
      "Epoch: 51/65:\n",
      "      - Training loss: 0.0216203 (acc: 0.994081)\n",
      "      - Validation loss: 0.0757335 (acc: 0.9794)\n",
      "Epoch: 52/65:\n",
      "      - Training loss: 0.0208341 (acc: 0.994464)\n",
      "      - Validation loss: 0.0732965 (acc: 0.9794)\n",
      "Epoch: 53/65:\n",
      "      - Training loss: 0.0200157 (acc: 0.994701)\n",
      "      - Validation loss: 0.0759892 (acc: 0.979)\n",
      "Epoch: 54/65:\n",
      "      - Training loss: 0.0195612 (acc: 0.994555)\n",
      "      - Validation loss: 0.0757811 (acc: 0.9792)\n",
      "Epoch: 55/65:\n",
      "      - Training loss: 0.0190341 (acc: 0.994846)\n",
      "      - Validation loss: 0.0743388 (acc: 0.9788)\n",
      "Epoch: 56/65:\n",
      "      - Training loss: 0.0186199 (acc: 0.994919)\n",
      "      - Validation loss: 0.0749674 (acc: 0.979)\n",
      "Epoch: 57/65:\n",
      "      - Training loss: 0.0179162 (acc: 0.995138)\n",
      "      - Validation loss: 0.0737356 (acc: 0.9784)\n",
      "Epoch: 58/65:\n",
      "      - Training loss: 0.0174152 (acc: 0.995429)\n",
      "      - Validation loss: 0.0734713 (acc: 0.9802)\n",
      "Epoch: 59/65:\n",
      "      - Training loss: 0.01712 (acc: 0.995447)\n",
      "      - Validation loss: 0.0743289 (acc: 0.9796)\n",
      "Epoch: 60/65:\n",
      "      - Training loss: 0.0166627 (acc: 0.995502)\n",
      "      - Validation loss: 0.0730238 (acc: 0.9806)\n",
      "Epoch: 61/65:\n",
      "      - Training loss: 0.0166937 (acc: 0.995593)\n",
      "      - Validation loss: 0.0738687 (acc: 0.9802)\n",
      "Epoch: 62/65:\n",
      "      - Training loss: 0.0158206 (acc: 0.995793)\n",
      "      - Validation loss: 0.0751768 (acc: 0.9788)\n",
      "Epoch: 63/65:\n",
      "      - Training loss: 0.0153402 (acc: 0.995811)\n",
      "      - Validation loss: 0.0731574 (acc: 0.9802)\n",
      "Epoch: 64/65:\n",
      "      - Training loss: 0.0152097 (acc: 0.995611)\n",
      "      - Validation loss: 0.07473 (acc: 0.9798)\n",
      "Epoch: 65/65:\n",
      "      - Training loss: 0.0145993 (acc: 0.996012)\n",
      "      - Validation loss: 0.0722169 (acc: 0.9804)\n"
     ]
    }
   ],
   "source": [
    "info = {'train':[], 'validation':[], 'train_acc':[], 'validation_acc':[]}\n",
    "\n",
    "session.run(tf.global_variables_initializer())\n",
    "for epoch in range(epochs):\n",
    "    mini_batches = prepare_mini_batches(trainX, trainY, batch_size)\n",
    "\n",
    "    epoch_losses = []\n",
    "    epoch_accuracy = []\n",
    "    while mini_batches:\n",
    "        data_inputs, data_labels = mini_batches.pop()\n",
    "\n",
    "        session.run(optimizer,\n",
    "                    feed_dict={inputs_: data_inputs, \n",
    "                               targets_: data_labels, \n",
    "                               learning_rate_: learning_rate,\n",
    "                               keep_prob_: keep_prob})\n",
    "\n",
    "        batch_loss = session.run(loss_function, feed_dict={inputs_: data_inputs, \n",
    "                                                           targets_: data_labels,\n",
    "                                                           keep_prob_: 1.})\n",
    "\n",
    "        batch_acc = session.run(accuracy, feed_dict={inputs_:data_inputs, \n",
    "                                                     targets_: data_labels,\n",
    "                                                     keep_prob_: 1.})\n",
    "        batch_acc = np.mean(batch_acc)\n",
    "\n",
    "        epoch_losses.append(batch_loss)\n",
    "        epoch_accuracy.append(batch_acc)\n",
    "\n",
    "    train_loss = np.mean(epoch_losses)\n",
    "    info['train'].append(train_loss)\n",
    "\n",
    "    train_accuracy = np.mean(epoch_accuracy)\n",
    "    info['train_acc'].append(train_accuracy)\n",
    "\n",
    "    val_loss = session.run(loss_function, feed_dict={inputs_: valX, \n",
    "                                                     targets_: valY,\n",
    "                                                     keep_prob_: 1.})\n",
    "    info['validation'].append(val_loss)\n",
    "\n",
    "    val_accuracy = session.run(accuracy, feed_dict={inputs_: valX, \n",
    "                                                    targets_: valY,\n",
    "                                                    keep_prob_: 1.})\n",
    "    val_accuracy = np.mean(val_accuracy)\n",
    "    info['validation_acc'].append(val_accuracy)\n",
    "\n",
    "    print(\"Epoch: \" + str(epoch + 1) + \"/\" + str(epochs) + \":\\n\"\n",
    "          + \"      - Training loss: \" + str(train_loss) + \" (acc: \" + str(train_accuracy) + \")\\n\"\n",
    "          + \"      - Validation loss: \" + str(val_loss) + \" (acc: \" + str(val_accuracy) + \")\")"
   ]
  },
  {
   "cell_type": "markdown",
   "metadata": {},
   "source": [
    "#### Results"
   ]
  },
  {
   "cell_type": "code",
   "execution_count": 18,
   "metadata": {},
   "outputs": [
    {
     "data": {
      "image/png": "[encoded data removed]",
      "text/plain": [
       "<matplotlib.figure.Figure at 0x12b4b2940>"
      ]
     },
     "metadata": {},
     "output_type": "display_data"
    }
   ],
   "source": [
    "fig1 = plt.figure()\n",
    "ax1 = fig1.add_subplot(111)\n",
    "ax1.plot(info['train_acc'], label='Training acc')\n",
    "ax1.plot(info['validation_acc'], label='Validation acc')\n",
    "blue_patch = mpatches.Patch(color='#699cef', label='Training accuracy')\n",
    "orange_patch = mpatches.Patch(color='orange', label='Validation accuracy')\n",
    "ax1.legend(handles=[blue_patch, orange_patch])\n",
    "plt.show()"
   ]
  },
  {
   "cell_type": "code",
   "execution_count": 19,
   "metadata": {},
   "outputs": [
    {
     "data": {
      "image/png": "[encoded data removed]",
      "text/plain": [
       "<matplotlib.figure.Figure at 0x12b581358>"
      ]
     },
     "metadata": {},
     "output_type": "display_data"
    }
   ],
   "source": [
    "fig1 = plt.figure()\n",
    "ax2 = fig1.add_subplot(111)\n",
    "ax2.plot(info['train'], label='Training loss')\n",
    "ax2.plot(info['validation'], label='Validation loss')\n",
    "blue_patch = mpatches.Patch(color='#699cef', label='Training cross-entropy')\n",
    "orange_patch = mpatches.Patch(color='orange', label='Validation cross-entropy')\n",
    "ax2.legend(handles=[blue_patch, orange_patch])\n",
    "plt.show()"
   ]
  },
  {
   "cell_type": "code",
   "execution_count": 20,
   "metadata": {},
   "outputs": [
    {
     "name": "stdout",
     "output_type": "stream",
     "text": [
      "Test dataset accuracy: 0.9823\n"
     ]
    }
   ],
   "source": [
    "test_accuracy = accuracy.eval(session=session, \n",
    "                              feed_dict={inputs_: testX, targets_: testY, keep_prob_: 1.})\n",
    "test_accuracy = np.mean(test_accuracy)\n",
    "print(\"Test dataset accuracy: \" + str(test_accuracy))"
   ]
  },
  {
   "cell_type": "code",
   "execution_count": 21,
   "metadata": {
    "collapsed": true
   },
   "outputs": [],
   "source": [
    "session.close()"
   ]
  }
 ],
 "metadata": {
  "kernelspec": {
   "display_name": "Python 3",
   "language": "python",
   "name": "python3"
  },
  "language_info": {
   "codemirror_mode": {
    "name": "ipython",
    "version": 3
   },
   "file_extension": ".py",
   "mimetype": "text/x-python",
   "name": "python",
   "nbconvert_exporter": "python",
   "pygments_lexer": "ipython3",
   "version": "3.6.1"
  }
 },
 "nbformat": 4,
 "nbformat_minor": 2
}
