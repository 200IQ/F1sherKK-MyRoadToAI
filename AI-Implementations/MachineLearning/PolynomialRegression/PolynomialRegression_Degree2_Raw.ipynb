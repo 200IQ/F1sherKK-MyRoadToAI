{
 "cells": [
  {
   "cell_type": "markdown",
   "metadata": {},
   "source": [
    "In this notebook I will want to implement PolynomialRegression from scratch. This implementation should not be used for real problems as it's slower than excelent available tools like e.g. sci-kit learn."
   ]
  },
  {
   "cell_type": "code",
   "execution_count": 1,
   "metadata": {
    "collapsed": true
   },
   "outputs": [],
   "source": [
    "from sklearn import linear_model\n",
    "\n",
    "%matplotlib inline \n",
    "from mpl_toolkits.mplot3d import Axes3D\n",
    "import matplotlib\n",
    "import matplotlib.pyplot as plt\n",
    "\n",
    "import numpy as np "
   ]
  },
  {
   "cell_type": "markdown",
   "metadata": {},
   "source": [
    "### Constants"
   ]
  },
  {
   "cell_type": "code",
   "execution_count": 2,
   "metadata": {
    "collapsed": true
   },
   "outputs": [],
   "source": [
    "DATA_NUM = 300\n",
    "DATA_DEGREE = 2"
   ]
  },
  {
   "cell_type": "markdown",
   "metadata": {},
   "source": [
    "### Generate problem"
   ]
  },
  {
   "cell_type": "code",
   "execution_count": 3,
   "metadata": {
    "collapsed": true
   },
   "outputs": [],
   "source": [
    "def generate_polynomial_regression_problem(samples_num, degree):\n",
    "    \"\"\"Generates 'samples_num' points that can be easily generalized and fit with usage of\n",
    "    Polynomial Regression algorithm.\n",
    "    \n",
    "    Arguments:\n",
    "    ---------\n",
    "    samples_num: int\n",
    "        Numer of points that should be generated.\n",
    "    degree: int\n",
    "        The power of the polynomial.\n",
    "    \"\"\"\n",
    "    \n",
    "    def _polynomial_function(x_values, degree, function_param_min, function_param_max):\n",
    "        \"\"\"For each value in list 'x_values' returns value which corresponds to equation:\n",
    "            \n",
    "               f(x) = param[0] + param[1] * x + param[2] * x^2 + ... param[degree] + x^degree \n",
    "            \n",
    "           where 'param' is a random float number from range <function_param_min, function_param_max).\n",
    "        \"\"\"\n",
    "        function_parameters = list()\n",
    "\n",
    "        for i in range(1, degree + 1):\n",
    "            function_parameters.append((np.random.uniform(function_param_min, function_param_max), i))\n",
    "\n",
    "        y_values = list()\n",
    "        for x in x_values:\n",
    "            y = 0\n",
    "            for parameter in function_parameters:\n",
    "                y += parameter[0] * np.power(x, parameter[1])\n",
    "            y_values.append(y)\n",
    "\n",
    "        return y_values\n",
    "    \n",
    "    def _add_noise(values):\n",
    "        \"\"\"Adds noise to each value in list 'values' according to equation:\n",
    "        \n",
    "               value += value * random value from range (-0.1, 0.1>\n",
    "        \"\"\"\n",
    "        noised_values = list()\n",
    "        for val in values:\n",
    "            noised_val = val + np.max(values) * np.random.uniform(-0.1, 0.1)\n",
    "            noised_values.append(noised_val)\n",
    "\n",
    "        return noised_values\n",
    "    \n",
    "    x_values = [np.random.uniform(-10, 10) for _ in range(samples_num)]\n",
    "    \n",
    "    y_values = _polynomial_function(x_values, degree, -15 , 15)\n",
    "    y_values = _add_noise(y_values)\n",
    "    \n",
    "    return np.array(x_values).reshape(-1, 1), np.array((y_values)).reshape(-1, 1)"
   ]
  },
  {
   "cell_type": "code",
   "execution_count": 4,
   "metadata": {},
   "outputs": [
    {
     "data": {
      "image/png": "[encoded data removed]",
      "text/plain": [
       "<matplotlib.figure.Figure at 0x110cf1dd8>"
      ]
     },
     "metadata": {},
     "output_type": "display_data"
    }
   ],
   "source": [
    "# Generating values 'X' and labels 'y'\n",
    "X, y = generate_polynomial_regression_problem(DATA_NUM, DATA_DEGREE)\n",
    "\n",
    "# Presenting generated data\n",
    "plt.scatter(X, y, s=15)\n",
    "plt.title(\"Polynomial Regression Problem of Degree 2 - to fit\")\n",
    "plt.xlabel(\"X values\")\n",
    "plt.ylabel(\"y values\")\n",
    "plt.show()"
   ]
  },
  {
   "cell_type": "markdown",
   "metadata": {},
   "source": [
    "### Polynomial Regression - Raw implementation"
   ]
  },
  {
   "cell_type": "code",
   "execution_count": 5,
   "metadata": {
    "collapsed": true
   },
   "outputs": [],
   "source": [
    "class PolynomialRegression:\n",
    "    \"\"\"Polynomial Regression model.\n",
    "    \n",
    "    Arguments:\n",
    "    ---------\n",
    "    degree: int\n",
    "        The power of the polynomial that should be used to fit data X.\n",
    "    iterations: int\n",
    "        Number of Gradient Descent Steps that will be performed in order to change weights of\n",
    "        linear model\n",
    "    learning_rate: float\n",
    "        Weight applied for Gradient Descent Step during updating weights. (default: 0.001)\n",
    "    regularization_factor: float\n",
    "        Value that will be increasing impact that large weights value has on model during\n",
    "        Gradient Descent in order to optimize their shrinkage.\n",
    "    normalize: boolean\n",
    "        Flag for normalization. If set to true data will be scaled to values which mean is close\n",
    "        to 0 and standard deviation close to 1. \n",
    "    verbose: boolean\n",
    "        Flag for debugging. If set to true then error values achieved by model during training\n",
    "        cycle will be displayed.\n",
    "    \"\"\"\n",
    "    def __init__(self, degree, iterations, regularization_factor=0.0, learning_rate=0.001, \n",
    "                 normalize=False, verbose=False):\n",
    "        self.w = None\n",
    "        self._normalize_mean = None\n",
    "        self._normalize_std = None\n",
    "        \n",
    "        self.error_history = list()\n",
    "        self.degree = degree\n",
    "        self.iterations = iterations\n",
    "        self.learning_rate = learning_rate\n",
    "        self.reg_factor = regularization_factor\n",
    "        self.normalize = normalize\n",
    "        self.verbose = verbose\n",
    "        \n",
    "        \n",
    "    def fit(self, X, y):\n",
    "        \"\"\"Function that is adjusting Polynomial Regression Model weights 'w' to inserted data 'X'\n",
    "        according to target values 'y'.\"\"\"\n",
    "        \n",
    "        # Ensure data is float type\n",
    "        X = X.astype(np.float32)\n",
    "        y = y.astype(np.float32)\n",
    "        \n",
    "        if self.normalize:\n",
    "            # Scaling X values\n",
    "            self._normalize_mean = X.mean()\n",
    "            self._normalize_std = X.std()\n",
    "            X = self._normalize(X)\n",
    "        \n",
    "        # Insert bias and polynomial values\n",
    "        X = np.column_stack([X**d for d in range(self.degree + 1)])\n",
    "        \n",
    "        # Creating weight for each feature in dataset\n",
    "        self.w = np.zeros((X.shape[1], 1))\n",
    "        \n",
    "      # Updating weights by Gradient Descent\n",
    "        for i in range(self.iterations):\n",
    "            \n",
    "            # Gradient step - Calculating gradient\n",
    "            pred = np.dot(X, self.w)\n",
    "            gradient = (1 / len(X)) * (np.dot(X.T, pred - y) + self.reg_factor * self.w)\n",
    "            \n",
    "            # Gradient ste - Updating weights\n",
    "            self.w = self.w - self.learning_rate * gradient\n",
    "            \n",
    "            # Calculating error for new weights\n",
    "            error = self._mse(X, y, self.reg_factor)\n",
    "            self.error_history.append(error)\n",
    "            \n",
    "            # Displaying learning progress every 100 iterations\n",
    "            if self.verbose and i % 100 == 0:\n",
    "                print(\"Iteration no. \" + str(i) + \", error: \" + str(error))\n",
    "    \n",
    "    def _normalize(self, X):\n",
    "        \"\"\"Feature scaling for input matrix 'X' for avoiding gradient overflow.\"\"\"\n",
    "        return (X - self._normalize_mean) / self._normalize_std\n",
    "        \n",
    "        \n",
    "    def _mse(self, X, y, reg_factor):\n",
    "        \"\"\"Implementation of Mean Squared Errors - cost function for monitoring how Polynomial Model\n",
    "        is performing with current 'w' values\"\"\"\n",
    "        \n",
    "        # Calculatin Mean Squared Error\n",
    "        pred = np.dot(X, self.w)\n",
    "        mean_square_error = (1 / (2 * len(X))) * np.sum(np.square(pred - y))\n",
    "        \n",
    "        # Adding Regularization to cost function\n",
    "        regularization = self.reg_factor * np.square(self.w)\n",
    "        regularization[0][0] = 0\n",
    "        regularization = (1 / (2 * len(X))) * np.sum(regularization)\n",
    "        \n",
    "        return mean_square_error + regularization\n",
    "                \n",
    "    def predict(self, X):\n",
    "        \"\"\"Functions that takes feature values 'X' and returns predictions with usage of \n",
    "        current 'w' values\"\"\"\n",
    "        \n",
    "        # Ensure data is float type\n",
    "        X = X.astype(np.float32)\n",
    "        \n",
    "        if self.normalize:\n",
    "            # Scaling X values\n",
    "            X = self._normalize(X)\n",
    "            \n",
    "        # Insert bias and polynomial values\n",
    "        X = np.column_stack([X**d for d in range(self.degree + 1)])\n",
    "        \n",
    "        pred = np.dot(X, self.w)\n",
    "        return pred\n",
    "        "
   ]
  },
  {
   "cell_type": "markdown",
   "metadata": {},
   "source": [
    "### Training model to fit generated data"
   ]
  },
  {
   "cell_type": "markdown",
   "metadata": {},
   "source": [
    "Hyperparameters\n"
   ]
  },
  {
   "cell_type": "code",
   "execution_count": 6,
   "metadata": {
    "collapsed": true
   },
   "outputs": [],
   "source": [
    "iterations = 10000"
   ]
  },
  {
   "cell_type": "markdown",
   "metadata": {},
   "source": [
    "Fitting to generated data"
   ]
  },
  {
   "cell_type": "code",
   "execution_count": 7,
   "metadata": {},
   "outputs": [
    {
     "name": "stdout",
     "output_type": "stream",
     "text": [
      "Iteration no. 0, error: 33337.6595452\n",
      "Iteration no. 100, error: 21318.0520498\n",
      "Iteration no. 200, error: 13964.7302995\n",
      "Iteration no. 300, error: 9441.42356338\n",
      "Iteration no. 400, error: 6637.4865112\n",
      "Iteration no. 500, error: 4880.71090253\n",
      "Iteration no. 600, error: 3763.87552918\n",
      "Iteration no. 700, error: 3039.97631054\n",
      "Iteration no. 800, error: 2558.93083388\n",
      "Iteration no. 900, error: 2229.33033419\n",
      "Iteration no. 1000, error: 1995.32001885\n",
      "Iteration no. 1100, error: 1822.61802054\n",
      "Iteration no. 1200, error: 1690.05581142\n",
      "Iteration no. 1300, error: 1584.45549424\n",
      "Iteration no. 1400, error: 1497.52443655\n",
      "Iteration no. 1500, error: 1423.97009428\n",
      "Iteration no. 1600, error: 1360.35334512\n",
      "Iteration no. 1700, error: 1304.38919114\n",
      "Iteration no. 1800, error: 1254.51878714\n",
      "Iteration no. 1900, error: 1209.64628864\n",
      "Iteration no. 2000, error: 1168.97603703\n",
      "Iteration no. 2100, error: 1131.91100254\n",
      "Iteration no. 2200, error: 1097.98877053\n",
      "Iteration no. 2300, error: 1066.84065377\n",
      "Iteration no. 2400, error: 1038.16514526\n",
      "Iteration no. 2500, error: 1011.71034053\n",
      "Iteration no. 2600, error: 987.262031884\n",
      "Iteration no. 2700, error: 964.63543881\n",
      "Iteration no. 2800, error: 943.669308532\n",
      "Iteration no. 2900, error: 924.221592071\n",
      "Iteration no. 3000, error: 906.166191125\n",
      "Iteration no. 3100, error: 889.390450614\n",
      "Iteration no. 3200, error: 873.793183742\n",
      "Iteration no. 3300, error: 859.283087001\n",
      "Iteration no. 3400, error: 845.777447667\n",
      "Iteration no. 3500, error: 833.201075483\n",
      "Iteration no. 3600, error: 821.48540958\n",
      "Iteration no. 3700, error: 810.56776463\n",
      "Iteration no. 3800, error: 800.390689199\n",
      "Iteration no. 3900, error: 790.901415589\n",
      "Iteration no. 4000, error: 782.05138502\n",
      "Iteration no. 4100, error: 773.795835373\n",
      "Iteration no. 4200, error: 766.09344126\n",
      "Iteration no. 4300, error: 758.905998153\n",
      "Iteration no. 4400, error: 752.198143808\n",
      "Iteration no. 4500, error: 745.937111448\n",
      "Iteration no. 4600, error: 740.09251012\n",
      "Iteration no. 4700, error: 734.636128419\n",
      "Iteration no. 4800, error: 729.541758401\n",
      "Iteration no. 4900, error: 724.785037034\n",
      "Iteration no. 5000, error: 720.343302934\n",
      "Iteration no. 5100, error: 716.195466507\n",
      "Iteration no. 5200, error: 712.321891875\n",
      "Iteration no. 5300, error: 708.704289245\n",
      "Iteration no. 5400, error: 705.325616523\n",
      "Iteration no. 5500, error: 702.169989185\n",
      "Iteration no. 5600, error: 699.222597543\n",
      "Iteration no. 5700, error: 696.469630634\n",
      "Iteration no. 5800, error: 693.898206106\n",
      "Iteration no. 5900, error: 691.496305509\n",
      "Iteration no. 6000, error: 689.252714501\n",
      "Iteration no. 6100, error: 687.156967521\n",
      "Iteration no. 6200, error: 685.199296544\n",
      "Iteration no. 6300, error: 683.370583566\n",
      "Iteration no. 6400, error: 681.662316506\n",
      "Iteration no. 6500, error: 680.066548255\n",
      "Iteration no. 6600, error: 678.575858611\n",
      "Iteration no. 6700, error: 677.183318885\n",
      "Iteration no. 6800, error: 675.882458963\n",
      "Iteration no. 6900, error: 674.667236648\n",
      "Iteration no. 7000, error: 673.532009103\n",
      "Iteration no. 7100, error: 672.471506248\n",
      "Iteration no. 7200, error: 671.480805968\n",
      "Iteration no. 7300, error: 670.555310995\n",
      "Iteration no. 7400, error: 669.690727359\n",
      "Iteration no. 7500, error: 668.883044281\n",
      "Iteration no. 7600, error: 668.128515425\n",
      "Iteration no. 7700, error: 667.423641394\n",
      "Iteration no. 7800, error: 666.765153406\n",
      "Iteration no. 7900, error: 666.149998053\n",
      "Iteration no. 8000, error: 665.575323076\n",
      "Iteration no. 8100, error: 665.038464083\n",
      "Iteration no. 8200, error: 664.536932158\n",
      "Iteration no. 8300, error: 664.068402281\n",
      "Iteration no. 8400, error: 663.63070252\n",
      "Iteration no. 8500, error: 663.221803939\n",
      "Iteration no. 8600, error: 662.839811175\n",
      "Iteration no. 8700, error: 662.482953634\n",
      "Iteration no. 8800, error: 662.149577269\n",
      "Iteration no. 8900, error: 661.838136907\n",
      "Iteration no. 9000, error: 661.547189075\n",
      "Iteration no. 9100, error: 661.275385302\n",
      "Iteration no. 9200, error: 661.021465868\n",
      "Iteration no. 9300, error: 660.784253952\n",
      "Iteration no. 9400, error: 660.562650184\n",
      "Iteration no. 9500, error: 660.355627538\n",
      "Iteration no. 9600, error: 660.162226574\n",
      "Iteration no. 9700, error: 659.981550989\n",
      "Iteration no. 9800, error: 659.812763461\n",
      "Iteration no. 9900, error: 659.655081766\n"
     ]
    }
   ],
   "source": [
    "polynomial_regression_model = PolynomialRegression(DATA_DEGREE, iterations, normalize=True, verbose=True)\n",
    "polynomial_regression_model.fit(X, y)"
   ]
  },
  {
   "cell_type": "markdown",
   "metadata": {},
   "source": [
    "Training results"
   ]
  },
  {
   "cell_type": "code",
   "execution_count": 8,
   "metadata": {},
   "outputs": [
    {
     "name": "stdout",
     "output_type": "stream",
     "text": [
      "[[   1.87843123]\n",
      " [  53.35849874]\n",
      " [ 183.88519695]]\n"
     ]
    }
   ],
   "source": [
    "# Trained weights of Polynomial Model of Degree 2 - w0 + w1 * x + w2 * x^2\n",
    "print(polynomial_regression_model.w)"
   ]
  },
  {
   "cell_type": "code",
   "execution_count": 9,
   "metadata": {},
   "outputs": [
    {
     "data": {
      "image/png": "[encoded data removed]",
      "text/plain": [
       "<matplotlib.figure.Figure at 0x115b2b3c8>"
      ]
     },
     "metadata": {},
     "output_type": "display_data"
    }
   ],
   "source": [
    "# Model learning history\n",
    "plt.plot(polynomial_regression_model.error_history)\n",
    "plt.title(\"Error per iteration\")\n",
    "plt.ylabel('MSE Error')\n",
    "plt.xlabel('Iteration')\n",
    "plt.show()"
   ]
  },
  {
   "cell_type": "code",
   "execution_count": 10,
   "metadata": {},
   "outputs": [
    {
     "data": {
      "image/png": "[encoded data removed]",
      "text/plain": [
       "<matplotlib.figure.Figure at 0x115d53780>"
      ]
     },
     "metadata": {},
     "output_type": "display_data"
    }
   ],
   "source": [
    "# Displaying dataset\n",
    "plt.scatter(X, y, s=15)\n",
    "\n",
    "# Displaying aproximated function\n",
    "function_x = np.arange(np.min(X), np.max(X), 0.01).reshape(-1, 1)\n",
    "\n",
    "plt.plot(function_x, polynomial_regression_model.predict(function_x), c=\"red\")\n",
    "plt.scatter(X, polynomial_regression_model.predict(X), s=20, c='red')\n",
    "\n",
    "plt.title(\"Regression line\")\n",
    "plt.xlabel(\"X values\")\n",
    "plt.ylabel(\"Y values\")\n",
    "plt.show()"
   ]
  }
 ],
 "metadata": {
  "kernelspec": {
   "display_name": "Python 3",
   "language": "python",
   "name": "python3"
  },
  "language_info": {
   "codemirror_mode": {
    "name": "ipython",
    "version": 3
   },
   "file_extension": ".py",
   "mimetype": "text/x-python",
   "name": "python",
   "nbconvert_exporter": "python",
   "pygments_lexer": "ipython3",
   "version": "3.6.1"
  }
 },
 "nbformat": 4,
 "nbformat_minor": 2
}
