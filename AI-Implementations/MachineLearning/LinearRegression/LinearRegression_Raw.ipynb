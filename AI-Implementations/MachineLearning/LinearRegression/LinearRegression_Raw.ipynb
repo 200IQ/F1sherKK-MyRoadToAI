{
 "cells": [
  {
   "cell_type": "markdown",
   "metadata": {},
   "source": [
    "In this notebook I want to present how Linear Regression algorithm works. This implementation should not be used for real problems as it's slower than excelent available tools like e.g. sci-kit learn."
   ]
  },
  {
   "cell_type": "code",
   "execution_count": 1,
   "metadata": {
    "collapsed": true
   },
   "outputs": [],
   "source": [
    "from sklearn.datasets import make_regression\n",
    "from sklearn import linear_model\n",
    "\n",
    "%matplotlib inline \n",
    "import matplotlib\n",
    "import matplotlib.pyplot as plt\n",
    "\n",
    "import numpy as np "
   ]
  },
  {
   "cell_type": "markdown",
   "metadata": {},
   "source": [
    "### Constants"
   ]
  },
  {
   "cell_type": "code",
   "execution_count": 2,
   "metadata": {
    "collapsed": true
   },
   "outputs": [],
   "source": [
    "DATA_NUM = 1000"
   ]
  },
  {
   "cell_type": "markdown",
   "metadata": {},
   "source": [
    "### Generate problem"
   ]
  },
  {
   "cell_type": "code",
   "execution_count": 3,
   "metadata": {
    "collapsed": true
   },
   "outputs": [],
   "source": [
    "def generate_linear_regression_problem(samples_num):\n",
    "    \"\"\"Function that uses 'make_regression' of sklearn as a core. It's purpose it to \n",
    "    generate point that can be aproximated by linear function. Returns tuple of data \n",
    "    and it's labels.\n",
    "    \n",
    "    Arguments:\n",
    "    ---------\n",
    "    samples_num: int\n",
    "        Numer of points that should be generated.\n",
    "    \"\"\"\n",
    "    bias = np.random.uniform(-5, 5)\n",
    "    data_noise = np.random.uniform(4, 8)\n",
    "    x_values, y_values = make_regression(n_samples=samples_num, n_features=1, noise=data_noise, \n",
    "                                         bias=bias)\n",
    "    \n",
    "    return x_values, y_values.reshape(-1, 1)"
   ]
  },
  {
   "cell_type": "code",
   "execution_count": 4,
   "metadata": {},
   "outputs": [
    {
     "data": {
      "image/png": "[encoded data removed]",
      "text/plain": [
       "<matplotlib.figure.Figure at 0x10b6c3f98>"
      ]
     },
     "metadata": {},
     "output_type": "display_data"
    }
   ],
   "source": [
    "# Generating values 'X' and labels 'y'\n",
    "X, y = generate_linear_regression_problem(DATA_NUM)\n",
    "\n",
    "# Presenting generated data\n",
    "plt.scatter(X, y, s=15)\n",
    "plt.title(\"Linear Regression Problem to fit\")\n",
    "plt.xlabel(\"X values\")\n",
    "plt.ylabel(\"y values\")\n",
    "plt.show()"
   ]
  },
  {
   "cell_type": "markdown",
   "metadata": {},
   "source": [
    "### Linear Regression -  Raw implementation"
   ]
  },
  {
   "cell_type": "code",
   "execution_count": 5,
   "metadata": {
    "collapsed": true
   },
   "outputs": [],
   "source": [
    "class LinearRegression:\n",
    "    \"\"\"Linear Regression model.\n",
    "    \n",
    "    Arguments:\n",
    "    ---------\n",
    "    iterations: int\n",
    "        Number of Gradient Descent Steps that will be performed in order to change weights of\n",
    "        linear model\n",
    "    learning_rate: float\n",
    "        Weight applied for Gradient Descent Step during updating weights. (default: 0.001)\n",
    "    regularization_factor: float\n",
    "        Value that will be increasing impact that large weights value has on model during\n",
    "        Gradient Descent in order to optimize their shrinkage.\n",
    "    normalize: boolean\n",
    "        Flag for normalization. If set to true data will be scaled to values which mean is close\n",
    "        to 0 and standard deviation close to 1. \n",
    "    verbose: boolean\n",
    "        Flag for debugging. If set to true then error values achieved by model during training\n",
    "        cycle will be displayed.\n",
    "    \"\"\"\n",
    "    def __init__(self, iterations, regularization_factor=0.0, learning_rate=0.001, normalize=False, \n",
    "                 verbose=False):\n",
    "        self.w = None\n",
    "        self._normalize_mean = None\n",
    "        self._normalize_std = None\n",
    "        \n",
    "        self.error_history = list()\n",
    "        self.iterations = iterations\n",
    "        self.learning_rate = learning_rate\n",
    "        self.reg_factor = regularization_factor\n",
    "        self.normalize = normalize\n",
    "        self.verbose = verbose\n",
    "        \n",
    "        \n",
    "    def fit(self, X, y):\n",
    "        \"\"\"Function that is adjusting Linear Regression Model weights 'w' to inserted data 'X'\n",
    "        according to target values 'y'.\"\"\"\n",
    "        \n",
    "        # Ensure data is float type\n",
    "        X = X.astype(np.float32)\n",
    "        y = y.astype(np.float32)\n",
    "        \n",
    "        if self.normalize:\n",
    "            # Scaling X values\n",
    "            self._normalize_mean = X.mean()\n",
    "            self._normalize_std = X.std()\n",
    "            X = self._normalize(X)\n",
    "        \n",
    "        # Insert 1 values in first row of data for bias\n",
    "        X = np.insert(X, 0, 1, axis=1)\n",
    "        \n",
    "        # Creating weight for each feature in dataset\n",
    "        self.w = np.zeros((X.shape[1], 1))\n",
    "        \n",
    "          # Updating weights by Gradient Descent\n",
    "        for i in range(self.iterations):\n",
    "            \n",
    "            # Gradient step - Calculating gradient\n",
    "            pred = np.dot(X, self.w)\n",
    "            gradient = (1 / len(X)) * (np.dot(X.T, pred - y) + self.reg_factor * self.w)\n",
    "            \n",
    "            # Gradient ste - Updating weights\n",
    "            self.w = self.w - self.learning_rate * gradient\n",
    "            \n",
    "            # Calculating error for new weights\n",
    "            error = self._mse(X, y, self.reg_factor)\n",
    "            self.error_history.append(error)\n",
    "            \n",
    "            # Displaying learning progress every 100 iterations\n",
    "            if self.verbose and i % 100 == 0:\n",
    "                print(\"Iteration no. \" + str(i) + \", error: \" + str(error))\n",
    "    \n",
    "    def _normalize(self, X):\n",
    "        \"\"\"Feature scaling for input matrix 'X' for avoiding gradient overflow.\"\"\"\n",
    "        return (X - self._normalize_mean) / self._normalize_std\n",
    "        \n",
    "        \n",
    "    def _mse(self, X, y, reg_factor):\n",
    "        \"\"\"Implementation of Mean Squared Errors - cost function for monitoring how Polynomial Model\n",
    "        is performing with current 'w' values\"\"\"\n",
    "        \n",
    "        # Calculatin Mean Squared Error\n",
    "        pred = np.dot(X, self.w)\n",
    "        mean_square_error = (1 / (2 * len(X))) * np.sum(np.square(pred - y))\n",
    "        \n",
    "        # Adding Regularization to cost function\n",
    "        regularization = self.reg_factor * np.square(self.w)\n",
    "        regularization[0][0] = 0\n",
    "        regularization = (1 / (2 * len(X))) * np.sum(regularization)\n",
    "        \n",
    "        return mean_square_error + regularization\n",
    "    \n",
    "    def predict(self, X):\n",
    "        \"\"\"Functions that takes feature values 'X' and returns predictions with usage of \n",
    "        current 'w' values\"\"\"\n",
    "        \n",
    "        # Ensure data is float type\n",
    "        X = X.astype(np.float32)\n",
    "        \n",
    "        if self.normalize:\n",
    "            # Scaling X values\n",
    "            X = self._normalize(X)\n",
    "        \n",
    "        # Insert 1 values in first row of data for bias\n",
    "        X = np.insert(X, 0, 1, axis=1)\n",
    "        pred = np.dot(X, self.w)\n",
    "        return pred\n",
    "        "
   ]
  },
  {
   "cell_type": "markdown",
   "metadata": {},
   "source": [
    "### Training model to fit generated data"
   ]
  },
  {
   "cell_type": "markdown",
   "metadata": {},
   "source": [
    "Hyperparameters\n"
   ]
  },
  {
   "cell_type": "code",
   "execution_count": 6,
   "metadata": {
    "collapsed": true
   },
   "outputs": [],
   "source": [
    "iterations = 5000"
   ]
  },
  {
   "cell_type": "markdown",
   "metadata": {},
   "source": [
    "Fitting to generated data"
   ]
  },
  {
   "cell_type": "code",
   "execution_count": 7,
   "metadata": {},
   "outputs": [
    {
     "name": "stdout",
     "output_type": "stream",
     "text": [
      "Iteration no. 0, error: 270.792937775\n",
      "Iteration no. 100, error: 226.644578467\n",
      "Iteration no. 200, error: 190.502575431\n",
      "Iteration no. 300, error: 160.914966653\n",
      "Iteration no. 400, error: 136.693105114\n",
      "Iteration no. 500, error: 116.863906318\n",
      "Iteration no. 600, error: 100.63075577\n",
      "Iteration no. 700, error: 87.3415059405\n",
      "Iteration no. 800, error: 76.4622770134\n",
      "Iteration no. 900, error: 67.5560088967\n",
      "Iteration no. 1000, error: 60.2649028543\n",
      "Iteration no. 1100, error: 54.2960473668\n",
      "Iteration no. 1200, error: 49.4096507593\n",
      "Iteration no. 1300, error: 45.4094078559\n",
      "Iteration no. 1400, error: 42.1346136522\n",
      "Iteration no. 1500, error: 39.4537071836\n",
      "Iteration no. 1600, error: 37.2589862189\n",
      "Iteration no. 1700, error: 35.462280452\n",
      "Iteration no. 1800, error: 33.9914093642\n",
      "Iteration no. 1900, error: 32.7872824577\n",
      "Iteration no. 2000, error: 31.8015253651\n",
      "Iteration no. 2100, error: 30.994536467\n",
      "Iteration no. 2200, error: 30.3338959435\n",
      "Iteration no. 2300, error: 29.7930633468\n",
      "Iteration no. 2400, error: 29.3503113701\n",
      "Iteration no. 2500, error: 28.9878529789\n",
      "Iteration no. 2600, error: 28.6911268383\n",
      "Iteration no. 2700, error: 28.4482123281\n",
      "Iteration no. 2800, error: 28.2493506467\n",
      "Iteration no. 2900, error: 28.0865527623\n",
      "Iteration no. 3000, error: 27.9532784635\n",
      "Iteration no. 3100, error: 27.8441736136\n",
      "Iteration no. 3200, error: 27.7548550551\n",
      "Iteration no. 3300, error: 27.681734521\n",
      "Iteration no. 3400, error: 27.6218744808\n",
      "Iteration no. 3500, error: 27.5728701284\n",
      "Iteration no. 3600, error: 27.5327527722\n",
      "Iteration no. 3700, error: 27.4999107453\n",
      "Iteration no. 3800, error: 27.4730246581\n",
      "Iteration no. 3900, error: 27.451014394\n",
      "Iteration no. 4000, error: 27.4329957169\n",
      "Iteration no. 4100, error: 27.4182447479\n",
      "Iteration no. 4200, error: 27.4061688842\n",
      "Iteration no. 4300, error: 27.3962829925\n",
      "Iteration no. 4400, error: 27.3881899187\n",
      "Iteration no. 4500, error: 27.3815645332\n",
      "Iteration no. 4600, error: 27.3761406691\n",
      "Iteration no. 4700, error: 27.3717004291\n",
      "Iteration no. 4800, error: 27.3680654317\n",
      "Iteration no. 4900, error: 27.3650896454\n"
     ]
    }
   ],
   "source": [
    "linear_regression_model = LinearRegression(iterations, normalize=True, verbose=True)\n",
    "linear_regression_model.fit(X, y)"
   ]
  },
  {
   "cell_type": "markdown",
   "metadata": {},
   "source": [
    "Training results"
   ]
  },
  {
   "cell_type": "code",
   "execution_count": 8,
   "metadata": {},
   "outputs": [
    {
     "name": "stdout",
     "output_type": "stream",
     "text": [
      "[[  1.88426892]\n",
      " [ 21.85798454]]\n"
     ]
    }
   ],
   "source": [
    "# Trained weights of Linear Model - w0 + w1 * x\n",
    "print(linear_regression_model.w)"
   ]
  },
  {
   "cell_type": "code",
   "execution_count": 9,
   "metadata": {},
   "outputs": [
    {
     "data": {
      "image/png": "[encoded data removed]",
      "text/plain": [
       "<matplotlib.figure.Figure at 0x10b6c3908>"
      ]
     },
     "metadata": {},
     "output_type": "display_data"
    }
   ],
   "source": [
    "# Model learning history\n",
    "plt.plot(linear_regression_model.error_history)\n",
    "plt.title(\"Error per iteration\")\n",
    "plt.ylabel('MSE Error')\n",
    "plt.xlabel('Iteration')\n",
    "plt.show()"
   ]
  },
  {
   "cell_type": "code",
   "execution_count": 10,
   "metadata": {},
   "outputs": [
    {
     "data": {
      "image/png": "[encoded data removed]",
      "text/plain": [
       "<matplotlib.figure.Figure at 0x10b747400>"
      ]
     },
     "metadata": {},
     "output_type": "display_data"
    }
   ],
   "source": [
    "# Displaying dataset\n",
    "plt.scatter(X, y, s=15)\n",
    "\n",
    "# Displaying aproximated function\n",
    "function_x = np.arange(np.min(X), np.max(X), 0.01).reshape(-1, 1)\n",
    "\n",
    "plt.plot(function_x, linear_regression_model.predict(function_x), c=\"red\")\n",
    "plt.scatter(X, linear_regression_model.predict(X), s=20, c='red')\n",
    "\n",
    "plt.title(\"Regression line\")\n",
    "plt.xlabel(\"X values\")\n",
    "plt.ylabel(\"Y values\")\n",
    "plt.show()"
   ]
  }
 ],
 "metadata": {
  "kernelspec": {
   "display_name": "Python 3",
   "language": "python",
   "name": "python3"
  },
  "language_info": {
   "codemirror_mode": {
    "name": "ipython",
    "version": 3
   },
   "file_extension": ".py",
   "mimetype": "text/x-python",
   "name": "python",
   "nbconvert_exporter": "python",
   "pygments_lexer": "ipython3",
   "version": "3.6.1"
  }
 },
 "nbformat": 4,
 "nbformat_minor": 2
}
