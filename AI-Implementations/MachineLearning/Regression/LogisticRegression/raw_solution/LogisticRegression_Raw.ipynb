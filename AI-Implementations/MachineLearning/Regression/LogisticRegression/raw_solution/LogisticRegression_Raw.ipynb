{
 "cells": [
  {
   "cell_type": "code",
   "execution_count": 1,
   "metadata": {
    "collapsed": true
   },
   "outputs": [],
   "source": [
    "import os\n",
    "import itertools\n",
    "import numpy as np\n",
    "import pandas as pd\n",
    "import matplotlib.pyplot as plt\n",
    "\n",
    "from itertools import combinations\n",
    "from IPython.display import Image\n",
    "from tqdm import tnrange, tqdm_notebook\n",
    "from time import sleep\n",
    "from random import shuffle\n",
    "\n",
    "pd.options.mode.chained_assignment = None\n",
    "\n",
    "%matplotlib inline"
   ]
  },
  {
   "cell_type": "markdown",
   "metadata": {},
   "source": [
    "### Constants"
   ]
  },
  {
   "cell_type": "code",
   "execution_count": 2,
   "metadata": {
    "collapsed": true
   },
   "outputs": [],
   "source": [
    "DATASET_DIR = \"./TytanicDisasterData/\"\n",
    "TRAIN_DATA_FILE = \"train.csv\"\n",
    "TEST_DATA_FILE = \"test.csv\""
   ]
  },
  {
   "cell_type": "markdown",
   "metadata": {},
   "source": [
    "### Dataset info\n",
    "\n",
    "- **Survived**: Outcome of survival (0 = No; 1 = Yes)\n",
    "- **Pclass**: Socio-economic class (1 = Upper class; 2 = Middle class; 3 = Lower class)\n",
    "- **Name**: Name of passenger\n",
    "- **Sex**: Sex of the passenger\n",
    "- **Age**: Age of the passenger (Some entries contain NaN)\n",
    "- **SibSp**: Number of siblings and spouses of the passenger aboard\n",
    "- **Parch**: Number of parents and children of the passenger aboard\n",
    "- **Ticket**: Ticket number of the passenger\n",
    "- **Fare**: Fare paid by the passenger\n",
    "- **Cabin**: Cabin number of the passenger (Some entries contain NaN)\n",
    "- **Embarked**: Port of embarkation of the passenger (C = Cherbourg; Q = Queenstown; S = Southampton)\n"
   ]
  },
  {
   "cell_type": "markdown",
   "metadata": {},
   "source": [
    "### Load data"
   ]
  },
  {
   "cell_type": "code",
   "execution_count": 3,
   "metadata": {
    "collapsed": true
   },
   "outputs": [],
   "source": [
    "df_train_raw = pd.read_csv(DATASET_DIR + TRAIN_DATA_FILE, engine=\"python\")\n",
    "df_test_raw = pd.read_csv(DATASET_DIR + TEST_DATA_FILE, engine=\"python\")"
   ]
  },
  {
   "cell_type": "markdown",
   "metadata": {},
   "source": [
    "### Analyze data"
   ]
  },
  {
   "cell_type": "markdown",
   "metadata": {},
   "source": [
    "Checking num of samples and features"
   ]
  },
  {
   "cell_type": "code",
   "execution_count": 4,
   "metadata": {},
   "outputs": [
    {
     "name": "stdout",
     "output_type": "stream",
     "text": [
      "Features: ['PassengerId', 'Survived', 'Pclass', 'Name', 'Sex', 'Age', 'SibSp', 'Parch', 'Ticket', 'Fare', 'Cabin', 'Embarked']\n",
      "Samples: 891\n"
     ]
    }
   ],
   "source": [
    "print(\"Features: {}\".format(list(df_train_raw.columns)))\n",
    "print(\"Samples: {}\".format(df_train_raw.shape[0]))"
   ]
  },
  {
   "cell_type": "code",
   "execution_count": 5,
   "metadata": {},
   "outputs": [
    {
     "data": {
      "text/html": [
       "<div>\n",
       "<style>\n",
       "    .dataframe thead tr:only-child th {\n",
       "        text-align: right;\n",
       "    }\n",
       "\n",
       "    .dataframe thead th {\n",
       "        text-align: left;\n",
       "    }\n",
       "\n",
       "    .dataframe tbody tr th {\n",
       "        vertical-align: top;\n",
       "    }\n",
       "</style>\n",
       "<table border=\"1\" class=\"dataframe\">\n",
       "  <thead>\n",
       "    <tr style=\"text-align: right;\">\n",
       "      <th></th>\n",
       "      <th>PassengerId</th>\n",
       "      <th>Survived</th>\n",
       "      <th>Pclass</th>\n",
       "      <th>Name</th>\n",
       "      <th>Sex</th>\n",
       "      <th>Age</th>\n",
       "      <th>SibSp</th>\n",
       "      <th>Parch</th>\n",
       "      <th>Ticket</th>\n",
       "      <th>Fare</th>\n",
       "      <th>Cabin</th>\n",
       "      <th>Embarked</th>\n",
       "    </tr>\n",
       "  </thead>\n",
       "  <tbody>\n",
       "    <tr>\n",
       "      <th>0</th>\n",
       "      <td>1</td>\n",
       "      <td>0</td>\n",
       "      <td>3</td>\n",
       "      <td>Braund, Mr. Owen Harris</td>\n",
       "      <td>male</td>\n",
       "      <td>22.0</td>\n",
       "      <td>1</td>\n",
       "      <td>0</td>\n",
       "      <td>A/5 21171</td>\n",
       "      <td>7.2500</td>\n",
       "      <td>NaN</td>\n",
       "      <td>S</td>\n",
       "    </tr>\n",
       "    <tr>\n",
       "      <th>1</th>\n",
       "      <td>2</td>\n",
       "      <td>1</td>\n",
       "      <td>1</td>\n",
       "      <td>Cumings, Mrs. John Bradley (Florence Briggs Th...</td>\n",
       "      <td>female</td>\n",
       "      <td>38.0</td>\n",
       "      <td>1</td>\n",
       "      <td>0</td>\n",
       "      <td>PC 17599</td>\n",
       "      <td>71.2833</td>\n",
       "      <td>C85</td>\n",
       "      <td>C</td>\n",
       "    </tr>\n",
       "    <tr>\n",
       "      <th>2</th>\n",
       "      <td>3</td>\n",
       "      <td>1</td>\n",
       "      <td>3</td>\n",
       "      <td>Heikkinen, Miss. Laina</td>\n",
       "      <td>female</td>\n",
       "      <td>26.0</td>\n",
       "      <td>0</td>\n",
       "      <td>0</td>\n",
       "      <td>STON/O2. 3101282</td>\n",
       "      <td>7.9250</td>\n",
       "      <td>NaN</td>\n",
       "      <td>S</td>\n",
       "    </tr>\n",
       "    <tr>\n",
       "      <th>3</th>\n",
       "      <td>4</td>\n",
       "      <td>1</td>\n",
       "      <td>1</td>\n",
       "      <td>Futrelle, Mrs. Jacques Heath (Lily May Peel)</td>\n",
       "      <td>female</td>\n",
       "      <td>35.0</td>\n",
       "      <td>1</td>\n",
       "      <td>0</td>\n",
       "      <td>113803</td>\n",
       "      <td>53.1000</td>\n",
       "      <td>C123</td>\n",
       "      <td>S</td>\n",
       "    </tr>\n",
       "    <tr>\n",
       "      <th>4</th>\n",
       "      <td>5</td>\n",
       "      <td>0</td>\n",
       "      <td>3</td>\n",
       "      <td>Allen, Mr. William Henry</td>\n",
       "      <td>male</td>\n",
       "      <td>35.0</td>\n",
       "      <td>0</td>\n",
       "      <td>0</td>\n",
       "      <td>373450</td>\n",
       "      <td>8.0500</td>\n",
       "      <td>NaN</td>\n",
       "      <td>S</td>\n",
       "    </tr>\n",
       "  </tbody>\n",
       "</table>\n",
       "</div>"
      ],
      "text/plain": [
       "   PassengerId  Survived  Pclass  \\\n",
       "0            1         0       3   \n",
       "1            2         1       1   \n",
       "2            3         1       3   \n",
       "3            4         1       1   \n",
       "4            5         0       3   \n",
       "\n",
       "                                                Name     Sex   Age  SibSp  \\\n",
       "0                            Braund, Mr. Owen Harris    male  22.0      1   \n",
       "1  Cumings, Mrs. John Bradley (Florence Briggs Th...  female  38.0      1   \n",
       "2                             Heikkinen, Miss. Laina  female  26.0      0   \n",
       "3       Futrelle, Mrs. Jacques Heath (Lily May Peel)  female  35.0      1   \n",
       "4                           Allen, Mr. William Henry    male  35.0      0   \n",
       "\n",
       "   Parch            Ticket     Fare Cabin Embarked  \n",
       "0      0         A/5 21171   7.2500   NaN        S  \n",
       "1      0          PC 17599  71.2833   C85        C  \n",
       "2      0  STON/O2. 3101282   7.9250   NaN        S  \n",
       "3      0            113803  53.1000  C123        S  \n",
       "4      0            373450   8.0500   NaN        S  "
      ]
     },
     "execution_count": 5,
     "metadata": {},
     "output_type": "execute_result"
    }
   ],
   "source": [
    "df_train_raw.head()"
   ]
  },
  {
   "cell_type": "markdown",
   "metadata": {},
   "source": [
    "#### PassengerId\n",
    "I believe number of passenger had nothing to do with survival probability."
   ]
  },
  {
   "cell_type": "markdown",
   "metadata": {},
   "source": [
    "#### Pclass\n",
    "If we assume that rooms of specific class was located in part of ship closer to boats then this parameter could had some connection with survival probability. "
   ]
  },
  {
   "cell_type": "code",
   "execution_count": 6,
   "metadata": {
    "collapsed": true
   },
   "outputs": [],
   "source": [
    "# Checking for NaN values in dataframe\n",
    "assert df_train_raw[\"Pclass\"].isnull().values.any() == False\n",
    "assert df_train_raw[\"Survived\"].isnull().values.any() == False\n",
    "assert df_test_raw[\"Pclass\"].isnull().values.any() == False"
   ]
  },
  {
   "cell_type": "code",
   "execution_count": 7,
   "metadata": {},
   "outputs": [
    {
     "name": "stdout",
     "output_type": "stream",
     "text": [
      "Unique values of Pclass parameter: {1, 2, 3}\n"
     ]
    }
   ],
   "source": [
    "print(\"Unique values of Pclass parameter: {}\".format(set(df_train_raw[\"Pclass\"].tolist())))"
   ]
  },
  {
   "cell_type": "code",
   "execution_count": 8,
   "metadata": {
    "collapsed": true
   },
   "outputs": [],
   "source": [
    "df_pclass_survived = pd.concat([df_train_raw.loc[(df_train_raw[\"Pclass\"] == 1)][\"Survived\"],\n",
    "                                df_train_raw.loc[(df_train_raw[\"Pclass\"] == 2)][\"Survived\"],\n",
    "                                df_train_raw.loc[(df_train_raw[\"Pclass\"] == 3)][\"Survived\"]],\n",
    "                               axis=1, keys=[\"Class 1 Survival\", \"Class 2 Survival\", \"Class 3 Survival\"])\n"
   ]
  },
  {
   "cell_type": "code",
   "execution_count": 9,
   "metadata": {},
   "outputs": [
    {
     "data": {
      "text/plain": [
       "<matplotlib.text.Text at 0x1105a8160>"
      ]
     },
     "execution_count": 9,
     "metadata": {},
     "output_type": "execute_result"
    },
    {
     "data": {
      "image/png": "[encoded data removed]",
      "text/plain": [
       "<matplotlib.figure.Figure at 0x11059b630>"
      ]
     },
     "metadata": {},
     "output_type": "display_data"
    }
   ],
   "source": [
    "ax = df_pclass_survived[[\"Class 1 Survival\", \"Class 2 Survival\", \"Class 3 Survival\"]].plot.hist(\n",
    "         bins=np.arange(len(set(df_train_raw[\"Survived\"].tolist())) + 1) - 0.5, \n",
    "         stacked=True, xticks=range(0, int(df_train_raw[\"Survived\"].max() + 1)), \n",
    "         title=\"Survivability by wealth class\", colormap=\"Set1\")\n",
    "\n",
    "ax.set_xlabel(\"0 - Death, 1 - Survival\")\n",
    "ax.set_ylabel(\"Number of people\")"
   ]
  },
  {
   "cell_type": "markdown",
   "metadata": {},
   "source": [
    "We can clearly see that the richer class the larger percent of whole group has survived. It may be connected to the fact rich people had some contact/power to grant themselves places in boats."
   ]
  },
  {
   "cell_type": "markdown",
   "metadata": {},
   "source": [
    "#### Name\n"
   ]
  },
  {
   "cell_type": "code",
   "execution_count": 10,
   "metadata": {},
   "outputs": [
    {
     "data": {
      "text/plain": [
       "0                               Braund, Mr. Owen Harris\n",
       "1     Cumings, Mrs. John Bradley (Florence Briggs Th...\n",
       "2                                Heikkinen, Miss. Laina\n",
       "3          Futrelle, Mrs. Jacques Heath (Lily May Peel)\n",
       "4                              Allen, Mr. William Henry\n",
       "5                                      Moran, Mr. James\n",
       "6                               McCarthy, Mr. Timothy J\n",
       "7                        Palsson, Master. Gosta Leonard\n",
       "8     Johnson, Mrs. Oscar W (Elisabeth Vilhelmina Berg)\n",
       "9                   Nasser, Mrs. Nicholas (Adele Achem)\n",
       "10                      Sandstrom, Miss. Marguerite Rut\n",
       "11                             Bonnell, Miss. Elizabeth\n",
       "12                       Saundercock, Mr. William Henry\n",
       "13                          Andersson, Mr. Anders Johan\n",
       "14                 Vestrom, Miss. Hulda Amanda Adolfina\n",
       "15                     Hewlett, Mrs. (Mary D Kingcome) \n",
       "16                                 Rice, Master. Eugene\n",
       "17                         Williams, Mr. Charles Eugene\n",
       "18    Vander Planke, Mrs. Julius (Emelia Maria Vande...\n",
       "19                              Masselmani, Mrs. Fatima\n",
       "Name: Name, dtype: object"
      ]
     },
     "execution_count": 10,
     "metadata": {},
     "output_type": "execute_result"
    }
   ],
   "source": [
    "df_train_raw[\"Name\"].head(20)"
   ]
  },
  {
   "cell_type": "markdown",
   "metadata": {},
   "source": [
    "Names should probably have some connection with survival probability - yet there is no information about those people in this dataset. It would need additional research on each persons history. \n",
    "\n",
    "But actually there might be another hint here. We have titles like \"Master\", \"Mr\", \"Miss\", \"Don\". We can get death ratio per class and average age of group."
   ]
  },
  {
   "cell_type": "code",
   "execution_count": 11,
   "metadata": {
    "collapsed": true
   },
   "outputs": [],
   "source": [
    "df_train_raw[\"Title\"] = df_train_raw[\"Name\"].apply(\n",
    "    lambda word: [w for w in word.split() if \".\" in w][0].replace(\".\", \"\"))\n",
    "\n",
    "df_test_raw[\"Title\"] = df_test_raw[\"Name\"].apply(\n",
    "    lambda word: [w for w in word.split() if \".\" in w][0].replace(\".\", \"\"))"
   ]
  },
  {
   "cell_type": "code",
   "execution_count": 12,
   "metadata": {},
   "outputs": [
    {
     "name": "stdout",
     "output_type": "stream",
     "text": [
      "Train: Unique values of Title parameter: {'Miss', 'Lady', 'Mr', 'Mrs', 'Mme', 'Rev', 'Sir', 'Jonkheer', 'Don', 'Dr', 'Countess', 'Capt', 'Ms', 'Major', 'Mlle', 'Col', 'Master'}\n"
     ]
    }
   ],
   "source": [
    "print(\"Train: Unique values of Title parameter: {}\".format(set(df_train_raw[\"Title\"])))"
   ]
  },
  {
   "cell_type": "code",
   "execution_count": 13,
   "metadata": {},
   "outputs": [
    {
     "name": "stdout",
     "output_type": "stream",
     "text": [
      "Test: Unique values of Title parameter: {'Miss', 'Mr', 'Mrs', 'Dona', 'Rev', 'Dr', 'Ms', 'Col', 'Master'}\n"
     ]
    }
   ],
   "source": [
    "print(\"Test: Unique values of Title parameter: {}\".format(set(df_test_raw[\"Title\"])))"
   ]
  },
  {
   "cell_type": "markdown",
   "metadata": {},
   "source": [
    "We have different number of titles in both dataframes. I will extract group of those which are present in both and change other groups to \"Other\"."
   ]
  },
  {
   "cell_type": "code",
   "execution_count": 14,
   "metadata": {
    "collapsed": true
   },
   "outputs": [],
   "source": [
    "# Extracting shared titles\n",
    "shared_titles = list()\n",
    "for train_title in set(df_train_raw[\"Title\"]):\n",
    "    for test_title in set(df_test_raw[\"Title\"]):\n",
    "        if train_title == test_title:\n",
    "            shared_titles.append(train_title)"
   ]
  },
  {
   "cell_type": "code",
   "execution_count": 15,
   "metadata": {},
   "outputs": [
    {
     "name": "stdout",
     "output_type": "stream",
     "text": [
      "Shared titles: ['Miss', 'Mr', 'Mrs', 'Rev', 'Dr', 'Ms', 'Col', 'Master']\n"
     ]
    }
   ],
   "source": [
    "print(\"Shared titles: {}\".format(shared_titles))"
   ]
  },
  {
   "cell_type": "code",
   "execution_count": 16,
   "metadata": {
    "collapsed": true
   },
   "outputs": [],
   "source": [
    "df_train_raw[\"Title\"] = df_train_raw[\"Title\"].apply(lambda x: x if x in shared_titles else \"Other\")\n",
    "df_test_raw[\"Title\"] = df_test_raw[\"Title\"].apply(lambda x: x if x in shared_titles else \"Other\")"
   ]
  },
  {
   "cell_type": "markdown",
   "metadata": {},
   "source": [
    "I will calculate average Age per Title:"
   ]
  },
  {
   "cell_type": "code",
   "execution_count": 17,
   "metadata": {
    "collapsed": true
   },
   "outputs": [],
   "source": [
    "df_title_age = df_train_raw.groupby(\"Title\", as_index=False)[\"Age\"].median()"
   ]
  },
  {
   "cell_type": "code",
   "execution_count": 18,
   "metadata": {
    "collapsed": true
   },
   "outputs": [],
   "source": [
    "title_age_map = dict()\n",
    "for index, row in df_title_age.iterrows():\n",
    "    title_age_map[row[\"Title\"]] = row[\"Age\"]"
   ]
  },
  {
   "cell_type": "markdown",
   "metadata": {},
   "source": [
    "#### Sex \n",
    "Should have impact on survivability. Men body from biological perspective is stronger. Taking cultural aspect into consideraction gentelmen prioritized safety of women. Additionaly in history - whenever there was some disaster/war, children and women were protected first."
   ]
  },
  {
   "cell_type": "code",
   "execution_count": 19,
   "metadata": {
    "collapsed": true
   },
   "outputs": [],
   "source": [
    "# Checking for NaN values in dataframe\n",
    "assert df_train_raw[\"Sex\"].isnull().values.any() == False\n",
    "assert df_test_raw[\"Sex\"].isnull().values.any() == False"
   ]
  },
  {
   "cell_type": "code",
   "execution_count": 20,
   "metadata": {},
   "outputs": [
    {
     "name": "stdout",
     "output_type": "stream",
     "text": [
      "Unique values of Sex parameter: {'female', 'male'}\n"
     ]
    }
   ],
   "source": [
    "print(\"Unique values of Sex parameter: {}\".format(set(df_train_raw[\"Sex\"].tolist())))"
   ]
  },
  {
   "cell_type": "code",
   "execution_count": 21,
   "metadata": {
    "collapsed": true
   },
   "outputs": [],
   "source": [
    "df_sex_survived = pd.concat([df_train_raw.loc[(df_train_raw[\"Sex\"] == \"female\")][\"Survived\"],\n",
    "                             df_train_raw.loc[(df_train_raw[\"Sex\"] == \"male\")][\"Survived\"]],\n",
    "                            axis=1, keys=[\"Female\", \"Male\"])"
   ]
  },
  {
   "cell_type": "code",
   "execution_count": 22,
   "metadata": {},
   "outputs": [
    {
     "data": {
      "text/plain": [
       "<matplotlib.text.Text at 0x1107d0630>"
      ]
     },
     "execution_count": 22,
     "metadata": {},
     "output_type": "execute_result"
    },
    {
     "data": {
      "image/png": "[encoded data removed]",
      "text/plain": [
       "<matplotlib.figure.Figure at 0x11060f048>"
      ]
     },
     "metadata": {},
     "output_type": "display_data"
    }
   ],
   "source": [
    "ax = df_sex_survived[[\"Female\", \"Male\"]].plot.hist(\n",
    "         bins=np.arange(len(set(df_train_raw[\"Survived\"].tolist())) + 1) - 0.5, stacked=True, \n",
    "         xticks=range(0, int(df_train_raw[\"Survived\"].max() + 1)), title=\"Survivability by sex\", \n",
    "         colormap=\"Set1\")\n",
    "\n",
    "ax.set_xlabel(\"0 - Death, 1 - Survival\")\n",
    "ax.set_ylabel(\"Number of people\")"
   ]
  },
  {
   "cell_type": "markdown",
   "metadata": {},
   "source": [
    "It is very clear that majority of women survived and men died. Therefore we can assume that women were given priority during evacuation."
   ]
  },
  {
   "cell_type": "markdown",
   "metadata": {},
   "source": [
    "#### Age\n",
    "Older people and children has less stamina, and power to push their way through or survive in running crowd. Age should be good parameter for predicting survival probability."
   ]
  },
  {
   "cell_type": "code",
   "execution_count": 23,
   "metadata": {
    "collapsed": true
   },
   "outputs": [],
   "source": [
    "# Checking for NaN values in dataframe\n",
    "# assert df_train_raw[\"Age\"].isnull().values.any() == False\n",
    "# assert df_test_raw[\"Age\"].isnull().values.any() == False"
   ]
  },
  {
   "cell_type": "markdown",
   "metadata": {},
   "source": [
    "There are null values in \"Age\" column. Perfoming dataset cleaning."
   ]
  },
  {
   "cell_type": "code",
   "execution_count": 24,
   "metadata": {},
   "outputs": [
    {
     "name": "stdout",
     "output_type": "stream",
     "text": [
      "Train: Number of Nan values in Age column: 177\n",
      "Test: Number of Nan values in Age column: 86\n"
     ]
    }
   ],
   "source": [
    "print(\"Train: Number of Nan values in Age column: {}\".format(df_train_raw[\"Age\"].isnull().sum()))\n",
    "print(\"Test: Number of Nan values in Age column: {}\".format(df_test_raw[\"Age\"].isnull().sum()))"
   ]
  },
  {
   "cell_type": "markdown",
   "metadata": {},
   "source": [
    "I will refill Age values with data retrieved from Title analysis."
   ]
  },
  {
   "cell_type": "code",
   "execution_count": 25,
   "metadata": {},
   "outputs": [
    {
     "name": "stdout",
     "output_type": "stream",
     "text": [
      "Train: Number of Nan values in Age column: 0\n"
     ]
    }
   ],
   "source": [
    "for index, row in df_train_raw.iterrows():\n",
    "    if np.isnan(row[\"Age\"]):\n",
    "        df_train_raw.set_value(index, \"Age\", title_age_map[row[\"Title\"]])\n",
    "        \n",
    "print(\"Train: Number of Nan values in Age column: {}\".format(df_train_raw[\"Age\"].isnull().sum()))"
   ]
  },
  {
   "cell_type": "code",
   "execution_count": 26,
   "metadata": {},
   "outputs": [
    {
     "name": "stdout",
     "output_type": "stream",
     "text": [
      "Test: Number of Nan values in Age column: 0\n"
     ]
    }
   ],
   "source": [
    "for index, row in df_test_raw.iterrows():\n",
    "    if pd.isnull(row[\"Age\"]):\n",
    "        df_test_raw.set_value(index, \"Age\", title_age_map[row[\"Title\"]])\n",
    "\n",
    "print(\"Test: Number of Nan values in Age column: {}\".format(df_test_raw[\"Age\"].isnull().sum()))"
   ]
  },
  {
   "cell_type": "code",
   "execution_count": 27,
   "metadata": {
    "collapsed": true
   },
   "outputs": [],
   "source": [
    "df_age_survived = pd.concat([df_train_raw.loc[(df_train_raw[\"Survived\"] == 0)][\"Age\"],\n",
    "                             df_train_raw.loc[(df_train_raw[\"Survived\"] == 1)][\"Age\"]],\n",
    "                            axis=1, keys=[\"Died\", \"Survived\"])"
   ]
  },
  {
   "cell_type": "code",
   "execution_count": 28,
   "metadata": {},
   "outputs": [
    {
     "data": {
      "text/plain": [
       "<matplotlib.text.Text at 0x110874320>"
      ]
     },
     "execution_count": 28,
     "metadata": {},
     "output_type": "execute_result"
    },
    {
     "data": {
      "image/png": "[encoded data removed]",
      "text/plain": [
       "<matplotlib.figure.Figure at 0x1107d0e48>"
      ]
     },
     "metadata": {},
     "output_type": "display_data"
    }
   ],
   "source": [
    "ax = df_age_survived[[\"Died\", \"Survived\"]].plot.hist(\n",
    "         bins=np.arange(int(df_train_raw[\"Age\"].max()) + 1) - 0.5, stacked=True, \n",
    "         xticks=range(0, int(df_train_raw[\"Age\"].max()) + 1), title=\"Survivability by Age\", colormap=\"Set1\",\n",
    "         figsize=(20,10))\n",
    "\n",
    "ax.set_xlabel(\"Age\")\n",
    "ax.set_ylabel(\"Number of people\")"
   ]
  },
  {
   "cell_type": "code",
   "execution_count": 29,
   "metadata": {
    "collapsed": true
   },
   "outputs": [],
   "source": [
    "deaths_in_percents_per_age = list()\n",
    "age_list = list(range(0, int(df_train_raw[\"Age\"].max()), 10))\n",
    "for i, age in enumerate(age_list):\n",
    "    if i == len(age_list) - 1:\n",
    "        deaths_per_age = df_age_survived.loc[(df_age_survived[\"Died\"] >= age_list[i])].shape[0]\n",
    "        people_num_per_age = df_train_raw.loc[(df_train_raw[\"Age\"] >= age_list[i])].shape[0]\n",
    "    else:\n",
    "        deaths_per_age = df_age_survived.loc[(df_age_survived[\"Died\"] >= age_list[i]) \n",
    "                                            & (df_age_survived[\"Died\"] < age_list[i+1])].shape[0]\n",
    "        people_num_per_age = df_train_raw.loc[(df_train_raw[\"Age\"] >= age_list[i])\n",
    "                                              & (df_train_raw[\"Age\"] < age_list[i+1])].shape[0]\n",
    "    \n",
    "    if people_num_per_age > 0:\n",
    "        percent = deaths_per_age * 100 / people_num_per_age\n",
    "    else:\n",
    "        percent = 0\n",
    "\n",
    "    deaths_in_percents_per_age.append(percent)"
   ]
  },
  {
   "cell_type": "code",
   "execution_count": 30,
   "metadata": {},
   "outputs": [
    {
     "data": {
      "text/plain": [
       "<matplotlib.text.Text at 0x11095ae10>"
      ]
     },
     "execution_count": 30,
     "metadata": {},
     "output_type": "execute_result"
    },
    {
     "data": {
      "image/png": "[encoded data removed]",
      "text/plain": [
       "<matplotlib.figure.Figure at 0x110a85630>"
      ]
     },
     "metadata": {},
     "output_type": "display_data"
    }
   ],
   "source": [
    "plt.plot(age_list, deaths_in_percents_per_age)\n",
    "plt.title(\"% of people died per age bucket\")\n",
    "plt.xlabel(\"Age\")\n",
    "plt.ylabel(\"% of people dead\")"
   ]
  },
  {
   "cell_type": "markdown",
   "metadata": {},
   "source": [
    "According to following graphs, we can say that death rate is much lower for children below 10 and much higher for people after 50 years old. "
   ]
  },
  {
   "cell_type": "markdown",
   "metadata": {},
   "source": [
    "**About ignored data**: there was case in which age of person was unknown. It will be impossible to feed it to Logistic Regression Algorithm but in case such case appear in testing data we could hardcore rule that if person is a female it should probably survived. "
   ]
  },
  {
   "cell_type": "markdown",
   "metadata": {},
   "source": [
    "#### SibSp - number of siblings and spouses"
   ]
  },
  {
   "cell_type": "markdown",
   "metadata": {},
   "source": [
    "I have no idea if this could have connection or not. Maybe if someone was in larger group then they helped each other rather than fighting to survive."
   ]
  },
  {
   "cell_type": "code",
   "execution_count": 31,
   "metadata": {
    "collapsed": true
   },
   "outputs": [],
   "source": [
    "# Checking for NaN values in dataframe\n",
    "assert df_train_raw[\"SibSp\"].isnull().values.any() == False\n",
    "assert df_test_raw[\"SibSp\"].isnull().values.any() == False"
   ]
  },
  {
   "cell_type": "code",
   "execution_count": 32,
   "metadata": {},
   "outputs": [
    {
     "name": "stdout",
     "output_type": "stream",
     "text": [
      "SibSp values: {0, 1, 2, 3, 4, 5, 8}\n"
     ]
    }
   ],
   "source": [
    "print(\"SibSp values: {}\".format(set(df_train_raw[\"SibSp\"].tolist())))"
   ]
  },
  {
   "cell_type": "code",
   "execution_count": 33,
   "metadata": {
    "collapsed": true
   },
   "outputs": [],
   "source": [
    "df_sibsp_survived = pd.concat([df_train_raw.loc[(df_train_raw[\"Survived\"] == 0)][\"SibSp\"],\n",
    "                               df_train_raw.loc[(df_train_raw[\"Survived\"] == 1)][\"SibSp\"]],\n",
    "                              axis=1, keys=[\"Died\", \"Survived\"])"
   ]
  },
  {
   "cell_type": "code",
   "execution_count": 34,
   "metadata": {},
   "outputs": [
    {
     "data": {
      "text/plain": [
       "<matplotlib.text.Text at 0x11151fc18>"
      ]
     },
     "execution_count": 34,
     "metadata": {},
     "output_type": "execute_result"
    },
    {
     "data": {
      "image/png": "[encoded data removed]",
      "text/plain": [
       "<matplotlib.figure.Figure at 0x110b47da0>"
      ]
     },
     "metadata": {},
     "output_type": "display_data"
    }
   ],
   "source": [
    "ax = df_sibsp_survived[[\"Died\", \"Survived\"]].plot.hist(\n",
    "         bins=np.arange(len(set(df_train_raw[\"SibSp\"].tolist())) + 1) - 0.5, stacked=True, \n",
    "         xticks=range(0, int(df_train_raw[\"SibSp\"].max() + 1)), title=\"Survivability by SibSp\", colormap=\"Set1\")\n",
    "\n",
    "ax.set_xlabel(\"Number of siblings and spouses\")\n",
    "ax.set_ylabel(\"Number of people\")"
   ]
  },
  {
   "cell_type": "markdown",
   "metadata": {},
   "source": [
    "People with less siblings/spouses has smaller death ratio than those in larger families. "
   ]
  },
  {
   "cell_type": "markdown",
   "metadata": {},
   "source": [
    "#### Parch\n",
    "Maybe someone wanted rather their children to be saved or parents rather than himself."
   ]
  },
  {
   "cell_type": "code",
   "execution_count": 35,
   "metadata": {
    "collapsed": true
   },
   "outputs": [],
   "source": [
    "# Checking for NaN values in dataframe\n",
    "assert df_train_raw[\"Parch\"].isnull().values.any() == False\n",
    "assert df_test_raw[\"Parch\"].isnull().values.any() == False"
   ]
  },
  {
   "cell_type": "code",
   "execution_count": 36,
   "metadata": {
    "collapsed": true
   },
   "outputs": [],
   "source": [
    "df_parch_survived = pd.concat([df_train_raw.loc[(df_train_raw[\"Survived\"] == 0)][\"Parch\"],\n",
    "                               df_train_raw.loc[(df_train_raw[\"Survived\"] == 1)][\"Parch\"]],\n",
    "                              axis=1, keys=[\"Died\", \"Survived\"])"
   ]
  },
  {
   "cell_type": "code",
   "execution_count": 37,
   "metadata": {},
   "outputs": [
    {
     "data": {
      "text/plain": [
       "<matplotlib.text.Text at 0x1116ddd30>"
      ]
     },
     "execution_count": 37,
     "metadata": {},
     "output_type": "execute_result"
    },
    {
     "data": {
      "image/png": "[encoded data removed]",
      "text/plain": [
       "<matplotlib.figure.Figure at 0x110a2aef0>"
      ]
     },
     "metadata": {},
     "output_type": "display_data"
    }
   ],
   "source": [
    "ax = df_parch_survived[[\"Died\", \"Survived\"]].plot.hist(\n",
    "         bins=np.arange(len(set(df_train_raw[\"Parch\"].tolist())) + 1) - 0.5, stacked=True, \n",
    "         xticks=range(0, int(df_train_raw[\"Parch\"].max() + 1)), title=\"Survivability by Parch\", colormap=\"Set1\")\n",
    "\n",
    "ax.set_xlabel(\"Number of parents and children abroad\")\n",
    "ax.set_ylabel(\"Number of people\")"
   ]
  },
  {
   "cell_type": "markdown",
   "metadata": {},
   "source": [
    "Again the larger group of pepople the smaller survivability ratio."
   ]
  },
  {
   "cell_type": "markdown",
   "metadata": {},
   "source": [
    "#### Companion"
   ]
  },
  {
   "cell_type": "markdown",
   "metadata": {},
   "source": [
    "Actually SibSp and Parch can be reduced to single parameter which says if someone was alone or not. Someone without parents/children/sibling/spouses was simply alone. And we can see in both parameters Parch and SibSp that the larger group of connected people the higher chance of death."
   ]
  },
  {
   "cell_type": "code",
   "execution_count": 38,
   "metadata": {
    "collapsed": true
   },
   "outputs": [],
   "source": [
    "df_train_raw[\"Companion\"] = df_train_raw[\"Parch\"] + df_train_raw[\"SibSp\"]\n",
    "df_test_raw[\"Companion\"] = df_test_raw[\"Parch\"] + df_test_raw[\"SibSp\"]"
   ]
  },
  {
   "cell_type": "code",
   "execution_count": 39,
   "metadata": {
    "collapsed": true
   },
   "outputs": [],
   "source": [
    "# Checking for NaN values in dataframe\n",
    "assert df_train_raw[\"Companion\"].isnull().values.any() == False\n",
    "assert df_test_raw[\"Companion\"].isnull().values.any() == False"
   ]
  },
  {
   "cell_type": "code",
   "execution_count": 40,
   "metadata": {
    "collapsed": true
   },
   "outputs": [],
   "source": [
    "df_companion_survived = pd.concat([df_train_raw.loc[(df_train_raw[\"Survived\"] == 0)][\"Companion\"],\n",
    "                                   df_train_raw.loc[(df_train_raw[\"Survived\"] == 1)][\"Companion\"]],\n",
    "                                  axis=1, keys=[\"Died\", \"Survived\"])"
   ]
  },
  {
   "cell_type": "code",
   "execution_count": 41,
   "metadata": {},
   "outputs": [
    {
     "data": {
      "text/plain": [
       "<matplotlib.text.Text at 0x110d1a9b0>"
      ]
     },
     "execution_count": 41,
     "metadata": {},
     "output_type": "execute_result"
    },
    {
     "data": {
      "image/png": "[encoded data removed]",
      "text/plain": [
       "<matplotlib.figure.Figure at 0x1116ddb38>"
      ]
     },
     "metadata": {},
     "output_type": "display_data"
    }
   ],
   "source": [
    "ax = df_companion_survived[[\"Died\", \"Survived\"]].plot.hist(\n",
    "         bins=np.arange(len(set(df_train_raw[\"Companion\"].tolist())) + 1) - 0.5,\n",
    "         stacked=True, xticks=range(0, int(df_train_raw[\"Companion\"].max() + 1)), \n",
    "         title=\"Survivability by Companion\", colormap=\"Set1\")\n",
    "\n",
    "ax.set_xlabel(\"Number of companions abroad\")\n",
    "ax.set_ylabel(\"Number of people\")"
   ]
  },
  {
   "cell_type": "markdown",
   "metadata": {
    "collapsed": true
   },
   "source": [
    "We can clearly see looking at gray areas that they are fading wien number of companions increases. That's good."
   ]
  },
  {
   "cell_type": "markdown",
   "metadata": {},
   "source": [
    "#### Family Size"
   ]
  },
  {
   "cell_type": "markdown",
   "metadata": {},
   "source": [
    "It is also possible to higlight some info about family size. Those with family size larger than 3 has much higher death ratio."
   ]
  },
  {
   "cell_type": "code",
   "execution_count": 42,
   "metadata": {
    "collapsed": true
   },
   "outputs": [],
   "source": [
    "df_train_raw[\"SmallFamily\"] = df_train_raw[\"Companion\"].apply(lambda x: 1 if 1 <= x <= 3 else 0)\n",
    "df_train_raw[\"LargeFamily\"] = df_train_raw[\"Companion\"].apply(lambda x: 1 if 4 <= x else 0)\n",
    "\n",
    "df_test_raw[\"SmallFamily\"] = df_train_raw[\"Companion\"].apply(lambda x: 1 if 1 <= x <= 3 else 0)\n",
    "df_test_raw[\"LargeFamily\"] = df_train_raw[\"Companion\"].apply(lambda x: 1 if 4 <= x else 0)"
   ]
  },
  {
   "cell_type": "markdown",
   "metadata": {},
   "source": [
    "#### Alone"
   ]
  },
  {
   "cell_type": "markdown",
   "metadata": {},
   "source": [
    "Another parameter possible to be engineered."
   ]
  },
  {
   "cell_type": "code",
   "execution_count": 43,
   "metadata": {
    "collapsed": true
   },
   "outputs": [],
   "source": [
    "df_train_raw[\"Alone\"] = df_train_raw[\"Companion\"].apply(lambda x: 1 if x == 0 else 0)\n",
    "df_test_raw[\"Alone\"] = df_train_raw[\"Companion\"].apply(lambda x: 1 if x == 0 else 0)"
   ]
  },
  {
   "cell_type": "markdown",
   "metadata": {},
   "source": [
    "#### Ticket & Fare\n",
    "There are only ticket names and prices. It won't probably be any use - but I wonder if staff of Titanic had any special ticket names or fares. There might be possibility that hey had to enter boats as last - because they help with saving people and that lead to their death."
   ]
  },
  {
   "cell_type": "code",
   "execution_count": 44,
   "metadata": {
    "collapsed": true
   },
   "outputs": [],
   "source": [
    "# Checking for NaN values in dataframe\n",
    "assert df_train_raw[\"Ticket\"].isnull().values.any() == False\n",
    "assert df_train_raw[\"Fare\"].isnull().values.any() == False\n",
    "assert df_test_raw[\"Ticket\"].isnull().values.any() == False\n",
    "# assert df_test_raw[\"Fare\"].isnull().values.any() == False"
   ]
  },
  {
   "cell_type": "markdown",
   "metadata": {},
   "source": [
    "Test data has \"Nan\" values in \"Fare\" field. Replacing with mean."
   ]
  },
  {
   "cell_type": "code",
   "execution_count": 45,
   "metadata": {
    "collapsed": true
   },
   "outputs": [],
   "source": [
    "df_test_raw[\"Fare\"].fillna(df_test_raw[\"Fare\"].mean(), inplace=True)"
   ]
  },
  {
   "cell_type": "code",
   "execution_count": 46,
   "metadata": {},
   "outputs": [
    {
     "name": "stdout",
     "output_type": "stream",
     "text": [
      "Ticket values: {'16966', '113803', '3101278', '26707', 'C.A. 34651', 'F.C.C. 13528', 'C.A. 33112', 'CA 2144', 'C 17369', '349240', 'STON/O 2. 3101294', 'C.A. 2673', '28425', 'PC 17597', '383121', '330919', '3101267', 'C 4001', '335097', '3101265', '11774', '323592', '349236', '367226', '17463', '345764', '113043', '113514', 'STON/O 2. 3101274', '370372', 'A/5 2466', 'S.C./A.4. 23567', '349231', '350036', '35281', 'PC 17483', '31028', 'STON/O 2. 3101273', '14313', '110152', 'P/PP 3381', '364512', '330959', 'PC 17558', '113800', '350048', '29750', '3101295', 'W./C. 14258', '349209', 'PC 17593', '350404', '347083', '370370', '250652', '345778', '345779', 'SOTON/O.Q. 392078', '330909', '2672', 'SOTON/O.Q. 392087', '394140', 'STON/O2. 3101282', '386525', '19988', 'PC 17582', '350050', '345572', '347470', 'W./C. 6608', 'PC 17754', '236852', '113501', '349213', 'CA. 2343', '244373', 'WE/P 5735', '2667', '367228', '2653', 'C.A. 31026', '2668', '28551', 'SC/Paris 2163', 'PC 17590', '347089', '347076', '233639', 'SOTON/OQ 392090', '8475', '29106', '244358', '2663', 'PC 17605', 'PC 17757', '363294', 'C.A. 5547', 'STON/O 2. 3101286', '349243', 'C.A. 37671', '36568', '248723', 'A/5 21173', '11755', 'SOTON/OQ 392089', '349249', '36866', '365222', '3411', '345765', '110813', '348124', 'C.A. 34260', 'A.5. 11206', '350025', '2623', '370376', '250643', '250651', 'F.C.C. 13531', '349247', '113059', '2690', '349214', '347085', '112050', '234818', '17764', '345769', '12460', '347063', 'SC/PARIS 2133', '250647', '28134', '28665', '19928', 'C.A. 24580', '350035', '113028', 'SC/AH 3085', 'STON/O2. 3101290', '13507', '349203', 'STON/O 2. 3101289', 'A/5. 2151', 'PP 4348', '35851', '14312', 'C.A. 33111', 'A/5 2817', 'A/5. 13032', '342826', '347068', '112052', '7545', '237442', '392091', '2627', '358585', '349256', '315090', 'STON/O2. 3101283', '112053', '347742', 'A/5. 3336', '3101298', 'SOTON/O.Q. 3101312', 'SOTON/O2 3101287', 'A/5. 851', 'SO/C 14885', 'S.O.P. 1166', '16988', '4134', '11751', '2631', 'PC 17612', 'W./C. 6607', '347464', '28403', '330958', '29751', '2649', '347064', 'PC 17599', '36947', '250653', '11752', '243847', '113788', '370375', 'A/5 21171', '2661', '244270', '110564', 'C.A. 29395', 'PC 17760', '248740', '2223', '2674', '315082', 'A/4. 20589', '220367', '2666', '370373', 'SC 1748', 'PC 17477', '28228', '2648', '36967', '234686', '349910', '350042', '239856', '347054', '350406', 'SOTON/O.Q. 3101305', '17465', '382649', '244252', '312992', 'SC/AH 29037', '349253', 'A4. 54510', '113773', '1601', 'PC 17759', '5727', '237798', '330932', 'STON/O 2. 3101288', '347087', '239855', '368703', '348123', '113794', '244367', '349227', '2003', '349909', 'PP 9549', '349204', '364516', '7598', '347088', '112058', '24160', '2687', '234604', 'SCO/W 1585', 'S.P. 3464', '31418', '11767', 'PC 17611', 'A/4. 34244', 'LINE', '219533', '36865', '111361', '236171', '323951', '4137', 'C.A. 29178', '312993', '21440', '31027', '350026', '34218', '364846', '367232', '8471', '335677', '35273', '2689', '112379', '218629', '13567', '17464', '7553', '345777', 'PC 17592', '349224', '229236', '2629', '29011', 'PC 17485', 'A/5 3536', '349201', 'SOTON/O2 3101272', '65304', '113510', '113572', '347071', '19972', 'C.A./SOTON 34068', '113792', '7552', '370369', 'PC 17603', '36963', '2662', 'PC 17572', '374887', '19877', '13568', '349233', '347078', '113503', '248706', '370365', 'W/C 14208', '349252', 'STON/O2. 3101279', '330931', '315097', '250649', 'STON/O 2. 3101280', '113784', '240929', '65303', '28220', 'PC 17476', 'PC 17482', '29103', 'PC 17475', 'PC 17604', '349205', '376566', 'PC 17609', '237565', '113786', '248731', '112059', '315096', '2669', '2671', 'STON/O 2. 3101293', '347743', '113050', '13049', '220845', 'A./5. 3235', '250646', 'A/5 21174', '392092', 'SOTON/OQ 392076', '113056', '28664', '243880', '312991', '349207', '250648', '237736', '695', 'PC 17601', '347081', '2650', 'SC/PARIS 2131', '374910', '2908', '349245', '693', '248727', '364850', '347069', '17421', 'A/4 48871', '2677', 'W./C. 6609', '113055', '350407', '111427', '7267', '237789', '350046', '230434', '2620', '347466', '2693', '349221', '27042', 'C 7075', '248738', '364849', '341826', '17453', '3101296', '365226', '237671', '349208', '345767', '349237', '364498', '14973', '2641', 'SC/Paris 2123', '349234', '239853', '36928', 'S.O./P.P. 3', '27267', '11765', 'S.O./P.P. 751', '350043', 'STON/O 2. 3101275', '4133', '223596', 'S.W./PP 752', '349912', 'A.5. 18509', '345781', '334912', '2694', '54636', '324669', '2700', '347062', '236853', 'A/4 45380', 'PC 17758', '364848', '349242', 'C.A. 17248', '364499', '373450', 'PC 17610', 'PC 17569', '19952', '231919', '4136', '382651', '363291', 'STON/O 2. 3101292', '11967', '111240', '27849', '113796', 'PC 17596', '347074', '367229', '347073', '2686', '350417', '367655', '113781', '233866', 'SOTON/OQ 3101316', '7546', 'C.A. 33595', '2626', '17474', '2926', '231945', '2678', '110465', '28424', 'PC 17755', 'PC 17473', '113804', '230136', 'S.O.C. 14879', '113051', '234360', '349210', '349251', '392096', 'A./5. 2152', '113767', '36864', 'PC 17756', '244310', 'STON/O 2. 3101269', '350060', '349248', '230080', 'F.C.C. 13529', '345763', 'PC 17608', 'STON/O 2. 3101285', '113806', '19996', '371060', '345773', '248698', '367230', '349246', 'A/4. 39886', '347077', '35852', '347060', '349206', '113776', '2680', '11668', '36973', 'S.C./PARIS 2079', '11771', '345780', '370129', '315089', 'SOTON/O.Q. 3101307', '349254', 'Fa 265302', 'C.A. 2315', '348121', '113789', '11769', '367231', 'C.A. 31921', '345783', '350034', '330877', 'SW/PP 751', '4579', '349216', '349244', '7540', '113783', 'PC 17600', '370371', '113807', '2651', '343095', 'SOTON/OQ 392086', 'PC 17585', '2685', '349223', '13509', 'SOTON/OQ 3101317', 'A/5 3902', '3101277', '7534', '113787', '29105', '226593', '250655', '6563', '370377', '19943', '13214', '13213', 'STON/O2. 3101271', '9234', '349225', '211536', '349222', 'F.C. 12750', 'C.A. 24579', '248733', '315151', '2683', '364851', 'W.E.P. 5734', '2664', '371110', '349218', '226875', '113798', '36209', '330923', '3101281', 'SOTON/O.Q. 3101306', '3460', '237668', '349212', '19950', '347082', '315088', '349241', '13502', '244361', '362316', 'PC 17595', '12233', '29108', 'SC/PARIS 2149', '14311', '315098', 'A/S 2816', '248747', '349257', '2647', '330935', 'SOTON/O.Q. 3101310', '315094', '239865', '230433', 'SOTON/O.Q. 3101311', '349219', '343120', 'PC 17318', '376564', '17466', '244278', '368323', 'W./C. 14263', 'SC/PARIS 2167', '2699', '347080', '2697', '2625', '349228', 'SC/PARIS 2146', '113509', '347061', '28213', '315093', '111369', 'PC 17761', '110413', '315084', '330979', '2695', '372622', '111428', '250644', '11753', '4135', '65306', '3474', '363592', '19947', '336439', '3101276', 'C.A. 29566', 'A/5 3540', '345774', '364500', '2691', 'A/5 21172', 'CA. 2314', 'C.A. 6212', '364511', '2665', '12749', '364506', '343275', '382652', '112277', '384461', '11813', '350047', '350052', '350029', '347067', '315037', 'A/5. 3337', '371362', '111320', '2628', 'PC 17474', '2659', '330980', '29104', '349239', 'A/5 3594', '345364', '26360', '111426', '3101264', '349215', '349217', '343276', '347468', '228414', '113760', '113505', '239854', '2624', 'A/5. 10482', '374746', 'SOTON/OQ 392082', '28206', '315153', '345770', 'C 7076', 'SC/AH Basle 541', '33638', 'C 7077', 'C.A. 18723', '4138', '315086'}\n"
     ]
    }
   ],
   "source": [
    "print(\"Ticket values: {}\".format(set(df_train_raw[\"Ticket\"].tolist())))"
   ]
  },
  {
   "cell_type": "code",
   "execution_count": 47,
   "metadata": {},
   "outputs": [
    {
     "name": "stdout",
     "output_type": "stream",
     "text": [
      "Ticket values: [0.0, 4.0125, 5.0, 6.2375, 6.4375, 6.45, 6.4958, 6.75, 6.8583, 6.95, 6.975, 7.0458, 7.05, 7.0542, 7.125, 7.1417, 7.225, 7.2292, 7.25, 7.3125, 7.4958, 7.5208, 7.55, 7.6292, 7.65, 7.725, 7.7292, 7.7333, 7.7375, 7.7417, 7.75, 7.775, 7.7875, 7.7958, 7.8, 7.8292, 7.8542, 7.875, 7.8792, 7.8875, 7.8958, 7.925, 8.0292, 8.05, 8.1125, 8.1375, 8.1583, 8.3, 8.3625, 8.4042, 8.4333, 8.4583, 8.5167, 8.6542, 8.6625, 8.6833, 8.7125, 8.85, 9.0, 9.2167, 9.225, 9.35, 9.475, 9.4833, 9.5, 9.5875, 9.825, 9.8375, 9.8417, 9.8458, 10.1708, 10.4625, 10.5, 10.5167, 11.1333, 11.2417, 11.5, 12.0, 12.275, 12.2875, 12.35, 12.475, 12.525, 12.65, 12.875, 13.0, 13.4167, 13.5, 13.7917, 13.8583, 13.8625, 14.0, 14.1083, 14.4, 14.4542, 14.4583, 14.5, 15.0, 15.0458, 15.05, 15.1, 15.2458, 15.5, 15.55, 15.7417, 15.75, 15.85, 15.9, 16.0, 16.1, 16.7, 17.4, 17.8, 18.0, 18.75, 18.7875, 19.2583, 19.5, 19.9667, 20.2125, 20.25, 20.525, 20.575, 21.0, 21.075, 21.6792, 22.025, 22.3583, 22.525, 23.0, 23.25, 23.45, 24.0, 24.15, 25.4667, 25.5875, 25.925, 25.9292, 26.0, 26.25, 26.2833, 26.2875, 26.3875, 26.55, 27.0, 27.7208, 27.75, 27.9, 28.5, 28.7125, 29.0, 29.125, 29.7, 30.0, 30.0708, 30.5, 30.6958, 31.0, 31.275, 31.3875, 32.3208, 32.5, 33.0, 33.5, 34.0208, 34.375, 34.6542, 35.0, 35.5, 36.75, 37.0042, 38.5, 39.0, 39.4, 39.6, 39.6875, 40.125, 41.5792, 42.4, 46.9, 47.1, 49.5, 49.5042, 50.0, 50.4958, 51.4792, 51.8625, 52.0, 52.5542, 53.1, 55.0, 55.4417, 55.9, 56.4958, 56.9292, 57.0, 57.9792, 59.4, 61.175, 61.3792, 61.9792, 63.3583, 65.0, 66.6, 69.3, 69.55, 71.0, 71.2833, 73.5, 75.25, 76.2917, 76.7292, 77.2875, 77.9583, 78.2667, 78.85, 79.2, 79.65, 80.0, 81.8583, 82.1708, 83.1583, 83.475, 86.5, 89.1042, 90.0, 91.0792, 93.5, 106.425, 108.9, 110.8833, 113.275, 120.0, 133.65, 134.5, 135.6333, 146.5208, 151.55, 153.4625, 164.8667, 211.3375, 211.5, 221.7792, 227.525, 247.5208, 262.375, 263.0, 512.3292]\n"
     ]
    }
   ],
   "source": [
    "print(\"Ticket values: {}\".format(sorted(set(df_train_raw[\"Fare\"].tolist()))))"
   ]
  },
  {
   "cell_type": "code",
   "execution_count": 48,
   "metadata": {
    "collapsed": true
   },
   "outputs": [],
   "source": [
    "df_fare_survived = pd.concat([df_train_raw.loc[(df_train_raw[\"Survived\"] == 0)][\"Fare\"],\n",
    "                               df_train_raw.loc[(df_train_raw[\"Survived\"] == 1)][\"Fare\"]],\n",
    "                              axis=1, keys=[\"Died\", \"Survived\"])"
   ]
  },
  {
   "cell_type": "code",
   "execution_count": 49,
   "metadata": {},
   "outputs": [
    {
     "data": {
      "text/plain": [
       "<matplotlib.text.Text at 0x1118e05c0>"
      ]
     },
     "execution_count": 49,
     "metadata": {},
     "output_type": "execute_result"
    },
    {
     "data": {
      "image/png": "[encoded data removed]",
      "text/plain": [
       "<matplotlib.figure.Figure at 0x110bc64a8>"
      ]
     },
     "metadata": {},
     "output_type": "display_data"
    }
   ],
   "source": [
    "ax = df_fare_survived[[\"Died\", \"Survived\"]].plot.hist(\n",
    "         bins=125, stacked=True, title=\"Survivability by Fare\", colormap=\"Set1\", figsize=(20,10),\n",
    "         xticks=range(0, int(df_train_raw[\"Fare\"].max()), round(int(df_train_raw[\"Fare\"].max())/50)))\n",
    "\n",
    "ax.set_xlabel(\"Fare Value\")\n",
    "ax.set_ylabel(\"Number of people\")"
   ]
  },
  {
   "cell_type": "markdown",
   "metadata": {},
   "source": [
    "We can see that highest number of deaths can be observed for cheaper tickets. But that's also majority."
   ]
  },
  {
   "cell_type": "markdown",
   "metadata": {},
   "source": [
    "#### Cabin"
   ]
  },
  {
   "cell_type": "markdown",
   "metadata": {},
   "source": [
    "We could say that people from cabins closer to rescue boats have higher probability to be saved."
   ]
  },
  {
   "cell_type": "code",
   "execution_count": 50,
   "metadata": {
    "collapsed": true
   },
   "outputs": [],
   "source": [
    "# Checking for NaN values in dataframe\n",
    "# assert df_train_raw[\"Cabin\"].isnull().values.any() == False\n",
    "# assert df_test_raw[\"Cabin\"].isnull().values.any() == False"
   ]
  },
  {
   "cell_type": "markdown",
   "metadata": {},
   "source": [
    "There are NaN values in \"Cabin\" column."
   ]
  },
  {
   "cell_type": "code",
   "execution_count": 51,
   "metadata": {},
   "outputs": [
    {
     "name": "stdout",
     "output_type": "stream",
     "text": [
      "Train: Number of Nan values in Cabin column: 687\n"
     ]
    }
   ],
   "source": [
    "print(\"Train: Number of Nan values in Cabin column: {}\".format(df_train_raw[\"Cabin\"].isnull().sum()))"
   ]
  },
  {
   "cell_type": "code",
   "execution_count": 52,
   "metadata": {},
   "outputs": [
    {
     "name": "stdout",
     "output_type": "stream",
     "text": [
      "Test: Number of Nan values in Cabin column: 327\n"
     ]
    }
   ],
   "source": [
    "print(\"Test: Number of Nan values in Cabin column: {}\".format(df_test_raw[\"Cabin\"].isnull().sum()))"
   ]
  },
  {
   "cell_type": "code",
   "execution_count": 53,
   "metadata": {},
   "outputs": [
    {
     "name": "stdout",
     "output_type": "stream",
     "text": [
      "Train: Unique values of Cabin: {nan, 'B18', 'D26', 'C91', 'C70', 'C47', 'C106', 'B50', 'E8', 'E10', 'D6', 'C103', 'C125', 'C87', 'F G63', 'E24', 'B38', 'A10', 'C83', 'A26', 'C110', 'B101', 'C23 C25 C27', 'B96 B98', 'B58 B60', 'E40', 'D48', 'C50', 'C49', 'D', 'B20', 'C32', 'E38', 'E31', 'E36', 'B94', 'D33', 'C95', 'B28', 'C111', 'B79', 'A34', 'B30', 'B78', 'F2', 'C126', 'B35', 'C68', 'D17', 'E34', 'B51 B53 B55', 'C7', 'E50', 'E58', 'C2', 'A36', 'C52', 'C85', 'A31', 'D35', 'C123', 'D10 D12', 'E49', 'E17', 'C90', 'E46', 'E33', 'C92', 'D37', 'A5', 'D56', 'F4', 'C86', 'B71', 'E68', 'F33', 'A14', 'A24', 'F38', 'A20', 'F G73', 'B5', 'D21', 'D7', 'E63', 'C148', 'B39', 'D28', 'B19', 'A6', 'E25', 'D9', 'C101', 'A16', 'G6', 'C99', 'C45', 'E101', 'C30', 'D46', 'B41', 'C104', 'B57 B59 B63 B66', 'D50', 'C62 C64', 'A7', 'B77', 'E67', 'C54', 'B80', 'B4', 'D11', 'D15', 'D19', 'D20', 'B37', 'C93', 'C78', 'E12', 'B3', 'D30', 'D47', 'B73', 'A19', 'D36', 'C22 C26', 'E121', 'B49', 'D45', 'B69', 'C82', 'C128', 'B82 B84', 'B102', 'C65', 'C46', 'C124', 'B42', 'B86', 'E44', 'A23', 'B22', 'F E69', 'A32', 'C118', 'E77', 'T', 'D49'}\n"
     ]
    }
   ],
   "source": [
    "print(\"Train: Unique values of Cabin: {}\".format(set(df_train_raw[\"Cabin\"].values)))"
   ]
  },
  {
   "cell_type": "code",
   "execution_count": 54,
   "metadata": {},
   "outputs": [
    {
     "name": "stdout",
     "output_type": "stream",
     "text": [
      "Test: Unique values of Cabin: {nan, 'D19', 'F4', 'E45', 'B11', 'C86', 'C31', 'B71', 'A11', 'F E46', 'C78', 'C55 C57', 'C6', 'D22', 'F33', 'A18', 'C80', 'C106', 'B24', 'D40', 'D30', 'A9', 'A34', 'B78', 'B52 B54 B56', 'D21', 'F2', 'C22 C26', 'F G63', 'E52', 'B69', 'B45', 'A21', 'B36', 'E34', 'B51 B53 B55', 'D28', 'C46', 'E39 E41', 'F E57', 'C7', 'C53', 'D43', 'F', 'E50', 'D38', 'C28', 'C101', 'C130', 'G6', 'C132', 'A29', 'D34', 'C23 C25 C27', 'C116', 'C51', 'C97', 'B58 B60', 'C85', 'E60', 'B41', 'D10 D12', 'D', 'B57 B59 B63 B66', 'C62 C64', 'C89', 'B26', 'C32', 'C105', 'E46', 'B10', 'C39', 'D37', 'C54', 'B61', 'E31', 'D15'}\n"
     ]
    }
   ],
   "source": [
    "print(\"Test: Unique values of Cabin: {}\".format(set(df_test_raw[\"Cabin\"].values)))"
   ]
  },
  {
   "cell_type": "markdown",
   "metadata": {},
   "source": [
    "We will leave first letter of Cabin as type and repleace all Nan values with \"U\" which means unknown."
   ]
  },
  {
   "cell_type": "code",
   "execution_count": 55,
   "metadata": {},
   "outputs": [
    {
     "name": "stdout",
     "output_type": "stream",
     "text": [
      "Train: Number of Nan values in Cabin column: 0\n"
     ]
    }
   ],
   "source": [
    "df_train_raw[\"Cabin\"].fillna(\"U\", inplace=True)\n",
    "print(\"Train: Number of Nan values in Cabin column: {}\".format(df_train_raw[\"Cabin\"].isnull().sum()))"
   ]
  },
  {
   "cell_type": "code",
   "execution_count": 56,
   "metadata": {},
   "outputs": [
    {
     "name": "stdout",
     "output_type": "stream",
     "text": [
      "Test: Number of Nan values in Cabin column: 0\n"
     ]
    }
   ],
   "source": [
    "df_test_raw[\"Cabin\"].fillna(\"U\", inplace=True)\n",
    "print(\"Test: Number of Nan values in Cabin column: {}\".format(df_test_raw[\"Cabin\"].isnull().sum()))"
   ]
  },
  {
   "cell_type": "code",
   "execution_count": 57,
   "metadata": {},
   "outputs": [
    {
     "name": "stdout",
     "output_type": "stream",
     "text": [
      "Train: Unique values of Cabin: {'D', 'E', 'C', 'F', 'T', 'G', 'B', 'U', 'A'}\n"
     ]
    }
   ],
   "source": [
    "df_train_raw[\"Cabin\"] = df_train_raw[\"Cabin\"].apply(lambda x: x[0])\n",
    "print(\"Train: Unique values of Cabin: {}\".format(set(df_train_raw[\"Cabin\"].values)))"
   ]
  },
  {
   "cell_type": "code",
   "execution_count": 58,
   "metadata": {},
   "outputs": [
    {
     "name": "stdout",
     "output_type": "stream",
     "text": [
      "Test: Unique values of Cabin: {'D', 'C', 'E', 'F', 'G', 'B', 'U', 'A'}\n"
     ]
    }
   ],
   "source": [
    "df_test_raw[\"Cabin\"] = df_test_raw[\"Cabin\"].apply(lambda x: x[0])\n",
    "print(\"Test: Unique values of Cabin: {}\".format(set(df_test_raw[\"Cabin\"].values)))"
   ]
  },
  {
   "cell_type": "markdown",
   "metadata": {},
   "source": [
    "I will move T to unknown because it's not in train data."
   ]
  },
  {
   "cell_type": "code",
   "execution_count": 59,
   "metadata": {},
   "outputs": [
    {
     "name": "stdout",
     "output_type": "stream",
     "text": [
      "Train: Unique values of Cabin: {'D', 'E', 'C', 'F', 'G', 'B', 'U', 'A'}\n"
     ]
    }
   ],
   "source": [
    "df_train_raw[\"Cabin\"] = df_train_raw[\"Cabin\"].apply(lambda x: x if x != \"T\" else \"U\")\n",
    "print(\"Train: Unique values of Cabin: {}\".format(set(df_train_raw[\"Cabin\"].values)))"
   ]
  },
  {
   "cell_type": "markdown",
   "metadata": {
    "collapsed": true
   },
   "source": [
    "#### Embarked"
   ]
  },
  {
   "cell_type": "code",
   "execution_count": 60,
   "metadata": {
    "collapsed": true
   },
   "outputs": [],
   "source": [
    "# Checking for NaN values in dataframe\n",
    "# assert df_train_raw[\"Embarked\"].isnull().values.any() == False\n",
    "assert df_test_raw[\"Embarked\"].isnull().values.any() == False"
   ]
  },
  {
   "cell_type": "code",
   "execution_count": 61,
   "metadata": {},
   "outputs": [
    {
     "name": "stdout",
     "output_type": "stream",
     "text": [
      "Number of Nan values in Embarked column: 2\n"
     ]
    }
   ],
   "source": [
    "print(\"Number of Nan values in Embarked column: {}\".format(df_train_raw[\"Embarked\"].isnull().sum()))"
   ]
  },
  {
   "cell_type": "code",
   "execution_count": 62,
   "metadata": {},
   "outputs": [
    {
     "name": "stdout",
     "output_type": "stream",
     "text": [
      "Embarked values: {nan, 'S', 'C', 'Q'}\n"
     ]
    }
   ],
   "source": [
    "print(\"Embarked values: {}\".format(set(df_train_raw[\"Embarked\"].tolist())))"
   ]
  },
  {
   "cell_type": "markdown",
   "metadata": {},
   "source": [
    "Fill embarked values by most recent appearing embarkment"
   ]
  },
  {
   "cell_type": "code",
   "execution_count": 63,
   "metadata": {},
   "outputs": [
    {
     "name": "stdout",
     "output_type": "stream",
     "text": [
      "Number of Nan values in Embarked column: 0\n"
     ]
    }
   ],
   "source": [
    "df_train_raw[\"Embarked\"].fillna(\"S\", inplace=True)\n",
    "print(\"Number of Nan values in Embarked column: {}\".format(df_train_raw[\"Embarked\"].isnull().sum()))"
   ]
  },
  {
   "cell_type": "code",
   "execution_count": 64,
   "metadata": {
    "collapsed": true
   },
   "outputs": [],
   "source": [
    "df_embarked_survived = pd.concat([df_train_raw.loc[(df_train_raw[\"Embarked\"] == \"C\")][\"Survived\"],\n",
    "                                  df_train_raw.loc[(df_train_raw[\"Embarked\"] == \"S\")][\"Survived\"],\n",
    "                                  df_train_raw.loc[(df_train_raw[\"Embarked\"] == \"Q\")][\"Survived\"]],\n",
    "                                 axis=1, keys=[\"C\", \"S\", \"Q\"])"
   ]
  },
  {
   "cell_type": "code",
   "execution_count": 65,
   "metadata": {},
   "outputs": [
    {
     "data": {
      "text/plain": [
       "<matplotlib.text.Text at 0x111c60b38>"
      ]
     },
     "execution_count": 65,
     "metadata": {},
     "output_type": "execute_result"
    },
    {
     "data": {
      "image/png": "[encoded data removed]",
      "text/plain": [
       "<matplotlib.figure.Figure at 0x111a38f98>"
      ]
     },
     "metadata": {},
     "output_type": "display_data"
    }
   ],
   "source": [
    "ax = df_embarked_survived[[\"C\", \"S\", \"Q\"]].plot.hist(\n",
    "         bins=np.arange(len(set(df_train_raw[\"Survived\"].tolist())) + 1) - 0.5, stacked=True, \n",
    "         xticks=range(0, int(df_train_raw[\"Survived\"].max() + 1)), title=\"Survivability by Embarked\", \n",
    "         colormap=\"Set1\")\n",
    "\n",
    "ax.set_xlabel(\"0 - Death, 1 - Survival\")\n",
    "ax.set_ylabel(\"Number of people\")"
   ]
  },
  {
   "cell_type": "markdown",
   "metadata": {},
   "source": [
    "Death ratio between people that embarked at Queenstown and Southampton is almost the same. We can see that ratio is a little bit different for those that embarked at Cherbourg - more of them survived. Difference is quite unclear though."
   ]
  },
  {
   "cell_type": "markdown",
   "metadata": {},
   "source": [
    "#### Choosing parameters\n"
   ]
  },
  {
   "cell_type": "markdown",
   "metadata": {},
   "source": [
    "Parameters to use:\n",
    "- Sex\n",
    "- Age\n",
    "- Pclass\n",
    "- SibSp\n",
    "- Parch\n",
    "- Fare\n",
    "- Companion \n",
    "- Alone\n",
    "- SmallFamily\n",
    "- LargeFamily\n",
    "- Title\n",
    "- Embarked\n",
    "- Cabin\n",
    "\n",
    "Parameters to ignore:\n",
    "- Ticket\n",
    "- Name\n",
    "\n",
    "I will try combination of all parameters."
   ]
  },
  {
   "cell_type": "code",
   "execution_count": 66,
   "metadata": {
    "collapsed": true
   },
   "outputs": [],
   "source": [
    "df_train_raw = df_train_raw.drop([\"Name\", \"Ticket\"], axis=1)\n",
    "df_test_raw = df_test_raw.drop([\"Name\", \"Ticket\"], axis=1)"
   ]
  },
  {
   "cell_type": "markdown",
   "metadata": {},
   "source": [
    "### Processing data for input"
   ]
  },
  {
   "cell_type": "code",
   "execution_count": 67,
   "metadata": {
    "collapsed": true
   },
   "outputs": [],
   "source": [
    "features_for_one_hot_encode = [\"Pclass\", \"Embarked\", \"Sex\", \"Title\", \"Cabin\"]\n",
    "\n",
    "for feature in features_for_one_hot_encode:\n",
    "    df_train_raw = pd.concat([df_train_raw, pd.get_dummies(df_train_raw[feature])], axis=1)\n",
    "    df_train_raw.drop(feature, axis=1, inplace=True)\n",
    "    \n",
    "    df_test_raw = pd.concat([df_test_raw, pd.get_dummies(df_test_raw[feature])], axis=1)\n",
    "    df_test_raw.drop(feature, axis=1, inplace=True)"
   ]
  },
  {
   "cell_type": "code",
   "execution_count": 68,
   "metadata": {
    "collapsed": true
   },
   "outputs": [],
   "source": [
    "features_for_normalization = [\"Age\", \"Fare\", \"Companion\", \"Parch\", \"SibSp\"]\n",
    "\n",
    "normalized_features = dict()\n",
    "for feature in features_for_normalization:\n",
    "    mean, std = df_train_raw[feature].mean(), df_train_raw[feature].std()\n",
    "    normalized_features[feature] = [mean, std]\n",
    "    df_train_raw.loc[:, feature] = (df_train_raw[feature] - mean) / std\n",
    "    df_test_raw.loc[:, feature] = (df_test_raw[feature] - mean) / std"
   ]
  },
  {
   "cell_type": "code",
   "execution_count": 69,
   "metadata": {
    "collapsed": true
   },
   "outputs": [],
   "source": [
    "df_input = df_train_raw.copy()\n",
    "df_input.drop(\"PassengerId\", axis=1, inplace=True)\n",
    "\n",
    "df_labels = df_input[\"Survived\"].copy()\n",
    "df_input.drop(\"Survived\", axis=1, inplace=True)\n",
    "\n",
    "df_test = df_test_raw.copy()\n",
    "df_test.drop(\"PassengerId\", axis=1, inplace=True)"
   ]
  },
  {
   "cell_type": "code",
   "execution_count": 70,
   "metadata": {},
   "outputs": [
    {
     "name": "stdout",
     "output_type": "stream",
     "text": [
      "Input shape: (891, 33)\n",
      "Test shape: (418, 33)\n"
     ]
    }
   ],
   "source": [
    "print(\"Input shape: {}\".format(df_input.shape))\n",
    "print(\"Test shape: {}\".format(df_test.shape))"
   ]
  },
  {
   "cell_type": "code",
   "execution_count": 71,
   "metadata": {
    "collapsed": true
   },
   "outputs": [],
   "source": [
    "def cross_validation(samples, labels, val_ratio=0.15, randomize=False):\n",
    "    \"\"\"Divides inserted samples into train and validation sets.\"\"\"\n",
    "    assert len(samples) == len(labels)\n",
    "    \n",
    "    # Groups samples and labels\n",
    "    sample_labels_stacked = list()\n",
    "    for sample, label in zip(samples, labels):\n",
    "        sample_labels_stacked.append((sample, label))\n",
    "        \n",
    "    if randomize:\n",
    "        # Randomize order\n",
    "        shuffle(sample_labels_stacked)\n",
    "    \n",
    "    # Divide samples\n",
    "    split_index = round(len(sample_labels_stacked) * val_ratio)\n",
    "    train_set = sample_labels_stacked[split_index:]\n",
    "    val_set = sample_labels_stacked[:split_index]\n",
    "    \n",
    "    # Unwrap samples\n",
    "    train_samples, train_labels = list(), list()\n",
    "    for data in train_set:\n",
    "        sample, label = data\n",
    "        train_samples.append(sample)\n",
    "        train_labels.append(label)\n",
    "        \n",
    "    val_samples, val_labels = list(), list()\n",
    "    for data in val_set:\n",
    "        sample, label = data\n",
    "        val_samples.append(sample)\n",
    "        val_labels.append(label)\n",
    "    \n",
    "    # Convert to ndarray\n",
    "    train_samples = np.array(train_samples)\n",
    "    train_labels = np.array(train_labels)\n",
    "    val_samples = np.array(val_samples)\n",
    "    val_labels = np.array(val_labels)\n",
    "    \n",
    "    return train_samples, train_labels, val_samples, val_labels"
   ]
  },
  {
   "cell_type": "markdown",
   "metadata": {},
   "source": [
    "### Logistic Regression - Raw Implementation"
   ]
  },
  {
   "cell_type": "code",
   "execution_count": 73,
   "metadata": {
    "collapsed": true
   },
   "outputs": [],
   "source": [
    "class LogisticRegression:\n",
    "    \"\"\"Logistic Regression model.\n",
    "    \n",
    "    Arguments:\n",
    "    ---------\n",
    "    iterations: int\n",
    "        Number of Gradient Descent Steps that will be performed in order to change weights of\n",
    "        linear model\n",
    "    learning_rate: float\n",
    "        Weight applied for Gradient Descent Step during updating weights. (default: 0.001)\n",
    "    verbose: boolean\n",
    "        Flag for debugging. If set to true then error values achieved by model during training\n",
    "        cycle will be displayed.\n",
    "    \"\"\"\n",
    "    def __init__(self, iterations, learning_rate=0.001, verbose=False):\n",
    "        self.w = None\n",
    "      \n",
    "        self.error_history = list()\n",
    "        self.iterations = iterations\n",
    "        self.learning_rate = learning_rate\n",
    "        self.verbose = verbose\n",
    "    \n",
    "    def fit(self, X, y):\n",
    "        \"\"\"Function that is adjusting Logistic Regression Model weights 'w' to inserted data 'X'\n",
    "        according to target values 'y'.\"\"\"\n",
    "        \n",
    "        # Ensure data is float type\n",
    "        X = X.astype(np.float32)\n",
    "        y = y.astype(np.float32)\n",
    "\n",
    "        # Insert 1 values in first row of data for bias\n",
    "        X = np.insert(X, 0, 1, axis=1)\n",
    "        \n",
    "        # Number of samples\n",
    "        num_samples, num_features = X.shape\n",
    "        \n",
    "        # Xavier initialization for weights\n",
    "        xavier_range = 1 / np.sqrt(num_features)\n",
    "        self.w = np.random.uniform(-xavier_range, xavier_range, (num_features,))\n",
    "        \n",
    "        # Perform training\n",
    "        for i in range(0, self.iterations):\n",
    "            \n",
    "            # Using weights for prediction\n",
    "            pred = self._sigmoid(np.dot(X, self.w))\n",
    "            \n",
    "            # Gradient step - Calculating gradient\n",
    "            gradient = (1 / num_samples) * (np.dot(X.T, (pred - y)))\n",
    "                                       \n",
    "            # Gradient step - Updating weights\n",
    "            self.w = self.w - self.learning_rate * gradient\n",
    "                                       \n",
    "            # Calculating Cross-Entropy Error for new weights\n",
    "            error = self._cross_entropy(X, y, num_samples)\n",
    "            self.error_history.append(error)\n",
    "                                       \n",
    "            # Displaying learning progress every 100 iterations\n",
    "            if self.verbose and i % 100 == 0:\n",
    "                print(\"Iteration no. \" + str(i) + \", error: \" + str(error))\n",
    "                \n",
    "    def _sigmoid(self, X):\n",
    "        \"\"\"Application of Sigmoid function which squashes input values in range 0-1 which\n",
    "        which corresponds to probability value ragne.\"\"\"\n",
    "        \n",
    "        return 1 / (1 + np.exp(-X))\n",
    "            \n",
    "    def _cross_entropy(self, X, y, num_samples):\n",
    "        \"\"\"Implementation of Cross-Entropy - cost function for monitoring how classification\n",
    "        is performed with current 'w' values\"\"\"\n",
    "        \n",
    "        pred = self._sigmoid(np.dot(X, self.w))\n",
    "        return (-1 / num_samples) * np.sum(y * np.log10(pred) + (1 - y) * np.log10(1 - pred))\n",
    "    \n",
    "    def predict(self, X):\n",
    "        \"\"\"Function that takes feature values 'X' and returns predictions with usage of \n",
    "        current 'w' values\"\"\"\n",
    "        \n",
    "        # Ensure data is float type\n",
    "        X = X.astype(np.float32)\n",
    "        \n",
    "        # Insert 1 values in first row of data for bias\n",
    "        X = np.insert(X, 0, 1, axis=1)\n",
    "        pred = self._sigmoid(np.dot(X, self.w))\n",
    "        return pred"
   ]
  },
  {
   "cell_type": "markdown",
   "metadata": {},
   "source": [
    "### Using model for prediction"
   ]
  },
  {
   "cell_type": "code",
   "execution_count": 74,
   "metadata": {
    "collapsed": true
   },
   "outputs": [],
   "source": [
    "def accuracy(predictions, expected_values):\n",
    "    \"\"\"Returning percentage value based on how many predictions match expected values.\"\"\"\n",
    "    return np.sum(np.round(predictions) == expected_values) / predictions.shape[0]"
   ]
  },
  {
   "cell_type": "code",
   "execution_count": 75,
   "metadata": {
    "collapsed": true
   },
   "outputs": [],
   "source": [
    "def r2_score(predictions, expected_values):\n",
    "    \"\"\"Model evaluation parameter - R2 score. Best possible score is 1.0 and it can be negative \n",
    "    (because the model can be arbitrarily worse)\"\"\"\n",
    "    mean_y = np.mean(expected_values)\n",
    "    ss_tot = sum((expected_values - mean_y) ** 2)\n",
    "    ss_res = sum((expected_values - predictions) ** 2)\n",
    "    r2 = 1 - (ss_res / ss_tot)\n",
    "    return r2"
   ]
  },
  {
   "cell_type": "markdown",
   "metadata": {},
   "source": [
    "#### Training Various models"
   ]
  },
  {
   "cell_type": "code",
   "execution_count": 76,
   "metadata": {
    "scrolled": false
   },
   "outputs": [
    {
     "data": {
      "application/vnd.jupyter.widget-view+json": {
       "model_id": "62f9c7907ba349a991b23414f8f0a4ba"
      }
     },
     "metadata": {},
     "output_type": "display_data"
    },
    {
     "data": {
      "application/vnd.jupyter.widget-view+json": {
       "model_id": "50f17a8a24564140af27cc1a9b7fc5a3"
      }
     },
     "metadata": {},
     "output_type": "display_data"
    },
    {
     "data": {
      "application/vnd.jupyter.widget-view+json": {
       "model_id": "ef89b66544e64aa5ac6b1f91771cc22c"
      }
     },
     "metadata": {},
     "output_type": "display_data"
    },
    {
     "data": {
      "application/vnd.jupyter.widget-view+json": {
       "model_id": "4cf3fdbabee34229b599d63c5cafbb4d"
      }
     },
     "metadata": {},
     "output_type": "display_data"
    },
    {
     "data": {
      "application/vnd.jupyter.widget-view+json": {
       "model_id": "64c640843dd64a1f9a4e452be15dd4e1"
      }
     },
     "metadata": {},
     "output_type": "display_data"
    },
    {
     "data": {
      "application/vnd.jupyter.widget-view+json": {
       "model_id": "f207e08779164685b8245f1766e54920"
      }
     },
     "metadata": {},
     "output_type": "display_data"
    },
    {
     "data": {
      "application/vnd.jupyter.widget-view+json": {
       "model_id": "dbd73a036c124384a02dc110dd59fc87"
      }
     },
     "metadata": {},
     "output_type": "display_data"
    },
    {
     "data": {
      "application/vnd.jupyter.widget-view+json": {
       "model_id": "d4e7d262b3604c908dd4ce4aca40eb69"
      }
     },
     "metadata": {},
     "output_type": "display_data"
    },
    {
     "data": {
      "application/vnd.jupyter.widget-view+json": {
       "model_id": "24873f93cf3649c0a02d32f0f49eab0d"
      }
     },
     "metadata": {},
     "output_type": "display_data"
    },
    {
     "data": {
      "application/vnd.jupyter.widget-view+json": {
       "model_id": "515186c8c9db4e4d9c263fa555d68961"
      }
     },
     "metadata": {},
     "output_type": "display_data"
    },
    {
     "name": "stdout",
     "output_type": "stream",
     "text": [
      "\n"
     ]
    }
   ],
   "source": [
    "iteration_values = [1000, 1500, 2000, 2500, 5000, 10000, 12500, 15000, 17500]\n",
    "learning_rates = [0.0001, 0.0003, 0.0005, 0.0007, 0.001, 0.003, 0.005, 0.007, 0.01, 0.03, 0.05, 0.07]\n",
    "\n",
    "model_results = list()\n",
    "\n",
    "for i in tnrange(len(iteration_values), desc=\"Iteration grid\"):\n",
    "    iterations = iteration_values[i]\n",
    "    for j in tqdm_notebook(range(len(learning_rates)), desc=\"Learning Rate grid\"):\n",
    "        learning_rate = learning_rates[j]\n",
    "        \n",
    "        # Provide input data\n",
    "        samples = df_input.as_matrix()\n",
    "        labels = df_labels.as_matrix()\n",
    "\n",
    "        # Divide into train, validation sets\n",
    "        train_samples, train_labels, val_samples, val_labels = cross_validation(samples, labels)\n",
    "\n",
    "        # Create model\n",
    "        model = LogisticRegression(iterations, learning_rate=learning_rate)\n",
    "\n",
    "        # Train on train data\n",
    "        model.fit(train_samples, train_labels)\n",
    "\n",
    "        # Predictions\n",
    "        train_predictions = model.predict(train_samples)\n",
    "        val_predictions = model.predict(val_samples)\n",
    "\n",
    "        # Accuracy\n",
    "        train_acc = accuracy(train_predictions, train_labels)\n",
    "        val_acc = accuracy(val_predictions, val_labels)\n",
    "\n",
    "        # R2 Score - model performance\n",
    "        r2_score_value = r2_score(val_predictions, val_labels)\n",
    "\n",
    "        model_results.append({\"model\": model, \"train_acc\": round(train_acc, 6), \n",
    "                              \"val_acc\": round(val_acc, 6), \"r2_score\": round(r2_score_value, 4),\n",
    "                              \"lr\": learning_rate, \"iter\": iterations})"
   ]
  },
  {
   "cell_type": "markdown",
   "metadata": {},
   "source": [
    "Display all results"
   ]
  },
  {
   "cell_type": "code",
   "execution_count": 77,
   "metadata": {},
   "outputs": [
    {
     "name": "stdout",
     "output_type": "stream",
     "text": [
      "0: | t_acc: 0.833554 | v_acc: 0.813433 | r2_score: 0.3603 | lr: 0.005 | i: 15000\n",
      "1: | t_acc: 0.832232 | v_acc: 0.820896 | r2_score: 0.3601 | lr: 0.03 | i: 2000\n",
      "2: | t_acc: 0.826948 | v_acc: 0.813433 | r2_score: 0.3596 | lr: 0.005 | i: 10000\n",
      "3: | t_acc: 0.837517 | v_acc: 0.813433 | r2_score: 0.3587 | lr: 0.007 | i: 12500\n",
      "4: | t_acc: 0.840159 | v_acc: 0.798507 | r2_score: 0.3581 | lr: 0.01 | i: 12500\n",
      "5: | t_acc: 0.837517 | v_acc: 0.798507 | r2_score: 0.3581 | lr: 0.007 | i: 17500\n",
      "6: | t_acc: 0.834875 | v_acc: 0.80597 | r2_score: 0.3557 | lr: 0.07 | i: 1000\n",
      "7: | t_acc: 0.832232 | v_acc: 0.80597 | r2_score: 0.3553 | lr: 0.005 | i: 12500\n",
      "8: | t_acc: 0.84148 | v_acc: 0.798507 | r2_score: 0.3551 | lr: 0.05 | i: 2500\n",
      "9: | t_acc: 0.828269 | v_acc: 0.80597 | r2_score: 0.3551 | lr: 0.003 | i: 17500\n",
      "10: | t_acc: 0.828269 | v_acc: 0.80597 | r2_score: 0.355 | lr: 0.05 | i: 1000\n",
      "11: | t_acc: 0.833554 | v_acc: 0.798507 | r2_score: 0.3548 | lr: 0.03 | i: 2500\n",
      "12: | t_acc: 0.828269 | v_acc: 0.813433 | r2_score: 0.3535 | lr: 0.03 | i: 1500\n",
      "13: | t_acc: 0.84148 | v_acc: 0.798507 | r2_score: 0.3535 | lr: 0.03 | i: 5000\n",
      "14: | t_acc: 0.844122 | v_acc: 0.798507 | r2_score: 0.3534 | lr: 0.07 | i: 2000\n",
      "15: | t_acc: 0.828269 | v_acc: 0.813433 | r2_score: 0.3534 | lr: 0.01 | i: 5000\n",
      "16: | t_acc: 0.840159 | v_acc: 0.798507 | r2_score: 0.3533 | lr: 0.07 | i: 2500\n",
      "17: | t_acc: 0.828269 | v_acc: 0.820896 | r2_score: 0.3533 | lr: 0.003 | i: 15000\n",
      "18: | t_acc: 0.838838 | v_acc: 0.798507 | r2_score: 0.353 | lr: 0.007 | i: 15000\n",
      "19: | t_acc: 0.832232 | v_acc: 0.80597 | r2_score: 0.3527 | lr: 0.007 | i: 10000\n",
      "20: | t_acc: 0.830911 | v_acc: 0.80597 | r2_score: 0.3526 | lr: 0.05 | i: 1500\n",
      "21: | t_acc: 0.826948 | v_acc: 0.80597 | r2_score: 0.3525 | lr: 0.007 | i: 5000\n",
      "22: | t_acc: 0.828269 | v_acc: 0.798507 | r2_score: 0.3524 | lr: 0.0007 | i: 17500\n",
      "23: | t_acc: 0.826948 | v_acc: 0.798507 | r2_score: 0.3521 | lr: 0.03 | i: 1000\n",
      "24: | t_acc: 0.825627 | v_acc: 0.798507 | r2_score: 0.3521 | lr: 0.007 | i: 2000\n",
      "25: | t_acc: 0.838838 | v_acc: 0.798507 | r2_score: 0.3513 | lr: 0.05 | i: 2000\n",
      "26: | t_acc: 0.834875 | v_acc: 0.798507 | r2_score: 0.3512 | lr: 0.005 | i: 17500\n",
      "27: | t_acc: 0.84148 | v_acc: 0.798507 | r2_score: 0.3504 | lr: 0.05 | i: 5000\n",
      "28: | t_acc: 0.844122 | v_acc: 0.798507 | r2_score: 0.3504 | lr: 0.01 | i: 17500\n",
      "29: | t_acc: 0.837517 | v_acc: 0.798507 | r2_score: 0.3502 | lr: 0.01 | i: 10000\n",
      "30: | t_acc: 0.828269 | v_acc: 0.813433 | r2_score: 0.3502 | lr: 0.003 | i: 12500\n",
      "31: | t_acc: 0.817701 | v_acc: 0.791045 | r2_score: 0.3498 | lr: 0.001 | i: 12500\n",
      "32: | t_acc: 0.838838 | v_acc: 0.798507 | r2_score: 0.3497 | lr: 0.07 | i: 1500\n",
      "33: | t_acc: 0.81638 | v_acc: 0.791045 | r2_score: 0.3496 | lr: 0.005 | i: 2500\n",
      "34: | t_acc: 0.826948 | v_acc: 0.798507 | r2_score: 0.3495 | lr: 0.01 | i: 2500\n",
      "35: | t_acc: 0.838838 | v_acc: 0.798507 | r2_score: 0.3492 | lr: 0.01 | i: 15000\n",
      "36: | t_acc: 0.825627 | v_acc: 0.80597 | r2_score: 0.3488 | lr: 0.005 | i: 5000\n",
      "37: | t_acc: 0.825627 | v_acc: 0.813433 | r2_score: 0.3487 | lr: 0.003 | i: 10000\n",
      "38: | t_acc: 0.84148 | v_acc: 0.798507 | r2_score: 0.3476 | lr: 0.03 | i: 10000\n",
      "39: | t_acc: 0.828269 | v_acc: 0.798507 | r2_score: 0.346 | lr: 0.007 | i: 2500\n",
      "40: | t_acc: 0.820343 | v_acc: 0.798507 | r2_score: 0.3459 | lr: 0.0005 | i: 17500\n",
      "41: | t_acc: 0.817701 | v_acc: 0.798507 | r2_score: 0.3458 | lr: 0.003 | i: 5000\n",
      "42: | t_acc: 0.826948 | v_acc: 0.798507 | r2_score: 0.3455 | lr: 0.001 | i: 17500\n",
      "43: | t_acc: 0.840159 | v_acc: 0.798507 | r2_score: 0.3448 | lr: 0.07 | i: 5000\n",
      "44: | t_acc: 0.84148 | v_acc: 0.791045 | r2_score: 0.344 | lr: 0.03 | i: 15000\n",
      "45: | t_acc: 0.817701 | v_acc: 0.798507 | r2_score: 0.3436 | lr: 0.005 | i: 2000\n",
      "46: | t_acc: 0.844122 | v_acc: 0.791045 | r2_score: 0.3425 | lr: 0.05 | i: 10000\n",
      "47: | t_acc: 0.824306 | v_acc: 0.798507 | r2_score: 0.3423 | lr: 0.01 | i: 1500\n",
      "48: | t_acc: 0.840159 | v_acc: 0.791045 | r2_score: 0.3423 | lr: 0.03 | i: 12500\n",
      "49: | t_acc: 0.844122 | v_acc: 0.791045 | r2_score: 0.3421 | lr: 0.03 | i: 17500\n",
      "50: | t_acc: 0.844122 | v_acc: 0.791045 | r2_score: 0.3415 | lr: 0.05 | i: 12500\n",
      "51: | t_acc: 0.826948 | v_acc: 0.80597 | r2_score: 0.3408 | lr: 0.0007 | i: 12500\n",
      "52: | t_acc: 0.825627 | v_acc: 0.791045 | r2_score: 0.3402 | lr: 0.01 | i: 2000\n",
      "53: | t_acc: 0.844122 | v_acc: 0.783582 | r2_score: 0.3398 | lr: 0.07 | i: 12500\n",
      "54: | t_acc: 0.844122 | v_acc: 0.791045 | r2_score: 0.3397 | lr: 0.07 | i: 10000\n",
      "55: | t_acc: 0.845443 | v_acc: 0.783582 | r2_score: 0.3397 | lr: 0.07 | i: 15000\n",
      "56: | t_acc: 0.819022 | v_acc: 0.791045 | r2_score: 0.3395 | lr: 0.007 | i: 1500\n",
      "57: | t_acc: 0.844122 | v_acc: 0.783582 | r2_score: 0.3391 | lr: 0.05 | i: 17500\n",
      "58: | t_acc: 0.821664 | v_acc: 0.798507 | r2_score: 0.3389 | lr: 0.0007 | i: 15000\n",
      "59: | t_acc: 0.844122 | v_acc: 0.791045 | r2_score: 0.3384 | lr: 0.05 | i: 15000\n",
      "60: | t_acc: 0.845443 | v_acc: 0.783582 | r2_score: 0.3383 | lr: 0.07 | i: 17500\n",
      "61: | t_acc: 0.824306 | v_acc: 0.791045 | r2_score: 0.3338 | lr: 0.001 | i: 15000\n",
      "62: | t_acc: 0.820343 | v_acc: 0.798507 | r2_score: 0.3313 | lr: 0.001 | i: 10000\n",
      "63: | t_acc: 0.815059 | v_acc: 0.791045 | r2_score: 0.3275 | lr: 0.01 | i: 1000\n",
      "64: | t_acc: 0.815059 | v_acc: 0.791045 | r2_score: 0.3205 | lr: 0.005 | i: 1500\n",
      "65: | t_acc: 0.822985 | v_acc: 0.776119 | r2_score: 0.3202 | lr: 0.0005 | i: 15000\n",
      "66: | t_acc: 0.828269 | v_acc: 0.783582 | r2_score: 0.3196 | lr: 0.003 | i: 2500\n",
      "67: | t_acc: 0.812417 | v_acc: 0.768657 | r2_score: 0.3106 | lr: 0.0005 | i: 12500\n",
      "68: | t_acc: 0.805812 | v_acc: 0.761194 | r2_score: 0.3095 | lr: 0.003 | i: 2000\n",
      "69: | t_acc: 0.805812 | v_acc: 0.783582 | r2_score: 0.306 | lr: 0.0007 | i: 10000\n",
      "70: | t_acc: 0.804491 | v_acc: 0.746269 | r2_score: 0.3008 | lr: 0.0005 | i: 10000\n",
      "71: | t_acc: 0.820343 | v_acc: 0.761194 | r2_score: 0.3004 | lr: 0.007 | i: 1000\n",
      "72: | t_acc: 0.813738 | v_acc: 0.738806 | r2_score: 0.2918 | lr: 0.005 | i: 1000\n",
      "73: | t_acc: 0.807133 | v_acc: 0.776119 | r2_score: 0.2861 | lr: 0.003 | i: 1500\n",
      "74: | t_acc: 0.813738 | v_acc: 0.768657 | r2_score: 0.2842 | lr: 0.0003 | i: 17500\n",
      "75: | t_acc: 0.782034 | v_acc: 0.798507 | r2_score: 0.279 | lr: 0.0007 | i: 5000\n",
      "76: | t_acc: 0.80317 | v_acc: 0.731343 | r2_score: 0.2754 | lr: 0.001 | i: 5000\n",
      "77: | t_acc: 0.785997 | v_acc: 0.753731 | r2_score: 0.2644 | lr: 0.0003 | i: 15000\n",
      "78: | t_acc: 0.782034 | v_acc: 0.753731 | r2_score: 0.2478 | lr: 0.003 | i: 1000\n",
      "79: | t_acc: 0.791281 | v_acc: 0.761194 | r2_score: 0.2334 | lr: 0.001 | i: 1500\n",
      "80: | t_acc: 0.743725 | v_acc: 0.701493 | r2_score: 0.2288 | lr: 0.0005 | i: 5000\n",
      "81: | t_acc: 0.775429 | v_acc: 0.716418 | r2_score: 0.2253 | lr: 0.0003 | i: 12500\n",
      "82: | t_acc: 0.756935 | v_acc: 0.746269 | r2_score: 0.2128 | lr: 0.0007 | i: 2500\n",
      "83: | t_acc: 0.771466 | v_acc: 0.746269 | r2_score: 0.2122 | lr: 0.0003 | i: 10000\n",
      "84: | t_acc: 0.767503 | v_acc: 0.69403 | r2_score: 0.2017 | lr: 0.001 | i: 2000\n",
      "85: | t_acc: 0.764861 | v_acc: 0.738806 | r2_score: 0.189 | lr: 0.0007 | i: 2000\n",
      "86: | t_acc: 0.722589 | v_acc: 0.708955 | r2_score: 0.1801 | lr: 0.0003 | i: 5000\n",
      "87: | t_acc: 0.735799 | v_acc: 0.69403 | r2_score: 0.1759 | lr: 0.001 | i: 2500\n",
      "88: | t_acc: 0.69749 | v_acc: 0.738806 | r2_score: 0.1732 | lr: 0.0003 | i: 1500\n",
      "89: | t_acc: 0.702774 | v_acc: 0.723881 | r2_score: 0.1636 | lr: 0.001 | i: 1000\n",
      "90: | t_acc: 0.741083 | v_acc: 0.761194 | r2_score: 0.1587 | lr: 0.0005 | i: 1500\n",
      "91: | t_acc: 0.729194 | v_acc: 0.753731 | r2_score: 0.1554 | lr: 0.0005 | i: 2500\n",
      "92: | t_acc: 0.733157 | v_acc: 0.701493 | r2_score: 0.1474 | lr: 0.0001 | i: 15000\n",
      "93: | t_acc: 0.755614 | v_acc: 0.671642 | r2_score: 0.1395 | lr: 0.0001 | i: 12500\n",
      "94: | t_acc: 0.663144 | v_acc: 0.731343 | r2_score: 0.1343 | lr: 0.0003 | i: 2000\n",
      "95: | t_acc: 0.722589 | v_acc: 0.686567 | r2_score: 0.1173 | lr: 0.0001 | i: 17500\n",
      "96: | t_acc: 0.68428 | v_acc: 0.701493 | r2_score: 0.1087 | lr: 0.0005 | i: 2000\n",
      "97: | t_acc: 0.729194 | v_acc: 0.731343 | r2_score: 0.1079 | lr: 0.0007 | i: 1500\n",
      "98: | t_acc: 0.686922 | v_acc: 0.69403 | r2_score: 0.1073 | lr: 0.0001 | i: 10000\n",
      "99: | t_acc: 0.653897 | v_acc: 0.656716 | r2_score: 0.0747 | lr: 0.0003 | i: 2500\n",
      "100: | t_acc: 0.634082 | v_acc: 0.641791 | r2_score: 0.0475 | lr: 0.0005 | i: 1000\n",
      "101: | t_acc: 0.681638 | v_acc: 0.641791 | r2_score: 0.0346 | lr: 0.0007 | i: 1000\n",
      "102: | t_acc: 0.672391 | v_acc: 0.626866 | r2_score: 0.0096 | lr: 0.0001 | i: 5000\n",
      "103: | t_acc: 0.616909 | v_acc: 0.619403 | r2_score: -0.0032 | lr: 0.0001 | i: 1500\n",
      "104: | t_acc: 0.640687 | v_acc: 0.604478 | r2_score: -0.0323 | lr: 0.0001 | i: 2500\n",
      "105: | t_acc: 0.590489 | v_acc: 0.58209 | r2_score: -0.0626 | lr: 0.0003 | i: 1000\n",
      "106: | t_acc: 0.388375 | v_acc: 0.365672 | r2_score: -0.1105 | lr: 0.0001 | i: 2000\n",
      "107: | t_acc: 0.383091 | v_acc: 0.455224 | r2_score: -0.1204 | lr: 0.0001 | i: 1000\n"
     ]
    }
   ],
   "source": [
    "model_results_sorted = sorted(model_results, key=lambda result: result[\"r2_score\"], reverse=True) \n",
    "for i, result in enumerate(model_results_sorted):\n",
    "    print(\"{}: | t_acc: {} | v_acc: {} | r2_score: {} | lr: {} | i: {}\"\n",
    "          .format(i, result[\"train_acc\"], result[\"val_acc\"], result[\"r2_score\"],\n",
    "                  result[\"lr\"], result[\"iter\"], \"  \" + \" \"*len(str(i))))"
   ]
  },
  {
   "cell_type": "markdown",
   "metadata": {
    "collapsed": true
   },
   "source": [
    "#### Picking model"
   ]
  },
  {
   "cell_type": "code",
   "execution_count": 78,
   "metadata": {
    "collapsed": true
   },
   "outputs": [],
   "source": [
    "MODEL_INDEX = 0"
   ]
  },
  {
   "cell_type": "code",
   "execution_count": 79,
   "metadata": {
    "collapsed": true
   },
   "outputs": [],
   "source": [
    "model = model_results_sorted[MODEL_INDEX][\"model\"]"
   ]
  },
  {
   "cell_type": "markdown",
   "metadata": {},
   "source": [
    "#### Prediction on train data"
   ]
  },
  {
   "cell_type": "code",
   "execution_count": 80,
   "metadata": {
    "collapsed": true
   },
   "outputs": [],
   "source": [
    "test_predictions = model.predict(df_test.as_matrix())\n",
    "test_predictions = np.round(test_predictions)"
   ]
  },
  {
   "cell_type": "code",
   "execution_count": 81,
   "metadata": {
    "collapsed": true
   },
   "outputs": [],
   "source": [
    "result_dataframe = df_test_raw[[\"PassengerId\"]]\n",
    "result_dataframe[\"Survived\"] = list(map(int, test_predictions.tolist()))"
   ]
  },
  {
   "cell_type": "code",
   "execution_count": 82,
   "metadata": {
    "collapsed": true
   },
   "outputs": [],
   "source": [
    "result_dataframe.to_csv(\"results.csv\", index=False)"
   ]
  },
  {
   "cell_type": "markdown",
   "metadata": {},
   "source": [
    "#### Kaggle score"
   ]
  },
  {
   "cell_type": "markdown",
   "metadata": {},
   "source": [
    "![title](Images/kaggle_leaderboard.png)"
   ]
  },
  {
   "cell_type": "markdown",
   "metadata": {},
   "source": [
    "That was my first Kaggle competition ever. Still feeling bad that I can't reach 80% but I've learned a lot."
   ]
  },
  {
   "cell_type": "markdown",
   "metadata": {},
   "source": [
    "#### Possible improvements:\n",
    "- I have destroyed some data by excluding data which was available in Test Titles but not available in Test Title\n",
    "- I have destroyed some data about Cabins which were available in Train Cabin but not available in Test Cabin \n",
    "- I am using my self-coded LogisticRegression model. If I really wanted better results maybe I should do everything with sklearn algorithms - not manually. \n",
    "- Models like DecisionTrees, SVM, Gradient Boosting might have better results.\n",
    "- Adding regularization to model.\n",
    "- Maybe more feature engineering.\n",
    "- Maybe better data missing data filling.\n",
    "- Picking only necessary features for model - not all of them.\n",
    "- Using real GridSearch rather than for loop with hardcoded values."
   ]
  }
 ],
 "metadata": {
  "kernelspec": {
   "display_name": "Python 3",
   "language": "python",
   "name": "python3"
  },
  "language_info": {
   "codemirror_mode": {
    "name": "ipython",
    "version": 3
   },
   "file_extension": ".py",
   "mimetype": "text/x-python",
   "name": "python",
   "nbconvert_exporter": "python",
   "pygments_lexer": "ipython3",
   "version": "3.6.1"
  }
 },
 "nbformat": 4,
 "nbformat_minor": 2
}
