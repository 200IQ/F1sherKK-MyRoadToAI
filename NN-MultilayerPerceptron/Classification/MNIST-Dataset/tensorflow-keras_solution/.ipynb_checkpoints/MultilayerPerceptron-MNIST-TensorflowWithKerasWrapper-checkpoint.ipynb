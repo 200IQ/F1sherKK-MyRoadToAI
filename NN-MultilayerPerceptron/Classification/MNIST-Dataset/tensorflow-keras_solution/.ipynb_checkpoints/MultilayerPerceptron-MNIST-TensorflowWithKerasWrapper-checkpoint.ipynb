{
 "cells": [
  {
   "cell_type": "code",
   "execution_count": 21,
   "metadata": {},
   "outputs": [],
   "source": [
    "import tensorflow as tf\n",
    "import tensorflow.examples.tutorials.mnist as mnist\n",
    "from keras import backend as Keras\n",
    "from keras.layers import Dense, Dropout\n",
    "from keras.objectives import categorical_crossentropy\n",
    "from keras.metrics import categorical_accuracy\n",
    "import numpy as np\n",
    "import matplotlib.pyplot as plt\n",
    "import matplotlib.patches as mpatches\n",
    "import random"
   ]
  },
  {
   "cell_type": "code",
   "execution_count": 22,
   "metadata": {
    "collapsed": true
   },
   "outputs": [],
   "source": [
    "%matplotlib inline"
   ]
  },
  {
   "cell_type": "markdown",
   "metadata": {},
   "source": [
    "#### Dataset info"
   ]
  },
  {
   "cell_type": "code",
   "execution_count": 23,
   "metadata": {
    "collapsed": true
   },
   "outputs": [],
   "source": [
    "# source: http://yann.lecun.com/exdb/mnist/\n",
    "IMAGE_WIDTH = 28\n",
    "IMAGE_HEIGHT = 28\n",
    "NUM_CHANNELS = 1\n",
    "PIXEL_DEPTH = 255\n",
    "NUM_LABELS = 10"
   ]
  },
  {
   "cell_type": "markdown",
   "metadata": {},
   "source": [
    "#### Loading files\n",
    "Data is already preprocessed, shuffled and normalized."
   ]
  },
  {
   "cell_type": "code",
   "execution_count": 24,
   "metadata": {},
   "outputs": [
    {
     "name": "stdout",
     "output_type": "stream",
     "text": [
      "Extracting tensorflow/examples/tutorials/mnist/train-images-idx3-ubyte.gz\n",
      "Extracting tensorflow/examples/tutorials/mnist/train-labels-idx1-ubyte.gz\n",
      "Extracting tensorflow/examples/tutorials/mnist/t10k-images-idx3-ubyte.gz\n",
      "Extracting tensorflow/examples/tutorials/mnist/t10k-labels-idx1-ubyte.gz\n"
     ]
    }
   ],
   "source": [
    "mnist_dataset = mnist.input_data.read_data_sets('tensorflow/examples/tutorials/mnist', one_hot=True)"
   ]
  },
  {
   "cell_type": "markdown",
   "metadata": {},
   "source": [
    "#### Divide data"
   ]
  },
  {
   "cell_type": "code",
   "execution_count": 25,
   "metadata": {
    "collapsed": true
   },
   "outputs": [],
   "source": [
    "trainX = mnist_dataset.train.images\n",
    "valX = mnist_dataset.validation.images\n",
    "testX = mnist_dataset.test.images\n",
    "\n",
    "trainY = mnist_dataset.train.labels.astype(np.float32)\n",
    "valY = mnist_dataset.validation.labels.astype(np.float32)\n",
    "testY = mnist_dataset.test.labels.astype(np.float32)"
   ]
  },
  {
   "cell_type": "code",
   "execution_count": 26,
   "metadata": {
    "collapsed": true
   },
   "outputs": [],
   "source": [
    "TRAIN_IMAGES_NUM = trainX.shape[0]\n",
    "TEST_IMAGES_NUM = testX.shape[0]"
   ]
  },
  {
   "cell_type": "markdown",
   "metadata": {},
   "source": [
    "#### Present data"
   ]
  },
  {
   "cell_type": "code",
   "execution_count": 27,
   "metadata": {
    "collapsed": true
   },
   "outputs": [],
   "source": [
    "def show_digit(trainX, trainY, index):\n",
    "    image = trainX[index].reshape([IMAGE_WIDTH, IMAGE_HEIGHT])\n",
    "    label = trainY[index]\n",
    "    plt.title(\"Training data, index: {},  Label: {}\".format(index, label))\n",
    "    plt.imshow(image, cmap=\"gray_r\")\n",
    "    plt.show()"
   ]
  },
  {
   "cell_type": "code",
   "execution_count": 28,
   "metadata": {},
   "outputs": [
    {
     "name": "stdout",
     "output_type": "stream",
     "text": [
      "trainX shape: (55000, 784)\n",
      "trainY shape: (55000, 10)\n",
      "valX shape: (5000, 784)\n",
      "valY shape: (5000, 10)\n",
      "testX shape: (10000, 784)\n",
      "testY shape: (10000, 10)\n"
     ]
    },
    {
     "data": {
      "image/png": "[encoded data removed]",
      "text/plain": [
       "<matplotlib.figure.Figure at 0x1237ab400>"
      ]
     },
     "metadata": {},
     "output_type": "display_data"
    }
   ],
   "source": [
    "print(\"trainX shape: \" + str(trainX.shape))\n",
    "print(\"trainY shape: \" + str(trainY.shape))\n",
    "print(\"valX shape: \" + str(valX.shape))\n",
    "print(\"valY shape: \" + str(valY.shape))\n",
    "print(\"testX shape: \" + str(testX.shape))\n",
    "print(\"testY shape: \" + str(testY.shape))\n",
    "show_digit(trainX, trainY, np.random.randint(1, TRAIN_IMAGES_NUM + 1))"
   ]
  },
  {
   "cell_type": "markdown",
   "metadata": {},
   "source": [
    "#### Neural Network preparation"
   ]
  },
  {
   "cell_type": "code",
   "execution_count": 29,
   "metadata": {
    "collapsed": true
   },
   "outputs": [],
   "source": [
    "input_nodes = IMAGE_WIDTH * IMAGE_HEIGHT\n",
    "hidden_layer_1_nodes = 300\n",
    "hidden_layer_2_nodes = 75\n",
    "output_layer_nodes = NUM_LABELS"
   ]
  },
  {
   "cell_type": "code",
   "execution_count": 30,
   "metadata": {
    "collapsed": true
   },
   "outputs": [],
   "source": [
    "# reset tensorflow graph\n",
    "tf.reset_default_graph()\n",
    "\n",
    "# placeholders for inputs, labels and learning rate\n",
    "inputs_ = tf.placeholder(tf.float32, [None, input_nodes], name=\"inputs\")\n",
    "targets_ = tf.placeholder(tf.float32, [None, output_layer_nodes], name=\"targets\")\n",
    "learning_rate_ = tf.placeholder(tf.float32, None, name=\"learning_rate\")\n",
    "keep_prob_ = tf.placeholder(tf.float32, name=\"keep_prob\")\n",
    "\n",
    "# layers (wrapped with keras)\n",
    "input_to_h1_layer = Dense(hidden_layer_1_nodes, activation='relu')(inputs_)  \n",
    "input_to_h1_layer = tf.nn.dropout(input_to_h1_layer, keep_prob_)\n",
    "\n",
    "# I use tf.nn.dropout instead of keras.layers.Dropout as it isn't currently well connected with\n",
    "# tf workflow, it requires float instead of tensor, furthermore we need to play with K.set_learning_phase() value\n",
    "# and make sure to switch it when we use train to 1 for train and 0 for val set\n",
    "# source: https://github.com/fchollet/keras/issues/3823\n",
    "\n",
    "h1_to_h2_layer = Dense(hidden_layer_2_nodes, activation='relu')(input_to_h1_layer)\n",
    "h1_to_h2_layer = tf.nn.dropout(h1_to_h2_layer, keep_prob_)\n",
    "\n",
    "h2_to_output = Dense(output_layer_nodes, activation='softmax')(h1_to_h2_layer)"
   ]
  },
  {
   "cell_type": "markdown",
   "metadata": {},
   "source": [
    "#### Loss and accuracy assessment"
   ]
  },
  {
   "cell_type": "code",
   "execution_count": 31,
   "metadata": {
    "collapsed": true
   },
   "outputs": [],
   "source": [
    "# loss function (tf.nn.softmax_cross_entropy_with_logits replaced with keras categorical_crossentropy)\n",
    "loss_function = tf.reduce_mean(categorical_crossentropy(targets_, h2_to_output))\n",
    "\n",
    "# gradient descent optimiser\n",
    "optimizer = tf.train.GradientDescentOptimizer(learning_rate_).minimize(loss_function)\n",
    "\n",
    "# accuracy \n",
    "# correct_prediction = tf.equal(tf.argmax(h2_to_o_layer_logits, 1), tf.argmax(targets_, 1))\n",
    "# accuracy = tf.reduce_mean(tf.cast(correct_prediction, tf.float32))\n",
    "# replaced with keras categorical_accuracy -> returns binary value per sample instead of percentage value\n",
    "accuracy = categorical_accuracy(targets_, h2_to_output)"
   ]
  },
  {
   "cell_type": "markdown",
   "metadata": {},
   "source": [
    "#### Batch preparation"
   ]
  },
  {
   "cell_type": "markdown",
   "metadata": {},
   "source": [
    "My own implementation:"
   ]
  },
  {
   "cell_type": "code",
   "execution_count": 32,
   "metadata": {
    "collapsed": true
   },
   "outputs": [],
   "source": [
    "def prepare_mini_batches(data, labels, batch_size):\n",
    "    assert len(data) == len(labels)\n",
    "    \n",
    "    all_batches = list()\n",
    "    for i in range(0, len(data)):\n",
    "        all_batches.append((data[i], labels[i]))\n",
    "    random.shuffle(all_batches)\n",
    "        \n",
    "    mini_batches = list()\n",
    "    while len(all_batches) >= batch_size:\n",
    "        \n",
    "        data_batch = list()\n",
    "        labels_batch = list()\n",
    "        for j in range(0, batch_size):\n",
    "            data, labels = all_batches.pop()\n",
    "            data_batch.append(data)\n",
    "            labels_batch.append(labels)\n",
    "            \n",
    "        mini_batches.append((np.array(data_batch), np.array(labels_batch)))\n",
    "    \n",
    "    return mini_batches"
   ]
  },
  {
   "cell_type": "code",
   "execution_count": 33,
   "metadata": {},
   "outputs": [
    {
     "name": "stdout",
     "output_type": "stream",
     "text": [
      "Input data mini-batch: (128, 784)\n",
      "Input data labels mini-batch: (128, 10)\n"
     ]
    }
   ],
   "source": [
    "# divide trainX, trainY data into batches of size 128, data is copied\n",
    "mini_batches_example = prepare_mini_batches(trainX, trainY, 128)\n",
    "\n",
    "# pop next batches\n",
    "exampleX_batches, exampleY_batches = mini_batches_example.pop()\n",
    "print(\"Input data mini-batch: \" + str(exampleX_batches.shape))\n",
    "print(\"Input data labels mini-batch: \" + str(exampleY_batches.shape))"
   ]
  },
  {
   "cell_type": "markdown",
   "metadata": {},
   "source": [
    "Similar but <u>NOT THE SAME</u> result could be achieved by using `mnist_dataset.train` object."
   ]
  },
  {
   "cell_type": "code",
   "execution_count": 34,
   "metadata": {},
   "outputs": [
    {
     "name": "stdout",
     "output_type": "stream",
     "text": [
      "Input data mini-batch: (128, 784)\n",
      "Input data labels mini-batch: (128, 10)\n"
     ]
    }
   ],
   "source": [
    "# fetching next 128 size RANDOM batches from data in mnist_dataset.traing\n",
    "tf_exampleX_batches, tf_exampleY_batches = mnist_dataset.train.next_batch(128)\n",
    "print(\"Input data mini-batch: \" + str(tf_exampleX_batches.shape))\n",
    "print(\"Input data labels mini-batch: \" + str(tf_exampleY_batches.shape))"
   ]
  },
  {
   "cell_type": "markdown",
   "metadata": {},
   "source": [
    "Main difference between two approaches is:\n",
    "\n",
    "a) With my implementation you make sure that if you iterate over *mini_batches* received from *prepare_mini_batches* function - your whole train data will be inserted into net but with random order. \n",
    "\n",
    "b) With tensorflow implementation you simply receive randomly picked *batch_size* samples. That way it is possible that some of samples from train set will enter net more often than others."
   ]
  },
  {
   "cell_type": "markdown",
   "metadata": {},
   "source": [
    "#### Hyperparameters"
   ]
  },
  {
   "cell_type": "code",
   "execution_count": 35,
   "metadata": {
    "collapsed": true
   },
   "outputs": [],
   "source": [
    "epochs = 65\n",
    "batch_size = 128\n",
    "learning_rate = 0.05\n",
    "keep_prob = 0.5"
   ]
  },
  {
   "cell_type": "markdown",
   "metadata": {
    "collapsed": true
   },
   "source": [
    "####  Training cycle"
   ]
  },
  {
   "cell_type": "code",
   "execution_count": 36,
   "metadata": {
    "collapsed": true
   },
   "outputs": [],
   "source": [
    "session = tf.Session()\n",
    "Keras.set_session(session)"
   ]
  },
  {
   "cell_type": "code",
   "execution_count": 37,
   "metadata": {
    "scrolled": false
   },
   "outputs": [
    {
     "name": "stdout",
     "output_type": "stream",
     "text": [
      "Epoch: 1/65:\n",
      "      - Training loss: 0.706756 (acc: 0.832914)\n",
      "      - Validation loss: 0.349746 (acc: 0.9056)\n",
      "Epoch: 2/65:\n",
      "      - Training loss: 0.300251 (acc: 0.915702)\n",
      "      - Validation loss: 0.253675 (acc: 0.9254)\n",
      "Epoch: 3/65:\n",
      "      - Training loss: 0.23555 (acc: 0.932365)\n",
      "      - Validation loss: 0.212287 (acc: 0.94)\n",
      "Epoch: 4/65:\n",
      "      - Training loss: 0.19782 (acc: 0.942526)\n",
      "      - Validation loss: 0.183266 (acc: 0.9494)\n",
      "Epoch: 5/65:\n",
      "      - Training loss: 0.171394 (acc: 0.949519)\n",
      "      - Validation loss: 0.165609 (acc: 0.954)\n",
      "Epoch: 6/65:\n",
      "      - Training loss: 0.152099 (acc: 0.954673)\n",
      "      - Validation loss: 0.149411 (acc: 0.9576)\n",
      "Epoch: 7/65:\n",
      "      - Training loss: 0.137363 (acc: 0.959262)\n",
      "      - Validation loss: 0.136981 (acc: 0.9614)\n",
      "Epoch: 8/65:\n",
      "      - Training loss: 0.125073 (acc: 0.963378)\n",
      "      - Validation loss: 0.130678 (acc: 0.9632)\n",
      "Epoch: 9/65:\n",
      "      - Training loss: 0.115003 (acc: 0.966273)\n",
      "      - Validation loss: 0.123674 (acc: 0.964)\n",
      "Epoch: 10/65:\n",
      "      - Training loss: 0.106723 (acc: 0.968495)\n",
      "      - Validation loss: 0.116171 (acc: 0.9664)\n",
      "Epoch: 11/65:\n",
      "      - Training loss: 0.0987731 (acc: 0.971646)\n",
      "      - Validation loss: 0.113641 (acc: 0.967)\n",
      "Epoch: 12/65:\n",
      "      - Training loss: 0.09291 (acc: 0.973339)\n",
      "      - Validation loss: 0.108691 (acc: 0.969)\n",
      "Epoch: 13/65:\n",
      "      - Training loss: 0.0871641 (acc: 0.975087)\n",
      "      - Validation loss: 0.102956 (acc: 0.9712)\n",
      "Epoch: 14/65:\n",
      "      - Training loss: 0.0821074 (acc: 0.97689)\n",
      "      - Validation loss: 0.101409 (acc: 0.9704)\n",
      "Epoch: 15/65:\n",
      "      - Training loss: 0.0781266 (acc: 0.977783)\n",
      "      - Validation loss: 0.0988779 (acc: 0.9726)\n",
      "Epoch: 16/65:\n",
      "      - Training loss: 0.0744939 (acc: 0.978675)\n",
      "      - Validation loss: 0.0992511 (acc: 0.9732)\n",
      "Epoch: 17/65:\n",
      "      - Training loss: 0.0710328 (acc: 0.980023)\n",
      "      - Validation loss: 0.0948645 (acc: 0.9736)\n",
      "Epoch: 18/65:\n",
      "      - Training loss: 0.0674929 (acc: 0.980988)\n",
      "      - Validation loss: 0.0910687 (acc: 0.9742)\n",
      "Epoch: 19/65:\n",
      "      - Training loss: 0.0642532 (acc: 0.982026)\n",
      "      - Validation loss: 0.0917348 (acc: 0.9724)\n",
      "Epoch: 20/65:\n",
      "      - Training loss: 0.0613551 (acc: 0.982627)\n",
      "      - Validation loss: 0.0874923 (acc: 0.9752)\n",
      "Epoch: 21/65:\n",
      "      - Training loss: 0.0585921 (acc: 0.983228)\n",
      "      - Validation loss: 0.0873848 (acc: 0.975)\n",
      "Epoch: 22/65:\n",
      "      - Training loss: 0.0562573 (acc: 0.984138)\n",
      "      - Validation loss: 0.086325 (acc: 0.9754)\n",
      "Epoch: 23/65:\n",
      "      - Training loss: 0.053975 (acc: 0.984521)\n",
      "      - Validation loss: 0.0832665 (acc: 0.9758)\n",
      "Epoch: 24/65:\n",
      "      - Training loss: 0.0520472 (acc: 0.985668)\n",
      "      - Validation loss: 0.0841756 (acc: 0.9752)\n",
      "Epoch: 25/65:\n",
      "      - Training loss: 0.050061 (acc: 0.985686)\n",
      "      - Validation loss: 0.0831983 (acc: 0.9762)\n",
      "Epoch: 26/65:\n",
      "      - Training loss: 0.0480024 (acc: 0.98656)\n",
      "      - Validation loss: 0.0824591 (acc: 0.9766)\n",
      "Epoch: 27/65:\n",
      "      - Training loss: 0.0461767 (acc: 0.986852)\n",
      "      - Validation loss: 0.0827513 (acc: 0.9768)\n",
      "Epoch: 28/65:\n",
      "      - Training loss: 0.0448515 (acc: 0.987853)\n",
      "      - Validation loss: 0.0801886 (acc: 0.9774)\n",
      "Epoch: 29/65:\n",
      "      - Training loss: 0.0431167 (acc: 0.988236)\n",
      "      - Validation loss: 0.0792424 (acc: 0.978)\n",
      "Epoch: 30/65:\n",
      "      - Training loss: 0.0412996 (acc: 0.988436)\n",
      "      - Validation loss: 0.0785026 (acc: 0.978)\n",
      "Epoch: 31/65:\n",
      "      - Training loss: 0.0393689 (acc: 0.989128)\n",
      "      - Validation loss: 0.0785453 (acc: 0.978)\n",
      "Epoch: 32/65:\n",
      "      - Training loss: 0.0387201 (acc: 0.989256)\n",
      "      - Validation loss: 0.078229 (acc: 0.9772)\n",
      "Epoch: 33/65:\n",
      "      - Training loss: 0.0372323 (acc: 0.989729)\n",
      "      - Validation loss: 0.0783151 (acc: 0.9782)\n",
      "Epoch: 34/65:\n",
      "      - Training loss: 0.0361599 (acc: 0.989802)\n",
      "      - Validation loss: 0.0784147 (acc: 0.978)\n",
      "Epoch: 35/65:\n",
      "      - Training loss: 0.0347696 (acc: 0.99053)\n",
      "      - Validation loss: 0.0768505 (acc: 0.978)\n",
      "Epoch: 36/65:\n",
      "      - Training loss: 0.033647 (acc: 0.990822)\n",
      "      - Validation loss: 0.0771083 (acc: 0.9778)\n",
      "Epoch: 37/65:\n",
      "      - Training loss: 0.032742 (acc: 0.990822)\n",
      "      - Validation loss: 0.0761557 (acc: 0.9786)\n",
      "Epoch: 38/65:\n",
      "      - Training loss: 0.0320474 (acc: 0.991441)\n",
      "      - Validation loss: 0.0765706 (acc: 0.9778)\n",
      "Epoch: 39/65:\n",
      "      - Training loss: 0.0307101 (acc: 0.991532)\n",
      "      - Validation loss: 0.0753281 (acc: 0.9794)\n",
      "Epoch: 40/65:\n",
      "      - Training loss: 0.0296405 (acc: 0.992005)\n",
      "      - Validation loss: 0.0749709 (acc: 0.9784)\n",
      "Epoch: 41/65:\n",
      "      - Training loss: 0.0288609 (acc: 0.992206)\n",
      "      - Validation loss: 0.0749325 (acc: 0.9798)\n",
      "Epoch: 42/65:\n",
      "      - Training loss: 0.0280893 (acc: 0.992042)\n",
      "      - Validation loss: 0.0731038 (acc: 0.98)\n",
      "Epoch: 43/65:\n",
      "      - Training loss: 0.0262584 (acc: 0.992898)\n",
      "      - Validation loss: 0.073688 (acc: 0.98)\n",
      "Epoch: 44/65:\n",
      "      - Training loss: 0.0264473 (acc: 0.992898)\n",
      "      - Validation loss: 0.073475 (acc: 0.9802)\n",
      "Epoch: 45/65:\n",
      "      - Training loss: 0.0255963 (acc: 0.993244)\n",
      "      - Validation loss: 0.0714219 (acc: 0.9814)\n",
      "Epoch: 46/65:\n",
      "      - Training loss: 0.0245494 (acc: 0.993353)\n",
      "      - Validation loss: 0.071616 (acc: 0.9804)\n",
      "Epoch: 47/65:\n",
      "      - Training loss: 0.0238908 (acc: 0.99359)\n",
      "      - Validation loss: 0.0727428 (acc: 0.9808)\n",
      "Epoch: 48/65:\n",
      "      - Training loss: 0.0232046 (acc: 0.993663)\n",
      "      - Validation loss: 0.0730161 (acc: 0.9812)\n",
      "Epoch: 49/65:\n",
      "      - Training loss: 0.0227312 (acc: 0.993717)\n",
      "      - Validation loss: 0.0732807 (acc: 0.9806)\n",
      "Epoch: 50/65:\n",
      "      - Training loss: 0.0220679 (acc: 0.994209)\n",
      "      - Validation loss: 0.0740969 (acc: 0.9808)\n",
      "Epoch: 51/65:\n",
      "      - Training loss: 0.0218217 (acc: 0.994227)\n",
      "      - Validation loss: 0.0732349 (acc: 0.9816)\n",
      "Epoch: 52/65:\n",
      "      - Training loss: 0.0208615 (acc: 0.994355)\n",
      "      - Validation loss: 0.0720156 (acc: 0.981)\n",
      "Epoch: 53/65:\n",
      "      - Training loss: 0.0200937 (acc: 0.994573)\n",
      "      - Validation loss: 0.0709684 (acc: 0.9806)\n",
      "Epoch: 54/65:\n",
      "      - Training loss: 0.0197369 (acc: 0.994555)\n",
      "      - Validation loss: 0.0721383 (acc: 0.9806)\n",
      "Epoch: 55/65:\n",
      "      - Training loss: 0.0196941 (acc: 0.994719)\n",
      "      - Validation loss: 0.0707682 (acc: 0.9814)\n",
      "Epoch: 56/65:\n",
      "      - Training loss: 0.0187813 (acc: 0.994919)\n",
      "      - Validation loss: 0.0745904 (acc: 0.98)\n",
      "Epoch: 57/65:\n",
      "      - Training loss: 0.0185411 (acc: 0.99501)\n",
      "      - Validation loss: 0.0706748 (acc: 0.9814)\n",
      "Epoch: 58/65:\n",
      "      - Training loss: 0.017977 (acc: 0.995338)\n",
      "      - Validation loss: 0.0734925 (acc: 0.9812)\n",
      "Epoch: 59/65:\n",
      "      - Training loss: 0.017915 (acc: 0.995247)\n",
      "      - Validation loss: 0.0713573 (acc: 0.981)\n",
      "Epoch: 60/65:\n",
      "      - Training loss: 0.017283 (acc: 0.995447)\n",
      "      - Validation loss: 0.0703949 (acc: 0.9812)\n",
      "Epoch: 61/65:\n",
      "      - Training loss: 0.016893 (acc: 0.995538)\n",
      "      - Validation loss: 0.0711771 (acc: 0.9808)\n",
      "Epoch: 62/65:\n",
      "      - Training loss: 0.016126 (acc: 0.995757)\n",
      "      - Validation loss: 0.0702621 (acc: 0.9806)\n",
      "Epoch: 63/65:\n",
      "      - Training loss: 0.0159649 (acc: 0.995957)\n",
      "      - Validation loss: 0.0710699 (acc: 0.981)\n",
      "Epoch: 64/65:\n",
      "      - Training loss: 0.0155294 (acc: 0.995866)\n",
      "      - Validation loss: 0.070551 (acc: 0.9824)\n",
      "Epoch: 65/65:\n",
      "      - Training loss: 0.0152414 (acc: 0.995903)\n",
      "      - Validation loss: 0.0725861 (acc: 0.9806)\n"
     ]
    }
   ],
   "source": [
    "info = {'train':[], 'validation':[], 'train_acc':[], 'validation_acc':[]}\n",
    "\n",
    "session.run(tf.global_variables_initializer())\n",
    "for epoch in range(epochs):\n",
    "    mini_batches = prepare_mini_batches(trainX, trainY, batch_size)\n",
    "\n",
    "    epoch_losses = []\n",
    "    epoch_accuracy = []\n",
    "    while mini_batches:\n",
    "        data_inputs, data_labels = mini_batches.pop()\n",
    "\n",
    "        session.run(optimizer,\n",
    "                    feed_dict={inputs_: data_inputs, \n",
    "                               targets_: data_labels, \n",
    "                               learning_rate_: learning_rate,\n",
    "                               keep_prob_: keep_prob})\n",
    "\n",
    "        batch_loss = session.run(loss_function, feed_dict={inputs_: data_inputs, \n",
    "                                                           targets_: data_labels,\n",
    "                                                           keep_prob_: 1.})\n",
    "\n",
    "        batch_acc = session.run(accuracy, feed_dict={inputs_:data_inputs, \n",
    "                                                     targets_: data_labels,\n",
    "                                                     keep_prob_: 1.})\n",
    "        batch_acc = np.mean(batch_acc)\n",
    "\n",
    "        epoch_losses.append(batch_loss)\n",
    "        epoch_accuracy.append(batch_acc)\n",
    "\n",
    "    train_loss = np.mean(epoch_losses)\n",
    "    info['train'].append(train_loss)\n",
    "\n",
    "    train_accuracy = np.mean(epoch_accuracy)\n",
    "    info['train_acc'].append(train_accuracy)\n",
    "\n",
    "    val_loss = session.run(loss_function, feed_dict={inputs_: valX, \n",
    "                                                     targets_: valY,\n",
    "                                                     keep_prob_: 1.})\n",
    "    info['validation'].append(val_loss)\n",
    "\n",
    "    val_accuracy = session.run(accuracy, feed_dict={inputs_: valX, \n",
    "                                                    targets_: valY,\n",
    "                                                    keep_prob_: 1.})\n",
    "    val_accuracy = np.mean(val_accuracy)\n",
    "    info['validation_acc'].append(val_accuracy)\n",
    "\n",
    "    print(\"Epoch: \" + str(epoch + 1) + \"/\" + str(epochs) + \":\\n\"\n",
    "          + \"      - Training loss: \" + str(train_loss) + \" (acc: \" + str(train_accuracy) + \")\\n\"\n",
    "          + \"      - Validation loss: \" + str(val_loss) + \" (acc: \" + str(val_accuracy) + \")\")"
   ]
  },
  {
   "cell_type": "markdown",
   "metadata": {},
   "source": [
    "#### Results"
   ]
  },
  {
   "cell_type": "code",
   "execution_count": 38,
   "metadata": {},
   "outputs": [
    {
     "data": {
      "image/png": "[encoded data removed]",
      "text/plain": [
       "<matplotlib.figure.Figure at 0x124142dd8>"
      ]
     },
     "metadata": {},
     "output_type": "display_data"
    }
   ],
   "source": [
    "fig1 = plt.figure()\n",
    "ax1 = fig1.add_subplot(111)\n",
    "ax1.plot(info['train_acc'], label='Training acc')\n",
    "ax1.plot(info['validation_acc'], label='Validation acc')\n",
    "blue_patch = mpatches.Patch(color='#699cef', label='Training accuracy')\n",
    "orange_patch = mpatches.Patch(color='orange', label='Validation accuracy')\n",
    "ax1.legend(handles=[blue_patch, orange_patch])\n",
    "plt.show()"
   ]
  },
  {
   "cell_type": "code",
   "execution_count": 39,
   "metadata": {},
   "outputs": [
    {
     "data": {
      "image/png": "[encoded data removed]",
      "text/plain": [
       "<matplotlib.figure.Figure at 0x123f6eda0>"
      ]
     },
     "metadata": {},
     "output_type": "display_data"
    }
   ],
   "source": [
    "fig1 = plt.figure()\n",
    "ax2 = fig1.add_subplot(111)\n",
    "ax2.plot(info['train'], label='Training loss')\n",
    "ax2.plot(info['validation'], label='Validation loss')\n",
    "blue_patch = mpatches.Patch(color='#699cef', label='Training cross-entropy')\n",
    "orange_patch = mpatches.Patch(color='orange', label='Validation cross-entropy')\n",
    "ax2.legend(handles=[blue_patch, orange_patch])\n",
    "plt.show()"
   ]
  },
  {
   "cell_type": "code",
   "execution_count": 42,
   "metadata": {},
   "outputs": [
    {
     "name": "stdout",
     "output_type": "stream",
     "text": [
      "Test dataset accuracy: 0.9808\n"
     ]
    }
   ],
   "source": [
    "test_accuracy = accuracy.eval(session=session, feed_dict={inputs_: testX, targets_: testY, keep_prob_: 1.})\n",
    "test_accuracy = np.mean(test_accuracy)\n",
    "print(\"Test dataset accuracy: \" + str(test_accuracy))"
   ]
  },
  {
   "cell_type": "code",
   "execution_count": 43,
   "metadata": {
    "collapsed": true
   },
   "outputs": [],
   "source": [
    "session.close()"
   ]
  }
 ],
 "metadata": {
  "kernelspec": {
   "display_name": "Python 3",
   "language": "python",
   "name": "python3"
  }
 },
 "nbformat": 4,
 "nbformat_minor": 2
}
